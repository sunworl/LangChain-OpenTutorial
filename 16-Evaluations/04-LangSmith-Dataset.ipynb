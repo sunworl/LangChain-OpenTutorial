{
  "cells": [
    {
      "cell_type": "markdown",
      "id": "635d8ebb",
      "metadata": {},
      "source": [
        "# LangSmith-Dataset \n",
        "\n",
        "- Author: [Minji](https://github.com/r14minji)\n",
        "- Design: \n",
        "- Peer Review: \n",
        "- This is a part of [LangChain Open Tutorial](https://github.com/LangChain-OpenTutorial/LangChain-OpenTutorial)\n",
        "\n",
        "[![Open in Colab](https://colab.research.google.com/assets/colab-badge.svg)](https://colab.research.google.com/github/LangChain-OpenTutorial/LangChain-OpenTutorial/blob/main/99-TEMPLATE/00-BASE-TEMPLATE-EXAMPLE.ipynb) [![Open in GitHub](https://img.shields.io/badge/Open%20in%20GitHub-181717?style=flat-square&logo=github&logoColor=white)](https://github.com/LangChain-OpenTutorial/LangChain-OpenTutorial/blob/main/99-TEMPLATE/00-BASE-TEMPLATE-EXAMPLE.ipynb)\n",
        "\n",
        "## Overview\n",
        "\n",
        "The notebook demonstrates how to create a **dataset for evaluating Retrieval-Augmented Generation (RAG) models using LangSmith.** It includes steps for setting up environment variables, creating datasets with questions and answers, and uploading examples to LangSmith for testing. Additionally, it provides instructions on using HuggingFace datasets and updating datasets with new examples.\n",
        "\n",
        "### Table of Contents\n",
        "\n",
        "- [Overview](#overview)\n",
        "- [Environment Setup](#environment-setup)\n",
        "- [Creating a LangSmith Dataset](#creating-a-langsmith-dataset)\n",
        "- [Creating Examples for LangSmith Dataset](#creating-examples-for-langsmith-dataset)\n",
        "- [Creating a Dataset for LangSmith Testing](#creating-a-dataset-for-langsmith-testing)\n",
        "\n",
        "\n",
        "### References\n",
        "\n",
        "- [LangChain](https://blog.langchain.dev/)\n",
        "- [LangSmith](https://docs.smith.langchain.com)\n",
        "----"
      ]
    },
    {
      "cell_type": "markdown",
      "id": "c6c7aba4",
      "metadata": {},
      "source": [
        "## Environment Setup\n",
        "\n",
        "Setting up your environment is the first step. See the [Environment Setup](https://wikidocs.net/257836) guide for more details.\n",
        "\n",
        "\n",
        "**[Note]**\n",
        "\n",
        "The langchain-opentutorial is a package of easy-to-use environment setup guidance, useful functions and utilities for tutorials.\n",
        "Check out the  [`langchain-opentutorial`](https://github.com/LangChain-OpenTutorial/langchain-opentutorial-pypi) for more details."
      ]
    },
    {
      "cell_type": "code",
      "execution_count": 2,
      "id": "21943adb",
      "metadata": {},
      "outputs": [],
      "source": [
        "%%capture --no-stderr\n",
        "%pip install langchain-opentutorial"
      ]
    },
    {
      "cell_type": "code",
      "execution_count": 3,
      "id": "f25ec196",
      "metadata": {},
      "outputs": [
        {
          "name": "stderr",
          "output_type": "stream",
          "text": [
            "\n",
            "\u001b[1m[\u001b[0m\u001b[34;49mnotice\u001b[0m\u001b[1;39;49m]\u001b[0m\u001b[39;49m A new release of pip is available: \u001b[0m\u001b[31;49m24.3.1\u001b[0m\u001b[39;49m -> \u001b[0m\u001b[32;49m25.0\u001b[0m\n",
            "\u001b[1m[\u001b[0m\u001b[34;49mnotice\u001b[0m\u001b[1;39;49m]\u001b[0m\u001b[39;49m To update, run: \u001b[0m\u001b[32;49mpip install --upgrade pip\u001b[0m\n"
          ]
        }
      ],
      "source": [
        "# Install required packages\n",
        "from langchain_opentutorial import package\n",
        "\n",
        "package.install(\n",
        "    [\n",
        "        \"langsmith\",\n",
        "        \"langchain\",\n",
        "    ],\n",
        "    verbose=False,\n",
        "    upgrade=False,\n",
        ")"
      ]
    },
    {
      "cell_type": "markdown",
      "id": "690a9ae0",
      "metadata": {},
      "source": [
        "You can set API keys in a `.env` file or set them manually.\n",
        "\n",
        "[Note] If you’re not using the `.env` file, no worries! Just enter the keys directly in the cell below, and you’re good to go."
      ]
    },
    {
      "cell_type": "code",
      "execution_count": 4,
      "id": "327c2c7c",
      "metadata": {},
      "outputs": [],
      "source": [
        "from dotenv import load_dotenv\n",
        "from langchain_opentutorial import set_env\n",
        "\n",
        "# Attempt to load environment variables from a .env file; if unsuccessful, set them manually.\n",
        "if not load_dotenv():\n",
        "    set_env(\n",
        "        {\n",
        "            \"OPENAI_API_KEY\": \"\",\n",
        "            \"LANGCHAIN_API_KEY\": \"\",\n",
        "            \"LANGCHAIN_TRACING_V2\": \"true\",\n",
        "            \"LANGCHAIN_ENDPOINT\": \"https://api.smith.langchain.com\",\n",
        "            \"LANGCHAIN_PROJECT\": \"04-LangSmith-Dataset \",  # set the project name same as the title\n",
        "            \"HUGGINGFACEHUB_API_TOKEN\": \"\",\n",
        "        }\n",
        "    )"
      ]
    },
    {
      "cell_type": "markdown",
      "id": "f014a100",
      "metadata": {},
      "source": [
        "You can alternatively set API keys such as `OPENAI_API_KEY` in a `.env` file and load them.\n",
        "\n",
        "[Note] This is not necessary if you've already set the required API keys in previous steps."
      ]
    },
    {
      "cell_type": "code",
      "execution_count": 5,
      "id": "53b11f79",
      "metadata": {},
      "outputs": [
        {
          "data": {
            "text/plain": [
              "True"
            ]
          },
          "execution_count": 5,
          "metadata": {},
          "output_type": "execute_result"
        }
      ],
      "source": [
        "# Configuration file to manage the API KEY as an environment variable\n",
        "from dotenv import load_dotenv\n",
        "\n",
        "# Load API KEY information\n",
        "load_dotenv(override=True)"
      ]
    },
    {
      "cell_type": "markdown",
      "id": "aa00c3f4",
      "metadata": {},
      "source": [
        "## Creating a LangSmith Dataset\n",
        "\n",
        "Let's learn how to build a custom RAG evaluation dataset.\n",
        "\n",
        "To construct a dataset, you need to understand three main processes:\n",
        "\n",
        "Case: Evaluating whether the retrieval is relevant to the question\n",
        "\n",
        "> Question - Retrieval\n",
        "\n",
        "![](./assets/04-langsmith-dataset-01.png)\n",
        "\n",
        "Case: Evaluating whether the answer is relevant to the question\n",
        "\n",
        "> Question - Answer\n",
        "\n",
        "![](./assets/04-langsmith-dataset-02.png)\n",
        "\n",
        "Case: Checking if the answer is based on the retrieved documents (Hallucination Check)\n",
        "\n",
        "> Retrieval - Answer\n",
        "\n",
        "![](./assets/04-langsmith-dataset-03.png)\n",
        "\n",
        "Thus, you typically need `Question`, `Retrieval`, and `Answer` information. However, it is practically challenging to construct ground truth for `Retrieval`.\n",
        "\n",
        "\n",
        "If ground truth for `Retrieval` exists, you can save and use it all in your dataset. Otherwise, you can create and use a dataset with only `Question` and `Answer`"
      ]
    },
    {
      "cell_type": "markdown",
      "id": "fb68938f",
      "metadata": {},
      "source": [
        "## Creating Examples for LangSmith Dataset\n",
        "\n",
        "Use `inputs` and `outputs` to create a dataset.\n",
        "\n",
        "The dataset consists of `questions` and `answers`."
      ]
    },
    {
      "cell_type": "code",
      "execution_count": 7,
      "id": "62f970c2",
      "metadata": {},
      "outputs": [
        {
          "data": {
            "text/html": [
              "<div>\n",
              "<style scoped>\n",
              "    .dataframe tbody tr th:only-of-type {\n",
              "        vertical-align: middle;\n",
              "    }\n",
              "\n",
              "    .dataframe tbody tr th {\n",
              "        vertical-align: top;\n",
              "    }\n",
              "\n",
              "    .dataframe thead th {\n",
              "        text-align: right;\n",
              "    }\n",
              "</style>\n",
              "<table border=\"1\" class=\"dataframe\">\n",
              "  <thead>\n",
              "    <tr style=\"text-align: right;\">\n",
              "      <th></th>\n",
              "      <th>question</th>\n",
              "      <th>answer</th>\n",
              "    </tr>\n",
              "  </thead>\n",
              "  <tbody>\n",
              "    <tr>\n",
              "      <th>0</th>\n",
              "      <td>What is the name of the generative AI created ...</td>\n",
              "      <td>The name of the generative AI created by Samsu...</td>\n",
              "    </tr>\n",
              "    <tr>\n",
              "      <th>1</th>\n",
              "      <td>On what date did U.S. President Biden issue an...</td>\n",
              "      <td>On October 30, 2023, U.S. President Biden issu...</td>\n",
              "    </tr>\n",
              "    <tr>\n",
              "      <th>2</th>\n",
              "      <td>Please briefly describe Cohere's data provenan...</td>\n",
              "      <td>Cohere's data provenance explorer is a platfor...</td>\n",
              "    </tr>\n",
              "  </tbody>\n",
              "</table>\n",
              "</div>"
            ],
            "text/plain": [
              "                                            question                                             answer\n",
              "0  What is the name of the generative AI created ...  The name of the generative AI created by Samsu...\n",
              "1  On what date did U.S. President Biden issue an...  On October 30, 2023, U.S. President Biden issu...\n",
              "2  Please briefly describe Cohere's data provenan...  Cohere's data provenance explorer is a platfor..."
            ]
          },
          "execution_count": 7,
          "metadata": {},
          "output_type": "execute_result"
        }
      ],
      "source": [
        "import pandas as pd\n",
        "\n",
        "# List of questions and answers\n",
        "inputs = [\n",
        "    \"What is the name of the generative AI created by Samsung Electronics?\",\n",
        "    \"On what date did U.S. President Biden issue an executive order ensuring safe and trustworthy AI development and usage?\",\n",
        "    \"Please briefly describe Cohere's data provenance explorer.\"\n",
        "]\n",
        "\n",
        "# List of corresponding answers\n",
        "outputs = [\n",
        "    \"The name of the generative AI created by Samsung Electronics is Samsung Gauss.\",\n",
        "    \"On October 30, 2023, U.S. President Biden issued an executive order.\",\n",
        "    \"Cohere's data provenance explorer is a platform that tracks the sources and licensing status of datasets used for training AI models, ensuring transparency. It collaborates with 12 organizations and provides source information for over 2,000 datasets, helping developers understand data composition and lineage.\",\n",
        "]\n",
        "\n",
        "# Create question-answer pairs\n",
        "qa_pairs = [{\"question\": q, \"answer\": a} for q, a in zip(inputs, outputs)]\n",
        "\n",
        "# Convert to a DataFrame\n",
        "df = pd.DataFrame(qa_pairs)\n",
        "\n",
        "# Display the DataFrame,\n",
        "df.head()"
      ]
    },
    {
      "cell_type": "markdown",
      "id": "40373119",
      "metadata": {},
      "source": [
        "Alternatively, you can use the Synthetic Dataset generated in a previous tutorial.\n",
        "\n",
        "The code below shows an example of using an uploaded HuggingFace Dataset."
      ]
    },
    {
      "cell_type": "code",
      "execution_count": 8,
      "id": "25c5f5a9",
      "metadata": {},
      "outputs": [
        {
          "name": "stdout",
          "output_type": "stream",
          "text": [
            "\n",
            "\u001b[1m[\u001b[0m\u001b[34;49mnotice\u001b[0m\u001b[1;39;49m]\u001b[0m\u001b[39;49m A new release of pip is available: \u001b[0m\u001b[31;49m24.3.1\u001b[0m\u001b[39;49m -> \u001b[0m\u001b[32;49m25.0\u001b[0m\n",
            "\u001b[1m[\u001b[0m\u001b[34;49mnotice\u001b[0m\u001b[1;39;49m]\u001b[0m\u001b[39;49m To update, run: \u001b[0m\u001b[32;49mpip install --upgrade pip\u001b[0m\n",
            "Note: you may need to restart the kernel to use updated packages.\n"
          ]
        }
      ],
      "source": [
        "%pip install -qU datasets"
      ]
    },
    {
      "cell_type": "markdown",
      "id": "e1dca4e7",
      "metadata": {},
      "source": [
        "After installing the package, you may need to restart the kernel for the changes to take effect. This is because newly installed packages might not be recognized immediately in the current session.\n",
        "\n",
        "In Google Colab, you must run %pip install each time you start a new session, even if you installed the package before. Colab environments are temporary, so installed packages are lost when the session restarts."
      ]
    },
    {
      "cell_type": "code",
      "execution_count": null,
      "id": "fb8d6dc2",
      "metadata": {},
      "outputs": [
        {
          "data": {
            "application/vnd.jupyter.widget-view+json": {
              "model_id": "d10659992e0f48afa411e86bfb1b82e4",
              "version_major": 2,
              "version_minor": 0
            },
            "text/plain": [
              "README.md:   0%|          | 0.00/408 [00:00<?, ?B/s]"
            ]
          },
          "metadata": {},
          "output_type": "display_data"
        },
        {
          "data": {
            "application/vnd.jupyter.widget-view+json": {
              "model_id": "b66931d8f4cc4139ad819111e2c4e03f",
              "version_major": 2,
              "version_minor": 0
            },
            "text/plain": [
              "test_v1-00000-of-00001.parquet:   0%|          | 0.00/21.1k [00:00<?, ?B/s]"
            ]
          },
          "metadata": {},
          "output_type": "display_data"
        },
        {
          "data": {
            "application/vnd.jupyter.widget-view+json": {
              "model_id": "7b72bccaac43433d8a8e159ea4d16267",
              "version_major": 2,
              "version_minor": 0
            },
            "text/plain": [
              "Generating test_v1 split:   0%|          | 0/10 [00:00<?, ? examples/s]"
            ]
          },
          "metadata": {},
          "output_type": "display_data"
        },
        {
          "data": {
            "text/html": [
              "<div>\n",
              "<style scoped>\n",
              "    .dataframe tbody tr th:only-of-type {\n",
              "        vertical-align: middle;\n",
              "    }\n",
              "\n",
              "    .dataframe tbody tr th {\n",
              "        vertical-align: top;\n",
              "    }\n",
              "\n",
              "    .dataframe thead th {\n",
              "        text-align: right;\n",
              "    }\n",
              "</style>\n",
              "<table border=\"1\" class=\"dataframe\">\n",
              "  <thead>\n",
              "    <tr style=\"text-align: right;\">\n",
              "      <th></th>\n",
              "      <th>user_input</th>\n",
              "      <th>reference_contexts</th>\n",
              "      <th>reference</th>\n",
              "      <th>synthesizer_name</th>\n",
              "    </tr>\n",
              "  </thead>\n",
              "  <tbody>\n",
              "    <tr>\n",
              "      <th>0</th>\n",
              "      <td>Wht is an API?</td>\n",
              "      <td>[\"Agents\\nThis combination of reasoning,\\nlogi...</td>\n",
              "      <td>An API can be used by a model to make various ...</td>\n",
              "      <td>single_hop_specifc_query_synthesizer</td>\n",
              "    </tr>\n",
              "    <tr>\n",
              "      <th>1</th>\n",
              "      <td>What are the three essential components in an ...</td>\n",
              "      <td>['Agents\\nWhat is an agent?\\nIn its most funda...</td>\n",
              "      <td>The three essential components in an agent's c...</td>\n",
              "      <td>single_hop_specifc_query_synthesizer</td>\n",
              "    </tr>\n",
              "    <tr>\n",
              "      <th>2</th>\n",
              "      <td>What Chain-of-Thought do in agent model, how i...</td>\n",
              "      <td>['Agents\\nFigure 1. General agent architecture...</td>\n",
              "      <td>Chain-of-Thought is a reasoning and logic fram...</td>\n",
              "      <td>single_hop_specifc_query_synthesizer</td>\n",
              "    </tr>\n",
              "    <tr>\n",
              "      <th>3</th>\n",
              "      <td>Waht is the DELETE method used for?</td>\n",
              "      <td>['Agents\\nThe tools\\nFoundational models, desp...</td>\n",
              "      <td>The DELETE method is a common web API method t...</td>\n",
              "      <td>single_hop_specifc_query_synthesizer</td>\n",
              "    </tr>\n",
              "    <tr>\n",
              "      <th>4</th>\n",
              "      <td>How do foundational components contribute to t...</td>\n",
              "      <td>['&lt;1-hop&gt;\\n\\nAgents\\ncombining specialized age...</td>\n",
              "      <td>Foundational components contribute to the cogn...</td>\n",
              "      <td>NewMultiHopQuery</td>\n",
              "    </tr>\n",
              "  </tbody>\n",
              "</table>\n",
              "</div>"
            ],
            "text/plain": [
              "                                          user_input  ...                      synthesizer_name\n",
              "0                                     Wht is an API?  ...  single_hop_specifc_query_synthesizer\n",
              "1  What are the three essential components in an ...  ...  single_hop_specifc_query_synthesizer\n",
              "2  What Chain-of-Thought do in agent model, how i...  ...  single_hop_specifc_query_synthesizer\n",
              "3                Waht is the DELETE method used for?  ...  single_hop_specifc_query_synthesizer\n",
              "4  How do foundational components contribute to t...  ...                      NewMultiHopQuery\n",
              "\n",
              "[5 rows x 4 columns]"
            ]
          },
          "execution_count": 14,
          "metadata": {},
          "output_type": "execute_result"
        }
      ],
      "source": [
        "from datasets import load_dataset\n",
        "import os\n",
        "\n",
        "# Set dataset name (change to your desired name)\n",
        "huggingface_id = \"\"  # Your Hugging Face username(ID)\n",
        "dataset_name = f\"{huggingface_id}/rag-synthetic-dataset\"\n",
        "\n",
        "# Download dataset from HuggingFace Dataset using the repo_id\n",
        "dataset = load_dataset(\n",
        "    dataset_name,\n",
        "    token=os.environ[\"HUGGINGFACEHUB_API_TOKEN\"], \n",
        ")\n",
        "\n",
        "# View dataset by split\n",
        "huggingface_df = dataset[\"test_v1\"].to_pandas()\n",
        "huggingface_df.head()"
      ]
    },
    {
      "cell_type": "markdown",
      "id": "d38f536e",
      "metadata": {},
      "source": [
        "## Creating a Dataset for LangSmith Testing\n",
        "\n",
        "- Create a new dataset under `Datasets & Testing`.\n",
        "\n",
        "![](./assets/langsmith-dataset-04.png)\n",
        "\n",
        "You can also create a dataset directly using the LangSmith UI from a CSV file.\n",
        "\n",
        "For more details, refer to the documentation below:\n",
        "\n",
        "- [LangSmith UI Documentation](https://docs.smith.langchain.com/observability/how_to_guides/tracing/upload_files_with_traces)\n",
        "\n"
      ]
    },
    {
      "cell_type": "code",
      "execution_count": 15,
      "id": "775c632b",
      "metadata": {},
      "outputs": [],
      "source": [
        "from langsmith import Client\n",
        "\n",
        "client = Client()\n",
        "dataset_name = \"RAG_EVAL_DATASET\"\n",
        "\n",
        "\n",
        "# Function to create a dataset\n",
        "def create_dataset(client, dataset_name, description=None):\n",
        "    for dataset in client.list_datasets():\n",
        "        if dataset.name == dataset_name:\n",
        "            return dataset\n",
        "\n",
        "    dataset = client.create_dataset(\n",
        "        dataset_name=dataset_name,\n",
        "        description=description,\n",
        "    )\n",
        "    return dataset\n",
        "\n",
        "\n",
        "# Create dataset\n",
        "dataset = create_dataset(client, dataset_name)\n",
        "\n",
        "# Add examples to the created dataset\n",
        "client.create_examples(\n",
        "    inputs=[{\"question\": q} for q in df[\"question\"].tolist()],\n",
        "    outputs=[{\"answer\": a} for a in df[\"answer\"].tolist()],\n",
        "    dataset_id=dataset.id,\n",
        ")\n"
      ]
    },
    {
      "cell_type": "markdown",
      "id": "030a7674",
      "metadata": {},
      "source": [
        "You can add examples to the dataset later."
      ]
    },
    {
      "cell_type": "code",
      "execution_count": 16,
      "id": "fb9c0372",
      "metadata": {},
      "outputs": [],
      "source": [
        "# New list of questions\n",
        "new_questions = [\n",
        "    \"What is the name of the generative AI created by Samsung Electronics?\",\n",
        "    \"Is it true that Google invested $2 billion in Teddynote?\",\n",
        "]\n",
        "\n",
        "# New list of corresponding answers\n",
        "new_answers = [\n",
        "    \"The name of the generative AI created by Samsung Electronics is Teddynote.\",\n",
        "    \"This is not true. Google agreed to invest up to $2 billion in Anthropic, starting with $500 million and planning to invest an additional $1.5 billion in the future.\",\n",
        "]\n",
        "\n",
        "# Verify the updated version in the UI\n",
        "client.create_examples(\n",
        "    inputs=[{\"question\": q} for q in new_questions],\n",
        "    outputs=[{\"answer\": a} for a in new_answers],\n",
        "    dataset_id=dataset.id,\n",
        ")\n"
      ]
    },
    {
      "cell_type": "markdown",
      "id": "98954d36",
      "metadata": {},
      "source": [
        "Congratulations! The dataset is now ready."
      ]
    }
  ],
  "metadata": {
    "kernelspec": {
      "display_name": "langchain-opentutorial-LLYV5Gls-py3.11",
      "language": "python",
      "name": "python3"
    },
    "language_info": {
      "codemirror_mode": {
        "name": "ipython",
        "version": 3
      },
      "file_extension": ".py",
      "mimetype": "text/x-python",
      "name": "python",
      "nbconvert_exporter": "python",
      "pygments_lexer": "ipython3",
      "version": "3.11.11"
    }
  },
  "nbformat": 4,
  "nbformat_minor": 5
}
