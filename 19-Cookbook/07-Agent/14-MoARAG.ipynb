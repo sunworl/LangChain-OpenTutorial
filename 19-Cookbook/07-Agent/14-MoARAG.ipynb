{
 "cells": [
  {
   "cell_type": "markdown",
   "metadata": {},
   "source": [
    "# MoA(Mixture of Agents) Search\n",
    "\n",
    "- Author: [Kane](https://github.com/HarryKane11)\n",
    "- Design:\n",
    "- Peer Review: \n",
    "- This is a part of [LangChain Open Tutorial](https://github.com/LangChain-OpenTutorial/LangChain-OpenTutorial)\n",
    "\n",
    "[![Open in Colab](https://colab.research.google.com/assets/colab-badge.svg)](https://colab.research.google.com/github/LangChain-OpenTutorial/LangChain-OpenTutorial/blob/main/19-Cookbook/02-RecommendationSystem/03-ResumeRecommendationReview.ipynb) [![Open in GitHub](https://img.shields.io/badge/Open%20in%20GitHub-181717?style=flat-square&logo=github&logoColor=white)](https://github.com/LangChain-OpenTutorial/LangChain-OpenTutorial/blob/main/19-Cookbook/02-RecommendationSystem/03-ResumeRecommendationReview.ipynb)\n",
    "\n",
    "## Overview\n",
    "\n",
    "This code implements a sophisticated Multi-Model Search and Analysis System designed to provide comprehensive answers to user queries through a distributed search and analysis workflow.\n",
    "The system architecture consists of three main components:\n",
    "\n",
    "- Query Generation and Search\n",
    "  - The system generates multiple search queries from the user's question using GPT-4o, ensuring comprehensive coverage of the topic. These queries are then executed in parallel using the Tavily Search API for efficient information gathering.\n",
    "- Multi-Model Analysis\n",
    "  - The aggregated search results are processed independently by three different language models (GPT-4o Mini, Claude Haiku, and Gemini 1.5 Flash 8B). Each model provides its unique perspective and analysis, complete with citations to source materials.\n",
    "- Result Synthesis\n",
    "- The system collects analyses from all models and synthesizes them using GPT-4o, producing a comprehensive response that incorporates diverse viewpoints while maintaining citation accuracy.\n",
    "\n",
    "**Key Features**:\n",
    "\n",
    "- Parallel Processing: Implements a map-reduce pattern for efficient search execution and analysis distribution across multiple models.\n",
    "- Multi-Model Architecture: Leverages three distinct AI models to analyze search results from different perspectives, ensuring a balanced and thorough analysis.\n",
    "- Dynamic Workflow: Built on LangGraph's state management system, enabling real-time result streaming and flexible execution paths while maintaining robust state management throughout the process.\n",
    "\n",
    "This system is particularly effective for complex queries requiring comprehensive information gathering and analysis, leveraging the strengths of multiple AI models to provide thorough and balanced responses.\n",
    "\n",
    "### Table of Contents\n",
    "\n",
    "- [Overview](#overview)\n",
    "- [Environment Setup](#environment-setup)\n",
    "- [State and Models Setup](#state-and-models-setup)\n",
    "- [Query Generation](#query-generation)\n",
    "- [Search Task Creation](#search-task-creation)\n",
    "- [Aggregating Search Results](#aggregating-search-results)\n",
    "- [Analysis Task Creation](#analysis-task-creation)\n",
    "- [Model Analysis](#model-analysis)\n",
    "- [Synthesizing Results](#synthesizing-results)\n",
    "- [Helper Functions and Execution](#helper-functions-and-execution)\n",
    "\n",
    "### References\n",
    "\n",
    "- [Genspark - Enhancements in Mixture of Agents](https://www.genspark.ai/spark/enhancements-in-mixture-of-agents/073b2415-5101-42b0-abe4-59f62410c8f0)\n",
    "- [Langgraph - Map & Reduce](https://langchain-ai.github.io/langgraph/how-tos/map-reduce/)\n",
    "- [Tavily](https://tavily.com/)\n",
    "---"
   ]
  },
  {
   "cell_type": "markdown",
   "metadata": {},
   "source": [
    "## Environment Setup\n",
    "\n",
    "Set up the environment. You may refer to [Environment Setup](https://wikidocs.net/257836) for more details.\n",
    "\n",
    "**[Note]**\n",
    "\n",
    "- `langchain-opentutorial` is a package that provides a set of easy-to-use environment setup, useful functions and utilities for tutorials.\n",
    "- You can checkout the [`langchain-opentutorial`](https://github.com/LangChain-OpenTutorial/langchain-opentutorial-pypi) for more details.\n"
   ]
  },
  {
   "cell_type": "code",
   "execution_count": 76,
   "metadata": {},
   "outputs": [
    {
     "name": "stderr",
     "output_type": "stream",
     "text": [
      "\n",
      "[notice] A new release of pip is available: 24.3.1 -> 25.0\n",
      "[notice] To update, run: python.exe -m pip install --upgrade pip\n"
     ]
    },
    {
     "name": "stdout",
     "output_type": "stream",
     "text": [
      "Requirement already satisfied: langchain-opentutorial in c:\\users\\gram\\appdata\\local\\pypoetry\\cache\\virtualenvs\\langchain-opentutorial-rxtdr8w5-py3.11\\lib\\site-packages (0.0.3)\n"
     ]
    }
   ],
   "source": [
    "%%capture --no-stderr\n",
    "%pip install langchain-opentutorial"
   ]
  },
  {
   "cell_type": "code",
   "execution_count": 26,
   "metadata": {},
   "outputs": [],
   "source": [
    "# Install required packages\n",
    "from langchain_opentutorial import package\n",
    "\n",
    "package.install(\n",
    "    [\n",
    "        \"langchain-community\",\n",
    "        \"langchain-openai\",\n",
    "        \"langchain-anthropic\",\n",
    "        \"langchain-google-genai\",\n",
    "        \"langgraph\"\n",
    "    ],\n",
    "    verbose=False,\n",
    "    upgrade=False,\n",
    ")"
   ]
  },
  {
   "cell_type": "code",
   "execution_count": 27,
   "metadata": {},
   "outputs": [
    {
     "name": "stdout",
     "output_type": "stream",
     "text": [
      "Environment variables have been set successfully.\n"
     ]
    }
   ],
   "source": [
    "# Set environment variables\n",
    "\n",
    "from langchain_opentutorial import set_env\n",
    "\n",
    "set_env(\n",
    "    {\n",
    "        \"LANGCHAIN_API_KEY\": \"\",\n",
    "        \"LANGCHAIN_TRACING_V2\": \"true\",\n",
    "        \"LANGCHAIN_ENDPOINT\": \"https://api.smith.langchain.com\",\n",
    "        \"LANGCHAIN_PROJECT\": \"07-Agent\",\n",
    "        \"OPENAI_API_KEY\":\"\",\n",
    "        \"ANTHROPIC_API_KEY\":\"\",\n",
    "        \"GOOGLE_API_KEY\":\"\"\n",
    "    }\n",
    ")"
   ]
  },
  {
   "cell_type": "code",
   "execution_count": 28,
   "metadata": {},
   "outputs": [
    {
     "data": {
      "text/plain": [
       "True"
      ]
     },
     "execution_count": 28,
     "metadata": {},
     "output_type": "execute_result"
    }
   ],
   "source": [
    "from dotenv import load_dotenv\n",
    "\n",
    "load_dotenv(override=True)"
   ]
  },
  {
   "cell_type": "code",
   "execution_count": 29,
   "metadata": {},
   "outputs": [],
   "source": [
    "# Imports for required libraries and modules\n",
    "import operator\n",
    "from typing import Annotated, List, Sequence, Dict\n",
    "from typing_extensions import TypedDict\n",
    "from langchain_core.messages import BaseMessage, HumanMessage, AIMessage\n",
    "from langgraph.graph import StateGraph, START, END\n",
    "from langchain_openai import ChatOpenAI\n",
    "from langchain_anthropic import ChatAnthropic\n",
    "from langchain_google_genai import ChatGoogleGenerativeAI\n",
    "from langchain_community.tools.tavily_search import TavilySearchResults\n",
    "from langchain_core.prompts import ChatPromptTemplate\n",
    "from pydantic import BaseModel, Field\n",
    "from langgraph.constants import Send\n",
    "\n",
    "# Utility function to merge dictionaries\n",
    "def dict_merge(old_dict: dict, new_dict: dict) -> dict:\n",
    "    \"\"\"Reducer function for merging dictionaries.\"\"\"\n",
    "    if not old_dict:\n",
    "        return new_dict\n",
    "    if not new_dict:\n",
    "        return old_dict\n",
    "    return {**old_dict, **new_dict}"
   ]
  },
  {
   "cell_type": "markdown",
   "metadata": {},
   "source": [
    "## State and Models Setup\n",
    "This section defines the `AgentState` structure for managing the workflow's state, \n",
    "along with the `SearchQueries` model for query generation. It also sets up the search tool \n",
    "and initializes multiple models with different characteristics."
   ]
  },
  {
   "cell_type": "code",
   "execution_count": 30,
   "metadata": {},
   "outputs": [],
   "source": [
    "# Define the agent's state using a TypedDict\n",
    "class AgentState(TypedDict):\n",
    "    messages: Annotated[Sequence[BaseMessage], operator.add]  # Message history\n",
    "    search_queries: List[str]  # List of generated search queries\n",
    "    raw_search_results: Annotated[Dict, dict_merge]  # Merged search results\n",
    "    aggregated_search_results: str  # Combined search results as a single document\n",
    "    model_responses: Annotated[Dict, dict_merge]  # Responses from different models\n",
    "    final_answer: str  # Synthesized final answer\n",
    "\n",
    "# Define a Pydantic model for search queries\n",
    "class SearchQueries(BaseModel):\n",
    "    queries: List[str] = Field(description=\"List of search queries\")\n",
    "\n",
    "# Set up the search tool\n",
    "search_tool = TavilySearchResults(max_results=3)\n",
    "\n",
    "# Configure multiple models with different characteristics\n",
    "models = {\n",
    "    \"gpt-4o-mini\": ChatOpenAI(model=\"gpt-4o-mini\"),  # OpenAI GPT-4\n",
    "    \"claude-haiku\": ChatAnthropic(model=\"claude-3-5-haiku-20241022\"),  # Anthropic Claude\n",
    "    \"gemini-1.5-flash\": ChatGoogleGenerativeAI(model=\"gemini-1.5-flash-8b\")  # Google's Gemini\n",
    "}"
   ]
  },
  {
   "cell_type": "markdown",
   "metadata": {},
   "source": [
    "## Query Generation\n",
    "This section defines a prompt template and combines it with a model to generate 3-5 \n",
    "search queries that cover different aspects of the user's question."
   ]
  },
  {
   "cell_type": "code",
   "execution_count": 31,
   "metadata": {},
   "outputs": [],
   "source": [
    "# Define a prompt template for generating search queries\n",
    "query_gen_prompt = ChatPromptTemplate.from_messages([\n",
    "    (\"system\", \"\"\"Generate 3-5 different search queries to find comprehensive information about the user's question.\n",
    "    Each query should focus on a different aspect or use different search terms to ensure broad coverage.\"\"\"),\n",
    "    (\"human\", \"{question}\")\n",
    "])\n",
    "\n",
    "# Combine the prompt with a model to generate queries\n",
    "query_generator = query_gen_prompt | ChatOpenAI(model=\"gpt-4o\").with_structured_output(SearchQueries)\n",
    "\n",
    "# Async function to generate queries based on the latest user message\n",
    "async def generate_queries(state: AgentState) -> dict:\n",
    "    \"\"\"Generate search queries.\"\"\"\n",
    "    question = state[\"messages\"][-1].content  # Get the latest user message\n",
    "    result = await query_generator.ainvoke({\"question\": question})  # Generate queries\n",
    "    print(f\"Generated queries: {result.queries}\")\n",
    "    return {\"search_queries\": result.queries}  # Return the list of generated queries"
   ]
  },
  {
   "cell_type": "code",
   "execution_count": 32,
   "metadata": {},
   "outputs": [
    {
     "data": {
      "text/plain": [
       "SearchQueries(queries=['Tesla business strategy analysis 2023', 'Tesla competitive advantage and business model', 'Tesla SWOT analysis latest', 'Tesla market strategy and future plans', 'Tesla growth strategy and sustainability'])"
      ]
     },
     "execution_count": 32,
     "metadata": {},
     "output_type": "execute_result"
    }
   ],
   "source": [
    "search_queries=query_generator.invoke(\"Is tesla's business strategy valid?\")\n",
    "search_queries"
   ]
  },
  {
   "cell_type": "markdown",
   "metadata": {},
   "source": [
    "## Search Task Creation\n",
    "This section creates tasks using `Send` objects for executing search queries in parallel. \n",
    "Each query will be processed independently."
   ]
  },
  {
   "cell_type": "code",
   "execution_count": 59,
   "metadata": {},
   "outputs": [],
   "source": [
    "# Function to create tasks for parallel search execution\n",
    "def create_search_tasks(state: AgentState):\n",
    "    \"\"\"Create Send objects for parallel search processing.\"\"\"\n",
    "    return [\n",
    "        Send(\"search_executor\", {\"query\": query})  # Task for each search query\n",
    "        for query in state[\"search_queries\"]  # Iterate over all generated queries\n",
    "    ]\n",
    "\n",
    "# Async function to execute a single search\n",
    "async def search_executor(state: dict) -> dict:\n",
    "    \"\"\"Execute individual search queries.\"\"\"\n",
    "    try:\n",
    "        query = state[\"query\"]  # Extract the query from the state\n",
    "        print(f\"Searching for: {query}\")\n",
    "        search_results = await search_tool.ainvoke(query)  # Use the search tool to get results\n",
    "        return {\"raw_search_results\": {query: search_results}}  # Return search results\n",
    "    except Exception as e:\n",
    "        print(f\"Search error for query '{query}': {str(e)}\")\n",
    "        return {\"raw_search_results\": {}}  # Return empty results in case of an error"
   ]
  },
  {
   "cell_type": "code",
   "execution_count": 60,
   "metadata": {},
   "outputs": [
    {
     "data": {
      "text/plain": [
       "[Send(node='search_executor', arg={'query': ('queries', ['Tesla business strategy analysis 2023', 'Tesla competitive advantage and business model', 'Tesla SWOT analysis latest', 'Tesla market strategy and future plans', 'Tesla growth strategy and sustainability'])})]"
      ]
     },
     "execution_count": 60,
     "metadata": {},
     "output_type": "execute_result"
    }
   ],
   "source": [
    "create_search_tasks({\"search_queries\":search_queries})"
   ]
  },
  {
   "cell_type": "markdown",
   "metadata": {},
   "source": [
    "## Aggregating Search Results\n",
    "This section combines raw search results from multiple queries into a single, \n",
    "structured document for easier analysis."
   ]
  },
  {
   "cell_type": "code",
   "execution_count": 69,
   "metadata": {},
   "outputs": [],
   "source": [
    "# Async function to aggregate raw search results into a single document\n",
    "async def aggregate_search_results(state: AgentState) -> dict:\n",
    "    \"\"\"Combine multiple search results into a single document.\"\"\"\n",
    "    all_results = state.get(\"raw_search_results\", {})  # Retrieve raw search results\n",
    "\n",
    "    # Create a structured document from all search results\n",
    "    aggregated_document = []\n",
    "    for query, results in all_results.items():\n",
    "        aggregated_document.append(f\"\\n### Search Results for Query: '{query}'\\n\")\n",
    "        for idx, result in enumerate(results, 1):\n",
    "            aggregated_document.append(f\"[{idx}] Content: {result['content']}\")\n",
    "            aggregated_document.append(f\"    Source: {result['url']}\\n\")\n",
    "    \n",
    "    aggregated_text = \"\\n\".join(aggregated_document)\n",
    "    return {\"aggregated_search_results\": aggregated_text}"
   ]
  },
  {
   "cell_type": "markdown",
   "metadata": {},
   "source": [
    "## Analysis Task Creation\n",
    "This section creates tasks for analyzing the aggregated search results using different models. \n",
    "Each model processes the results independently."
   ]
  },
  {
   "cell_type": "code",
   "execution_count": 78,
   "metadata": {},
   "outputs": [],
   "source": [
    "# Function to create analysis tasks for each model\n",
    "def create_analysis_tasks(state: AgentState):\n",
    "    \"\"\"Create tasks for analyzing the aggregated search results with each model.\"\"\"\n",
    "    combined_results = state.get(\"aggregated_search_results\", \"\")  # Get combined search results\n",
    "    original_question = state[\"messages\"][0].content\n",
    "    return [\n",
    "        Send(\"model_analyzer\", {\n",
    "            \"model_name\": model_name,  # Specify the model name\n",
    "            \"search_results\": combined_results,  # Provide the combined results\n",
    "            \"question\": original_question\n",
    "        })\n",
    "        for model_name in models.keys()  # Iterate over all available models\n",
    "    ]"
   ]
  },
  {
   "cell_type": "markdown",
   "metadata": {},
   "source": [
    "## Model Analysis\n",
    "A parallel processing stage where each AI model independently analyzes the aggregated search results.\n",
    "\n",
    "**Key Components**:\n",
    "1. **Input**: Combined search results and original question\n",
    "2. **Analysis Process**: Each model (gpt-4o-mini, claude-3-5-haiku-20241022, gemini-1.5-flash-8b) performs:\n",
    "   - Comprehensive review of search results\n",
    "   - Fact extraction with citations\n",
    "   - Response formulation based on source material\n",
    "3. **Output**: Structured analysis from each model, maintaining citation integrity\n",
    "\n",
    "The goal is to leverage each model's unique strengths in comprehension and analysis while ensuring traceability back to source materials."
   ]
  },
  {
   "cell_type": "code",
   "execution_count": 79,
   "metadata": {},
   "outputs": [],
   "source": [
    "# Async function to analyze search results using a specific model\n",
    "async def model_analyzer(state: dict) -> dict:\n",
    "    \"\"\"Perform analysis of search results with an individual model.\"\"\"\n",
    "    try:\n",
    "        model_name = state[\"model_name\"]\n",
    "        search_results = state[\"search_results\"]\n",
    "        question = state[\"question\"]\n",
    "        \n",
    "        analysis_prompt = f\"\"\"Original Question: {question}\n",
    "        Search Results:\n",
    "        {search_results}\n",
    "\n",
    "        Please provide a comprehensive answer to the original question based on these search results.\n",
    "        Requirements:\n",
    "        1. Answer the question accurately using the provided search results\n",
    "        2. Use citation numbers [1], [2], etc. when referencing specific information\n",
    "        3. Be clear and concise while maintaining accuracy\n",
    "        4. If different sources provide conflicting information, acknowledge this and explain\n",
    "\n",
    "        Format your answer as follows:\n",
    "        1. Main answer with citations\n",
    "        2. Additional relevant context (if any)\n",
    "        3. Any limitations or uncertainties in the available information\n",
    "        \"\"\"\n",
    "        \n",
    "        model = models[model_name]\n",
    "        response = await model.ainvoke([HumanMessage(content=analysis_prompt)])\n",
    "        return {\"model_responses\": {model_name: response.content}}\n",
    "    \n",
    "    except Exception as e:\n",
    "        print(f\"Analysis error for model {model_name}: {str(e)}\")\n",
    "        return {\"model_responses\": {model_name: \"Analysis failed\"}}\n"
   ]
  },
  {
   "cell_type": "markdown",
   "metadata": {},
   "source": [
    "## Synthesizing Results\n",
    "The final stage of our multi-model analysis pipeline, combining diverse AI perspectives into a single coherent response.\n",
    "\n",
    "**Key Components**:\n",
    "1. **Input**: Original question, model responses, and search results\n",
    "2. **Synthesis Prompt**: Structures the final response to include:\n",
    "   - Main analysis with citations\n",
    "   - Common findings across models\n",
    "   - Unique insights from each model\n",
    "   - Source references\n",
    "3. **Output**: Comprehensive, well-cited answer that directly addresses the user's query\n",
    "\n",
    "The goal is to provide a balanced perspective that leverages the strengths of each AI model while maintaining clarity and accuracy."
   ]
  },
  {
   "cell_type": "code",
   "execution_count": 80,
   "metadata": {},
   "outputs": [],
   "source": [
    "# Async function to synthesize responses from all models into a final answer\n",
    "async def synthesize_results(state: AgentState) -> dict:\n",
    "    \"\"\"Combine analyses from all models into a single, comprehensive answer.\"\"\"\n",
    "    original_question = state[\"messages\"][0].content\n",
    "    model_responses = state[\"model_responses\"]\n",
    "    search_results = state[\"aggregated_search_results\"]\n",
    "\n",
    "    # Define a prompt for synthesizing the final answer\n",
    "    synthesis_prompt = f\"\"\"Task: Synthesize multiple AI models' analyses into a single, coherent response.\n",
    "\n",
    "    Original Question: {original_question}\n",
    "\n",
    "    Different AI Models' Analyses:\n",
    "    {model_responses}\n",
    "\n",
    "    Original Search Results for Reference:\n",
    "    {search_results}\n",
    "\n",
    "    Please create a final response that:\n",
    "    1. Synthesizes the key points where models agree\n",
    "    2. Acknowledges any differences in models' interpretations\n",
    "    3. Maintains accurate citations throughout\n",
    "    4. Provides a unified, coherent answer that best serves the user's question\n",
    "\n",
    "    Structure your response as follows:\n",
    "    1. Main Answer (with citations)\n",
    "    2. Points of Agreement Between Models\n",
    "    3. Notable Differences or Additional Insights (if any)\n",
    "    4. Sources Used (list of all cited URLs)\n",
    "    \"\"\"\n",
    "    synthesizer = ChatOpenAI(model=\"gpt-4o\", temperature=0)  # Use GPT-4 for synthesis\n",
    "    final_response = await synthesizer.ainvoke([HumanMessage(content=synthesis_prompt)])  # Generate the final response\n",
    "    \n",
    "    # Return the final synthesized answer\n",
    "    return {\n",
    "        \"final_answer\": final_response.content,\n",
    "        \"messages\": [AIMessage(content=final_response.content)]  # Add the response to message history\n",
    "    }\n"
   ]
  },
  {
   "cell_type": "code",
   "execution_count": 81,
   "metadata": {},
   "outputs": [],
   "source": [
    "workflow = StateGraph(AgentState)\n",
    "\n",
    "# 노드 추가\n",
    "workflow.add_node(\"query_generator\", generate_queries)\n",
    "workflow.add_node(\"search_executor\", search_executor)\n",
    "workflow.add_node(\"aggregate_results\", aggregate_search_results)  # 새로운 노드\n",
    "workflow.add_node(\"model_analyzer\", model_analyzer)\n",
    "workflow.add_node(\"synthesizer\", synthesize_results)\n",
    "\n",
    "# 엣지 추가\n",
    "workflow.add_edge(START, \"query_generator\")\n",
    "workflow.add_conditional_edges(\n",
    "    \"query_generator\",\n",
    "    create_search_tasks,\n",
    "    {\"search_executor\": \"search_executor\"}\n",
    ")\n",
    "workflow.add_edge(\"search_executor\", \"aggregate_results\")\n",
    "workflow.add_conditional_edges(\n",
    "    \"aggregate_results\", \n",
    "    create_analysis_tasks,\n",
    "    {\"model_analyzer\": \"model_analyzer\"}\n",
    ")\n",
    "workflow.add_edge(\"model_analyzer\", \"synthesizer\")\n",
    "workflow.add_edge(\"synthesizer\", END)\n",
    "app=workflow.compile()"
   ]
  },
  {
   "cell_type": "code",
   "execution_count": 82,
   "metadata": {},
   "outputs": [
    {
     "data": {
      "image/png": "[encoded data removed]",
      "text/plain": [
       "<IPython.core.display.Image object>"
      ]
     },
     "metadata": {},
     "output_type": "display_data"
    }
   ],
   "source": [
    "from IPython.display import Image, display\n",
    "from langchain_core.runnables.graph import MermaidDrawMethod\n",
    "\n",
    "display(\n",
    "    Image(\n",
    "        app.get_graph().draw_mermaid_png(\n",
    "            draw_method=MermaidDrawMethod.API,\n",
    "        )\n",
    "    )\n",
    ")"
   ]
  },
  {
   "cell_type": "code",
   "execution_count": 83,
   "metadata": {},
   "outputs": [],
   "source": [
    "import nest_asyncio\n",
    "nest_asyncio.apply()"
   ]
  },
  {
   "cell_type": "markdown",
   "metadata": {},
   "source": [
    "## Helper Functions and Execution\n",
    "Functions to manage output display and execute the analysis pipeline with clear progress tracking.\n",
    "\n",
    "**Key Components**:\n",
    "1. Progress Tracking (`print_progress`):\n",
    "   - Visual progress indicators for each pipeline stage\n",
    "   - Emoji-based status updates for better readability\n",
    "   - Clear tracking of query generation, search execution, and model analyses\n",
    "2. Result Display (`display_final_result`):\n",
    "   - Markdown formatting for the final analysis\n",
    "   - Structured presentation of synthesized results\n",
    "   - Clean citation and source reference display\n",
    "\n",
    "**Pipeline Execution**\n",
    "The execution process streams results in real-time, providing visibility into each stage of the analysis while maintaining the final result for formatted display.\n",
    "\n",
    "This approach ensures both transparency during processing and a professionally formatted final output."
   ]
  },
  {
   "cell_type": "code",
   "execution_count": 89,
   "metadata": {},
   "outputs": [],
   "source": [
    "from IPython.display import Markdown, display\n",
    "\n",
    "def print_progress(event: dict):\n",
    "    \"\"\"Print workflow progress in a visually appealing format\"\"\"\n",
    "    if \"query_generator\" in event:\n",
    "        print(\"\\n🔍 Generated Search Queries:\")\n",
    "        for query in event[\"query_generator\"][\"search_queries\"]:\n",
    "            print(f\"  • {query}\")\n",
    "    \n",
    "    elif \"search_executor\" in event:\n",
    "        query = list(event[\"search_executor\"][\"raw_search_results\"].keys())[0]\n",
    "        print(f\"\\n🔎 Completed search for: {query}\")\n",
    "    \n",
    "    elif \"aggregate_results\" in event:\n",
    "        print(\"\\n📑 Search results aggregated and formatted\")\n",
    "    \n",
    "    elif \"model_analyzer\" in event:\n",
    "        model_name = list(event[\"model_analyzer\"][\"model_responses\"].keys())[0]\n",
    "        print(f\"\\n🤖 Analysis from {model_name} completed\")\n",
    "    \n",
    "    elif \"synthesizer\" in event:\n",
    "        print(\"\\n✨ Final synthesized answer generated\")\n",
    "\n",
    "\n",
    "def display_final_result(final_response: str):\n",
    "    \"\"\"Display final result in markdown format\"\"\"\n",
    "    markdown_text = f\"\"\"\n",
    "    # Analysis Results\n",
    "\n",
    "    ## Final Answer\n",
    "    {final_response}\n",
    "    \"\"\"\n",
    "    display(Markdown(markdown_text))\n"
   ]
  },
  {
   "cell_type": "code",
   "execution_count": 90,
   "metadata": {},
   "outputs": [
    {
     "name": "stdout",
     "output_type": "stream",
     "text": [
      "Generated queries: ['Tesla Q1 2025 business strategy analysis', 'Tesla 2025 first quarter financial performance and outlook', 'Tesla strategic initiatives Q1 2025', 'Tesla business growth and challenges Q1 2025', 'Tesla Q1 2025 market expansion and innovation plans']\n",
      "\n",
      "🔍 Generated Search Queries:\n",
      "  • Tesla Q1 2025 business strategy analysis\n",
      "  • Tesla 2025 first quarter financial performance and outlook\n",
      "  • Tesla strategic initiatives Q1 2025\n",
      "  • Tesla business growth and challenges Q1 2025\n",
      "  • Tesla Q1 2025 market expansion and innovation plans\n",
      "Searching for: Tesla Q1 2025 business strategy analysis\n",
      "Searching for: Tesla 2025 first quarter financial performance and outlook\n",
      "Searching for: Tesla strategic initiatives Q1 2025\n",
      "Searching for: Tesla business growth and challenges Q1 2025\n",
      "Searching for: Tesla Q1 2025 market expansion and innovation plans\n",
      "\n",
      "🔎 Completed search for: Tesla 2025 first quarter financial performance and outlook\n",
      "\n",
      "🔎 Completed search for: Tesla business growth and challenges Q1 2025\n",
      "\n",
      "🔎 Completed search for: Tesla Q1 2025 market expansion and innovation plans\n",
      "\n",
      "🔎 Completed search for: Tesla strategic initiatives Q1 2025\n",
      "\n",
      "🔎 Completed search for: Tesla Q1 2025 business strategy analysis\n",
      "\n",
      "📑 Search results aggregated and formatted\n",
      "\n",
      "🤖 Analysis from gemini-1.5-flash completed\n",
      "\n",
      "🤖 Analysis from claude-haiku completed\n",
      "\n",
      "🤖 Analysis from gpt-4o-mini completed\n",
      "\n",
      "✨ Final synthesized answer generated\n"
     ]
    },
    {
     "data": {
      "text/markdown": [
       "\n",
       "# Analysis Results\n",
       "\n",
       "## Final Answer\n",
       "### Main Answer\n",
       "\n",
       "As of Q1 2025, Tesla's business strategy is focused on expanding its market presence through several key initiatives. A major component of this strategy is the planned launch of an affordable electric vehicle (EV) priced at approximately $25,000. This initiative aims to broaden Tesla's customer base and increase vehicle sales volume significantly [1][2][3]. Tesla is also targeting an annual production capacity of 100 GWh by the end of fiscal year 2025, with energy deployments already reaching 31.4 GWh in fiscal year 2024 [1][3]. \n",
       "\n",
       "In addition to vehicle affordability, Tesla is emphasizing cost reductions and advancements in artificial intelligence (AI) and autonomous vehicle (AV) technologies. The company is exploring new revenue streams through innovations such as robotaxis and Optimus robots, reflecting a broader vision for sustainable automotive solutions [1][2][3]. Financially, Tesla has reported strong earnings and forecasts up to 30% growth in vehicle sales for the year, supported by the success of the Cybertruck and declining material costs [1][2].\n",
       "\n",
       "### Points of Agreement Between Models\n",
       "\n",
       "1. **Affordable EV Launch**: All models agree that Tesla's strategy includes launching a $25,000 EV to expand its market reach and increase sales volume [1][2][3].\n",
       "   \n",
       "2. **Production and Capacity Goals**: There is consensus on Tesla's target of achieving 100 GWh in annual production by FY25, with significant energy deployments already underway [1][3].\n",
       "\n",
       "3. **Focus on AI and AV Technologies**: The models highlight Tesla's strategic focus on expanding its AI and AV capabilities, including the development of robotaxis and Optimus robots [1][2][3].\n",
       "\n",
       "4. **Financial Outlook**: All models note Tesla's optimistic financial outlook, with predictions of 20-30% growth in vehicle sales for 2025, contingent on the successful introduction of the lower-cost vehicle [1][2].\n",
       "\n",
       "### Notable Differences or Additional Insights\n",
       "\n",
       "- **Stock Valuation Concerns**: Some models, such as 'gpt-4o-mini' and 'claude-haiku', mention concerns about Tesla's stock valuation potentially being disconnected from its business fundamentals, attributing a premium to Elon Musk's leadership [3]. This aspect is less emphasized in 'gemini-1.5-flash'.\n",
       "\n",
       "- **Market Expansion**: While all models discuss Tesla's market expansion efforts, 'claude-haiku' specifically highlights the competitive landscape with other EV manufacturers like BYD and Volkswagen, which adds an element of uncertainty to Tesla's growth strategy [1].\n",
       "\n",
       "### Sources Used\n",
       "\n",
       "1. [Seeking Alpha](https://seekingalpha.com/article/4749379-how-tesla-plans-to-lead-in-2025)\n",
       "2. [Morningstar](https://www.morningstar.com/company-reports/1258674-teslas-strategic-focus-shifts-to-development-of-affordable-vehicles-cost-reductions-and-ai)\n",
       "3. [Investing.com](https://www.investing.com/news/stock-market-news/three-themes-to-shape-teslas-outlook-in-2025-says-barclays-3813602)\n",
       "    "
      ],
      "text/plain": [
       "<IPython.core.display.Markdown object>"
      ]
     },
     "metadata": {},
     "output_type": "display_data"
    }
   ],
   "source": [
    "# write question here\n",
    "question = \"Analyze Tesla's Q1 2025 Business Strategy Status and Outlook\"\n",
    "inputs = {\n",
    "    \"messages\": [HumanMessage(content=question)]\n",
    "}\n",
    "\n",
    "# Execution code\n",
    "final_result = None\n",
    "async for event in app.astream(inputs):\n",
    "    print_progress(event)\n",
    "    if \"synthesizer\" in event:\n",
    "        final_result = event[\"synthesizer\"][\"final_answer\"]\n",
    "\n",
    "if final_result:\n",
    "    display_final_result(final_result)"
   ]
  },
  {
   "cell_type": "code",
   "execution_count": null,
   "metadata": {},
   "outputs": [],
   "source": []
  }
 ],
 "metadata": {
  "kernelspec": {
   "display_name": "langchain-opentutorial-RXtDr8w5-py3.11",
   "language": "python",
   "name": "python3"
  },
  "language_info": {
   "codemirror_mode": {
    "name": "ipython",
    "version": 3
   },
   "file_extension": ".py",
   "mimetype": "text/x-python",
   "name": "python",
   "nbconvert_exporter": "python",
   "pygments_lexer": "ipython3",
   "version": "3.11.9"
  }
 },
 "nbformat": 4,
 "nbformat_minor": 2
}
