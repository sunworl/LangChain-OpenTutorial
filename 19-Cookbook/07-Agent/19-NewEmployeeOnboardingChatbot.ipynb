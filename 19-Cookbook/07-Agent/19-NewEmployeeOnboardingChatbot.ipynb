{
 "cells": [
  {
   "cell_type": "markdown",
   "metadata": {},
   "source": [
    "# New Employee Onboarding Chatbot\n",
    "\n",
    "- Author: [Mark](https://github.com/obov)\n",
    "- Design:\n",
    "- Peer Review :\n",
    "- This is a part of [LangChain Open Tutorial](https://github.com/LangChain-OpenTutorial/LangChain-OpenTutorial)\n",
    "\n",
    "[![Open in Colab](https://colab.research.google.com/assets/colab-badge.svg)](https://colab.research.google.com/github/LangChain-OpenTutorial/LangChain-OpenTutorial/blob/main/19-Cookbook/07-Agent/19-NewEmployeeOnboardingChatbot.ipynb) [![Open in GitHub](https://img.shields.io/badge/Open%20in%20GitHub-181717?style=flat-square&logo=github&logoColor=white)](https://github.com/LangChain-OpenTutorial/LangChain-OpenTutorial/blob/main/19-Cookbook/07-Agent/19-NewEmployeeOnboardingChatbot.ipynb)\n",
    "\n",
    "## Overview\n",
    "\n",
    "This tutorial demonstrates how to build an Onboarding Helper using `LangChain`, designed to centralize and leverage Notion-based documentation for new employees. By integrating structured data from Notion pages, databases, and wikis into a Retrieval-Augmented Generation (RAG) system, this solution enables seamless access to company protocols, role-specific guides, and FAQs. New hires can query this unified knowledge base in natural language, helping them quickly adapt to their roles without sifting through scattered documents.\n",
    "\n",
    "### Why This Matters\n",
    "\n",
    "Traditional onboarding often involves digging through wikis, PDFs, and email threads to find relevant information. This approach is time-consuming and inefficient, especially as companies scale. With a Notion-powered RAG system, employees can simply ask questions in natural language and get precise, contextual answers in seconds.\n",
    "\n",
    "Beyond efficiency, this approach also reduces friction in communication. New employees often hesitate to repeatedly ask their managers or senior colleagues the same questions, worrying that they might be bothering them. With a chatbot, however, this concern disappears—they can ask the same question multiple times, verify small details, and gradually build confidence in their tasks, leading to a faster adaptation process.\n",
    "\n",
    "Additionally, this is not just about onboarding—it’s about knowledge retention and accessibility. In any workplace, documenting work is essential, whether it’s through small personal notes or structured data within a digital workspace. If a team already uses Notion as their primary documentation tool, integrating this RAG system means that records naturally become part of the chatbot’s knowledge base. As team members work and document processes, the chatbot continuously updates its resource pool, making the information available for future queries.\n",
    "\n",
    "This means that once the system is in place, it doesn’t just serve new employees—it benefits the entire team. What starts as an onboarding assistant evolves into a company-wide knowledge hub, reducing redundant questions, ensuring information consistency, and making expertise accessible to everyone. Instead of spending time searching or asking around, employees can simply ask the chatbot, allowing them to focus on doing their work more effectively.\n",
    "\n",
    "### Applying This to Other Use Cases\n",
    "\n",
    "Even if your organization doesn’t use Notion, the concepts covered here can be easily adapted to other structured knowledge bases such as Confluence, Google Drive, SharePoint, or internal databases. If your company already maintains a central knowledge repository, you can apply the same techniques to build a similar retrieval-based AI assistant tailored to your needs.\n",
    "\n",
    "This tutorial will provide both the foundational understanding and practical implementation steps necessary to deploy an AI-powered onboarding assistant, improving information accessibility and reducing the time it takes for new employees to become productive. 🚀\n",
    "\n",
    "### Table of Contents\n",
    "\n",
    "- [Overview](#overview)\n",
    "- [Environment Setup](#environment-setup)\n",
    "- [Notion Database Setup](#notion-database-setup)\n",
    "- [Langchain Only RAG](#langchain-only-rag)\n",
    "- [Apply Langgraph Basic](#apply-langgraph-basic)\n",
    "- [Apply Langgraph Advanced](#apply-langgraph-advanced)\n",
    "- [Wrap Up](#wrap-up)\n",
    "\n",
    "### References\n",
    "\n",
    "- [LangGraph Compiled State Graph](https://github.com/langchain-ai/langgraph/blob/a6b8098548ec2c28ca58307782845e91465328e3/libs/langgraph/langgraph/graph/state.py#L598-L1039)\n",
    "- [LangGraph Compiled Graph](https://github.com/langchain-ai/langgraph/blob/a6b8098548ec2c28ca58307782845e91465328e3/libs/langgraph/langgraph/graph/graph.py#L467-L639)\n",
    "- [LangGraph Pregel](https://github.com/langchain-ai/langgraph/blob/a6b8098548ec2c28ca58307782845e91465328e3/libs/langgraph/langgraph/pregel/__init__.py#L199-L2139)\n",
    "- [LangGraph Pregel Protocol](https://github.com/langchain-ai/langgraph/blob/a6b8098548ec2c28ca58307782845e91465328e3/libs/langgraph/langgraph/pregel/protocol.py#L18-L130)\n",
    "- [Pregel: A System for Large-Scale Graph Processing](https://research.google/pubs/pregel-a-system-for-large-scale-graph-processing/)\n"
   ]
  },
  {
   "cell_type": "markdown",
   "metadata": {},
   "source": [
    "All the data used in this tutorial is synthetic. Company names, personal names, business emails, contact information, and all other details are entirely fictitious and have been generated using LLM models from ChatGPT and DeepSeek.\n"
   ]
  },
  {
   "cell_type": "markdown",
   "metadata": {},
   "source": [
    "## Environment Setup\n",
    "\n",
    "Set up the environment. You may refer to [Environment Setup](https://wikidocs.net/257836) for more details.\n",
    "\n",
    "[Note]\n",
    "\n",
    "- `langchain-opentutorial` is a package that provides a set of easy-to-use environment setup, useful functions and utilities for tutorials.\n",
    "- You can checkout the [`langchain-opentutorial`](https://github.com/LangChain-OpenTutorial/langchain-opentutorial-pypi) for more details.\n"
   ]
  },
  {
   "cell_type": "code",
   "execution_count": 71,
   "metadata": {},
   "outputs": [],
   "source": [
    "%%capture --no-stderr\n",
    "%pip install langchain-opentutorial"
   ]
  },
  {
   "cell_type": "code",
   "execution_count": 72,
   "metadata": {},
   "outputs": [
    {
     "name": "stderr",
     "output_type": "stream",
     "text": [
      "\n",
      "\u001b[1m[\u001b[0m\u001b[34;49mnotice\u001b[0m\u001b[1;39;49m]\u001b[0m\u001b[39;49m A new release of pip is available: \u001b[0m\u001b[31;49m24.3.1\u001b[0m\u001b[39;49m -> \u001b[0m\u001b[32;49m25.0\u001b[0m\n",
      "\u001b[1m[\u001b[0m\u001b[34;49mnotice\u001b[0m\u001b[1;39;49m]\u001b[0m\u001b[39;49m To update, run: \u001b[0m\u001b[32;49mpip install --upgrade pip\u001b[0m\n"
     ]
    }
   ],
   "source": [
    "# Install required packages\n",
    "from langchain_opentutorial import package\n",
    "\n",
    "package.install(\n",
    "    [\n",
    "        \"langchain-community\",\n",
    "        \"langchain-openai\",\n",
    "        \"langchain-chroma\",\n",
    "        \"langchain-core\",\n",
    "        \"langgraph\",\n",
    "    ],\n",
    "    verbose=False,\n",
    "    upgrade=False,\n",
    ")"
   ]
  },
  {
   "cell_type": "code",
   "execution_count": 73,
   "metadata": {},
   "outputs": [
    {
     "name": "stdout",
     "output_type": "stream",
     "text": [
      "Environment variables have been set successfully.\n"
     ]
    }
   ],
   "source": [
    "# Set environment variables\n",
    "from langchain_opentutorial import set_env\n",
    "\n",
    "set_env(\n",
    "    {\n",
    "        \"OPENAI_API_KEY\": \"\",\n",
    "        \"LANGCHAIN_API_KEY\": \"\",\n",
    "        \"LANGCHAIN_TRACING_V2\": \"true\",\n",
    "        \"LANGCHAIN_ENDPOINT\": \"https://api.smith.langchain.com\",\n",
    "        \"LANGCHAIN_PROJECT\": \"07-Agent/19-NewEmployeeOnboardingChatbot\",\n",
    "    }\n",
    ")"
   ]
  },
  {
   "cell_type": "code",
   "execution_count": 74,
   "metadata": {},
   "outputs": [
    {
     "data": {
      "text/plain": [
       "True"
      ]
     },
     "execution_count": 74,
     "metadata": {},
     "output_type": "execute_result"
    }
   ],
   "source": [
    "from dotenv import load_dotenv\n",
    "\n",
    "load_dotenv(override=True)"
   ]
  },
  {
   "cell_type": "markdown",
   "metadata": {},
   "source": [
    "## Notion Database Setup\n",
    "\n",
    "We use Notion as our central hub for team wikis, documentation, and task management, making it an essential tool for organizing and sharing knowledge. Notion provides a highly flexible digital workspace that combines note-taking, structured databases, and real-time collaboration tools, allowing teams to centralize their knowledge in a way that is both intuitive and scalable.\n",
    "\n",
    "Unlike traditional documentation tools, Notion allows for seamless integration of structured and unstructured data, meaning that everything from meeting notes and company policies to project roadmaps and task assignments can coexist within a single, well-organized system. With its database-driven approach, information can be filtered, sorted, and interconnected, making retrieval faster and more efficient.\n",
    "\n",
    "By leveraging Notion as the foundation for our RAG system, we can transform passive documentation into an active knowledge base. This means that instead of manually searching through scattered files and folders, employees can interact with a chatbot that intelligently retrieves relevant information based on natural language queries. The result is a dynamic, constantly evolving repository of company knowledge, improving both onboarding experiences and day-to-day productivity.\n",
    "\n",
    "Key Concepts of Notion:\n",
    "\n",
    "- Pages: Individual documents (like this guide) for text, images, or embedded content.\n",
    "- Databases: Structured tables that organize information (e.g., tasks, project trackers, SOPs) with filter/sort capabilities.\n",
    "\n",
    "### Example Database\n",
    "\n",
    "You can view with the exact Notion database used in this tutorial here: [Tutorial Example Database](https://shrouded-lantana-c42.notion.site/1870d31b38698044b3f2fdd3c2c15e4c?v=1870d31b38698086a4dd000cd1ddd37a&pvs=4)\n",
    "\n",
    "There is a list of documents for Retrieval Augmented Generation (RAG). Every document is augmented for this tutorial. Names and contents are all virtual data.\n",
    "\n",
    "### Setup Notion Integration\n",
    "\n",
    "to use Notion as a knowledge base, you need to create a Notion integration.\n",
    "\n",
    "#### 1. Get API Key\n",
    "\n",
    "1. Go to Notion Developers:  \n",
    "   Log in to [Notion Developers](https://developers.notion.com) → Click \"View my integrations\".\n",
    "2. Create a New Integration:\n",
    "   - Click \"New integration\".\n",
    "   - Name it (e.g., MyApp Integration).\n",
    "   - Select your workspace.\n",
    "   - Set permissions:\n",
    "     - Read content\n",
    "     - Update content (if needed)\n",
    "3. Copy the API Key:  \n",
    "   After creation, copy the Internal Integration Token\n",
    "4. More Information:\n",
    "   - [Notion API Documentation](https://developers.notion.com/reference/intro)\n",
    "   - [Notion API Key](https://developers.notion.com/docs/create-a-notion-integration)\n",
    "\n",
    "#### 2. Find Database ID\n",
    "\n",
    "1. Open Notion Database:\n",
    "   Go to the database you or your team want to use → Click \"Share\" → \"Copy link\".\n",
    "\n",
    "2. Extract the ID:  \n",
    "   The URL looks like:  \n",
    "   https://www.notion.so/your-workspace/{DATABASE_ID}?v=...  \n",
    "   Copy the 32-character string between / and ? (e.g., 1870d31b38698044b3f2fdd3c2c15e4c).\n"
   ]
  },
  {
   "cell_type": "code",
   "execution_count": 75,
   "metadata": {},
   "outputs": [
    {
     "name": "stdout",
     "output_type": "stream",
     "text": [
      "31\n"
     ]
    }
   ],
   "source": [
    "from langchain_community.document_loaders import NotionDBLoader\n",
    "\n",
    "# Use this token and database id to load the data from Notion for this tutorial\n",
    "NOTION_TOKEN = \"ntn\" + \"_L3541776489aPP4RRULRr1dAfxDeeeBoJUufhX8ON0y4tM\"\n",
    "DATABASE_ID = \"1870d31b38698044b3f2fdd3c2c15e4c\"\n",
    "\n",
    "loader = NotionDBLoader(\n",
    "    integration_token=NOTION_TOKEN,\n",
    "    database_id=DATABASE_ID,\n",
    ")\n",
    "\n",
    "data = loader.load()\n",
    "\n",
    "# If you can see list of documents, it means you successfully loaded the data from Notion.\n",
    "print(len(data))"
   ]
  },
  {
   "cell_type": "code",
   "execution_count": 76,
   "metadata": {},
   "outputs": [
    {
     "name": "stdout",
     "output_type": "stream",
     "text": [
      "On Boarding \n",
      "['Task']\n",
      "New Hire Onboarding Seminar\n",
      ": Held on the first Monday of each month at 2 PM in the 10F auditorium.  \n",
      "Team Wikis/Notion\n",
      ": Check department-specific wikis for detailed work manuals and FAQs.  \n",
      "Company Notices\n",
      ": [notice.xyzshop.com](https://notice.xyzshop.com/) updates daily with announcements.\n"
     ]
    }
   ],
   "source": [
    "print(data[0].metadata[\"title\"])\n",
    "print(data[0].metadata[\"tags\"])\n",
    "print(data[0].page_content[:800])"
   ]
  },
  {
   "cell_type": "markdown",
   "metadata": {},
   "source": [
    "All the data used in this tutorial is synthetic. Company names, personal names, business emails, contact information, and all other details are entirely fictitious and have been generated using LLM models from ChatGPT and DeepSeek.\n"
   ]
  },
  {
   "cell_type": "markdown",
   "metadata": {},
   "source": [
    "## Langchain Only RAG\n"
   ]
  },
  {
   "cell_type": "markdown",
   "metadata": {},
   "source": [
    "In this section, we will implement RAG using only `LangChain`. Since the data prepared for this tutorial is not very long, we have skipped the chunking process during the data preprocessing stage of RAG. To enhance RAG performance, we have enabled similarity search based on the titles of the documents.\n",
    "\n",
    "If you are already familiar with `LangChain`, this should be a very straightforward example. The core concepts—retrieving relevant documents and passing them to an LLM—are fundamental to `LangChain`’s functionality, making this implementation relatively simple.\n",
    "\n",
    "However, if you are new to `LangChain` or unfamiliar with key concepts such as vector stores, RAG (Retrieval-Augmented Generation), and similarity search, some parts of this section might feel a bit challenging. These components are essential for building powerful AI-driven retrieval systems, so taking the time to understand them will be highly beneficial.\n",
    "\n",
    "If you find certain steps difficult to follow, consider revisiting the basics of how vector stores index and retrieve information or how similarity search helps match queries with relevant documents. Once you gain a solid grasp of these foundational ideas, integrating them into a LangChain-based RAG system will become much more intuitive.\n"
   ]
  },
  {
   "cell_type": "code",
   "execution_count": 77,
   "metadata": {},
   "outputs": [],
   "source": [
    "from langchain_chroma import Chroma\n",
    "from langchain_openai import OpenAIEmbeddings\n",
    "from langchain_core.documents import Document\n",
    "\n",
    "data_processed = [\n",
    "    *[\n",
    "        Document(\n",
    "            page_content=item.page_content,\n",
    "            metadata={\n",
    "                # Attributes\n",
    "                \"title\": item.metadata[\"title\"],\n",
    "                \"use_title_as_page_content\": False,\n",
    "            },\n",
    "        )\n",
    "        for item in data\n",
    "    ],\n",
    "    *[\n",
    "        Document(\n",
    "            # Use title as page content for similarity search\n",
    "            # If you want some documents to be retrieved more frequently, you can use this method\n",
    "            page_content=item.metadata[\"title\"],\n",
    "            metadata={\n",
    "                # Attributes\n",
    "                \"page_content\": item.page_content,\n",
    "                \"title\": item.metadata[\"title\"],\n",
    "                \"use_title_as_page_content\": True,\n",
    "            },\n",
    "        )\n",
    "        for item in data\n",
    "    ],\n",
    "]\n",
    "\n",
    "\n",
    "vector_store = Chroma.from_documents(\n",
    "    documents=data_processed,\n",
    "    embedding=OpenAIEmbeddings(),\n",
    ")\n",
    "\n",
    "retriever_from_notion = vector_store.as_retriever(\n",
    "    search_kwargs={\n",
    "        \"k\": 5,\n",
    "    }\n",
    ")"
   ]
  },
  {
   "cell_type": "code",
   "execution_count": 78,
   "metadata": {},
   "outputs": [],
   "source": [
    "from langchain_core.runnables import chain\n",
    "from typing import List\n",
    "\n",
    "\n",
    "@chain\n",
    "def context_parser(docs: List[Document]) -> str:\n",
    "    # Retrieved documents turn into string\n",
    "    return \"\\n\\n\".join(\n",
    "        [\n",
    "            f\"# {doc.metadata['title']}\\n\"\n",
    "            f\"{doc.metadata['page_content'] if doc.metadata['use_title_as_page_content'] else doc.page_content}\"\n",
    "            for doc in docs\n",
    "        ]\n",
    "    )"
   ]
  },
  {
   "cell_type": "code",
   "execution_count": 79,
   "metadata": {},
   "outputs": [],
   "source": [
    "from langchain_core.prompts import ChatPromptTemplate\n",
    "\n",
    "prompt = ChatPromptTemplate(\n",
    "    [\n",
    "        (\n",
    "            \"system\",\n",
    "            \"You are a helpful assistant for onboarding new employees. \\n\"\n",
    "            \"Please answer the question based on the following documents. \\n\"\n",
    "            \"Documents: \\n\"\n",
    "            \"{context}\",\n",
    "        ),\n",
    "        (\"human\", \"{question}\"),\n",
    "    ]\n",
    ")"
   ]
  },
  {
   "cell_type": "code",
   "execution_count": 80,
   "metadata": {},
   "outputs": [],
   "source": [
    "from langchain_openai import ChatOpenAI\n",
    "\n",
    "llm = ChatOpenAI(model=\"gpt-4o-mini\")"
   ]
  },
  {
   "cell_type": "code",
   "execution_count": 81,
   "metadata": {},
   "outputs": [
    {
     "name": "stdout",
     "output_type": "stream",
     "text": [
      "To use a conference room at XYZ Shopping Mall, follow these steps:\n",
      "\n",
      "1. **Login:**\n",
      "   - Access the internal portal at [meet.xyzshop.com](https://meet.xyzshop.com/).\n",
      "   - Log in using your `@xyzshop.com` account through Single Sign-On (SSO).\n",
      "   - Approve the “Meeting Room Booking” permissions when prompted.\n",
      "\n",
      "2. **View Meeting Rooms & Schedule:**\n",
      "   - Navigate through the available rooms per floor (e.g., “10F-Alpha Room,” “10F-Beta Room,” “11F-Gamma Room,” etc.).\n",
      "   - Check the availability of the rooms in a calendar view.\n",
      "\n",
      "3. **Booking Procedure:**\n",
      "   - Click on an open time slot to proceed with booking.\n",
      "   - Fill out the request form with the following details:\n",
      "     - Meeting Title\n",
      "     - Number of Attendees\n",
      "     - Required Equipment (e.g., projector, video conference tools).\n",
      "   - Once booked, a Google Calendar invite will be automatically sent to all participants.\n",
      "\n",
      "4. **Cancellation/Changes:**\n",
      "   - If you need to cancel or change the reservation, click “Cancel” on the reservation detail page.\n",
      "   - The event will be removed from the calendar, and cancellation notices will be sent to all invitees.\n",
      "   - The same process applies for making changes to the reservation.\n",
      "\n",
      "By following these steps, you can successfully reserve and use a conference room at XYZ Shopping Mall.\n"
     ]
    }
   ],
   "source": [
    "## Use LangChain Only\n",
    "\n",
    "from langchain_core.runnables import RunnablePassthrough\n",
    "\n",
    "langchain_only_rag_chatbot = (\n",
    "    {\n",
    "        \"question\": RunnablePassthrough(),\n",
    "        \"context\": retriever_from_notion | context_parser,\n",
    "    }\n",
    "    | prompt\n",
    "    | llm\n",
    ")\n",
    "\n",
    "result = langchain_only_rag_chatbot.invoke(\"how to use conference room?\")\n",
    "\n",
    "print(result.content)"
   ]
  },
  {
   "cell_type": "markdown",
   "metadata": {},
   "source": [
    "The responses generated by the basic RAG implementation above are generally acceptable. Similarity search using a vector store is efficient and widely used for initial retrieval. However, this method has a fundamental limitation: the retrieved documents may appear similar to the query but are not always semantically relevant to answering the user’s question. This can lead to inaccurate or misleading responses, ultimately reducing the reliability of the system.\n"
   ]
  },
  {
   "cell_type": "markdown",
   "metadata": {},
   "source": [
    "## Apply Langgraph Basic\n"
   ]
  },
  {
   "cell_type": "markdown",
   "metadata": {},
   "source": [
    "To address the issue I mentioned above, in this section, we will implement a simple filtering agent using `LangGraph` to verify whether the retrieved documents are truly useful for generating an answer. Instead of blindly relying on similarity scores, this agent will act as an additional validation layer, ensuring that only relevant information is passed to the response generation stage.\n",
    "\n",
    "By integrating this additional verification step, we expect to see more accurate and contextually appropriate responses while reducing the inclusion of unnecessary or misleading information. Importantly, this modification requires only a small adjustment to the retriever component of our original RAG implementation, keeping the rest of the process unchanged.\n"
   ]
  },
  {
   "cell_type": "code",
   "execution_count": 82,
   "metadata": {},
   "outputs": [],
   "source": [
    "# Apply LangGraph to retriever_from_notion\n",
    "\n",
    "from langgraph.graph import StateGraph\n",
    "from langchain_core.runnables import RunnablePassthrough, RunnableParallel\n",
    "from langchain_core.prompts import ChatPromptTemplate\n",
    "from typing import TypedDict, List\n",
    "from langchain_core.output_parsers import StrOutputParser\n",
    "from langchain_core.runnables import RunnableLambda\n",
    "from functools import reduce\n",
    "\n",
    "prompt_relevance_check = ChatPromptTemplate(\n",
    "    [\n",
    "        \"Please determine whether the following question is relevant to the retrieved document.\\n\"\n",
    "        \"If it is relevant, output 'yes'; otherwise, output 'no' only.\\n\"\n",
    "        \"Question: {question}\\n\"\n",
    "        \"Retrieved Document:\\n\"\n",
    "        \"{context}\"\n",
    "    ]\n",
    ")\n",
    "\n",
    "\n",
    "class RetrievalState(TypedDict):\n",
    "    question: str\n",
    "    retrieved_docs: List[Document]\n",
    "    relevant_docs: List[Document]\n",
    "\n",
    "\n",
    "# retriever_from_notion\n",
    "def retrieve_node(state: RetrievalState) -> RetrievalState:\n",
    "    question = state[\"question\"]\n",
    "    return {\n",
    "        \"question\": question,\n",
    "        \"retrieved_docs\": retriever_from_notion.invoke(question),\n",
    "        \"relevant_docs\": [],\n",
    "    }\n",
    "\n",
    "\n",
    "def filter_relevant_docs_node(state: RetrievalState) -> RetrievalState:\n",
    "    question = state[\"question\"]\n",
    "    docs = state[\"retrieved_docs\"]\n",
    "    if not docs:\n",
    "        return {\n",
    "            \"question\": question,\n",
    "            \"retrieved_docs\": docs,\n",
    "            \"relevant_docs\": [],\n",
    "        }\n",
    "    idxed_docs = reduce(\n",
    "        lambda acc, item: {**acc, item[0]: item[1]},\n",
    "        enumerate(docs),\n",
    "        {},\n",
    "    )\n",
    "\n",
    "    is_each_docs_relevant_chain = RunnableParallel(\n",
    "        # Dynamically create a chain as documents retrieved\n",
    "        {\n",
    "            str(idx): {\n",
    "                \"question\": RunnablePassthrough(),\n",
    "                \"context\": RunnableLambda(\n",
    "                    lambda _, doc=doc: context_parser.invoke([doc])\n",
    "                ),\n",
    "            }\n",
    "            | prompt_relevance_check\n",
    "            | llm\n",
    "            | StrOutputParser()\n",
    "            for idx, doc in idxed_docs.items()\n",
    "        }\n",
    "    ) | RunnableLambda(lambda result: list(result.values()))\n",
    "\n",
    "    relevance_response = is_each_docs_relevant_chain.invoke(question)\n",
    "    print(relevance_response)  # ['yes', 'yes', 'no']\n",
    "\n",
    "    return {\n",
    "        \"question\": question,\n",
    "        \"retrieved_docs\": docs,\n",
    "        \"relevant_docs\": [\n",
    "            doc for doc, flag in zip(docs, relevance_response) if flag == \"yes\"\n",
    "        ],\n",
    "    }\n",
    "\n",
    "\n",
    "graph = StateGraph(state_schema=RetrievalState)\n",
    "\n",
    "graph.add_node(\"retrieve\", retrieve_node)\n",
    "graph.add_node(\"filter_relevant_docs\", filter_relevant_docs_node)\n",
    "\n",
    "graph.set_entry_point(\"retrieve\")\n",
    "graph.add_edge(\"retrieve\", \"filter_relevant_docs\")\n",
    "\n",
    "langgraph_retriever = graph.compile()"
   ]
  },
  {
   "cell_type": "markdown",
   "metadata": {},
   "source": [
    "`LangGraph` is fundamentally implemented by inheriting Runnable from `LangChain`, allowing it to leverage various built-in functionalities such as structured execution, dependency management, and asynchronous processing. This enables seamless integration with LangChain’s existing components while providing enhanced control over workflow orchestration.\n",
    "\n",
    "Therefore, it can be used as follows:\n"
   ]
  },
  {
   "cell_type": "code",
   "execution_count": 83,
   "metadata": {},
   "outputs": [
    {
     "name": "stdout",
     "output_type": "stream",
     "text": [
      "['yes', 'yes', 'yes', 'yes', 'yes']\n",
      "how to use conference room?\n",
      "5\n",
      "5\n"
     ]
    }
   ],
   "source": [
    "langgraph_retriever_result = langgraph_retriever.invoke(\n",
    "    {\"question\": \"how to use conference room?\"}\n",
    ")\n",
    "print(langgraph_retriever_result[\"question\"])\n",
    "print(len(langgraph_retriever_result[\"retrieved_docs\"]))\n",
    "print(len(langgraph_retriever_result[\"relevant_docs\"]))"
   ]
  },
  {
   "cell_type": "markdown",
   "metadata": {},
   "source": [
    "Most importantly, `LangGraph` can be seamlessly integrated into an existing response chain by utilizing LCEL (LangChain Expression Language) syntax. This means that rather than introducing a completely separate process, it can be directly embedded as a natural extension of the existing pipeline.\n",
    "\n",
    "By leveraging LCEL, it not only enhances modularity but also improves flexibility, making it easier to modify or expand the workflow without disrupting the overall system. This ability to integrate smoothly while maintaining the structured execution of `LangChain` makes it a highly effective tool for optimizing retrieval-augmented generation (RAG) pipelines.\n"
   ]
  },
  {
   "cell_type": "code",
   "execution_count": 84,
   "metadata": {},
   "outputs": [],
   "source": [
    "langgraph_applied_rag = (\n",
    "    {\n",
    "        \"question\": RunnablePassthrough(),\n",
    "        # LangGraph applied to retriever_from_notion\n",
    "        # before: \"context\": retriever_from_notion | context_parser,\n",
    "        \"context\": {\n",
    "            \"question\": RunnablePassthrough(),\n",
    "        }\n",
    "        | langgraph_retriever\n",
    "        | RunnableLambda(lambda result: result[\"relevant_docs\"])\n",
    "        | context_parser,\n",
    "    }\n",
    "    | prompt\n",
    "    | llm\n",
    "    | StrOutputParser()\n",
    ")"
   ]
  },
  {
   "cell_type": "code",
   "execution_count": 85,
   "metadata": {},
   "outputs": [
    {
     "name": "stdout",
     "output_type": "stream",
     "text": [
      "['yes', 'yes', 'yes', 'yes', 'yes']\n",
      "To use a conference room at XYZ Shopping Mall, follow these steps:\n",
      "\n",
      "1. **Login**: Access the internal portal at [meet.xyzshop.com](https://meet.xyzshop.com/) using Single Sign-On (SSO) with your `@xyzshop.com` account. Approve any prompts for “Meeting Room Booking” permissions.\n",
      "\n",
      "2. **View Meeting Rooms & Schedule**: Browse the available conference rooms, which are listed per floor (e.g., “10F-Alpha Room,” “10F-Beta Room,” “11F-Gamma Room,” etc.). Check the availability of rooms in the calendar view and click on an open time slot to start the booking process.\n",
      "\n",
      "3. **Booking Procedure**:\n",
      "   - Fill out the booking request form with the following details:\n",
      "     - Meeting Title\n",
      "     - Number of Attendees\n",
      "     - Required Equipment (e.g., projector, video conference tools)\n",
      "   - After successfully booking the room, a Google Calendar invite will automatically be sent to all participants.\n",
      "\n",
      "4. **Handling Conflicts**: If there is a scheduling conflict, the system will suggest alternative rooms or times for your meeting.\n",
      "\n",
      "5. **Cancellation/Changes**:\n",
      "   - If you need to cancel your reservation, click “Cancel” on the reservation detail page. This action will remove the event from the calendar and send cancellation notices to all invitees.\n",
      "   - For any changes to the booking, follow the same procedure, ensuring all participants are kept updated.\n",
      "\n",
      "By following these steps, you can effectively book and use a conference room for your meetings.\n"
     ]
    }
   ],
   "source": [
    "result = langgraph_applied_rag.invoke(\"how to use conference room?\")\n",
    "\n",
    "print(result)"
   ]
  },
  {
   "cell_type": "markdown",
   "metadata": {},
   "source": [
    "In fact, the previous example was more about optimization rather than an overall process improvement. It was designed as a lightweight example for users who may not be familiar with `LangGraph`, providing an easy introduction to its capabilities.\n",
    "\n",
    "Now that we’ve warmed up, we can move on to the next stage. Although we’re using the term \"advanced\", don’t be intimidated—it’s not as complex as it might sound. The following concepts build upon what we’ve already covered, making the transition smooth and intuitive.\n"
   ]
  },
  {
   "cell_type": "markdown",
   "metadata": {},
   "source": [
    "## Apply Langgraph Advanced\n"
   ]
  },
  {
   "cell_type": "markdown",
   "metadata": {},
   "source": [
    "In this section, we will add an agent that further refines and segments the user's query.\n",
    "\n",
    "Since chat interfaces are so common in everyday life, it's easy to overlook a crucial aspect of user experience: typing out a detailed question word by word is not an ideal UX for users. Just consider how we use Google—most people don’t carefully format their search queries into neatly structured sentences. Instead, they type short phrases, incomplete thoughts, or even just keywords, expecting the system to interpret their intent correctly.\n",
    "\n",
    "This is an important reminder that we should not design a chatbot assuming that users will always phrase their questions in a clear, well-formatted manner. If we want to build a truly high-level chatbot, it must be capable of handling fragmented, unstructured, and even ambiguous queries. This section will serve as a first step toward achieving that goal.\n",
    "\n",
    "To address this, the new agent we introduce will break down the user's question into more specific sub-questions. Each sub-question will then be processed in parallel using our existing retrieval and response generation chain. Once all sub-questions have been answered, the responses will be aggregated and structured into a coherent final answer.\n",
    "\n",
    "By implementing this, we can significantly improve the chatbot's ability to handle vague or complex queries, ensuring that users receive more accurate, detailed, and structured responses without needing to carefully format their input.\n"
   ]
  },
  {
   "cell_type": "code",
   "execution_count": 96,
   "metadata": {},
   "outputs": [
    {
     "name": "stdout",
     "output_type": "stream",
     "text": [
      "===== sub_questions =====\n",
      "['How can I request an inventory status report from the Operations Management Team?  ', 'What key details should I include in my request for the inventory status report?']\n",
      "===== sub_questions =====\n",
      "['- What are the steps to book a conference room?', '- What equipment is available in the conference room?', '- What are the rules or guidelines for using the conference room?']\n"
     ]
    }
   ],
   "source": [
    "from langgraph.graph import StateGraph\n",
    "from langchain_core.runnables import RunnablePassthrough\n",
    "from langchain_core.prompts import ChatPromptTemplate\n",
    "from typing import TypedDict, List\n",
    "from langchain_core.output_parsers import StrOutputParser\n",
    "from langchain_core.runnables import RunnableLambda\n",
    "\n",
    "prompt_split_question = ChatPromptTemplate(\n",
    "    [\n",
    "        \"You are an assistant that helps refine and decompose complex questions.\\n\"\n",
    "        \"Your task is to split the given question into a few concise sub-questions only if necessary.\\n\"\n",
    "        \"Do not introduce any new topics or unrelated details.\\n\"\n",
    "        \"Keep the sub-questions directly relevant to the original question.\\n\"\n",
    "        \"If the question is already specific, return it as is.\\n\"\n",
    "        \"Ensure that no extra interpretations or additional information beyond the provided question are included.\\n\"\n",
    "        \"\\n\"\n",
    "        \"Original Question: {question}\\n\"\n",
    "        \"Output (one or more refined sub-questions, separated by newlines):\"\n",
    "    ]\n",
    ")\n",
    "\n",
    "\n",
    "class QuestionState(TypedDict):\n",
    "    question: str\n",
    "    sub_questions: List[str]\n",
    "\n",
    "\n",
    "# Node to split question\n",
    "def split_question_node(state: QuestionState) -> QuestionState:\n",
    "    question = state[\"question\"]\n",
    "    response = (\n",
    "        prompt_split_question\n",
    "        | llm\n",
    "        | StrOutputParser()\n",
    "        | RunnableLambda(lambda result: result.replace(\"\\n\\n\", \"\\n\"))\n",
    "    ).invoke({\"question\": question})\n",
    "\n",
    "    # Convert response to list\n",
    "    sub_questions = response.split(\"\\n\") if \"\\n\" in response else [response]\n",
    "    print(\"===== sub_questions =====\")\n",
    "    print(sub_questions)\n",
    "    return {\n",
    "        \"question\": question,\n",
    "        \"sub_questions\": sub_questions,\n",
    "    }\n",
    "\n",
    "\n",
    "graph = StateGraph(state_schema=QuestionState)\n",
    "\n",
    "graph.add_node(\"split_question\", split_question_node)\n",
    "graph.set_entry_point(\"split_question\")\n",
    "\n",
    "langgraph_question_splitter = graph.compile()\n",
    "\n",
    "# Example executions\n",
    "question = \"I need to check the current inventory levels for an upcoming product launch. How can I request an inventory status report from the Operations Management Team, and what key details should I include in my request?\"\n",
    "result = langgraph_question_splitter.invoke({\"question\": question})\n",
    "\n",
    "question = \"how to use conference room?\"\n",
    "result = langgraph_question_splitter.invoke({\"question\": question})"
   ]
  },
  {
   "cell_type": "code",
   "execution_count": 98,
   "metadata": {},
   "outputs": [],
   "source": [
    "def list_to_dict(l):\n",
    "    return {str(i): v for i, v in enumerate(l)}"
   ]
  },
  {
   "cell_type": "code",
   "execution_count": 99,
   "metadata": {},
   "outputs": [],
   "source": [
    "def dict_to_dynamic_runnable(runnable):\n",
    "    # Convert dictionary to RunnableParallel Dynamically\n",
    "    @chain\n",
    "    def _dic_to_runnable(d):\n",
    "        return RunnableParallel(\n",
    "            {k: (RunnableLambda(lambda x, key=k: x[key]) | runnable) for k in d.keys()}\n",
    "        ).invoke(d)\n",
    "\n",
    "    return _dic_to_runnable"
   ]
  },
  {
   "cell_type": "code",
   "execution_count": 100,
   "metadata": {},
   "outputs": [],
   "source": [
    "prompt_summarize_sub_answers = ChatPromptTemplate(\n",
    "    [\n",
    "        (\n",
    "            \"system\",\n",
    "            \"You are an assistant summarizing multiple responses for better readability.\\n\"\n",
    "            \"Please consolidate the following sub answers into a clear and concise response.\\n\"\n",
    "            \"Ensure the final answer is not too long while maintaining the key points.\\n\"\n",
    "            \"Sub Answers: {sub_answers}\",\n",
    "        ),\n",
    "        (\"human\", \"My question was {question}. Summarize the key points clearly.\"),\n",
    "    ]\n",
    ")"
   ]
  },
  {
   "cell_type": "code",
   "execution_count": 101,
   "metadata": {},
   "outputs": [],
   "source": [
    "sub_answers_chain = (\n",
    "    {\n",
    "        \"question\": RunnablePassthrough(),\n",
    "    }\n",
    "    | langgraph_question_splitter\n",
    "    | RunnableLambda(lambda result: list_to_dict(result[\"sub_questions\"]))\n",
    "    | dict_to_dynamic_runnable(langgraph_applied_rag)\n",
    "    | RunnableLambda(lambda result: list(result.values()))\n",
    ")"
   ]
  },
  {
   "cell_type": "code",
   "execution_count": 104,
   "metadata": {},
   "outputs": [],
   "source": [
    "chat_bot = (\n",
    "    {\n",
    "        \"question\": RunnablePassthrough(),\n",
    "        \"sub_answers\": sub_answers_chain,\n",
    "    }\n",
    "    | prompt_summarize_sub_answers\n",
    "    | llm\n",
    ")"
   ]
  },
  {
   "cell_type": "code",
   "execution_count": null,
   "metadata": {},
   "outputs": [],
   "source": [
    "# De-abstraction of the chatbot\n",
    "chat_bot = (\n",
    "    {\n",
    "        \"question\": RunnablePassthrough(),\n",
    "        \"sub_answers\": {  # sub_answers_chain\n",
    "            \"question\": RunnablePassthrough(),\n",
    "        }\n",
    "        | langgraph_question_splitter  # agent to split question\n",
    "        | RunnableLambda(lambda result: list_to_dict(result[\"sub_questions\"]))\n",
    "        | dict_to_dynamic_runnable(\n",
    "            {  # langgraph_applied_rag\n",
    "                \"question\": RunnablePassthrough(),\n",
    "                \"context\": {\n",
    "                    \"question\": RunnablePassthrough(),\n",
    "                }\n",
    "                | langgraph_retriever  # agent to retrieve relevant docs\n",
    "                | RunnableLambda(lambda result: result[\"relevant_docs\"])\n",
    "                | context_parser,\n",
    "            }\n",
    "            | prompt\n",
    "            | llm\n",
    "            | StrOutputParser()\n",
    "        )\n",
    "        | RunnableLambda(lambda result: list(result.values())),\n",
    "    }\n",
    "    | prompt_summarize_sub_answers\n",
    "    | llm\n",
    ")"
   ]
  },
  {
   "cell_type": "code",
   "execution_count": 105,
   "metadata": {},
   "outputs": [
    {
     "name": "stdout",
     "output_type": "stream",
     "text": [
      "===== sub_questions =====\n",
      "['How can I request an inventory status report from the Operations Management Team?  ', 'What key details should I include in my request for the inventory status report?']\n",
      "['no', 'yes', 'yes', 'no', 'no']\n",
      "['no', 'no', 'no', 'yes', 'yes']\n",
      "To request an inventory status report for your upcoming product launch, follow these steps:\n",
      "\n",
      "1. **Identify the Contact:** Reach out to Jiwoo Shin (Assistant Manager, jiwoo.shin@xyzshop.com), with Hyeonseo Kim (Junior Staff, hyeonseo.kim@xyzshop.com) as a backup.\n",
      "\n",
      "2. **Compose Your Email:** Include the following key details:\n",
      "   - Your name and position.\n",
      "   - Purpose of the request (e.g., checking inventory levels for a product launch).\n",
      "   - Specific timeframe for the inventory needed (e.g., current levels).\n",
      "   - Preferred data format (e.g., Excel, PDF).\n",
      "   - Key metrics to include (e.g., total inventory levels, discrepancies).\n",
      "   - Deadline for the report (e.g., \"Please send by Friday 5:00 PM\").\n",
      "   - Your contact information for follow-up.\n",
      "\n",
      "3. **Provide Context:** If relevant, mention any specific projects or issues related to your request.\n",
      "\n",
      "4. **Follow Up:** If you don't receive a response within a few days, send a polite follow-up email.\n",
      "\n",
      "Here’s a sample email template:\n",
      "\n",
      "---\n",
      "Subject: Request for Inventory Status Report\n",
      "\n",
      "Dear Jiwoo,\n",
      "\n",
      "I hope this message finds you well. I am writing to request an inventory status report for our upcoming product launch. Specifically, I need the current inventory levels.\n",
      "\n",
      "If possible, I would appreciate receiving this report in [preferred format] by [insert deadline]. \n",
      "\n",
      "Thank you for your assistance!\n",
      "\n",
      "Best regards,  \n",
      "[Your Name]  \n",
      "[Your Position]  \n",
      "[Your Contact Information]  \n",
      "---\n",
      "\n",
      "Sending your email during business hours can help ensure a timely response.\n"
     ]
    }
   ],
   "source": [
    "response = chat_bot.invoke(\n",
    "    \"I need to check the current inventory levels for an upcoming product launch.\\n\"\n",
    "    \"How can I request an inventory status report from the Operations Management Team,\\n\"\n",
    "    \"and what key details should I include in my request?\"\n",
    ")\n",
    "print(response.content)"
   ]
  },
  {
   "cell_type": "markdown",
   "metadata": {},
   "source": [
    "## Wrap up\n",
    "\n",
    "Throughout this tutorial, we explored various ways to enhance a basic RAG system using `LangChain` and `LangGraph`. We started with a simple similarity search-based RAG implementation, then introduced an agent to filter retrieved documents, ensuring they contribute meaningfully to the final response. Finally, we refined the user query handling by segmenting and processing sub-questions in parallel, creating a more structured and intelligent response system.\n",
    "\n",
    "One point I want to highlight—though it may seem less critical functionally—is the tight integration between `LangChain` and `LangGraph`. Rather than thinking of them as separate choices, it's more effective to use them flexibly depending on the situation.\n",
    "\n",
    "`LangGraph` builds on LangChain's Runnable architecture, meaning you don’t have to choose one over the other. Instead, you can seamlessly invoke `LangGraph` workflows within a standard `LangChain` chain, or even integrate LCEL (LangChain Expression Language) to construct more modular and expressive logic.\n",
    "\n",
    "Ultimately, the key takeaway is that `LangChain` and `LangGraph` complement each other—leveraging both allows for greater adaptability, whether you're optimizing retrieval, structuring workflows, or improving response generation. The best approach isn't about choosing one, but about knowing when and how to use each effectively.\n"
   ]
  },
  {
   "cell_type": "markdown",
   "metadata": {},
   "source": [
    "---\n"
   ]
  },
  {
   "cell_type": "markdown",
   "metadata": {},
   "source": [
    "All the data used in this tutorial is synthetic. Company names, personal names, business emails, contact information, and all other details are entirely fictitious and have been generated using LLM models from ChatGPT and DeepSeek.\n"
   ]
  }
 ],
 "metadata": {
  "kernelspec": {
   "display_name": "langchain-opentutorial-1IH4x998-py3.12",
   "language": "python",
   "name": "python3"
  },
  "language_info": {
   "codemirror_mode": {
    "name": "ipython",
    "version": 3
   },
   "file_extension": ".py",
   "mimetype": "text/x-python",
   "name": "python",
   "nbconvert_exporter": "python",
   "pygments_lexer": "ipython3",
   "version": "3.12.8"
  }
 },
 "nbformat": 4,
 "nbformat_minor": 2
}
