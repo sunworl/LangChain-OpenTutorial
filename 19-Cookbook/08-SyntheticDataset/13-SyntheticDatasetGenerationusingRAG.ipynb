{
 "cells": [
  {
   "cell_type": "markdown",
   "id": "635d8ebb",
   "metadata": {},
   "source": [
    "# Synthetic Dataset Generation using RAG\n",
    "\n",
    "- Author: [Ash-hun](https://github.com/ash-hun)\n",
    "- Design: \n",
    "- Peer Review: [syshin0116](https://github.com/syshin0116), [Kane](https://github.com/HarryKane11)\n",
    "- This is a part of [LangChain Open Tutorial](https://github.com/LangChain-OpenTutorial/LangChain-OpenTutorial)\n",
    "\n",
    "[![Open in Colab](https://colab.research.google.com/assets/colab-badge.svg)](https://colab.research.google.com/github/LangChain-OpenTutorial/LangChain-OpenTutorial/blob/main/99-TEMPLATE/00-BASE-TEMPLATE-EXAMPLE.ipynb) [![Open in GitHub](https://img.shields.io/badge/Open%20in%20GitHub-181717?style=flat-square&logo=github&logoColor=white)](https://github.com/LangChain-OpenTutorial/LangChain-OpenTutorial/blob/main/99-TEMPLATE/00-BASE-TEMPLATE-EXAMPLE.ipynb)\n",
    "\n",
    "## Overview\n",
    "\n",
    "This tutorial covers an example of generating a synthetic dataset using RAG. Typically, it is used to create evaluation datasets for Domain Specific RAG pipelines or to generate synthetic data for model training. This tutorial will focus on the following two features. While the structure is the same, their intended use and purpose differ.\n",
    "\n",
    "**Features**\n",
    "\n",
    "- Domain Specific RAG Evaluation Dataset : Generates a domain specific synthetic dataset (Context, Question, Answer) for evaluating the RAG pipeline.\n",
    "\n",
    "### Table of Contents\n",
    "\n",
    "- [Overview](#overview)\n",
    "- [Environment Setup](#environment-setup)\n",
    "- [Domain Specific RAG Evaluation Dataset](#domain-specific-rag-evaluation-dataset)\n",
    "\n",
    "\n",
    "### References\n",
    "\n",
    "- [autoRAG github](https://github.com/Marker-Inc-Korea/AutoRAG?tab=readme-ov-file#3-qa-creation)\n",
    "- [ragas github : singlehop question](https://github.com/explodinggradients/ragas/blob/main/src/ragas/testset/synthesizers/single_hop/prompts.py)\n",
    "- [huggingface : RAG Evaluation Dataset Prompt](https://huggingface.co/datasets/Ash-Hun/Create_RAG_Evalauation_Data)\n",
    "----"
   ]
  },
  {
   "cell_type": "markdown",
   "id": "c6c7aba4",
   "metadata": {},
   "source": [
    "## Environment Setup\n",
    "\n",
    "Set up the environment. You may refer to [Environment Setup](https://wikidocs.net/257836) for more details.\n",
    "\n",
    "**[Note]**\n",
    "- `langchain-opentutorial` is a package that provides a set of easy-to-use environment setup, useful functions and utilities for tutorials. \n",
    "- You can checkout the [`langchain-opentutorial`](https://github.com/LangChain-OpenTutorial/langchain-opentutorial-pypi) for more details."
   ]
  },
  {
   "cell_type": "code",
   "execution_count": 1,
   "id": "21943adb",
   "metadata": {},
   "outputs": [],
   "source": [
    "%%capture --no-stderr\n",
    "%pip install langchain-opentutorial"
   ]
  },
  {
   "cell_type": "code",
   "execution_count": 2,
   "id": "f25ec196",
   "metadata": {},
   "outputs": [],
   "source": [
    "# Install required packages\n",
    "from langchain_opentutorial import package\n",
    "\n",
    "package.install(\n",
    "    [\n",
    "        \"langsmith\",\n",
    "        \"langchain\",\n",
    "        \"langchain_core\",\n",
    "        \"langchain_openai\",\n",
    "    ],\n",
    "    verbose=False,\n",
    "    upgrade=False,\n",
    ")"
   ]
  },
  {
   "cell_type": "code",
   "execution_count": 3,
   "id": "7f9065ea",
   "metadata": {},
   "outputs": [
    {
     "name": "stdout",
     "output_type": "stream",
     "text": [
      "Environment variables have been set successfully.\n"
     ]
    }
   ],
   "source": [
    "# Set environment variables\n",
    "from langchain_opentutorial import set_env\n",
    "\n",
    "set_env(\n",
    "    {\n",
    "        \"OPENAI_API_KEY\": \"\",\n",
    "        \"LANGCHAIN_API_KEY\": \"\",\n",
    "        \"LANGCHAIN_TRACING_V2\": \"true\",\n",
    "        \"LANGCHAIN_ENDPOINT\": \"https://api.smith.langchain.com\",\n",
    "        \"LANGCHAIN_PROJECT\": \"Synthetic Dataset Generation using RAG\",\n",
    "    }\n",
    ")"
   ]
  },
  {
   "cell_type": "markdown",
   "id": "690a9ae0",
   "metadata": {},
   "source": [
    "You can alternatively set API keys such as `OPENAI_API_KEY` in a `.env` file and load them.\n",
    "\n",
    "[Note] This is not necessary if you've already set the required API keys in previous steps."
   ]
  },
  {
   "cell_type": "code",
   "execution_count": 4,
   "id": "4f99b5b6",
   "metadata": {},
   "outputs": [
    {
     "data": {
      "text/plain": [
       "True"
      ]
     },
     "execution_count": 4,
     "metadata": {},
     "output_type": "execute_result"
    }
   ],
   "source": [
    "# Load API keys from .env file\n",
    "from dotenv import load_dotenv\n",
    "\n",
    "load_dotenv(override=True)"
   ]
  },
  {
   "cell_type": "markdown",
   "id": "aa00c3f4",
   "metadata": {},
   "source": [
    "## Domain Specific RAG Evaluation Dataset\n",
    "\n",
    "Generates a synthetic dataset (```Context```, ```Question```, ```Answer```) for evaluating the Domain Specific RAG pipeline.\n",
    "\n",
    "- ```Context```: A context randomly selected from documents in a specific domain is used as the ground truth.\n",
    "- ```Question```: A question that can be answered using the ```Context```.\n",
    "- ```Answer```: An answer generated based on the ```Context``` and the ```Question```."
   ]
  },
  {
   "cell_type": "code",
   "execution_count": 5,
   "id": "a40ca72d",
   "metadata": {},
   "outputs": [],
   "source": [
    "# Import Library\n",
    "from langchain_openai import ChatOpenAI\n",
    "from langchain_core.prompts import ChatPromptTemplate"
   ]
  },
  {
   "cell_type": "markdown",
   "id": "1cb003d4",
   "metadata": {},
   "source": [
    "### Question Generating Prompt\n",
    "\n",
    "A prompt for generating questions from a given ```context``` using the RAG (Retriever Augmented Generation) technique is structured as follows.  \n",
    "It consists of four main sections—```Instruction```, ```Requirements```, ```Style```, and ```Example```—along with an Indicator section where actual variable values are mapped. Each section is explained below: \n",
    "- ```Instruction```: Provides overall guidance for the prompt, including the purpose of the task and an explanation of the structured prompt sections.\n",
    "- ```Requirements```: Lists essential conditions that must be met when performing the task.\n",
    "- ```Style```: Specifies the stylistic guidelines for the generated output.\n",
    "- ```Example```: Includes actual execution examples."
   ]
  },
  {
   "cell_type": "code",
   "execution_count": 7,
   "id": "98c72bf3",
   "metadata": {},
   "outputs": [],
   "source": [
    "Q_GEN = \"\"\"\n",
    "[ Instruction ] : \n",
    "- Your mission is to generate detailed ONE QUESTION that can yield correct answers from the GIVEN CONTEXT.\n",
    "- When creating a QUESTION, you should carefully consider the following items:\n",
    "  - Requirements : Essential requirements that must be included\n",
    "  - Style : The form and style of the generated question\n",
    "  - Think : Elements and procedures you need to self-examine for the created question\n",
    "\n",
    "<Requirements>\n",
    "- The questions you generate must always maintain high quality.\n",
    "- Please do not print and generate any other unnecessary words.\n",
    "- The Questions are created from the given context, but it must be created with an appropriate balance between general content and domain-specific content.\n",
    "- If the given context related figure, you must generate the question related figure data.\n",
    "- Finally, verify that the generated question contains only ONE QUESTION itself without any unnecessary description or content.\n",
    "</Requirements> \n",
    "\n",
    "<Style>\n",
    "- The expressions you use should either be inferred from the given context or be directly used expressions.\n",
    "- Any expressions involving formulas must always be enclosed within $ symbols.\n",
    "- Text that is conceptually represented with subscripts or superscripts should be expressed as mathematical formulas.\n",
    "- You should compose questions that are as natural as possible within the context.\n",
    "</Style>\n",
    "\n",
    "\n",
    "Now, It's your turn. You must generate long and detailed high-quality questions from the given context while following the mentioned <Requirements> and <Style>.\n",
    "The examples below consist of positive samples and negative samples. Please refer to the given examples to generate your answer.\n",
    "When you generated QUESTION, you should take a deep breath and think step-by-step and generate the most natural Korean question.\n",
    "\n",
    "<Example>\n",
    "  - Given Context : Advancements in smart manufacturing technology have significantly contributed to improving production efficiency and product quality. In particular, automation systems utilizing artificial intelligence (AI) and the Internet of Things (IoT) enable real-time data analysis to detect abnormalities in machinery and facilitate preventive maintenance. These technologies play a crucial role in minimizing production downtime and reducing costs. Additionally, by implementing digital twin technology, manufacturers can simulate product performance in a virtual environment, allowing them to anticipate and address potential issues before they arise in the production process.\n",
    "  - Question : What role do artificial intelligence (AI) and the Internet of Things (IoT) play in smart manufacturing, and what benefits do they offer to businesses?\n",
    "</Example>\n",
    "\n",
    "- Given Context : {context}\n",
    "- Question : \n",
    "\"\"\""
   ]
  },
  {
   "cell_type": "code",
   "execution_count": 8,
   "id": "90e79f75",
   "metadata": {},
   "outputs": [],
   "source": [
    "# Step 01. Generation Question from Domain Specific Context\n",
    "\n",
    "def question_generate(context:list, q_gen_prompt:str=Q_GEN) -> str:\n",
    "    # Create an OpenAI object\n",
    "    model = ChatOpenAI(temperature=0, model_name=\"gpt-4o\")\n",
    "    \n",
    "    # Set up the prompt template\n",
    "    prompt = ChatPromptTemplate.from_messages(\n",
    "        [\n",
    "            (\"system\", \"You are a helpful AI assistant\"),\n",
    "            (\"user\", q_gen_prompt),\n",
    "        ]\n",
    "    )\n",
    "    \n",
    "    # Combine the prompt, model, and JsonOutputParser into a chain\n",
    "    chain = prompt | model\n",
    "    \n",
    "    # Prepare inputs for batch processing\n",
    "    inputs = [{\"context\": ctx} for ctx in context]\n",
    "\n",
    "    results = chain.batch(inputs)\n",
    "    return [result.content for result in results]"
   ]
  },
  {
   "cell_type": "code",
   "execution_count": 9,
   "id": "26e39ba5",
   "metadata": {},
   "outputs": [
    {
     "data": {
      "text/plain": [
       "[\"How are robotics and artificial intelligence (AI) utilized in the automotive industry's smart manufacturing systems to improve production speed and quality, and what impact do advancements in electric vehicles (EVs) and autonomous driving technology have on battery manufacturing and sensor technology?\",\n",
       " 'How do smart manufacturing technologies, including automated production lines and artificial intelligence (AI), contribute to ensuring quality and safety in the pharmaceutical industry, and why is real-time monitoring with IoT sensors particularly important for biopharmaceuticals?']"
      ]
     },
     "execution_count": 9,
     "metadata": {},
     "output_type": "execute_result"
    }
   ],
   "source": [
    "sample_context = [\n",
    "    \"Smart manufacturing systems utilizing robotics and artificial intelligence (AI) are being rapidly adopted in the automotive industry. Automated assembly lines enhance production speed while maintaining high precision, and AI-powered vision systems for quality inspection help detect defects in real time, reducing defect rates. Additionally, with the advancement of electric vehicles (EVs) and autonomous driving technology, the importance of battery manufacturing and sensor technology is growing, leading to the continuous development of optimized production processes.\", \n",
    "    \"In the pharmaceutical industry, quality and safety are considered the most critical factors, and smart manufacturing technologies are actively utilized to ensure them. Automated production lines enable precise formulation and packaging of medications, while artificial intelligence (AI) is used for real-time quality inspections to detect impurities. Additionally, data analytics help optimize manufacturing processes and ensure compliance with regulatory requirements. In particular, for biopharmaceuticals, precise temperature and humidity control is essential, making real-time monitoring with IoT sensors a crucial component.\"\n",
    "]\n",
    "sample_question = question_generate(context=sample_context)\n",
    "sample_question"
   ]
  },
  {
   "cell_type": "markdown",
   "id": "e03e64c4",
   "metadata": {},
   "source": [
    "### Question Evolving Prompt\n",
    "\n",
    "\n",
    "A prompt that utilizes the RAG (Retriever Augmented Generation) technique to correct inaccurate information or generate more evolved questions based on a given ```context``` and a draft ```question``` is structured as follows.  \n",
    "It consists of four main sections—```Instruction```, ```Evolving```, and ```Example``` along with an Indicator section where actual variable values are mapped. Each section is explained below:  \n",
    "\n",
    "- ```Instruction```: Provides the overall guidance for the prompt.\n",
    "- ```Evolving```: Contains step-by-step instructions to achieve the purpose of the prompt.\n",
    "- ```Example```: Includes actual execution examples."
   ]
  },
  {
   "cell_type": "code",
   "execution_count": 10,
   "id": "8ce37c25",
   "metadata": {},
   "outputs": [],
   "source": [
    "Q_EVOLVE=\"\"\"\n",
    "[ Instruction ] : \n",
    "- Your mission is to review & check the context and the question to determine whether the answer to the question can be obtained from the given context, and then evolve the following question.\n",
    "- If the question can be fully answered using information from the given context, please return the same question.\n",
    "- If the question cannot be answered using information from the given context, please modify the question.\n",
    "- This process is called <Evolving> and should be carried out according to the procedure below, ultimately returning either the original or the EVOLVING QUESTION.\n",
    "\n",
    "<Evolving>\n",
    "1. Understand the given context and question.\n",
    "2. Determine whether all the information required to answer the question is present in the context.\n",
    "  2-1. If you conclude that all necessary information is available in the context:\n",
    "    2-1-1. Treat the given question as the EVOLVING QUESTION.\n",
    "  2-2. If you conclude that not all necessary information is present in the context:\n",
    "    2-2-1. Modify the form or content of the question so that it can be answered using only the information provided in the context.\n",
    "    2-2-2. Treat the modified question as the EVOLVING QUESTION.\n",
    "3. Return the evolving question.\n",
    "</Evolving> \n",
    "\n",
    "You can refer to the following examples when performing the <Evolving> process, however you must never explain the <Evolving> process. Only provide the EVOLVING QUESTION.\n",
    "Take sufficient time to think logically through each step as you proceed. \n",
    "If you create a high-quality EVOLVING QUESTION, you may receive a small tip. \n",
    "Now it's your turn. Take a deep breath and start!\n",
    "\n",
    "<Example>\n",
    "  - Given Context : Advancements in smart manufacturing technology have significantly contributed to improving production efficiency and product quality. In particular, automation systems utilizing artificial intelligence (AI) and the Internet of Things (IoT) enable real-time data analysis to detect abnormalities in machinery and facilitate preventive maintenance. These technologies play a crucial role in minimizing production downtime and reducing costs. Additionally, by implementing digital twin technology, manufacturers can simulate product performance in a virtual environment, allowing them to anticipate and address potential issues before they arise in the production process.\n",
    "  - Question : What role do artificial intelligence (AI) and the Internet of Things (IoT) play in smart manufacturing, and what benefits do they offer to businesses?\n",
    "  - EVOLVING QUESTION : What role do artificial intelligence (AI) and the Internet of Things (IoT) play in smart manufacturing, and how do they contribute to improving production efficiency and reducing costs?\n",
    "</Example>\n",
    "\n",
    "- Given Context : {context}\n",
    "- Question :{question}\n",
    "- EVOLVING QUESTION :\n",
    "\"\"\""
   ]
  },
  {
   "cell_type": "code",
   "execution_count": 11,
   "id": "0d70cb6e",
   "metadata": {},
   "outputs": [],
   "source": [
    "# Step 02. Evolving Question from Domain Specific Context & Question\n",
    "def question_evolving(context:str, question:str, evolving_prompt:str=Q_EVOLVE) -> str:\n",
    "    # Create an OpenAI object\n",
    "    model = ChatOpenAI(temperature=0, model_name=\"gpt-4o\")\n",
    "    \n",
    "    # Set up the prompt template\n",
    "    prompt = ChatPromptTemplate.from_messages(\n",
    "        [\n",
    "            (\"system\", \"You are a helpful AI assistant\"),\n",
    "            (\"user\", evolving_prompt),\n",
    "        ]\n",
    "    )\n",
    "    \n",
    "    # Combine the prompt, model, and JsonOutputParser into a chain\n",
    "    chain = prompt | model\n",
    "\n",
    "    # Prepare inputs for batch processing\n",
    "    inputs = [{\"context\": ctx, \"question\": q} for ctx, q in zip(context, question)]\n",
    "\n",
    "    results = chain.batch(inputs)\n",
    "    return [result.content for result in results]"
   ]
  },
  {
   "cell_type": "code",
   "execution_count": 12,
   "id": "3bb2d0b3",
   "metadata": {},
   "outputs": [
    {
     "data": {
      "text/plain": [
       "[\"How are robotics and artificial intelligence (AI) utilized in the automotive industry's smart manufacturing systems to improve production speed and quality?\",\n",
       " 'How do smart manufacturing technologies, including automated production lines and artificial intelligence (AI), contribute to ensuring quality and safety in the pharmaceutical industry, and why is real-time monitoring with IoT sensors particularly important for biopharmaceuticals?']"
      ]
     },
     "execution_count": 12,
     "metadata": {},
     "output_type": "execute_result"
    }
   ],
   "source": [
    "evolved_question = question_evolving(context=sample_context, question=sample_question)\n",
    "evolved_question"
   ]
  },
  {
   "cell_type": "markdown",
   "id": "d0c5e781",
   "metadata": {},
   "source": [
    "### Answer Generating Prompt\n",
    "\n",
    "A prompt that uses the RAG (Retriever Augmented Generation) technique to generate the final answer based on a given ```context``` and ```question``` is structured as follows. It consists of two main sections—```Instruction``` and ```Example```—along with an Indicator section where actual variable values are mapped. Each section is explained below:  \n",
    "\n",
    "- ```Instruction```: Provides the overall guidance for the prompt.\n",
    "- ```Example```: Includes actual execution examples."
   ]
  },
  {
   "cell_type": "code",
   "execution_count": 13,
   "id": "b107abeb",
   "metadata": {},
   "outputs": [],
   "source": [
    "A_GEN = \"\"\"\n",
    "[ Instruction ] : \n",
    "- Your mission is to produce an accurate answer by reviewing the provided CONTEXT and QUESTION.\n",
    "- When creating your ANSWER, you must use the information from the CONTEXT and strive to make your response as detailed and high-quality as possible.\n",
    "- Please refer to the <Example> below to create your ANSWER.\n",
    "\n",
    "<Example>\n",
    "    - Given Context : Advancements in smart manufacturing technology have significantly contributed to improving production efficiency and product quality. In particular, automation systems utilizing artificial intelligence (AI) and the Internet of Things (IoT) enable real-time data analysis to detect abnormalities in machinery and facilitate preventive maintenance. These technologies play a crucial role in minimizing production downtime and reducing costs. Additionally, by implementing digital twin technology, manufacturers can simulate product performance in a virtual environment, allowing them to anticipate and address potential issues before they arise in the production process.\n",
    "    - QUESTION : What role do artificial intelligence (AI) and the Internet of Things (IoT) play in smart manufacturing, and how do they contribute to improving production efficiency and reducing costs?\n",
    "    - Answer : Artificial intelligence (AI) and the Internet of Things (IoT) play a key role in smart manufacturing by enabling real-time data analysis to detect abnormalities in machinery. These technologies help facilitate preventive maintenance, which minimizes production downtime and ensures that equipment operates efficiently. By continuously monitoring production processes, AI and IoT systems identify potential issues before they lead to failures, thus reducing the likelihood of costly repairs and unplanned stoppages. Additionally, this proactive approach helps reduce operational costs by optimizing the use of resources and improving overall production efficiency, ultimately leading to better product quality and cost savings for businesses.\n",
    "</Example>\n",
    "\n",
    "Take sufficient time to think logically through each step as you proceed. \n",
    "If you create a detail high-quality ANSWER, you may receive a small tip. \n",
    "Now it's your turn. Take a deep breath and start!\n",
    "\n",
    "- Given Context : {context}\n",
    "- Question :{question}\n",
    "- Answer :\n",
    "\n",
    "\"\"\""
   ]
  },
  {
   "cell_type": "code",
   "execution_count": 14,
   "id": "cfb27d7a",
   "metadata": {},
   "outputs": [],
   "source": [
    "# Step 03. Generate Answer from Domain Specific Context & Evolved Question\n",
    "def answer_generate(context:str, evolved_question:str, a_gen_prompt:str=A_GEN) -> str:\n",
    "    # Create an OpenAI object\n",
    "    model = ChatOpenAI(temperature=0, model_name=\"gpt-4o\")\n",
    "    \n",
    "    # Set up the prompt template\n",
    "    prompt = ChatPromptTemplate.from_messages(\n",
    "        [\n",
    "            (\"system\", \"You are a helpful AI assistant\"),\n",
    "            (\"user\", a_gen_prompt),\n",
    "        ]\n",
    "    )\n",
    "    # Combine the prompt, model, and JsonOutputParser into a chain\n",
    "    chain = prompt | model\n",
    "\n",
    "    # Prepare inputs for batch processing\n",
    "    inputs = [{\"context\": ctx, \"question\": q} for ctx, q in zip(context, evolved_question)]\n",
    "\n",
    "    results = chain.batch(inputs)\n",
    "    return [result.content for result in results]"
   ]
  },
  {
   "cell_type": "code",
   "execution_count": 15,
   "id": "46d94b2f",
   "metadata": {},
   "outputs": [
    {
     "data": {
      "text/plain": [
       "[\"Robotics and artificial intelligence (AI) are integral components of smart manufacturing systems in the automotive industry, significantly enhancing both production speed and quality. Automated assembly lines, powered by robotics, streamline the manufacturing process by performing repetitive tasks with high precision and speed, which accelerates production rates while maintaining consistency. This automation reduces the likelihood of human error, ensuring that each component is assembled accurately.\\n\\nAI further augments these systems through AI-powered vision systems used for quality inspection. These systems are capable of detecting defects in real time, allowing for immediate corrective actions. By identifying and addressing defects as they occur, AI helps reduce defect rates, ensuring that only high-quality products reach the market.\\n\\nMoreover, as the automotive industry shifts towards electric vehicles (EVs) and autonomous driving technology, the role of AI and robotics becomes even more critical. The production of EV batteries and advanced sensors requires highly optimized and precise manufacturing processes, which are facilitated by these technologies. Robotics and AI contribute to the continuous development and refinement of these processes, supporting the industry's evolution towards more advanced and efficient vehicle technologies.\",\n",
       " 'Smart manufacturing technologies play a pivotal role in ensuring quality and safety in the pharmaceutical industry by leveraging automated production lines and artificial intelligence (AI). Automated production lines are crucial for the precise formulation and packaging of medications, which is essential to maintain the integrity and efficacy of pharmaceutical products. These automated systems reduce human error and ensure consistency in the production process, which is vital for meeting stringent quality standards.\\n\\nArtificial intelligence (AI) further enhances quality assurance by conducting real-time quality inspections. AI systems are capable of detecting impurities and anomalies in the production process, allowing for immediate corrective actions. This real-time inspection capability ensures that only products meeting the highest quality standards reach the market, thereby safeguarding consumer safety and maintaining regulatory compliance.\\n\\nIn the realm of biopharmaceuticals, real-time monitoring with IoT sensors is particularly important due to the sensitive nature of these products. Biopharmaceuticals often require precise environmental conditions, such as specific temperature and humidity levels, to maintain their stability and effectiveness. IoT sensors provide continuous monitoring of these critical parameters, ensuring that any deviations are quickly identified and addressed. This real-time data collection and analysis help prevent potential quality issues that could arise from environmental fluctuations, thereby ensuring the safety and efficacy of biopharmaceutical products. Overall, the integration of smart manufacturing technologies, including AI and IoT, is essential for maintaining the high standards of quality and safety required in the pharmaceutical industry.']"
      ]
     },
     "execution_count": 15,
     "metadata": {},
     "output_type": "execute_result"
    }
   ],
   "source": [
    "answer = answer_generate(context=sample_context, evolved_question=evolved_question)\n",
    "answer"
   ]
  },
  {
   "cell_type": "markdown",
   "id": "10203046-af3e-4122-bc2d-5f84bbb531db",
   "metadata": {},
   "source": [
    "### SyntheticGenerator\n",
    "\n",
    "Based on the above tutorial, I have written it as a single class called `SyntheticGenerator()`.  \n",
    "The overall flow is the same as the tutorial, and it can be used by executing the `run()` method. By specifying the desired path in save_path, the generated data will be saved as a CSV file, with each (Context, Query, Answer) triple-pair stored in a single row."
   ]
  },
  {
   "cell_type": "code",
   "execution_count": 16,
   "id": "213d7e94",
   "metadata": {},
   "outputs": [],
   "source": [
    "class SyntheticGenerator():\n",
    "    def __init__(self, data:list|None=None, Gen_prompt_question:str=Q_GEN, Gen_prompt_evolving:str=Q_EVOLVE, Gen_prompt_answer:str=A_GEN)->None:\n",
    "        self.data = data\n",
    "        self.q_prompt = Gen_prompt_question\n",
    "        self.e_prompt = Gen_prompt_evolving\n",
    "        self.a_prompt = Gen_prompt_answer\n",
    "\n",
    "    def _generate_question(self, data:list[str]) -> list:\n",
    "        # Create an OpenAI object\n",
    "        model = ChatOpenAI(temperature=0, model_name=\"gpt-4o\")\n",
    "        \n",
    "        # Set up the prompt template\n",
    "        prompt = ChatPromptTemplate.from_messages(\n",
    "            [\n",
    "                (\"system\", \"You are a helpful AI assistant\"),\n",
    "                (\"user\", self.q_prompt),\n",
    "            ]\n",
    "        )\n",
    "        \n",
    "        # Combine the prompt, model, and JsonOutputParser into a chain\n",
    "        chain = prompt | model\n",
    "        \n",
    "        # Prepare inputs for batch processing\n",
    "        inputs = [{\"context\": ctx} for ctx in data]\n",
    "\n",
    "        results = chain.batch(inputs)\n",
    "        return [[ctx, result.content] for ctx, result in zip(data, results)]\n",
    "\n",
    "    def _evolving_question(self, data:list[list[str]]) -> list[list[str]]:\n",
    "        # Create an OpenAI object\n",
    "        model = ChatOpenAI(temperature=0, model_name=\"gpt-4o\")\n",
    "        \n",
    "        # Set up the prompt template\n",
    "        prompt = ChatPromptTemplate.from_messages(\n",
    "            [\n",
    "                (\"system\", \"You are a helpful AI assistant\"),\n",
    "                (\"user\", self.e_prompt),\n",
    "            ]\n",
    "        )\n",
    "        \n",
    "        # Combine the prompt, model, and JsonOutputParser into a chain\n",
    "        chain = prompt | model\n",
    "\n",
    "        # Prepare inputs for batch processing\n",
    "        inputs = [{\"context\": each[0], \"question\": each[1]} for each in data]\n",
    "\n",
    "        results = chain.batch(inputs)\n",
    "        return [[each[0], result.content] for each, result in zip(data, results)]\n",
    "\n",
    "    def _generate_answer(self, data:list[list[str]]) -> list[list[str]]:\n",
    "        # Create an OpenAI object\n",
    "        model = ChatOpenAI(temperature=0, model_name=\"gpt-4o\")\n",
    "        \n",
    "        # Set up the prompt template\n",
    "        prompt = ChatPromptTemplate.from_messages(\n",
    "            [\n",
    "                (\"system\", \"You are a helpful AI assistant\"),\n",
    "                (\"user\", self.a_prompt),\n",
    "            ]\n",
    "        )\n",
    "        # Combine the prompt, model, and JsonOutputParser into a chain\n",
    "        chain = prompt | model\n",
    "\n",
    "        # Prepare inputs for batch processing\n",
    "        inputs = [{\"context\": ctx, \"question\": q} for ctx, q in data]\n",
    "\n",
    "        results = chain.batch(inputs)\n",
    "        return [[each[0], each[1], result.content] for each, result in zip(data, results)]\n",
    "\n",
    "    def run(self, data:list|None=None, save_path:str|None=None) -> list:\n",
    "        raw_data = data if self.data is None else self.data\n",
    "        print(raw_data)\n",
    "        if raw_data is None:\n",
    "            raise ValueError(\"Empty Data\")\n",
    "        else:\n",
    "            ctx_data_q = self._generate_question(data=raw_data)\n",
    "            ctx_data_eq = self._evolving_question(data=ctx_data_q)\n",
    "            ctx_data_eq_a = self._generate_answer(data=ctx_data_eq)\n",
    "        \n",
    "        if save_path is None:\n",
    "            return ctx_data_eq_a\n",
    "        else:\n",
    "            import pandas as pd\n",
    "            pd.DataFrame(ctx_data_eq_a, columns=['context', 'question', 'answer']).to_csv(save_path, index=False)\n",
    "            return ctx_data_eq_a\n"
   ]
  },
  {
   "cell_type": "code",
   "execution_count": 17,
   "id": "b88ecf16-3066-49af-92c3-3a6b049985b7",
   "metadata": {},
   "outputs": [
    {
     "name": "stdout",
     "output_type": "stream",
     "text": [
      "['Smart manufacturing systems utilizing robotics and artificial intelligence (AI) are being rapidly adopted in the automotive industry. Automated assembly lines enhance production speed while maintaining high precision, and AI-powered vision systems for quality inspection help detect defects in real time, reducing defect rates. Additionally, with the advancement of electric vehicles (EVs) and autonomous driving technology, the importance of battery manufacturing and sensor technology is growing, leading to the continuous development of optimized production processes.', 'In the pharmaceutical industry, quality and safety are considered the most critical factors, and smart manufacturing technologies are actively utilized to ensure them. Automated production lines enable precise formulation and packaging of medications, while artificial intelligence (AI) is used for real-time quality inspections to detect impurities. Additionally, data analytics help optimize manufacturing processes and ensure compliance with regulatory requirements. In particular, for biopharmaceuticals, precise temperature and humidity control is essential, making real-time monitoring with IoT sensors a crucial component.']\n"
     ]
    },
    {
     "data": {
      "text/plain": [
       "[['Smart manufacturing systems utilizing robotics and artificial intelligence (AI) are being rapidly adopted in the automotive industry. Automated assembly lines enhance production speed while maintaining high precision, and AI-powered vision systems for quality inspection help detect defects in real time, reducing defect rates. Additionally, with the advancement of electric vehicles (EVs) and autonomous driving technology, the importance of battery manufacturing and sensor technology is growing, leading to the continuous development of optimized production processes.',\n",
       "  'How are robotics and artificial intelligence (AI) integrated into smart manufacturing systems in the automotive industry, and what impact do they have on production speed, precision, and defect rates?',\n",
       "  'Robotics and artificial intelligence (AI) are integral components of smart manufacturing systems in the automotive industry, significantly impacting production speed, precision, and defect rates. Automated assembly lines, powered by robotics, enhance production speed by streamlining the manufacturing process, allowing for faster assembly of automotive components. These robotic systems are designed to perform repetitive tasks with high precision, ensuring that each component is assembled accurately and consistently, which is crucial in maintaining the quality standards of automotive manufacturing.\\n\\nAI-powered vision systems play a critical role in quality inspection by detecting defects in real time. These systems use advanced algorithms to analyze visual data from cameras and sensors, identifying any anomalies or defects in the components being produced. This real-time defect detection capability helps reduce defect rates by allowing manufacturers to address issues immediately, preventing defective products from progressing further down the production line.\\n\\nFurthermore, the growing focus on electric vehicles (EVs) and autonomous driving technology has increased the importance of battery manufacturing and sensor technology. This has led to the continuous development of optimized production processes, where robotics and AI are used to enhance the efficiency and quality of these critical components. Overall, the integration of robotics and AI in smart manufacturing systems not only boosts production speed and precision but also significantly reduces defect rates, contributing to more efficient and reliable automotive manufacturing.'],\n",
       " ['In the pharmaceutical industry, quality and safety are considered the most critical factors, and smart manufacturing technologies are actively utilized to ensure them. Automated production lines enable precise formulation and packaging of medications, while artificial intelligence (AI) is used for real-time quality inspections to detect impurities. Additionally, data analytics help optimize manufacturing processes and ensure compliance with regulatory requirements. In particular, for biopharmaceuticals, precise temperature and humidity control is essential, making real-time monitoring with IoT sensors a crucial component.',\n",
       "  'How are smart manufacturing technologies utilized to ensure quality and safety in the pharmaceutical industry, and why is real-time monitoring particularly important in the production of biopharmaceuticals?',\n",
       "  'Smart manufacturing technologies are utilized in the pharmaceutical industry to ensure quality and safety by integrating automation, artificial intelligence (AI), and data analytics into the production processes. Automated production lines are employed to achieve precise formulation and packaging of medications, which is crucial for maintaining the consistency and efficacy of pharmaceutical products. AI plays a significant role in conducting real-time quality inspections, allowing for the detection of impurities and ensuring that only products meeting stringent quality standards are released to the market. This real-time inspection capability helps prevent defective products from reaching consumers, thereby safeguarding public health.\\n\\nData analytics further enhance the manufacturing process by optimizing operations and ensuring compliance with regulatory requirements. By analyzing production data, manufacturers can identify areas for improvement, streamline processes, and maintain adherence to industry standards and regulations, which are critical for ensuring the safety and efficacy of pharmaceutical products.\\n\\nIn the production of biopharmaceuticals, real-time monitoring is particularly important due to the sensitive nature of these products. Biopharmaceuticals often require precise control of environmental conditions, such as temperature and humidity, to maintain their stability and effectiveness. IoT sensors are employed to provide continuous, real-time monitoring of these conditions, ensuring that any deviations are quickly detected and corrected. This level of control is essential to prevent degradation of the biopharmaceuticals, which could compromise their safety and therapeutic value. Thus, real-time monitoring with IoT technology is a crucial component in maintaining the quality and safety of biopharmaceutical products.']]"
      ]
     },
     "execution_count": 17,
     "metadata": {},
     "output_type": "execute_result"
    }
   ],
   "source": [
    "sample_context = [\n",
    "    \"Smart manufacturing systems utilizing robotics and artificial intelligence (AI) are being rapidly adopted in the automotive industry. Automated assembly lines enhance production speed while maintaining high precision, and AI-powered vision systems for quality inspection help detect defects in real time, reducing defect rates. Additionally, with the advancement of electric vehicles (EVs) and autonomous driving technology, the importance of battery manufacturing and sensor technology is growing, leading to the continuous development of optimized production processes.\", \n",
    "    \"In the pharmaceutical industry, quality and safety are considered the most critical factors, and smart manufacturing technologies are actively utilized to ensure them. Automated production lines enable precise formulation and packaging of medications, while artificial intelligence (AI) is used for real-time quality inspections to detect impurities. Additionally, data analytics help optimize manufacturing processes and ensure compliance with regulatory requirements. In particular, for biopharmaceuticals, precise temperature and humidity control is essential, making real-time monitoring with IoT sensors a crucial component.\"\n",
    "]\n",
    "\n",
    "generator = SyntheticGenerator(data=sample_context)\n",
    "synthetic_data = generator.run(save_path='./sample_data.csv')\n",
    "synthetic_data"
   ]
  }
 ],
 "metadata": {
  "kernelspec": {
   "display_name": "langchain-opentutorials",
   "language": "python",
   "name": "python3"
  },
  "language_info": {
   "codemirror_mode": {
    "name": "ipython",
    "version": 3
   },
   "file_extension": ".py",
   "mimetype": "text/x-python",
   "name": "python",
   "nbconvert_exporter": "python",
   "pygments_lexer": "ipython3",
   "version": "3.11.9"
  }
 },
 "nbformat": 4,
 "nbformat_minor": 5
}
