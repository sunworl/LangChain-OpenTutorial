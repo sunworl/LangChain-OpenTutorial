{
 "cells": [
  {
   "cell_type": "markdown",
   "metadata": {},
   "source": [
    "# Langfuse Selfhosting\n",
    "\n",
    "- Author: [JeongGi Park](https://github.com/jeongkpa)\n",
    "- Design: []()\n",
    "- Peer Review: \n",
    "- This is a part of [LangChain Open Tutorial](https://github.com/LangChain-OpenTutorial/LangChain-OpenTutorial)\n",
    "\n",
    "[![Open in Colab](https://colab.research.google.com/assets/colab-badge.svg)](https://colab.research.google.com/github/LangChain-OpenTutorial/LangChain-OpenTutorial/blob/main/01-Basic/07-LCEL-Interface.ipynb) [![Open in GitHub](https://img.shields.io/badge/Open%20in%20GitHub-181717?style=flat-square&logo=github&logoColor=white)](https://github.com/LangChain-OpenTutorial/LangChain-OpenTutorial/blob/main/01-Basic/07-LCEL-Interface.ipynb)\n",
    "\n",
    "## Overview\n",
    "In this tutorial, you’ll learn how to run Langfuse locally using Docker Compose and integrate it with your LLM-based applications (e.g., those built with LangChain). Langfuse provides comprehensive tracking and observability for:\n",
    "\n",
    "- Token usage\n",
    "- Execution time and performance metrics\n",
    "- Error rates and unexpected behaviors\n",
    "- Agent and chain interactions\n",
    "\n",
    "By the end of this tutorial, you’ll have a local Langfuse instance running on http://localhost:3000 and be ready to send tracking events from your application.\n",
    "\n",
    "\n",
    "### Table of Contents\n",
    "\n",
    "- [Overview](#overview)\n",
    "- [Environment Setup](#environment-setup)\n",
    "- [Prerequisites](#prerequisites)\n",
    "- [Clone the Langfuse Repository](#Clone-the-Langfuse-Repository)\n",
    "- [Start Langfuse with Docker Compose](#Start-Langfuse-with-Docker-Compose)\n",
    "- [Initial Setup & Usage](#Initial-Setup-&-Usage)\n",
    "- [Sending Traces from Your Application](#Sending-Traces-from-Your-Application)\n",
    "- [Managing & Monitoring Your Local Instance](#Managing-&-Monitoring-Your-Local-Instance)\n",
    "- [Upgrading & Maintenance](#Upgrading-&-Maintenance)\n",
    "- [Set KEY and run LANGFUSE locally](#set-key-and-run-langfuse-locally)\n",
    "\n",
    "\n",
    "\n",
    "### References\n",
    "\n",
    "- [Langfuse DOC](https://langfuse.com/self-hosting/local)\n",
    "---"
   ]
  },
  {
   "cell_type": "markdown",
   "metadata": {},
   "source": [
    "## Environment Setup\n",
    "\n",
    "Set up the environment. You may refer to [Environment Setup](https://wikidocs.net/257836) for more details.\n",
    "\n",
    "**[Note]**\n",
    "- `langchain-opentutorial` is a package that provides a set of easy-to-use environment setup, useful functions and utilities for tutorials. \n",
    "- You can checkout the [`langchain-opentutorial`](https://github.com/LangChain-OpenTutorial/langchain-opentutorial-pypi) for more details."
   ]
  },
  {
   "cell_type": "markdown",
   "metadata": {},
   "source": [
    "set environment variables is in .env.\n",
    "\n",
    "Copy the contents of .env_sample and load it into your .env with the key you set."
   ]
  },
  {
   "cell_type": "code",
   "execution_count": null,
   "metadata": {},
   "outputs": [
    {
     "data": {
      "text/plain": [
       "True"
      ]
     },
     "metadata": {},
     "output_type": "display_data"
    }
   ],
   "source": [
    "from dotenv import load_dotenv\n",
    "\n",
    "load_dotenv(override=True)"
   ]
  },
  {
   "cell_type": "code",
   "execution_count": null,
   "metadata": {},
   "outputs": [
    {
     "name": "stderr",
     "output_type": "stream",
     "text": [
      "\n",
      "[notice] A new release of pip is available: 24.3.1 -> 25.0.1\n",
      "[notice] To update, run: python.exe -m pip install --upgrade pip\n"
     ]
    }
   ],
   "source": [
    "%%capture --no-stderr\n",
    "!pip install langchain-opentutorial"
   ]
  },
  {
   "cell_type": "code",
   "execution_count": null,
   "metadata": {},
   "outputs": [],
   "source": [
    "# Install required packages\n",
    "from langchain_opentutorial import package\n",
    "\n",
    "package.install(\n",
    "    [\n",
    "        \"langsmith\",\n",
    "        \"langchain-openai\",\n",
    "        \"langchain\",\n",
    "        \"python-dotenv\",\n",
    "        \"langchain-core\",\n",
    "        \"langfuse\",\n",
    "        \"openai\"\n",
    "    ],\n",
    "    verbose=False,\n",
    "    upgrade=False,\n",
    ")"
   ]
  },
  {
   "cell_type": "markdown",
   "metadata": {},
   "source": [
    "## Prerequisites\n",
    "\n",
    "1. Docker & Docker Compose\n",
    "\n",
    "- Docker Desktop (Mac/Windows) or\n",
    "- Docker Engine & Docker Compose plugin (Linux)\n",
    "\n",
    "2. Git\n",
    "\n",
    "- Make sure you can run git clone from your terminal or command prompt.\n",
    "\n",
    "3. Sufficient System Resources\n",
    "- Running Langfuse locally requires a few GB of memory available for Docker containers."
   ]
  },
  {
   "cell_type": "markdown",
   "metadata": {},
   "source": [
    "## Clone the Langfuse Repository\n",
    "\n",
    "open your terminal and run the following command:\n",
    "\n",
    "```bash\n",
    "git clone https://github.com/langfuse/langfuse.git\n",
    "cd langfuse\n",
    "```\n",
    "This will download the Langfuse repository to your local machine. and move into the directory.\n",
    "\n"
   ]
  },
  {
   "cell_type": "markdown",
   "metadata": {},
   "source": [
    "## Start Langfuse with Docker Compose\n",
    "\n",
    "Inside the `langfuse` directory, simply run:\n",
    "\n",
    "```bash\n",
    "docker compose up\n",
    "```\n",
    "\n",
    "### What's happening?\n",
    "- Docker Compose will pull and start multiple containers for the Langfuse stack:\n",
    "    - Database (Postgres)\n",
    "    - Langfuse backend services\n",
    "    - Langfuse web/UI\n",
    "- This is the simplest way to run Langfuse locally and explore its features.\n",
    "\n",
    "### Wait for Ready State\n",
    "After 2-3 minutes, you should see logs indicating that the 'langfuse-web-1' container is Ready. At that point, open your browser to:\n",
    "\n",
    "```\n",
    "http://localhost:3000\n",
    "```\n",
    "\n",
    "You will be greeted by the Langfuse login/setup sceen or homepage.\n"
   ]
  },
  {
   "cell_type": "markdown",
   "metadata": {},
   "source": [
    "## Initial Setup & Usage\n",
    "\n",
    "Follow the on-screen prompts to configure your local Langfuse instance(e.g., create an initial admin user). Once the setup completes, you can log in to the Langfuse UI.\n",
    "\n",
    "From here, you will be able to:\n",
    "- Create projects to track events from your LLM apps\n",
    "- Invite team members (if applicable)\n",
    "- Adjust various settings like API keys, encryption or networking\n"
   ]
  },
  {
   "cell_type": "markdown",
   "metadata": {},
   "source": [
    "## Sending Traces from Your Application\n",
    "\n",
    "To start collecting trace data in your local Langfuse instance, you’ll need to send events from your application code:\n",
    "\n",
    "1. Obtain your Project Key / API Key from the Langfuse UI.\n",
    "2. Install the appropriate Langfuse SDK in your application environment (e.g., npm install @langfuse/node for Node.js, or pip install langfuse for Python—if available).\n",
    "3. Initialize the Langfuse client and pass in the host (pointing to your local instance) and the API key.\n",
    "4. Record events (e.g., chain steps, LLM requests, agent actions) in your code to send structured data to Langfuse.\n",
    "\n",
    "(Refer to Langfuse’s official docs for language-specific integration examples.)"
   ]
  },
  {
   "cell_type": "markdown",
   "metadata": {},
   "source": [
    "## Managing & Monitoring Your Local Instance\n",
    "\n",
    "Once you’re up and running:\n",
    "\n",
    "- UI: Go to http://localhost:3000 for the Langfuse dashboard.\n",
    "- Logs: Monitor the Docker logs in your terminal for any errors or system messages.\n",
    "- Configuration: Check the configuration guide for advanced setups:\n",
    "    - Authentication & SSO\n",
    "    - Encryption\n",
    "    - Headless Initialization\n",
    "    - Networking\n",
    "    - Organization Creators\n",
    "    - UI Customization\n",
    "\n",
    "**Stopping/Restarting**\n",
    "\n",
    "To stop the containers, press Ctrl + C in the same terminal window running Docker Compose. If you used a detached mode (-d), then:\n",
    "\n",
    "```bash\n",
    "docker compose down\n",
    "```\n",
    "\n",
    "Add the -v flag to remove volumes as well (which also deletes stored data).\n"
   ]
  },
  {
   "cell_type": "markdown",
   "metadata": {},
   "source": [
    "## Upgrading & Maintenance\n",
    "\n",
    "To upgrade to the latest Langfuse version, simply:\n",
    "\n",
    "```bash\n",
    "docker compose down\n",
    "docker compose up --pull always\n",
    "```\n",
    "\n",
    "This will pull the newest images and restart Langfuse. Refer to the upgrade guide for more detailed steps.\n"
   ]
  },
  {
   "cell_type": "markdown",
   "metadata": {},
   "source": [
    "## Set KEY and run LANGFUSE locally\n",
    "\n",
    "You can try out langfuse by running the code below.\n"
   ]
  },
  {
   "cell_type": "code",
   "execution_count": 4,
   "metadata": {},
   "outputs": [],
   "source": [
    "import os\n",
    " \n",
    "# get keys for your project from https://cloud.langfuse.com\n",
    "# os.environ[\"LANGFUSE_PUBLIC_KEY\"] = \"YOUR_LANGFUSE_PUBLIC_KEY\"\n",
    "# os.environ[\"LANGFUSE_SECRET_KEY\"] = \"YOUR_LANGFUSE_SECRET_KEY\"\n",
    "\n",
    " \n",
    "# Your host, defaults to https://cloud.langfuse.com\n",
    "# For US data region, set to \"https://us.cloud.langfuse.com\"\n",
    "os.environ[\"LANGFUSE_HOST\"] = \"http://localhost:3000\""
   ]
  },
  {
   "cell_type": "code",
   "execution_count": 5,
   "metadata": {},
   "outputs": [
    {
     "data": {
      "text/plain": [
       "\"there existed a peaceful planet called Zoraxia, home to a diverse array of alien species living in harmony. The inhabitants of Zoraxia were known for their love of music and had created a beautiful symphony that could be heard throughout the entire galaxy.\\n\\nHowever, one fateful day, a dark shadow fell upon Zoraxia as an evil sorcerer named Malakar arrived with his army of shadowy creatures. Malakar sought to harness the power of the planet's music\""
      ]
     },
     "execution_count": 5,
     "metadata": {},
     "output_type": "execute_result"
    }
   ],
   "source": [
    "from langfuse.decorators import observe\n",
    "from langfuse.openai import openai # OpenAI integration\n",
    " \n",
    "@observe()\n",
    "def story():\n",
    "    return openai.chat.completions.create(\n",
    "        model=\"gpt-3.5-turbo\",\n",
    "        max_tokens=100,\n",
    "        messages=[\n",
    "          {\"role\": \"system\", \"content\": \"You are a great storyteller.\"},\n",
    "          {\"role\": \"user\", \"content\": \"Once upon a time in a galaxy far, far away...\"}\n",
    "        ],\n",
    "    ).choices[0].message.content\n",
    " \n",
    "@observe()\n",
    "def main():\n",
    "    return story()\n",
    " \n",
    "main()"
   ]
  }
 ],
 "metadata": {
  "kernelspec": {
   "display_name": "langchain-opentutorial-cyV7o7ra-py3.11",
   "language": "python",
   "name": "python3"
  },
  "language_info": {
   "codemirror_mode": {
    "name": "ipython",
    "version": 3
   },
   "file_extension": ".py",
   "mimetype": "text/x-python",
   "name": "python",
   "nbconvert_exporter": "python",
   "pygments_lexer": "ipython3",
   "version": "3.11.9"
  }
 },
 "nbformat": 4,
 "nbformat_minor": 2
}
