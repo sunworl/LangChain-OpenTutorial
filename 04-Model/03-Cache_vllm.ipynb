{
  "cells": [
    {
      "cell_type": "markdown",
      "metadata": {},
      "source": [
        "# Caching VLLM\n",
        "\n",
        "- Author: [Joseph](https://github.com/XaviereKU)\n",
        "- Peer Review : [Teddy Lee](https://github.com/teddylee777), [BAEM1N](https://github.com/BAEM1N)\n",
        "- This is a part of [LangChain Open Tutorial](https://github.com/LangChain-OpenTutorial/LangChain-OpenTutorial)\n",
        "\n",
        "[![Open in Colab](https://colab.research.google.com/assets/colab-badge.svg)](https://colab.research.google.com/github/LangChain-OpenTutorial/LangChain-OpenTutorial/blob/main/04-Model/02-Cache.ipynb) [![Open in GitHub](https://img.shields.io/badge/Open%20in%20GitHub-181717?style=flat-square&logo=github&logoColor=white)](https://github.com/LangChain-OpenTutorial/LangChain-OpenTutorial/blob/main/04-Model/02-Cache.ipynb)\n",
        "\n",
        "## Overview\n",
        "\n",
        "`LangChain` provides optional caching layer for LLMs.\n",
        "\n",
        "This is useful for two reasons:\n",
        "- When requesting the same completions multiple times, it can **reduce the number of API calls** to the LLM provider and thus save costs.\n",
        "- By **reduing the number of API calls** to the LLM provider, it can **improve the running time of the application.**\n",
        "\n",
        "But sometimes you need to deploy your own LLM service, like on-premise system where you cannot reach cloud services.\n",
        "In this tutorial, we will use `vllm` OpenAI compatible API and utilize two kinds of cache, ```InMemoryCache``` and ```SQLiteCache```.  \n",
        "At end of each section we will compare wall times between before and after caching.\n",
        "\n",
        "Even though this is a tutorial for local LLM service case, we will remind you about how to use cache with OpenAI API service first.\n",
        "\n",
        "### Table of Contents\n",
        "\n",
        "- [Overview](#overview)\n",
        "- [Environement Setup](#environment-setup)\n",
        "- [InMemoryCache](#inmemorycache)\n",
        "- [SQlite Cache](#sqlite-cache)\n",
        "- [Setup Local LLM with VLLM](#setup-local-llm-with-vllm)\n",
        "- [InMemoryCache + Local VLLM](#inmemorycache--local-vllm)\n",
        "- [SQLite Cache + Local VLLM](#sqlite-cache--local-vllm)\n",
        "\n",
        "### References\n",
        "- [SQLIteCache](https://python.langchain.com/api_reference/community/cache/langchain_community.cache.SQLiteCache.html#langchain_community.cache.SQLiteCache)\n",
        "- [InMemoryCache](https://python.langchain.com/api_reference/core/caches/langchain_core.caches.InMemoryCache.html)\n",
        "- [vLLM](https://docs.vllm.ai/en/latest/)\n",
        "----"
      ]
    },
    {
      "cell_type": "markdown",
      "metadata": {},
      "source": [
        "## Environment Setup\n",
        "\n",
        "Set up the environment. You may refer to [Environment Setup](https://wikidocs.net/257836) for more details.\n",
        "\n",
        "**[Note]**\n",
        "- `langchain-opentutorial` is a package that provides a set of easy-to-use environment setup, useful functions and utilities for tutorials. \n",
        "- You can checkout the [`langchain-opentutorial`](https://github.com/LangChain-OpenTutorial/langchain-opentutorial-pypi) for more details."
      ]
    },
    {
      "cell_type": "code",
      "execution_count": 1,
      "metadata": {},
      "outputs": [],
      "source": [
        "%%capture --no-stderr\n",
        "%pip install langchain-opentutorial"
      ]
    },
    {
      "cell_type": "code",
      "execution_count": 2,
      "metadata": {},
      "outputs": [],
      "source": [
        "# Install required packages\n",
        "from langchain_opentutorial import package\n",
        "\n",
        "package.install(\n",
        "    [\n",
        "        \"langsmith\",\n",
        "        \"langchain\",\n",
        "        \"langchain_core\",\n",
        "        \"langchain_community\",\n",
        "        \"langchain_openai\",\n",
        "        # \"vllm\", # this is for optional section\n",
        "    ],\n",
        "    verbose=False,\n",
        "    upgrade=False,\n",
        ")"
      ]
    },
    {
      "cell_type": "code",
      "execution_count": 3,
      "metadata": {},
      "outputs": [
        {
          "name": "stdout",
          "output_type": "stream",
          "text": [
            "Environment variables have been set successfully.\n"
          ]
        }
      ],
      "source": [
        "# Set environment variables\n",
        "from langchain_opentutorial import set_env\n",
        "\n",
        "set_env(\n",
        "    {\n",
        "        \"OPENAI_API_KEY\": \"You OpenAI API KEY\",\n",
        "        \"LANGCHAIN_API_KEY\": \"LangChain API KEY\",\n",
        "        \"LANGCHAIN_TRACING_V2\": \"true\",\n",
        "        \"LANGCHAIN_ENDPOINT\": \"https://api.smith.langchain.com\",\n",
        "        \"LANGCHAIN_PROJECT\": \"Caching\",\n",
        "    }\n",
        ")"
      ]
    },
    {
      "cell_type": "code",
      "execution_count": 4,
      "metadata": {},
      "outputs": [
        {
          "data": {
            "text/plain": [
              "False"
            ]
          },
          "execution_count": 4,
          "metadata": {},
          "output_type": "execute_result"
        }
      ],
      "source": [
        "# Alternatively, one can set environmental variables with load_dotenv\n",
        "from dotenv import load_dotenv\n",
        "\n",
        "\n",
        "load_dotenv(override=True)"
      ]
    },
    {
      "cell_type": "code",
      "execution_count": 5,
      "metadata": {},
      "outputs": [],
      "source": [
        "from langchain_openai import ChatOpenAI\n",
        "from langchain_core.prompts import PromptTemplate\n",
        "\n",
        "# Create model\n",
        "llm = ChatOpenAI(model_name=\"gpt-4o-mini\")\n",
        "\n",
        "# Generate prompt\n",
        "prompt = PromptTemplate.from_template(\n",
        "    \"Sumarize about the {country} in about 200 characters\"\n",
        ")\n",
        "\n",
        "# Create chain\n",
        "chain = prompt | llm"
      ]
    },
    {
      "cell_type": "code",
      "execution_count": 6,
      "metadata": {},
      "outputs": [
        {
          "name": "stdout",
          "output_type": "stream",
          "text": [
            "South Korea, located on the Korean Peninsula, is known for its rich culture, technological advancements, and vibrant economy. It features a mix of traditional heritage and modern innovation, highlighted by K-pop and cuisine.\n",
            "CPU times: total: 93.8 ms\n",
            "Wall time: 1.09 s\n"
          ]
        }
      ],
      "source": [
        "%%time\n",
        "# Invoke chain\n",
        "response = chain.invoke({\"country\": \"South Korea\"})\n",
        "print(response.content)"
      ]
    },
    {
      "cell_type": "markdown",
      "metadata": {},
      "source": [
        "## ```InMemoryCache```\n",
        "First, cache the answer to the same question using `InMemoryCache`."
      ]
    },
    {
      "cell_type": "code",
      "execution_count": 18,
      "metadata": {},
      "outputs": [],
      "source": [
        "from langchain_core.globals import set_llm_cache\n",
        "from langchain_core.caches import InMemoryCache\n",
        "\n",
        "# Set InMemoryCache\n",
        "set_llm_cache(InMemoryCache())"
      ]
    },
    {
      "cell_type": "code",
      "execution_count": 8,
      "metadata": {},
      "outputs": [
        {
          "name": "stdout",
          "output_type": "stream",
          "text": [
            "South Korea is a technologically advanced country known for its fast-paced lifestyle, vibrant culture, and delicious cuisine. It is a leader in industries such as electronics, automotive, and entertainment. The country also has a rich history and beautiful landscapes, making it a popular destination for tourists.\n",
            "CPU times: total: 0 ns\n",
            "Wall time: 996 ms\n"
          ]
        }
      ],
      "source": [
        "%%time\n",
        "# Invoke chain\n",
        "response = chain.invoke({\"country\": \"South Korea\"})\n",
        "print(response.content)"
      ]
    },
    {
      "cell_type": "markdown",
      "metadata": {},
      "source": [
        "Now we invoke the chain with the same question."
      ]
    },
    {
      "cell_type": "code",
      "execution_count": 10,
      "metadata": {},
      "outputs": [
        {
          "name": "stdout",
          "output_type": "stream",
          "text": [
            "South Korea is a technologically advanced country known for its fast-paced lifestyle, vibrant culture, and delicious cuisine. It is a leader in industries such as electronics, automotive, and entertainment. The country also has a rich history and beautiful landscapes, making it a popular destination for tourists.\n",
            "CPU times: total: 0 ns\n",
            "Wall time: 3 ms\n"
          ]
        }
      ],
      "source": [
        "%%time\n",
        "# Invoke chain\n",
        "response = chain.invoke({\"country\": \"South Korea\"})\n",
        "print(response.content)"
      ]
    },
    {
      "cell_type": "markdown",
      "metadata": {},
      "source": [
        "Note that if we set `InMemoryCache` again, the cache will be lost and the wall time will increase."
      ]
    },
    {
      "cell_type": "code",
      "execution_count": 11,
      "metadata": {},
      "outputs": [],
      "source": [
        "set_llm_cache(InMemoryCache())"
      ]
    },
    {
      "cell_type": "code",
      "execution_count": 12,
      "metadata": {},
      "outputs": [
        {
          "name": "stdout",
          "output_type": "stream",
          "text": [
            "South Korea is a tech-savvy, modern country known for its vibrant culture, delicious cuisine, and booming economy. It is a highly developed nation with advanced infrastructure, high standards of living, and a strong emphasis on education. The country also has a rich history and is famous for its K-pop music and entertainment industry.\n",
            "CPU times: total: 0 ns\n",
            "Wall time: 972 ms\n"
          ]
        }
      ],
      "source": [
        "%%time\n",
        "# Invoke chain\n",
        "response = chain.invoke({\"country\": \"South Korea\"})\n",
        "print(response.content)"
      ]
    },
    {
      "cell_type": "markdown",
      "metadata": {},
      "source": [
        "## ```SQLiteCache```\n",
        "Now, we cache the answer to the same question by using `SQLiteCache`."
      ]
    },
    {
      "cell_type": "code",
      "execution_count": 13,
      "metadata": {},
      "outputs": [],
      "source": [
        "from langchain_community.cache import SQLiteCache\n",
        "from langchain_core.globals import set_llm_cache\n",
        "import os\n",
        "\n",
        "# Create cache directory\n",
        "if not os.path.exists(\"cache\"):\n",
        "    os.makedirs(\"cache\")\n",
        "\n",
        "# Set SQLiteCache\n",
        "set_llm_cache(SQLiteCache(database_path=\"cache/llm_cache.db\"))"
      ]
    },
    {
      "cell_type": "code",
      "execution_count": 14,
      "metadata": {},
      "outputs": [
        {
          "name": "stdout",
          "output_type": "stream",
          "text": [
            "South Korea is a technologically advanced country in East Asia, known for its booming economy, vibrant pop culture, and rich history. It is home to K-pop, Samsung, and delicious cuisine like kimchi. The country also faces tensions with North Korea and strives for reunification.\n",
            "CPU times: total: 31.2 ms\n",
            "Wall time: 953 ms\n"
          ]
        }
      ],
      "source": [
        "%%time\n",
        "# Invoke chain\n",
        "response = chain.invoke({\"country\": \"South Korea\"})\n",
        "print(response.content)"
      ]
    },
    {
      "cell_type": "markdown",
      "metadata": {},
      "source": [
        "Now we invoke the chain with the same question."
      ]
    },
    {
      "cell_type": "code",
      "execution_count": 15,
      "metadata": {},
      "outputs": [
        {
          "name": "stdout",
          "output_type": "stream",
          "text": [
            "South Korea is a technologically advanced country in East Asia, known for its booming economy, vibrant pop culture, and rich history. It is home to K-pop, Samsung, and delicious cuisine like kimchi. The country also faces tensions with North Korea and strives for reunification.\n",
            "CPU times: total: 375 ms\n",
            "Wall time: 375 ms\n"
          ]
        }
      ],
      "source": [
        "%%time\n",
        "# Invoke chain\n",
        "response = chain.invoke({\"country\": \"South Korea\"})\n",
        "print(response.content)"
      ]
    },
    {
      "cell_type": "markdown",
      "metadata": {},
      "source": [
        "Note that if we use `SQLiteCache`, setting caching again does not delete stored cache."
      ]
    },
    {
      "cell_type": "code",
      "execution_count": 16,
      "metadata": {},
      "outputs": [],
      "source": [
        "set_llm_cache(SQLiteCache(database_path=\"cache/llm_cache.db\"))"
      ]
    },
    {
      "cell_type": "code",
      "execution_count": 17,
      "metadata": {},
      "outputs": [
        {
          "name": "stdout",
          "output_type": "stream",
          "text": [
            "South Korea is a technologically advanced country in East Asia, known for its booming economy, vibrant pop culture, and rich history. It is home to K-pop, Samsung, and delicious cuisine like kimchi. The country also faces tensions with North Korea and strives for reunification.\n",
            "CPU times: total: 0 ns\n",
            "Wall time: 4.01 ms\n"
          ]
        }
      ],
      "source": [
        "%%time\n",
        "# Invoke chain\n",
        "response = chain.invoke({\"country\": \"South Korea\"})\n",
        "print(response.content)"
      ]
    },
    {
      "cell_type": "markdown",
      "metadata": {},
      "source": [
        "## Setup Local LLM with ```VLLM```\n",
        "vLLM supports various cases, but for the most stable setup we utilize `docker` to serve local LLM model with `vLLM`.\n",
        "\n",
        "### Device & Serving information - Windows\n",
        "- CPU : AMD 5600X\n",
        "- OS : Windows 10 Pro\n",
        "- RAM : 32 Gb\n",
        "- GPU : Nividia 3080Ti, 12GB VRAM\n",
        "- CUDA : 12.6\n",
        "- Driver Version : 560.94\n",
        "- Docker Image : nvidia/cuda:12.4.1-cudnn-devel-ubuntu20.04\n",
        "- model : Qwen/Qwen2.5-0.5B-Instruct\n",
        "- Python version : 3.10\n",
        "- docker run script :\n",
        "    ```\n",
        "    docker run -itd --name vllm --gpus all --entrypoint /bin/bash -p 6001:8888 nvidia/cuda:12.4.1-cudnn-devel-ubuntu20.04\n",
        "    ```\n",
        "- vllm serving script : \n",
        "    ```\n",
        "    python3 -m vllm.entrypoints.openai.api_server --model='Qwen/Qwen2.5-0.5B-Instruct' --served-model-name 'qwen-2.5' --port 8888 --host 0.0.0.0 --gpu-memory-utilization 0.80 --max-model-len 4096 --swap-space 1 --dtype bfloat16 --tensor-parallel-size 1 \n",
        "    ```"
      ]
    },
    {
      "cell_type": "code",
      "execution_count": 18,
      "metadata": {},
      "outputs": [],
      "source": [
        "from langchain_community.llms import VLLMOpenAI\n",
        "\n",
        "# create model using OpenAI compatible class VLLMOpenAI\n",
        "llm = VLLMOpenAI(\n",
        "    model=\"qwen-2.5\", openai_api_key=\"EMPTY\", openai_api_base=\"http://localhost:6001/v1\"\n",
        ")\n",
        "\n",
        "# Generate prompt\n",
        "prompt = PromptTemplate.from_template(\n",
        "    \"Sumarize about the {country} in about 200 characters\"\n",
        ")\n",
        "\n",
        "# Create chain\n",
        "chain = prompt | llm"
      ]
    },
    {
      "cell_type": "markdown",
      "metadata": {},
      "source": [
        "## InMemoryCache + Local VLLM\n",
        "Same `InMemoryCache` section above, we set `InMemoryCache`."
      ]
    },
    {
      "cell_type": "code",
      "execution_count": 19,
      "metadata": {},
      "outputs": [],
      "source": [
        "from langchain_core.globals import set_llm_cache\n",
        "from langchain_core.caches import InMemoryCache\n",
        "\n",
        "# Set InMemoryCache\n",
        "set_llm_cache(InMemoryCache())"
      ]
    },
    {
      "cell_type": "markdown",
      "metadata": {},
      "source": [
        "Invoke chain with local LLM, do note that we print ```response``` not ```response.content```"
      ]
    },
    {
      "cell_type": "code",
      "execution_count": 20,
      "metadata": {},
      "outputs": [
        {
          "name": "stdout",
          "output_type": "stream",
          "text": [
            ".\n",
            "South Korea is a country in East Asia, with a population of approximately 55.2 million as of 2023. It borders North Korea to the east, Japan to the northeast, and China to the southeast. The country is known for its advanced technology, leading industries, and significant contributions to South Korean culture. It is often referred to as the \"Globe and a Couple\" due to its diverse landscapes, rich history, and frontiers with neighboring countries. South Korea's economy is growing, with a strong technological sector and a strong economy, making it a significant player on the global stage. Overall, South Korea is a significant global player, with a rich history, advanced technology, and a cultural influence. With its advanced technology and unique culture, South Korea is a fascinating country to explore. Its diverse landscapes, rich history, and remarkable economic performance have made it a popular destination for travelers. South Korea's contribution to the global economy and its strong technological sector have made it a significant player on the world stage. Its cultural influence and trade partnerships have created a unique culture that is hard to replicate elsewhere. South Korea's diverse landscapes, rich history, and technological advancements have made it a popular destination for travelers. Its cultural influence, trade partnerships, and\n",
            "CPU times: total: 15.6 ms\n",
            "Wall time: 1.03 s\n"
          ]
        }
      ],
      "source": [
        "%%time\n",
        "# Invoke chain\n",
        "response = chain.invoke({\"country\": \"South Korea\"})\n",
        "print(response)"
      ]
    },
    {
      "cell_type": "markdown",
      "metadata": {},
      "source": [
        "Now we invoke chain again, with the same question."
      ]
    },
    {
      "cell_type": "code",
      "execution_count": 21,
      "metadata": {},
      "outputs": [
        {
          "name": "stdout",
          "output_type": "stream",
          "text": [
            ".\n",
            "South Korea is a country in East Asia, with a population of approximately 55.2 million as of 2023. It borders North Korea to the east, Japan to the northeast, and China to the southeast. The country is known for its advanced technology, leading industries, and significant contributions to South Korean culture. It is often referred to as the \"Globe and a Couple\" due to its diverse landscapes, rich history, and frontiers with neighboring countries. South Korea's economy is growing, with a strong technological sector and a strong economy, making it a significant player on the global stage. Overall, South Korea is a significant global player, with a rich history, advanced technology, and a cultural influence. With its advanced technology and unique culture, South Korea is a fascinating country to explore. Its diverse landscapes, rich history, and remarkable economic performance have made it a popular destination for travelers. South Korea's contribution to the global economy and its strong technological sector have made it a significant player on the world stage. Its cultural influence and trade partnerships have created a unique culture that is hard to replicate elsewhere. South Korea's diverse landscapes, rich history, and technological advancements have made it a popular destination for travelers. Its cultural influence, trade partnerships, and\n",
            "CPU times: total: 0 ns\n",
            "Wall time: 2.61 ms\n"
          ]
        }
      ],
      "source": [
        "%%time\n",
        "# Invoke chain\n",
        "response = chain.invoke({\"country\": \"South Korea\"})\n",
        "print(response)"
      ]
    },
    {
      "cell_type": "markdown",
      "metadata": {},
      "source": [
        "## SQLite Cache + Local VLLM\n",
        "Same as `SQLiteCache` section above, set `SQLiteCache`.  \n",
        "Note that we set db name to be ```vllm_cache.db``` to distinguish from the cache used in `SQLiteCache` section."
      ]
    },
    {
      "cell_type": "code",
      "execution_count": 23,
      "metadata": {},
      "outputs": [],
      "source": [
        "from langchain_community.cache import SQLiteCache\n",
        "from langchain_core.globals import set_llm_cache\n",
        "import os\n",
        "\n",
        "# Create cache directory\n",
        "if not os.path.exists(\"cache\"):\n",
        "    os.makedirs(\"cache\")\n",
        "\n",
        "# Set SQLiteCache\n",
        "set_llm_cache(SQLiteCache(database_path=\"cache/vllm_cache.db\"))"
      ]
    },
    {
      "cell_type": "markdown",
      "metadata": {},
      "source": [
        "Invoke chain with local LLM, again, note that we print ```response``` not ```response.content```."
      ]
    },
    {
      "cell_type": "code",
      "execution_count": 24,
      "metadata": {},
      "outputs": [
        {
          "name": "stdout",
          "output_type": "stream",
          "text": [
            ".\n",
            "\n",
            "South Korea, a nation that prides itself on its history, culture, and natural beauty. Known for its bustling cityscapes, scenic valleys, and delicious cuisine. A major player in South East Asia and a global hub for technology, fashion, and entertainment. Home to industries like electronics, automotive, and media. With a strong economy, South Korea is among the top economies in the world, known for its efficient and inclusive societies. A country that has been a significant player in global politics for decades. The country is also home to many influential figures like Kim Jong-un and Kim Jong-un, who have led North Korea and the country’s military. Known for its national sports, including football (soccer), baseball, and gymnastics. South Korea is also home to many museums, art galleries, and historical sites, showcasing the country’s rich cultural heritage. The country is a leader in technology, with many leading companies based in the South Korean capital, Seoul. The South Korean economy, despite global challenges, continues to be resilient and strong, with an average annual growth rate of 2.5%. The country has a diverse population and is known for its high standard of living, which is a source of pride for many South Koreans. With a strong tradition of education\n",
            "CPU times: total: 0 ns\n",
            "Wall time: 920 ms\n"
          ]
        }
      ],
      "source": [
        "%%time\n",
        "# Invoke chain\n",
        "response = chain.invoke({\"country\": \"South Korea\"})\n",
        "print(response)"
      ]
    },
    {
      "cell_type": "markdown",
      "metadata": {},
      "source": [
        "Now we invoke chain again, with the same question."
      ]
    },
    {
      "cell_type": "code",
      "execution_count": 25,
      "metadata": {},
      "outputs": [
        {
          "name": "stdout",
          "output_type": "stream",
          "text": [
            ".\n",
            "\n",
            "South Korea, a nation that prides itself on its history, culture, and natural beauty. Known for its bustling cityscapes, scenic valleys, and delicious cuisine. A major player in South East Asia and a global hub for technology, fashion, and entertainment. Home to industries like electronics, automotive, and media. With a strong economy, South Korea is among the top economies in the world, known for its efficient and inclusive societies. A country that has been a significant player in global politics for decades. The country is also home to many influential figures like Kim Jong-un and Kim Jong-un, who have led North Korea and the country’s military. Known for its national sports, including football (soccer), baseball, and gymnastics. South Korea is also home to many museums, art galleries, and historical sites, showcasing the country’s rich cultural heritage. The country is a leader in technology, with many leading companies based in the South Korean capital, Seoul. The South Korean economy, despite global challenges, continues to be resilient and strong, with an average annual growth rate of 2.5%. The country has a diverse population and is known for its high standard of living, which is a source of pride for many South Koreans. With a strong tradition of education\n",
            "CPU times: total: 0 ns\n",
            "Wall time: 3 ms\n"
          ]
        }
      ],
      "source": [
        "%%time\n",
        "# Invoke chain\n",
        "response = chain.invoke({\"country\": \"South Korea\"})\n",
        "print(response)"
      ]
    }
  ],
  "metadata": {
    "kernelspec": {
      "display_name": "cp311",
      "language": "python",
      "name": "python3"
    },
    "language_info": {
      "codemirror_mode": {
        "name": "ipython",
        "version": 3
      },
      "file_extension": ".py",
      "mimetype": "text/x-python",
      "name": "python",
      "nbconvert_exporter": "python",
      "pygments_lexer": "ipython3",
      "version": "3.11.11"
    }
  },
  "nbformat": 4,
  "nbformat_minor": 4
}
