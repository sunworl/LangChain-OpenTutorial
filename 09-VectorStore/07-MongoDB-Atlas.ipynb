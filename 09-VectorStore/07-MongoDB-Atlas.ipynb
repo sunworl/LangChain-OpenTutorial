{
  "cells": [
    {
      "cell_type": "markdown",
      "id": "635d8ebb",
      "metadata": {},
      "source": [
        "# MongoDB Atlas\n",
        "\n",
        "- Author: [Ivy Bae](https://github.com/ivybae)\n",
        "- Peer Review :\n",
        "- This is a part of [LangChain Open Tutorial](https://github.com/LangChain-OpenTutorial/LangChain-OpenTutorial)\n",
        "\n",
        "[![Open in Colab](https://colab.research.google.com/assets/colab-badge.svg)](https://colab.research.google.com/github/LangChain-OpenTutorial/LangChain-OpenTutorial/blob/main/09-VectorStore/07-MongoDB.ipynb) [![Open in GitHub](https://img.shields.io/badge/Open%20in%20GitHub-181717?style=flat-square&logo=github&logoColor=white)](https://github.com/LangChain-OpenTutorial/LangChain-OpenTutorial/blob/main/09-VectorStore/07-MongoDB.ipynb)\n",
        "\n",
        "## Overview\n",
        "\n",
        "This tutorial covers the initial setup process for users who are new to **MongoDB Atlas**.\n",
        "\n",
        "If you're already familiar with **MongoDB Atlas**, you can skip the [Initialization](#initialization) section.\n",
        "\n",
        "All examples run on a free cluster, and once you add a **collection** to your database, you'll be ready to start.\n",
        "\n",
        "You’ll learn preprocessing to preserve document structure after loading data from a **The Little Prince** file, how to add and delete documents to a **collection**, and manage vector store.\n",
        "\n",
        "Once the documents added, you can learn how to query your data using **semantic search**, index updates for **filtering**, and **MQL operators**.\n",
        "\n",
        "By the end of this tutorial, you'll be able to integrate **PyMongo with LangChain** and use VectorStore.\n",
        "\n",
        "### Table of Contents\n",
        "\n",
        "- [Overview](#overview)\n",
        "- [Environement Setup](#environment-setup)\n",
        "- [Initialization](#initialization)\n",
        "- [Atlas Vector Search Indexes](#atlas-vector-search-indexes)\n",
        "- [Vector Store](#vector-store)\n",
        "- [Load Data](#load-data)\n",
        "- [Data Preprocessing](#data-preprocessing)\n",
        "- [Manage vector store](#manage-vector-store)\n",
        "- [Query vector store](#query-vector-store)\n",
        "- [CRUD Operations with PyMongo](#crud-operations-with-pymongo)\n",
        "\n",
        "### References\n",
        "\n",
        "- [Get Started with Atlas](https://www.mongodb.com/docs/atlas/getting-started/)\n",
        "- [Deploy a Free Cluster](https://www.mongodb.com/docs/atlas/tutorial/deploy-free-tier-cluster/)\n",
        "- [Connection Strings](https://www.mongodb.com/docs/manual/reference/connection-string/)\n",
        "- [Atlas Search and Vector Search Indexes](https://www.mongodb.com/docs/languages/python/pymongo-driver/current/indexes/atlas-search-index/)\n",
        "- [Review Atlas Search Index Syntax](https://www.mongodb.com/docs/atlas/atlas-search/index-definitions/)\n",
        "- [JSON and BSON](https://www.mongodb.com/resources/basics/json-and-bson)\n",
        "- [Write Data to MongoDB](https://www.mongodb.com/docs/languages/python/pymongo-driver/current/write-operations/)\n",
        "- [Read Data from MongoDB](https://www.mongodb.com/docs/languages/python/pymongo-driver/current/read/)\n",
        "- [Query Filter Documents](https://www.mongodb.com/docs/manual/core/document/#query-filter-documents)\n",
        "- [Update Operators](https://www.mongodb.com/docs/manual/reference/operator/update/)\n",
        "- [Integrate Atlas Vector Search with LangChain](https://www.mongodb.com/docs/atlas/atlas-vector-search/ai-integrations/langchain/)\n",
        "- [Get Started with the LangChain Integration](https://www.mongodb.com/docs/atlas/atlas-vector-search/ai-integrations/langchain/get-started/)\n",
        "- [Comparison Query Operators](https://www.mongodb.com/docs/manual/reference/operator/query-comparison/)\n",
        "- [MongoDB Atlas](https://python.langchain.com/docs/integrations/vectorstores/mongodb_atlas/)\n",
        "- [Document loaders](https://python.langchain.com/docs/concepts/document_loaders/)\n",
        "- [Text splitters](https://python.langchain.com/docs/concepts/text_splitters/)\n",
        "\n",
        "---\n"
      ]
    },
    {
      "cell_type": "markdown",
      "id": "c6c7aba4",
      "metadata": {},
      "source": [
        "## Environment Setup\n",
        "\n",
        "Set up the environment. You may refer to [Environment Setup](https://wikidocs.net/257836) for more details.\n",
        "\n",
        "**[Note]**\n",
        "\n",
        "- `langchain-opentutorial` is a package that provides a set of easy-to-use environment setup, useful functions and utilities for tutorials.\n",
        "- You can checkout the [`langchain-opentutorial`](https://github.com/LangChain-OpenTutorial/langchain-opentutorial-pypi) for more details.\n"
      ]
    },
    {
      "cell_type": "code",
      "execution_count": 1,
      "id": "21943adb",
      "metadata": {},
      "outputs": [],
      "source": [
        "%%capture --no-stderr\n",
        "%pip install langchain-opentutorial"
      ]
    },
    {
      "cell_type": "code",
      "execution_count": 2,
      "id": "f25ec196",
      "metadata": {},
      "outputs": [
        {
          "name": "stderr",
          "output_type": "stream",
          "text": [
            "\n",
            "\u001b[1m[\u001b[0m\u001b[34;49mnotice\u001b[0m\u001b[1;39;49m]\u001b[0m\u001b[39;49m A new release of pip is available: \u001b[0m\u001b[31;49m24.1\u001b[0m\u001b[39;49m -> \u001b[0m\u001b[32;49m25.0.1\u001b[0m\n",
            "\u001b[1m[\u001b[0m\u001b[34;49mnotice\u001b[0m\u001b[1;39;49m]\u001b[0m\u001b[39;49m To update, run: \u001b[0m\u001b[32;49mpip install --upgrade pip\u001b[0m\n"
          ]
        }
      ],
      "source": [
        "# Install required packages\n",
        "from langchain_opentutorial import package\n",
        "\n",
        "package.install(\n",
        "    [\n",
        "        \"langchain_openai\",\n",
        "        \"langsmith\",\n",
        "        \"langchain_core\",\n",
        "        \"langchain_community\",\n",
        "        \"langchain-mongodb\",\n",
        "        \"pymongo\",\n",
        "        \"certifi\",\n",
        "    ],\n",
        "    verbose=False,\n",
        "    upgrade=False,\n",
        ")"
      ]
    },
    {
      "cell_type": "code",
      "execution_count": 3,
      "id": "1caacc00",
      "metadata": {},
      "outputs": [
        {
          "name": "stdout",
          "output_type": "stream",
          "text": [
            "Environment variables have been set successfully.\n"
          ]
        }
      ],
      "source": [
        "# Set environment variables\n",
        "from langchain_opentutorial import set_env\n",
        "\n",
        "set_env(\n",
        "    {\n",
        "        \"OPENAI_API_KEY\": \"\",\n",
        "        \"LANGCHAIN_API_KEY\": \"\",\n",
        "        \"MONGODB_ATLAS_CLUSTER_URI\": \"\",\n",
        "        \"LANGCHAIN_TRACING_V2\": \"true\",\n",
        "        \"LANGCHAIN_ENDPOINT\": \"https://api.smith.langchain.com\",\n",
        "        \"LANGCHAIN_PROJECT\": \"07-MongoDB-Atlas\",\n",
        "    }\n",
        ")"
      ]
    },
    {
      "cell_type": "markdown",
      "id": "311ebf6d",
      "metadata": {},
      "source": [
        "You can alternatively set API keys such as `OPENAI_API_KEY` in a `.env` file and load them.\n",
        "\n",
        "[Note] This is not necessary if you've already set the required API keys in previous steps.\n",
        "\n",
        "`MONGODB_ATLAS_CLUSTER_URI` is required to use **MongoDB Atlas** and is explained in the [Connect to your cluster](#connect-to-your-cluster).\n",
        "\n",
        "If you are already using **MongoDB Atlas**, you can set the cluster **connection string** to `MONGODB_ATLAS_CLUSTER_URI` in your `.env` file.\n"
      ]
    },
    {
      "cell_type": "code",
      "execution_count": 4,
      "id": "c394720f",
      "metadata": {},
      "outputs": [
        {
          "data": {
            "text/plain": [
              "True"
            ]
          },
          "execution_count": 4,
          "metadata": {},
          "output_type": "execute_result"
        }
      ],
      "source": [
        "# Load API keys from .env file\n",
        "from dotenv import load_dotenv\n",
        "\n",
        "load_dotenv(override=True)"
      ]
    },
    {
      "cell_type": "markdown",
      "id": "aa00c3f4",
      "metadata": {},
      "source": [
        "## Initialization\n",
        "\n",
        "[MongoDB Atlas](https://www.mongodb.com/en/atlas) is a multi-cloud database service that provides an easy way to host and manage your data in the cloud.\n",
        "\n",
        "After you register with and log in to **Atlas**, you can create a Free cluster.\n",
        "\n",
        "**Atlas** can be started with [Atlas CLI](https://www.mongodb.com/docs/atlas/cli/current/atlas-cli-getting-started/) or **Atlas UI**.\n",
        "\n",
        "**Atlas CLI** can be difficult to use if you're not used to working with development tools, so this tutorial will walk you through how to use **Atlas UI**.\n",
        "\n",
        "### Deploy a cluster\n",
        "\n",
        "Please select the appropriate project in your **Organization**. If the project doesn't exist, you'll need to create it.\n",
        "\n",
        "If you select a project, you can create a cluster.\n",
        "\n",
        "![mongodb-atlas-project](./assets/07-mongodb-atlas-initialization-01.png)\n",
        "\n",
        "Follow the procedure below to deploy a cluster\n",
        "\n",
        "- select **Cluster**: **M0** Free cluster option\n",
        "\n",
        "> Note: You can deploy only one Free cluster per Atlas project\n",
        "\n",
        "- select **Provider**: **M0** on AWS, GCP, and Azure\n",
        "\n",
        "- select **Region**\n",
        "\n",
        "- create a database user and add your IP address settings.\n",
        "\n",
        "After you deploy a cluster, you can see the cluster you deployed as shown in the image below.\n",
        "\n",
        "![mongodb-atlas-cluster-deploy](./assets/07-mongodb-atlas-initialization-02.png)\n"
      ]
    },
    {
      "cell_type": "markdown",
      "id": "35618384",
      "metadata": {},
      "source": [
        "### Connect to your cluster\n",
        "\n",
        "Click **Get connection string** in the image above to get the cluster URI and set the value of `MONGODB_ATLAS_CLUSTER_URI` in the `.env` file.\n",
        "\n",
        "The **connection string** resembles the following example:\n",
        "\n",
        "> mongodb+srv://[databaseUser]:[databasePassword]@[clusterName].[hostName].mongodb.net/?retryWrites=true&w=majority\n",
        "\n",
        "Then go back to the [Environment Setup](#environment-setup) and run the `load_dotenv` function again.\n"
      ]
    },
    {
      "cell_type": "markdown",
      "id": "037183c7",
      "metadata": {},
      "source": [
        "## Initialize MongoDBAtlas and MongoDBAtlasDocumentManager\n",
        "\n",
        "`MongoDBAtlas` manages MongoDB collections and vector store.\n",
        "\n",
        "- Internally, it connects to the cluster using [PyMongo](https://github.com/mongodb/mongo-python-driver), the MongoDB python driver.\n",
        "\n",
        "- You can also create a vector store that integrates Atlas Vector Search and Langchain.\n",
        "\n",
        "`MongoDBAtlasDocumentManager` that handles document processing and CRUD operations in MongoDB Atlas.\n",
        "\n",
        "### Initialize MongoDB database and collection\n",
        "\n",
        "- A **MongoDB database** stores a collections of documents.\n"
      ]
    },
    {
      "cell_type": "code",
      "execution_count": 5,
      "id": "0980874c",
      "metadata": {},
      "outputs": [],
      "source": [
        "from utils.mongodb_atlas import MongoDBAtlas, MongoDBAtlasDocumentManager\n",
        "\n",
        "DB_NAME = \"langchain-opentutorial-db\"\n",
        "COLLECTION_NAME = \"little-prince\"\n",
        "\n",
        "atlas = MongoDBAtlas(DB_NAME, COLLECTION_NAME)\n",
        "document_manager = MongoDBAtlasDocumentManager(atlas=atlas)"
      ]
    },
    {
      "cell_type": "markdown",
      "id": "555e1b13",
      "metadata": {},
      "source": [
        "You can **browse collections** to see the **little-prince** collection you just created and the sample data provided by Atlas.\n",
        "\n",
        "- [available sample datasets](https://www.mongodb.com/docs/atlas/sample-data/#std-label-available-sample-datasets)\n",
        "\n",
        "![mongodb-atlas-collection](./assets/07-mongodb-atlas-database.png)\n",
        "\n",
        "In this tutorial, we will use the **little-prince** collection in the **langchain-opentutorial-db** database.\n"
      ]
    },
    {
      "cell_type": "markdown",
      "id": "afe1765d",
      "metadata": {},
      "source": [
        "## Atlas Vector Search Indexes\n",
        "\n",
        "When performing vector search in Atlas, you must create an **Atlas Vector Search Index**.\n"
      ]
    },
    {
      "cell_type": "markdown",
      "id": "afa709d7",
      "metadata": {},
      "source": [
        "### Create a Search Index or Vector Search Index\n",
        "\n",
        "You can define **Atlas Search Index** or **Atlas Vector Search Index** using `SearchIndexModel` object.\n",
        "\n",
        "- `definition` : define the **Search Index**.\n",
        "\n",
        "- `name` : query the **Search Index** by name.\n",
        "\n",
        "To learn more about `definition` of `SearchIndexModel` , see [Review Atlas Search Index Syntax](https://www.mongodb.com/docs/atlas/atlas-search/index-definitions/).\n"
      ]
    },
    {
      "cell_type": "code",
      "execution_count": 6,
      "id": "b7595e95",
      "metadata": {},
      "outputs": [],
      "source": [
        "from pymongo.operations import SearchIndexModel\n",
        "\n",
        "TEST_SEARCH_INDEX_NAME = \"test_search_index\"\n",
        "TEST_VECTOR_SEARCH_INDEX_NAME = \"test_vector_index\"\n",
        "\n",
        "search_index = SearchIndexModel(\n",
        "    definition={\n",
        "        \"mappings\": {\"dynamic\": True},\n",
        "    },\n",
        "    name=TEST_SEARCH_INDEX_NAME,\n",
        ")\n",
        "\n",
        "vector_index = SearchIndexModel(\n",
        "    definition={\n",
        "        \"fields\": [\n",
        "            {\n",
        "                \"type\": \"vector\",\n",
        "                \"numDimensions\": 1536,\n",
        "                \"path\": \"embedding\",\n",
        "                \"similarity\": \"cosine\",\n",
        "            }\n",
        "        ]\n",
        "    },\n",
        "    name=TEST_VECTOR_SEARCH_INDEX_NAME,\n",
        "    type=\"vectorSearch\",\n",
        ")"
      ]
    },
    {
      "cell_type": "markdown",
      "id": "8d8a0739",
      "metadata": {},
      "source": [
        "- `create_index` : create a single **Atlas Search Index** or **Atlas Vector Search Index**. Checks internally if a **Search Index** with the same name exists.\n"
      ]
    },
    {
      "cell_type": "code",
      "execution_count": 7,
      "id": "5836f618",
      "metadata": {},
      "outputs": [],
      "source": [
        "atlas.create_index(TEST_SEARCH_INDEX_NAME, search_index)\n",
        "atlas.create_index(TEST_VECTOR_SEARCH_INDEX_NAME, vector_index)"
      ]
    },
    {
      "cell_type": "markdown",
      "id": "03ad5b54",
      "metadata": {},
      "source": [
        "Click the **Atlas Search tab** to see the search indexes that you created.\n",
        "\n",
        "![mongodb-atlas-search-index](./assets/07-mongodb-atlas-search-index-01.png)\n"
      ]
    },
    {
      "cell_type": "markdown",
      "id": "dd0dbcff",
      "metadata": {},
      "source": [
        "### Update a Search Index\n",
        "\n",
        "- `update_index` : update an **Atlas Search Index** or **Atlas Vector Search Index**.\n"
      ]
    },
    {
      "cell_type": "code",
      "execution_count": 8,
      "id": "e39d0c0d",
      "metadata": {},
      "outputs": [],
      "source": [
        "new_vector_index = {\n",
        "    \"fields\": [\n",
        "        {\n",
        "            \"type\": \"vector\",\n",
        "            \"numDimensions\": 1536,\n",
        "            \"path\": \"embedding\",\n",
        "            \"similarity\": \"euclidean\",\n",
        "        }\n",
        "    ]\n",
        "}\n",
        "\n",
        "atlas.update_index(TEST_VECTOR_SEARCH_INDEX_NAME, definition=new_vector_index)"
      ]
    },
    {
      "cell_type": "markdown",
      "id": "a15d2c89",
      "metadata": {},
      "source": [
        "If the update is successful, click **test_vector_index** in the list of **Index Name** on the **Atlas Search tab** to see more information.\n",
        "\n",
        "You can see that the **Similarity Method** for the **Vector Field** has changed to **euclidean**.\n",
        "\n",
        "![mongodb-atlas-update-search-index](./assets/07-mongodb-atlas-search-index-02.png)\n",
        "\n",
        "You can also click the **Edit Index Definition** button on the right side of the **Atlas UI** to update it.\n"
      ]
    },
    {
      "cell_type": "markdown",
      "id": "7358d272",
      "metadata": {},
      "source": [
        "### Delete a Search Index\n",
        "\n",
        "- `delete_index` : remove an **Atlas Search Index** or **Atlas Vector Search Index**.\n"
      ]
    },
    {
      "cell_type": "code",
      "execution_count": 9,
      "id": "4347f291",
      "metadata": {},
      "outputs": [],
      "source": [
        "atlas.delete_index(TEST_SEARCH_INDEX_NAME)\n",
        "atlas.delete_index(TEST_VECTOR_SEARCH_INDEX_NAME)"
      ]
    },
    {
      "cell_type": "markdown",
      "id": "66bb53c4",
      "metadata": {},
      "source": [
        "## Vector Store\n",
        "\n",
        "- `create_vector_store` : create a vector store using `MongoDBAtlasVectorSearch` .\n",
        "\n",
        "  - `embedding` : embedding model to use.\n",
        "\n",
        "  - `index_name` : index to use when querying the vector store.\n",
        "\n",
        "  - `relevance_score_fn` : similarity score used for the index. You can choose from euclidean, cosine, and dotProduct.\n"
      ]
    },
    {
      "cell_type": "code",
      "execution_count": 10,
      "id": "e2c12a0c",
      "metadata": {},
      "outputs": [],
      "source": [
        "from langchain_openai import OpenAIEmbeddings\n",
        "\n",
        "embedding = OpenAIEmbeddings(model=\"text-embedding-3-small\")\n",
        "TUTORIAL_VECTOR_SEARCH_INDEX_NAME = \"langchain-opentutorial-index\"\n",
        "\n",
        "atlas.create_vector_store(\n",
        "    embedding=embedding,\n",
        "    index_name=TUTORIAL_VECTOR_SEARCH_INDEX_NAME,\n",
        "    relevance_score_fn=\"cosine\",\n",
        ")"
      ]
    },
    {
      "cell_type": "markdown",
      "id": "ceee7409",
      "metadata": {},
      "source": [
        "### Create a Index\n",
        "\n",
        "- `create_vector_search_index` : Alternative to the above [Create a Search Index or Vector Search Index](#create-a-search-index-or-vector-search-index) section that creates a Vector Search Index.\n"
      ]
    },
    {
      "cell_type": "code",
      "execution_count": 11,
      "id": "5ea5af25",
      "metadata": {},
      "outputs": [],
      "source": [
        "atlas.create_vector_search_index(dimensions=1536)"
      ]
    },
    {
      "cell_type": "markdown",
      "id": "3ab3c4cb",
      "metadata": {},
      "source": [
        "Click the **Atlas Search tab** to see the search index **langchain-opentutorial-index** that you created.\n"
      ]
    },
    {
      "cell_type": "markdown",
      "id": "1f35bcf1",
      "metadata": {},
      "source": [
        "## Load Data\n",
        "\n",
        "LangChain provides **Document loaders** that can load a variety of data sources.\n",
        "\n",
        "### Document loaders\n",
        "\n",
        "- `get_documents` : use `TextLoader` to add data from the **the_little_prince.txt** in the data directory to the **little-prince** collection.\n"
      ]
    },
    {
      "cell_type": "code",
      "execution_count": 12,
      "id": "1824e39a",
      "metadata": {},
      "outputs": [],
      "source": [
        "documents = document_manager.get_documents(\n",
        "    file_path=\"./data/the_little_prince.txt\", encoding=\"utf-8\"\n",
        ")"
      ]
    },
    {
      "cell_type": "markdown",
      "id": "d878d78e",
      "metadata": {},
      "source": [
        "The `get_documents` method returns **List[Document]**.\n",
        "\n",
        "- `metadata` : data associated with content\n",
        "\n",
        "- `page_content` : string text\n"
      ]
    },
    {
      "cell_type": "markdown",
      "id": "2ab6a256",
      "metadata": {},
      "source": [
        "## Data Preprocessing\n",
        "\n",
        "### Preserving text file structure\n",
        "\n",
        "In the [Document loaders](#document-loaders) section above, `page_content` has all the text in the file assigned to it.\n",
        "\n",
        "- `split_by_chapter`\n",
        "\n",
        "  - To preserve the structure of the text file, let's modify it to **split the file into chapters.**\n",
        "\n",
        "  - **the_little_prince.txt** used **[ Chapter X ]** as a delimiter to separate the chapters.\n"
      ]
    },
    {
      "cell_type": "code",
      "execution_count": 13,
      "id": "4c7590e5",
      "metadata": {},
      "outputs": [],
      "source": [
        "from typing import List\n",
        "\n",
        "\n",
        "def split_by_chapter(text: str) -> List[str]:\n",
        "    chapters = text.split(\"[ Chapter \")\n",
        "    return [chapter.split(\" ]\", 1)[-1].strip() for chapter in chapters]"
      ]
    },
    {
      "cell_type": "markdown",
      "id": "6bae9168",
      "metadata": {},
      "source": [
        "- `split_documents` : split documents by **chapter**\n",
        "\n",
        "  - Add `doc_index` to metadata\n"
      ]
    },
    {
      "cell_type": "code",
      "execution_count": 14,
      "id": "bd745376",
      "metadata": {},
      "outputs": [],
      "source": [
        "split_chapters = document_manager.split_documents(\n",
        "    documents, split_condition=split_by_chapter, split_index_name=\"doc_index\"\n",
        ")"
      ]
    },
    {
      "cell_type": "markdown",
      "id": "9aafef58",
      "metadata": {},
      "source": [
        "If you compare the `documents` to `split_chapters` , you can see that `page_content` is split by `chapter` .\n"
      ]
    },
    {
      "cell_type": "code",
      "execution_count": 15,
      "id": "0a41adeb",
      "metadata": {},
      "outputs": [
        {
          "name": "stdout",
          "output_type": "stream",
          "text": [
            "- we are introduced to the nar, metadata: {'doc_index': 1}\n"
          ]
        }
      ],
      "source": [
        "first_chapter = split_chapters[1]\n",
        "print(f\"{first_chapter.page_content[:30]}, metadata: {first_chapter.metadata}\")"
      ]
    },
    {
      "cell_type": "markdown",
      "id": "66be4b6a",
      "metadata": {},
      "source": [
        "### Text splitters\n",
        "\n",
        "Splitting a `Document` into appropriately sized chunks allows you to process text data more efficiently.\n",
        "\n",
        "To split a `Document` while preserving paragraph and sentence structure, use `RecursiveCharacterTextSplitter` .\n",
        "\n",
        "- `chunk_size` : setting the maximum size of chunks\n",
        "\n",
        "- `chunk_overlap` : setting the character overlap size between chunks\n"
      ]
    },
    {
      "cell_type": "code",
      "execution_count": 16,
      "id": "2ffb1800",
      "metadata": {},
      "outputs": [],
      "source": [
        "from langchain_text_splitters import RecursiveCharacterTextSplitter\n",
        "\n",
        "text_splitter = RecursiveCharacterTextSplitter(chunk_size=800, chunk_overlap=200)\n",
        "split_documents = document_manager.split_documents_by_splitter(\n",
        "    text_splitter, split_chapters\n",
        ")"
      ]
    },
    {
      "cell_type": "markdown",
      "id": "2c46bbbb",
      "metadata": {},
      "source": [
        "### Add metadata\n",
        "\n",
        "Splitting the document into `chunk_size` increases the number of documents.\n",
        "\n",
        "Add an `chunk_index` key to the metadata to identify the document index, since it is not split into one `Document` per chapter.\n"
      ]
    },
    {
      "cell_type": "code",
      "execution_count": 17,
      "id": "c090e904",
      "metadata": {},
      "outputs": [],
      "source": [
        "for index, doc in enumerate(split_documents):\n",
        "    doc.metadata.update({\"chunk_index\": index})"
      ]
    },
    {
      "cell_type": "markdown",
      "id": "3c3ca28a",
      "metadata": {},
      "source": [
        "The `chunk_index` has been added to the metadata.\n",
        "\n",
        "You can see that some of the `page_content` text in the `Document` overlaps.\n"
      ]
    },
    {
      "cell_type": "markdown",
      "id": "94df4df9",
      "metadata": {},
      "source": [
        "## Manage vector store\n",
        "\n",
        "Now that you've initialized the `vector_store` and loaded the data, you can add and delete **Documents** to the **little-prince** collection.\n",
        "\n",
        "### Add\n",
        "\n",
        "- `add_documents` : Add **documents** to the `vector_store` and returns a List of IDs for the added documents.\n"
      ]
    },
    {
      "cell_type": "code",
      "execution_count": 18,
      "id": "c6b01161",
      "metadata": {},
      "outputs": [],
      "source": [
        "ids = atlas.add_documents(documents=split_documents)"
      ]
    },
    {
      "cell_type": "markdown",
      "id": "619c1147",
      "metadata": {},
      "source": [
        "`delete` function allow specify the Document IDs to delete, so `ids` store the IDs of the added documents.\n",
        "\n",
        "Check the first document ID. The number of **IDs** matches the number of **documents**, and each ID is a unique value.\n",
        "\n",
        "In the image below, after adding **documents** the **STORAGE SIZE** of the collection increases and you can see the documents corresponding to each ID, such as `ids[0]` .\n",
        "\n",
        "![mongodb-atlas-add-documents](./assets/07-mongodb-atlas-collection-01.png)\n",
        "\n",
        "The `embedding` field is a **vector representation of the text** data. It is used to determine similarity to the query vector for vector search.\n"
      ]
    },
    {
      "cell_type": "markdown",
      "id": "7a11e0d9",
      "metadata": {},
      "source": [
        "### Query Filter\n",
        "\n",
        "Create a `Document` object, add it to a **collection**.\n"
      ]
    },
    {
      "cell_type": "code",
      "execution_count": 19,
      "id": "e1aeaf2a",
      "metadata": {},
      "outputs": [],
      "source": [
        "from langchain_core.documents import Document\n",
        "\n",
        "sample_document = Document(\n",
        "    page_content=\"I am leveraging my experience as a developer to provide development education and nurture many new developers.\",\n",
        "    metadata={\"source\": \"linkedin\"},\n",
        ")\n",
        "sample_id = atlas.add_documents([sample_document])"
      ]
    },
    {
      "cell_type": "markdown",
      "id": "6ed0d4f1",
      "metadata": {},
      "source": [
        "**TOTAL DOCUMENTS** has increased from 167 to 168.\n",
        "\n",
        "On the last page, you can see the `page_content` of `sample_document` .\n",
        "\n",
        "Alternatively, you can add **query filter**, such as the `source` field, to view the search results.\n",
        "\n",
        "![mongodb-atlas-last-document](./assets/07-mongodb-atlas-collection-02.png)\n"
      ]
    },
    {
      "cell_type": "markdown",
      "id": "2b972279",
      "metadata": {},
      "source": [
        "### Delete\n",
        "\n",
        "You can specify the **document IDs to delete** as arguments to the `delete_documents` function, such as `sample_id` .\n"
      ]
    },
    {
      "cell_type": "code",
      "execution_count": 20,
      "id": "8969e67f",
      "metadata": {},
      "outputs": [
        {
          "data": {
            "text/plain": [
              "True"
            ]
          },
          "execution_count": 20,
          "metadata": {},
          "output_type": "execute_result"
        }
      ],
      "source": [
        "atlas.delete_documents(ids=sample_id)"
      ]
    },
    {
      "cell_type": "markdown",
      "id": "840e407b",
      "metadata": {},
      "source": [
        "If `True` returns, the deletion is successful.\n",
        "\n",
        "You can see that **TOTAL DOCUMENTS** has decreasesd from 168 to 167 and that `sample_document` has been deleted.\n"
      ]
    },
    {
      "cell_type": "markdown",
      "id": "29f5df61",
      "metadata": {},
      "source": [
        "## Query vector store\n",
        "\n",
        "Make a `query` related to the content of The Little Prince and see if the `vector_store` returns results from a search for similar documents.\n",
        "\n",
        "The `query` is based on the most well-known story about the relationship between the Little Prince and the Fox.\n"
      ]
    },
    {
      "cell_type": "code",
      "execution_count": 21,
      "id": "ccda34a5",
      "metadata": {},
      "outputs": [],
      "source": [
        "query = \"What does it mean to be tamed according to the fox?\""
      ]
    },
    {
      "cell_type": "markdown",
      "id": "5cd1d141",
      "metadata": {},
      "source": [
        "### Semantic Search\n",
        "\n",
        "`similarity_search` method performs a basic semantic search\n",
        "\n",
        "The `k` parameter in the example below specifies the number of documents.\n",
        "\n",
        "It returns a **List[Document]** ranked by relevance.\n"
      ]
    },
    {
      "cell_type": "code",
      "execution_count": 22,
      "id": "5777d224",
      "metadata": {},
      "outputs": [
        {
          "data": {
            "text/plain": [
              "[Document(metadata={'_id': '67b07b9602e46738df0bbb2e', 'doc_index': 21, 'chunk_index': 122}, page_content='The fox gazed at the little prince, for a long time. \\n(picture)\\n\"Please-- tame me!\" he said. \\n\"I want to, very much,\" the little prince replied. \"But I have not much time. I have friends to discover, and a great many things to understand.\" \\n\"One only understands the things that one tames,\" said the fox. \"Men have no more time to understand anything. They buy things all ready made at the shops. But there is no shop anywhere where one can buy friendship, and so men have no friends any more. If you want a friend, tame me...\" \\n\"What must I do, to tame you?\" asked the little prince.')]"
            ]
          },
          "execution_count": 22,
          "metadata": {},
          "output_type": "execute_result"
        }
      ],
      "source": [
        "atlas.similarity_search(query=query, k=1)"
      ]
    },
    {
      "cell_type": "markdown",
      "id": "d55ac5dd",
      "metadata": {},
      "source": [
        "### Semantic Search with Score\n",
        "\n",
        "`similarity_search_with_score` method also performs a semantic search.\n",
        "\n",
        "The difference with the `similarity_search` method is that it returns a **relevance score** of documents between 0 and 1.\n"
      ]
    },
    {
      "cell_type": "code",
      "execution_count": 23,
      "id": "3313b168",
      "metadata": {},
      "outputs": [
        {
          "data": {
            "text/plain": [
              "[(Document(metadata={'_id': '67b07b9602e46738df0bbb2e', 'doc_index': 21, 'chunk_index': 122}, page_content='The fox gazed at the little prince, for a long time. \\n(picture)\\n\"Please-- tame me!\" he said. \\n\"I want to, very much,\" the little prince replied. \"But I have not much time. I have friends to discover, and a great many things to understand.\" \\n\"One only understands the things that one tames,\" said the fox. \"Men have no more time to understand anything. They buy things all ready made at the shops. But there is no shop anywhere where one can buy friendship, and so men have no friends any more. If you want a friend, tame me...\" \\n\"What must I do, to tame you?\" asked the little prince.'),\n",
              "  0.8047155141830444),\n",
              " (Document(metadata={'_id': '67b07b9602e46738df0bbb2a', 'doc_index': 21, 'chunk_index': 118}, page_content='\"No,\" said the little prince. \"I am looking for friends. What does that mean-- ‘tame‘?\" \\n\"It is an act too often neglected,\" said the fox. It means to establish ties.\" \\n\"\\'To establish ties\\'?\"\\n\"Just that,\" said the fox. \"To me, you are still nothing more than a little boy who is just like a hundred thousand other little boys. And I have no need of you. And you, on your part, have no need of me. To you, I am nothing more than a fox like a hundred thousand other foxes. But if you tame me, then we shall need each other. To me, you will be unique in all the world. To you, I shall be unique in all the world...\" \\n\"I am beginning to understand,\" said the little prince. \"There is a flower... I think that she has tamed me...\"'),\n",
              "  0.7951536178588867),\n",
              " (Document(metadata={'_id': '67b07b9602e46738df0bbb29', 'doc_index': 21, 'chunk_index': 117}, page_content='\"What does that mean-- ‘tame‘?\" \\n\"You do not live here,\" said the fox. \"What is it that you are looking for?\" \\n\"I am looking for men,\" said the little prince. \"What does that mean-- ‘tame‘?\" \\n\"Men,\" said the fox. \"They have guns, and they hunt. It is very disturbing. They also raise chickens. These are their only interests. Are you looking for chickens?\" \\n\"No,\" said the little prince. \"I am looking for friends. What does that mean-- ‘tame‘?\" \\n\"It is an act too often neglected,\" said the fox. It means to establish ties.\" \\n\"\\'To establish ties\\'?\"'),\n",
              "  0.7918769717216492)]"
            ]
          },
          "execution_count": 23,
          "metadata": {},
          "output_type": "execute_result"
        }
      ],
      "source": [
        "atlas.similarity_search_with_score(query=query, k=3)"
      ]
    },
    {
      "cell_type": "markdown",
      "id": "f5d3c754",
      "metadata": {},
      "source": [
        "### Semantic Search with Filtering\n",
        "\n",
        "**MongoDB Atlas** supports pre-filtering your data using **MongoDB Query Language(MQL) Operators**.\n",
        "\n",
        "You must update the index definition using `update_vector_search_index` .\n"
      ]
    },
    {
      "cell_type": "code",
      "execution_count": 24,
      "id": "bccbed02",
      "metadata": {},
      "outputs": [],
      "source": [
        "atlas.update_vector_search_index(dimensions=1536, filters=[\"chunk_index\"])"
      ]
    },
    {
      "cell_type": "markdown",
      "id": "64ded051",
      "metadata": {},
      "source": [
        "Compare the image below to when you first created the index in [Vector Store](#vector-store).\n",
        "\n",
        "Notice that `chunk_index` have been added to the **Index Fields** and **Documents** have been added as well.\n",
        "\n",
        "![mongodb-atlas-index-update](./assets/07-mongodb-atlas-search-index-03.png)\n"
      ]
    },
    {
      "cell_type": "markdown",
      "id": "96e11a7a",
      "metadata": {},
      "source": [
        "There are **comparison query operators** that find values that match a condition.\n",
        "\n",
        "For example, the `$eq` operator finds **documents** that match a specified value.\n",
        "\n",
        "Now you can add a `pre_filter` condition that documents **chunk_index** are lower than or equal to 120 using the `$lte` operator.\n"
      ]
    },
    {
      "cell_type": "code",
      "execution_count": 25,
      "id": "ffaa421c",
      "metadata": {},
      "outputs": [
        {
          "data": {
            "text/plain": [
              "[(Document(metadata={'_id': '67b07b9602e46738df0bbb2a', 'doc_index': 21, 'chunk_index': 118}, page_content='\"No,\" said the little prince. \"I am looking for friends. What does that mean-- ‘tame‘?\" \\n\"It is an act too often neglected,\" said the fox. It means to establish ties.\" \\n\"\\'To establish ties\\'?\"\\n\"Just that,\" said the fox. \"To me, you are still nothing more than a little boy who is just like a hundred thousand other little boys. And I have no need of you. And you, on your part, have no need of me. To you, I am nothing more than a fox like a hundred thousand other foxes. But if you tame me, then we shall need each other. To me, you will be unique in all the world. To you, I shall be unique in all the world...\" \\n\"I am beginning to understand,\" said the little prince. \"There is a flower... I think that she has tamed me...\"'),\n",
              "  0.7951536178588867),\n",
              " (Document(metadata={'_id': '67b07b9602e46738df0bbb29', 'doc_index': 21, 'chunk_index': 117}, page_content='\"What does that mean-- ‘tame‘?\" \\n\"You do not live here,\" said the fox. \"What is it that you are looking for?\" \\n\"I am looking for men,\" said the little prince. \"What does that mean-- ‘tame‘?\" \\n\"Men,\" said the fox. \"They have guns, and they hunt. It is very disturbing. They also raise chickens. These are their only interests. Are you looking for chickens?\" \\n\"No,\" said the little prince. \"I am looking for friends. What does that mean-- ‘tame‘?\" \\n\"It is an act too often neglected,\" said the fox. It means to establish ties.\" \\n\"\\'To establish ties\\'?\"'),\n",
              "  0.7918769717216492),\n",
              " (Document(metadata={'_id': '67b07b9602e46738df0bbb2c', 'doc_index': 21, 'chunk_index': 120}, page_content='\"My life is very monotonous,\" the fox said. \"I hunt chickens; men hunt me. All the chickens are just alike, and all the men are just alike. And, in consequence, I am a little bored. But if you tame me, it will be as if the sun came to shine on my life . I shall know the sound of a step that will be different from all the others. Other steps send me hurrying back underneath the ground. Yours will call me, like music, out of my burrow. And then look: you see the grain-fields down yonder? I do not ea t bread. Wheat is of no use to me. The wheat fields have nothing to say to me. And that is sad. But you have hair that is the colour of gold. Think how wonderful that will be when you have tamed me! The grain, which is also golden, will bring me bac k the thought of you. And I shall love to'),\n",
              "  0.7739419937133789)]"
            ]
          },
          "execution_count": 25,
          "metadata": {},
          "output_type": "execute_result"
        }
      ],
      "source": [
        "atlas.similarity_search_with_score(\n",
        "    query=query, k=3, pre_filter={\"chunk_index\": {\"$lte\": 120}}\n",
        ")"
      ]
    },
    {
      "cell_type": "markdown",
      "id": "73649e8b",
      "metadata": {},
      "source": [
        "## CRUD Operations with PyMongo\n",
        "\n",
        "Let's use **PyMongo Collection** instead of `MongoDBAtlasVectorSearch` for our **Document CRUD Operations**.\n",
        "\n",
        "### Setting up with an empty collection\n",
        "\n",
        "Delete all documents in `vector_store` and start with an empty collection.\n",
        "\n",
        "- `delete_documents` : If you don't specify an ID, all documents added to the collection are deleted.\n"
      ]
    },
    {
      "cell_type": "code",
      "execution_count": 26,
      "id": "dcf5cf13",
      "metadata": {},
      "outputs": [
        {
          "data": {
            "text/plain": [
              "True"
            ]
          },
          "execution_count": 26,
          "metadata": {},
          "output_type": "execute_result"
        }
      ],
      "source": [
        "atlas.delete_documents()"
      ]
    },
    {
      "cell_type": "markdown",
      "id": "f2117a68",
      "metadata": {},
      "source": [
        "If `True` returns, the deletion is successful.\n",
        "\n",
        "You can see that **TOTAL DOCUMENTS** has decreasesd to 0.\n"
      ]
    },
    {
      "cell_type": "markdown",
      "id": "d0e93e97",
      "metadata": {},
      "source": [
        "### Upsert\n",
        "\n",
        "Splits a list of documents into `page_content` and `metadata` , then upsert them.\n",
        "\n",
        "- `upsert_parallel` : update documents that match the filter or insert new documents.\n",
        "\n",
        "Internally, `Document` is converted to `RawBSONDocument` .\n",
        "\n",
        "- `RawBSONDocument` : represent BSON document using the raw bytes.\n",
        "  - BSON, the binary representation of JSON, is primarily used internally by MongoDB.\n"
      ]
    },
    {
      "cell_type": "code",
      "execution_count": 27,
      "id": "217ccf58",
      "metadata": {},
      "outputs": [],
      "source": [
        "texts, metadatas = zip(*[(doc.page_content, doc.metadata) for doc in split_documents])\n",
        "document_manager.upsert_parallel(texts=texts, metadatas=list(metadatas))"
      ]
    },
    {
      "cell_type": "markdown",
      "id": "0ce171b4",
      "metadata": {},
      "source": [
        "### Read with Evaluation Operators\n",
        "\n",
        "To compare the equality, use `<field>` : `<value>` expression .\n",
        "\n",
        "You can also use [evaluation operators](https://www.mongodb.com/docs/languages/python/pymongo-driver/current/read/specify-a-query/#evaluation-operators) to perform operations.\n",
        "\n",
        "For example, `$regex` operator returns documents that match a regular expression.\n",
        "\n",
        "- `fox_query_filter` : find all documents inclues the string `fox` in the `page_content` field.\n",
        "\n",
        "- `find_one_by_filter` : retrieve the first document that matches the condition.\n"
      ]
    },
    {
      "cell_type": "code",
      "execution_count": 28,
      "id": "8296ee33",
      "metadata": {},
      "outputs": [
        {
          "name": "stdout",
          "output_type": "stream",
          "text": [
            "- the little prince befriends the fox\n",
            "It was then that the fox appeared.\n",
            "\"Good morning,\" said the fox. \n",
            "\"Good morning,\" the little prince responded politely, although when he turned around he saw nothing. \n",
            "\"I am right here,\" the voice said, \"under the apple tree.\" \n",
            "(picture)\n",
            "\"Who are you?\" asked the little prince, and added, \"You are very pretty to look at.\" \n",
            "\"I am a fox,\" said the fox. \n",
            "\"Come and play with me,\" proposed the little prince. \"I am so unhappy.\" \n",
            "\"I cannot play with you,\" the fox said. \"I am not tamed.\" \n",
            "\"Ah! Please excuse me,\" said the little prince. \n",
            "But, after some thought, he added: \n",
            "\"What does that mean-- ‘tame‘?\" \n",
            "\"You do not live here,\" said the fox. \"What is it that you are looking for?\" \n",
            "\"I am looking for men,\" said the little prince. \"What does that mean-- ‘tame‘?\"\n"
          ]
        }
      ],
      "source": [
        "fox_query_filter = {\"page_content\": {\"$regex\": \"fox\"}}\n",
        "\n",
        "find_result = document_manager.find_one_by_filter(filter=fox_query_filter)\n",
        "print(find_result[\"page_content\"])"
      ]
    },
    {
      "cell_type": "markdown",
      "id": "4dd847f3",
      "metadata": {},
      "source": [
        "- `find` : find all documents that match the condition. Passing an empty filter will return all documents.\n"
      ]
    },
    {
      "cell_type": "code",
      "execution_count": 29,
      "id": "38784670",
      "metadata": {},
      "outputs": [
        {
          "data": {
            "text/plain": [
              "19"
            ]
          },
          "execution_count": 29,
          "metadata": {},
          "output_type": "execute_result"
        }
      ],
      "source": [
        "cursor = document_manager.find(filter=fox_query_filter)\n",
        "\n",
        "fox_story_documents = []\n",
        "for doc in cursor:\n",
        "    fox_story_documents.append(doc)\n",
        "len(fox_story_documents)"
      ]
    },
    {
      "cell_type": "markdown",
      "id": "86fb570a",
      "metadata": {},
      "source": [
        "### Update with query filter\n",
        "\n",
        "You can use [update operators](https://www.mongodb.com/docs/manual/reference/operator/update/) to perform operations.\n",
        "\n",
        "For example, `$set` operator sets the value of a field in a document.\n",
        "\n",
        "- `preface_query_filter` : find all documents with the value `0` in the `metadata.doc_index` field.\n",
        "\n",
        "- `update_operation` : updates `0` in the document's `metadata.doc_index` to `-1` .\n"
      ]
    },
    {
      "cell_type": "code",
      "execution_count": 30,
      "id": "3b03f9f3",
      "metadata": {},
      "outputs": [],
      "source": [
        "preface_query_filter = {\"metadata.doc_index\": 0}\n",
        "update_operation = {\"$set\": {\"metadata.doc_index\": -1}}"
      ]
    },
    {
      "cell_type": "markdown",
      "id": "380cc2fd",
      "metadata": {},
      "source": [
        "- `update_one_by_filter` : updates the first document that matches the condition.\n",
        "\n",
        "- `update_many_by_filter` : updates all documents that match the condition.\n"
      ]
    },
    {
      "cell_type": "code",
      "execution_count": 31,
      "id": "69810851",
      "metadata": {},
      "outputs": [],
      "source": [
        "updateOneResult = document_manager.update_one_by_filter(\n",
        "    preface_query_filter, update_operation\n",
        ")\n",
        "updateManyResult = document_manager.update_many_by_filter(\n",
        "    preface_query_filter, update_operation\n",
        ")"
      ]
    },
    {
      "cell_type": "markdown",
      "id": "7ab2e985",
      "metadata": {},
      "source": [
        "`update_one` and `update_many` return `UpdateResult` object that contains the properties below:\n",
        "\n",
        "- `matched_count` : The number of documents that matched the query filter.\n",
        "\n",
        "- `modified_count` : The number of documents modified.\n"
      ]
    },
    {
      "cell_type": "code",
      "execution_count": 32,
      "id": "34706e68",
      "metadata": {},
      "outputs": [
        {
          "name": "stdout",
          "output_type": "stream",
          "text": [
            "matched: 1, modified: 1\n",
            "matched: 5, modified: 5\n"
          ]
        }
      ],
      "source": [
        "print(\n",
        "    f\"matched: {updateOneResult.matched_count}, modified: {updateOneResult.modified_count}\"\n",
        ")\n",
        "print(\n",
        "    f\"matched: {updateManyResult.matched_count}, modified: {updateManyResult.modified_count}\"\n",
        ")"
      ]
    },
    {
      "cell_type": "markdown",
      "id": "b4c0eff5",
      "metadata": {},
      "source": [
        "### Upsert option\n",
        "\n",
        "If you set the `upsert` to `True` in update operation, inserts a new document if no document matches the query filter.\n",
        "\n",
        "- `source_query_filter` : find all documents with the value `facebook` in the `metadata.source` field.\n",
        "\n",
        "- `upsert_operation` : updates `facebook` in the document's `metadata.source` to `book` .\n"
      ]
    },
    {
      "cell_type": "code",
      "execution_count": 33,
      "id": "63b194bd",
      "metadata": {},
      "outputs": [
        {
          "name": "stdout",
          "output_type": "stream",
          "text": [
            "matched: 0, modified: 0, upserted_id: 67b07ce6fbff5980ceb32fa2\n"
          ]
        }
      ],
      "source": [
        "source_query_filter = {\"metadata.source\": \"facebook\"}\n",
        "upsert_operation = {\"$set\": {\"metadata.source\": \"book\"}}\n",
        "upsertResult = document_manager.upsert_many_by_filter(\n",
        "    source_query_filter, upsert_operation\n",
        ")\n",
        "print(\n",
        "    f\"matched: {upsertResult.matched_count}, modified: {upsertResult.modified_count}, upserted_id: {upsertResult.upserted_id}\"\n",
        ")"
      ]
    },
    {
      "cell_type": "markdown",
      "id": "18db1ace",
      "metadata": {},
      "source": [
        "### Delete with query filter\n",
        "\n",
        "- `delete_one_by_filter` : deletes the first document that matches the condition and returns `DeleteResult` object.\n",
        "\n",
        "- `deleted_count` : The number of documents deleted.\n"
      ]
    },
    {
      "cell_type": "code",
      "execution_count": 34,
      "id": "fca680db",
      "metadata": {},
      "outputs": [
        {
          "name": "stdout",
          "output_type": "stream",
          "text": [
            "deleted: 1\n"
          ]
        }
      ],
      "source": [
        "deleteOneResult = document_manager.delete_one_by_filter(\n",
        "    fox_query_filter, comment=\"Deleting the first document containing fox\"\n",
        ")\n",
        "\n",
        "print(f\"deleted: {deleteOneResult.deleted_count}\")"
      ]
    },
    {
      "cell_type": "markdown",
      "id": "c7c23b1e",
      "metadata": {},
      "source": [
        "- `delete` : deletes all documents that match the condition.\n"
      ]
    },
    {
      "cell_type": "code",
      "execution_count": null,
      "id": "6c4f8e17",
      "metadata": {},
      "outputs": [],
      "source": [
        "document_manager.delete(filters=fox_query_filter)"
      ]
    }
  ],
  "metadata": {
    "kernelspec": {
      "display_name": "venv",
      "language": "python",
      "name": ".venv"
    },
    "language_info": {
      "codemirror_mode": {
        "name": "ipython",
        "version": 3
      },
      "file_extension": ".py",
      "mimetype": "text/x-python",
      "name": "python",
      "nbconvert_exporter": "python",
      "pygments_lexer": "ipython3",
      "version": "3.12.4"
    }
  },
  "nbformat": 4,
  "nbformat_minor": 5
}
