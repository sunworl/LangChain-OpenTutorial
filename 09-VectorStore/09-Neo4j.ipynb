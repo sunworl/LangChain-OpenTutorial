{
 "cells": [
  {
   "cell_type": "markdown",
   "metadata": {
    "id": "z47qcQPDHZq_"
   },
   "source": [
    "# Neo4j Vector Index\n",
    "\n",
    "- Author: [Jongho](https://github.com/XaviereKU)\n",
    "- Design: \n",
    "- Peer Review: \n",
    "- This is a part of [LangChain Open Tutorial](https://github.com/LangChain-OpenTutorial/LangChain-OpenTutorial)\n",
    "\n",
    "[![Open in Colab](https://colab.research.google.com/assets/colab-badge.svg)](https://colab.research.google.com/github/LangChain-OpenTutorial/LangChain-OpenTutorial/blob/main/99-TEMPLATE/00-BASE-TEMPLATE-EXAMPLE.ipynb) [![Open in GitHub](https://img.shields.io/badge/Open%20in%20GitHub-181717?style=flat-square&logo=github&logoColor=white)](https://github.com/LangChain-OpenTutorial/LangChain-OpenTutorial/blob/main/99-TEMPLATE/00-BASE-TEMPLATE-EXAMPLE.ipynb)\n",
    "\n",
    "## Overview\n",
    "Neo4j is a Graph database backed by vector store and can be deployed locally or on cloud.\n",
    "\n",
    "In this tutorial we utilize its ability to store vectors only, and deal with its real ability, Graph database, later.\n",
    "\n",
    "To encode data into vector, we use ```OpenAIEmbedding```, but you can use any embedding you want.\n",
    "\n",
    "Furthermore, you need to note that you should read about ```Cypher```, declarative query language for Neo4j, to fully utilize Neo4j.\n",
    "\n",
    "We use some Cypher queries but will not go deeply. You can visit Cypher official document web site in References.\n",
    "\n",
    "For more information, visit [Neo4j](https://neo4j.com/).\n",
    "\n",
    "### Table of Contents\n",
    "\n",
    "- [Overview](#overview)\n",
    "- [Environment Setup](#environment-setup)\n",
    "- [Setup Neo4j](#setup-neo4j)\n",
    "\t- [Getting started with Aura](#getting-started-with-aura)\n",
    "\t- [Getting started with Docker](#getting-started-with-docker)\n",
    "- [Credentials](#credentials)\n",
    "- [Initialization](#initialization)\n",
    "\t- [List Indexes](#list-indexs)\n",
    "\t- [Create Index](#create-index)\n",
    "\t- [Delete Index](#delete-index)\n",
    "\t- [Select Embedding model](#select-embeddings-model)\n",
    "\t- [Data Preprocessing](#data-preprocessing)\n",
    "- [Manage vector store](#manage-vector-store)\n",
    "    - [Connect to index](#connect-to-index)\n",
    "\t- [Add items to vector store](#add-items-to-vector-store)\n",
    "    - [Scroll items from vector store](#scroll-items-from-vector-store)\n",
    "\t- [Delete items from vector store](#delete-items-from-vector-store)\n",
    "- [Similarity search](#similarity-search)\n",
    "\n",
    "### References\n",
    "\n",
    "- [Cypher](https://neo4j.com/docs/cypher-manual/current/introduction/)\n",
    "- [Neo4j Docker Installation](https://hub.docker.com/_/neo4j)\n",
    "- [Neo4j Official Installation guide](https://neo4j.com/docs/operations-manual/current/installation/)\n",
    "- [Neo4j Python SDK document](https://neo4j.com/docs/api/python-driver/current/index.html)\n",
    "- [Neo4j document](https://neo4j.com/docs/)\n",
    "- [Langchain Neo4j document](https://python.langchain.com/docs/integrations/vectorstores/neo4jvector/)"
   ]
  },
  {
   "cell_type": "markdown",
   "metadata": {
    "id": "wEk1SoFEfwjo"
   },
   "source": [
    "## Environment Setup\n",
    "\n",
    "Set up the environment. You may refer to [Environment Setup](https://wikidocs.net/257836) for more details.\n",
    "\n",
    "**[Note]**\n",
    "- ```langchain-opentutorial``` is a package that provides a set of easy-to-use environment setup, useful functions and utilities for tutorials. \n",
    "- You can checkout the [```langchain-opentutorial```](https://github.com/LangChain-OpenTutorial/langchain-opentutorial-pypi) for more details.\n",
    "- We built ```Neo4jDocumentManager``` class from Python SDK of ```Neo4j```. Langchain also supports neo4j vector store class but it lacks some methods like delete. Look neo4j_interface.py in utils"
   ]
  },
  {
   "cell_type": "code",
   "execution_count": 1,
   "metadata": {
    "id": "n9NVKk-Zf9Nq"
   },
   "outputs": [],
   "source": [
    "%%capture --no-stderr\n",
    "%pip install langchain-opentutorial"
   ]
  },
  {
   "cell_type": "code",
   "execution_count": 2,
   "metadata": {},
   "outputs": [
    {
     "name": "stdout",
     "output_type": "stream",
     "text": [
      "Note: you may need to restart the kernel to use updated packages.\n"
     ]
    }
   ],
   "source": [
    "# Pip install necessary package\n",
    "%pip install -qU neo4j"
   ]
  },
  {
   "cell_type": "code",
   "execution_count": 3,
   "metadata": {
    "id": "IMx2hZNXf9QL"
   },
   "outputs": [],
   "source": [
    "# Install required packages\n",
    "from langchain_opentutorial import package\n",
    "\n",
    "package.install(\n",
    "    [\n",
    "        \"langsmith\",\n",
    "        \"langchain\",\n",
    "        \"langchain_core\",\n",
    "        \"langchain_community\",\n",
    "        \"langchain_openai\",\n",
    "        \"neo4j\",\n",
    "        \"nltk\",\n",
    "    ],\n",
    "    verbose=False,\n",
    "    upgrade=False,\n",
    ")"
   ]
  },
  {
   "cell_type": "code",
   "execution_count": 4,
   "metadata": {
    "id": "N8C6pLTZf9Sb"
   },
   "outputs": [
    {
     "name": "stdout",
     "output_type": "stream",
     "text": [
      "Environment variables have been set successfully.\n"
     ]
    }
   ],
   "source": [
    "# Set environment variables\n",
    "from langchain_opentutorial import set_env\n",
    "\n",
    "set_env(\n",
    "    {\n",
    "        \"OPENAI_API_KEY\": \"Your OPENAI API KEY\",\n",
    "        \"LANGCHAIN_API_KEY\": \"Your LangChain API KEY\",\n",
    "        \"LANGCHAIN_TRACING_V2\": \"true\",\n",
    "        \"LANGCHAIN_ENDPOINT\": \"https://api.smith.langchain.com\",\n",
    "        \"LANGCHAIN_PROJECT\": \"Neo4j\",\n",
    "        \"NEO4J_URI\": \"Your Neo4j URI\",\n",
    "        \"NEO4J_USERNAME\": \"Your Neo4j username\",\n",
    "        \"NEO4J_PASSWORD\": \"Your Neo4j password\",\n",
    "    }\n",
    ")"
   ]
  },
  {
   "cell_type": "markdown",
   "metadata": {},
   "source": [
    "You can alternatively set API keys such as ```OPENAI_API_KEY``` in a ```.env``` file and load them.\n",
    "\n",
    "[Note] This is not necessary if you've already set the required API keys in previous steps."
   ]
  },
  {
   "cell_type": "code",
   "execution_count": 5,
   "metadata": {},
   "outputs": [
    {
     "data": {
      "text/plain": [
       "False"
      ]
     },
     "execution_count": 5,
     "metadata": {},
     "output_type": "execute_result"
    }
   ],
   "source": [
    "# Load API keys from .env file\n",
    "from dotenv import load_dotenv\n",
    "\n",
    "load_dotenv(override=True)"
   ]
  },
  {
   "cell_type": "markdown",
   "metadata": {},
   "source": [
    "## Setup Neo4j\n",
    "We have two options to start with. Cloud or local deployment.\n",
    "\n",
    "In this tutorial, we will user Cloud service, called ```Aura``` provided by ```Neo4j```.\n",
    "\n",
    "But we will also describe how to deploy ```Neo4j``` with docker.\n",
    "\n",
    "### Getting started with Aura\n",
    "You can create a new **Neo4j Aura** account at [Neo4j](https://neo4j.com/) offical website.\n",
    "\n",
    "Visit web site and click Get Started Free at top right.\n",
    "\n",
    "If you done signing in, you will se a button, **Create instance** and after that you will see your username and password.\n",
    "\n",
    "To get your API Key, click **Download and continue** to download a txt file which contains API key to connect your **NEO4j Aura** .\n",
    "\n",
    "### Getting started with Docker\n",
    "We now describe how to run ```Neo4j``` using docker.\n",
    "\n",
    "To run Neo4j container, we use the following command.\n",
    "```\n",
    "docker run \\\n",
    "    -itd \\\n",
    "    --publish=7474:7474 --publish=7687:7687 \\\n",
    "    --volume=$HOME/neo4j/data:/data \\\n",
    "    --env=NEO4J_AUTH=none \\\n",
    "    --name neo4j \\\n",
    "    neo4j\n",
    "```\n",
    "\n",
    "You can visit **Neo4j Docker installation** reference to check more detailed information.\n",
    "\n",
    "**[NOTE]**\n",
    "* ```Neo4j``` also supports macOS, windows and Linux native deployment. Visit **Neo4j Official Installation guide** reference for more detail.\n",
    "* ```Neo4j``` community edition only supports one database."
   ]
  },
  {
   "cell_type": "markdown",
   "metadata": {
    "id": "USvgdgjznDsd"
   },
   "source": [
    "## Credentials\n",
    "Now, if you successfully create your own account for Aura, you will get your ```NEO4J_URI```, ```NEO4J_USERNAME```, ```NEO4J_USERPASSWORD```.\n",
    "\n",
    "Add it to environmental variable above or add it to your ```.env``` file."
   ]
  },
  {
   "cell_type": "code",
   "execution_count": 6,
   "metadata": {
    "id": "QzFkuokSnL1e"
   },
   "outputs": [],
   "source": [
    "import os\n",
    "import time\n",
    "import neo4j\n",
    "\n",
    "# set uri, username, password\n",
    "uri = os.getenv(\"NEO4J_URI\")\n",
    "username = os.getenv(\"NEO4J_USERNAME\")\n",
    "password = os.getenv(\"NEO4J_PASSWORD\")\n",
    "\n",
    "# Connect to Neo4j client\n",
    "client = neo4j.GraphDatabase.driver(uri=uri, auth=(username, password))"
   ]
  },
  {
   "cell_type": "markdown",
   "metadata": {
    "id": "MWKVm4IkgHPn"
   },
   "source": [
    "## Initialization\n",
    "If you are succesfully connected to **Neo4j Aura**, there are some basic indexes already created.\n",
    "\n",
    "But, in this tutorial we will create a new indexand will add items(nodes) to it.\n",
    "\n",
    "To do this, we now look how to manage indexes.\n",
    "\n",
    "To manage indexes, we will see how to:\n",
    "* List indexes\n",
    "* Create new index\n",
    "* Delete index"
   ]
  },
  {
   "cell_type": "markdown",
   "metadata": {},
   "source": [
    "### Define ```Neo4jIndexManager```\n",
    "\n",
    "**Neo4j** uses **Cypher** , similar to SQL query.\n",
    "\n",
    "So, when you try to list indexes you have, you need to use **Cypher** . \n",
    "\n",
    "But as a tutorial, to make it easy we defined a class to manager index."
   ]
  },
  {
   "cell_type": "code",
   "execution_count": 7,
   "metadata": {},
   "outputs": [],
   "source": [
    "from utils.neo4j_interface import Neo4jIndexManager\n",
    "\n",
    "indexManger = Neo4jIndexManager(client)"
   ]
  },
  {
   "cell_type": "markdown",
   "metadata": {
    "id": "mdvN2pRtzpHB"
   },
   "source": [
    "### List Indexs\n",
    "Before create a new index, let's check indexes already in the ```Neo4j``` database"
   ]
  },
  {
   "cell_type": "code",
   "execution_count": 8,
   "metadata": {
    "id": "8AgTNAl5zo3E"
   },
   "outputs": [
    {
     "name": "stdout",
     "output_type": "stream",
     "text": [
      "['index_343aff4e', 'index_f7700477']\n"
     ]
    }
   ],
   "source": [
    "# get name list of indexes\n",
    "names = indexManger.list_indexes()\n",
    "\n",
    "print(names)"
   ]
  },
  {
   "cell_type": "markdown",
   "metadata": {
    "id": "R94h5sY7oLyh"
   },
   "source": [
    "### Create Index\n",
    "\n",
    "Now we will create a new index.\n",
    "\n",
    "This can be done by calling ```create_index``` method, which will return an object connected to newly created index.\n",
    "\n",
    "If an index exists with the same name, the method will print out notification.\n",
    "\n",
    "When we create a new index, we must provide embedding object or dimension of vector, and ```metric``` to use for similarity search.\n",
    "\n",
    "If index created succesfully or already exists, ```create_index``` method will return Neo4jDocumentManager object that can add, delete, search or scroll items in the index.\n",
    "\n",
    "In this tutorial we will pass `OpenAIEmbeddings` when we create a new index.\n",
    "\n",
    "\n",
    "**[ NOTE ]**\n",
    "- If you pass dimension of vector instead of embedding object, this must match the dimension of embeded vector of your choice of embedding model.\n",
    "- An embedding object must have ```embed_query``` and ```embed_documents``` methods.\n",
    "- ```metric``` is used to set distance method for similarity search. ```Neo4j``` supports **cosine** and **euclidean** ."
   ]
  },
  {
   "cell_type": "code",
   "execution_count": 9,
   "metadata": {
    "id": "tR3bb-F5hCf9"
   },
   "outputs": [
    {
     "name": "stdout",
     "output_type": "stream",
     "text": [
      "Created index information\n",
      "('Index name: tutorial_index', 'Node label: tutorial_node', 'Similarity metric: COSINE', 'Embedding dimension: 1536', 'Embedding node property: embedding', 'Text node property: text')\n",
      "Index creation successful. Return Neo4jDBManager object.\n",
      "\n",
      "Indexes in database: ['index_343aff4e', 'index_f7700477', 'tutorial_index']\n"
     ]
    }
   ],
   "source": [
    "# Initialize OpenAIEmbeddings\n",
    "from langchain_openai import OpenAIEmbeddings\n",
    "\n",
    "embeddings = OpenAIEmbeddings()\n",
    "\n",
    "# set index_name and node_label\n",
    "index_name = \"tutorial_index\"\n",
    "node_label = \"tutorial_node\"\n",
    "\n",
    "# create a new index\n",
    "try:\n",
    "    tutorial_index = indexManger.create_index(\n",
    "        embeddings, index_name=index_name, metric=\"cosine\", node_label=node_label\n",
    "    )\n",
    "except Exception as e:\n",
    "    print(\"Index creation failed due to\")\n",
    "    print(type(e))\n",
    "    print(str(e))\n",
    "\n",
    "# check name list of indexes\n",
    "names = indexManger.list_indexes()\n",
    "print()\n",
    "print(f\"Indexes in database: {names}\")"
   ]
  },
  {
   "cell_type": "markdown",
   "metadata": {
    "id": "AKYPHPk40c4X"
   },
   "source": [
    "### Delete Index"
   ]
  },
  {
   "cell_type": "markdown",
   "metadata": {
    "id": "ua5yewan0TVy"
   },
   "source": [
    "We can delete specific index by calling `delete_index` method.\n",
    "\n",
    "Delete ```tutorial_index``` we created above and then create it again to use later."
   ]
  },
  {
   "cell_type": "code",
   "execution_count": 10,
   "metadata": {},
   "outputs": [
    {
     "name": "stdout",
     "output_type": "stream",
     "text": [
      "Index deleted succesfully \n",
      "Indexes in database: ['index_343aff4e', 'index_f7700477']\n",
      "\n",
      "Created index information\n",
      "('Index name: tutorial_index', 'Node label: tutorial_node', 'Similarity metric: COSINE', 'Embedding dimension: 1536', 'Embedding node property: embedding', 'Text node property: text')\n",
      "Index creation successful. Return Neo4jDBManager object.\n"
     ]
    }
   ],
   "source": [
    "# delete index\n",
    "indexManger.delete_index(\"tutorial_index\")\n",
    "\n",
    "# print name list of indexes\n",
    "names = indexManger.list_indexes()\n",
    "if \"tutorial_index\" not in names:\n",
    "    print(\"Index deleted succesfully \")\n",
    "    print(f\"Indexes in database: {names}\")\n",
    "    print()\n",
    "\n",
    "# recreate the tutorial_index\n",
    "tutorial_index = indexManger.create_index(\n",
    "    embedding=embeddings, index_name=\"tutorial_index\", node_label=\"tutorial_node\"\n",
    ")"
   ]
  },
  {
   "cell_type": "markdown",
   "metadata": {
    "id": "Lwb_OMHunjwh"
   },
   "source": [
    "### Select Embeddings model\n",
    "\n",
    "We also can change embedding model.\n",
    "\n",
    "In this subsection we use ```text-embedding-3-large``` model to create a new index with it"
   ]
  },
  {
   "cell_type": "code",
   "execution_count": 11,
   "metadata": {
    "id": "tRjB4EvXnoZM"
   },
   "outputs": [],
   "source": [
    "import getpass\n",
    "import os\n",
    "\n",
    "if not os.environ.get(\"OPENAI_API_KEY\"):\n",
    "    os.environ[\"OPENAI_API_KEY\"] = getpass.getpass(\"Enter API key for OpenAI: \")\n",
    "\n",
    "from langchain_openai import OpenAIEmbeddings\n",
    "\n",
    "embeddings_large = OpenAIEmbeddings(model=\"text-embedding-3-large\")"
   ]
  },
  {
   "cell_type": "code",
   "execution_count": 12,
   "metadata": {},
   "outputs": [
    {
     "name": "stdout",
     "output_type": "stream",
     "text": [
      "Created index information\n",
      "('Index name: tutorial_index_2', 'Node label: tutorial_node_2', 'Similarity metric: COSINE', 'Embedding dimension: 3072', 'Embedding node property: embedding', 'Text node property: text')\n",
      "Index creation successful. Return Neo4jDBManager object.\n"
     ]
    }
   ],
   "source": [
    "# create new index\n",
    "tutorial_index_2 = indexManger.create_index(\n",
    "    embedding=embeddings_large,\n",
    "    index_name=\"tutorial_index_2\",\n",
    "    metric=\"cosine\",\n",
    "    node_label=\"tutorial_node_2\",\n",
    ")"
   ]
  },
  {
   "cell_type": "markdown",
   "metadata": {
    "id": "FtUJ2xSPrq3P"
   },
   "source": [
    "### Data Preprocessing\n",
    "\n",
    "Below is the preprocessing process for general documents.\n",
    "\n",
    "- Need to extract **metadata** from documents\n",
    "- Filter documents by minimum length.\n",
    "  \n",
    "- Determine whether to use ```basename``` or not. Default is ```False```.\n",
    "  - ```basename``` denotes the last value of the filepath.\n",
    "  - For example, **document.pdf** will be the ```basename``` for the filepath **./data/document.pdf** ."
   ]
  },
  {
   "cell_type": "code",
   "execution_count": 13,
   "metadata": {
    "id": "bmQI6bOsvJbu"
   },
   "outputs": [],
   "source": [
    "# This is a long document we can split up.\n",
    "data_path = \"./data/the_little_prince.txt\"\n",
    "with open(data_path, encoding=\"utf8\") as f:\n",
    "    raw_text = f.read()"
   ]
  },
  {
   "cell_type": "code",
   "execution_count": 14,
   "metadata": {
    "colab": {
     "base_uri": "https://localhost:8080/"
    },
    "id": "VYdoMc4zvPe2",
    "outputId": "83cff661-a0bd-4ac3-d5dd-52c61ebd1627"
   },
   "outputs": [
    {
     "name": "stdout",
     "output_type": "stream",
     "text": [
      "page_content='The Little Prince\n",
      "Written By Antoine de Saiot-Exupery (1900〜1944)'\n"
     ]
    }
   ],
   "source": [
    "from langchain_text_splitters import RecursiveCharacterTextSplitter\n",
    "\n",
    "# define text splitter\n",
    "text_splitter = RecursiveCharacterTextSplitter(\n",
    "    # Set a really small chunk size, just to show.\n",
    "    chunk_size=100,\n",
    "    chunk_overlap=20,\n",
    "    length_function=len,\n",
    "    is_separator_regex=False,\n",
    ")\n",
    "\n",
    "# split raw text by splitter.\n",
    "split_docs = text_splitter.create_documents([raw_text])\n",
    "\n",
    "# print one of documents to check its structure\n",
    "print(split_docs[0])"
   ]
  },
  {
   "cell_type": "markdown",
   "metadata": {},
   "source": [
    "Now we preprocess splited document to extract author, page and source metadata while fit the data to store it into `Neo4j`"
   ]
  },
  {
   "cell_type": "code",
   "execution_count": 15,
   "metadata": {},
   "outputs": [],
   "source": [
    "# define document preprocessor\n",
    "def preprocess_documents(\n",
    "    split_docs, metadata_keys, min_length, use_basename=False, **kwargs\n",
    "):\n",
    "    metadata = kwargs\n",
    "\n",
    "    if use_basename:\n",
    "        assert metadata.get(\"source\", None) is not None, \"source must be provided\"\n",
    "        metadata[\"source\"] = metadata[\"source\"].split(\"/\")[-1]\n",
    "\n",
    "    result_docs = []\n",
    "    for idx, doc in enumerate(split_docs):\n",
    "        if len(doc.page_content) < min_length:\n",
    "            continue\n",
    "        for k in metadata_keys:\n",
    "            doc.metadata.update({k: metadata.get(k, \"\")})\n",
    "        doc.metadata.update({\"page\": idx + 1})\n",
    "        result_docs.append(doc)\n",
    "\n",
    "    return result_docs"
   ]
  },
  {
   "cell_type": "code",
   "execution_count": 16,
   "metadata": {
    "id": "gGJ_bBJcw5af"
   },
   "outputs": [
    {
     "name": "stdout",
     "output_type": "stream",
     "text": [
      "page_content='The Little Prince\n",
      "Written By Antoine de Saiot-Exupery (1900〜1944)' metadata={'source': 'the_little_prince.txt', 'page': 1, 'author': 'Saiot-Exupery'}\n"
     ]
    }
   ],
   "source": [
    "# preprocess raw documents\n",
    "processed_docs = preprocess_documents(\n",
    "    split_docs=split_docs,\n",
    "    metadata_keys=[\"source\", \"page\", \"author\"],\n",
    "    min_length=5,\n",
    "    use_basename=True,\n",
    "    source=data_path,\n",
    "    author=\"Saiot-Exupery\",\n",
    ")\n",
    "\n",
    "# print one of preprocessed document to chekc its structure\n",
    "print(processed_docs[0])"
   ]
  },
  {
   "cell_type": "markdown",
   "metadata": {
    "id": "1B7xc2p3lXPV"
   },
   "source": [
    "## Manage vector store\n",
    "Once you have created your vector store, we can interact with it by adding and deleting different items.\n",
    "\n",
    "Also, you can scroll data from the store with filter or with ```Cypher``` query."
   ]
  },
  {
   "cell_type": "markdown",
   "metadata": {},
   "source": [
    "### Connect to index\n",
    "To add, delete, search items, we need to initialize an object which connected to the index we operate on.\n",
    "\n",
    "We will connect to **tutorial_index** . Recall that we used basic ```OpenAIEmbedding``` as a embedding function, and thus we need to pass it when we initialize ```index_manager``` object.\n",
    "\n",
    "Remember that we also can get ```Neo4jDocumentManager``` object when we create an index, but this time we call it directly to get an ```Neo4jDocumentManager``` object."
   ]
  },
  {
   "cell_type": "code",
   "execution_count": 17,
   "metadata": {},
   "outputs": [],
   "source": [
    "# import Neo4jDocumentManager\n",
    "from utils.neo4j_interface import Neo4jDocumentManager\n",
    "\n",
    "# connect to tutorial_index\n",
    "index_manager = Neo4jDocumentManager(\n",
    "    client=client, index_name=\"tutorial_index\", embedding=embeddings\n",
    ")"
   ]
  },
  {
   "cell_type": "markdown",
   "metadata": {
    "id": "kxxP2ecAohWb"
   },
   "source": [
    "\n",
    "### Add items to vector store\n",
    "\n",
    "We can add items to our vector store by using the ```upsert_documents``` or ```upsert_documents_parallel``` method.\n",
    "\n",
    "If you pass ids along with documents, then ids will be used, but if you do not pass ids, it will be created based `page_content` using md5 hash function.\n",
    "\n",
    "Basically, ```upsert_document``` and ```upsert_document_parallel``` methods do upsert not insert, based on **id** of the item.\n",
    "\n",
    "So if you provided id and want to update data, you must provide the same id that you provided at first upsertion.\n",
    "\n",
    "We will upsert data to index, tutorial_index, with ```upsert_documents``` method for the first half, and with ```upsert_documents_parallel``` for the second half."
   ]
  },
  {
   "cell_type": "code",
   "execution_count": 18,
   "metadata": {
    "id": "7cS0FHgalwPm"
   },
   "outputs": [
    {
     "name": "stdout",
     "output_type": "stream",
     "text": [
      "Number of documents: 1359\n"
     ]
    }
   ],
   "source": [
    "from uuid import uuid4\n",
    "\n",
    "# get texts and metadatas from processed documents\n",
    "texts = [p.page_content for p in processed_docs]\n",
    "metadatas = [p.metadata for p in processed_docs]\n",
    "\n",
    "# make manual ids for each processed documents\n",
    "uuids = [str(uuid4()) for _ in range(len(processed_docs))]\n",
    "\n",
    "# Get total number of documents\n",
    "total_number = len(processed_docs)\n",
    "print(\"Number of documents:\", total_number)"
   ]
  },
  {
   "cell_type": "code",
   "execution_count": 19,
   "metadata": {},
   "outputs": [
    {
     "name": "stdout",
     "output_type": "stream",
     "text": [
      "CPU times: total: 3.88 s\n",
      "Wall time: 7.31 s\n"
     ]
    }
   ],
   "source": [
    "%%time\n",
    "# upsert documents\n",
    "upsert_result = index_manager.upsert(\n",
    "    \n",
    "    texts=texts[:total_number//2], metadatas=metadatas[:total_number//2], ids=uuids[:total_number//2]\n",
    ")"
   ]
  },
  {
   "cell_type": "code",
   "execution_count": 20,
   "metadata": {},
   "outputs": [
    {
     "name": "stdout",
     "output_type": "stream",
     "text": [
      "CPU times: total: 4.47 s\n",
      "Wall time: 6.01 s\n"
     ]
    }
   ],
   "source": [
    "%%time\n",
    "# upsert documents parallel\n",
    "upsert_parallel_result = index_manager.upsert_parallel(\n",
    "    texts = texts[total_number//2 :],\n",
    "    metadatas = metadatas[total_number//2:],\n",
    "    ids = uuids[total_number//2:],\n",
    "    batch_size=32,\n",
    "    max_workers=8\n",
    ")"
   ]
  },
  {
   "cell_type": "code",
   "execution_count": 21,
   "metadata": {},
   "outputs": [
    {
     "name": "stdout",
     "output_type": "stream",
     "text": [
      "1359\n",
      "Manual Ids == Output Ids: True\n"
     ]
    }
   ],
   "source": [
    "result = upsert_result + upsert_parallel_result\n",
    "\n",
    "# check number of ids upserted\n",
    "print(len(result))\n",
    "\n",
    "# check manual ids are the same as output ids\n",
    "print(\"Manual Ids == Output Ids:\", sorted(result) == sorted(uuids))"
   ]
  },
  {
   "cell_type": "markdown",
   "metadata": {},
   "source": [
    "### Scroll items from vector store\n",
    "As we have added some items to our first vector store, named **tutorial_index** , we can scroll items from the vector store.\n",
    "\n",
    "This can be done by calling ```scroll``` method.\n",
    "\n",
    "When we scroll items from the vector store we can pass ```ids``` or ```filters``` to get items that we want, or just call ```scroll``` to get ```k```(*default 10*) items.\n",
    "\n",
    "We can get embedded vector values of each items by set ```include_embedding``` True.\n",
    "\n",
    "Also, by set ```meta_keys``` we can get metadatas that we wants. If not set, all metadats, except embedding, will return."
   ]
  },
  {
   "cell_type": "code",
   "execution_count": 22,
   "metadata": {},
   "outputs": [
    {
     "name": "stdout",
     "output_type": "stream",
     "text": [
      "Number of items scrolled: 10\n",
      "{'id': '92eaae3a-ff0b-4a87-a823-1c512edbaf77', 'author': 'Saiot-Exupery', 'text': 'The Little Prince\\nWritten By Antoine de Saiot-Exupery (1900〜1944)', 'source': 'the_little_prince.txt', 'page': 1}\n"
     ]
    }
   ],
   "source": [
    "# Do scroll without ids or filters\n",
    "result1 = tutorial_index.scroll()\n",
    "\n",
    "# print the number of items scrolled and first item that returned.\n",
    "print(f\"Number of items scrolled: {len(result1)}\")\n",
    "print(result1[0])"
   ]
  },
  {
   "cell_type": "code",
   "execution_count": 23,
   "metadata": {},
   "outputs": [
    {
     "name": "stdout",
     "output_type": "stream",
     "text": [
      "Number of items scrolled: 3\n",
      "{'id': '92eaae3a-ff0b-4a87-a823-1c512edbaf77', 'author': 'Saiot-Exupery', 'text': 'The Little Prince\\nWritten By Antoine de Saiot-Exupery (1900〜1944)', 'source': 'the_little_prince.txt', 'page': 1}\n",
      "{'id': '7bea13ca-a5f8-4e03-888e-24018d7e72b5', 'author': 'Saiot-Exupery', 'text': '[ Antoine de Saiot-Exupery ]', 'source': 'the_little_prince.txt', 'page': 2}\n",
      "{'id': '40a3d3b0-2052-42b6-b870-089d9519ef96', 'author': 'Saiot-Exupery', 'text': 'Over the past century, the thrill of flying has inspired some to perform remarkable feats of', 'source': 'the_little_prince.txt', 'page': 3}\n"
     ]
    }
   ],
   "source": [
    "# Do scroll with filter\n",
    "result2 = tutorial_index.scroll(filters={\"page\": [1, 2, 3]})\n",
    "\n",
    "# print the number of items scrolled and all items that returned.\n",
    "print(f\"Number of items scrolled: {len(result2)}\")\n",
    "for r in result2:\n",
    "    print(r)"
   ]
  },
  {
   "cell_type": "code",
   "execution_count": 24,
   "metadata": {},
   "outputs": [
    {
     "name": "stdout",
     "output_type": "stream",
     "text": [
      "Number of items scrolled: 3\n",
      "{'id': '92eaae3a-ff0b-4a87-a823-1c512edbaf77', 'author': 'Saiot-Exupery', 'text': 'The Little Prince\\nWritten By Antoine de Saiot-Exupery (1900〜1944)', 'source': 'the_little_prince.txt', 'page': 1}\n",
      "{'id': '7bea13ca-a5f8-4e03-888e-24018d7e72b5', 'author': 'Saiot-Exupery', 'text': '[ Antoine de Saiot-Exupery ]', 'source': 'the_little_prince.txt', 'page': 2}\n",
      "{'id': '40a3d3b0-2052-42b6-b870-089d9519ef96', 'author': 'Saiot-Exupery', 'text': 'Over the past century, the thrill of flying has inspired some to perform remarkable feats of', 'source': 'the_little_prince.txt', 'page': 3}\n"
     ]
    }
   ],
   "source": [
    "# Do scroll with ids\n",
    "result3 = tutorial_index.scroll(ids=uuids[:3])\n",
    "\n",
    "# print the number of items scrolled and all items that returned.\n",
    "print(f\"Number of items scrolled: {len(result3)}\")\n",
    "for r in result3:\n",
    "    print(r)"
   ]
  },
  {
   "cell_type": "code",
   "execution_count": 25,
   "metadata": {},
   "outputs": [
    {
     "name": "stdout",
     "output_type": "stream",
     "text": [
      "Number of items scrolled: 3\n",
      "{'page': 1}\n",
      "{'page': 2}\n",
      "{'page': 3}\n"
     ]
    }
   ],
   "source": [
    "# Do scroll with selected meta keys and only 3 items.\n",
    "result4 = tutorial_index.scroll(meta_keys=[\"page\"], k=3)\n",
    "\n",
    "# print the number of items scrolled and all items that returned.\n",
    "print(f\"Number of items scrolled: {len(result4)}\")\n",
    "for r in result4:\n",
    "    print(r)"
   ]
  },
  {
   "cell_type": "markdown",
   "metadata": {
    "id": "AqP_zpiOobdJ"
   },
   "source": [
    "### Delete items from vector store\n",
    "\n",
    "We can delete nodes by filter or ids with `delete_node` method.\n",
    "\n",
    "\n",
    "For example, we will delete **the first page**, that is `page` 1, of the little prince, and try to scroll it."
   ]
  },
  {
   "cell_type": "code",
   "execution_count": 26,
   "metadata": {
    "id": "OWmeKCqLo3ht"
   },
   "outputs": [
    {
     "name": "stdout",
     "output_type": "stream",
     "text": [
      "True\n"
     ]
    }
   ],
   "source": [
    "# define filter\n",
    "filters = {\"page\": 1, \"author\": \"Saiot-Exupery\"}\n",
    "\n",
    "# call delete_node method\n",
    "result = tutorial_index.delete(filters=filters)\n",
    "print(result)"
   ]
  },
  {
   "cell_type": "code",
   "execution_count": 27,
   "metadata": {},
   "outputs": [
    {
     "name": "stdout",
     "output_type": "stream",
     "text": [
      "0\n"
     ]
    }
   ],
   "source": [
    "# Check if item is deleted\n",
    "result = tutorial_index.scroll(filters={\"page\": 1, \"author\": \"Saiot-Exupery\"})\n",
    "\n",
    "print(len(result))"
   ]
  },
  {
   "cell_type": "markdown",
   "metadata": {},
   "source": [
    "Now delete 5 items using ```ids```."
   ]
  },
  {
   "cell_type": "code",
   "execution_count": 28,
   "metadata": {},
   "outputs": [
    {
     "name": "stdout",
     "output_type": "stream",
     "text": [
      "True\n"
     ]
    }
   ],
   "source": [
    "# delete item by ids\n",
    "ids = uuids[1:6]\n",
    "\n",
    "# call delete_node method\n",
    "result = tutorial_index.delete(ids=ids)\n",
    "print(result)"
   ]
  },
  {
   "cell_type": "code",
   "execution_count": 29,
   "metadata": {},
   "outputs": [
    {
     "name": "stdout",
     "output_type": "stream",
     "text": [
      "0\n"
     ]
    }
   ],
   "source": [
    "# Check if items are deleted\n",
    "result = tutorial_index.scroll(ids=uuids[1:6])\n",
    "\n",
    "print(len(result))"
   ]
  },
  {
   "cell_type": "markdown",
   "metadata": {},
   "source": [
    "## Similarity search\n",
    "As ```Neo4j``` supports vector database, you can also do similarity search.\n",
    "\n",
    "The similarity is calculated by the metric you set when you created the index to search on.\n",
    "\n",
    "In this tutorial we will search items on **tutorial_index** , which has metric **cosine** .\n",
    "\n",
    "To do search, we call ```search``` method."
   ]
  },
  {
   "cell_type": "code",
   "execution_count": 30,
   "metadata": {},
   "outputs": [
    {
     "name": "stdout",
     "output_type": "stream",
     "text": [
      "RESULT BY RAW QUERY\n",
      "{'text': '\"My friend the fox--\" the little prince said to me.', 'metadata': {'id': 'adf282b0-3efc-418c-8f9d-a48ae8052ba8', 'author': 'Saiot-Exupery', 'source': 'the_little_prince.txt', 'page': 1087, 'embedding': None}, 'score': 0.947}\n",
      "{'text': 'And the little prince asked himself:', 'metadata': {'id': 'd058a8a1-6440-4dff-837b-75976b71dc76', 'author': 'Saiot-Exupery', 'source': 'the_little_prince.txt', 'page': 492, 'embedding': None}, 'score': 0.946}\n"
     ]
    }
   ],
   "source": [
    "# do search. top_k is the number of documents in the result\n",
    "res_with_text = tutorial_index.search(\n",
    "    query=\"Does the little prince have a friend?\", top_k=5\n",
    ")\n",
    "\n",
    "# print out top 2 results\n",
    "print(\"RESULT BY RAW QUERY\")\n",
    "for i in range(2):\n",
    "    print(res_with_text[i])"
   ]
  },
  {
   "cell_type": "markdown",
   "metadata": {},
   "source": [
    "That's it!\n",
    "\n",
    "You can now do the basics of how to use Neo4j.\n",
    "\n",
    "If you want to do more advanced tasks, please refer to `Neo4j` official API documents and official Python SDK of `Neo4j` API documents."
   ]
  }
 ],
 "metadata": {
  "colab": {
   "provenance": [],
   "toc_visible": true
  },
  "kernelspec": {
   "display_name": "cp311",
   "language": "python",
   "name": "cp311"
  },
  "language_info": {
   "codemirror_mode": {
    "name": "ipython",
    "version": 3
   },
   "file_extension": ".py",
   "mimetype": "text/x-python",
   "name": "python",
   "nbconvert_exporter": "python",
   "pygments_lexer": "ipython3",
   "version": "3.11.11"
  }
 },
 "nbformat": 4,
 "nbformat_minor": 4
}
