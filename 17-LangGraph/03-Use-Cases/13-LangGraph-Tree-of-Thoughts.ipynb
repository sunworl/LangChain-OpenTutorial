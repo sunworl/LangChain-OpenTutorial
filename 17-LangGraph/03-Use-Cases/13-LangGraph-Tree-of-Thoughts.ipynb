{
 "cells": [
  {
   "cell_type": "markdown",
   "id": "635d8ebb",
   "metadata": {},
   "source": [
    "# Tree of Thoughts (ToT)\n",
    "\n",
    "- Author: [Sunworl Kim](https://github.com/sunworl)\n",
    "- Design:\n",
    "- Peer Review:\n",
    "- This is a part of [LangChain Open Tutorial](https://github.com/LangChain-OpenTutorial/LangChain-OpenTutorial)\n",
    "\n",
    "[![Open in Colab](https://colab.research.google.com/assets/colab-badge.svg)](https://colab.research.google.com/github/LangChain-OpenTutorial/LangChain-OpenTutorial/blob/main/99-TEMPLATE/00-BASE-TEMPLATE-EXAMPLE.ipynb) [![Open in GitHub](https://img.shields.io/badge/Open%20in%20GitHub-181717?style=flat-square&logo=github&logoColor=white)](https://github.com/LangChain-OpenTutorial/LangChain-OpenTutorial/blob/main/99-TEMPLATE/00-BASE-TEMPLATE-EXAMPLE.ipynb)\n",
    "\n",
    "## Overview\n",
    "\n",
    "Tree of Thoughts (ToT) is a systematic problem-solving framework that enhances language models' reasoning capabilities by exploring and maintaining multiple paths of thought simultaneously. \n",
    "\n",
    "The core concept of ToT breaks down problem-solving processes into multiple stages, where various \"thoughts\" are generated and evaluated at each stage, similar to how a chess player thinks several moves ahead. \n",
    "\n",
    "Each thought represents an independent solution path that the system explores and evaluates in parallel.\n",
    "\n",
    "\n",
    "In this tutorial, we run a \"Make 15\" game that combines four numbers to reach 15 using an LLM agent search algorithm with Tree of Thoughts (ToT).\n",
    "\n",
    "**Main steps**\n",
    "\n",
    "1. Expand: Creative generation phase using LLM to explore all possible equation combinations\n",
    "\n",
    "2. Score: Validation phase that evaluates how accurately generated equations reach the target value of 15\n",
    "\n",
    "3. Prune: Optimization phase that selects only the best candidates to determine the starting point for the next exploration\n",
    "\n",
    "**Key Components** \n",
    "\n",
    "- Reverse-Polish Notation(RPN) Calculator for equation evaluation\n",
    "- LangChain-based solver \n",
    "- State-based graph management\n",
    "\n",
    "**[Note]** This code is substantially derived from the [LangGraph Tree of Thoughts (ToT) tutorial](https://github.com/langchain-ai/langgraph/blob/f239b39060096ab2c8bff0d6303781efee174a5c/docs/docs/tutorials/tot/tot.ipynb).\n",
    "\n",
    "\n",
    "### Table of Contents\n",
    "\n",
    "- [Overview](#overview)\n",
    "- [Environment Setup](#environment-setup)\n",
    "- [Mathematical Equation Exploration and Evaluation Framework](#mathematical-equation-exploration-and-evaluation-framework)\n",
    "- [LLM Configuration for Game Solution Generation](#llm-configuration-for-game-solution-generation)\n",
    "- [Game Solution Explorer](#game-solution-explorer)\n",
    "- [Create Graph](#create-graph)\n",
    "- [Run Graph](#run-graph)\n",
    "\n",
    "\n",
    "### References\n",
    "\n",
    "- [Tree of Thoughts: Deliberate Problem Solving with Large Language Models](https://doi.org/10.48550/arXiv.2305.10601)\n",
    "\n",
    "----"
   ]
  },
  {
   "cell_type": "markdown",
   "id": "c6c7aba4",
   "metadata": {},
   "source": [
    "## Environment Setup\n",
    "\n",
    "Setting up your environment is the first step. See the [Environment Setup](https://wikidocs.net/257836) guide for more details.\n",
    "\n",
    "**[Note]**\n",
    "- The langchain-opentutorial is a package of easy-to-use environment setup guidance, useful functions and utilities for tutorials. \n",
    "- Check out the  [`langchain-opentutorial`](https://github.com/LangChain-OpenTutorial/langchain-opentutorial-pypi) for more details."
   ]
  },
  {
   "cell_type": "code",
   "execution_count": 49,
   "id": "21943adb",
   "metadata": {},
   "outputs": [],
   "source": [
    "%%capture --no-stderr\n",
    "%pip install -U langchain-opentutorial"
   ]
  },
  {
   "cell_type": "code",
   "execution_count": 50,
   "id": "f25ec196",
   "metadata": {},
   "outputs": [],
   "source": [
    "# Install required packages\n",
    "from langchain_opentutorial import package\n",
    "\n",
    "package.install(\n",
    "    [\n",
    "        \"langsmith\",\n",
    "        \"langchain\",\n",
    "        \"langchain_openai\",\n",
    "        \"langchain_core\",\n",
    "        \"langgraph\"\n",
    "    ],\n",
    "    verbose=False,\n",
    "    upgrade=False,\n",
    ")"
   ]
  },
  {
   "cell_type": "markdown",
   "id": "9158d8d7",
   "metadata": {},
   "source": [
    "You can set API keys in a `.env` file or set them manually.\n",
    "\n",
    "[Note] If you’re not using the `.env` file, no worries! Just enter the keys directly in the cell below, and you’re good to go."
   ]
  },
  {
   "cell_type": "code",
   "execution_count": null,
   "id": "7f9065ea",
   "metadata": {},
   "outputs": [
    {
     "name": "stdout",
     "output_type": "stream",
     "text": [
      "Environment variables have been set successfully.\n"
     ]
    }
   ],
   "source": [
    "from dotenv import load_dotenv\n",
    "from langchain_opentutorial import set_env\n",
    "\n",
    "# Attempt to load environment variables from a .env file; if unsuccessful, set them manually.\n",
    "if not load_dotenv():\n",
    "    set_env(\n",
    "        {\n",
    "            \"OPENAI_API_KEY\": \"\",\n",
    "            \"LANGCHAIN_API_KEY\": \"\",\n",
    "            \"LANGCHAIN_TRACING_V2\": \"true\",\n",
    "            \"LANGCHAIN_ENDPOINT\": \"https://api.smith.langchain.com\",\n",
    "            \"LANGCHAIN_PROJECT\": \"Tree of Thoughts (ToT)\",\n",
    "        }\n",
    "    )"
   ]
  },
  {
   "cell_type": "markdown",
   "id": "9d85dc63",
   "metadata": {},
   "source": [
    "## Mathematical Equation Exploration and Evaluation Framework "
   ]
  },
  {
   "cell_type": "markdown",
   "id": "2dd14efe",
   "metadata": {},
   "source": [
    "\n",
    "Define a class that uilizes `Pydantic` to calculate RPN formulas.\n",
    "\n",
    "`Pydantic` is a library that simplifies data validation."
   ]
  },
  {
   "cell_type": "code",
   "execution_count": 52,
   "id": "829aed2f",
   "metadata": {},
   "outputs": [],
   "source": [
    "import operator\n",
    "from typing import List, Union, Literal, NamedTuple, Optional\n",
    "from pydantic import BaseModel, Field, field_validator\n",
    "\n",
    "# Define the available operators and token type\n",
    "OperatorType = Literal[\"+\", \"-\", \"*\", \"/\"]  \n",
    "TokenType = Union[float, OperatorType]\n",
    "\n",
    "\n",
    "class Equation(BaseModel):\n",
    "    tokens: List[TokenType] = Field(\n",
    "        description=\"The stack of tokens and operators in reverse-polish notation(RPN). Example: [2, 3, '+', 5, '*'] would evaluate to (2 + 3) * 5\"\n",
    "    )\n",
    "\n",
    "    @field_validator('tokens')\n",
    "    def clean_tokens(cls, v):    \n",
    "        return [float(t) if isinstance(t, (int, float)) else t.strip() for t in v]\n",
    "\n",
    "    # Validate operators \n",
    "    def validate_tokens(cls, v): \n",
    "        cleaned_tokens = []\n",
    "        for token in v:\n",
    "            if isinstance(token, str):\n",
    "                token = token.strip()\n",
    "                if token not in {'+', '-', '*', '/'}:\n",
    "                    raise ValueError(f\"Invalid operator: {token}\")\n",
    "            cleaned_tokens.append(token)\n",
    "        return cleaned_tokens\n",
    "    \n",
    "    def compute(self) -> float:\n",
    "        \"\"\"Calculate RPN formula\"\"\"        \n",
    "        op_funcs = {\n",
    "            \"+\": operator.add,\n",
    "            \"-\": operator.sub,\n",
    "            \"*\": operator.mul,\n",
    "            \"/\": operator.truediv,\n",
    "        }\n",
    "        stack = []\n",
    "        for token in self.tokens:\n",
    "            if isinstance(token, float):\n",
    "                stack.append(token)\n",
    "            else:\n",
    "                b, a = stack.pop(), stack.pop()\n",
    "                stack.append(op_funcs[token](a, b))\n",
    "\n",
    "        return stack[0]"
   ]
  },
  {
   "cell_type": "markdown",
   "id": "96d82b1b",
   "metadata": {},
   "source": [
    "Define a class to organize and store the process of solving mathematical problems, including the generated equations."
   ]
  },
  {
   "cell_type": "code",
   "execution_count": 53,
   "id": "874e4c0e",
   "metadata": {},
   "outputs": [],
   "source": [
    "class GuessEquations(BaseModel):\n",
    "  \n",
    "    reasoning: str = Field(\n",
    "        description=\"Detailed explanation of how the formula was created and the process\"\n",
    "    )\n",
    "    equations: List[Equation] = Field(  \n",
    "        description=\"List of generated equations\"\n",
    "    )"
   ]
  },
  {
   "cell_type": "markdown",
   "id": "5fd59592",
   "metadata": {},
   "source": [
    "This signifies a candidate equation that requires evaluation."
   ]
  },
  {
   "cell_type": "code",
   "execution_count": 54,
   "id": "1dceac85",
   "metadata": {},
   "outputs": [],
   "source": [
    "class Candidate(NamedTuple):\n",
    "    candidate: Equation              # Equation to be evaluate\n",
    "    score: Optional[float] = None    # Evaluation score of equation\n",
    "    feedback: Optional[str] = None   # Evaluation opinion\n",
    "\n",
    "    # Representation of Output\n",
    "    def __str__(self):\n",
    "        try:\n",
    "            computed = self.candidate.compute()\n",
    "            return f\"Equation({self.candidate.tokens}) = {computed:.2f} (Score: {self.score:.2f if self.score is not None else 'N/A'})\" \n",
    "        except Exception as e:\n",
    "            return f\"Invalid equation: {self.candidate.tokens}; Error: {str(e)}\"\n",
    "\n",
    "class ScoredCandidate(Candidate):\n",
    "    candidate: Equation\n",
    "    score: float\n",
    "    feedback: str        "
   ]
  },
  {
   "cell_type": "markdown",
   "id": "41180f7b",
   "metadata": {},
   "source": [
    "This Defines the fucdamental structures that are responsible for managing and configuring the state of ToT."
   ]
  },
  {
   "cell_type": "code",
   "execution_count": 55,
   "id": "eea38fff",
   "metadata": {},
   "outputs": [],
   "source": [
    "from typing_extensions import Annotated, TypedDict\n",
    "from langchain_core.runnables import RunnableConfig\n",
    "\n",
    "def update_candidates(\n",
    "    existing: Optional[list] = None,\n",
    "    updates: Optional[Union[list, Literal[\"clear\"]]] = None,\n",
    ") -> List[str]:\n",
    "    if existing is None:\n",
    "        existing = []\n",
    "    if updates is None:\n",
    "        return existing\n",
    "    if updates == \"clear\":\n",
    "        return []\n",
    "    # Concatenate the lists\n",
    "    return existing + updates\n",
    "\n",
    "\n",
    "class ToTState(TypedDict):\n",
    "    \n",
    "    problem: str\n",
    "    candidates: Annotated[List[Candidate], update_candidates]\n",
    "    scored_candidates: Annotated[List[ScoredCandidate], update_candidates]\n",
    "    depth: Annotated[int, operator.add]\n",
    "\n",
    "class Configuration(TypedDict, total=False):\n",
    "    max_depth: int\n",
    "    threshold: float\n",
    "    k: int\n",
    "    beam_size: int\n",
    "\n",
    "def _ensure_configurable(config: RunnableConfig) -> Configuration:\n",
    "    configurable = config.get(\"configurable\", {})\n",
    "    return {\n",
    "        **configurable,\n",
    "        \"max_depth\": configurable.get(\"max_depth\", 10),\n",
    "        \"threshold\": config.get(\"threshold\", 1.0),      # success threshold\n",
    "        \"k\": configurable.get(\"k\", 5),                  # Number of candidates to generate\n",
    "        \"beam_size\": configurable.get(\"beam_size\", 3),  # Number of candidates to keep\n",
    "    }\n",
    "\n",
    "class ExpansionState(ToTState):\n",
    "    seed: Optional[Candidate]"
   ]
  },
  {
   "cell_type": "markdown",
   "id": "dafa6a6a",
   "metadata": {},
   "source": [
    "## LLM Configuration for Game Solution Generation\n",
    "\n",
    "Construct a solution generation pipeline to automate the \"Make 15\" game using LangChain and OpenAI.\n",
    "\n",
    "- ChatPromptTemplate : Generate system prompts that define the rules and objectives of the game."
   ]
  },
  {
   "cell_type": "code",
   "execution_count": null,
   "id": "1a585101",
   "metadata": {},
   "outputs": [],
   "source": [
    "from langchain_core.prompts import ChatPromptTemplate\n",
    "from langchain_openai import ChatOpenAI\n",
    "\n",
    "# Define the Prompt Template\n",
    "prompt = ChatPromptTemplate.from_messages(\n",
    "    [\n",
    "        ( # System prompt: Define the rules of the \"Make 15\" game\n",
    "            \"system\",\n",
    "            \"\"\"You are playing Make 15. Create equations that evaluate to exactly 15 using the provided numbers.\n",
    "            Rules:\n",
    "            1. Use each number exactly once\n",
    "            2. You can use +, -, *, / operators\n",
    "            3. The result must be exactly 15\n",
    "            4. Submit {k} different valid guesses        \n",
    "            Evaluate your guesses carefully before submitting.\"\"\"\n",
    "        ),\n",
    "\n",
    "        ( # User prompt: Includes the number to use and a history of previous attempts\n",
    "            \"user\", \n",
    "            \"Numbers to use: {problem}\\nPrevious attempt (if any): {candidate}\"\n",
    "        ),\n",
    "    ],\n",
    ").partial(candidate=\"\")\n",
    "llm = ChatOpenAI(model=\"gpt-4o-mini\")\n",
    "\n",
    "bound_llm = llm.with_structured_output(GuessEquations)   # Output setting\n",
    "solver = prompt | bound_llm   # Create pipeline"
   ]
  },
  {
   "cell_type": "markdown",
   "id": "e41d6171",
   "metadata": {},
   "source": [
    "## Game Solution Explorer\n",
    "\n",
    "Implement a sophisticated search algorithm to solve the \"Make 15\" game."
   ]
  },
  {
   "cell_type": "markdown",
   "id": "32a77d9b",
   "metadata": {},
   "source": [
    "A function that calculates the score of a candidate equation, evaluating how far it has reached the target value of 15."
   ]
  },
  {
   "cell_type": "code",
   "execution_count": 57,
   "id": "a6352964",
   "metadata": {},
   "outputs": [],
   "source": [
    "from langchain_core.runnables import RunnableConfig\n",
    "from langgraph.constants import Send\n",
    "from typing import Dict, Any\n",
    "\n",
    "\n",
    "def compute_score(problem: str, candidate: Candidate) -> ScoredCandidate:\n",
    "    numbers = list(map(float, problem.split()))\n",
    "    used_numbers = [\n",
    "        token for token in candidate.candidate.tokens if isinstance(token, (int, float))\n",
    "    ]\n",
    "    # Check if every number is used exactly once\n",
    "    if sorted(used_numbers) != sorted(numbers):\n",
    "        return ScoredCandidate(\n",
    "            candidate=candidate.candidate,\n",
    "            score=0,\n",
    "            feedback=\"The equation must use all 4 numbers exactly once.\"\n",
    "        )\n",
    "    # Score between 0 and 1 based on difference from 15    \n",
    "    try:\n",
    "        result = candidate.candidate.compute()\n",
    "        score = max(0.0, 1.0 - abs(result - 15) / 15)\n",
    "        feedback = f\"Result: {result}\"\n",
    "    except Exception as e:\n",
    "        return ScoredCandidate(\n",
    "            candidate=candidate.candidate,\n",
    "            score=0, \n",
    "            feedback=f\"Invalid equation. Error: {repr(e)}\"\n",
    "        )\n",
    "           \n",
    "    return ScoredCandidate(\n",
    "        candidate=candidate.candidate,\n",
    "        score=score,\n",
    "        feedback=feedback\n",
    "    )"
   ]
  },
  {
   "cell_type": "markdown",
   "id": "f15764e6",
   "metadata": {},
   "source": [
    "Core Algorithm Functions.\n",
    "\n",
    "Calculate the scores for all generated candidate equations and select the candidate equations with the highest scores."
   ]
  },
  {
   "cell_type": "code",
   "execution_count": null,
   "id": "54c25227",
   "metadata": {},
   "outputs": [],
   "source": [
    "# Create new candidates using LLM\n",
    "def expand(state: ExpansionState, *, config: RunnableConfig) -> Dict[str, List[str]]:\n",
    "   configurable = _ensure_configurable(config)\n",
    "\n",
    "   # Ensure problem is a string\n",
    "   problem = state[\"problem\"]\n",
    "   if isinstance(problem, list):\n",
    "       problem = problem[0]\n",
    "\n",
    "   try:\n",
    "        equation_submission = solver.invoke(\n",
    "            {\n",
    "                \"problem\": problem,\n",
    "                \"candidate\": str(state.get(\"seed\", \"\")),\n",
    "                \"k\": configurable[\"k\"],\n",
    "            },\n",
    "            config=config,\n",
    "        )\n",
    "        return {\n",
    "            \"candidates\": [\n",
    "                Candidate(candidate=eq) \n",
    "                for eq in equation_submission.equations\n",
    "                if all(t in {'+', '-', '*', '/'} or isinstance(t, (int, float)) \n",
    "                    for t in eq.tokens)\n",
    "            ]\n",
    "        }\n",
    "   except Exception as e:\n",
    "        return {\"candidates\": []}\n",
    "\n",
    "\n",
    "# Calculate the score for each candidate equation\n",
    "def score(state: ToTState) -> Dict[str, List[ScoredCandidate]]:\n",
    "    candidates = state.get(\"candidates\", [])\n",
    "    if not isinstance(candidates, list):\n",
    "        return {\"scored_candidates\": [], \"candidates\": \"clear\"}        \n",
    "    scored = [\n",
    "        compute_score(state[\"problem\"], candidate) \n",
    "        for candidate in candidates \n",
    "        if hasattr(candidate, 'candidate')\n",
    "    ]\n",
    "    return {\"scored_candidates\": scored, \"candidates\": \"clear\"}\n",
    "\n",
    "\n",
    "# Choose the candidates with the best results\n",
    "# Keep only top candidates as big as beam_size\n",
    "def prune(state: ToTState, *, config: RunnableConfig) -> Dict[str, List[Dict[str, Any]]]:\n",
    "    scored_candidates = state[\"scored_candidates\"]\n",
    "    beam_size = _ensure_configurable(config)[\"beam_size\"]\n",
    "    organized = sorted(\n",
    "        scored_candidates, \n",
    "        key=lambda x: x.score if isinstance(x, ScoredCandidate) else -float('inf'),\n",
    "        reverse=True\n",
    "    )\n",
    "    pruned = organized[:beam_size]\n",
    "    return {\n",
    "        \"candidates\": pruned, # Update the starting point for the next iteration\n",
    "        \"scored_candidates\": \"clear\", # Clear the old memory\n",
    "        \"depth\": 1, # Increment the depth by 1\n",
    "    }"
   ]
  },
  {
   "cell_type": "markdown",
   "id": "09175133",
   "metadata": {},
   "source": [
    "Check if the correct answer has been found or if maximum depth has been reached to determine the next step."
   ]
  },
  {
   "cell_type": "code",
   "execution_count": 59,
   "id": "4a78248d",
   "metadata": {},
   "outputs": [],
   "source": [
    "def should_terminate(state: ToTState, config: RunnableConfig):\n",
    "    configurable = _ensure_configurable(config)\n",
    "    if not state[\"candidates\"]:\n",
    "        return \"__end__\"\n",
    "    \n",
    "    best_candidate = state[\"candidates\"][0]\n",
    "    solved = isinstance(best_candidate, ScoredCandidate) and abs(best_candidate.score - 1.0) < 1e-6\n",
    "    \n",
    "    if solved or state[\"depth\"] >= configurable[\"max_depth\"]:\n",
    "        return \"__end__\"\n",
    "    \n",
    "    return [Send(\"expand\", {**state, \"seed\": candidate}) for candidate in state[\"candidates\"]]"
   ]
  },
  {
   "cell_type": "markdown",
   "id": "d911c5ed",
   "metadata": {},
   "source": [
    "## Create Graph"
   ]
  },
  {
   "cell_type": "markdown",
   "id": "43fc66dd",
   "metadata": {},
   "source": [
    "Construct a solution exploration graph for the \"Make 15\" game using LangGraph."
   ]
  },
  {
   "cell_type": "code",
   "execution_count": 60,
   "id": "88acf1d8",
   "metadata": {},
   "outputs": [],
   "source": [
    "from langgraph.graph import StateGraph\n",
    "from langgraph.checkpoint.memory import MemorySaver\n",
    "\n",
    "# Create the graph\n",
    "def create_graph(config: Configuration = None) -> StateGraph:\n",
    "    if config is None:\n",
    "        config = {\n",
    "            \"max_depth\": 10,\n",
    "            \"threshold\": 1.0,\n",
    "            \"k\": 5,\n",
    "            \"beam_size\": 3\n",
    "        }\n",
    "\n",
    "    builder = StateGraph(state_schema=ToTState, config_schema=Configuration)\n",
    "\n",
    "    # Add nodes : expand, score, prune\n",
    "    builder.add_node(expand)\n",
    "    builder.add_node(score)\n",
    "    builder.add_node(prune)\n",
    "\n",
    "    # Add edges : Define the execution order between nodes\n",
    "    builder.add_edge(\"expand\", \"score\")\n",
    "    builder.add_edge(\"score\", \"prune\")\n",
    "    builder.add_conditional_edges(\"prune\", should_terminate, path_map=[\"expand\", \"__end__\"])\n",
    "\n",
    "    # Set entry point\n",
    "    builder.add_edge(\"__start__\", \"expand\")\n",
    "\n",
    "    return builder.compile(checkpointer=MemorySaver())"
   ]
  },
  {
   "cell_type": "markdown",
   "id": "e7b53696",
   "metadata": {},
   "source": [
    "Visualize the compiled graph structure."
   ]
  },
  {
   "cell_type": "code",
   "execution_count": 61,
   "id": "a974ebbe",
   "metadata": {},
   "outputs": [
    {
     "data": {
      "image/png": "[encoded data removed]",
      "text/plain": [
       "<IPython.core.display.Image object>"
      ]
     },
     "metadata": {},
     "output_type": "display_data"
    }
   ],
   "source": [
    "from langchain_opentutorial.graphs import visualize_graph\n",
    "\n",
    "visualize_graph(create_graph())"
   ]
  },
  {
   "cell_type": "markdown",
   "id": "9116269c",
   "metadata": {},
   "source": [
    "## Run Graph"
   ]
  },
  {
   "cell_type": "markdown",
   "id": "0922dbdf",
   "metadata": {},
   "source": [
    "Generate the number puzzles that fit a range using the Number Combination Puzzle Generator."
   ]
  },
  {
   "cell_type": "code",
   "execution_count": 62,
   "id": "a253424f",
   "metadata": {},
   "outputs": [
    {
     "name": "stdout",
     "output_type": "stream",
     "text": [
      "Example puzzles: ['3 4 6 9', '1 4 7 8', '1 2 5 8']\n"
     ]
    }
   ],
   "source": [
    "import itertools\n",
    "import random\n",
    "\n",
    "def generate_make_puzzles(count=10, seed=None):\n",
    "    if seed is not None:\n",
    "        random.seed(seed)\n",
    "    \n",
    "    numbers = list(range(1, 10))\n",
    "    all_combinations = list(itertools.combinations(numbers, 4))\n",
    "    selected_combinations = random.sample(all_combinations, min(count, len(all_combinations)))\n",
    "    \n",
    "    return [\" \".join(map(str, combo)) for combo in selected_combinations]\n",
    "\n",
    "# Example of generated number puzzles\n",
    "puzzles = generate_make_puzzles()\n",
    "print(f\"Example puzzles: {puzzles[:3]}\")"
   ]
  },
  {
   "cell_type": "markdown",
   "id": "c45ed7be",
   "metadata": {},
   "source": [
    "Find the equation to reach the number 15 by combining the numbers in the given puzzle."
   ]
  },
  {
   "cell_type": "code",
   "execution_count": 63,
   "id": "6669d210",
   "metadata": {},
   "outputs": [
    {
     "name": "stdout",
     "output_type": "stream",
     "text": [
      "New puzzle: 2 5 6 7\n",
      "Step: {'expand': {'candidates': [Candidate(candidate=Equation(tokens=[6.0, 5.0, 2.0, 7.0, '*', '-', '+']), score=None, feedback=None), Candidate(candidate=Equation(tokens=[7.0, 2.0, 5.0, '*', 6.0, '-']), score=None, feedback=None), Candidate(candidate=Equation(tokens=[2.0, 7.0, '*', 5.0, '-', 6.0]), score=None, feedback=None), Candidate(candidate=Equation(tokens=[5.0, 6.0, 7.0, '-', 2.0, '*']), score=None, feedback=None), Candidate(candidate=Equation(tokens=[6.0, 7.0, '+', 2.0, '*', '-']), score=None, feedback=None)]}}\n",
      "Step: {'score': {'scored_candidates': [ScoredCandidate(candidate=Equation(tokens=[6.0, 5.0, 2.0, 7.0, '*', '-', '+']), score=0.0, feedback='Result: -3.0'), ScoredCandidate(candidate=Equation(tokens=[7.0, 2.0, 5.0, '*', 6.0, '-']), score=0.4666666666666667, feedback='Result: 7.0'), ScoredCandidate(candidate=Equation(tokens=[2.0, 7.0, '*', 5.0, '-', 6.0]), score=0.6, feedback='Result: 9.0'), ScoredCandidate(candidate=Equation(tokens=[5.0, 6.0, 7.0, '-', 2.0, '*']), score=0.33333333333333337, feedback='Result: 5.0'), ScoredCandidate(candidate=Equation(tokens=[6.0, 7.0, '+', 2.0, '*', '-']), score=0, feedback='The equation must use all 4 numbers exactly once.')], 'candidates': 'clear'}}\n",
      "Step: {'prune': {'candidates': [ScoredCandidate(candidate=Equation(tokens=[2.0, 7.0, '*', 5.0, '-', 6.0]), score=0.6, feedback='Result: 9.0'), ScoredCandidate(candidate=Equation(tokens=[7.0, 2.0, 5.0, '*', 6.0, '-']), score=0.4666666666666667, feedback='Result: 7.0'), ScoredCandidate(candidate=Equation(tokens=[5.0, 6.0, 7.0, '-', 2.0, '*']), score=0.33333333333333337, feedback='Result: 5.0')], 'scored_candidates': 'clear', 'depth': 1}}\n",
      "Step: {'expand': {'candidates': [Candidate(candidate=Equation(tokens=[7.0, '-', 5.0, 2.0, '*', '+', '*', 6.0]), score=None, feedback=None), Candidate(candidate=Equation(tokens=[2.0, '*', 5.0, '+', 6.0, '-', 7.0]), score=None, feedback=None), Candidate(candidate=Equation(tokens=[6.0, '+', 5.0, '*', 2.0, '-', 7.0]), score=None, feedback=None), Candidate(candidate=Equation(tokens=[2.0, '+', 7.0, '*', 5.0, '-', 6.0]), score=None, feedback=None), Candidate(candidate=Equation(tokens=[5.0, '+', 6.0, '-', 2.0, '*', 7.0]), score=None, feedback=None)]}}\n",
      "Step: {'expand': {'candidates': [Candidate(candidate=Equation(tokens=[6.0, 2.0, 5.0, 7.0, '*', '+', '-']), score=None, feedback=None), Candidate(candidate=Equation(tokens=[5.0, 6.0, 2.0, '*', 7.0, '-']), score=None, feedback=None), Candidate(candidate=Equation(tokens=[7.0, 5.0, 6.0, 2.0, '*', '-']), score=None, feedback=None), Candidate(candidate=Equation(tokens=[2.0, 6.0, 5.0, 7.0, '*', '+']), score=None, feedback=None), Candidate(candidate=Equation(tokens=[2.0, 5.0, 7.0, 6.0, '*', '-']), score=None, feedback=None)]}}\n",
      "Step: {'expand': {'candidates': [Candidate(candidate=Equation(tokens=[6.0, '*', 2.0, '+', 7.0, '*', '-', '-', 5.0]), score=None, feedback=None), Candidate(candidate=Equation(tokens=[5.0, '*', 6.0, '-', 7.0, '+', 2.0]), score=None, feedback=None), Candidate(candidate=Equation(tokens=[2.0, '*', 7.0, '+', 6.0, '-', 5.0]), score=None, feedback=None), Candidate(candidate=Equation(tokens=[7.0, '*', 2.0, '+', 6.0, '-', 5.0]), score=None, feedback=None), Candidate(candidate=Equation(tokens=[6.0, '+', 5.0, '+', '-', '-', 7.0, '+', 2.0]), score=None, feedback=None)]}}\n",
      "Step: {'score': {'scored_candidates': [ScoredCandidate(candidate=Equation(tokens=[2.0, 7.0, '*', 5.0, '-', 6.0]), score=0.6, feedback='Result: 9.0'), ScoredCandidate(candidate=Equation(tokens=[7.0, 2.0, 5.0, '*', 6.0, '-']), score=0.4666666666666667, feedback='Result: 7.0'), ScoredCandidate(candidate=Equation(tokens=[5.0, 6.0, 7.0, '-', 2.0, '*']), score=0.33333333333333337, feedback='Result: 5.0'), ScoredCandidate(candidate=Equation(tokens=[6.0, '*', 2.0, '+', 7.0, '*', '-', '-', 5.0]), score=0, feedback=\"Invalid equation. Error: IndexError('pop from empty list')\"), ScoredCandidate(candidate=Equation(tokens=[5.0, '*', 6.0, '-', 7.0, '+', 2.0]), score=0, feedback=\"Invalid equation. Error: IndexError('pop from empty list')\"), ScoredCandidate(candidate=Equation(tokens=[2.0, '*', 7.0, '+', 6.0, '-', 5.0]), score=0, feedback=\"Invalid equation. Error: IndexError('pop from empty list')\"), ScoredCandidate(candidate=Equation(tokens=[7.0, '*', 2.0, '+', 6.0, '-', 5.0]), score=0, feedback=\"Invalid equation. Error: IndexError('pop from empty list')\"), ScoredCandidate(candidate=Equation(tokens=[6.0, '+', 5.0, '+', '-', '-', 7.0, '+', 2.0]), score=0, feedback=\"Invalid equation. Error: IndexError('pop from empty list')\"), ScoredCandidate(candidate=Equation(tokens=[6.0, 2.0, 5.0, 7.0, '*', '+', '-']), score=0.0, feedback='Result: -31.0'), ScoredCandidate(candidate=Equation(tokens=[5.0, 6.0, 2.0, '*', 7.0, '-']), score=0.33333333333333337, feedback='Result: 5.0'), ScoredCandidate(candidate=Equation(tokens=[7.0, 5.0, 6.0, 2.0, '*', '-']), score=0.4666666666666667, feedback='Result: 7.0'), ScoredCandidate(candidate=Equation(tokens=[2.0, 6.0, 5.0, 7.0, '*', '+']), score=0.1333333333333333, feedback='Result: 2.0'), ScoredCandidate(candidate=Equation(tokens=[2.0, 5.0, 7.0, 6.0, '*', '-']), score=0.1333333333333333, feedback='Result: 2.0'), ScoredCandidate(candidate=Equation(tokens=[7.0, '-', 5.0, 2.0, '*', '+', '*', 6.0]), score=0, feedback=\"Invalid equation. Error: IndexError('pop from empty list')\"), ScoredCandidate(candidate=Equation(tokens=[2.0, '*', 5.0, '+', 6.0, '-', 7.0]), score=0, feedback=\"Invalid equation. Error: IndexError('pop from empty list')\"), ScoredCandidate(candidate=Equation(tokens=[6.0, '+', 5.0, '*', 2.0, '-', 7.0]), score=0, feedback=\"Invalid equation. Error: IndexError('pop from empty list')\"), ScoredCandidate(candidate=Equation(tokens=[2.0, '+', 7.0, '*', 5.0, '-', 6.0]), score=0, feedback=\"Invalid equation. Error: IndexError('pop from empty list')\"), ScoredCandidate(candidate=Equation(tokens=[5.0, '+', 6.0, '-', 2.0, '*', 7.0]), score=0, feedback=\"Invalid equation. Error: IndexError('pop from empty list')\")], 'candidates': 'clear'}}\n",
      "Step: {'prune': {'candidates': [ScoredCandidate(candidate=Equation(tokens=[2.0, 7.0, '*', 5.0, '-', 6.0]), score=0.6, feedback='Result: 9.0'), ScoredCandidate(candidate=Equation(tokens=[7.0, 2.0, 5.0, '*', 6.0, '-']), score=0.4666666666666667, feedback='Result: 7.0'), ScoredCandidate(candidate=Equation(tokens=[7.0, 5.0, 6.0, 2.0, '*', '-']), score=0.4666666666666667, feedback='Result: 7.0')], 'scored_candidates': 'clear', 'depth': 1}}\n",
      "Step: {'expand': {'candidates': [Candidate(candidate=Equation(tokens=[6.0, '*', 2.0, '+', 5.0, '-', 7.0]), score=None, feedback=None)]}}\n",
      "Step: {'expand': {'candidates': [Candidate(candidate=Equation(tokens=[5.0, 7.0, '*', 2.0, '-', 6.0, '+']), score=None, feedback=None), Candidate(candidate=Equation(tokens=[2.0, 6.0, '*', 5.0, '/', 7.0, '+']), score=None, feedback=None), Candidate(candidate=Equation(tokens=[7.0, 2.0, '*', 6.0, '-', 5.0, '+']), score=None, feedback=None), Candidate(candidate=Equation(tokens=[6.0, 7.0, '+', 5.0, '-', 2.0, '/']), score=None, feedback=None), Candidate(candidate=Equation(tokens=[2.0, 5.0, '*', 7.0, '/', 6.0, '+']), score=None, feedback=None)]}}\n",
      "Step: {'expand': {'candidates': [Candidate(candidate=Equation(tokens=[6.0, '*', 2.0, '+', 7.0, '-', '+', 5.0]), score=None, feedback=None), Candidate(candidate=Equation(tokens=[5.0, '+', 7.0, '*', 2.0, '-', '/', '+', 6.0]), score=None, feedback=None), Candidate(candidate=Equation(tokens=[7.0, '*', 2.0, '+', 5.0, '-', 6.0]), score=None, feedback=None), Candidate(candidate=Equation(tokens=[6.0, '*', 2.0, '+', 5.0, '/', 7.0]), score=None, feedback=None), Candidate(candidate=Equation(tokens=[5.0, '*', 2.0, '+', 6.0, '-', 7.0]), score=None, feedback=None)]}}\n",
      "Step: {'score': {'scored_candidates': [ScoredCandidate(candidate=Equation(tokens=[2.0, 7.0, '*', 5.0, '-', 6.0]), score=0.6, feedback='Result: 9.0'), ScoredCandidate(candidate=Equation(tokens=[7.0, 2.0, 5.0, '*', 6.0, '-']), score=0.4666666666666667, feedback='Result: 7.0'), ScoredCandidate(candidate=Equation(tokens=[7.0, 5.0, 6.0, 2.0, '*', '-']), score=0.4666666666666667, feedback='Result: 7.0'), ScoredCandidate(candidate=Equation(tokens=[5.0, 7.0, '*', 2.0, '-', 6.0, '+']), score=0.0, feedback='Result: 39.0'), ScoredCandidate(candidate=Equation(tokens=[2.0, 6.0, '*', 5.0, '/', 7.0, '+']), score=0.6266666666666667, feedback='Result: 9.4'), ScoredCandidate(candidate=Equation(tokens=[7.0, 2.0, '*', 6.0, '-', 5.0, '+']), score=0.8666666666666667, feedback='Result: 13.0'), ScoredCandidate(candidate=Equation(tokens=[6.0, 7.0, '+', 5.0, '-', 2.0, '/']), score=0.2666666666666667, feedback='Result: 4.0'), ScoredCandidate(candidate=Equation(tokens=[2.0, 5.0, '*', 7.0, '/', 6.0, '+']), score=0.49523809523809526, feedback='Result: 7.428571428571429'), ScoredCandidate(candidate=Equation(tokens=[6.0, '*', 2.0, '+', 5.0, '-', 7.0]), score=0, feedback=\"Invalid equation. Error: IndexError('pop from empty list')\"), ScoredCandidate(candidate=Equation(tokens=[6.0, '*', 2.0, '+', 7.0, '-', '+', 5.0]), score=0, feedback=\"Invalid equation. Error: IndexError('pop from empty list')\"), ScoredCandidate(candidate=Equation(tokens=[5.0, '+', 7.0, '*', 2.0, '-', '/', '+', 6.0]), score=0, feedback=\"Invalid equation. Error: IndexError('pop from empty list')\"), ScoredCandidate(candidate=Equation(tokens=[7.0, '*', 2.0, '+', 5.0, '-', 6.0]), score=0, feedback=\"Invalid equation. Error: IndexError('pop from empty list')\"), ScoredCandidate(candidate=Equation(tokens=[6.0, '*', 2.0, '+', 5.0, '/', 7.0]), score=0, feedback=\"Invalid equation. Error: IndexError('pop from empty list')\"), ScoredCandidate(candidate=Equation(tokens=[5.0, '*', 2.0, '+', 6.0, '-', 7.0]), score=0, feedback=\"Invalid equation. Error: IndexError('pop from empty list')\")], 'candidates': 'clear'}}\n",
      "Step: {'prune': {'candidates': [ScoredCandidate(candidate=Equation(tokens=[7.0, 2.0, '*', 6.0, '-', 5.0, '+']), score=0.8666666666666667, feedback='Result: 13.0'), ScoredCandidate(candidate=Equation(tokens=[2.0, 6.0, '*', 5.0, '/', 7.0, '+']), score=0.6266666666666667, feedback='Result: 9.4'), ScoredCandidate(candidate=Equation(tokens=[2.0, 7.0, '*', 5.0, '-', 6.0]), score=0.6, feedback='Result: 9.0')], 'scored_candidates': 'clear', 'depth': 1}}\n",
      "Step: {'expand': {'candidates': [Candidate(candidate=Equation(tokens=[7.0, '*', 2.0, '-', 6.0, '+', 5.0]), score=None, feedback=None), Candidate(candidate=Equation(tokens=[5.0, '+', 6.0, '+', 7.0, '-', 2.0]), score=None, feedback=None), Candidate(candidate=Equation(tokens=[6.0, '+', 2.0, '*', 5.0, '/', 7.0]), score=None, feedback=None), Candidate(candidate=Equation(tokens=[2.0, '*', 5.0, '+', 7.0, '-', 6.0]), score=None, feedback=None), Candidate(candidate=Equation(tokens=[5.0, '*', 2.0, '+', 6.0, '-', 7.0]), score=None, feedback=None)]}}\n",
      "Step: {'expand': {'candidates': [Candidate(candidate=Equation(tokens=[7.0, 2.0, '*', 6.0, '/', 5.0, '+']), score=None, feedback=None), Candidate(candidate=Equation(tokens=[5.0, 6.0, '*', 2.0, '-', 7.0, '+']), score=None, feedback=None), Candidate(candidate=Equation(tokens=[6.0, 2.0, '*', 7.0, '-', 5.0, '+']), score=None, feedback=None), Candidate(candidate=Equation(tokens=[5.0, 7.0, '*', 2.0, '/', 6.0, '-']), score=None, feedback=None), Candidate(candidate=Equation(tokens=[7.0, 5.0, '-', 2.0, '+', 6.0]), score=None, feedback=None)]}}\n",
      "Step: {'expand': {'candidates': [Candidate(candidate=Equation(tokens=[7.0, 2.0, 5.0, '*', '+', 6.0, '-']), score=None, feedback=None), Candidate(candidate=Equation(tokens=[5.0, 6.0, '*', 2.0, '+', 7.0, '-']), score=None, feedback=None), Candidate(candidate=Equation(tokens=[6.0, 2.0, '*', 5.0, '-', 7.0, '+']), score=None, feedback=None), Candidate(candidate=Equation(tokens=[5.0, 7.0, '*', 2.0, '/', 6.0, '+']), score=None, feedback=None), Candidate(candidate=Equation(tokens=[2.0, 5.0, '*', 6.0, '/', 7.0, '+']), score=None, feedback=None)]}}\n",
      "Step: {'score': {'scored_candidates': [ScoredCandidate(candidate=Equation(tokens=[7.0, 2.0, '*', 6.0, '-', 5.0, '+']), score=0.8666666666666667, feedback='Result: 13.0'), ScoredCandidate(candidate=Equation(tokens=[2.0, 6.0, '*', 5.0, '/', 7.0, '+']), score=0.6266666666666667, feedback='Result: 9.4'), ScoredCandidate(candidate=Equation(tokens=[2.0, 7.0, '*', 5.0, '-', 6.0]), score=0.6, feedback='Result: 9.0'), ScoredCandidate(candidate=Equation(tokens=[7.0, 2.0, '*', 6.0, '/', 5.0, '+']), score=0.48888888888888893, feedback='Result: 7.333333333333334'), ScoredCandidate(candidate=Equation(tokens=[5.0, 6.0, '*', 2.0, '-', 7.0, '+']), score=0.0, feedback='Result: 35.0'), ScoredCandidate(candidate=Equation(tokens=[6.0, 2.0, '*', 7.0, '-', 5.0, '+']), score=0.6666666666666667, feedback='Result: 10.0'), ScoredCandidate(candidate=Equation(tokens=[5.0, 7.0, '*', 2.0, '/', 6.0, '-']), score=0.7666666666666666, feedback='Result: 11.5'), ScoredCandidate(candidate=Equation(tokens=[7.0, 5.0, '-', 2.0, '+', 6.0]), score=0.2666666666666667, feedback='Result: 4.0'), ScoredCandidate(candidate=Equation(tokens=[7.0, 2.0, 5.0, '*', '+', 6.0, '-']), score=0.7333333333333334, feedback='Result: 11.0'), ScoredCandidate(candidate=Equation(tokens=[5.0, 6.0, '*', 2.0, '+', 7.0, '-']), score=0.33333333333333337, feedback='Result: 25.0'), ScoredCandidate(candidate=Equation(tokens=[6.0, 2.0, '*', 5.0, '-', 7.0, '+']), score=0.9333333333333333, feedback='Result: 14.0'), ScoredCandidate(candidate=Equation(tokens=[5.0, 7.0, '*', 2.0, '/', 6.0, '+']), score=0.43333333333333335, feedback='Result: 23.5'), ScoredCandidate(candidate=Equation(tokens=[2.0, 5.0, '*', 6.0, '/', 7.0, '+']), score=0.5777777777777777, feedback='Result: 8.666666666666666'), ScoredCandidate(candidate=Equation(tokens=[7.0, '*', 2.0, '-', 6.0, '+', 5.0]), score=0, feedback=\"Invalid equation. Error: IndexError('pop from empty list')\"), ScoredCandidate(candidate=Equation(tokens=[5.0, '+', 6.0, '+', 7.0, '-', 2.0]), score=0, feedback=\"Invalid equation. Error: IndexError('pop from empty list')\"), ScoredCandidate(candidate=Equation(tokens=[6.0, '+', 2.0, '*', 5.0, '/', 7.0]), score=0, feedback=\"Invalid equation. Error: IndexError('pop from empty list')\"), ScoredCandidate(candidate=Equation(tokens=[2.0, '*', 5.0, '+', 7.0, '-', 6.0]), score=0, feedback=\"Invalid equation. Error: IndexError('pop from empty list')\"), ScoredCandidate(candidate=Equation(tokens=[5.0, '*', 2.0, '+', 6.0, '-', 7.0]), score=0, feedback=\"Invalid equation. Error: IndexError('pop from empty list')\")], 'candidates': 'clear'}}\n",
      "Step: {'prune': {'candidates': [ScoredCandidate(candidate=Equation(tokens=[6.0, 2.0, '*', 5.0, '-', 7.0, '+']), score=0.9333333333333333, feedback='Result: 14.0'), ScoredCandidate(candidate=Equation(tokens=[7.0, 2.0, '*', 6.0, '-', 5.0, '+']), score=0.8666666666666667, feedback='Result: 13.0'), ScoredCandidate(candidate=Equation(tokens=[5.0, 7.0, '*', 2.0, '/', 6.0, '-']), score=0.7666666666666666, feedback='Result: 11.5')], 'scored_candidates': 'clear', 'depth': 1}}\n",
      "Step: {'expand': {'candidates': [Candidate(candidate=Equation(tokens=[7.0, '*', 2.0, '+', 6.0, '-', '*', '-']), score=None, feedback=None), Candidate(candidate=Equation(tokens=[6.0, 5.0, '*', 2.0, '+', 7.0, '/', '-']), score=None, feedback=None), Candidate(candidate=Equation(tokens=[7.0, '*', 2.0, '+', 6.0, '*', '-', '/']), score=None, feedback=None), Candidate(candidate=Equation(tokens=[5.0, 2.0, '*', 7.0, '+', 6.0, '-']), score=None, feedback=None), Candidate(candidate=Equation(tokens=[5.0, '*', 2.0, 2.0, '+', 7.0, '+']), score=None, feedback=None)]}}\n",
      "Step: {'expand': {'candidates': [Candidate(candidate=Equation(tokens=[6.0, '*', 2.0, '+', 5.0, '-', 7.0]), score=None, feedback=None), Candidate(candidate=Equation(tokens=[5.0, '*', 2.0, '+', 6.0, '-', 7.0]), score=None, feedback=None), Candidate(candidate=Equation(tokens=[7.0, '+', 6.0, '+', 2.0, '-', 5.0]), score=None, feedback=None), Candidate(candidate=Equation(tokens=[5.0, '+', 7.0, '+', '*', 2.0, '-', '*', 6.0]), score=None, feedback=None), Candidate(candidate=Equation(tokens=[7.0, '*', 2.0, '+', 5.0, '-', 6.0]), score=None, feedback=None)]}}\n",
      "Step: {'expand': {'candidates': [Candidate(candidate=Equation(tokens=[6.0, 5.0, '*', 7.0, '+', 2.0, '-']), score=None, feedback=None), Candidate(candidate=Equation(tokens=[2.0, 5.0, '*', 6.0, '+', 7.0, '-']), score=None, feedback=None), Candidate(candidate=Equation(tokens=[5.0, 2.0, '*', 6.0, '+', 7.0, '-']), score=None, feedback=None), Candidate(candidate=Equation(tokens=[7.0, 2.0, '*', 5.0, '+', 6.0, '-']), score=None, feedback=None), Candidate(candidate=Equation(tokens=[5.0, 7.0, '-', 6.0, '+', 2.0, '*']), score=None, feedback=None)]}}\n",
      "Step: {'score': {'scored_candidates': [ScoredCandidate(candidate=Equation(tokens=[6.0, 2.0, '*', 5.0, '-', 7.0, '+']), score=0.9333333333333333, feedback='Result: 14.0'), ScoredCandidate(candidate=Equation(tokens=[7.0, 2.0, '*', 6.0, '-', 5.0, '+']), score=0.8666666666666667, feedback='Result: 13.0'), ScoredCandidate(candidate=Equation(tokens=[5.0, 7.0, '*', 2.0, '/', 6.0, '-']), score=0.7666666666666666, feedback='Result: 11.5'), ScoredCandidate(candidate=Equation(tokens=[6.0, 5.0, '*', 7.0, '+', 2.0, '-']), score=0.0, feedback='Result: 35.0'), ScoredCandidate(candidate=Equation(tokens=[2.0, 5.0, '*', 6.0, '+', 7.0, '-']), score=0.6, feedback='Result: 9.0'), ScoredCandidate(candidate=Equation(tokens=[5.0, 2.0, '*', 6.0, '+', 7.0, '-']), score=0.6, feedback='Result: 9.0'), ScoredCandidate(candidate=Equation(tokens=[7.0, 2.0, '*', 5.0, '+', 6.0, '-']), score=0.8666666666666667, feedback='Result: 13.0'), ScoredCandidate(candidate=Equation(tokens=[5.0, 7.0, '-', 6.0, '+', 2.0, '*']), score=0.5333333333333333, feedback='Result: 8.0'), ScoredCandidate(candidate=Equation(tokens=[6.0, '*', 2.0, '+', 5.0, '-', 7.0]), score=0, feedback=\"Invalid equation. Error: IndexError('pop from empty list')\"), ScoredCandidate(candidate=Equation(tokens=[5.0, '*', 2.0, '+', 6.0, '-', 7.0]), score=0, feedback=\"Invalid equation. Error: IndexError('pop from empty list')\"), ScoredCandidate(candidate=Equation(tokens=[7.0, '+', 6.0, '+', 2.0, '-', 5.0]), score=0, feedback=\"Invalid equation. Error: IndexError('pop from empty list')\"), ScoredCandidate(candidate=Equation(tokens=[5.0, '+', 7.0, '+', '*', 2.0, '-', '*', 6.0]), score=0, feedback=\"Invalid equation. Error: IndexError('pop from empty list')\"), ScoredCandidate(candidate=Equation(tokens=[7.0, '*', 2.0, '+', 5.0, '-', 6.0]), score=0, feedback=\"Invalid equation. Error: IndexError('pop from empty list')\"), ScoredCandidate(candidate=Equation(tokens=[7.0, '*', 2.0, '+', 6.0, '-', '*', '-']), score=0, feedback='The equation must use all 4 numbers exactly once.'), ScoredCandidate(candidate=Equation(tokens=[6.0, 5.0, '*', 2.0, '+', 7.0, '/', '-']), score=0, feedback=\"Invalid equation. Error: IndexError('pop from empty list')\"), ScoredCandidate(candidate=Equation(tokens=[7.0, '*', 2.0, '+', 6.0, '*', '-', '/']), score=0, feedback='The equation must use all 4 numbers exactly once.'), ScoredCandidate(candidate=Equation(tokens=[5.0, 2.0, '*', 7.0, '+', 6.0, '-']), score=0.7333333333333334, feedback='Result: 11.0'), ScoredCandidate(candidate=Equation(tokens=[5.0, '*', 2.0, 2.0, '+', 7.0, '+']), score=0, feedback='The equation must use all 4 numbers exactly once.')], 'candidates': 'clear'}}\n",
      "Step: {'prune': {'candidates': [ScoredCandidate(candidate=Equation(tokens=[6.0, 2.0, '*', 5.0, '-', 7.0, '+']), score=0.9333333333333333, feedback='Result: 14.0'), ScoredCandidate(candidate=Equation(tokens=[7.0, 2.0, '*', 6.0, '-', 5.0, '+']), score=0.8666666666666667, feedback='Result: 13.0'), ScoredCandidate(candidate=Equation(tokens=[7.0, 2.0, '*', 5.0, '+', 6.0, '-']), score=0.8666666666666667, feedback='Result: 13.0')], 'scored_candidates': 'clear', 'depth': 1}}\n",
      "Step: {'expand': {'candidates': [Candidate(candidate=Equation(tokens=[7.0, '*', 2.0, '+', 5.0, '-', 6.0]), score=None, feedback=None)]}}\n",
      "Step: {'expand': {'candidates': [Candidate(candidate=Equation(tokens=[5.0, 7.0, '+', 6.0, '*', 2.0, '-']), score=None, feedback=None), Candidate(candidate=Equation(tokens=[7.0, 5.0, '*', 6.0, '+', 2.0, '-']), score=None, feedback=None), Candidate(candidate=Equation(tokens=[2.0, 6.0, '*', 5.0, 7.0, '-']), score=None, feedback=None), Candidate(candidate=Equation(tokens=[6.0, 5.0, '+', 2.0, '*', 7.0, '-']), score=None, feedback=None), Candidate(candidate=Equation(tokens=[2.0, 7.0, '*', 5.0, '-', 6.0, '+']), score=None, feedback=None)]}}\n",
      "Step: {'expand': {'candidates': [Candidate(candidate=Equation(tokens=[7.0, '*', 2.0, '+', 5.0, '-', '-', 6.0]), score=None, feedback=None), Candidate(candidate=Equation(tokens=[6.0, '*', 2.0, '+', 7.0, '-', 5.0]), score=None, feedback=None), Candidate(candidate=Equation(tokens=[5.0, '*', 2.0, '+', 6.0, '+', 7.0]), score=None, feedback=None), Candidate(candidate=Equation(tokens=[6.0, '*', 5.0, '/', 2.0, '-', 7.0]), score=None, feedback=None), Candidate(candidate=Equation(tokens=[5.0, '+', 6.0, '+', 7.0, '-', 2.0]), score=None, feedback=None)]}}\n",
      "Step: {'score': {'scored_candidates': [ScoredCandidate(candidate=Equation(tokens=[6.0, 2.0, '*', 5.0, '-', 7.0, '+']), score=0.9333333333333333, feedback='Result: 14.0'), ScoredCandidate(candidate=Equation(tokens=[7.0, 2.0, '*', 6.0, '-', 5.0, '+']), score=0.8666666666666667, feedback='Result: 13.0'), ScoredCandidate(candidate=Equation(tokens=[7.0, 2.0, '*', 5.0, '+', 6.0, '-']), score=0.8666666666666667, feedback='Result: 13.0'), ScoredCandidate(candidate=Equation(tokens=[5.0, 7.0, '+', 6.0, '*', 2.0, '-']), score=0.0, feedback='Result: 70.0'), ScoredCandidate(candidate=Equation(tokens=[7.0, 5.0, '*', 6.0, '+', 2.0, '-']), score=0.0, feedback='Result: 39.0'), ScoredCandidate(candidate=Equation(tokens=[2.0, 6.0, '*', 5.0, 7.0, '-']), score=0.8, feedback='Result: 12.0'), ScoredCandidate(candidate=Equation(tokens=[6.0, 5.0, '+', 2.0, '*', 7.0, '-']), score=1.0, feedback='Result: 15.0'), ScoredCandidate(candidate=Equation(tokens=[2.0, 7.0, '*', 5.0, '-', 6.0, '+']), score=1.0, feedback='Result: 15.0'), ScoredCandidate(candidate=Equation(tokens=[7.0, '*', 2.0, '+', 5.0, '-', 6.0]), score=0, feedback=\"Invalid equation. Error: IndexError('pop from empty list')\"), ScoredCandidate(candidate=Equation(tokens=[7.0, '*', 2.0, '+', 5.0, '-', '-', 6.0]), score=0, feedback=\"Invalid equation. Error: IndexError('pop from empty list')\"), ScoredCandidate(candidate=Equation(tokens=[6.0, '*', 2.0, '+', 7.0, '-', 5.0]), score=0, feedback=\"Invalid equation. Error: IndexError('pop from empty list')\"), ScoredCandidate(candidate=Equation(tokens=[5.0, '*', 2.0, '+', 6.0, '+', 7.0]), score=0, feedback=\"Invalid equation. Error: IndexError('pop from empty list')\"), ScoredCandidate(candidate=Equation(tokens=[6.0, '*', 5.0, '/', 2.0, '-', 7.0]), score=0, feedback=\"Invalid equation. Error: IndexError('pop from empty list')\"), ScoredCandidate(candidate=Equation(tokens=[5.0, '+', 6.0, '+', 7.0, '-', 2.0]), score=0, feedback=\"Invalid equation. Error: IndexError('pop from empty list')\")], 'candidates': 'clear'}}\n",
      "Step: {'prune': {'candidates': [ScoredCandidate(candidate=Equation(tokens=[6.0, 5.0, '+', 2.0, '*', 7.0, '-']), score=1.0, feedback='Result: 15.0'), ScoredCandidate(candidate=Equation(tokens=[2.0, 7.0, '*', 5.0, '-', 6.0, '+']), score=1.0, feedback='Result: 15.0'), ScoredCandidate(candidate=Equation(tokens=[6.0, 2.0, '*', 5.0, '-', 7.0, '+']), score=0.9333333333333333, feedback='Result: 14.0')], 'scored_candidates': 'clear', 'depth': 1}}\n"
     ]
    }
   ],
   "source": [
    "config = {\n",
    "    \"configurable\": {\n",
    "        \"thread_id\": \"make15_test\",\n",
    "        \"max_depth\": 10,\n",
    "        \"threshold\": 1.0,\n",
    "        \"k\": 5,\n",
    "        \"beam_size\": 3\n",
    "    },\n",
    "    \"recursion_limit\": 50\n",
    "}\n",
    "\n",
    "# Graph initialization\n",
    "graph = create_graph()\n",
    "\n",
    "# Create a puzzle for testing\n",
    "puzzle = generate_make_puzzles(1, seed=42)[0]\n",
    "print(f\"New puzzle: {puzzle}\")\n",
    "\n",
    "# Run in a stream manner and monitor each step\n",
    "for step in graph.stream({\"problem\": puzzle}, config):\n",
    "    print(f\"Step: {step}\")"
   ]
  },
  {
   "cell_type": "markdown",
   "id": "19a6f8cf",
   "metadata": {},
   "source": [
    "Show the final results for the top three scores."
   ]
  },
  {
   "cell_type": "code",
   "execution_count": 64,
   "id": "cbca8d58",
   "metadata": {},
   "outputs": [
    {
     "name": "stdout",
     "output_type": "stream",
     "text": [
      "\n",
      "Final Results:\n",
      "--------------------------------------------------\n",
      "Solution 1: [Equation(tokens=[6.0, 5.0, '+', 2.0, '*', 7.0, '-']), 1.0, 'Result: 15.0']\n",
      "Solution 2: [Equation(tokens=[2.0, 7.0, '*', 5.0, '-', 6.0, '+']), 1.0, 'Result: 15.0']\n",
      "Solution 3: [Equation(tokens=[6.0, 2.0, '*', 5.0, '-', 7.0, '+']), 0.9333333333333333, 'Result: 14.0']\n",
      "--------------------------------------------------\n"
     ]
    }
   ],
   "source": [
    "def print_results(graph: StateGraph, config: dict):\n",
    "    # Get final status\n",
    "    final_state = graph.get_state(config)\n",
    "    # Extract candidate solutions\n",
    "    candidates = final_state.values[\"candidates\"]\n",
    " \n",
    "    print(\"\\nFinal Results:\")\n",
    "    print(\"-\" * 50)\n",
    "    for i, candidate in enumerate(candidates, 1):\n",
    "        print(f\"Solution {i}: {candidate}\")\n",
    "    print(\"-\" * 50)\n",
    "\n",
    "final_state = graph.get_state(config)\n",
    "best_solution = final_state.values[\"candidates\"][0]  # Extract the highest score answer\n",
    "search_depth = final_state.values[\"depth\"]  # Check search depth\n",
    "\n",
    "\n",
    "print_results(graph, config)"
   ]
  }
 ],
 "metadata": {
  "kernelspec": {
   "display_name": "3.11.9",
   "language": "python",
   "name": "python3"
  },
  "language_info": {
   "codemirror_mode": {
    "name": "ipython",
    "version": 3
   },
   "file_extension": ".py",
   "mimetype": "text/x-python",
   "name": "python",
   "nbconvert_exporter": "python",
   "pygments_lexer": "ipython3",
   "version": "3.11.9"
  }
 },
 "nbformat": 4,
 "nbformat_minor": 5
}
