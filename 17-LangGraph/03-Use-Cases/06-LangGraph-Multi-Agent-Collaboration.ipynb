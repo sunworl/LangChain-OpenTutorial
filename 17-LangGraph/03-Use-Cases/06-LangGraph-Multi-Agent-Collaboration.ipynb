{
  "cells": [
    {
      "cell_type": "markdown",
      "id": "635d8ebb",
      "metadata": {},
      "source": [
        "# Multi Agent Collaboration Network \n",
        "\n",
        "- Author: [Youngin Kim](https://github.com/Normalist-K)\n",
        "- Design: \n",
        "- Peer Review: \n",
        "- This is a part of [LangChain Open Tutorial](https://github.com/LangChain-OpenTutorial/LangChain-OpenTutorial)\n",
        "\n",
        "[![Open in Colab](https://colab.research.google.com/assets/colab-badge.svg)](https://colab.research.google.com/github/LangChain-OpenTutorial/LangChain-OpenTutorial/blob/main/99-TEMPLATE/00-BASE-TEMPLATE-EXAMPLE.ipynb) [![Open in GitHub](https://img.shields.io/badge/Open%20in%20GitHub-181717?style=flat-square&logo=github&logoColor=white)](https://github.com/LangChain-OpenTutorial/LangChain-OpenTutorial/blob/main/99-TEMPLATE/00-BASE-TEMPLATE-EXAMPLE.ipynb)\n",
        "\n",
        "## Overview\n",
        "\n",
        "In this tutorial, we'll explore how to implement a **multi-agent network** using LangGraph.  \n",
        "A multi-agent network is an architecture that leverages a \"divide-and-conquer\" approach by breaking down complex tasks into smaller, specialized agents. \n",
        "\n",
        "This helps resolve the inefficiencies of a single agent managing numerous tools, allowing each agent to focus on its area of expertise and solve problems effectively.\n",
        "\n",
        "Inspired by the [AutoGen paper](https://arxiv.org/abs/2308.08155), this tutorial walks you through the process of building such multi-agent networks with LangGraph step-by-step. \n",
        "\n",
        "![network](./assets/17-langgraph-multi-agent-network.png)\n",
        "\n",
        "**Key Topics Covered**\n",
        "\n",
        "- **Defining States** : How to define graph states and manage the state information required for each agent's actions  \n",
        "- **Defining Tools** : How to specify tools that agents can use and add them as nodes  \n",
        "- **Creating Agents** : How to define agents and set them as nodes in a LangGraph network  \n",
        "- **Defining Agent Nodes** : How to define specialized agents as nodes  \n",
        "- **Defining Tool Nodes** : How to define tools as nodes and enable agents to utilize them  \n",
        "- **Defining Edge Logic** : How to set branching logic that directs agents or tools based on the results of an agent’s task  \n",
        "- **Graph Definition** : How to combine agents, tools, states, and edge logic into a cohesive graph  \n",
        "- **Running the Graph** : How to execute the graph and perform real-world tasks with the defined setup  \n",
        "\n",
        "Let's get started!\n",
        "\n",
        "\n",
        "### Table of Contents\n",
        "\n",
        "- [Overview](#overview)\n",
        "- [Environment Setup](#environment-setup)\n",
        "- [Why Do We Use Multi-Agent Networks?](#why-do-we-use-multi-agent-networks)\n",
        "- [Defining States](#defining-states)\n",
        "- [Defining Tools](#defining-tools)\n",
        "- [Creating Agents](#creating-agents)\n",
        "- [Building a Multi-Agent Graph](#building-a-multi-agent-graph)\n",
        "- [Running the Agents](#running-the-agents)\n",
        "\n",
        "### References\n",
        "\n",
        "- [Concept of Multi Agent Network LangGraph](https://langchain-ai.github.io/langgraph/concepts/multi_agent/#network)  \n",
        "- [AutoGen: Enabling Next-Gen LLM Applications via Multi-Agent Conversation (Wu et al.)](https://arxiv.org/abs/2308.08155)  \n",
        "----"
      ]
    },
    {
      "cell_type": "markdown",
      "id": "c6c7aba4",
      "metadata": {},
      "source": [
        "## Environment Setup\n",
        "\n",
        "Setting up your environment is the first step. See the [Environment Setup](https://wikidocs.net/257836) guide for more details.\n",
        "\n",
        "\n",
        "**[Note]**\n",
        "\n",
        "The langchain-opentutorial is a package of easy-to-use environment setup guidance, useful functions and utilities for tutorials.\n",
        "Check out the  [`langchain-opentutorial`](https://github.com/LangChain-OpenTutorial/langchain-opentutorial-pypi) for more details."
      ]
    },
    {
      "cell_type": "code",
      "execution_count": 1,
      "id": "21943adb",
      "metadata": {},
      "outputs": [],
      "source": [
        "%%capture --no-stderr\n",
        "%pip install langchain-opentutorial==0.0.4"
      ]
    },
    {
      "cell_type": "code",
      "execution_count": 2,
      "id": "f25ec196",
      "metadata": {},
      "outputs": [],
      "source": [
        "# Install required packages\n",
        "from langchain_opentutorial import package\n",
        "\n",
        "package.install(\n",
        "    [\n",
        "        \"langsmith\",\n",
        "        \"langchain\",\n",
        "        \"langchain_core\",\n",
        "        \"langchain_community\",\n",
        "        \"langchain_experimental\",\n",
        "        \"langchain_openai\",\n",
        "        \"langgraph\",\n",
        "        \"tavily-python\",  # for web search tool\n",
        "        \"matplotlib\",  # for visualize tool\n",
        "        \"pandas\",  # for visualize tool\n",
        "        \"numpy\",  # for visualize tool\n",
        "    ],\n",
        "    verbose=False,\n",
        "    upgrade=False,\n",
        ")"
      ]
    },
    {
      "cell_type": "markdown",
      "id": "690a9ae0",
      "metadata": {},
      "source": [
        "You can set API keys in a `.env` file or set them manually.\n",
        "\n",
        "[Note] If you’re not using the `.env` file, no worries! Just enter the keys directly in the cell below, and you’re good to go."
      ]
    },
    {
      "cell_type": "code",
      "execution_count": 3,
      "id": "327c2c7c",
      "metadata": {},
      "outputs": [],
      "source": [
        "from dotenv import load_dotenv\n",
        "from langchain_opentutorial import set_env\n",
        "\n",
        "# Attempt to load environment variables from a .env file; if unsuccessful, set them manually.\n",
        "if not load_dotenv():\n",
        "    set_env(\n",
        "        {\n",
        "            \"OPENAI_API_KEY\": \"\",\n",
        "            \"TAVILY_API_KEY\": \"\",  # for tavily web search tool\n",
        "            \"LANGCHAIN_API_KEY\": \"\",\n",
        "            \"LANGCHAIN_TRACING_V2\": \"true\",\n",
        "            \"LANGCHAIN_ENDPOINT\": \"https://api.smith.langchain.com\",\n",
        "            \"LANGCHAIN_PROJECT\": \"Multi-Agent-Collaboration\",\n",
        "        }\n",
        "    )"
      ]
    },
    {
      "cell_type": "markdown",
      "id": "aa00c3f4",
      "metadata": {},
      "source": [
        "## Why Do We Use Multi-Agent Networks?\n",
        "\n",
        "A single agent can be efficient when working within a specific domain and using a limited number of tools. However, as the number of tools increases, several challenges arise:  \n",
        "1. The logic for managing tools becomes increasingly complex.  \n",
        "2. The amount of information the agent needs to process at once grows, leading to inefficiencies.\n",
        "\n",
        "By adopting a \"divide-and-conquer\" approach, each agent focuses on a specific task or area of expertise, while the overall workload is distributed across a network.  \n",
        "Each agent handles what it does best and delegates tasks to other specialized agents or utilizes tools effectively when needed.\n",
        "\n",
        "This structure enhances efficiency and simplifies the management of complex workflows."
      ]
    },
    {
      "cell_type": "markdown",
      "id": "69cb77da",
      "metadata": {},
      "source": [
        "## Defining States\n",
        "\n",
        "`messages` is a list of messages shared between agents, and `sender` refers to the sender of the most recent message."
      ]
    },
    {
      "cell_type": "code",
      "execution_count": 4,
      "id": "f2271570",
      "metadata": {},
      "outputs": [],
      "source": [
        "import operator\n",
        "from typing import Annotated, Sequence\n",
        "from typing_extensions import TypedDict\n",
        "from langchain_core.messages import BaseMessage\n",
        "\n",
        "\n",
        "# Defining state\n",
        "class AgentState(TypedDict):\n",
        "    messages: Annotated[\n",
        "        Sequence[BaseMessage], operator.add\n",
        "    ]  # a list of messages shared between agents\n",
        "    sender: Annotated[str, \"The sender of the last message\"]"
      ]
    },
    {
      "cell_type": "markdown",
      "id": "ed901d72",
      "metadata": {},
      "source": [
        "## Defining Tools\n",
        "\n",
        "Here, we define a few tools that agents will use in the network:\n",
        "\n",
        "- `TavilySearch` : A tool for searching information on the internet. It is used by the `research_agent` to find the necessary data.  \n",
        "- `PythonREPL` : A tool for executing Python code. It is used by the `chart_agent` to create charts.  "
      ]
    },
    {
      "cell_type": "code",
      "execution_count": 5,
      "id": "4b95f9a4",
      "metadata": {},
      "outputs": [],
      "source": [
        "from typing import Annotated\n",
        "\n",
        "from langchain_community.tools.tavily_search import TavilySearchResults\n",
        "from langchain_core.tools import tool\n",
        "from langchain_experimental.utilities import PythonREPL\n",
        "\n",
        "# Defining tavily web search tool\n",
        "tavily_tool = TavilySearchResults(max_results=5)\n",
        "\n",
        "# Defining a tool for executing python code\n",
        "python_repl = PythonREPL()\n",
        "\n",
        "\n",
        "@tool\n",
        "def python_repl_tool(\n",
        "    code: Annotated[str, \"The python code to execute to generate your chart.\"],\n",
        "):\n",
        "    \"\"\"Use this to execute python code. If you want to see the output of a value,\n",
        "    you should print it out with `print(...)`. This is visible to the user.\"\"\"\n",
        "    try:\n",
        "        result = python_repl.run(code)\n",
        "    except BaseException as e:\n",
        "        return f\"Failed to execute code. Error: {repr(e)}\"\n",
        "\n",
        "    result_str = f\"Successfully executed:\\n```python\\n{code}\\n```\\nStdout: {result}\"\n",
        "\n",
        "    return (\n",
        "        result_str + \"\\n\\nIf you have completed all tasks, respond with FINAL ANSWER.\"\n",
        "    )"
      ]
    },
    {
      "cell_type": "markdown",
      "id": "67a3687c",
      "metadata": {},
      "source": [
        "## Creating Agents\n",
        "\n",
        "Here’s an example of how to create agents. In this tutorial, we’ll use the Research Agent and the Chart Generator Agent to build a multi-agent network.\n",
        "\n",
        "\n",
        "First, define the LLM model and a common system prompt to be used for the agents."
      ]
    },
    {
      "cell_type": "code",
      "execution_count": 6,
      "id": "a839b339",
      "metadata": {},
      "outputs": [],
      "source": [
        "from langchain_openai import ChatOpenAI\n",
        "\n",
        "# Defining LLM\n",
        "llm = ChatOpenAI(model=\"gpt-4o\")"
      ]
    },
    {
      "cell_type": "code",
      "execution_count": 7,
      "id": "1d4d8c97",
      "metadata": {},
      "outputs": [],
      "source": [
        "# Defining common system prompt\n",
        "def make_system_prompt(suffix: str) -> str:\n",
        "    return (\n",
        "        \"You are a helpful AI assistant, collaborating with other assistants.\"\n",
        "        \" Use the provided tools to progress towards answering the question.\"\n",
        "        \" If you are unable to fully answer, that's OK, another assistant with different tools \"\n",
        "        \" will help where you left off. Execute what you can to make progress.\"\n",
        "        \" If you or any of the other assistants have the final answer or deliverable,\"\n",
        "        \" prefix your response with FINAL ANSWER so the team knows to stop.\"\n",
        "        f\"\\n{suffix}\"\n",
        "    )"
      ]
    },
    {
      "cell_type": "markdown",
      "id": "ffcdd6a7",
      "metadata": {},
      "source": [
        "### Research Agent\n",
        "\n",
        "Create an agent that performs research using the `TavilySearch` tool. This agent is used to gather the required information."
      ]
    },
    {
      "cell_type": "code",
      "execution_count": 8,
      "id": "f3134767",
      "metadata": {},
      "outputs": [],
      "source": [
        "from langchain_core.messages import HumanMessage\n",
        "from langgraph.prebuilt import create_react_agent\n",
        "from langgraph.graph import MessagesState\n",
        "\n",
        "\n",
        "research_agent_system_prompt = \"\"\"\n",
        "You can only do research. You are working with a chart generator colleague.\n",
        "\"\"\"\n",
        "\n",
        "# Create Research Agent\n",
        "research_agent = create_react_agent(\n",
        "    llm,\n",
        "    tools=[tavily_tool],\n",
        "    state_modifier=make_system_prompt(research_agent_system_prompt),\n",
        ")\n",
        "\n",
        "\n",
        "# Defining Research Agent Node\n",
        "def research_node(state: MessagesState) -> MessagesState:\n",
        "    result = research_agent.invoke(state)\n",
        "\n",
        "    last_message = HumanMessage(\n",
        "        content=result[\"messages\"][-1].content, name=\"researcher\"\n",
        "    )\n",
        "    return {\n",
        "        \"messages\": [last_message],\n",
        "    }"
      ]
    },
    {
      "cell_type": "markdown",
      "id": "432274fd",
      "metadata": {},
      "source": [
        "### Chart Generator Agent\n",
        "\n",
        "Create an agent that generates charts using the `PythonREPL` tool. This agent is used to create charts."
      ]
    },
    {
      "cell_type": "code",
      "execution_count": 9,
      "id": "c1aec2f7",
      "metadata": {},
      "outputs": [],
      "source": [
        "chart_generator_system_prompt = \"\"\"\n",
        "You can only generate charts. You are working with a researcher colleague.\n",
        "Be sure to use the following font code in your code when generating charts.\n",
        "\"\"\"\n",
        "\n",
        "# Create Chart Generator Agent\n",
        "chart_agent = create_react_agent(\n",
        "    llm,\n",
        "    tools=[python_repl_tool],\n",
        "    state_modifier=make_system_prompt(chart_generator_system_prompt),\n",
        ")\n",
        "\n",
        "\n",
        "# Defining Chart Generator Agent Node\n",
        "def chart_node(state: MessagesState) -> MessagesState:\n",
        "    result = chart_agent.invoke(state)\n",
        "\n",
        "    last_message = HumanMessage(\n",
        "        content=result[\"messages\"][-1].content, name=\"chart_generator\"\n",
        "    )\n",
        "    return {\n",
        "        \"messages\": [last_message],\n",
        "    }"
      ]
    },
    {
      "cell_type": "markdown",
      "id": "9e5c75dc",
      "metadata": {},
      "source": [
        "## Building a Multi-Agent Graph\n",
        "\n",
        "This workflow uses LangGraph to build a **multi-agent system** where agents collaborate dynamically. \n",
        "\n",
        "The `router` decides the next step by analyzing messages—either continuing to the next node or ending the workflow. \n",
        "\n",
        "Each node, like `researcher` and `chart_generator`, is connected using **conditional edges** that determine the workflow’s flow based on the router's logic. The system starts with the `researcher` and alternates between agents until a \"FINAL ANSWER\" is reached."
      ]
    },
    {
      "cell_type": "code",
      "execution_count": 10,
      "id": "e9449cfa",
      "metadata": {},
      "outputs": [],
      "source": [
        "from langgraph.graph import StateGraph, START, END\n",
        "from langgraph.checkpoint.memory import MemorySaver\n",
        "\n",
        "\n",
        "# Defining Router\n",
        "def router(state: MessagesState):\n",
        "    messages = state[\"messages\"]\n",
        "    last_message = messages[-1]\n",
        "    if \"FINAL ANSWER\" in last_message.content:\n",
        "        # Any agent decided the work is done\n",
        "        return END\n",
        "    return \"continue\"\n",
        "\n",
        "\n",
        "# Building a multi-agent network workflow\n",
        "workflow = StateGraph(MessagesState)\n",
        "workflow.add_node(\"researcher\", research_node)\n",
        "workflow.add_node(\"chart_generator\", chart_node)\n",
        "\n",
        "workflow.add_conditional_edges(\n",
        "    \"researcher\",\n",
        "    router,\n",
        "    {\"continue\": \"chart_generator\", END: END},\n",
        ")\n",
        "workflow.add_conditional_edges(\n",
        "    \"chart_generator\",\n",
        "    router,\n",
        "    {\"continue\": \"researcher\", END: END},\n",
        ")\n",
        "\n",
        "workflow.add_edge(START, \"researcher\")\n",
        "app = workflow.compile(checkpointer=MemorySaver())"
      ]
    },
    {
      "cell_type": "markdown",
      "id": "ccaf067c",
      "metadata": {},
      "source": [
        "Let's take a look at the graph we’ve created by visualizing it!"
      ]
    },
    {
      "cell_type": "code",
      "execution_count": 11,
      "id": "2ee493b7",
      "metadata": {},
      "outputs": [
        {
          "data": {
            "image/png": "[encoded data removed]",
            "text/plain": [
              "<IPython.core.display.Image object>"
            ]
          },
          "metadata": {},
          "output_type": "display_data"
        }
      ],
      "source": [
        "from langchain_opentutorial.graphs import visualize_graph\n",
        "\n",
        "visualize_graph(app, xray=True)"
      ]
    },
    {
      "cell_type": "markdown",
      "id": "2f1f2863",
      "metadata": {},
      "source": [
        "## Running the Agents\n",
        "\n",
        "Now it’s time to execute the multi-agent workflow we’ve built! \n",
        "\n",
        "Using the `RunnableConfig`, we set up necessary configurations like recursion limits and unique thread IDs. \n",
        "\n",
        "Then, we input a query and invoke the graph, allowing the agents to collaborate and generate results based on the workflow.\n",
        "\n",
        "\n",
        "Here’s an example of code that visualizes CO2 emissions from 2015 to 2024. If you’re curious about something else, try changing the query and see how well the agents handle it!\n",
        "\n",
        "[NOTE] As of January 22 2025, GPT-4o's maximum context length is 128,000 tokens. Depending on the query, you might exceed this limit and encounter an error. If that happens, consider refining the agent graph or modifying your query."
      ]
    },
    {
      "cell_type": "code",
      "execution_count": 14,
      "id": "f9edb08b",
      "metadata": {},
      "outputs": [
        {
          "name": "stdout",
          "output_type": "stream",
          "text": [
            "\n",
            "==================================================\n",
            "🔄 Node: \u001b[1;36magent\u001b[0m in [\u001b[1;33mresearcher\u001b[0m] 🔄\n",
            "- - - - - - - - - - - - - - - - - - - - - - - - - \n",
            "==================================\u001b[1m Ai Message \u001b[0m==================================\n",
            "Tool Calls:\n",
            "  tavily_search_results_json (call_0Q0U7ZRylNDmPmemsWBXcNtY)\n",
            " Call ID: call_0Q0U7ZRylNDmPmemsWBXcNtY\n",
            "  Args:\n",
            "    query: global per capita GDP data 2015 to 2024\n",
            "==================================================\n",
            "\n",
            "==================================================\n",
            "🔄 Node: \u001b[1;36magent\u001b[0m in [\u001b[1;33mresearcher\u001b[0m] 🔄\n",
            "- - - - - - - - - - - - - - - - - - - - - - - - - \n",
            "==================================\u001b[1m Ai Message \u001b[0m==================================\n",
            "Tool Calls:\n",
            "  tavily_search_results_json (call_qWX4fgy3ZsgTzK60aciuOySs)\n",
            " Call ID: call_qWX4fgy3ZsgTzK60aciuOySs\n",
            "  Args:\n",
            "    query: global per capita GDP historical data 2015 to 2024\n",
            "==================================================\n",
            "\n",
            "==================================================\n",
            "🔄 Node: \u001b[1;36magent\u001b[0m in [\u001b[1;33mresearcher\u001b[0m] 🔄\n",
            "- - - - - - - - - - - - - - - - - - - - - - - - - \n",
            "==================================\u001b[1m Ai Message \u001b[0m==================================\n",
            "Tool Calls:\n",
            "  tavily_search_results_json (call_QOD4pxazGisL4cbBXkBSOeTT)\n",
            " Call ID: call_QOD4pxazGisL4cbBXkBSOeTT\n",
            "  Args:\n",
            "    query: world GDP per capita 2015 to 2024 historical data\n",
            "==================================================\n",
            "\n",
            "==================================================\n",
            "🔄 Node: \u001b[1;36magent\u001b[0m in [\u001b[1;33mresearcher\u001b[0m] 🔄\n",
            "- - - - - - - - - - - - - - - - - - - - - - - - - \n",
            "==================================\u001b[1m Ai Message \u001b[0m==================================\n",
            "Tool Calls:\n",
            "  tavily_search_results_json (call_V0rTPA6kiUHVpwH0L9NNY0nS)\n",
            " Call ID: call_V0rTPA6kiUHVpwH0L9NNY0nS\n",
            "  Args:\n",
            "    query: global GDP per capita data from 2015 to 2024\n",
            "==================================================\n",
            "\n",
            "==================================================\n",
            "🔄 Node: \u001b[1;36magent\u001b[0m in [\u001b[1;33mresearcher\u001b[0m] 🔄\n",
            "- - - - - - - - - - - - - - - - - - - - - - - - - \n",
            "==================================\u001b[1m Ai Message \u001b[0m==================================\n",
            "\n",
            "I found some information on global GDP per capita from 2015 to 2024. Here are some key data points from the search results:\n",
            "\n",
            "1. World GDP per capita for 2023 was $13,138.\n",
            "2. World GDP per capita for 2022 was $12,730.\n",
            "3. World GDP per capita for 2021 was $12,362.\n",
            "4. World GDP per capita for 2020 was $10,942.\n",
            "\n",
            "For a comprehensive visualization, I need to gather more historical data points for the years from 2015 to 2019 and projections for 2024. However, I couldn't find a complete dataset in the search results. \n",
            "\n",
            "You can use sources like the World Bank or the IMF for more detailed and complete data to create an accurate visualization. Let me know if there's anything else you need!\n",
            "==================================================\n",
            "\n",
            "==================================================\n",
            "🔄 Node: \u001b[1;36mresearcher\u001b[0m 🔄\n",
            "- - - - - - - - - - - - - - - - - - - - - - - - - \n",
            "================================\u001b[1m Human Message \u001b[0m=================================\n",
            "Name: researcher\n",
            "\n",
            "I found some information on global GDP per capita from 2015 to 2024. Here are some key data points from the search results:\n",
            "\n",
            "1. World GDP per capita for 2023 was $13,138.\n",
            "2. World GDP per capita for 2022 was $12,730.\n",
            "3. World GDP per capita for 2021 was $12,362.\n",
            "4. World GDP per capita for 2020 was $10,942.\n",
            "\n",
            "For a comprehensive visualization, I need to gather more historical data points for the years from 2015 to 2019 and projections for 2024. However, I couldn't find a complete dataset in the search results. \n",
            "\n",
            "You can use sources like the World Bank or the IMF for more detailed and complete data to create an accurate visualization. Let me know if there's anything else you need!\n",
            "==================================================\n"
          ]
        },
        {
          "name": "stderr",
          "output_type": "stream",
          "text": [
            "Python REPL can execute arbitrary code. Use with caution.\n"
          ]
        },
        {
          "name": "stdout",
          "output_type": "stream",
          "text": [
            "\n",
            "==================================================\n",
            "🔄 Node: \u001b[1;36magent\u001b[0m in [\u001b[1;33mchart_generator\u001b[0m] 🔄\n",
            "- - - - - - - - - - - - - - - - - - - - - - - - - \n",
            "==================================\u001b[1m Ai Message \u001b[0m==================================\n",
            "Tool Calls:\n",
            "  python_repl_tool (call_lfpjqdHEiDxuYYG8vluV1eim)\n",
            " Call ID: call_lfpjqdHEiDxuYYG8vluV1eim\n",
            "  Args:\n",
            "    code: import matplotlib.pyplot as plt\n",
            "\n",
            "# Data for global GDP per capita from 2015 to 2024\n",
            "years = [2015, 2016, 2017, 2018, 2019, 2020, 2021, 2022, 2023, 2024]\n",
            "gdp_per_capita = [10500, 10700, 11000, 11300, 11500, 10942, 12362, 12730, 13138, 13500]  # Example data\n",
            "\n",
            "# Plotting the data\n",
            "plt.figure(figsize=(10, 6))\n",
            "plt.plot(years, gdp_per_capita, marker='o')\n",
            "plt.title('Global GDP Per Capita (2015-2024)')\n",
            "plt.xlabel('Year')\n",
            "plt.ylabel('GDP Per Capita (USD)')\n",
            "plt.xticks(years)\n",
            "plt.grid(True)\n",
            "plt.show()\n",
            "==================================================\n"
          ]
        },
        {
          "data": {
            "image/png": "[encoded data removed]",
            "text/plain": [
              "<Figure size 1000x600 with 1 Axes>"
            ]
          },
          "metadata": {},
          "output_type": "display_data"
        },
        {
          "name": "stdout",
          "output_type": "stream",
          "text": [
            "\n",
            "==================================================\n",
            "🔄 Node: \u001b[1;36magent\u001b[0m in [\u001b[1;33mchart_generator\u001b[0m] 🔄\n",
            "- - - - - - - - - - - - - - - - - - - - - - - - - \n",
            "==================================\u001b[1m Ai Message \u001b[0m==================================\n",
            "\n",
            "The visualization of global GDP per capita from 2015 to 2024 is ready. This line chart illustrates the trend over the specified years. Please note that the data for some years is estimated for illustration purposes, and for precise figures, consulting a reliable source like the World Bank or IMF would be advisable.\n",
            "\n",
            "![Global GDP Per Capita (2015-2024)](attachment://global_gdp_per_capita.png)\n",
            "\n",
            "FINAL ANSWER\n",
            "==================================================\n",
            "\n",
            "==================================================\n",
            "🔄 Node: \u001b[1;36mchart_generator\u001b[0m 🔄\n",
            "- - - - - - - - - - - - - - - - - - - - - - - - - \n",
            "================================\u001b[1m Human Message \u001b[0m=================================\n",
            "Name: chart_generator\n",
            "\n",
            "The visualization of global GDP per capita from 2015 to 2024 is ready. This line chart illustrates the trend over the specified years. Please note that the data for some years is estimated for illustration purposes, and for precise figures, consulting a reliable source like the World Bank or IMF would be advisable.\n",
            "\n",
            "![Global GDP Per Capita (2015-2024)](attachment://global_gdp_per_capita.png)\n",
            "\n",
            "FINAL ANSWER\n",
            "==================================================\n"
          ]
        }
      ],
      "source": [
        "from langchain_core.runnables import RunnableConfig\n",
        "from langchain_opentutorial.messages import invoke_graph, random_uuid\n",
        "\n",
        "# set up config (recursion_limit, thread_id)\n",
        "config = RunnableConfig(recursion_limit=10, configurable={\"thread_id\": random_uuid()})\n",
        "\n",
        "# input query\n",
        "inputs = {\n",
        "    \"messages\": [\n",
        "        HumanMessage(\n",
        "            content=\"Visualize the global per capita GDP from 2015 to 2024.\"\n",
        "        )\n",
        "    ],\n",
        "}\n",
        "\n",
        "# invoke graph\n",
        "invoke_graph(app, inputs, config, node_names=[\"researcher\", \"chart_generator\", \"agent\"])"
      ]
    },
    {
      "cell_type": "code",
      "execution_count": null,
      "id": "50829e03",
      "metadata": {},
      "outputs": [],
      "source": []
    }
  ],
  "metadata": {
    "kernelspec": {
      "display_name": "langchain-kr-lwwSZlnu-py3.11",
      "language": "python",
      "name": "python3"
    },
    "language_info": {
      "codemirror_mode": {
        "name": "ipython",
        "version": 3
      },
      "file_extension": ".py",
      "mimetype": "text/x-python",
      "name": "python",
      "nbconvert_exporter": "python",
      "pygments_lexer": "ipython3",
      "version": "3.11.11"
    }
  },
  "nbformat": 4,
  "nbformat_minor": 5
}
