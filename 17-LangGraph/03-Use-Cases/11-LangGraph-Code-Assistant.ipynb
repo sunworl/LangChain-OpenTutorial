{
  "cells": [
    {
      "cell_type": "markdown",
      "id": "OqKumYqaNrPC",
      "metadata": {
        "id": "OqKumYqaNrPC"
      },
      "source": [
        "# LangGraph Code Assistant\n",
        "\n",
        "- Author: [Junseong Kim](https://www.linkedin.com/in/%EC%A4%80%EC%84%B1-%EA%B9%80-591b351b2/)\n",
        "- Design: [Junseong Kim](https://www.linkedin.com/in/%EC%A4%80%EC%84%B1-%EA%B9%80-591b351b2/)\n",
        "- Peer Review:\n",
        "- This is a part of [LangChain Open Tutorial](https://github.com/LangChain-OpenTutorial/LangChain-OpenTutorial)\n",
        "\n",
        "[![Open in Colab](https://colab.research.google.com/assets/colab-badge.svg)](https://colab.research.google.com/github/LangChain-OpenTutorial/LangChain-OpenTutorial/blob/main/17-LangGraph/03-Use-Cases/05-langgraph-plan-and-execute.ipynb) [![Open in GitHub](https://img.shields.io/badge/Open%20in%20GitHub-181717?style=flat-square&logo=github&logoColor=white)](https://github.com/LangChain-OpenTutorial/LangChain-OpenTutorial/blob/main/17-LangGraph/03-Use-Cases/05-langgraph-plan-and-execute.ipynb)\n",
        "\n",
        "## Overview\n",
        "\n",
        "In this tutorial, we will build a simple code assistant workflow using **langgraph** and LangChain. We will demonstrate how to:\n",
        "\n",
        "- Load and parse documentation from a URL using `RecursiveUrlLoader`.\n",
        "- Create a Pydantic model (`code`) to structure code-generation responses.\n",
        "- Use an LLM (Anthropic’s Claude) with a specialized prompt to generate code solutions.\n",
        "- Integrate a custom parsing function to handle raw and structured outputs.\n",
        "- Construct a state machine with `langgraph` to:\n",
        "  - Generate code (`generate` node)\n",
        "  - Check imports and execution (`check_code` node)\n",
        "  - Reflect and retry if needed (`reflect` node)\n",
        "- Visualize the workflow graph and finally display the generated code in a clean Markdown format.\n",
        "\n",
        "By the end of this tutorial, you’ll be able to set up a multi-step code assistant pipeline that can iteratively generate, validate, and reflect on generated code.\n",
        "\n",
        "![](./assets/11-langgraph-code-assistant.png)\n",
        "\n",
        "\n",
        "### Table of Contents\n",
        "\n",
        "- [Overview](#overview)\n",
        "- [Environment Setup](#environment-setup)\n",
        "- [Building the Code Assistant Workflow](#building-the-code-assistant-workflow)\n",
        "- [Loading and Preparing Documentation](#loading-and-preparing-documentation)\n",
        "- [Defining a Pydantic Model for Code](#defining-a-pydantic-model-for-code)\n",
        "- [Setting Up the Prompt and LLM Chain](#setting-up-the-prompt-and-llm-chain)\n",
        "- [Parsing the LLM Output](#parsing-the-llm-output)\n",
        "- [Constructing the State Machine](#Constructing-the-State-Machine)\n",
        "- [Final Invocation and Display](#final-invocation-and-display)\n",
        "\n",
        "### References\n",
        "\n",
        "- [Langgraph](https://www.langchain.com/langgraph)\n",
        "- [LangChain Anthropic Integration](https://python.langchain.com/docs/integrations/llms/anthropic)\n",
        "----"
      ]
    },
    {
      "cell_type": "markdown",
      "id": "rhUZI_8lN_7x",
      "metadata": {
        "id": "rhUZI_8lN_7x"
      },
      "source": [
        "## Environment Setup\n",
        "\n",
        "Setting up your environment is the first step. See the [Environment Setup](https://wikidocs.net/257836) guide for more details.\n",
        "\n",
        "\n",
        "**[Note]**\n",
        "\n",
        "The langchain-opentutorial is a package of easy-to-use environment setup guidance, useful functions and utilities for tutorials.\n",
        "Check out the  [`langchain-opentutorial`](https://github.com/LangChain-OpenTutorial/langchain-opentutorial-pypi) for more details."
      ]
    },
    {
      "cell_type": "code",
      "execution_count": 1,
      "id": "Ir6WsaC1OB8y",
      "metadata": {
        "id": "Ir6WsaC1OB8y"
      },
      "outputs": [
        {
          "name": "stderr",
          "output_type": "stream",
          "text": [
            "\n",
            "[notice] A new release of pip is available: 24.3.1 -> 25.0\n",
            "[notice] To update, run: python.exe -m pip install --upgrade pip\n"
          ]
        }
      ],
      "source": [
        "%%capture --no-stderr\n",
        "%pip install langchain-opentutorial"
      ]
    },
    {
      "cell_type": "code",
      "execution_count": 2,
      "id": "WhSXCH7kODHR",
      "metadata": {
        "id": "WhSXCH7kODHR"
      },
      "outputs": [],
      "source": [
        "# Install required packages\n",
        "from langchain_opentutorial import package\n",
        "\n",
        "package.install(\n",
        "    [\n",
        "        \"langsmith\",\n",
        "        \"langchain\",\n",
        "        \"langchain_core\",\n",
        "        \"langchain_anthropic\",\n",
        "        \"langchain_community\",\n",
        "        \"langgraph\",\n",
        "    ],\n",
        "    verbose=False,\n",
        "    upgrade=False,\n",
        ")"
      ]
    },
    {
      "cell_type": "markdown",
      "id": "vzgjAj2mOKEJ",
      "metadata": {
        "id": "vzgjAj2mOKEJ"
      },
      "source": [
        "You can set API keys in a `.env` file or set them manually.\n",
        "\n",
        "[Note] If you’re not using the `.env` file, no worries! Just enter the keys directly in the cell below, and you’re good to go."
      ]
    },
    {
      "cell_type": "code",
      "execution_count": 3,
      "id": "RmZFhLKBOMrQ",
      "metadata": {
        "colab": {
          "base_uri": "https://localhost:8080/"
        },
        "id": "RmZFhLKBOMrQ",
        "outputId": "32cb3dd1-d3ad-44a9-e97e-45d3d1c84473"
      },
      "outputs": [],
      "source": [
        "from dotenv import load_dotenv\n",
        "from langchain_opentutorial import set_env\n",
        "\n",
        "# Attempt to load environment variables from a .env file; if unsuccessful, set them manually.\n",
        "if not load_dotenv():\n",
        "    set_env(\n",
        "        {\n",
        "            \"ANTHROPIC_API_KEY\": \"\",\n",
        "            \"LANGCHAIN_API_KEY\": \"\",\n",
        "            \"LANGCHAIN_TRACING_V2\": \"true\",\n",
        "            \"LANGCHAIN_ENDPOINT\": \"https://api.smith.langchain.com\",\n",
        "            \"LANGCHAIN_PROJECT\": \"11-LangGraph-Code-Assistant\",\n",
        "        }\n",
        "    )"
      ]
    },
    {
      "cell_type": "markdown",
      "id": "6c09f86d",
      "metadata": {},
      "source": [
        "## Building the Code Assistant Workflow\n",
        "\n",
        "Below, we will build a code assistant workflow using **langgraph**. This workflow can:\n",
        "\n",
        "1. **Load** documentation with a custom loader.\n",
        "2. **Use** a large language model (Anthropic’s Claude) with a structured output format.\n",
        "3. **Check** generated code for errors and prompt for a retry if needed.\n",
        "4. **Reflect** on errors and regenerate code.\n",
        "\n",
        "We will demonstrate each step with a combination of Markdown explanations and code cells.\n"
      ]
    },
    {
      "cell_type": "markdown",
      "id": "52201e9b",
      "metadata": {},
      "source": [
        "## Loading and Preparing Documentation\n",
        "\n",
        "We use the `RecursiveUrlLoader` (from `langchain_community`) to fetch and parse documentation. We’ll store the documents in `docs`, sort them, and then concatenate the page content into a single string for use in our prompt.\n"
      ]
    },
    {
      "cell_type": "code",
      "execution_count": 1,
      "id": "21f06357",
      "metadata": {},
      "outputs": [],
      "source": [
        "from bs4 import BeautifulSoup as Soup\n",
        "from langchain_community.document_loaders.recursive_url_loader import RecursiveUrlLoader\n",
        "\n",
        "# LCEL docs\n",
        "url = \"https://python.langchain.com/v0.2/docs/tutorials/rag/\"\n",
        "loader = RecursiveUrlLoader(\n",
        "    url=url, max_depth=20, extractor=lambda x: Soup(x, \"html.parser\").text\n",
        ")\n",
        "docs = loader.load()\n",
        "\n",
        "# Sort the list based on the URLs and get the text\n",
        "d_sorted = sorted(docs, key=lambda x: x.metadata[\"source\"])\n",
        "d_reversed = list(reversed(d_sorted))\n",
        "concatenated_content = \"\\n\\n\\n --- \\n\\n\\n\".join(\n",
        "    [doc.page_content for doc in d_reversed]\n",
        ")"
      ]
    },
    {
      "cell_type": "markdown",
      "id": "3fb4034b",
      "metadata": {},
      "source": [
        "## Defining a Pydantic Model for Code\n",
        "\n",
        "We define a Pydantic model named `code` to capture structured outputs for code generation. This model enforces a specific schema with fields for `prefix`, `imports`, and `code`.\n"
      ]
    },
    {
      "cell_type": "code",
      "execution_count": 2,
      "id": "a9ad87b7",
      "metadata": {},
      "outputs": [],
      "source": [
        "from pydantic import BaseModel, Field\n",
        "\n",
        "\n",
        "# Data model\n",
        "\n",
        "\n",
        "class code(BaseModel):\n",
        "    \"\"\"Schema for code solutions to questions about LCEL.\"\"\"\n",
        "\n",
        "    prefix: str = Field(description=\"Description of the problem and approach\")\n",
        "\n",
        "    imports: str = Field(description=\"Code block import statements\")\n",
        "\n",
        "    code: str = Field(description=\"Code block not including import statements\")"
      ]
    },
    {
      "cell_type": "markdown",
      "id": "c9d3b9b2",
      "metadata": {},
      "source": [
        "## Setting Up the Prompt and LLM Chain\n",
        "\n",
        "We construct a prompt that instructs the LLM (Anthropic’s Claude) to produce answers in our specified `code` format.\n"
      ]
    },
    {
      "cell_type": "code",
      "execution_count": 5,
      "id": "65edba80",
      "metadata": {},
      "outputs": [],
      "source": [
        "from langchain_anthropic import ChatAnthropic\n",
        "from langchain_core.prompts import ChatPromptTemplate\n",
        "\n",
        "# Prompt to enforce tool use\n",
        "code_gen_prompt_claude = ChatPromptTemplate.from_messages(\n",
        "    [\n",
        "        (\n",
        "            \"system\",\n",
        "            \"\"\"<instructions> You are a coding assistant with expertise in LCEL, LangChain expression language. \\n \n",
        "    Here is the LCEL documentation:  \\n ------- \\n  {context} \\n ------- \\n Answer the user  question based on the \\n \n",
        "    above provided documentation. Ensure any code you provide can be executed with all required imports and variables \\n\n",
        "    defined. Structure your answer: 1) a prefix describing the code solution, 2) the imports, 3) the functioning code block. \\n\n",
        "    Invoke the code tool to structure the output correctly. </instructions> \\n Here is the user question:\"\"\",\n",
        "        ),\n",
        "        (\"placeholder\", \"{messages}\"),\n",
        "    ]\n",
        ")\n",
        "\n",
        "# LLM\n",
        "expt_llm = \"claude-3-opus-20240229\"\n",
        "llm = ChatAnthropic(\n",
        "    model=expt_llm,\n",
        "    default_headers={\"anthropic-beta\": \"tools-2024-04-04\"},\n",
        ")"
      ]
    },
    {
      "cell_type": "markdown",
      "id": "d2c09007",
      "metadata": {},
      "source": [
        "Next, we wrap this language model with `with_structured_output` to ensure it returns data that can be parsed into our `code` Pydantic model:\n"
      ]
    },
    {
      "cell_type": "code",
      "execution_count": 6,
      "id": "78548b64",
      "metadata": {},
      "outputs": [],
      "source": [
        "structured_llm_claude = llm.with_structured_output(code, include_raw=True)"
      ]
    },
    {
      "cell_type": "markdown",
      "id": "8696bd5d",
      "metadata": {},
      "source": [
        "Finally, we define a function `parse_output` to extract the parsed solution from the LLM’s raw response, and then we combine everything into a single chain:\n"
      ]
    },
    {
      "cell_type": "code",
      "execution_count": 7,
      "id": "17b0af3d",
      "metadata": {},
      "outputs": [],
      "source": [
        "def parse_output(solution):\n",
        "    \"\"\"When we add 'include_raw=True' to structured output,\n",
        "    it will return a dict w 'raw', 'parsed', 'parsing_error'.\"\"\"\n",
        "\n",
        "    return solution[\"parsed\"]\n",
        "\n",
        "\n",
        "code_gen_chain = code_gen_prompt_claude | structured_llm_claude | parse_output"
      ]
    },
    {
      "cell_type": "markdown",
      "id": "830371b5",
      "metadata": {},
      "source": [
        "## Parsing the LLM Output\n",
        "\n",
        "We run a quick test by asking a sample question. The chain returns a structured `code` object with `prefix`, `imports`, and `code`.\n"
      ]
    },
    {
      "cell_type": "code",
      "execution_count": 8,
      "id": "427e097b",
      "metadata": {},
      "outputs": [
        {
          "data": {
            "text/plain": [
              "code(prefix='Here is how you can build a RAG (Retrieval Augmented Generation) chain in LCEL (LangChain Expression Language):', imports='from langchain_chroma import Chroma\\nfrom langchain_openai import OpenAIEmbeddings\\nfrom langchain_text_splitters import RecursiveCharacterTextSplitter\\nfrom langchain import hub\\nfrom langchain_core.output_parsers import StrOutputParser\\nfrom langchain_core.runnables import RunnablePassthrough', code='text_splitter = RecursiveCharacterTextSplitter(chunk_size=1000, chunk_overlap=200)\\nsplits = text_splitter.split_documents(docs)\\n\\nvectorstore = Chroma.from_documents(documents=splits, embedding=OpenAIEmbeddings())\\n\\nretriever = vectorstore.as_retriever()\\nprompt = hub.pull(\"rlm/rag-prompt\")\\n\\ndef format_docs(docs):\\n    return \"\\\\\\\\n\\\\\\\\n\".join(doc.page_content for doc in docs)\\n\\nrag_chain = (\\n    {\"context\": retriever | format_docs, \"question\": RunnablePassthrough()}\\n    | prompt\\n    | llm \\n    | StrOutputParser()\\n)')"
            ]
          },
          "execution_count": 8,
          "metadata": {},
          "output_type": "execute_result"
        }
      ],
      "source": [
        "# Test\n",
        "question = \"How do I build a RAG chain in LCEL?\"\n",
        "solution = code_gen_chain.invoke(\n",
        "    {\"context\": concatenated_content, \"messages\": [(\"user\", question)]}\n",
        ")\n",
        "solution"
      ]
    },
    {
      "cell_type": "markdown",
      "id": "1efdca37",
      "metadata": {},
      "source": [
        "## Constructing the State Machine\n",
        "\n",
        "To handle multiple steps—generating code, checking it, and reflecting on errors—we can use a **langgraph** state machine.\n",
        "\n",
        "First, we create a `TypedDict` called `GraphState` to store our pipeline’s state. We also define some global parameters:\n"
      ]
    },
    {
      "cell_type": "code",
      "execution_count": 9,
      "id": "0800d70d",
      "metadata": {},
      "outputs": [],
      "source": [
        "from typing import List\n",
        "from typing_extensions import TypedDict\n",
        "\n",
        "\n",
        "class GraphState(TypedDict):\n",
        "    \"\"\"\n",
        "    Represents the state of our graph.\n",
        "\n",
        "    Attributes:\n",
        "        error : Binary flag for control flow to indicate whether test error was tripped\n",
        "        messages : With user question, error messages, reasoning\n",
        "        generation : Code solution\n",
        "        iterations : Number of tries\n",
        "    \"\"\"\n",
        "\n",
        "    error: str\n",
        "    messages: List\n",
        "    generation: str\n",
        "    iterations: int"
      ]
    },
    {
      "cell_type": "markdown",
      "id": "24b1c71a",
      "metadata": {},
      "source": [
        "**1. Define the Nodes**\n",
        "\n",
        "We have three main nodes in our state machine:\n",
        "\n",
        "1. **generate**: Calls the LLM chain to produce code.\n",
        "2. **code_check**: Attempts to `exec` the code. If it fails, we raise a flag.\n",
        "3. **reflect**: Optionally reflect on errors and refine the solution.\n",
        "\n",
        "We’ll define each one in its own cell for clarity.\n"
      ]
    },
    {
      "cell_type": "markdown",
      "id": "6bf07d3b",
      "metadata": {},
      "source": [
        "**1.1 generate Node**\n",
        "\n",
        "This node invokes the `code_gen_chain` to generate a new code solution. If there was a previous error, it adds a user message instructing the LLM to try again.\n"
      ]
    },
    {
      "cell_type": "code",
      "execution_count": 10,
      "id": "0c52c7a1",
      "metadata": {},
      "outputs": [],
      "source": [
        "### Parameter\n",
        "\n",
        "# Max tries\n",
        "max_iterations = 5\n",
        "# Reflect\n",
        "flag = \"reflect\"\n",
        "# flag = \"do not reflect\"\n",
        "\n",
        "### Nodes\n",
        "\n",
        "\n",
        "def generate(state: GraphState):\n",
        "    \"\"\"\n",
        "    Generate a code solution\n",
        "\n",
        "    Args:\n",
        "        state (dict): The current graph state\n",
        "\n",
        "    Returns:\n",
        "        state (dict): New key added to state, generation\n",
        "    \"\"\"\n",
        "\n",
        "    print(\"---GENERATING CODE SOLUTION---\")\n",
        "\n",
        "    # State\n",
        "    messages = state[\"messages\"]\n",
        "    iterations = state[\"iterations\"]\n",
        "    error = state[\"error\"]\n",
        "\n",
        "    # We have been routed back to generation with an error\n",
        "    if error == \"yes\":\n",
        "        messages += [\n",
        "            (\n",
        "                \"user\",\n",
        "                \"Now, try again. Invoke the code tool to structure the output with a prefix, imports, and code block:\",\n",
        "            )\n",
        "        ]\n",
        "\n",
        "    # Solution\n",
        "    code_solution = code_gen_chain.invoke(\n",
        "        {\"context\": concatenated_content, \"messages\": messages}\n",
        "    )\n",
        "    messages += [\n",
        "        (\n",
        "            \"assistant\",\n",
        "            f\"{code_solution.prefix} \\n Imports: {code_solution.imports} \\n Code: {code_solution.code}\",\n",
        "        )\n",
        "    ]\n",
        "\n",
        "    # Increment\n",
        "    iterations = iterations + 1\n",
        "    return {\"generation\": code_solution, \"messages\": messages, \"iterations\": iterations}"
      ]
    },
    {
      "cell_type": "markdown",
      "id": "c2b471ec",
      "metadata": {},
      "source": [
        "**1.2 code_check Node**\n",
        "\n",
        "This node checks the generated code by attempting to `exec` the imports and the main code block. If anything fails, it appends an error message and flags the state.\n"
      ]
    },
    {
      "cell_type": "code",
      "execution_count": 11,
      "id": "1408c5de",
      "metadata": {},
      "outputs": [],
      "source": [
        "def code_check(state: GraphState):\n",
        "    \"\"\"\n",
        "    Check code\n",
        "\n",
        "    Args:\n",
        "        state (dict): The current graph state\n",
        "\n",
        "    Returns:\n",
        "        state (dict): New key added to state, error\n",
        "    \"\"\"\n",
        "\n",
        "    print(\"---CHECKING CODE---\")\n",
        "\n",
        "    # State\n",
        "    messages = state[\"messages\"]\n",
        "    code_solution = state[\"generation\"]\n",
        "    iterations = state[\"iterations\"]\n",
        "\n",
        "    # Get solution components\n",
        "    imports = code_solution.imports\n",
        "    code = code_solution.code\n",
        "\n",
        "    # Check imports\n",
        "    try:\n",
        "        exec(imports)\n",
        "    except Exception as e:\n",
        "        print(\"---CODE IMPORT CHECK: FAILED---\")\n",
        "        print(e)\n",
        "        error_message = [(\"user\", f\"Your solution failed the import test: {e}\")]\n",
        "        messages += error_message\n",
        "        return {\n",
        "            \"generation\": code_solution,\n",
        "            \"messages\": messages,\n",
        "            \"iterations\": iterations,\n",
        "            \"error\": \"yes\",\n",
        "        }\n",
        "\n",
        "    # Check execution\n",
        "    try:\n",
        "        exec(imports + \"\\n\" + code)\n",
        "    except Exception as e:\n",
        "        print(\"---CODE BLOCK CHECK: FAILED---\")\n",
        "        error_message = [(\"user\", f\"Your solution failed the code execution test: {e}\")]\n",
        "        messages += error_message\n",
        "        return {\n",
        "            \"generation\": code_solution,\n",
        "            \"messages\": messages,\n",
        "            \"iterations\": iterations,\n",
        "            \"error\": \"yes\",\n",
        "        }\n",
        "\n",
        "    # No errors\n",
        "    print(\"---NO CODE TEST FAILURES---\")\n",
        "    return {\n",
        "        \"generation\": code_solution,\n",
        "        \"messages\": messages,\n",
        "        \"iterations\": iterations,\n",
        "        \"error\": \"no\",\n",
        "    }"
      ]
    },
    {
      "cell_type": "markdown",
      "id": "7a8e5ea5",
      "metadata": {},
      "source": [
        "**1.3 reflect Node**\n",
        "\n",
        "If code checking fails, we can optionally reflect on errors and refine the solution. This node prompts the LLM for additional insights and attaches them to the current message list.\n"
      ]
    },
    {
      "cell_type": "code",
      "execution_count": 12,
      "id": "fffbb62b",
      "metadata": {},
      "outputs": [],
      "source": [
        "def reflect(state: GraphState):\n",
        "    \"\"\"\n",
        "    Reflect on errors\n",
        "\n",
        "    Args:\n",
        "        state (dict): The current graph state\n",
        "\n",
        "    Returns:\n",
        "        state (dict): New key added to state, generation\n",
        "    \"\"\"\n",
        "\n",
        "    print(\"---GENERATING CODE SOLUTION (reflect)---\")\n",
        "\n",
        "    # State\n",
        "    messages = state[\"messages\"]\n",
        "    iterations = state[\"iterations\"]\n",
        "    code_solution = state[\"generation\"]\n",
        "\n",
        "    # Prompt reflection\n",
        "\n",
        "    # Add reflection\n",
        "    reflections = code_gen_chain.invoke(\n",
        "        {\"context\": concatenated_content, \"messages\": messages}\n",
        "    )\n",
        "    messages += [(\"assistant\", f\"Here are reflections on the error: {reflections}\")]\n",
        "    return {\"generation\": code_solution, \"messages\": messages, \"iterations\": iterations}"
      ]
    },
    {
      "cell_type": "markdown",
      "id": "56a569b5",
      "metadata": {},
      "source": [
        "**2. Defining the Workflow**\n",
        "\n",
        "Next, we tie these nodes together with **langgraph** to create our state machine. We also define a helper function `decide_to_finish` that determines whether we have encountered an error or exceeded our iteration limit.\n"
      ]
    },
    {
      "cell_type": "code",
      "execution_count": 14,
      "id": "0926f8d6",
      "metadata": {},
      "outputs": [],
      "source": [
        "from langgraph.graph import END, StateGraph, START\n",
        "\n",
        "\n",
        "def decide_to_finish(state: GraphState):\n",
        "    \"\"\"\n",
        "    Determines whether to finish.\n",
        "\n",
        "    Args:\n",
        "        state (dict): The current graph state\n",
        "\n",
        "    Returns:\n",
        "        str: Next node to call\n",
        "    \"\"\"\n",
        "    error = state[\"error\"]\n",
        "    iterations = state[\"iterations\"]\n",
        "\n",
        "    if error == \"no\" or iterations == max_iterations:\n",
        "        print(\"---DECISION: FINISH---\")\n",
        "        return \"end\"\n",
        "    else:\n",
        "        print(\"---DECISION: RE-TRY SOLUTION---\")\n",
        "        if flag == \"reflect\":\n",
        "            return \"reflect\"\n",
        "        else:\n",
        "            return \"generate\"\n",
        "\n",
        "\n",
        "# Build the state machine\n",
        "workflow = StateGraph(GraphState)\n",
        "\n",
        "workflow.add_node(\"generate\", generate)\n",
        "workflow.add_node(\"check_code\", code_check)\n",
        "workflow.add_node(\"reflect\", reflect)\n",
        "\n",
        "# Sequence:\n",
        "# 1. START -> generate\n",
        "# 2. generate -> check_code\n",
        "# 3. check_code -> either \"end\" or \"reflect\" or \"generate\"\n",
        "workflow.add_edge(START, \"generate\")\n",
        "workflow.add_edge(\"generate\", \"check_code\")\n",
        "workflow.add_conditional_edges(\n",
        "    \"check_code\",\n",
        "    decide_to_finish,\n",
        "    {\n",
        "        \"end\": END,\n",
        "        \"reflect\": \"reflect\",\n",
        "        \"generate\": \"generate\",\n",
        "    },\n",
        ")\n",
        "workflow.add_edge(\"reflect\", \"generate\")\n",
        "\n",
        "app = workflow.compile()"
      ]
    },
    {
      "cell_type": "markdown",
      "id": "9c2fdee4",
      "metadata": {},
      "source": [
        "**3. Visualizing the Workflow**\n",
        "\n",
        "We can visualize the state machine using the `visualize_graph` function from `langchain_opentutorial.graphs`.\n"
      ]
    },
    {
      "cell_type": "code",
      "execution_count": 15,
      "id": "0ae29806",
      "metadata": {},
      "outputs": [
        {
          "data": {
            "image/png": "[encoded data removed]",
            "text/plain": [
              "<IPython.core.display.Image object>"
            ]
          },
          "metadata": {},
          "output_type": "display_data"
        }
      ],
      "source": [
        "from langchain_opentutorial.graphs import visualize_graph\n",
        "\n",
        "visualize_graph(app)"
      ]
    },
    {
      "cell_type": "markdown",
      "id": "cf819f18",
      "metadata": {},
      "source": [
        "## Final Invocation and Display\n",
        "\n",
        "Finally, we pass a user question into our compiled state machine. The pipeline will:\n",
        "1. Generate code.\n",
        "2. Check it.\n",
        "3. Reflect if there’s an error.\n",
        "4. Repeat until success or until we reach our maximum number of attempts.\n"
      ]
    },
    {
      "cell_type": "code",
      "execution_count": 16,
      "id": "d1198f9f",
      "metadata": {},
      "outputs": [
        {
          "name": "stdout",
          "output_type": "stream",
          "text": [
            "---GENERATING CODE SOLUTION---\n",
            "---CHECKING CODE---\n",
            "---NO CODE TEST FAILURES---\n",
            "---DECISION: FINISH---\n"
          ]
        },
        {
          "data": {
            "text/plain": [
              "code(prefix='To pass a string directly through to a prompt, you can use the RunnablePassthrough class. This will take the input string and pass it through unchanged to be used in constructing the prompt input.', imports='from langchain_core.prompts import PromptTemplate\\nfrom langchain_core.runnables import RunnablePassthrough\\nfrom langchain_openai import ChatOpenAI\\nfrom langchain_core.output_parsers import StrOutputParser', code='template = \"\"\"Answer the following question.\\n\\nQuestion: {input}\\n\\nAnswer:\"\"\"\\n\\nprompt = PromptTemplate.from_template(template)\\n\\nllm = ChatOpenAI()\\n\\nchain = (\\n    RunnablePassthrough()\\n    | prompt \\n    | llm\\n    | StrOutputParser()\\n)\\n\\nchain.invoke(\"What is the capital of France?\")')"
            ]
          },
          "execution_count": 16,
          "metadata": {},
          "output_type": "execute_result"
        }
      ],
      "source": [
        "question = \"How can I directly pass a string to a runnable and use it to construct the input needed for my prompt?\"\n",
        "solution = app.invoke({\"messages\": [(\"user\", question)], \"iterations\": 0, \"error\": \"\"})\n",
        "solution[\"generation\"]"
      ]
    },
    {
      "cell_type": "markdown",
      "id": "87756a8a",
      "metadata": {},
      "source": [
        "We define a helper function to display the resulting code in a Markdown cell:"
      ]
    },
    {
      "cell_type": "code",
      "execution_count": 17,
      "id": "35972782",
      "metadata": {},
      "outputs": [],
      "source": [
        "from IPython.display import Markdown, display\n",
        "\n",
        "\n",
        "def display_markdown_code(solution):\n",
        "    \"\"\"\n",
        "    Render the final solution (Structured Output) as a Markdown code block.\n",
        "    \"\"\"\n",
        "\n",
        "    md_text = f\"\"\"\n",
        "\n",
        "**{solution.prefix}**\n",
        "\n",
        "\n",
        "```python\n",
        "\n",
        "# Imports\n",
        "\n",
        "{solution.imports}\n",
        "\n",
        "\n",
        "# Code\n",
        "\n",
        "{solution.code}\n",
        "\"\"\"\n",
        "\n",
        "    display(Markdown(md_text))"
      ]
    },
    {
      "cell_type": "markdown",
      "id": "aaa7ac42",
      "metadata": {},
      "source": [
        "The final output is displayed in Markdown, allowing you to immediately see the generated code solution"
      ]
    },
    {
      "cell_type": "code",
      "execution_count": 18,
      "id": "bc4ecad4",
      "metadata": {},
      "outputs": [
        {
          "data": {
            "text/markdown": [
              "\n",
              "\n",
              "**To pass a string directly through to a prompt, you can use the RunnablePassthrough class. This will take the input string and pass it through unchanged to be used in constructing the prompt input.**\n",
              "\n",
              "\n",
              "```python\n",
              "\n",
              "# Imports\n",
              "\n",
              "from langchain_core.prompts import PromptTemplate\n",
              "from langchain_core.runnables import RunnablePassthrough\n",
              "from langchain_openai import ChatOpenAI\n",
              "from langchain_core.output_parsers import StrOutputParser\n",
              "\n",
              "\n",
              "# Code\n",
              "\n",
              "template = \"\"\"Answer the following question.\n",
              "\n",
              "Question: {input}\n",
              "\n",
              "Answer:\"\"\"\n",
              "\n",
              "prompt = PromptTemplate.from_template(template)\n",
              "\n",
              "llm = ChatOpenAI()\n",
              "\n",
              "chain = (\n",
              "    RunnablePassthrough()\n",
              "    | prompt \n",
              "    | llm\n",
              "    | StrOutputParser()\n",
              ")\n",
              "\n",
              "chain.invoke(\"What is the capital of France?\")\n"
            ],
            "text/plain": [
              "<IPython.core.display.Markdown object>"
            ]
          },
          "metadata": {},
          "output_type": "display_data"
        }
      ],
      "source": [
        "display_markdown_code(solution[\"generation\"])"
      ]
    }
  ],
  "metadata": {
    "colab": {
      "collapsed_sections": [
        "0856a092",
        "9d230b5c",
        "05f6efaa",
        "b8c5d026",
        "ef28ddf5"
      ],
      "provenance": []
    },
    "kernelspec": {
      "display_name": "langchain-opentutorial-QDzDRI-1-py3.11",
      "language": "python",
      "name": "python3"
    },
    "language_info": {
      "codemirror_mode": {
        "name": "ipython",
        "version": 3
      },
      "file_extension": ".py",
      "mimetype": "text/x-python",
      "name": "python",
      "nbconvert_exporter": "python",
      "pygments_lexer": "ipython3",
      "version": "3.11.0"
    }
  },
  "nbformat": 4,
  "nbformat_minor": 5
}
