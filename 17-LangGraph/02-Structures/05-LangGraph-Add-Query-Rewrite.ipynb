{
 "cells": [
  {
   "cell_type": "markdown",
   "id": "635d8ebb",
   "metadata": {},
   "source": [
    "# LangGraph-Add-Query-Rewrite\n",
    "\n",
    "- Author: [Sunworl Kim](https://github.com/sunworl)\n",
    "- Design: [LeeYuChul](https://github.com/LeeYuChul)\n",
    "- Peer Review:\n",
    "- Proofread:\n",
    "- This is a part of [LangChain Open Tutorial](https://github.com/LangChain-OpenTutorial/LangChain-OpenTutorial)\n",
    "\n",
    "[![Open in Colab](https://colab.research.google.com/assets/colab-badge.svg)](https://colab.research.google.com/github/langchain-ai/langchain-academy/blob/main/module-4/sub-graph.ipynb) [![Open in LangChain Academy](https://cdn.prod.website-files.com/65b8cd72835ceeacd4449a53/66e9eba12c7b7688aa3dbb5e_LCA-badge-green.svg)](https://academy.langchain.com/courses/take/intro-to-langgraph/lessons/58239937-lesson-2-sub-graphs)\n",
    "\n",
    "## Overview\n",
    "\n",
    "In this tutorial, we will cover the process of restructuring the original question by incorporating a **Query Rewrite** step. When a user's question is received, it enables more effective searching. While using Naive RAG as a foundation, this process aims for us to add supplementary mechanisms through query rewriting and web search. The procedure is as follows:\n",
    "\n",
    "1. Perform Naive RAG\n",
    "2. Conduct Groundedness Check for Retrieved Documents (Groundedness Check)\n",
    "3. Web Search\n",
    "4. (This Tutorial) Query Rewrite \n",
    "\n",
    "[Note]\n",
    "As this builds upon a previous tutorial, there may be overlapping content. For any missing explanations, please refer to the previous tutorial.\n",
    "\n",
    "![image.png](assets/05-langgraph-add-query-rewrite-01.png)\n",
    "\n",
    "\n",
    "\n",
    "### Table of Contents\n",
    "\n",
    "- [Overview](#overview)\n",
    "- [Environment Setup](#environment-setup)\n",
    "- [Creating a Basic PDF-based Retrieval Chain](#creating-a-basic-pdf-based-retrieval-chain)\n",
    "- [Defining GraphState](#defining-state)\n",
    "- [Defining Nodes](#defining-nodes)\n",
    "- [Adding the Query Rewrite Node](#adding-the-query-rewrite-node)\n",
    "- [Defining Edges](#defining-edges)\n",
    "- [Running Graph](#running-graph)\n",
    "\n",
    "\n",
    "### References\n",
    "\n",
    "- [langgraph_agentic_rag](https://github.com/langchain-ai/langgraph/blob/main/examples/rag/langgraph_agentic_rag.ipynb)\n",
    "\n",
    "----"
   ]
  },
  {
   "cell_type": "markdown",
   "id": "c6c7aba4",
   "metadata": {},
   "source": [
    "## Environment Setup\n",
    "\n",
    "Set up the environment. You may refer to [Environment Setup](https://wikidocs.net/257836) for more details.\n",
    "\n",
    "**[Note]**\n",
    "- `langchain-opentutorial` is a package that provides a set of easy-to-use environment setup, useful functions and utilities for tutorials. \n",
    "\n",
    "- You can checkout the [`langchain-opentutorial`](https://github.com/LangChain-OpenTutorial/langchain-opentutorial-pypi) for more details."
   ]
  },
  {
   "cell_type": "code",
   "execution_count": 28,
   "id": "21943adb",
   "metadata": {},
   "outputs": [],
   "source": [
    "%%capture --no-stderr\n",
    "%pip install langchain-opentutorial"
   ]
  },
  {
   "cell_type": "code",
   "execution_count": 29,
   "id": "f25ec196",
   "metadata": {},
   "outputs": [],
   "source": [
    "# Install required packages\n",
    "from langchain_opentutorial import package\n",
    "\n",
    "package.install(\n",
    "    [\n",
    "        \"langsmith\",\n",
    "        \"langchain\",\n",
    "        \"langchain_openai\",\n",
    "        \"langgraph\",\n",
    "        \"typing\",\n",
    "        \"langchain_core\",\n",
    "        \"langchain-opentutorial\"\n",
    "    ],\n",
    "    verbose=False,\n",
    "    upgrade=False,\n",
    ")"
   ]
  },
  {
   "cell_type": "markdown",
   "id": "9158d8d7",
   "metadata": {},
   "source": [
    "You can alternatively set API keys such as `OPENAI_API_KEY` in a `.env` file and load them.\n",
    "\n",
    "[Note] This is not necessary if you've already set the required API keys in previous steps."
   ]
  },
  {
   "cell_type": "code",
   "execution_count": 30,
   "id": "7f9065ea",
   "metadata": {},
   "outputs": [
    {
     "name": "stdout",
     "output_type": "stream",
     "text": [
      "Environment variables have been set successfully.\n"
     ]
    }
   ],
   "source": [
    "from dotenv import load_dotenv\n",
    "from langchain_opentutorial import set_env\n",
    "\n",
    "# Attempt to load environment variables from a .env file; if unsuccessful, set them manually.\n",
    "if not load_dotenv():\n",
    "    set_env(\n",
    "        {\n",
    "            \"OPENAI_API_KEY\": \"\",\n",
    "            \"LANGCHAIN_API_KEY\": \"\",\n",
    "            \"LANGCHAIN_TRACING_V2\": \"true\",\n",
    "            \"LANGCHAIN_ENDPOINT\": \"https://api.smith.langchain.com\",\n",
    "            \"LANGCHAIN_PROJECT\": \"05-LangGraph-Add-Query-Rewrite\"  \n",
    "         }\n",
    "    )"
   ]
  },
  {
   "cell_type": "markdown",
   "id": "2b2fc536",
   "metadata": {},
   "source": [
    "## Creating a Basic PDF-based Retrieval Chain\n",
    "\n",
    "Here, we create a Retrieval Chain based on PDF documents. This is the simplest structure of a Retrieval Chain.\n",
    "\n",
    "However, in LangGraph, the Retriever and Chain are created separately. This allows for detailed processing at each node.\n",
    "\n",
    "**[Note]**\n",
    "\n",
    "Detailed explanations for this step can be found in the previous tutorial.\n"
   ]
  },
  {
   "cell_type": "code",
   "execution_count": 31,
   "id": "1b78d33f",
   "metadata": {},
   "outputs": [],
   "source": [
    "from rag.pdf import PDFRetrievalChain\n",
    "\n",
    "# Load the PDF document\n",
    "pdf = PDFRetrievalChain([\"data/A European Approach to Artificial Intelligence - A Policy Perspective.pdf\"]).create_chain()\n",
    "\n",
    "# Create retriever and chain\n",
    "pdf_retriever = pdf.retriever\n",
    "pdf_chain = pdf.chain"
   ]
  },
  {
   "cell_type": "markdown",
   "id": "c9e4d831",
   "metadata": {},
   "source": [
    "## Defining `GraphState`\n",
    "\n",
    "The `GraphState` object defines the shared state between nodes in the Langgraph.\n",
    "\n",
    "Generally, using a `TypedDict` is to ensure type safety and maintain a clear structure for the graph's state management.\n",
    "\n",
    "In this case, we'll add a field for relevance check results to the state.\n",
    "\n",
    "**[Note]**\n",
    "\n",
    "Here, we define `question` as a list to accomodate the rewritten queries that are additionally stored."
   ]
  },
  {
   "cell_type": "code",
   "execution_count": 32,
   "id": "0874c14b",
   "metadata": {},
   "outputs": [],
   "source": [
    "from typing import Annotated, TypedDict\n",
    "from langgraph.graph.message import add_messages\n",
    "\n",
    "\n",
    "# Define GraphState\n",
    "class GraphState(TypedDict):\n",
    "    question: Annotated[list[str], add_messages]  # Questions (accumulating list)\n",
    "    context: Annotated[str, \"Context\"]  # Search results from documents\n",
    "    answer: Annotated[str, \"Answer\"]  # Response\n",
    "    messages: Annotated[list, add_messages]  # Messages (accumulating list)\n",
    "    relevance: Annotated[str, \"Relevance\"]  # Relevance score"
   ]
  },
  {
   "cell_type": "markdown",
   "id": "d7c108df",
   "metadata": {},
   "source": [
    "## Defining Nodes\n",
    "\n",
    "**Nodes** represent individual processing steps. They are typically implemented as Python functions. Both input and output are `state` values.\n",
    "\n",
    "**[Note]**\n",
    "\n",
    "Each Node takes a `state` as input, performs its designated logic, and returns an updated `state`."
   ]
  },
  {
   "cell_type": "code",
   "execution_count": 33,
   "id": "2f56baf8",
   "metadata": {},
   "outputs": [],
   "source": [
    "from langchain_openai import ChatOpenAI\n",
    "from langchain_opentutorial.evaluator import GroundednessChecker\n",
    "from langchain_opentutorial.messages import messages_to_history\n",
    "from langchain_opentutorial.tools.tavily import TavilySearch\n",
    "from rag.utils import format_docs\n",
    "\n",
    "\n",
    "# Document retrieval node\n",
    "def retrieve_document(state: GraphState) -> GraphState:\n",
    "    # Get the question from the state\n",
    "    latest_question = state[\"question\"][-1].content\n",
    "\n",
    "    # Search the documents to find relevant ones\n",
    "    retrieved_docs = pdf_retriever.invoke(latest_question)\n",
    "\n",
    "    # Format the retrieved documents (to be used as prompt input)\n",
    "    retrieved_docs = format_docs(retrieved_docs)\n",
    "\n",
    "    # Store the retrieved documents in the context key\n",
    "    return GraphState(context=retrieved_docs)\n",
    "\n",
    "\n",
    "# Answer generation node\n",
    "def llm_answer(state: GraphState) -> GraphState:\n",
    "    # Get the question from the state\n",
    "    latest_question = state[\"question\"][-1].content\n",
    "\n",
    "    # Get the retrieved documents from the state\n",
    "    context = state[\"context\"]\n",
    "\n",
    "    # Call the chain to generate an answer\n",
    "    response = pdf_chain.invoke(\n",
    "        {\n",
    "            \"question\": latest_question,\n",
    "            \"context\": context,\n",
    "            \"chat_history\": messages_to_history(state[\"messages\"]),\n",
    "        }\n",
    "    )\n",
    "    # Store the generated answer and (user question, answer) messages in the state\n",
    "    return {\n",
    "        \"answer\": response,\n",
    "        \"messages\": [(\"user\", latest_question), (\"assistant\", response)],\n",
    "    }\n",
    "\n",
    "\n",
    "# Relevance check node\n",
    "def relevance_check(state: GraphState) -> GraphState:\n",
    "    # Create a relevance evaluator\n",
    "    question_answer_relevant = GroundednessChecker(\n",
    "        llm=ChatOpenAI(model=\"gpt-4o-mini\", temperature=0), target=\"question-retrieval\"\n",
    "    ).create()\n",
    "\n",
    "    # Execute relevance check\n",
    "    response = question_answer_relevant.invoke(\n",
    "        {\"question\": state[\"question\"][-1].content, \"context\": state[\"context\"]}\n",
    "    )\n",
    "\n",
    "    # Return the groundedness score\n",
    "    # Note: The groundedness checker here can be modified using your own prompt. Try creating and using your own Groundedness Check!\n",
    "    return {\"relevance\": response.score}\n",
    "\n",
    "\n",
    "# Function to check relevance (router)\n",
    "def is_relevant(state: GraphState) -> GraphState:\n",
    "    if state[\"relevance\"] == \"yes\":\n",
    "        return \"relevant\"\n",
    "    else:\n",
    "        return \"not relevant\"\n",
    "\n",
    "\n",
    "# Web Search node\n",
    "def web_search(state: GraphState) -> GraphState:\n",
    "    # Create search tool\n",
    "    tavily_tool = TavilySearch()\n",
    "\n",
    "    search_query = state[\"question\"]\n",
    "\n",
    "    # Search example using various parameters\n",
    "    search_result = tavily_tool.search(\n",
    "        query=search_query,  # Search query\n",
    "        topic=\"general\",  # General topic\n",
    "        max_results=6,  # Maximum search results\n",
    "        format_output=True,  # results format\n",
    "    )\n",
    "\n",
    "    return {\"context\": search_result}"
   ]
  },
  {
   "cell_type": "markdown",
   "id": "25a0901c",
   "metadata": {},
   "source": [
    "## Adding the Query Rewrite Node\n",
    "\n",
    "The **Query Rewrite Node** rewrites the original questions, using a prompt designed for query reformulation."
   ]
  },
  {
   "cell_type": "code",
   "execution_count": 34,
   "id": "a974ebbe",
   "metadata": {},
   "outputs": [],
   "source": [
    "from langchain_core.prompts import PromptTemplate\n",
    "from langchain_core.output_parsers import StrOutputParser\n",
    "\n",
    "# Define the prompt template for query rewriting\n",
    "re_write_prompt = PromptTemplate(\n",
    "    template=\"\"\"Reformulate the given question to enhance its effectiveness for vectorstore retrieval.\n",
    "\n",
    "- Analyze the initial question to identify areas for improvement such as specificity, clarity, and relevance.\n",
    "- Consider the context and potential keywords that would optimize retrieval.\n",
    "- Maintain the intent of the original question while enhancing its structure and vocabulary.\n",
    "\n",
    "# Steps\n",
    "\n",
    "1. **Understand the Original Question**: Identify the core intent and any keywords.\n",
    "2. **Enhance Clarity**: Simplify language and ensure the question is direct and to the point.\n",
    "3. **Optimize for Retrieval**: Add or rearrange keywords for better alignment with vectorstore indexing.\n",
    "4. **Review**: Ensure the improved question accurately reflects the original intent and is free of ambiguity.\n",
    "\n",
    "# Output Format\n",
    "\n",
    "- Provide a single, improved question.\n",
    "- Do not include any introductory or explanatory text; only the reformulated question.\n",
    "\n",
    "# Examples\n",
    "\n",
    "**Input**: \n",
    "\"What are the benefits of using renewable energy sources over fossil fuels?\"\n",
    "\n",
    "**Output**: \n",
    "\"How do renewable energy sources compare to fossil fuels in terms of benefits?\"\n",
    "\n",
    "**Input**: \n",
    "\"How does climate change impact polar bear populations?\"\n",
    "\n",
    "**Output**: \n",
    "\"What effects does climate change have on polar bear populations?\"\n",
    "\n",
    "# Notes\n",
    "\n",
    "- Ensure the improved question is concise and contextually relevant.\n",
    "- Avoid altering the fundamental intent or meaning of the original question.\n",
    "\n",
    "\n",
    "[REMEMBER] Re-written question should be in the same language as the original question.\n",
    "\n",
    "# Here is the original question that needs to be rewritten:\n",
    "{question}\n",
    "\"\"\",\n",
    "    input_variables=[\"generation\", \"question\"],\n",
    ")\n",
    "\n",
    "question_rewriter = (\n",
    "    re_write_prompt | ChatOpenAI(model=\"gpt-4o-mini\", temperature=0) | StrOutputParser()\n",
    ")"
   ]
  },
  {
   "cell_type": "markdown",
   "id": "c45ed7be",
   "metadata": {},
   "source": [
    "This node utilizes a `question_rewriter` function to rewrite the question."
   ]
  },
  {
   "cell_type": "code",
   "execution_count": 35,
   "id": "1c8e5a81",
   "metadata": {},
   "outputs": [
    {
     "data": {
      "text/plain": [
       "'What are the current applications of AI in healthcare and their limitations?'"
      ]
     },
     "execution_count": 35,
     "metadata": {},
     "output_type": "execute_result"
    }
   ],
   "source": [
    "# Query Rewriting\n",
    "question = \"Where has the application of AI in healthcare been confined to so far?\"\n",
    "\n",
    "question_rewriter.invoke({\"question\": question})"
   ]
  },
  {
   "cell_type": "code",
   "execution_count": 36,
   "id": "e2c5b430",
   "metadata": {},
   "outputs": [],
   "source": [
    "# Query Rewrite Node\n",
    "def query_rewrite(state: GraphState) -> GraphState:\n",
    "    latest_question = state[\"question\"][-1].content\n",
    "    question_rewritten = question_rewriter.invoke({\"question\": latest_question})\n",
    "    return {\"question\": question_rewritten}"
   ]
  },
  {
   "cell_type": "markdown",
   "id": "5e07e356",
   "metadata": {},
   "source": [
    "## Defining Edges\n",
    "\n",
    "**Edges** determine the next **Node** to execute based on the current `state`.\n",
    "\n",
    "There are different types such as regular edges and conditional edges."
   ]
  },
  {
   "cell_type": "code",
   "execution_count": 37,
   "id": "004c1d20",
   "metadata": {},
   "outputs": [],
   "source": [
    "from langgraph.graph import END, StateGraph\n",
    "from langgraph.checkpoint.memory import MemorySaver\n",
    "\n",
    "# Define graph\n",
    "workflow = StateGraph(GraphState)\n",
    "\n",
    "# Add nodes\n",
    "workflow.add_node(\"retrieve\", retrieve_document)\n",
    "workflow.add_node(\"relevance_check\", relevance_check)\n",
    "workflow.add_node(\"llm_answer\", llm_answer)\n",
    "workflow.add_node(\"web_search\", web_search)\n",
    "\n",
    "# Add Query Rewrite node\n",
    "workflow.add_node(\"query_rewrite\", query_rewrite)\n",
    "\n",
    "# Add edges\n",
    "workflow.add_edge(\"query_rewrite\", \"retrieve\")  # Query rewrite -> Retrieval\n",
    "workflow.add_edge(\"retrieve\", \"relevance_check\")  # Retrieval -> Relevance check\n",
    "\n",
    "# Add conditional edges\n",
    "workflow.add_conditional_edges(\n",
    "    \"relevance_check\",  # Passes the output from relevance check node to is_relevant function\n",
    "    is_relevant,\n",
    "    {\n",
    "        \"relevant\": \"llm_answer\",  # If relevant, generate answer\n",
    "        \"not relevant\": \"web_search\",  # If not relevant, perform web search\n",
    "    },\n",
    ")\n",
    "\n",
    "workflow.add_edge(\"web_search\", \"llm_answer\")  # Web search -> Answer\n",
    "workflow.add_edge(\"llm_answer\", END)  # Answer -> End\n",
    "\n",
    "# Set graph entry point\n",
    "workflow.set_entry_point(\"query_rewrite\")\n",
    "\n",
    "# Set checkpointer\n",
    "memory = MemorySaver()\n",
    "\n",
    "# Compile graph\n",
    "app = workflow.compile(checkpointer=memory)"
   ]
  },
  {
   "cell_type": "markdown",
   "id": "f1bee360",
   "metadata": {},
   "source": [
    "Let's visualize the compiled graph structure."
   ]
  },
  {
   "cell_type": "code",
   "execution_count": 38,
   "id": "aeac1b1b",
   "metadata": {},
   "outputs": [
    {
     "data": {
      "image/png": "[encoded data removed]",
      "text/plain": [
       "<IPython.core.display.Image object>"
      ]
     },
     "metadata": {},
     "output_type": "display_data"
    }
   ],
   "source": [
    "from langchain_opentutorial.graphs import visualize_graph\n",
    "\n",
    "visualize_graph(app)"
   ]
  },
  {
   "cell_type": "markdown",
   "id": "5fc43b99",
   "metadata": {},
   "source": [
    "## Running Graph\n",
    "\n",
    "- `config` parameter: Passes configuration settings required for running the graph.\n",
    "\n",
    "- `recursion_limit`: Sets a limit on the number of recursions when running the graph.\n",
    "\n",
    "- `inputs`: Passes the input information required for running the graph.\n",
    "\n",
    "\n",
    "If the `relevance_check` of the initial search results fails, it performs web search and provides web search results."
   ]
  },
  {
   "cell_type": "code",
   "execution_count": 39,
   "id": "d1221d80",
   "metadata": {},
   "outputs": [
    {
     "name": "stdout",
     "output_type": "stream",
     "text": [
      "\n",
      "==================================================\n",
      "🔄 Node: \u001b[1;36mquery_rewrite\u001b[0m 🔄\n",
      "- - - - - - - - - - - - - - - - - - - - - - - - - \n",
      "\u001b[1;32mquestion\u001b[0m:\n",
      "What are the current applications of AI in healthcare?\n",
      "==================================================\n",
      "\n",
      "==================================================\n",
      "🔄 Node: \u001b[1;36mretrieve\u001b[0m 🔄\n",
      "- - - - - - - - - - - - - - - - - - - - - - - - - \n",
      "\u001b[1;32mcontext\u001b[0m:\n",
      "<document><content>activities. So far, however, AI applications in healthcare have been potential. Specific healthcare training should be provided to data\n",
      "confined to administrative tasks (i.e., Natural Language Processing scientists working in hospitals so that they can better understand</content><source>data/A European Approach to Artificial Intelligence - A Policy Perspective.pdf</source><page>15</page></document>\n",
      "<document><content>are great, as more use of AI in research and development could\n",
      "Healthcare is arguably the sector where AI could make the lead to a more personalised healthcare based on patients’ data.</content><source>data/A European Approach to Artificial Intelligence - A Policy Perspective.pdf</source><page>15</page></document>\n",
      "<document><content>same. The Covid-19 crisis has shown how strained our National\n",
      "Healthcare Systems are, and AI solutions could help meet the cur- AI in the healthcare faces organisational and skill challenges. One</content><source>data/A European Approach to Artificial Intelligence - A Policy Perspective.pdf</source><page>15</page></document>\n",
      "<document><content>advanced robots, autonomous cars, drones or Internet of Things place, a recent EIT Health Report envisages more in healthcare in\n",
      "applications)”. Broad AI definitions cover several technologies, in- the near future, such as remote monitoring, AI-powered alerting</content><source>data/A European Approach to Artificial Intelligence - A Policy Perspective.pdf</source><page>4</page></document>\n",
      "<document><content>EIT Health and McKinsey & Company, (2020), Transforming healthcare with AI. Impact Scherer, M. (2016). Regulating Artificial Intelligence Systems: Risks, Challenges, Compe-</content><source>data/A European Approach to Artificial Intelligence - A Policy Perspective.pdf</source><page>22</page></document>\n",
      "<document><content>intermediate / professional users (i.e., healthcare professionals). the safety of employees. The key application of AI is certainly in\n",
      "This is a matter of privacy and personal data protection, of building predictive maintenance. Yet, the more radical transformation of</content><source>data/A European Approach to Artificial Intelligence - A Policy Perspective.pdf</source><page>11</page></document>\n",
      "<document><content>very sensitive. An extensive use to feed AI tools can the use of patient’s data in the hospitals that deploy\n",
      "Health data raise many concerns. Data ownership is also an issue AI-powered applications. The patients should be aware</content><source>data/A European Approach to Artificial Intelligence - A Policy Perspective.pdf</source><page>16</page></document>\n",
      "<document><content>Remote sible, as AI solutions can increasingly divert patients ning healthcare professionals, starting from the simple\n",
      "healthcare to appropriate solutions for their specific symptoms tasks and diagnostic appointments.\n",
      "and underlying conditions.\n",
      "16</content><source>data/A European Approach to Artificial Intelligence - A Policy Perspective.pdf</source><page>16</page></document>\n",
      "<document><content>greatest impact in addressing societal challenges. Given rising de- A second challenge is that of finding a common language and un-\n",
      "mands and costs, AI could help doing more and better with the derstanding between data experts and healthcare professionals.</content><source>data/A European Approach to Artificial Intelligence - A Policy Perspective.pdf</source><page>15</page></document>\n",
      "<document><content>to extract information from clinical notes or predictive scheduling healthcare practitioners needs. In addition, at the regulatory le-\n",
      "of the visits) and diagnostic (machine and deep learning applied to vel it is important that new AI regulation is harmonised with other</content><source>data/A European Approach to Artificial Intelligence - A Policy Perspective.pdf</source><page>15</page></document>\n",
      "==================================================\n",
      "\n",
      "==================================================\n",
      "🔄 Node: \u001b[1;36mrelevance_check\u001b[0m 🔄\n",
      "- - - - - - - - - - - - - - - - - - - - - - - - - \n",
      "\u001b[1;32mrelevance\u001b[0m:\n",
      "yes\n",
      "==================================================\n",
      "\n",
      "==================================================\n",
      "🔄 Node: \u001b[1;36mllm_answer\u001b[0m 🔄\n",
      "- - - - - - - - - - - - - - - - - - - - - - - - - \n",
      "\u001b[1;32manswer\u001b[0m:\n",
      "Current applications of AI in healthcare include remote monitoring, AI-powered alerting, predictive maintenance, and the use of machine and deep learning for extracting information from clinical notes and predictive scheduling of visits. These applications aim to enhance personalized healthcare based on patient data and improve the efficiency of healthcare systems.\n",
      "\n",
      "**Source**\n",
      "- data/A European Approach to Artificial Intelligence - A Policy Perspective.pdf (page 4, 15, 16)\n",
      "('user', 'What are the current applications of AI in healthcare?')\n",
      "('assistant', 'Current applications of AI in healthcare include remote monitoring, AI-powered alerting, predictive maintenance, and the use of machine and deep learning for extracting information from clinical notes and predictive scheduling of visits. These applications aim to enhance personalized healthcare based on patient data and improve the efficiency of healthcare systems.\\n\\n**Source**\\n- data/A European Approach to Artificial Intelligence - A Policy Perspective.pdf (page 4, 15, 16)')\n",
      "==================================================\n",
      "\n",
      "--- OUTPUTS ---\n",
      "\n",
      "Question: [HumanMessage(content='Where has the application of AI in healthcare been confined to so far?', additional_kwargs={}, response_metadata={}, id='1810913a-a2e8-4a5c-a5e2-4385db8d7ec2'), HumanMessage(content='What are the current applications of AI in healthcare?', additional_kwargs={}, response_metadata={}, id='26f3404e-f469-4926-bfd3-f82b666678c6')]\n",
      "Answer:\n",
      " Current applications of AI in healthcare include remote monitoring, AI-powered alerting, predictive maintenance, and the use of machine and deep learning for extracting information from clinical notes and predictive scheduling of visits. These applications aim to enhance personalized healthcare based on patient data and improve the efficiency of healthcare systems.\n",
      "\n",
      "**Source**\n",
      "- data/A European Approach to Artificial Intelligence - A Policy Perspective.pdf (page 4, 15, 16)\n",
      "Relevance: yes\n"
     ]
    }
   ],
   "source": [
    "from langchain_core.runnables import RunnableConfig\n",
    "from langchain_opentutorial.messages import stream_graph, invoke_graph, random_uuid\n",
    "from langgraph.errors import GraphRecursionError\n",
    "\n",
    "# Configure settings (max recursion count, thread_id)\n",
    "config = RunnableConfig(recursion_limit=10, configurable={\"thread_id\": random_uuid()})\n",
    "\n",
    "# Input question\n",
    "inputs = GraphState(question=\"Where has the application of AI in healthcare been confined to so far?\")\n",
    "\n",
    "# Execute the graph\n",
    "try:\n",
    "    invoke_graph(app, inputs, config)\n",
    "    outputs = app.get_state(config)\n",
    "\n",
    "    # Access the values dictionary within StateSnapshot\n",
    "    output_values = outputs.values\n",
    "\n",
    "    # Display the results\n",
    "    print(\"\\n--- OUTPUTS ---\\n\")\n",
    "    print(\"Question:\", output_values[\"question\"])\n",
    "    print(\"Answer:\\n\", output_values[\"answer\"])\n",
    "    print(\"Relevance:\", output_values[\"relevance\"])\n",
    "except GraphRecursionError as recursion_error:\n",
    "    print(f\"GraphRecursionError: {recursion_error}\")\n",
    "except Exception as e:\n",
    "    print(f\"Unexpected Error: {e}\")"
   ]
  },
  {
   "cell_type": "markdown",
   "id": "927cac10",
   "metadata": {},
   "source": [
    "The evaluator summarized above follows this."
   ]
  },
  {
   "cell_type": "code",
   "execution_count": 40,
   "id": "2fa5e0d7",
   "metadata": {},
   "outputs": [
    {
     "name": "stdout",
     "output_type": "stream",
     "text": [
      "\n",
      "==================================================\n",
      "🔄 Node: \u001b[1;36mquery_rewrite\u001b[0m 🔄\n",
      "- - - - - - - - - - - - - - - - - - - - - - - - - \n",
      "What are the current applications of AI in healthcare and their limitations?\n",
      "==================================================\n",
      "🔄 Node: \u001b[1;36mllm_answer\u001b[0m 🔄\n",
      "- - - - - - - - - - - - - - - - - - - - - - - - - \n",
      "Current applications of AI in healthcare include remote monitoring, AI-powered alerting, predictive maintenance, and personalized healthcare based on patient data. However, limitations include organizational and skill challenges, concerns over data ownership and privacy, and the need for better communication between data experts and healthcare professionals.\n",
      "\n",
      "**Source**\n",
      "- data/A European Approach to Artificial Intelligence - A Policy Perspective.pdf (pages 4, 15, 16)"
     ]
    }
   ],
   "source": [
    "# Running graph\n",
    "stream_graph(app, inputs, config, [\"query_rewrite\", \"llm_answer\"])"
   ]
  },
  {
   "cell_type": "code",
   "execution_count": 41,
   "id": "ef397b71",
   "metadata": {},
   "outputs": [
    {
     "name": "stdout",
     "output_type": "stream",
     "text": [
      "Original Question: Where has the application of AI in healthcare been confined to so far?\n",
      "Rewritten Question: What are the current applications of AI in healthcare and their limitations?\n",
      "============================================================\n",
      "Answer:\n",
      "Current applications of AI in healthcare include remote monitoring, AI-powered alerting, predictive maintenance, and personalized healthcare based on patient data. However, limitations include organizational and skill challenges, concerns over data ownership and privacy, and the need for better communication between data experts and healthcare professionals.\n",
      "\n",
      "**Source**\n",
      "- data/A European Approach to Artificial Intelligence - A Policy Perspective.pdf (pages 4, 15, 16)\n"
     ]
    }
   ],
   "source": [
    "# Check final outputs\n",
    "outputs = app.get_state(config).values\n",
    "\n",
    "print(f'Original Question: {outputs[\"question\"][0].content}')\n",
    "print(f'Rewritten Question: {outputs[\"question\"][-1].content}')\n",
    "print(\"===\" * 20)\n",
    "print(f'Answer:\\n{outputs[\"answer\"]}')"
   ]
  }
 ],
 "metadata": {
  "kernelspec": {
   "display_name": "langchain-opentutorial-PEU2YJdv-py3.11",
   "language": "python",
   "name": "python3"
  },
  "language_info": {
   "codemirror_mode": {
    "name": "ipython",
    "version": 3
   },
   "file_extension": ".py",
   "mimetype": "text/x-python",
   "name": "python",
   "nbconvert_exporter": "python",
   "pygments_lexer": "ipython3",
   "version": "3.11.9"
  }
 },
 "nbformat": 4,
 "nbformat_minor": 5
}
