{
  "cells": [
    {
      "cell_type": "markdown",
      "id": "635d8ebb",
      "metadata": {},
      "source": [
        "# Adaptive RAG\n",
        "\n",
        "- Author: [Yoonji Oh](https://github.com/samdaseuss)\n",
        "- Design: [LeeYuChul](https://github.com/LeeYuChul)\n",
        "- Peer Review: \n",
        "- This is a part of [LangChain Open Tutorial](https://github.com/LangChain-OpenTutorial/LangChain-OpenTutorial)\n",
        "\n",
        "[![Open in Colab](https://colab.research.google.com/assets/colab-badge.svg)](https://colab.research.google.com/github/LangChain-OpenTutorial/LangChain-OpenTutorial/blob/main/99-TEMPLATE/00-BASE-TEMPLATE-EXAMPLE.ipynb) [![Open in GitHub](https://img.shields.io/badge/Open%20in%20GitHub-181717?style=flat-square&logo=github&logoColor=white)](https://github.com/LangChain-OpenTutorial/LangChain-OpenTutorial/blob/main/99-TEMPLATE/00-BASE-TEMPLATE-EXAMPLE.ipynb)\n",
        "\n",
        "## Overview\n",
        "\n",
        "This tutorial introduces Adaptive RAG, which finds information and generates answers in a smarter way. Adaptive RAG is a system that analyzes the nature of questions using AI, selects the most appropriate method such as web search or internal document search to find information, and creates the best possible answer by trying different methods when necessary. In this tutorial, we implement routing between web search and internal document search using LangGraph.\n",
        "\n",
        "The purpose of this tutorial is to help users understand the concept of Adaptive RAG and learn how to implement it using LangGraph. Through this, users can perform web searches for questions related to recent events and utilize internal document search with self-correcting capabilities for questions related to indexed content.\n",
        "\n",
        "**What We Will Learn** \n",
        "\n",
        "* **Preparing Data (Create Index)**  \n",
        "  Convert documents into a format our system can understand and load them\n",
        "  \n",
        "* **Using AI (LLMs)**  \n",
        "  Use AI to analyze questions and evaluate how good our retrieved documents are\n",
        "  \n",
        "* **Building Web Search Tool (Web Search Tool)**  \n",
        "  Set up tools to search for up-to-date information on the web\n",
        "  \n",
        "* **Designing System Structure (Construct the Graph)**  \n",
        "  Design how our system will work and in what order\n",
        "  \n",
        "* **Completing the System (Compile Graph)**  \n",
        "  Turn our design into a working system\n",
        "  \n",
        "* **Testing in Action (Use Graph)**  \n",
        "  Run our completed system and verify it works properly\n",
        "\n",
        "\n",
        "### Table of Contents\n",
        "\n",
        "- [Overview](#overview)\n",
        "- [Environement Setup](#environment-setup)\n",
        "- [Why Adaptive RAG?](#why-adaptive-rag)\n",
        "- [Creating a Basic PDF-based Retrieval Chain](#creating-a-basic-pdf-based-retrieval-chain)\n",
        "- [Query Routing and Document Evaluation](#query-routing-and-document-evaluation)\n",
        "- [Tools](#tools)\n",
        "- [Graph Construction](#graph-construction) \n",
        "- [Define Graph Flows](#define-graph-flows)\n",
        "- [Graph Utilization](#graph-utilization)\n",
        "\n",
        "### References\n",
        "\n",
        "- [LangChain: Query Construction](https://blog.langchain.dev/query-construction/)\n",
        "- [LangGraph: Self-Reflective RAG](https://blog.langchain.dev/agentic-rag-with-langgraph/)\n",
        "- [Adaptive-RAG: Learning to Adapt Retrieval-Augmented Large Language Models through Question Complexity](https://arxiv.org/abs/2403.14403)\n",
        "----"
      ]
    },
    {
      "cell_type": "markdown",
      "id": "c6c7aba4",
      "metadata": {},
      "source": [
        "## Environment Setup\n",
        "\n",
        "Set up the environment. You may refer to [Environment Setup](https://wikidocs.net/257836) for more details.\n",
        "\n",
        "**[Note]**\n",
        "- `langchain-opentutorial` is a package that provides a set of easy-to-use environment setup, useful functions and utilities for tutorials. \n",
        "- You can checkout the [`langchain-opentutorial`](https://github.com/LangChain-OpenTutorial/langchain-opentutorial-pypi) for more details."
      ]
    },
    {
      "cell_type": "code",
      "execution_count": 1,
      "id": "21943adb",
      "metadata": {},
      "outputs": [],
      "source": [
        "%%capture --no-stderr\n",
        "%pip install langchain-opentutorial"
      ]
    },
    {
      "cell_type": "code",
      "execution_count": 2,
      "id": "f25ec196",
      "metadata": {},
      "outputs": [
        {
          "name": "stderr",
          "output_type": "stream",
          "text": [
            "\n",
            "\u001b[1m[\u001b[0m\u001b[34;49mnotice\u001b[0m\u001b[1;39;49m]\u001b[0m\u001b[39;49m A new release of pip is available: \u001b[0m\u001b[31;49m24.3.1\u001b[0m\u001b[39;49m -> \u001b[0m\u001b[32;49m25.0\u001b[0m\n",
            "\u001b[1m[\u001b[0m\u001b[34;49mnotice\u001b[0m\u001b[1;39;49m]\u001b[0m\u001b[39;49m To update, run: \u001b[0m\u001b[32;49mpip install --upgrade pip\u001b[0m\n"
          ]
        }
      ],
      "source": [
        "# Install required packages\n",
        "from langchain_opentutorial import package\n",
        "\n",
        "package.install(\n",
        "    [\n",
        "        \"langchain\",\n",
        "        \"langchain_core\",\n",
        "        \"langchain_community\",\n",
        "        \"langchain_openai\",\n",
        "    ],\n",
        "    verbose=False,\n",
        "    upgrade=False,\n",
        ")"
      ]
    },
    {
      "cell_type": "code",
      "execution_count": 3,
      "id": "7f9065ea",
      "metadata": {},
      "outputs": [
        {
          "name": "stdout",
          "output_type": "stream",
          "text": [
            "Environment variables have been set successfully.\n"
          ]
        }
      ],
      "source": [
        "# Set environment variables\n",
        "from langchain_opentutorial import set_env\n",
        "\n",
        "set_env(\n",
        "    {\n",
        "        \"OPENAI_API_KEY\": \"\",\n",
        "        \"LANGCHAIN_API_KEY\": \"\",\n",
        "        \"LANGCHAIN_TRACING_V2\": \"true\",\n",
        "        \"LANGCHAIN_ENDPOINT\": \"https://api.smith.langchain.com\",\n",
        "        \"LANGCHAIN_PROJECT\": \"Adaptive-RAG\"\n",
        "    }\n",
        ")"
      ]
    },
    {
      "cell_type": "markdown",
      "id": "690a9ae0",
      "metadata": {},
      "source": [
        "You can alternatively set API keys such as `OPENAI_API_KEY` in a `.env` file and load them.\n",
        "\n",
        "[NOTE] \n",
        "\n",
        "This is not necessary if you've already set the required API keys in previous steps."
      ]
    },
    {
      "cell_type": "code",
      "execution_count": 4,
      "id": "4f99b5b6",
      "metadata": {},
      "outputs": [
        {
          "data": {
            "text/plain": [
              "True"
            ]
          },
          "execution_count": 4,
          "metadata": {},
          "output_type": "execute_result"
        }
      ],
      "source": [
        "# Load API keys from .env file\n",
        "from dotenv import load_dotenv\n",
        "\n",
        "load_dotenv(override=True)"
      ]
    },
    {
      "cell_type": "markdown",
      "id": "616661ad",
      "metadata": {},
      "source": [
        "## Why Adaptive RAG?\n",
        "Let's say an astrophysicist asks these questions to an AI chatbot:\n",
        "\n",
        "1. \"Sagittarius A* just released an unprecedented burst of X-rays - why is this significant?\"\n",
        "2. \"Can you analyze how Sagittarius A*'s X-ray emission patterns have changed over the past 5 years?\"\n",
        "\n",
        "While a conventional RAG system would approach information retrieval the same way every time, Adaptive RAG recognizes the different nature of these questions and responds accordingly:\n",
        "\n",
        "* **Current X-ray burst** → Search the web for real-time observations and urgent analysis from scientists\n",
        "* **X-ray emission patterns** → Analyze 5 years of observational records from our astrophysics database\n",
        "* Ability to self-correct if the answer is inaccurate\n",
        "\n",
        "**Adaptive RAG** is a **RAG** strategy that combines (1) **query analysis** and (2) **Self-Reflective RAG**.\n",
        "\n",
        "The paper \"Adaptive-RAG: Learning to Adapt Retrieval-Augmented Large Language Models through Question Complexity\" performs routing through query analysis in the following ways:\n",
        "* `No Retrieval` \n",
        "* `Single-shot RAG` \n",
        "* `Iterative RAG` \n",
        "\n",
        "We implement this using LangGraph.\n",
        "In this implementation, we perform the following routing:\n",
        "* **Web Search** : Used for questions about recent events\n",
        "* **Self-correcting RAG** : Used for questions about indexed content\n",
        "\n",
        "<div style=\"text-align: center;\">\n",
        "    <img src=\"./assets/07-langgraph-adaptive-rag-01.png\" alt=\"Image Description\" width=\"500\">\n",
        "</div>"
      ]
    },
    {
      "cell_type": "markdown",
      "id": "aa00c3f4",
      "metadata": {},
      "source": [
        "## Creating a Basic PDF-based Retrieval Chain\n",
        "Here we create a Retrieval Chain based on PDF documents. This is the most basic structure of a Retrieval Chain.\n",
        "Note that in LangGraph, we create the Retriever and Chain separately. This allows us to process each node in detail.\n",
        "\n",
        "**Note**\n",
        "* Since this was covered in the previous tutorial, we'll skip the detailed explanations."
      ]
    },
    {
      "cell_type": "code",
      "execution_count": 5,
      "id": "4e4dd488",
      "metadata": {},
      "outputs": [
        {
          "name": "stdout",
          "output_type": "stream",
          "text": [
            "\n",
            "\u001b[1m[\u001b[0m\u001b[34;49mnotice\u001b[0m\u001b[1;39;49m]\u001b[0m\u001b[39;49m A new release of pip is available: \u001b[0m\u001b[31;49m24.3.1\u001b[0m\u001b[39;49m -> \u001b[0m\u001b[32;49m25.0\u001b[0m\n",
            "\u001b[1m[\u001b[0m\u001b[34;49mnotice\u001b[0m\u001b[1;39;49m]\u001b[0m\u001b[39;49m To update, run: \u001b[0m\u001b[32;49mpip install --upgrade pip\u001b[0m\n",
            "Note: you may need to restart the kernel to use updated packages.\n"
          ]
        }
      ],
      "source": [
        "%pip install -qU langchain langchain-chroma"
      ]
    },
    {
      "cell_type": "code",
      "execution_count": 6,
      "id": "c15d0936",
      "metadata": {},
      "outputs": [],
      "source": [
        "file_path = 'data/A European Approach to Artificial Intelligence - A Policy Perspective.pdf'"
      ]
    },
    {
      "cell_type": "code",
      "execution_count": 7,
      "id": "74cd41ad",
      "metadata": {},
      "outputs": [],
      "source": [
        "from enum import Enum\n",
        "\n",
        "class LLMs(Enum):\n",
        "    GPT4o_MINI = \"gpt-4o-mini\"\n",
        "    GPT4o = \"gpt-4o\"\n",
        "    GPT4 = GPT4o_MINI\n",
        "\n",
        "    O1_PREVIEW = \"o1-preview\"\n",
        "    O1_MINI = \"o1-mini\"\n",
        "    O1 = O1_MINI\n",
        "\n",
        "    CLAUDE_SONNET = \"claude-3-5-sonnet-20241022\"\n",
        "    CLAUDE_HAIKU = \"claude-3-5-haiku-20241022\"\n",
        "    CLAUDE = CLAUDE_SONNET\n",
        "\n",
        "    UPSTAGE_SOLAR_MINI = \"solar-mini\"\n",
        "    UPSTAGE_SOLAR_PRO = \"solar-pro\"\n",
        "    UPSTAGE = UPSTAGE_SOLAR_PRO\n",
        "\n",
        "def get_model_name(model: LLMs) -> str:\n",
        "    \"\"\"\n",
        "    :type model: LLMs\n",
        "    :rtype: str\n",
        "    \"\"\"\n",
        "    try:\n",
        "        # Return the final value if the value is an Enum member\n",
        "        current_value = model.value\n",
        "        while isinstance(current_value, Enum):\n",
        "            current_value = current_value.value\n",
        "        return current_value\n",
        "    except AttributeError:\n",
        "        return None"
      ]
    },
    {
      "cell_type": "code",
      "execution_count": 8,
      "id": "12e1b64d",
      "metadata": {},
      "outputs": [],
      "source": [
        "from langchain_community.document_loaders import PDFPlumberLoader\n",
        "from langchain_chroma import Chroma\n",
        "from langchain_openai.embeddings import OpenAIEmbeddings\n",
        "from langchain_core.prompts import ChatPromptTemplate\n",
        "from langchain.chains.combine_documents import create_stuff_documents_chain\n",
        "from langchain_core.runnables import RunnablePassthrough\n",
        "from langchain_openai import ChatOpenAI\n",
        "\n",
        "# Create document loader\n",
        "loader = PDFPlumberLoader(file_path)\n",
        "\n",
        "# Load documents\n",
        "documents = loader.load()\n",
        "\n",
        "# Create embeddings\n",
        "embeddings = OpenAIEmbeddings()\n",
        "\n",
        "# Create vector store\n",
        "vectorstore = Chroma.from_documents(documents, embeddings)\n",
        "\n",
        "# Create retriever\n",
        "pdf_retriever = vectorstore.as_retriever()\n",
        "\n",
        "# Get the latest LLM model name\n",
        "MODEL_NAME = get_model_name(LLMs.GPT4o)\n",
        "\n",
        "# Initialize LLM and generate structured output through function calling\n",
        "llm = ChatOpenAI(model=MODEL_NAME, temperature=0)\n",
        "\n",
        "prompt = ChatPromptTemplate.from_template(\"\"\"Answer the following question based on the provided context:\\n\\nContext: {context}\\nQuestion: {question}\\n\\nAnswer the question based only on the above context.\"\"\")\n",
        "\n",
        "# Create document chain\n",
        "document_chain = create_stuff_documents_chain(llm, prompt)\n",
        "\n",
        "# Create retrieval chain\n",
        "chain = (\n",
        "    {\"context\": pdf_retriever, \"question\": RunnablePassthrough()} \n",
        "    | document_chain\n",
        ")"
      ]
    },
    {
      "cell_type": "markdown",
      "id": "2b2fc536",
      "metadata": {},
      "source": [
        "## Query Routing and Document Evaluation\n",
        "The **LLMs** stage performs **query routing** and **document evaluation** . This process is a crucial part of **Adaptive RAG** , contributing to efficient information retrieval and generation.\n",
        "\n",
        "* **Query Routing** : Analyzes user queries to route them to appropriate information sources. This enables setting the optimal search path based on the query's purpose.\n",
        "* **Document Evaluation** : Assesses the quality and relevance of retrieved documents to enhance the accuracy of final results. This process is essential for maximizing the performance of **LLMs** .\n",
        "\n",
        "This stage supports the core functionality of **Adaptive RAG** and aims to provide accurate and reliable information."
      ]
    },
    {
      "cell_type": "code",
      "execution_count": 9,
      "id": "1b78d33f",
      "metadata": {},
      "outputs": [],
      "source": [
        "from typing import Literal\n",
        "from langchain_core.prompts import ChatPromptTemplate\n",
        "from pydantic import BaseModel, Field\n",
        "\n",
        "# Data model for routing user queries to the most relevant data source\n",
        "class RouteQuery(BaseModel):\n",
        "   \"\"\"Route a user query to the most relevant datasource.\"\"\"\n",
        "\n",
        "   # Literal type field for selecting data source\n",
        "   datasource: Literal[\"vectorstore\", \"web_search\"] = Field(\n",
        "       ...,\n",
        "       description=\"Given a user question choose to route it to web search or a vectorstore.\",\n",
        "   )\n",
        "\n",
        "structured_llm_router = llm.with_structured_output(RouteQuery)\n",
        "\n",
        "# Create prompt template containing system message and user question\n",
        "system = \"\"\"You are an expert at routing a user question to a vectorstore or web search.\n",
        "The vectorstore contains documents related to \"A European Approach to Artificial Intelligence - A Policy Perspective\".\n",
        "Use the vectorstore for questions on European AI policy and regulations. Otherwise, use web-search.\"\"\"\n",
        "\n",
        "# Create prompt template for routing\n",
        "route_prompt = ChatPromptTemplate(\n",
        "   [\n",
        "       (\"system\", system),\n",
        "       (\"human\", \"{question}\"),\n",
        "   ]\n",
        ")\n",
        "\n",
        "# Combine prompt template and structured LLM router to create question router\n",
        "question_router = route_prompt | structured_llm_router"
      ]
    },
    {
      "cell_type": "markdown",
      "id": "c9e4d831",
      "metadata": {},
      "source": [
        "Now let's pass questions to our `rag_chain` to generate responses."
      ]
    },
    {
      "cell_type": "code",
      "execution_count": 10,
      "id": "0874c14b",
      "metadata": {},
      "outputs": [
        {
          "name": "stderr",
          "output_type": "stream",
          "text": [
            "Failed to multipart ingest runs: langsmith.utils.LangSmithError: Failed to POST https://api.smith.langchain.com/runs/multipart in LangSmith API. HTTPError('403 Client Error: Forbidden for url: https://api.smith.langchain.com/runs/multipart', '{\"detail\":\"Forbidden\"}')\n"
          ]
        },
        {
          "data": {
            "text/plain": [
              "RouteQuery(datasource='vectorstore')"
            ]
          },
          "execution_count": 10,
          "metadata": {},
          "output_type": "execute_result"
        }
      ],
      "source": [
        "# Question that needs document search\n",
        "question_router.invoke({\"question\": \"According to the European approach, what are the current limitations of AI applications in healthcare settings?According to the European approach, what are the current limitations of AI applications in healthcare settings?\"})"
      ]
    },
    {
      "cell_type": "code",
      "execution_count": 11,
      "id": "a2d22b26",
      "metadata": {},
      "outputs": [
        {
          "name": "stderr",
          "output_type": "stream",
          "text": [
            "Failed to multipart ingest runs: langsmith.utils.LangSmithError: Failed to POST https://api.smith.langchain.com/runs/multipart in LangSmith API. HTTPError('403 Client Error: Forbidden for url: https://api.smith.langchain.com/runs/multipart', '{\"detail\":\"Forbidden\"}')\n",
            "Failed to multipart ingest runs: langsmith.utils.LangSmithError: Failed to POST https://api.smith.langchain.com/runs/multipart in LangSmith API. HTTPError('403 Client Error: Forbidden for url: https://api.smith.langchain.com/runs/multipart', '{\"detail\":\"Forbidden\"}')\n",
            "Failed to multipart ingest runs: langsmith.utils.LangSmithError: Failed to POST https://api.smith.langchain.com/runs/multipart in LangSmith API. HTTPError('403 Client Error: Forbidden for url: https://api.smith.langchain.com/runs/multipart', '{\"detail\":\"Forbidden\"}')\n",
            "Failed to multipart ingest runs: langsmith.utils.LangSmithError: Failed to POST https://api.smith.langchain.com/runs/multipart in LangSmith API. HTTPError('403 Client Error: Forbidden for url: https://api.smith.langchain.com/runs/multipart', '{\"detail\":\"Forbidden\"}')\n",
            "Failed to multipart ingest runs: langsmith.utils.LangSmithError: Failed to POST https://api.smith.langchain.com/runs/multipart in LangSmith API. HTTPError('403 Client Error: Forbidden for url: https://api.smith.langchain.com/runs/multipart', '{\"detail\":\"Forbidden\"}')\n",
            "Failed to multipart ingest runs: langsmith.utils.LangSmithError: Failed to POST https://api.smith.langchain.com/runs/multipart in LangSmith API. HTTPError('403 Client Error: Forbidden for url: https://api.smith.langchain.com/runs/multipart', '{\"detail\":\"Forbidden\"}')\n",
            "Failed to multipart ingest runs: langsmith.utils.LangSmithError: Failed to POST https://api.smith.langchain.com/runs/multipart in LangSmith API. HTTPError('403 Client Error: Forbidden for url: https://api.smith.langchain.com/runs/multipart', '{\"detail\":\"Forbidden\"}')\n",
            "Failed to multipart ingest runs: langsmith.utils.LangSmithError: Failed to POST https://api.smith.langchain.com/runs/multipart in LangSmith API. HTTPError('403 Client Error: Forbidden for url: https://api.smith.langchain.com/runs/multipart', '{\"detail\":\"Forbidden\"}')\n",
            "Failed to multipart ingest runs: langsmith.utils.LangSmithError: Failed to POST https://api.smith.langchain.com/runs/multipart in LangSmith API. HTTPError('403 Client Error: Forbidden for url: https://api.smith.langchain.com/runs/multipart', '{\"detail\":\"Forbidden\"}')\n",
            "Failed to multipart ingest runs: langsmith.utils.LangSmithError: Failed to POST https://api.smith.langchain.com/runs/multipart in LangSmith API. HTTPError('403 Client Error: Forbidden for url: https://api.smith.langchain.com/runs/multipart', '{\"detail\":\"Forbidden\"}')\n",
            "Failed to multipart ingest runs: langsmith.utils.LangSmithError: Failed to POST https://api.smith.langchain.com/runs/multipart in LangSmith API. HTTPError('403 Client Error: Forbidden for url: https://api.smith.langchain.com/runs/multipart', '{\"detail\":\"Forbidden\"}')\n",
            "Failed to multipart ingest runs: langsmith.utils.LangSmithError: Failed to POST https://api.smith.langchain.com/runs/multipart in LangSmith API. HTTPError('403 Client Error: Forbidden for url: https://api.smith.langchain.com/runs/multipart', '{\"detail\":\"Forbidden\"}')\n",
            "Failed to multipart ingest runs: langsmith.utils.LangSmithError: Failed to POST https://api.smith.langchain.com/runs/multipart in LangSmith API. HTTPError('403 Client Error: Forbidden for url: https://api.smith.langchain.com/runs/multipart', '{\"detail\":\"Forbidden\"}')\n",
            "Failed to multipart ingest runs: langsmith.utils.LangSmithError: Failed to POST https://api.smith.langchain.com/runs/multipart in LangSmith API. HTTPError('403 Client Error: Forbidden for url: https://api.smith.langchain.com/runs/multipart', '{\"detail\":\"Forbidden\"}')\n",
            "Failed to multipart ingest runs: langsmith.utils.LangSmithError: Failed to POST https://api.smith.langchain.com/runs/multipart in LangSmith API. HTTPError('403 Client Error: Forbidden for url: https://api.smith.langchain.com/runs/multipart', '{\"detail\":\"Forbidden\"}')\n",
            "Failed to multipart ingest runs: langsmith.utils.LangSmithError: Failed to POST https://api.smith.langchain.com/runs/multipart in LangSmith API. HTTPError('403 Client Error: Forbidden for url: https://api.smith.langchain.com/runs/multipart', '{\"detail\":\"Forbidden\"}')\n",
            "Failed to multipart ingest runs: langsmith.utils.LangSmithError: Failed to POST https://api.smith.langchain.com/runs/multipart in LangSmith API. HTTPError('403 Client Error: Forbidden for url: https://api.smith.langchain.com/runs/multipart', '{\"detail\":\"Forbidden\"}')\n",
            "Failed to multipart ingest runs: langsmith.utils.LangSmithError: Failed to POST https://api.smith.langchain.com/runs/multipart in LangSmith API. HTTPError('403 Client Error: Forbidden for url: https://api.smith.langchain.com/runs/multipart', '{\"detail\":\"Forbidden\"}')\n",
            "Failed to multipart ingest runs: langsmith.utils.LangSmithError: Failed to POST https://api.smith.langchain.com/runs/multipart in LangSmith API. HTTPError('403 Client Error: Forbidden for url: https://api.smith.langchain.com/runs/multipart', '{\"detail\":\"Forbidden\"}')\n"
          ]
        },
        {
          "data": {
            "text/plain": [
              "RouteQuery(datasource='web_search')"
            ]
          },
          "execution_count": 11,
          "metadata": {},
          "output_type": "execute_result"
        }
      ],
      "source": [
        "# Question that needs web search\n",
        "question_router.invoke({\"question\": \"Who are the confirmed headliners for Austin City Limits Music Festival 2025?\"})"
      ]
    },
    {
      "cell_type": "markdown",
      "id": "5fc43b99",
      "metadata": {},
      "source": [
        "### Retrieval Grader"
      ]
    },
    {
      "cell_type": "code",
      "execution_count": 12,
      "id": "d1221d80",
      "metadata": {},
      "outputs": [],
      "source": [
        "from pydantic import BaseModel, Field\n",
        "from langchain_openai import ChatOpenAI\n",
        "from langchain_core.prompts import ChatPromptTemplate\n",
        "\n",
        "# Define data model for document evaluation\n",
        "class GradeDocuments(BaseModel):\n",
        "   \"\"\"Binary score for relevance check on retrieved documents.\"\"\"\n",
        "\n",
        "   binary_score: str = Field(\n",
        "       description=\"Documents are relevant to the question, 'yes' or 'no'\"\n",
        "   )\n",
        "\n",
        "# Initialize LLM and generate structured output through function calling\n",
        "llm = ChatOpenAI(model=MODEL_NAME, temperature=0)\n",
        "structured_llm_grader = llm.with_structured_output(GradeDocuments)\n",
        "\n",
        "# Create prompt template containing system message and user question\n",
        "system = \"\"\"You are a grader assessing relevance of a retrieved document to a user question. \\n \n",
        "   If the document contains keyword(s) or semantic meaning related to the user question, grade it as relevant. \\n\n",
        "   It does not need to be a stringent test. The goal is to filter out erroneous retrievals. \\n\n",
        "   Give a binary score 'yes' or 'no' score to indicate whether the document is relevant to the question.\"\"\"\n",
        "\n",
        "grade_prompt = ChatPromptTemplate(\n",
        "   [\n",
        "       (\"system\", system),\n",
        "       (\"human\", \"Retrieved document: \\n\\n {document} \\n\\n User question: {question}\"),\n",
        "   ]\n",
        ")\n",
        "\n",
        "# Create document retrieval grader\n",
        "retrieval_grader = grade_prompt | structured_llm_grader"
      ]
    },
    {
      "cell_type": "markdown",
      "id": "927cac10",
      "metadata": {},
      "source": [
        "Using the created `retrieval_grader` to evaluate the document retrieval results."
      ]
    },
    {
      "cell_type": "code",
      "execution_count": 13,
      "id": "f4af0027",
      "metadata": {},
      "outputs": [
        {
          "name": "stdout",
          "output_type": "stream",
          "text": [
            "binary_score='yes'\n"
          ]
        }
      ],
      "source": [
        "# Set user question\n",
        "question = \"According to the European approach, what are the current limitations of AI applications in healthcare settings?According to the European approach, what are the current limitations of AI applications in healthcare settings?\"\n",
        "\n",
        "# Retrieve relevant documents for the question\n",
        "docs = pdf_retriever.invoke(question)\n",
        "\n",
        "# Get content from retrieved document\n",
        "retrieved_doc = docs[0].page_content\n",
        "\n",
        "# Print evaluation results\n",
        "print(retrieval_grader.invoke({\"question\": question, \"document\": retrieved_doc}))"
      ]
    },
    {
      "cell_type": "markdown",
      "id": "54dce7a1",
      "metadata": {},
      "source": [
        "### Creating RAG Chain for Answer Generation"
      ]
    },
    {
      "cell_type": "code",
      "execution_count": 14,
      "id": "992ef15a",
      "metadata": {},
      "outputs": [],
      "source": [
        "import yaml\n",
        "from langchain_core.output_parsers import StrOutputParser\n",
        "from langchain_openai import ChatOpenAI\n",
        "from langchain_core.prompts.prompt import PromptTemplate\n",
        "\n",
        "# Get prompt from LangChain Hub (RAG prompt can be freely modified)\n",
        "def load_prompt_template(file_path: str) -> dict:\n",
        "    with open(file_path, 'r', encoding='utf-8') as file:\n",
        "        template_data = yaml.safe_load(file)\n",
        "    return template_data\n",
        "\n",
        "template = load_prompt_template('rag/prompts/rag-prompt.yaml')[\"template\"]\n",
        "\n",
        "# Use PromptTemplate object instead of string\n",
        "prompt = PromptTemplate(\n",
        "    template=template,\n",
        "    input_variables=[\"question\", \"context\"]\n",
        ")\n",
        "\n",
        "# Initialize LLM\n",
        "llm = ChatOpenAI(model_name=MODEL_NAME, temperature=0)\n",
        "\n",
        "# Document formatting function\n",
        "def format_docs(docs):\n",
        "    return \"\\n\\n\".join(\n",
        "        [\n",
        "            f'<document><content>{doc.page_content}</content><source>{doc.metadata[\"source\"]}</source><page>{doc.metadata[\"page\"]+1}</page></document>'\n",
        "            for doc in docs\n",
        "        ]\n",
        "    )\n",
        "\n",
        "# Create RAG chain\n",
        "rag_chain = prompt | llm | StrOutputParser()"
      ]
    },
    {
      "cell_type": "markdown",
      "id": "0fbc96e3",
      "metadata": {},
      "source": [
        "Now we'll use our `rag_chain` to generate responses by passing questions to it. "
      ]
    },
    {
      "cell_type": "code",
      "execution_count": 15,
      "id": "f8d16e04",
      "metadata": {},
      "outputs": [
        {
          "name": "stdout",
          "output_type": "stream",
          "text": [
            "AI applications in healthcare settings in Europe face several limitations: \n",
            "\n",
            "1. **Data Privacy and Trust**: There are concerns about data privacy and patient trust, as AI tools need to demonstrate that they handle data privacy with care beyond GDPR requirements.\n",
            "\n",
            "2. **Data Governance**: AI tools must prove a clear return on investment, and there is a need for a common language and understanding between data experts and healthcare professionals.\n",
            "\n",
            "3. **Organizational and Skill Challenges**: There is a need for upskilling or reskilling healthcare practitioners to understand AI's potential, and specific healthcare training should be provided to data scientists.\n",
            "\n",
            "4. **Regulatory Harmonization**: New AI regulations need to be harmonized with existing regulations, such as medical device regulations, to avoid fragmentation.\n",
            "\n",
            "5. **Fragmentation of Healthcare Systems**: Fragmented healthcare systems and standards across EU Member States pose challenges for data access and interoperability.\n",
            "\n",
            "6. **Data Ownership**: There are issues with data ownership, as it varies widely across EU Member States.\n",
            "\n",
            "**Source**\n",
            "- data/A European Approach to Artificial Intelligence - A Policy Perspective.pdf (pages 15-16)\n"
          ]
        }
      ],
      "source": [
        "# Generate answer by passing question to RAG chain\n",
        "generation = rag_chain.invoke({\"context\": format_docs(docs), \"question\": question})\n",
        "print(generation)"
      ]
    },
    {
      "cell_type": "markdown",
      "id": "a0e9f601",
      "metadata": {},
      "source": [
        "### Adding Hallucination Checker for Responses"
      ]
    },
    {
      "cell_type": "code",
      "execution_count": 16,
      "id": "40ec0e97",
      "metadata": {},
      "outputs": [],
      "source": [
        "# Define data model for hallucination check\n",
        "class GradeHallucinations(BaseModel):\n",
        "   \"\"\"Binary score for hallucination present in generation answer.\"\"\"\n",
        "   binary_score: str = Field(\n",
        "       description=\"Answer is grounded in the facts, 'yes' or 'no'\"\n",
        "   )\n",
        "\n",
        "# Initialize LLM with function calling\n",
        "llm = ChatOpenAI(model=MODEL_NAME, temperature=0)\n",
        "structured_llm_grader = llm.with_structured_output(GradeHallucinations)\n",
        "\n",
        "# Set up prompt\n",
        "system = \"\"\"You are a grader assessing whether an LLM generation is grounded in / supported by a set of retrieved facts. \\n \n",
        "   Give a binary score 'yes' or 'no'. 'Yes' means that the answer is grounded in / supported by the set of facts.\"\"\"\n",
        "\n",
        "# Create prompt template\n",
        "hallucination_prompt = ChatPromptTemplate(\n",
        "   [\n",
        "       (\"system\", system),\n",
        "       (\"human\", \"Set of facts: \\n\\n {documents} \\n\\n LLM generation: {generation}\"),\n",
        "   ]\n",
        ")\n",
        "\n",
        "# Create hallucination grader\n",
        "hallucination_grader = hallucination_prompt | structured_llm_grader"
      ]
    },
    {
      "cell_type": "markdown",
      "id": "8550b7cf",
      "metadata": {},
      "source": [
        "Evaluate hallucinations in the generated response using our created `hallucination_grader` ."
      ]
    },
    {
      "cell_type": "code",
      "execution_count": 17,
      "id": "cb593684",
      "metadata": {},
      "outputs": [
        {
          "data": {
            "text/plain": [
              "GradeHallucinations(binary_score='yes')"
            ]
          },
          "execution_count": 17,
          "metadata": {},
          "output_type": "execute_result"
        }
      ],
      "source": [
        "# Evaluate hallucinations in generated response using grader\n",
        "hallucination_grader.invoke({\"documents\": docs, \"generation\": generation})"
      ]
    },
    {
      "cell_type": "code",
      "execution_count": 18,
      "id": "110eb9b0",
      "metadata": {},
      "outputs": [],
      "source": [
        "class GradeAnswer(BaseModel):\n",
        "   \"\"\"Binary scoring to evaluate the appropriateness of answers to questions\"\"\"\n",
        "   binary_score: str = Field(\n",
        "       description=\"Indicate 'yes' or 'no' whether the answer solves the question\"\n",
        "   )\n",
        "\n",
        "# Initialize LLM with function calling\n",
        "llm = ChatOpenAI(model=MODEL_NAME, temperature=0)\n",
        "structured_llm_grader = llm.with_structured_output(GradeAnswer)\n",
        "\n",
        "# Set up prompt\n",
        "system = \"\"\"You are a grader assessing whether an answer addresses / resolves a question \\n \n",
        "    Give a binary score 'yes' or 'no'. Yes' means that the answer resolves the question.\"\"\"\n",
        "\n",
        "# Create prompt template\n",
        "answer_prompt = ChatPromptTemplate(\n",
        "   [\n",
        "       (\"system\", system),\n",
        "       (\"human\", \"User question: \\n\\n {question} \\n\\n LLM generation: {generation}\"),\n",
        "   ]\n",
        ")\n",
        "\n",
        "# Create answer grader by combining prompt template and structured LLM grader\n",
        "answer_grader = answer_prompt | structured_llm_grader"
      ]
    },
    {
      "cell_type": "code",
      "execution_count": 19,
      "id": "66a26ad6",
      "metadata": {},
      "outputs": [
        {
          "data": {
            "text/plain": [
              "GradeAnswer(binary_score='yes')"
            ]
          },
          "execution_count": 19,
          "metadata": {},
          "output_type": "execute_result"
        }
      ],
      "source": [
        "# Evaluate if the generated answer resolves the question using grader\n",
        "answer_grader.invoke({\"question\": question, \"generation\": generation})"
      ]
    },
    {
      "cell_type": "markdown",
      "id": "a9fc11dd",
      "metadata": {},
      "source": [
        "### Query Rewriter"
      ]
    },
    {
      "cell_type": "code",
      "execution_count": 20,
      "id": "c6eb92e7",
      "metadata": {},
      "outputs": [],
      "source": [
        "from langchain_openai import ChatOpenAI\n",
        "from langchain_core.prompts import ChatPromptTemplate\n",
        "from langchain_core.output_parsers import StrOutputParser\n",
        "\n",
        "# Initialize LLM\n",
        "llm = ChatOpenAI(model=MODEL_NAME, temperature=0)\n",
        "\n",
        "# Define Query Rewriter prompt (can be freely modified)\n",
        "system = \"\"\"You a question re-writer that converts an input question to a better version that is optimized \\n \n",
        "for vectorstore retrieval. Look at the input and try to reason about the underlying semantic intent / meaning.\"\"\"\n",
        "\n",
        "# Create Query Rewriter prompt template\n",
        "re_write_prompt = ChatPromptTemplate(\n",
        "    [\n",
        "        (\"system\", system),\n",
        "        (\n",
        "            \"human\",\n",
        "            \"Here is the initial question: \\n\\n {question} \\n Formulate an improved question.\",\n",
        "        ),\n",
        "    ]\n",
        ")\n",
        "\n",
        "# Create Query Rewriter\n",
        "question_rewriter = re_write_prompt | llm | StrOutputParser()"
      ]
    },
    {
      "cell_type": "markdown",
      "id": "92e819c4",
      "metadata": {},
      "source": [
        "Create an enhanced question by submitting a query to the generated `question_rewriter` ."
      ]
    },
    {
      "cell_type": "code",
      "execution_count": 21,
      "id": "210090cf",
      "metadata": {},
      "outputs": [
        {
          "data": {
            "text/plain": [
              "'What are the current limitations of AI applications in healthcare settings as identified by the European approach?'"
            ]
          },
          "execution_count": 21,
          "metadata": {},
          "output_type": "execute_result"
        }
      ],
      "source": [
        "# Generate an improved question by passing a question to the query rewriter\n",
        "question_rewriter.invoke({\"question\": question})"
      ]
    },
    {
      "cell_type": "markdown",
      "id": "d8d5ee42",
      "metadata": {},
      "source": [
        "## Tools\n",
        "\n",
        "### Web Search Tool\n",
        "The **Web Search Tool** is a critical component of **Adaptive RAG** , used to retrieve the latest information. This tool supports users in obtaining quick and accurate answers to questions related to recent events.\n",
        "\n",
        "* **Setup** : Prepare the web search tool to search for the most current information.\n",
        "* **Perform Search** : Search the web for relevant information based on the user's query.\n",
        "* **Result Analysis** : Analyze the retrieved search results to provide the most appropriate information for the user's question."
      ]
    },
    {
      "cell_type": "code",
      "execution_count": 22,
      "id": "e004263c",
      "metadata": {},
      "outputs": [],
      "source": [
        "from langchain_core.tools import BaseTool\n",
        "from pydantic import BaseModel, Field\n",
        "from tavily import TavilyClient\n",
        "from typing import Literal, Sequence, Optional\n",
        "import json\n",
        "import os\n",
        "\n",
        "\n",
        "class TavilySearchInput(BaseModel):\n",
        "    \"\"\"Input for the Tavily tool.\"\"\"\n",
        "\n",
        "    query: str = Field(description=\"검색 쿼리\")\n",
        "\n",
        "\n",
        "def format_search_result(result: dict, include_raw_content: bool = False) -> str:\n",
        "    \"\"\"\n",
        "    Utility functions for formatting search results.\n",
        "\n",
        "    Args:\n",
        "        result (dict): Original search result\n",
        "\n",
        "    Returns:\n",
        "        str: Formatted search result in XML format\n",
        "    \"\"\"\n",
        "\n",
        "    title = json.dumps(result[\"title\"], ensure_ascii=False)[1:-1]\n",
        "    content = json.dumps(result[\"content\"], ensure_ascii=False)[1:-1]\n",
        "    raw_content = \"\"\n",
        "    if (\n",
        "        include_raw_content\n",
        "        and \"raw_content\" in result\n",
        "        and result[\"raw_content\"] is not None\n",
        "        and len(result[\"raw_content\"].strip()) > 0\n",
        "    ):\n",
        "        raw_content = f\"<raw>{result['raw_content']}</raw>\"\n",
        "\n",
        "    return f\"<document><title>{title}</title><url>{result['url']}</url><content>{content}</content>{raw_content}</document>\"\n",
        "\n",
        "\n",
        "class TavilySearch(BaseTool):\n",
        "    \"\"\"\n",
        "    Tool that queries the Tavily Search API and gets back json\n",
        "    \"\"\"\n",
        "\n",
        "    name: str = \"tavily_web_search\"\n",
        "    description: str = (\n",
        "        \"A search engine optimized for comprehensive, accurate, and trusted results. \"\n",
        "        \"Useful for when you need to answer questions about current events. \"\n",
        "        \"Input should be a search query. [IMPORTANT] Input(query) should be over 5 characters.\"\n",
        "    )\n",
        "    args_schema: type[BaseModel] = TavilySearchInput\n",
        "    client: TavilyClient = None\n",
        "    include_domains: list = []\n",
        "    exclude_domains: list = []\n",
        "    max_results: int = 3\n",
        "    topic: Literal[\"general\", \"news\"] = \"general\"\n",
        "    days: int = 3\n",
        "    search_depth: Literal[\"basic\", \"advanced\"] = \"basic\"\n",
        "    include_answer: bool = False\n",
        "    include_raw_content: bool = True\n",
        "    include_images: bool = False\n",
        "    format_output: bool = False\n",
        "\n",
        "    def __init__(\n",
        "        self,\n",
        "        api_key: Optional[str] = None,\n",
        "        include_domains: list = [],\n",
        "        exclude_domains: list = [],\n",
        "        max_results: int = 3,\n",
        "        topic: Literal[\"general\", \"news\"] = \"general\",\n",
        "        days: int = 3,\n",
        "        search_depth: Literal[\"basic\", \"advanced\"] = \"basic\",\n",
        "        include_answer: bool = False,\n",
        "        include_raw_content: bool = True,\n",
        "        include_images: bool = False,\n",
        "        format_output: bool = False,\n",
        "    ):\n",
        "        \"\"\"\n",
        "        Initializes an instance of the TavilySearch class.\n",
        "\n",
        "        Args:\n",
        "            api_key (str): Tavily API key\n",
        "            include_domains (list): List of domains to include in the search\n",
        "            exclude_domains (list): List of domains to exclude from the search\n",
        "            max_results (int): Default number of search results\n",
        "        \"\"\"\n",
        "        super().__init__()\n",
        "        if api_key is None:\n",
        "            api_key = os.environ.get(\"TAVILY_API_KEY\", None)\n",
        "\n",
        "        if api_key is None:\n",
        "            raise ValueError(\"Tavily API key is not set.\")\n",
        "\n",
        "        self.client = TavilyClient(api_key=api_key)\n",
        "        self.include_domains = include_domains\n",
        "        self.exclude_domains = exclude_domains\n",
        "        self.max_results = max_results\n",
        "        self.topic = topic\n",
        "        self.days = days\n",
        "        self.search_depth = search_depth\n",
        "        self.include_answer = include_answer\n",
        "        self.include_raw_content = include_raw_content\n",
        "        self.include_images = include_images\n",
        "        self.format_output = format_output\n",
        "\n",
        "    def _run(self, query: str) -> str:\n",
        "        results = self.search(query)\n",
        "        return results\n",
        "\n",
        "    def search(\n",
        "        self,\n",
        "        query: str,\n",
        "        search_depth: Literal[\"basic\", \"advanced\"] = None,\n",
        "        topic: Literal[\"general\", \"news\"] = None,\n",
        "        days: int = None,\n",
        "        max_results: int = None, \n",
        "        include_domains: Sequence[str] = None,\n",
        "        exclude_domains: Sequence[str] = None,\n",
        "        include_answer: bool = None,\n",
        "        include_raw_content: bool = None,\n",
        "        include_images: bool = None,\n",
        "        format_output: bool = None,\n",
        "        **kwargs,\n",
        "    ) -> list:\n",
        "        \"\"\"\n",
        "        Perform search and return results.\n",
        "\n",
        "        Args:\n",
        "            query (str): Search query\n",
        "            search_depth (str): Search depth (\"basic\" or \"advanced\") \n",
        "            topic (str): Search topic (\"general\" or \"news\")\n",
        "            days (int): Date range to search\n",
        "            max_results (int): Maximum number of search results\n",
        "            include_domains (list): List of domains to include in search\n",
        "            exclude_domains (list): List of domains to exclude from search \n",
        "            include_answer (bool): Whether to include answer\n",
        "            include_raw_content (bool): Whether to include raw content\n",
        "            include_images (bool): Whether to include images\n",
        "            format_output (bool): Whether to format output\n",
        "            **kwargs: Additional keyword arguments\n",
        "\n",
        "        Returns:\n",
        "            list: List of search results\n",
        "        \"\"\"\n",
        "\n",
        "        params = {\n",
        "            \"query\": query,\n",
        "            \"search_depth\": search_depth or self.search_depth,\n",
        "            \"topic\": topic or self.topic,\n",
        "            \"max_results\": max_results or self.max_results,\n",
        "            \"include_domains\": include_domains or self.include_domains,\n",
        "            \"exclude_domains\": exclude_domains or self.exclude_domains,\n",
        "            \"include_answer\": (\n",
        "                include_answer if include_answer is not None else self.include_answer\n",
        "            ),\n",
        "            \"include_raw_content\": (\n",
        "                include_raw_content \n",
        "                if include_raw_content is not None\n",
        "                else self.include_raw_content\n",
        "            ),\n",
        "            \"include_images\": (\n",
        "                include_images if include_images is not None else self.include_images\n",
        "            ),\n",
        "            **kwargs,\n",
        "        }\n",
        "\n",
        "        # Handle days parameter\n",
        "        if days is not None:\n",
        "            if params[\"topic\"] == \"general\":\n",
        "                print(\n",
        "                    \"Warning: days parameter is ignored for 'general' topic search. Set topic parameter to 'news' to use days.\"\n",
        "                )\n",
        "            else:\n",
        "                params[\"days\"] = days\n",
        "\n",
        "        # Call API\n",
        "        response = self.client.search(**params)\n",
        "\n",
        "        format_output = (\n",
        "            format_output if format_output is not None else self.format_output\n",
        "        )\n",
        "        if format_output:\n",
        "            return [\n",
        "                format_search_result(r, params[\"include_raw_content\"])\n",
        "                for r in response[\"results\"]\n",
        "            ]\n",
        "        else:\n",
        "            return response[\"results\"]\n",
        "\n",
        "    def get_search_context(\n",
        "        self,\n",
        "        query: str,\n",
        "        search_depth: Literal[\"basic\", \"advanced\"] = \"basic\",\n",
        "        topic: Literal[\"general\", \"news\"] = \"general\",\n",
        "        days: int = 3,\n",
        "        max_results: int = 5,\n",
        "        include_domains: Sequence[str] = None,\n",
        "        exclude_domains: Sequence[str] = None,\n",
        "        max_tokens: int = 4000,\n",
        "        format_output: bool = True,\n",
        "        **kwargs,\n",
        "    ) -> str:\n",
        "        \"\"\"\n",
        "        Retrieves context for a search query. Useful for getting relevant content from websites without \n",
        "        needing to handle context extraction and limitation manually.\n",
        "\n",
        "        Args:\n",
        "            query (str): Search query\n",
        "            search_depth (str): Search depth (\"basic\" or \"advanced\")\n",
        "            topic (str): Search topic (\"general\" or \"news\")\n",
        "            days (int): Date range to search\n",
        "            max_results (int): Maximum number of search results \n",
        "            include_domains (list): List of domains to include in search\n",
        "            exclude_domains (list): List of domains to exclude from search\n",
        "            max_tokens (int): Maximum number of tokens to return (based on openai token counting). Defaults to 4000.\n",
        "            format_output (bool): Whether to format output\n",
        "            **kwargs: Additional keyword arguments\n",
        "\n",
        "        Returns:\n",
        "            str: JSON string containing search context up to token limit\n",
        "        \"\"\"\n",
        "        response = self.client.search(\n",
        "            query,\n",
        "            search_depth=search_depth,\n",
        "            topic=topic,\n",
        "            days=days,\n",
        "            max_results=max_results,\n",
        "            include_domains=include_domains,\n",
        "            exclude_domains=exclude_domains,\n",
        "            include_answer=False,\n",
        "            include_raw_content=False,\n",
        "            include_images=False,\n",
        "            **kwargs,\n",
        "        )\n",
        "\n",
        "        sources = response.get(\"results\", [])\n",
        "        if format_output:\n",
        "            context = [\n",
        "                format_search_result(source, include_raw_content=False)\n",
        "                for source in sources\n",
        "            ]\n",
        "        else:\n",
        "            context = [\n",
        "                {\n",
        "                    \"url\": source[\"url\"],\n",
        "                    \"content\": json.dumps(\n",
        "                        {\"title\": source[\"title\"], \"content\": source[\"content\"]},\n",
        "                        ensure_ascii=False,\n",
        "                    ),\n",
        "                }\n",
        "                for source in sources\n",
        "            ]\n",
        "\n",
        "        # Logic for max_tokens handling needs to be implemented here\n",
        "        # Currently returns all context simply\n",
        "        return json.dumps(context, ensure_ascii=False)\n"
      ]
    },
    {
      "cell_type": "code",
      "execution_count": 23,
      "id": "e999dda0",
      "metadata": {},
      "outputs": [],
      "source": [
        "# Create web search tool\n",
        "web_search_tool = TavilySearch(max_results=3)"
      ]
    },
    {
      "cell_type": "markdown",
      "id": "63d60abe",
      "metadata": {},
      "source": [
        "Run the web search tool and check the results."
      ]
    },
    {
      "cell_type": "code",
      "execution_count": 24,
      "id": "c13be8f3",
      "metadata": {},
      "outputs": [
        {
          "name": "stdout",
          "output_type": "stream",
          "text": [
            "[{'title': 'Austin City Limits 2025 - Get Tickets & See Lineup', 'url': 'https://austincitylimits.us/', 'content': 'Wed Mar 57:30 PM ApocalypticaACL Live At The Moody Theater, Austin, TX Get Tickets Sat Mar 228:00 PM Wanda SykesACL Live At The Moody Theater, Austin, TX Get Tickets Sun Mar 237:00 PM Nikki GlaserACL Live At The Moody Theater, Austin, TX Get Tickets Tue Mar 258:00 PM How Did This Get Made?ACL Live At The Moody Theater, Austin, TX Get Tickets Sat Apr 199:00 PM Soul CoughingACL Live At The Moody Theater, Austin, TX Get Tickets Sat Apr 267:00 PM Felipe EsparzaACL Live At The Moody Theater, Austin, TX Get Tickets Sat May 315:00 PM Taylor TomlinsonACL Live At The Moody Theater, Austin, TX Get Tickets Sat May 318:00 PM Taylor TomlinsonACL Live At The Moody Theater, Austin, TX Get Tickets', 'score': 0.81770587, 'raw_content': \"Austin City Limits 2025 - Get Tickets & See Lineup\\nSkip to content\\nAustin City Limits 2025\\n\\nAustin City Limits 2025\\n\\nAustin City Limits 2025\\nBe ready for the most prestigious music festivals on the planet in 2025. Austin City Limits (ACL) is scheduled to return in 2025! The festival is held in the lively Austin city Austin, Texas, ACL is renowned for its varied lineup, spectacular ambience, and unparalleled mix of music, tradition, and culture. The event will be held over two weekends in the famous Zilker Park, ACL 2025 promises to provide an unforgettable experience featuring performances by global stars as well as rising stars and all things between. If you’re a fervent fan of music or are just wanting to have a blast, ACL is the place to be!\\nConcert Dates & Discounted Tickets\\nFri Jan 248:00 PM PhantogramACL Live At The Moody Theater, Austin, TX Get Tickets\\nSat Jan 258:00 PM Travis - The BandACL Live At The Moody Theater, Austin, TX Get Tickets\\nThu Jan 308:00 PM The Temptations & The Four TopsACL Live At The Moody Theater, Austin, TX Get Tickets\\nSat Feb 17:00 PM Ali SiddiqACL Live At The Moody Theater, Austin, TX Get Tickets\\nSun Feb 28:00 PM Mania - The ABBA TributeACL Live At The Moody Theater, Austin, TX Get Tickets\\nFri Feb 78:00 PM The Fab Four - The Ultimate TributeACL Live At The Moody Theater, Austin, TX Get Tickets\\nFri Feb 148:00 PM Bob SchneiderACL Live At The Moody Theater, Austin, TX Get Tickets\\nTue Feb 188:00 PM Jorja SmithACL Live At The Moody Theater, Austin, TX Get Tickets\\nThu Feb 208:00 PM David GrayACL Live At The Moody Theater, Austin, TX Get Tickets\\nFri Feb 218:00 PM Three Dog NightACL Live At The Moody Theater, Austin, TX Get Tickets\\nSat Feb 227:00 PM Texas Songwriters Hall of Fame AwardsACL Live At The Moody Theater, Austin, TX Get Tickets\\nThu Feb 277:30 PM Bright EyesACL Live At The Moody Theater, Austin, TX Get Tickets\\nFri Feb 288:30 PM Imagine Muny IVACL Live At The Moody Theater, Austin, TX Get Tickets\\nTue Mar 46:00 PM Blippi LiveACL Live At The Moody Theater, Austin, TX Get Tickets\\nWed Mar 57:30 PM ApocalypticaACL Live At The Moody Theater, Austin, TX Get Tickets\\nThu Mar 68:00 PM Yacht Rock RevueACL Live At The Moody Theater, Austin, TX Get Tickets\\nThu Mar 208:00 PM Trombone Shorty And Orleans Avenue & Tank and The BangasACL Live At The Moody Theater, Austin, TX Get Tickets\\nFri Mar 218:00 PM Violent FemmesACL Live At The Moody Theater, Austin, TX Get Tickets\\nSat Mar 228:00 PM Wanda SykesACL Live At The Moody Theater, Austin, TX Get Tickets\\nSun Mar 237:00 PM Nikki GlaserACL Live At The Moody Theater, Austin, TX Get Tickets\\nMon Mar 248:00 PM JohnnyswimACL Live At The Moody Theater, Austin, TX Get Tickets\\nTue Mar 258:00 PM How Did This Get Made?ACL Live At The Moody Theater, Austin, TX Get Tickets\\nThu Mar 277:30 PM Nitty Gritty Dirt BandACL Live At The Moody Theater, Austin, TX Get Tickets\\nFri Mar 287:00 PM Anjelah Johnson-ReyesACL Live At The Moody Theater, Austin, TX Get Tickets\\nSat Mar 298:00 PM Jimmy O. YangACL Live At The Moody Theater, Austin, TX Get Tickets\\nSun Mar 307:00 PM Anjelah Johnson-ReyesACL Live At The Moody Theater, Austin, TX Get Tickets\\nMon Mar 317:00 PM Half AliveACL Live At The Moody Theater, Austin, TX Get Tickets\\nWed Apr 28:00 PM Chicago - The BandACL Live At The Moody Theater, Austin, TX Get Tickets\\nThu Apr 38:00 PM Jason Isbell & The 400 UnitACL Live At The Moody Theater, Austin, TX Get Tickets\\nFri Apr 48:00 PM Jason Isbell & The 400 UnitACL Live At The Moody Theater, Austin, TX Get Tickets\\nSat Apr 58:00 PM Jason Isbell & The 400 UnitACL Live At The Moody Theater, Austin, TX Get Tickets\\nWed Apr 98:00 PM Jim Henson's Labyrinth - In ConcertACL Live At The Moody Theater, Austin, TX Get Tickets\\nSun Apr 137:30 PM Amos LeeACL Live At The Moody Theater, Austin, TX Get Tickets\\nTue Apr 157:00 PM Meshuggah, Cannibal Corpse & CarcassACL Live At The Moody Theater, Austin, TX Get Tickets\\nThu Apr 177:30 PM Bitch SeshACL Live At The Moody Theater, Austin, TX Get Tickets\\nSat Apr 199:00 PM Soul CoughingACL Live At The Moody Theater, Austin, TX Get Tickets\\nWed Apr 238:00 PM Japanese BreakfastACL Live At The Moody Theater, Austin, TX Get Tickets\\nThu Apr 249:00 PM Eric ChurchACL Live At The Moody Theater, Austin, TX Get Tickets\\nSat Apr 267:00 PM Felipe EsparzaACL Live At The Moody Theater, Austin, TX Get Tickets\\nSun Apr 278:00 PM Matt MathewsACL Live At The Moody Theater, Austin, TX Get Tickets\\nThu May 18:00 PM Joe Russo's Almost DeadACL Live At The Moody Theater, Austin, TX Get Tickets\\nSat May 37:00 PM Mayday ParadeACL Live At The Moody Theater, Austin, TX Get Tickets\\nSun May 48:00 PM Jack WhiteACL Live At The Moody Theater, Austin, TX Get Tickets\\nMon May 58:00 PM Jack WhiteACL Live At The Moody Theater, Austin, TX Get Tickets\\nTue May 68:00 PM Get The Led Out - Tribute BandACL Live At The Moody Theater, Austin, TX Get Tickets\\nThu May 88:00 PM Blackberry SmokeACL Live At The Moody Theater, Austin, TX Get Tickets\\nSun May 117:30 PM Alton Brown: Last BiteACL Live At The Moody Theater, Austin, TX Get Tickets\\nThu May 157:00 PM Nikki GlaserACL Live At The Moody Theater, Austin, TX Get Tickets\\nThu May 159:30 PM Nikki GlaserACL Live At The Moody Theater, Austin, TX Get Tickets\\nSat May 178:00 PM Ha*AshACL Live At The Moody Theater, Austin, TX Get Tickets\\nSun May 187:30 PM Trisha PaytasACL Live At The Moody Theater, Austin, TX Get Tickets\\nWed May 218:00 PM Hippo Campus & Hotline TNTACL Live At The Moody Theater, Austin, TX Get Tickets\\nFri May 238:00 PM Ryan AdamsACL Live At The Moody Theater, Austin, TX Get Tickets\\nThu May 297:30 PM Samara JoyACL Live At The Moody Theater, Austin, TX Get Tickets\\nFri May 307:00 PM Taylor TomlinsonACL Live At The Moody Theater, Austin, TX Get Tickets\\nSat May 315:00 PM Taylor TomlinsonACL Live At The Moody Theater, Austin, TX Get Tickets\\nSat May 318:00 PM Taylor TomlinsonACL Live At The Moody Theater, Austin, TX Get Tickets\\nTue Jun 38:00 PM OMD - Orchestral Manoeuvres In The DarkACL Live At The Moody Theater, Austin, TX Get Tickets\\nSat Jun 78:00 PM The Righteous BrothersACL Live At The Moody Theater, Austin, TX Get Tickets\\nWed Jun 116:00 PM The WigglesACL Live At The Moody Theater, Austin, TX Get Tickets\\nSat Jun 147:00 PM Kevin JamesACL Live At The Moody Theater, Austin, TX Get Tickets\\nSat Aug 28:00 PM Brit FloydACL Live At The Moody Theater, Austin, TX Get Tickets\\nSun Sep 217:00 PM Stardew Valley: Symphony Of SeasonsACL Live At The Moody Theater, Austin, TX Get Tickets\\nSat Sep 277:00 PM Matt RifeACL Live At The Moody Theater, Austin, TX Get Tickets\\nSat Sep 2710:00 PM Matt RifeACL Live At The Moody Theater, Austin, TX Get Tickets\\nSun Sep 285:00 PM Matt RifeACL Live At The Moody Theater, Austin, TX Get Tickets\\nSun Sep 288:00 PM Matt RifeACL Live At The Moody Theater, Austin, TX Get Tickets\\nFri Oct 3TBD Austin City Limits Music Festival: Weekend One - 3 Day PassZilker Park, Austin, TX Get Tickets\\nFri Oct 312:00 PM Austin City Limits Music Festival: Weekend One - FridayZilker Park, Austin, TX Get Tickets\\nSat Oct 411:00 AM Austin City Limits Music Festival: Weekend One - SaturdayZilker Park, Austin, TX Get Tickets\\nSun Oct 511:00 AM Austin City Limits Music Festival: Weekend One - SundayZilker Park, Austin, TX Get Tickets\\nFri Oct 10TBD Austin City Limits Music Festival: Weekend Two - 3 Day PassZilker Park, Austin, TX Get Tickets\\nFri Oct 1012:00 PM Austin City Limits Music Festival: Weekend Two - FridayZilker Park, Austin, TX Get Tickets\\nSat Oct 1111:00 AM Austin City Limits Music Festival: Weekend Two - SaturdayZilker Park, Austin, TX Get Tickets\\nSun Oct 1211:00 AM Austin City Limits Music Festival: Weekend Two - SundayZilker Park, Austin, TX Get Tickets\\nWed Oct 158:00 PM Killer QueenACL Live At The Moody Theater, Austin, TX Get Tickets\\nWed Nov 127:00 PM Sarah MillicanACL Live At The Moody Theater, Austin, TX Get Tickets\\nWhy Austin City Limits 2025 Is a Must-Attend Festival\\nAustin City Limits is more than a mere music festival. It’s an event of culture that brings fans from across the globe to enjoy the universal music language. With its diverse selection of music genres as well as delicious local food and a warm, welcoming environment, ACL has something for all. Here’s a few reasons to make plans to go to Austin City Limits 2025:\\n\\nA Lineup With Something for everyone: ACL is famous for its diverse lineup of artists that range that range from rock and indie to electronic, hip-hop country, and even beyond. The lineups of the past have included the famous likes Billie Eilish, The Red Hot Chili Peppers, Kendrick Lamar as well as Stevie Nicks. The 2025 lineup has not yet announced but you can anticipate to see a variety of chart-topping headliners as well as legendary acts and emerging artists, making sure there’s plenty of music for everyone.\\nTwo weekends of non-stop music Two consecutive weekends of live performances on various stages, the ACL 2025 festival offers the chance to enjoy your favourite artists in person and experience new music in an exciting festival-like setting. The festival’s layout makes simple to get between stages, so that you can attend as many events as you can.\\nAn ode to Austin’s Unique Culture known for being the Live Music Capital of the World, Austin provides the ideal backdrop for ACL. Beyond the music, festival goers are able to enjoy Austin’s famed food scene, with a range of local vendors selling anything from barbecue and tacos to vegan delicacies and gourmet food. ACL also has local artists market, crafts, and interactive experiences that highlight Austin’s artistic flair.\\n\\nWhat to Expect at Austin City Limits 2025\\nImagine yourself in the pleasant Texas sun in the midst of the sound of music on the radio, scent of mouthwatering food and a large crowd of festival-goers who are happy. Austin City Limits 2025 promises to provide all of this and many more. What can you anticipate from ACL:\\n\\nMultiple stages with non-stop music With a variety of stages that are set up in Zilker Park, ACL provides continuous music, with intimate performances on smaller stages, to large performances at the central stage. If you’re a fan of hip-hop, rock, pop electronic or other genres of music, you’ll be able to find the stage that is perfect for you.\\nLocal Food and Drinks One of the highlights of ACL is the fact that it’s committed to showcase local food and drinks vendors. From famous Austin BBQ restaurants to craft breweries, as well as innovative vegan alternatives, the festival provides the same culinary experiences that are as varied and thrilling as the music lineup. Don’t miss the renowned Austin Eats food court, which is where you can sample of Austin’s finest offerings.\\nActivities, Art and more: ACL isn’t just about music. The festival also offers many activities and experiences between sets. Take a look at the artwork or shop for unique items at the market for crafts or relax on any of the shady relaxing areas. Family-friendly, ACL is also offering Austin Kiddie Limits which is a mini-festival that is part of the festival, featuring kids-friendly entertainment, activities and arts and crafts.\\n\\nHow to Secure Your Tickets\\nTickets to Austin City Limits 2025 are anticipated to sell out fast Here’s ways to ensure that you’re a part of this unforgettable experience:\\n\\nStay updated Keep up to date by following Austin City Limits on social media and keep an eye on the official site often for news about tickets auctions, line-up announcements and much more. Joining their newsletter is an excellent way to get early access to tickets as well as special deals.\\nPick your experience: ACL offers a wide range of ticket options, which include single-day passes as well as three-day weekend passes and Platinum and VIP experiences. Each offer offers different levels of accessibility and amenities, so choose which type of experience you’d like to have and make sure you are ready to buy your tickets as soon as they are available for purchase.\\nBe ready to act quickly Tickets are available and you are unsure, Austin City Limits has a reputation to sell out fast. Make a note of the date and time of sale and be ready to reserve your tickets as soon they are available.\\n\\nExperience the Magic of Austin City Limits Live\\nAustin City Limits 2025 won’t be just another festival for music, it’s an expression of music and culture as well as community, set against the vibrant background in Austin, Texas. If you’re an experienced festival goer or a novice, ACL offers a unique experience that’s both thrilling and absorbing and combines live music at its best and the vibrant spirit of Austin.\\nGather your friends Get ready to party, and prepare for a weekend filled with amazing music, delicious food and unforgettable memories. Austin City Limits 2025 is coming and it’s a party you’ll not wish to miss!\\nAustin City Limits 2025\\nAbout\\n\\nTeam\\nHistory\\nCareers\\n\\nPrivacy\\n\\nPrivacy Policy\\nTerms and Conditions\\nContact Us\\n\\nSocial\\n\\nFacebook\\nInstagram\\nTwitter/X\\n\\nDesigned with WordPress\"}, {'title': 'Austin City Limits Music Festival 2025 - Holler', 'url': 'https://holler.country/festivals/austin-city-limits-music-festival-2025', 'content': \"Austin City Limits Music Festival 2025: Line-Up, Dates & Tickets | Holler Austin City Limits Music Festival 2025 Full name Austin City Limits Music Festival 2025 * The dates for Austin City Limits Music Festival 2025 are yet to be confirmed - October 3-5 and 10-12 are speculative dates. Austin City Limits Music Festival is one of the year's most exciting events, regardless of your genre preferences. Here, we'll have all the up-to-date news on line-up announcements, the latest ticket and festival pass details, and any further exciting info and details for 2025. When tickets for Austin City Limits Music Festival 2025 are released, they'll be available to purchase below: To support Holler, book your stay for Austin City Limits Music Festival 2025 below:\", 'score': 0.5758033, 'raw_content': \"Austin City Limits Music Festival 2025: Line-Up, Dates & Tickets | Holler\\nnews•lists•festivals•videos•playlists•reviews•features•tours\\n\\nTickets•about•artists•contributors\\n\\n\\n\\nfestival\\nAustin City Limits Music Festival 2025\\nBy Lydia Farthing\\nOctober 16, 2024 4:53 pm GMT\\n\\n\\n\\nLink copied\\n\\n\\nFull name Austin City Limits Music Festival 2025\\n\\n\\nDates Oct 3 - 12, 2025\\n\\n\\nLocation Austin, Texas\\n\\n\\nLine up TBC\\n\\n\\nTickets Get Tickets\\n\\n\\n* The dates for Austin City Limits Music Festival 2025 are yet to be confirmed - October 3-5 and 10-12 are speculative dates.\\nAustin City Limits Music Festival is one of the year's most exciting events, regardless of your genre preferences. Welcoming acts from all across the musical spectrum, ACL is a once in a lifetime experience that just so happens to take place twice a year.\\nBoasting two consecutive weekends jam-packed with sizzling up-and-comers, established hitmakers and award-winning entertainers, it's an unforgettable spread that will likely make its return to Austin, Texas in October of 2025.\\nHere, we'll have all the up-to-date news on line-up announcements, the latest ticket and festival pass details, and any further exciting info and details for 2025.\\nSince opening its gates in 2002, ACL has hosted well over 130 artists and welcomed more than 225,000 attendees to Zilker Park every year.\\nWith a truly sprawling lineup of talent teed up across the 2024 weekends, organizers were able to snag acts like Chris Stapleton, Sturgill Simpson, Dua Lipa, Tyler the Creator, Blink-182 and more as headliners for the thrilling installment.\\nRepresenting the country, Americana and roots genres across the event were Caamp, The Red Clay Strays, Orville Peck, Medium Build, Mickey Guyton, Asleep at the Wheel, Richy Mitch & the Coal Miners, Katie Pruitt, Tanner Adell, Emily Nenni, Tyler Halverson and viral sensation Dasha, among others.\\nWhen tickets for Austin City Limits Music Festival 2025 are released, they'll be available to purchase below:\\nBuy tickets here\\nTo support Holler, book your stay for Austin City Limits Music Festival 2025 below:\\nBook your stay\\nCheck out other country festivals set for 2024 and 2025.\\nWritten by Lydia Farthing\\nRELATED CONTENT\\n\\nnews\\n“Let's Ride”: Jelly Roll Features in John Cena's New TV Series, ‘What Drives You’\\n\\nnews\\n“I'm Just Asking For a Little Bit of Grace”: Bailey Zimmerman Apologises for Drunken Crash My Playa Performance\\n\\nnews\\n“There's an Awful Lot of Freedom to The Songs”: Kenny Chesney Finalises Setlist Ahead of Las Vegas Sphere Residency\\n\\nnews\\nWATCH: Parker McCollum Covers Toby Keith's ‘Courtesy of the Red, White and Blue’ at Liberty Ball for Trump's Inauguration\\nGet the best of Country in your inbox\\nSubmit\\nPrivacy and Cookies Terms and ConditionsAboutEditorial Policy\\n© HOLLER 2025. ALL RIGHTS RESERVED.\\nNewsReviewsFeaturesVideosPlaylists\\nArtistsFestivalsToursListsTickets\\n\\n\"}, {'title': 'Austin City Limits Music Festival | Austin, TX | October 3-5 & 10-12, 2025', 'url': 'https://www.aclfestival.com/', 'content': 'Austin City Limits Music Festival will be presented at Zilker Park, in Austin, TX on October 3-5 & 10-12, 2025. Stay connected for upcoming announcements, artist news, giveaways, and more!', 'score': 0.5608546, 'raw_content': \"Home\\nTickets\\nLineup\\n\\u200d\\nBook Hotel\\nACL Fest Returns Oct 4-6 & 11-13, 2024!\\nSign up to be the first to know about the 2024 lineup, presale, & more!\\nSign Up Via Text\\nMobile Numbers from US Carriers Only\\nOr Sign Up Via Email\\nBook your hotel today at the best locations near ACL Fest, featuring exclusive rates from our official hotel partner IHG® Hotels & Resorts.\\nBook Hotel\\nExperience ACL Fest with a GA+, VIP, or Platinum Ticket!\\nTickets\\nFind quick answers to your questions on all things ACL Fest.\\nVisit The Help Center\\nMusic. Lots of it.\\nACL Festival features a diverse lineup of acts every year with 9 stages, 100+ performances — and best of all, two weekends.\\nBest Bites in town!\\nTacos, brews, vegan options and more. The ACL Eats Food Court at ACL Fest offers the most delicious festival food, drinks and sweets from Austin and the surrounding area’s favorite restaurants.\\nMore to explore.\\nThere’s plenty to do in between sets, including a mini-fest for kids, photogenic spaces, sponsored giveaways and merch to bring home with you.\\nUltimate access & Luxury perks!\\nTake your ACL Fest experience to the next level with our GA+, VIP and Platinum Tickets. Enjoy prime views, luxury indulgences and getaways from the crowd.\\nPartners\\nAmex\\nHonda\\nT-Mobile\\nTito's\\nBMI\\nIHG\\nElectrolit\\nTexas Children's Hospital\\nCoke\\nAperol\\nHEB\\nLifeway\\nHendrick's Gin\\nRambler\\nFestival\\nTickets\\nLineup\\nHelp\\nContact Us\\nHelp Center\\nSafety\\nAccessibility\\nSocial\\nInstagram\\nTikTok\\nFacebook\\nTwitter\\nYouTube\\nDiscord\\nReddit\\nSubscribe\"}]\n"
          ]
        }
      ],
      "source": [
        "# Call the web search tool\n",
        "result = web_search_tool.search(\"Who are the confirmed headliners for Austin City Limits Music Festival 2025?\")\n",
        "print(result)"
      ]
    },
    {
      "cell_type": "code",
      "execution_count": 25,
      "id": "1904c95c",
      "metadata": {},
      "outputs": [
        {
          "data": {
            "text/plain": [
              "{'title': 'Austin City Limits 2025 - Get Tickets & See Lineup',\n",
              " 'url': 'https://austincitylimits.us/',\n",
              " 'content': 'Wed Mar 57:30 PM ApocalypticaACL Live At The Moody Theater, Austin, TX Get Tickets Sat Mar 228:00 PM Wanda SykesACL Live At The Moody Theater, Austin, TX Get Tickets Sun Mar 237:00 PM Nikki GlaserACL Live At The Moody Theater, Austin, TX Get Tickets Tue Mar 258:00 PM How Did This Get Made?ACL Live At The Moody Theater, Austin, TX Get Tickets Sat Apr 199:00 PM Soul CoughingACL Live At The Moody Theater, Austin, TX Get Tickets Sat Apr 267:00 PM Felipe EsparzaACL Live At The Moody Theater, Austin, TX Get Tickets Sat May 315:00 PM Taylor TomlinsonACL Live At The Moody Theater, Austin, TX Get Tickets Sat May 318:00 PM Taylor TomlinsonACL Live At The Moody Theater, Austin, TX Get Tickets',\n",
              " 'score': 0.81770587,\n",
              " 'raw_content': \"Austin City Limits 2025 - Get Tickets & See Lineup\\nSkip to content\\nAustin City Limits 2025\\n\\nAustin City Limits 2025\\n\\nAustin City Limits 2025\\nBe ready for the most prestigious music festivals on the planet in 2025. Austin City Limits (ACL) is scheduled to return in 2025! The festival is held in the lively Austin city Austin, Texas, ACL is renowned for its varied lineup, spectacular ambience, and unparalleled mix of music, tradition, and culture. The event will be held over two weekends in the famous Zilker Park, ACL 2025 promises to provide an unforgettable experience featuring performances by global stars as well as rising stars and all things between. If you’re a fervent fan of music or are just wanting to have a blast, ACL is the place to be!\\nConcert Dates & Discounted Tickets\\nFri Jan 248:00 PM PhantogramACL Live At The Moody Theater, Austin, TX Get Tickets\\nSat Jan 258:00 PM Travis - The BandACL Live At The Moody Theater, Austin, TX Get Tickets\\nThu Jan 308:00 PM The Temptations & The Four TopsACL Live At The Moody Theater, Austin, TX Get Tickets\\nSat Feb 17:00 PM Ali SiddiqACL Live At The Moody Theater, Austin, TX Get Tickets\\nSun Feb 28:00 PM Mania - The ABBA TributeACL Live At The Moody Theater, Austin, TX Get Tickets\\nFri Feb 78:00 PM The Fab Four - The Ultimate TributeACL Live At The Moody Theater, Austin, TX Get Tickets\\nFri Feb 148:00 PM Bob SchneiderACL Live At The Moody Theater, Austin, TX Get Tickets\\nTue Feb 188:00 PM Jorja SmithACL Live At The Moody Theater, Austin, TX Get Tickets\\nThu Feb 208:00 PM David GrayACL Live At The Moody Theater, Austin, TX Get Tickets\\nFri Feb 218:00 PM Three Dog NightACL Live At The Moody Theater, Austin, TX Get Tickets\\nSat Feb 227:00 PM Texas Songwriters Hall of Fame AwardsACL Live At The Moody Theater, Austin, TX Get Tickets\\nThu Feb 277:30 PM Bright EyesACL Live At The Moody Theater, Austin, TX Get Tickets\\nFri Feb 288:30 PM Imagine Muny IVACL Live At The Moody Theater, Austin, TX Get Tickets\\nTue Mar 46:00 PM Blippi LiveACL Live At The Moody Theater, Austin, TX Get Tickets\\nWed Mar 57:30 PM ApocalypticaACL Live At The Moody Theater, Austin, TX Get Tickets\\nThu Mar 68:00 PM Yacht Rock RevueACL Live At The Moody Theater, Austin, TX Get Tickets\\nThu Mar 208:00 PM Trombone Shorty And Orleans Avenue & Tank and The BangasACL Live At The Moody Theater, Austin, TX Get Tickets\\nFri Mar 218:00 PM Violent FemmesACL Live At The Moody Theater, Austin, TX Get Tickets\\nSat Mar 228:00 PM Wanda SykesACL Live At The Moody Theater, Austin, TX Get Tickets\\nSun Mar 237:00 PM Nikki GlaserACL Live At The Moody Theater, Austin, TX Get Tickets\\nMon Mar 248:00 PM JohnnyswimACL Live At The Moody Theater, Austin, TX Get Tickets\\nTue Mar 258:00 PM How Did This Get Made?ACL Live At The Moody Theater, Austin, TX Get Tickets\\nThu Mar 277:30 PM Nitty Gritty Dirt BandACL Live At The Moody Theater, Austin, TX Get Tickets\\nFri Mar 287:00 PM Anjelah Johnson-ReyesACL Live At The Moody Theater, Austin, TX Get Tickets\\nSat Mar 298:00 PM Jimmy O. YangACL Live At The Moody Theater, Austin, TX Get Tickets\\nSun Mar 307:00 PM Anjelah Johnson-ReyesACL Live At The Moody Theater, Austin, TX Get Tickets\\nMon Mar 317:00 PM Half AliveACL Live At The Moody Theater, Austin, TX Get Tickets\\nWed Apr 28:00 PM Chicago - The BandACL Live At The Moody Theater, Austin, TX Get Tickets\\nThu Apr 38:00 PM Jason Isbell & The 400 UnitACL Live At The Moody Theater, Austin, TX Get Tickets\\nFri Apr 48:00 PM Jason Isbell & The 400 UnitACL Live At The Moody Theater, Austin, TX Get Tickets\\nSat Apr 58:00 PM Jason Isbell & The 400 UnitACL Live At The Moody Theater, Austin, TX Get Tickets\\nWed Apr 98:00 PM Jim Henson's Labyrinth - In ConcertACL Live At The Moody Theater, Austin, TX Get Tickets\\nSun Apr 137:30 PM Amos LeeACL Live At The Moody Theater, Austin, TX Get Tickets\\nTue Apr 157:00 PM Meshuggah, Cannibal Corpse & CarcassACL Live At The Moody Theater, Austin, TX Get Tickets\\nThu Apr 177:30 PM Bitch SeshACL Live At The Moody Theater, Austin, TX Get Tickets\\nSat Apr 199:00 PM Soul CoughingACL Live At The Moody Theater, Austin, TX Get Tickets\\nWed Apr 238:00 PM Japanese BreakfastACL Live At The Moody Theater, Austin, TX Get Tickets\\nThu Apr 249:00 PM Eric ChurchACL Live At The Moody Theater, Austin, TX Get Tickets\\nSat Apr 267:00 PM Felipe EsparzaACL Live At The Moody Theater, Austin, TX Get Tickets\\nSun Apr 278:00 PM Matt MathewsACL Live At The Moody Theater, Austin, TX Get Tickets\\nThu May 18:00 PM Joe Russo's Almost DeadACL Live At The Moody Theater, Austin, TX Get Tickets\\nSat May 37:00 PM Mayday ParadeACL Live At The Moody Theater, Austin, TX Get Tickets\\nSun May 48:00 PM Jack WhiteACL Live At The Moody Theater, Austin, TX Get Tickets\\nMon May 58:00 PM Jack WhiteACL Live At The Moody Theater, Austin, TX Get Tickets\\nTue May 68:00 PM Get The Led Out - Tribute BandACL Live At The Moody Theater, Austin, TX Get Tickets\\nThu May 88:00 PM Blackberry SmokeACL Live At The Moody Theater, Austin, TX Get Tickets\\nSun May 117:30 PM Alton Brown: Last BiteACL Live At The Moody Theater, Austin, TX Get Tickets\\nThu May 157:00 PM Nikki GlaserACL Live At The Moody Theater, Austin, TX Get Tickets\\nThu May 159:30 PM Nikki GlaserACL Live At The Moody Theater, Austin, TX Get Tickets\\nSat May 178:00 PM Ha*AshACL Live At The Moody Theater, Austin, TX Get Tickets\\nSun May 187:30 PM Trisha PaytasACL Live At The Moody Theater, Austin, TX Get Tickets\\nWed May 218:00 PM Hippo Campus & Hotline TNTACL Live At The Moody Theater, Austin, TX Get Tickets\\nFri May 238:00 PM Ryan AdamsACL Live At The Moody Theater, Austin, TX Get Tickets\\nThu May 297:30 PM Samara JoyACL Live At The Moody Theater, Austin, TX Get Tickets\\nFri May 307:00 PM Taylor TomlinsonACL Live At The Moody Theater, Austin, TX Get Tickets\\nSat May 315:00 PM Taylor TomlinsonACL Live At The Moody Theater, Austin, TX Get Tickets\\nSat May 318:00 PM Taylor TomlinsonACL Live At The Moody Theater, Austin, TX Get Tickets\\nTue Jun 38:00 PM OMD - Orchestral Manoeuvres In The DarkACL Live At The Moody Theater, Austin, TX Get Tickets\\nSat Jun 78:00 PM The Righteous BrothersACL Live At The Moody Theater, Austin, TX Get Tickets\\nWed Jun 116:00 PM The WigglesACL Live At The Moody Theater, Austin, TX Get Tickets\\nSat Jun 147:00 PM Kevin JamesACL Live At The Moody Theater, Austin, TX Get Tickets\\nSat Aug 28:00 PM Brit FloydACL Live At The Moody Theater, Austin, TX Get Tickets\\nSun Sep 217:00 PM Stardew Valley: Symphony Of SeasonsACL Live At The Moody Theater, Austin, TX Get Tickets\\nSat Sep 277:00 PM Matt RifeACL Live At The Moody Theater, Austin, TX Get Tickets\\nSat Sep 2710:00 PM Matt RifeACL Live At The Moody Theater, Austin, TX Get Tickets\\nSun Sep 285:00 PM Matt RifeACL Live At The Moody Theater, Austin, TX Get Tickets\\nSun Sep 288:00 PM Matt RifeACL Live At The Moody Theater, Austin, TX Get Tickets\\nFri Oct 3TBD Austin City Limits Music Festival: Weekend One - 3 Day PassZilker Park, Austin, TX Get Tickets\\nFri Oct 312:00 PM Austin City Limits Music Festival: Weekend One - FridayZilker Park, Austin, TX Get Tickets\\nSat Oct 411:00 AM Austin City Limits Music Festival: Weekend One - SaturdayZilker Park, Austin, TX Get Tickets\\nSun Oct 511:00 AM Austin City Limits Music Festival: Weekend One - SundayZilker Park, Austin, TX Get Tickets\\nFri Oct 10TBD Austin City Limits Music Festival: Weekend Two - 3 Day PassZilker Park, Austin, TX Get Tickets\\nFri Oct 1012:00 PM Austin City Limits Music Festival: Weekend Two - FridayZilker Park, Austin, TX Get Tickets\\nSat Oct 1111:00 AM Austin City Limits Music Festival: Weekend Two - SaturdayZilker Park, Austin, TX Get Tickets\\nSun Oct 1211:00 AM Austin City Limits Music Festival: Weekend Two - SundayZilker Park, Austin, TX Get Tickets\\nWed Oct 158:00 PM Killer QueenACL Live At The Moody Theater, Austin, TX Get Tickets\\nWed Nov 127:00 PM Sarah MillicanACL Live At The Moody Theater, Austin, TX Get Tickets\\nWhy Austin City Limits 2025 Is a Must-Attend Festival\\nAustin City Limits is more than a mere music festival. It’s an event of culture that brings fans from across the globe to enjoy the universal music language. With its diverse selection of music genres as well as delicious local food and a warm, welcoming environment, ACL has something for all. Here’s a few reasons to make plans to go to Austin City Limits 2025:\\n\\nA Lineup With Something for everyone: ACL is famous for its diverse lineup of artists that range that range from rock and indie to electronic, hip-hop country, and even beyond. The lineups of the past have included the famous likes Billie Eilish, The Red Hot Chili Peppers, Kendrick Lamar as well as Stevie Nicks. The 2025 lineup has not yet announced but you can anticipate to see a variety of chart-topping headliners as well as legendary acts and emerging artists, making sure there’s plenty of music for everyone.\\nTwo weekends of non-stop music Two consecutive weekends of live performances on various stages, the ACL 2025 festival offers the chance to enjoy your favourite artists in person and experience new music in an exciting festival-like setting. The festival’s layout makes simple to get between stages, so that you can attend as many events as you can.\\nAn ode to Austin’s Unique Culture known for being the Live Music Capital of the World, Austin provides the ideal backdrop for ACL. Beyond the music, festival goers are able to enjoy Austin’s famed food scene, with a range of local vendors selling anything from barbecue and tacos to vegan delicacies and gourmet food. ACL also has local artists market, crafts, and interactive experiences that highlight Austin’s artistic flair.\\n\\nWhat to Expect at Austin City Limits 2025\\nImagine yourself in the pleasant Texas sun in the midst of the sound of music on the radio, scent of mouthwatering food and a large crowd of festival-goers who are happy. Austin City Limits 2025 promises to provide all of this and many more. What can you anticipate from ACL:\\n\\nMultiple stages with non-stop music With a variety of stages that are set up in Zilker Park, ACL provides continuous music, with intimate performances on smaller stages, to large performances at the central stage. If you’re a fan of hip-hop, rock, pop electronic or other genres of music, you’ll be able to find the stage that is perfect for you.\\nLocal Food and Drinks One of the highlights of ACL is the fact that it’s committed to showcase local food and drinks vendors. From famous Austin BBQ restaurants to craft breweries, as well as innovative vegan alternatives, the festival provides the same culinary experiences that are as varied and thrilling as the music lineup. Don’t miss the renowned Austin Eats food court, which is where you can sample of Austin’s finest offerings.\\nActivities, Art and more: ACL isn’t just about music. The festival also offers many activities and experiences between sets. Take a look at the artwork or shop for unique items at the market for crafts or relax on any of the shady relaxing areas. Family-friendly, ACL is also offering Austin Kiddie Limits which is a mini-festival that is part of the festival, featuring kids-friendly entertainment, activities and arts and crafts.\\n\\nHow to Secure Your Tickets\\nTickets to Austin City Limits 2025 are anticipated to sell out fast Here’s ways to ensure that you’re a part of this unforgettable experience:\\n\\nStay updated Keep up to date by following Austin City Limits on social media and keep an eye on the official site often for news about tickets auctions, line-up announcements and much more. Joining their newsletter is an excellent way to get early access to tickets as well as special deals.\\nPick your experience: ACL offers a wide range of ticket options, which include single-day passes as well as three-day weekend passes and Platinum and VIP experiences. Each offer offers different levels of accessibility and amenities, so choose which type of experience you’d like to have and make sure you are ready to buy your tickets as soon as they are available for purchase.\\nBe ready to act quickly Tickets are available and you are unsure, Austin City Limits has a reputation to sell out fast. Make a note of the date and time of sale and be ready to reserve your tickets as soon they are available.\\n\\nExperience the Magic of Austin City Limits Live\\nAustin City Limits 2025 won’t be just another festival for music, it’s an expression of music and culture as well as community, set against the vibrant background in Austin, Texas. If you’re an experienced festival goer or a novice, ACL offers a unique experience that’s both thrilling and absorbing and combines live music at its best and the vibrant spirit of Austin.\\nGather your friends Get ready to party, and prepare for a weekend filled with amazing music, delicious food and unforgettable memories. Austin City Limits 2025 is coming and it’s a party you’ll not wish to miss!\\nAustin City Limits 2025\\nAbout\\n\\nTeam\\nHistory\\nCareers\\n\\nPrivacy\\n\\nPrivacy Policy\\nTerms and Conditions\\nContact Us\\n\\nSocial\\n\\nFacebook\\nInstagram\\nTwitter/X\\n\\nDesigned with WordPress\"}"
            ]
          },
          "execution_count": 25,
          "metadata": {},
          "output_type": "execute_result"
        }
      ],
      "source": [
        "# heck the first result of the web search result\n",
        "result[0]"
      ]
    },
    {
      "cell_type": "markdown",
      "id": "1ac37855",
      "metadata": {},
      "source": [
        "## Graph Construction"
      ]
    },
    {
      "cell_type": "markdown",
      "id": "70ab91c2",
      "metadata": {},
      "source": [
        "### Defining graph states"
      ]
    },
    {
      "cell_type": "code",
      "execution_count": 26,
      "id": "6d23ab6f",
      "metadata": {},
      "outputs": [],
      "source": [
        "from typing import List\n",
        "from typing_extensions import TypedDict, Annotated\n",
        "\n",
        "# Define the state of the graph\n",
        "class GraphState(TypedDict):\n",
        "    \"\"\"\n",
        "    Data model representing the state of the graph\n",
        "    Attributes:\n",
        "        question: Question\n",
        "        generation: LLM generated answer\n",
        "        documents: List of documents\n",
        "    \"\"\"\n",
        "    question: Annotated[str, \"User question\"]\n",
        "    generation: Annotated[str, \"LLM generated answer\"]\n",
        "    documents: Annotated[List[str], \"List of documents\"]"
      ]
    },
    {
      "cell_type": "markdown",
      "id": "f266cc42",
      "metadata": {},
      "source": [
        "## Define Graph Flows\n",
        "\n",
        "**Graph Flow** is defined to clarify the operation of **Adaptive RAG** . In this stage, the graph's state and transitions are established to enhance query processing efficiency.\n",
        "\n",
        "- **State Definition** : Clearly define each state of the graph to track the progression of the query.\n",
        "- **Transition Setup** : Configure transitions between states to ensure the query follows the appropriate path.\n",
        "- **Flow Optimization** : Optimize the graph's flow to improve the accuracy of information retrieval and generation."
      ]
    },
    {
      "cell_type": "markdown",
      "id": "633bf00c",
      "metadata": {},
      "source": [
        "### Define Nodes\n",
        "\n",
        "Define the nodes to be utilized:\n",
        "\n",
        "- `retrieve` : Document retrieval node\n",
        "- `generate` : Answer generation node\n",
        "- `grade_documents` : Document relevance evaluation node\n",
        "- `transform_query` : Question rewriting node\n",
        "- `web_search` : Web search node\n",
        "- `route_question` : Question routing node\n",
        "- `decide_to_generate` : Answer generation decision node\n",
        "- `hallucination_check` : Hallucination assessment node"
      ]
    },
    {
      "cell_type": "code",
      "execution_count": 27,
      "id": "ee6f34d0",
      "metadata": {},
      "outputs": [],
      "source": [
        "from langchain_core.documents import Document\n",
        "\n",
        "# Document retrieval node\n",
        "def retrieve(state):\n",
        "    print(\"==== [RETRIEVE] ====\")\n",
        "    question = state[\"question\"]\n",
        "\n",
        "    # Perform document retrieval\n",
        "    documents = pdf_retriever.invoke(question)\n",
        "    return {\"documents\": documents}\n",
        "\n",
        "\n",
        "# Answer generation node\n",
        "def generate(state):\n",
        "    print(\"==== [GENERATE] ====\")\n",
        "    # Get question and retrieved documents\n",
        "    question = state[\"question\"]\n",
        "    documents = state[\"documents\"]\n",
        "\n",
        "    # Generate RAG answer\n",
        "    generation = rag_chain.invoke({\"context\": documents, \"question\": question})\n",
        "    return {\"generation\": generation}\n",
        "\n",
        "\n",
        "# Document relevance evaluation node\n",
        "def grade_documents(state):\n",
        "    print(\"==== [CHECK DOCUMENT RELEVANCE TO QUESTION] ====\")\n",
        "    # Get question and retrieved documents\n",
        "    question = state[\"question\"]\n",
        "    documents = state[\"documents\"]\n",
        "\n",
        "    # Calculate relevance score for each document\n",
        "    filtered_docs = []\n",
        "    for d in documents:\n",
        "        score = retrieval_grader.invoke(\n",
        "            {\"question\": question, \"document\": d.page_content}\n",
        "        )\n",
        "        grade = score.binary_score\n",
        "        if grade == \"yes\":\n",
        "            print(\"---GRADE: DOCUMENT RELEVANT---\")\n",
        "            # Add relevant documents\n",
        "            filtered_docs.append(d)\n",
        "        else:\n",
        "            # Skip irrelevant documents\n",
        "            print(\"---GRADE: DOCUMENT NOT RELEVANT---\")\n",
        "            continue\n",
        "    return {\"documents\": filtered_docs}\n",
        "\n",
        "\n",
        "# Question rewriting node\n",
        "def transform_query(state):\n",
        "    print(\"==== [TRANSFORM QUERY] ====\")\n",
        "    # Get question and retrieved documents\n",
        "    question = state[\"question\"]\n",
        "\n",
        "    # Rewrite question\n",
        "    better_question = question_rewriter.invoke({\"question\": question})\n",
        "    return {\"question\": better_question}\n",
        "\n",
        "\n",
        "# Web search node\n",
        "def web_search(state):\n",
        "    print(\"==== [WEB SEARCH] ====\")\n",
        "    # Get question and retrieved documents\n",
        "    question = state[\"question\"]\n",
        "\n",
        "    # Perform web search\n",
        "    web_results = web_search_tool.invoke({\"query\": question})\n",
        "    web_results_docs = [\n",
        "        Document(\n",
        "            page_content=web_result[\"content\"],\n",
        "            metadata={\"source\": web_result[\"url\"]},\n",
        "        )\n",
        "        for web_result in web_results\n",
        "    ]\n",
        "\n",
        "    return {\"documents\": web_results_docs}\n",
        "\n",
        "\n",
        "# Question routing node\n",
        "def route_question(state):\n",
        "    print(\"==== [ROUTE QUESTION] ====\")\n",
        "    # Get question\n",
        "    question = state[\"question\"]\n",
        "    # Route question\n",
        "    source = question_router.invoke({\"question\": question})\n",
        "    # Route nodes based on routing result\n",
        "    if source.datasource == \"web_search\":\n",
        "        print(\"==== [ROUTE QUESTION TO WEB SEARCH] ====\")\n",
        "        return \"web_search\"\n",
        "    elif source.datasource == \"vectorstore\":\n",
        "        print(\"==== [ROUTE QUESTION TO VECTORSTORE] ====\")\n",
        "        return \"vectorstore\"\n",
        "\n",
        "\n",
        "# Document relevance evaluation node\n",
        "def decide_to_generate(state):\n",
        "    print(\"==== [DECISION TO GENERATE] ====\")\n",
        "    # Get document retrieval results\n",
        "    filtered_documents = state[\"documents\"]\n",
        "\n",
        "    if not filtered_documents:\n",
        "        # If all documents are irrelevant\n",
        "        print(\n",
        "            \"==== [DECISION: ALL DOCUMENTS ARE NOT RELEVANT TO QUESTION, TRANSFORM QUERY] ====\"\n",
        "        )\n",
        "        return \"transform_query\"\n",
        "    else:\n",
        "        # If there are relevant documents\n",
        "        print(\"==== [DECISION: GENERATE] ====\")\n",
        "        return \"generate\"\n",
        "\n",
        "\n",
        "def hallucination_check(state):\n",
        "    print(\"==== [CHECK HALLUCINATIONS] ====\")\n",
        "    # Get question and retrieved documents\n",
        "    question = state[\"question\"]\n",
        "    documents = state[\"documents\"]\n",
        "    generation = state[\"generation\"]\n",
        "\n",
        "    # Hallucination evaluation\n",
        "    score = hallucination_grader.invoke(\n",
        "        {\"documents\": documents, \"generation\": generation}\n",
        "    )\n",
        "    grade = score.binary_score\n",
        "\n",
        "    # Check for hallucination\n",
        "    if grade == \"yes\":\n",
        "        print(\"==== [DECISION: GENERATION IS GROUNDED IN DOCUMENTS] ====\")\n",
        "\n",
        "        # Evaluate answer relevance\n",
        "        print(\"==== [GRADE GENERATED ANSWER vs QUESTION] ====\")\n",
        "        score = answer_grader.invoke({\"question\": question, \"generation\": generation})\n",
        "        grade = score.binary_score\n",
        "\n",
        "        # Process based on relevance evaluation results\n",
        "        if grade == \"yes\":\n",
        "            print(\"==== [DECISION: GENERATED ANSWER ADDRESSES QUESTION] ====\")\n",
        "            return \"relevant\"\n",
        "        else:\n",
        "            print(\"==== [DECISION: GENERATED ANSWER DOES NOT ADDRESS QUESTION] ====\")\n",
        "            return \"not relevant\"\n",
        "    else:\n",
        "        print(\"==== [DECISION: GENERATION IS NOT GROUNDED IN DOCUMENTS, RE-TRY] ====\")\n",
        "        return \"hallucination\""
      ]
    },
    {
      "cell_type": "markdown",
      "id": "694ef29c",
      "metadata": {},
      "source": [
        "### Define Edges"
      ]
    },
    {
      "cell_type": "code",
      "execution_count": 28,
      "id": "c21c1de6",
      "metadata": {},
      "outputs": [],
      "source": [
        "# Question routing node\n",
        "def route_question(state):\n",
        "    print(\"==== [ROUTE QUESTION] ====\")\n",
        "    # Get question\n",
        "    question = state[\"question\"]\n",
        "    # Route question\n",
        "    source = question_router.invoke({\"question\": question})\n",
        "    # Route nodes based on routing result\n",
        "    if source.datasource == \"web_search\":\n",
        "        print(\"==== [ROUTE QUESTION TO WEB SEARCH] ====\")\n",
        "        return \"web_search\"\n",
        "    elif source.datasource == \"vectorstore\":\n",
        "        print(\"==== [ROUTE QUESTION TO VECTORSTORE] ====\")\n",
        "        return \"vectorstore\"\n",
        "\n",
        "# Document relevance evaluation node\n",
        "def decide_to_generate(state):\n",
        "    print(\"==== [DECISION TO GENERATE] ====\")\n",
        "    # Get question and document search results\n",
        "    filtered_documents = state[\"documents\"]\n",
        "    if not filtered_documents:\n",
        "        # If all documents are irrelevant, rewrite the question\n",
        "        print(\n",
        "            \"==== [DECISION: ALL DOCUMENTS ARE NOT RELEVANT TO QUESTION, TRANSFORM QUERY] ====\"\n",
        "        )\n",
        "        return \"transform_query\"\n",
        "    else:\n",
        "        # If relevant documents exist, generate answer\n",
        "        print(\"==== [DECISION: GENERATE] ====\")\n",
        "        return \"generate\"\n",
        "\n",
        "def hallucination_check(state):\n",
        "    print(\"==== [CHECK HALLUCINATIONS] ====\")\n",
        "    # Get question and document search results\n",
        "    question = state[\"question\"]\n",
        "    documents = state[\"documents\"]\n",
        "    generation = state[\"generation\"]\n",
        "    # Hallucination evaluation\n",
        "    score = hallucination_grader.invoke(\n",
        "        {\"documents\": documents, \"generation\": generation}\n",
        "    )\n",
        "    grade = score.binary_score\n",
        "    # Check for hallucination\n",
        "    if grade == \"yes\":\n",
        "        print(\"==== [DECISION: GENERATION IS GROUNDED IN DOCUMENTS] ====\")\n",
        "        # Evaluate answer relevance\n",
        "        print(\"==== [GRADE GENERATED ANSWER vs QUESTION] ====\")\n",
        "        score = answer_grader.invoke({\"question\": question, \"generation\": generation})\n",
        "        grade = score.binary_score\n",
        "        # Process based on relevance evaluation results\n",
        "        if grade == \"yes\":\n",
        "            print(\"==== [DECISION: GENERATED ANSWER ADDRESSES QUESTION] ====\")\n",
        "            return \"relevant\"\n",
        "        else:\n",
        "            print(\"==== [DECISION: GENERATED ANSWER DOES NOT ADDRESS QUESTION] ====\")\n",
        "            return \"not relevant\"\n",
        "    else:\n",
        "        print(\"==== [DECISION: GENERATION IS NOT GROUNDED IN DOCUMENTS, RE-TRY] ====\")\n",
        "        return \"hallucination\""
      ]
    },
    {
      "cell_type": "markdown",
      "id": "99033673",
      "metadata": {},
      "source": [
        "### **Graph Compilation**\n",
        "\n",
        "In the **Graph Compilation** stage, the **Adaptive RAG** workflow is constructed and brought to an executable state. This process defines the entire query processing flow by connecting each node and edge of the graph.\n",
        "\n",
        "* **Node Definition** : Define each node to clarify the graph's states and transitions.\n",
        "* **Edge Configuration** : Set up edges between nodes to ensure the query follows the appropriate path.\n",
        "* **Workflow Construction** : Build the overall graph flow to maximize the efficiency of information retrieval and generation."
      ]
    },
    {
      "cell_type": "code",
      "execution_count": 29,
      "id": "e895f668",
      "metadata": {},
      "outputs": [],
      "source": [
        "from langgraph.graph import END, StateGraph, START\n",
        "from langgraph.checkpoint.memory import MemorySaver\n",
        "\n",
        "# Initialize graph state\n",
        "workflow = StateGraph(GraphState)\n",
        "\n",
        "# Define nodes\n",
        "workflow.add_node(\"web_search\", web_search)  # Web search\n",
        "workflow.add_node(\"retrieve\", retrieve)  # Document retrieval\n",
        "workflow.add_node(\"grade_documents\", grade_documents)  # Document evaluation\n",
        "workflow.add_node(\"generate\", generate)  # Answer generation\n",
        "workflow.add_node(\"transform_query\", transform_query)  # Query transformation\n",
        "\n",
        "# Build graph\n",
        "workflow.add_conditional_edges(\n",
        "   START,\n",
        "   route_question,\n",
        "   {\n",
        "       \"web_search\": \"web_search\",  # Route to web search\n",
        "       \"vectorstore\": \"retrieve\",  # Route to vectorstore\n",
        "   },\n",
        ")\n",
        "workflow.add_edge(\"web_search\", \"generate\")  # Generate answer after web search\n",
        "workflow.add_edge(\"retrieve\", \"grade_documents\")  # Evaluate documents after retrieval\n",
        "workflow.add_conditional_edges(\n",
        "   \"grade_documents\",\n",
        "   decide_to_generate,\n",
        "   {\n",
        "       \"transform_query\": \"transform_query\",  # Query transformation needed\n",
        "       \"generate\": \"generate\",  # Answer generation possible\n",
        "   },\n",
        ")\n",
        "workflow.add_edge(\"transform_query\", \"retrieve\")  # Retrieve documents after query transformation\n",
        "workflow.add_conditional_edges(\n",
        "   \"generate\",\n",
        "   hallucination_check,\n",
        "   {\n",
        "       \"hallucination\": \"generate\",  # Regenerate if hallucination occurs\n",
        "       \"relevant\": END,  # Pass if answer is relevant\n",
        "       \"not relevant\": \"transform_query\",  # Transform query if answer is not relevant\n",
        "   },\n",
        ")\n",
        "\n",
        "# Compile graph\n",
        "app = workflow.compile(checkpointer=MemorySaver())"
      ]
    },
    {
      "cell_type": "code",
      "execution_count": 30,
      "id": "05321087",
      "metadata": {},
      "outputs": [
        {
          "data": {
            "image/png": "[encoded data removed]",
            "text/plain": [
              "<IPython.core.display.Image object>"
            ]
          },
          "metadata": {},
          "output_type": "display_data"
        }
      ],
      "source": [
        "from langchain_opentutorial.graphs import visualize_graph\n",
        "\n",
        "visualize_graph(app)"
      ]
    },
    {
      "cell_type": "markdown",
      "id": "b015ba3d",
      "metadata": {},
      "source": [
        "[NOTE] Description\n",
        "<div style=\"text-align: center;\">\n",
        "    <img src=\"./assets/07-langgraph-adaptive-rag-02.png\" alt=\"Image Description\" width=\"500\">\n",
        "</div>\n",
        "\n",
        "Here's an explanation of the diagram based on the **Graph Compilation** context:\n",
        "\n",
        "This diagram represents an **Adaptive RAG** (Retrieval-Augmented Generation) workflow, showing how nodes and edges are connected in the query processing flow:\n",
        "\n",
        "1. **Node Definition**:\n",
        "   - `_start_` and `_end_` define entry and exit states\n",
        "   - `web_search` handles web-based information retrieval\n",
        "   - `Generate` manages content generation\n",
        "   - `transform_query` processes and adapts queries\n",
        "   - `retrieve` fetches relevant information\n",
        "   - `grade_documents` evaluates document quality\n",
        "   - `vectorstore` manages vector-based information storage\n",
        "\n",
        "2. **Edge Configuration**:\n",
        "   - Solid arrows represent direct transitions between nodes\n",
        "   - Dashed arrows indicate conditional paths and feedback loops\n",
        "   - Labels like 'not relevant', 'hallucination', and 'relevant' define transition conditions\n",
        "\n",
        "3. **Workflow Construction**:\n",
        "   - Primary path splits into web search and vector retrieval branches\n",
        "   - Multiple feedback loops ensure quality control\n",
        "   - Integration between retrieval (`web_search`, `retrieve`) and generation (`Generate`) components\n",
        "   - Document grading system (`grade_documents`) provides quality assurance"
      ]
    },
    {
      "cell_type": "markdown",
      "id": "195b7e06",
      "metadata": {},
      "source": [
        "## Graph Utilization\n",
        "\n",
        "In the **Graph Utilization** stage, the execution of **Adaptive RAG** is used to verify query processing results. This process follows the nodes and edges of the graph to generate the final outcome.\n",
        "\n",
        "* **Graph Execution** : Execute the defined graph by following the query's flow.\n",
        "* **Result Verification** : Review the generated results after graph execution to confirm that the query was processed appropriately.\n",
        "* **Result Analysis** : Analyze the generated results to evaluate their alignment with the query's objectives."
      ]
    },
    {
      "cell_type": "code",
      "execution_count": 31,
      "id": "2a554da2",
      "metadata": {},
      "outputs": [
        {
          "name": "stdout",
          "output_type": "stream",
          "text": [
            "==== [ROUTE QUESTION] ====\n",
            "==== [ROUTE QUESTION TO VECTORSTORE] ====\n",
            "==== [RETRIEVE] ====\n",
            "==== [CHECK DOCUMENT RELEVANCE TO QUESTION] ====\n",
            "---GRADE: DOCUMENT RELEVANT---\n",
            "---GRADE: DOCUMENT RELEVANT---\n",
            "---GRADE: DOCUMENT RELEVANT---\n",
            "---GRADE: DOCUMENT NOT RELEVANT---\n",
            "==== [DECISION TO GENERATE] ====\n",
            "==== [DECISION: GENERATE] ====\n",
            "==== [GENERATE] ====\n",
            "\n",
            "==================================================\n",
            "🔄 Node: \u001b[1;36mgenerate\u001b[0m 🔄\n",
            "- - - - - - - - - - - - - - - - - - - - - - - - - \n",
            "AI applications in healthcare face several limitations according to the European approach:\n",
            "\n",
            "1. **Data Privacy and Security**: There are significant concerns about data privacy and patient trust, especially regarding the use of personal health data. AI tools need to demonstrate that they handle data privacy with extra care beyond GDPR requirements.\n",
            "\n",
            "2. **Data Fragmentation**: The fragmented nature of European healthcare systems and standards poses challenges for data access and interoperability across different regions and institutions.\n",
            "\n",
            "3. **Organizational and Skill Challenges**: There is a need for upskilling or reskilling healthcare practitioners to understand AI's potential. Additionally, data scientists require specific healthcare training to align with healthcare practitioners' needs.\n",
            "\n",
            "4. **Regulatory Harmonization**: New AI regulations need to be harmonized with existing regulations, such as those for medical devices, to avoid introducing new certification systems that could increase fragmentation.\n",
            "\n",
            "5. **Limited Uptake**: Many AI initiatives remain small, and their adoption by hospitals is limited, partly due to the need for AI tools to prove a clear return on investment.\n",
            "\n",
            "**Source**\n",
            "- data/A European Approach to Artificial Intelligence - A Policy Perspective.pdf (pages 14-15==== [CHECK HALLUCINATIONS] ====\n",
            ")==== [DECISION: GENERATION IS GROUNDED IN DOCUMENTS] ====\n",
            "==== [GRADE GENERATED ANSWER vs QUESTION] ====\n",
            "==== [DECISION: GENERATED ANSWER ADDRESSES QUESTION] ====\n"
          ]
        }
      ],
      "source": [
        "from langchain_opentutorial.messages import stream_graph\n",
        "from langchain_core.runnables import RunnableConfig\n",
        "import uuid\n",
        "\n",
        "# Configure settings (maximum recursion, thread_id)\n",
        "config = RunnableConfig(recursion_limit=20, configurable={\"thread_id\": uuid.uuid4()})\n",
        "\n",
        "# Input question\n",
        "inputs = {\n",
        "   \"question\": \"What are the current limitations of AI applications in healthcare settings as outlined by the European approach?\",\n",
        "}\n",
        "\n",
        "# Execute graph\n",
        "stream_graph(app, inputs, config, [\"agent\", \"rewrite\", \"generate\"])"
      ]
    }
  ],
  "metadata": {
    "kernelspec": {
      "display_name": ".venv",
      "language": "python",
      "name": "python3"
    },
    "language_info": {
      "codemirror_mode": {
        "name": "ipython",
        "version": 3
      },
      "file_extension": ".py",
      "mimetype": "text/x-python",
      "name": "python",
      "nbconvert_exporter": "python",
      "pygments_lexer": "ipython3",
      "version": "3.11.11"
    }
  },
  "nbformat": 4,
  "nbformat_minor": 5
}
