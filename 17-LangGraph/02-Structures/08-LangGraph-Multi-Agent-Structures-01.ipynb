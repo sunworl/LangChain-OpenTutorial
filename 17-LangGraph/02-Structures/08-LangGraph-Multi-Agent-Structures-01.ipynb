{
  "cells": [
    {
      "cell_type": "markdown",
      "id": "635d8ebb",
      "metadata": {},
      "source": [
        "# Multi-Agent Structures (1)\n",
        "\n",
        "- Author: [Sunyoung Park (architectyou)](https://github.com/architectyou)\n",
        "- Design:\n",
        "- Peer Review:\n",
        "- This is a part of [LangChain Open Tutorial](https://github.com/LangChain-OpenTutorial/LangChain-OpenTutorial)\n",
        "\n",
        "[![Open in Colab](https://colab.research.google.com/assets/colab-badge.svg)](https://colab.research.google.com/github/LangChain-OpenTutorial/LangChain-OpenTutorial/blob/main/99-TEMPLATE/00-BASE-TEMPLATE-EXAMPLE.ipynb) [![Open in GitHub](https://img.shields.io/badge/Open%20in%20GitHub-181717?style=flat-square&logo=github&logoColor=white)](https://github.com/LangChain-OpenTutorial/LangChain-OpenTutorial/blob/main/99-TEMPLATE/00-BASE-TEMPLATE-EXAMPLE.ipynb)\n",
        "\n",
        "## Overview\n",
        "\n",
        "An agent system is a system where LLMs can choose to control the flow of applications. As application systems become increasingly complex over time, managing and handling these systems during development has become more difficult. For example, you may encounter the following problems:\n",
        "\n",
        "- Agents use too many tools to process, leading to poor quality decisions for subsequent tool calls.\n",
        "- The context becomes too complex to track a single agent.\n",
        "- Multiple specialized areas appear to be needed within the system (e.g., planner, researcher, math expert, etc.)\n",
        "\n",
        "To deal with these situations, you can split your agent service into multiple agents.\n",
        "\n",
        "Create independent agents and organize them into a **multi-agent** system.\n",
        "\n",
        "These independent agents each have a single prompt and can make one LLM call or become complex agents like **ReAct Agent**.\n",
        "\n",
        "The main benefits of using a multi-agent system are:\n",
        "\n",
        "- **modularity**: easily separate, test, and maintain agents in the agentic system.\n",
        "- **specialization**: create domain-specific expert agents that improve the performance of the entire system.\n",
        "- **control**: compared to **Function Calling**, you can clearly see how agents communicate.\n",
        "\n",
        "There are 6 ways to configure multi-agents.\n",
        "\n",
        "![Multiagent-Structures](./assets/08-langgraph-multiagent-structures-01.png)\n",
        "\n",
        "In this tutorial, we will explore the existing **single agent**, **network**, and **supervisor** structures among these.\n",
        "\n",
        "![Multiagent-Structures-01](./assets/08-langgraph-multiagent-structures-02.png)\n",
        "\n",
        "### Table of Contents\n",
        "\n",
        "- [Overview](#overview)\n",
        "- [Environment Setup](#environment-setup)\n",
        "- [Single Agent Review](#single-agent-review)\n",
        "- [Hands-Off](#hands-off)\n",
        "- [Network Structure](#network-structure)\n",
        "- [Supervisor Structure](#supervisor-structure)\n",
        "\n",
        "### References\n",
        "\n",
        "- [LangGraph: Multi-agent Systems](https://langchain-ai.github.io/langgraph/concepts/multi_agent/)\n",
        "- [LangGraph: Multi-agent Network](https://langchain-ai.github.io/langgraph/tutorials/multi_agent/multi-agent-collaboration/)\n",
        "- [LangGraph.Types: Command](https://langchain-ai.github.io/langgraph/reference/types/#langgraph.types.Command)\n",
        "- [LangGraph: Multi-Agent Communication Between Agents](https://langchain-ai.github.io/langgraph/concepts/multi_agent/#communication-between-agents)\n",
        "---"
      ]
    },
    {
      "cell_type": "markdown",
      "id": "c6c7aba4",
      "metadata": {},
      "source": [
        "## Environment Setup\n",
        "\n",
        "Set up the environment. You may refer to [Environment Setup](https://wikidocs.net/257836) for more details.\n",
        "\n",
        "**[Note]**\n",
        "- `langchain-opentutorial` is a package that provides a set of easy-to-use environment setup, useful functions and utilities for tutorials. \n",
        "- You can checkout the [`langchain-opentutorial`](https://github.com/LangChain-OpenTutorial/langchain-opentutorial-pypi) for more details."
      ]
    },
    {
      "cell_type": "code",
      "execution_count": 1,
      "id": "21943adb",
      "metadata": {},
      "outputs": [],
      "source": [
        "%%capture --no-stderr\n",
        "%pip install langchain-opentutorial"
      ]
    },
    {
      "cell_type": "code",
      "execution_count": 2,
      "id": "f25ec196",
      "metadata": {},
      "outputs": [],
      "source": [
        "# Install required packages\n",
        "from langchain_opentutorial import package\n",
        "\n",
        "package.install(\n",
        "    [\n",
        "        \"langgraph\",\n",
        "        \"langchain-openai\",\n",
        "    ],\n",
        "    verbose=False,\n",
        "    upgrade=False,\n",
        ")"
      ]
    },
    {
      "cell_type": "code",
      "execution_count": 3,
      "id": "7f9065ea",
      "metadata": {},
      "outputs": [
        {
          "name": "stdout",
          "output_type": "stream",
          "text": [
            "Environment variables have been set successfully.\n"
          ]
        }
      ],
      "source": [
        "# Set environment variables\n",
        "from langchain_opentutorial import set_env\n",
        "\n",
        "set_env(\n",
        "    {\n",
        "        \"OPENAI_API_KEY\": \"\",\n",
        "        \"LANGCHAIN_API_KEY\": \"\",\n",
        "        \"LANGCHAIN_TRACING_V2\": \"true\",\n",
        "        \"LANGCHAIN_ENDPOINT\": \"https://api.smith.langchain.com\",\n",
        "        \"LANGCHAIN_PROJECT\": \"Multi-Agent Structures(1)\",\n",
        "    }\n",
        ")"
      ]
    },
    {
      "cell_type": "markdown",
      "id": "690a9ae0",
      "metadata": {},
      "source": [
        "You can alternatively set API keys such as `OPENAI_API_KEY` in a `.env` file and load them.\n",
        "\n",
        "**[Note]** This is not necessary if you've already set the required API keys in previous steps."
      ]
    },
    {
      "cell_type": "code",
      "execution_count": 4,
      "id": "4f99b5b6",
      "metadata": {},
      "outputs": [
        {
          "data": {
            "text/plain": [
              "True"
            ]
          },
          "execution_count": 4,
          "metadata": {},
          "output_type": "execute_result"
        }
      ],
      "source": [
        "# Load API keys from .env file\n",
        "from dotenv import load_dotenv\n",
        "\n",
        "load_dotenv(override=True)"
      ]
    },
    {
      "cell_type": "markdown",
      "id": "d7e3311a",
      "metadata": {},
      "source": [
        "## Single Agent Review\n",
        "\n",
        "A **Single Agent** is an agent that has one prompt and makes one LLM call. It operates independently without interacting with other agents. However, as the service you want to build becomes more complex, it becomes difficult to handle complex tasks with just a single prompt and a single LLM call.\n",
        "\n",
        "Therefore, while **Single Agents** are effective for performing specific tasks in clearly defined environments, they have the limitation of being more restricted compared to Multi-Agent systems in complex and dynamic environments."
      ]
    },
    {
      "cell_type": "markdown",
      "id": "1608ea26",
      "metadata": {},
      "source": [
        "Below is an example of a conversational chatbot structured using a single agent that provides simple responses."
      ]
    },
    {
      "cell_type": "code",
      "execution_count": 5,
      "id": "17efec71",
      "metadata": {},
      "outputs": [],
      "source": [
        "from typing import Annotated\n",
        "from typing_extensions import TypedDict\n",
        "from langgraph.graph import StateGraph, START, END\n",
        "from langgraph.graph.message import add_messages\n",
        "\n",
        "\n",
        "class State(TypedDict):\n",
        "    # Messages have the type \"list\". The `add_messages` function\n",
        "    # in the annotation defines how this state key should be updated\n",
        "    # (in this case, it appends messages to the list, rather than overwriting them)\n",
        "    messages: Annotated[list, add_messages]\n",
        "\n",
        "\n",
        "graph_builder = StateGraph(State)"
      ]
    },
    {
      "cell_type": "code",
      "execution_count": 6,
      "id": "dc13f47e",
      "metadata": {},
      "outputs": [],
      "source": [
        "from langchain_openai import ChatOpenAI\n",
        "\n",
        "llm = ChatOpenAI(model=\"gpt-4o-mini\")\n",
        "\n",
        "\n",
        "def chatbot(state: State):\n",
        "    return {\"messages\": [llm.invoke(state[\"messages\"])]}\n",
        "\n",
        "\n",
        "# The first argument is the unique node name\n",
        "# The second argument is the function or object that will be called whenever\n",
        "# the node is used.\n",
        "graph_builder.add_node(\"chatbot\", chatbot)\n",
        "graph_builder.add_edge(START, \"chatbot\")\n",
        "graph_builder.add_edge(\"chatbot\", END)\n",
        "graph = graph_builder.compile()"
      ]
    },
    {
      "cell_type": "markdown",
      "id": "03c792dc",
      "metadata": {},
      "source": [
        "Visualize the Graph."
      ]
    },
    {
      "cell_type": "code",
      "execution_count": 7,
      "id": "44c14b1b",
      "metadata": {},
      "outputs": [
        {
          "data": {
            "image/png": "[encoded data removed]",
            "text/plain": [
              "<IPython.core.display.Image object>"
            ]
          },
          "metadata": {},
          "output_type": "display_data"
        }
      ],
      "source": [
        "from langchain_opentutorial.graphs import visualize_graph\n",
        "\n",
        "visualize_graph(graph)"
      ]
    },
    {
      "cell_type": "markdown",
      "id": "3c3e6a81",
      "metadata": {},
      "source": [
        "Run the Single Agent based Chatbot Application."
      ]
    },
    {
      "cell_type": "markdown",
      "id": "96d858ec",
      "metadata": {},
      "source": [
        "When entering a query, input it in the next cell in the executor, and enter 'q' when you want to exit.\n",
        "\n",
        "<img src = \"./assets/08-langgraph-multiagent-structures-03.png\" width = \"650\">"
      ]
    },
    {
      "cell_type": "markdown",
      "id": "ff97476d",
      "metadata": {},
      "source": []
    },
    {
      "cell_type": "code",
      "execution_count": 8,
      "id": "91eafd33",
      "metadata": {},
      "outputs": [
        {
          "name": "stdout",
          "output_type": "stream",
          "text": [
            "Assistant: Certainly! A Multi-Agent System (MAS) is a computational system that consists of multiple interacting agents, which are autonomous entities capable of perceiving their environment, reasoning, and taking actions to achieve specific goals. These agents can be software programs, robots, or any entities that can act and make decisions based on their own objectives and perceptions.\n",
            "\n",
            "### Key Features of Multi-Agent Systems:\n",
            "\n",
            "1. **Autonomy**: Each agent operates independently and can make its own decisions without direct human intervention.\n",
            "\n",
            "2. **Social Ability**: Agents can communicate and interact with each other, which may involve sharing information, negotiating, or coordinating actions to achieve common goals or resolve conflicts.\n",
            "\n",
            "3. **Reactivity**: Agents can perceive their environment and respond to changes in it, allowing them to adapt to dynamic situations.\n",
            "\n",
            "4. **Proactivity**: Agents can take initiative and act in anticipation of future events, rather than just reacting to stimuli.\n",
            "\n",
            "5. **Heterogeneity**: Agents in a MAS can vary in terms of their capabilities, knowledge, and goals. This diversity allows for more complex and flexible systems.\n",
            "\n",
            "### Types of Agents:\n",
            "\n",
            "- **Reactive Agents**: These agents respond to environmental stimuli but do not have complex internal models of the world.\n",
            "  \n",
            "- **Deliberative Agents**: These agents maintain an internal model of the world and plan their actions based on this model.\n",
            "\n",
            "- **Hybrid Agents**: These combine both reactive and deliberative capabilities.\n",
            "\n",
            "### Applications of Multi-Agent Systems:\n",
            "\n",
            "- **Robotics**: In swarm robotics, multiple robots work together to complete tasks such as exploration, mapping, or search and rescue.\n",
            "\n",
            "- **Distributed Control Systems**: MAS can be used to manage and control systems in manufacturing, transportation, and logistics.\n",
            "\n",
            "- **Game AI**: Agents can simulate complex behaviors in video games or simulations, providing realistic interactions.\n",
            "\n",
            "- **E-commerce**: Agents can negotiate and trade on behalf of users, optimizing the purchasing process.\n",
            "\n",
            "- **Smart Environments**: In smart homes or cities, agents can interact to manage resources efficiently, such as energy consumption and traffic flow.\n",
            "\n",
            "### Benefits of Multi-Agent Systems:\n",
            "\n",
            "- **Scalability**: They can handle large and complex problems by distributing tasks among multiple agents.\n",
            "\n",
            "- **Robustness**: The failure of a single agent does not necessarily compromise the entire system, as other agents can continue to operate.\n",
            "\n",
            "- **Flexibility**: MAS can adapt to changing environments and requirements more easily than centralized systems.\n",
            "\n",
            "### Challenges:\n",
            "\n",
            "- **Coordination**: Ensuring that agents work together effectively can be challenging, particularly when their goals conflict.\n",
            "\n",
            "- **Communication**: Developing efficient communication protocols for agents to share information and negotiate can be complex.\n",
            "\n",
            "- **Security**: Ensuring that the interactions among agents are secure and that malicious agents do not disrupt the system is crucial.\n",
            "\n",
            "In summary, Multi-Agent Systems provide a powerful framework for building complex systems that require decentralized control, collaboration, and adaptability. They are widely used in various fields, from robotics to economics, and continue to be an area of active research and development.\n",
            "Goodbye!\n"
          ]
        }
      ],
      "source": [
        "def stream_graph_updates(user_input: str):\n",
        "    for event in graph.stream({\"messages\": [{\"role\": \"user\", \"content\": user_input}]}):\n",
        "        for value in event.values():\n",
        "            print(\"Assistant:\", value[\"messages\"][-1].content)\n",
        "\n",
        "\n",
        "while True:\n",
        "    try:\n",
        "        user_input = input(\"User: \")\n",
        "        if user_input.lower() in [\"quit\", \"exit\", \"q\"]:\n",
        "            print(\"Goodbye!\")\n",
        "            break\n",
        "\n",
        "        stream_graph_updates(user_input)\n",
        "    except:\n",
        "        # fallback if input() is not available\n",
        "        user_input = \"What do you know about LangGraph?\"\n",
        "        print(\"User: \" + user_input)\n",
        "        stream_graph_updates(user_input)\n",
        "        break"
      ]
    },
    {
      "cell_type": "markdown",
      "id": "c05a5e9a",
      "metadata": {},
      "source": [
        "## Hands-Off\n",
        "\n",
        "In a multi-agent architecture, agents can be represented as graph nodes. Each agent node executes a step and decides whether to complete execution or route to another agent. This potentially includes routing to itself (i.e., running in a loop). \n",
        "\n",
        "A common pattern in multi-agent interactions is a handoff, where one agent passes control to another agent. With handoffs, you can specify:\n",
        "\n",
        "- **Destination**: The target agent to navigate to (e.g., the name of the node to move to)\n",
        "- **Payload**: Information to pass to that agent (e.g., `state` updates)\n",
        "\n",
        "To implement handoffs in LangGraph, agent nodes can return a `Command` object that combines control flow and state updates."
      ]
    },
    {
      "cell_type": "code",
      "execution_count": 9,
      "id": "dc2d582f",
      "metadata": {},
      "outputs": [],
      "source": [
        "from typing import Literal\n",
        "from langgraph.types import Command\n",
        "\n",
        "def agent(state) -> Command[Literal[\"agent\", \"another_agent\"]]:\n",
        "    # the condition for routing/halting can be anything, e.g. LLM tool call / structured output, etc.\n",
        "    goto = get_next_agent(...)  # 'agent' / 'another_agent'\n",
        "    return Command(\n",
        "        # Specify which agent to call next\n",
        "        goto=goto,\n",
        "        # Update the graph state\n",
        "        update={\"my_state_key\": \"my_state_value\"}\n",
        "    )"
      ]
    },
    {
      "cell_type": "markdown",
      "id": "52310c0c",
      "metadata": {},
      "source": [
        "In more complex scenarios where each agent node itself is a graph (i.e., a subgraph), a node in one of the agent subgraphs might want to move to another agent. For example, if you have two agents, alice and bob (subgraph nodes in the parent graph), and you need to move from bob to alice, you can set `graph=Command.PARENT` in the `Command` object."
      ]
    },
    {
      "cell_type": "code",
      "execution_count": 10,
      "id": "febf5251",
      "metadata": {},
      "outputs": [],
      "source": [
        "def some_node_inside_alice(state):\n",
        "    return Command(\n",
        "        goto=\"bob\",\n",
        "        update={\"my_state_key\": \"my_state_value\"},\n",
        "        # specify which graph to navigate to (defaults to the current graph)\n",
        "        graph=Command.PARENT,\n",
        "    )"
      ]
    },
    {
      "cell_type": "markdown",
      "id": "22a2fa3a",
      "metadata": {},
      "source": [
        "[NOTE]\n",
        "\n",
        "If you need to support visualization for subgraphs communicating using Command(graph=Command.PARENT) you would need to wrap them in a node function with Command annotation, e.g. instead of this:\n",
        "\n",
        "```python\n",
        "builder.add_node(alice)\n",
        "```\n",
        "you would need to do this:\n",
        "\n",
        "```python\n",
        "def call_alice(state) -> Command[Literal[\"bob\"]]:\n",
        "    return alice.invoke(state)\n",
        "\n",
        "builder.add_node(\"alice\", call_alice)\n",
        "```"
      ]
    },
    {
      "cell_type": "markdown",
      "id": "c19195b7",
      "metadata": {},
      "source": [
        "### Handoffs as Tools\n",
        "\n",
        "One of the most common types of agents is the **ReAct-style tool-calling** agent. For this type of agent, a common pattern is to wrap handoffs as tool calls.\n",
        "\n",
        "For example:"
      ]
    },
    {
      "cell_type": "code",
      "execution_count": 11,
      "id": "99cd1a10",
      "metadata": {},
      "outputs": [],
      "source": [
        "def transfer_to_bob(state):\n",
        "    \"\"\"Transfer to bob.\"\"\"\n",
        "    return Command(\n",
        "        goto=\"bob\",\n",
        "        update={\"my_state_key\": \"my_state_value\"},\n",
        "        graph=Command.PARENT,\n",
        "    )"
      ]
    },
    {
      "cell_type": "markdown",
      "id": "9d62091e",
      "metadata": {},
      "source": [
        "This is a special case of updating graph state from a tool, which includes control flow in addition to `state` updates."
      ]
    },
    {
      "cell_type": "markdown",
      "id": "f8fe21b6",
      "metadata": {},
      "source": [
        "## Network Structure\n",
        "\n",
        "In this architecture, agents are defined as **graph nodes**. Each agent can communicate with all other agents (**many-to-many connections**) and can decide which agent to call next. This architecture is suitable for problems where there is no clear hierarchy of agents or specific order in which agents must be called."
      ]
    },
    {
      "cell_type": "code",
      "execution_count": 12,
      "id": "09ca3bc1",
      "metadata": {},
      "outputs": [],
      "source": [
        "from langgraph.graph import MessagesState\n",
        "\n",
        "model = ChatOpenAI(\n",
        "    model=\"gpt-4o-mini\",\n",
        ")\n",
        "\n",
        "def agent_1(state: MessagesState) -> Command[Literal[\"agent_2\", \"agent_3\", END]]:\n",
        "    # you can pass relevant parts of the state to the LLM (e.g., state[\"messages\"])\n",
        "    # to determine which agent to call next. a common pattern is to call the model\n",
        "    # with a structured output (e.g. force it to return an output with a \"next_agent\" field)\n",
        "    response = model.invoke(...)\n",
        "    # route to one of the agents or exit based on the LLM's decision\n",
        "    # if the LLM returns \"__end__\", the graph will finish execution\n",
        "    return Command(\n",
        "        goto=response[\"next_agent\"],\n",
        "        update={\"messages\": [response[\"content\"]]},\n",
        "    )\n",
        "\n",
        "def agent_2(state: MessagesState) -> Command[Literal[\"agent_1\", \"agent_3\", END]]:\n",
        "    response = model.invoke(...)\n",
        "    return Command(\n",
        "        goto=response[\"next_agent\"],\n",
        "        update={\"messages\": [response[\"content\"]]},\n",
        "    )\n",
        "\n",
        "def agent_3(state: MessagesState) -> Command[Literal[\"agent_1\", \"agent_2\", END]]:\n",
        "    ...\n",
        "    return Command(\n",
        "        goto=response[\"next_agent\"],\n",
        "        update={\"messages\": [response[\"content\"]]},\n",
        "    )\n",
        "\n",
        "builder = StateGraph(MessagesState)\n",
        "builder.add_node(agent_1)\n",
        "builder.add_node(agent_2)\n",
        "builder.add_node(agent_3)\n",
        "\n",
        "builder.add_edge(START, \"agent_1\")\n",
        "network = builder.compile()"
      ]
    },
    {
      "cell_type": "markdown",
      "id": "9ef130fb",
      "metadata": {},
      "source": [
        "Visualize the Network."
      ]
    },
    {
      "cell_type": "code",
      "execution_count": 13,
      "id": "973ceacf",
      "metadata": {},
      "outputs": [
        {
          "data": {
            "image/png": "[encoded data removed]",
            "text/plain": [
              "<IPython.core.display.Image object>"
            ]
          },
          "metadata": {},
          "output_type": "display_data"
        }
      ],
      "source": [
        "visualize_graph(network)"
      ]
    },
    {
      "cell_type": "markdown",
      "id": "5665f225",
      "metadata": {},
      "source": [
        "## Supervisor Structure\n",
        "\n",
        "In this architecture, we define agents as nodes and add a supervisor node (LLM) that decides which agent node to call next. We use `Command` to route execution to the appropriate agent node based on the supervisor's decision. This architecture is also suitable for running multiple agents in parallel or using map-reduce patterns."
      ]
    },
    {
      "cell_type": "code",
      "execution_count": 14,
      "id": "279555a6",
      "metadata": {},
      "outputs": [],
      "source": [
        "model = ChatOpenAI(\n",
        "    model=\"gpt-4o-mini\",\n",
        ")\n",
        "\n",
        "def supervisor(state: MessagesState) -> Command[Literal[\"agent_1\", \"agent_2\", END]]:\n",
        "    # you can pass relevant parts of the state to the LLM (e.g., state[\"messages\"])\n",
        "    # to determine which agent to call next. a common pattern is to call the model\n",
        "    # with a structured output (e.g. force it to return an output with a \"next_agent\" field)\n",
        "    response = model.invoke(...)\n",
        "    # route to one of the agents or exit based on the supervisor's decision\n",
        "    # if the supervisor returns \"__end__\", the graph will finish execution\n",
        "    return Command(goto=response[\"next_agent\"])\n",
        "\n",
        "def agent_1(state: MessagesState) -> Command[Literal[\"supervisor\"]]:\n",
        "    # you can pass relevant parts of the state to the LLM (e.g., state[\"messages\"])\n",
        "    # and add any additional logic (different models, custom prompts, structured output, etc.)\n",
        "    response = model.invoke(...)\n",
        "    return Command(\n",
        "        goto=\"supervisor\",\n",
        "        update={\"messages\": [response]},\n",
        "    )\n",
        "\n",
        "def agent_2(state: MessagesState) -> Command[Literal[\"supervisor\"]]:\n",
        "    response = model.invoke(...)\n",
        "    return Command(\n",
        "        goto=\"supervisor\",\n",
        "        update={\"messages\": [response]},\n",
        "    )\n",
        "\n",
        "builder = StateGraph(MessagesState)\n",
        "builder.add_node(supervisor)\n",
        "builder.add_node(agent_1)\n",
        "builder.add_node(agent_2)\n",
        "\n",
        "builder.add_edge(START, \"supervisor\")\n",
        "\n",
        "supervisor = builder.compile()"
      ]
    },
    {
      "cell_type": "markdown",
      "id": "1f2e7780",
      "metadata": {},
      "source": [
        "Visualize the Network."
      ]
    },
    {
      "cell_type": "code",
      "execution_count": 15,
      "id": "e4217f55",
      "metadata": {},
      "outputs": [
        {
          "data": {
            "image/png": "[encoded data removed]",
            "text/plain": [
              "<IPython.core.display.Image object>"
            ]
          },
          "metadata": {},
          "output_type": "display_data"
        }
      ],
      "source": [
        "visualize_graph(supervisor)"
      ]
    }
  ],
  "metadata": {
    "kernelspec": {
      "display_name": "langchain-tutorial",
      "language": "python",
      "name": "langchain_tutorial"
    },
    "language_info": {
      "codemirror_mode": {
        "name": "ipython",
        "version": 3
      },
      "file_extension": ".py",
      "mimetype": "text/x-python",
      "name": "python",
      "nbconvert_exporter": "python",
      "pygments_lexer": "ipython3",
      "version": "3.11.9"
    }
  },
  "nbformat": 4,
  "nbformat_minor": 5
}
