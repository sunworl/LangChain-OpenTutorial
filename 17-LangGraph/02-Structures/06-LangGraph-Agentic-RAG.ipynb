{
  "cells": [
    {
      "cell_type": "markdown",
      "id": "635d8ebb",
      "metadata": {},
      "source": [
        "# Agentic RAG\n",
        "\n",
        "- Author: [Heesun Moon](https://github.com/MoonHeesun)\n",
        "- Design: [LeeYuChul](https://github.com/LeeYuChul)\n",
        "- Peer Review:\n",
        "- This is a part of [LangChain Open Tutorial](https://github.com/LangChain-OpenTutorial/LangChain-OpenTutorial)\n",
        "\n",
        "[![Open in Colab](https://colab.research.google.com/assets/colab-badge.svg)](https://colab.research.google.com/github/LangChain-OpenTutorial/LangChain-OpenTutorial/blob/main/17-LangGraph/02-Structures/06-Agentic-RAG.ipynb) [![Open in GitHub](https://img.shields.io/badge/Open%20in%20GitHub-181717?style=flat-square&logo=github&logoColor=white)](https://github.com/LangChain-OpenTutorial/LangChain-OpenTutorial/blob/main/17-LangGraph/02-Structures/06-Agentic-RAG.ipynb)\n",
        "\n",
        "## Overview\n",
        "\n",
        "An **Agent** is useful when deciding whether to use a search tool. For more details about agents, refer to the [Agent](https://wikidocs.net/233782) page.\n",
        "\n",
        "To implement a search agent, simply grant the **LLM** access to the search tool.\n",
        "\n",
        "This can be integrated into [LangGraph](https://langchain-ai.github.io/langgraph/).\n",
        "\n",
        "![langgraph-agentic-rag](./assets/06-langgraph-agentic-rag.png)\n",
        "\n",
        "### Table of Contents\n",
        "\n",
        "- [Overview](#overview)\n",
        "- [Environment Setup](#environment-setup)\n",
        "- [Create a basic PDF-based Retrieval Chain](#create-a-basic-pdf-based-retrieval-chain)\n",
        "- [Defining AgentState](#defining-agentstate)\n",
        "- [Nodes and Edges](#nodes-and-edges)\n",
        "- [Graph](#graph)\n",
        "- [Execute the Graph](#execute-the-graph)\n",
        "\n",
        "### References\n",
        "\n",
        "- [LangGraph Tutorials](https://langchain-ai.github.io/langgraph/tutorials/)\n",
        "----"
      ]
    },
    {
      "cell_type": "markdown",
      "id": "c6c7aba4",
      "metadata": {},
      "source": [
        "## Environment Setup\n",
        "\n",
        "Set up the environment. You may refer to [Environment Setup](https://wikidocs.net/257836) for more details.\n",
        "\n",
        "**[Note]**\n",
        "- `langchain-opentutorial` is a package that provides a set of easy-to-use environment setup, useful functions and utilities for tutorials. \n",
        "- You can checkout the [`langchain-opentutorial`](https://github.com/LangChain-OpenTutorial/langchain-opentutorial-pypi) for more details."
      ]
    },
    {
      "cell_type": "code",
      "execution_count": 1,
      "id": "21943adb",
      "metadata": {},
      "outputs": [],
      "source": [
        "%%capture --no-stderr\n",
        "%pip install langchain-opentutorial"
      ]
    },
    {
      "cell_type": "code",
      "execution_count": 3,
      "id": "f25ec196",
      "metadata": {},
      "outputs": [
        {
          "name": "stderr",
          "output_type": "stream",
          "text": [
            "\n",
            "\u001b[1m[\u001b[0m\u001b[34;49mnotice\u001b[0m\u001b[1;39;49m]\u001b[0m\u001b[39;49m A new release of pip is available: \u001b[0m\u001b[31;49m24.2\u001b[0m\u001b[39;49m -> \u001b[0m\u001b[32;49m24.3.1\u001b[0m\n",
            "\u001b[1m[\u001b[0m\u001b[34;49mnotice\u001b[0m\u001b[1;39;49m]\u001b[0m\u001b[39;49m To update, run: \u001b[0m\u001b[32;49mpip install --upgrade pip\u001b[0m\n"
          ]
        }
      ],
      "source": [
        "# Install required packages\n",
        "from langchain_opentutorial import package\n",
        "\n",
        "package.install(\n",
        "    [\n",
        "        \"langchain\",\n",
        "        \"langgraph\",\n",
        "        \"langchain_core\",\n",
        "        \"langchain_openai\",\n",
        "        \"pdfplumber\",\n",
        "        \"faiss-cpu\",\n",
        "    ],\n",
        "    verbose=False,\n",
        "    upgrade=False,\n",
        ")"
      ]
    },
    {
      "cell_type": "code",
      "execution_count": 4,
      "id": "7f9065ea",
      "metadata": {},
      "outputs": [
        {
          "name": "stdout",
          "output_type": "stream",
          "text": [
            "Environment variables have been set successfully.\n"
          ]
        }
      ],
      "source": [
        "# Set environment variables\n",
        "from langchain_opentutorial import set_env\n",
        "\n",
        "set_env(\n",
        "    {\n",
        "        \"OPENAI_API_KEY\": \"\",\n",
        "        \"LANGCHAIN_API_KEY\": \"\",\n",
        "        \"LANGCHAIN_TRACING_V2\": \"true\",\n",
        "        \"LANGCHAIN_ENDPOINT\": \"https://api.smith.langchain.com\",\n",
        "        \"LANGCHAIN_PROJECT\": \"06-LangGraph-Agentic-RAG\",\n",
        "    }\n",
        ")"
      ]
    },
    {
      "cell_type": "markdown",
      "id": "690a9ae0",
      "metadata": {},
      "source": [
        "You can alternatively set API keys such as `OPENAI_API_KEY` in a `.env` file and load them.\n",
        "\n",
        "**[Note]** This is not necessary if you've already set the required API keys in previous steps."
      ]
    },
    {
      "cell_type": "code",
      "execution_count": 1,
      "id": "4f99b5b6",
      "metadata": {},
      "outputs": [
        {
          "data": {
            "text/plain": [
              "True"
            ]
          },
          "execution_count": 1,
          "metadata": {},
          "output_type": "execute_result"
        }
      ],
      "source": [
        "# Load API keys from .env file\n",
        "from dotenv import load_dotenv\n",
        "\n",
        "load_dotenv(override=True)"
      ]
    },
    {
      "cell_type": "markdown",
      "id": "aa00c3f4",
      "metadata": {},
      "source": [
        "## Create a basic PDF-based Retrieval Chain\n",
        "\n",
        "Here, we create a Retrieval Chain based on a PDF document. This is the Retrieval Chain with the simplest structure.\n",
        "\n",
        "However, in LangGraph, Retirever and Chain are created separately. Only then can detailed processing be performed for each node.\n",
        "\n",
        "**[Note]**\n",
        "- As this was covered in the previous tutorial, detailed explanation will be omitted."
      ]
    },
    {
      "cell_type": "code",
      "execution_count": null,
      "id": "69cb77da",
      "metadata": {},
      "outputs": [],
      "source": [
        "from rag.pdf import PDFRetrievalChain\n",
        "\n",
        "# Load the PDF document\n",
        "pdf = PDFRetrievalChain(\n",
        "    [\"data/A European Approach to Artificial Intelligence - A Policy Perspective.pdf\"]\n",
        ").create_chain()\n",
        "\n",
        "# Create retriever\n",
        "pdf_retriever = pdf.retriever\n",
        "\n",
        "# Create chain\n",
        "pdf_chain = pdf.chain"
      ]
    },
    {
      "cell_type": "markdown",
      "id": "03f629f2",
      "metadata": {},
      "source": [
        "Next, create the `retriever_tool` tool.\n",
        "\n",
        "**[Note]**\n",
        "\n",
        "The `document_prompt` is a prompt used to represent the retrieved document.\n",
        "\n",
        "**Available Keys**\n",
        "\n",
        "- `page_content`\n",
        "- Keys in `metadata`: (e.g.) `source`, `page`\n",
        "\n",
        "**Example Usage**\n",
        "\n",
        "`\"<document><context>{page_content}</context><metadata><source>{source}</source><page>{page}</page></metadata></document>\"`"
      ]
    },
    {
      "cell_type": "code",
      "execution_count": 7,
      "id": "934332d7",
      "metadata": {},
      "outputs": [],
      "source": [
        "from langchain_core.tools.retriever import create_retriever_tool\n",
        "from langchain_core.prompts import PromptTemplate\n",
        "\n",
        "# Create a retriever tool for querying the PDF document\n",
        "retriever_tool = create_retriever_tool(\n",
        "    pdf_retriever,\n",
        "    \"pdf_retriever\",\n",
        "    \"Analyze and provide insights from the PDF file titled *A European Approach to Artificial Intelligence - A Policy Perspective*. This document explores AI trends, challenges, and opportunities across various sectors, offering valuable policy recommendations for sustainable AI development in Europe.\",\n",
        "    document_prompt=PromptTemplate.from_template(\n",
        "        \"<document><context>{page_content}</context><metadata><source>{source}</source><page>{page}</page></metadata></document>\"\n",
        "    ),\n",
        ")\n",
        "\n",
        "# Add the retriever tool to the tools list for agent use\n",
        "tools = [retriever_tool]"
      ]
    },
    {
      "cell_type": "markdown",
      "id": "14e47669",
      "metadata": {},
      "source": [
        "## Defining `AgentState`\n",
        "\n",
        "We will define the `AgentState` .\n",
        "\n",
        "Each node is passed a `state` object. The `state` consists of a list of `messages` .\n",
        "\n",
        "Each node in the graph adds content to this list."
      ]
    },
    {
      "cell_type": "code",
      "execution_count": 8,
      "id": "0de4a970",
      "metadata": {},
      "outputs": [],
      "source": [
        "from typing import Annotated, Sequence, TypedDict\n",
        "from langchain_core.messages import BaseMessage\n",
        "from langgraph.graph.message import add_messages\n",
        "\n",
        "\n",
        "# Defines agent state and manages messages\n",
        "class AgentState(TypedDict):\n",
        "    # Manages the sequence of messages using the add_messages reducer function\n",
        "    messages: Annotated[Sequence[BaseMessage], add_messages]"
      ]
    },
    {
      "cell_type": "markdown",
      "id": "b88d3e9f",
      "metadata": {},
      "source": [
        "## Nodes and Edges\n",
        "\n",
        "An agent-based RAG graph can be structured as follows:\n",
        "\n",
        "- `state` is a collection of messages.  \n",
        "- Each **node** updates (adds to) the `state` .  \n",
        "- **Conditional edges** determine the next node to visit.\n",
        "\n",
        "Now, let's create a simple **Grader**."
      ]
    },
    {
      "cell_type": "code",
      "execution_count": 19,
      "id": "1298b865",
      "metadata": {},
      "outputs": [],
      "source": [
        "from typing import Literal\n",
        "from langchain import hub\n",
        "from langchain_core.messages import HumanMessage\n",
        "from langchain_core.output_parsers import StrOutputParser\n",
        "from langchain_core.prompts import PromptTemplate\n",
        "from pydantic import BaseModel, Field\n",
        "from langchain_openai import ChatOpenAI\n",
        "\n",
        "\n",
        "# Define the data model\n",
        "class grade(BaseModel):\n",
        "    \"\"\"A binary score for relevance checks\"\"\"\n",
        "\n",
        "    binary_score: str = Field(\n",
        "        description=\"Response 'yes' if the document is relevant to the question or 'no' if it is not.\"\n",
        "    )\n",
        "\n",
        "\n",
        "def grade_documents(state) -> Literal[\"generate\", \"rewrite\"]:\n",
        "    model = ChatOpenAI(temperature=0, model=\"gpt-4o-mini\", streaming=True)\n",
        "\n",
        "    # Set up LLM for structured output\n",
        "    llm_with_tool = model.with_structured_output(grade)\n",
        "\n",
        "    prompt = PromptTemplate(\n",
        "        template=\"\"\"You are a grader assessing relevance of a retrieved document to a user question. \\n \n",
        "        Here is the retrieved document: \\n\\n {context} \\n\\n\n",
        "        Here is the user question: {question} \\n\n",
        "        If the document contains keyword(s) or semantic meaning related to the user question, grade it as relevant. \\n\n",
        "        Give a binary score 'yes' or 'no' score to indicate whether the document is relevant to the question.\"\"\",\n",
        "        input_variables=[\"context\", \"question\"],\n",
        "    )\n",
        "\n",
        "    chain = prompt | llm_with_tool\n",
        "\n",
        "    # Extract messages from the current state\n",
        "    messages = state[\"messages\"]\n",
        "\n",
        "    # Get the most recent message\n",
        "    last_message = messages[-1]\n",
        "\n",
        "    # Extract the original question\n",
        "    question = messages[0].content\n",
        "\n",
        "    retrieved_docs = last_message.content\n",
        "\n",
        "    # Perform relevance evaluation\n",
        "    scored_result = chain.invoke({\"question\": question, \"context\": retrieved_docs})\n",
        "\n",
        "    # Extract relevance status\n",
        "    score = scored_result.binary_score\n",
        "\n",
        "    if score == \"yes\":\n",
        "        print(\"==== [DECISION: DOCS RELEVANT] ====\")\n",
        "        return \"generate\"\n",
        "\n",
        "    else:\n",
        "        print(\"==== [DECISION: DOCS NOT RELEVANT] ====\")\n",
        "        print(score)\n",
        "        return \"rewrite\"\n",
        "\n",
        "\n",
        "def agent(state):\n",
        "    messages = state[\"messages\"]\n",
        "\n",
        "    model = ChatOpenAI(temperature=0, streaming=True, model=\"gpt-4o-mini\")\n",
        "\n",
        "    # Bind the retriever tool\n",
        "    model = model.bind_tools(tools)\n",
        "\n",
        "    # Generate agent response\n",
        "    response = model.invoke(messages)\n",
        "\n",
        "    # Returns as a list since it is appended to the existing list\n",
        "    return {\"messages\": [response]}\n",
        "\n",
        "\n",
        "def rewrite(state):\n",
        "    print(\"==== [QUERY REWRITE] ====\")\n",
        "    messages = state[\"messages\"]\n",
        "\n",
        "    question = messages[0].content\n",
        "\n",
        "    # Create a prompt for question refinement\n",
        "    msg = [\n",
        "        HumanMessage(\n",
        "            content=f\"\"\" \\n \n",
        "    Look at the input and try to reason about the underlying semantic intent / meaning. \\n \n",
        "    Here is the initial question:\n",
        "    \\n ------- \\n\n",
        "    {question} \n",
        "    \\n ------- \\n\n",
        "    Formulate an improved question: \"\"\",\n",
        "        )\n",
        "    ]\n",
        "\n",
        "    # Refine the question using the LLM\n",
        "    model = ChatOpenAI(temperature=0, model=\"gpt-4o-mini\", streaming=True)\n",
        "    # Execute the Query-Transform chain\n",
        "    response = model.invoke(msg)\n",
        "\n",
        "    # Return the rewritten question\n",
        "    return {\"messages\": [response]}\n",
        "\n",
        "\n",
        "def generate(state):\n",
        "    messages = state[\"messages\"]\n",
        "\n",
        "    question = messages[0].content\n",
        "\n",
        "    docs = messages[-1].content\n",
        "\n",
        "    # Load the RAG prompt template\n",
        "    prompt = hub.pull(\"teddynote/rag-prompt\")\n",
        "\n",
        "    llm = ChatOpenAI(model_name=\"gpt-4o-mini\", temperature=0, streaming=True)\n",
        "\n",
        "    rag_chain = prompt | llm | StrOutputParser()\n",
        "\n",
        "    response = rag_chain.invoke({\"context\": docs, \"question\": question})\n",
        "\n",
        "    return {\"messages\": [response]}"
      ]
    },
    {
      "cell_type": "markdown",
      "id": "7dc1b907",
      "metadata": {},
      "source": [
        "## Graph\n",
        "\n",
        "- Start with the `call_model` agent.  \n",
        "- The agent decides whether to call a function.  \n",
        "- If a function call is decided, an `action` is executed to invoke the tool (retriever).  \n",
        "- The tool's output is added to the messages ( `state` ), and the agent is called again.  "
      ]
    },
    {
      "cell_type": "code",
      "execution_count": 20,
      "id": "3a3bfb7c",
      "metadata": {},
      "outputs": [],
      "source": [
        "from langgraph.graph import END, StateGraph, START\n",
        "from langgraph.prebuilt import ToolNode, tools_condition\n",
        "from langgraph.checkpoint.memory import MemorySaver\n",
        "\n",
        "# Initialize the state graph workflow based on AgentState\n",
        "workflow = StateGraph(AgentState)\n",
        "\n",
        "# Define nodes\n",
        "workflow.add_node(\"agent\", agent)\n",
        "retrieve = ToolNode([retriever_tool])\n",
        "workflow.add_node(\"retrieve\", retrieve)\n",
        "workflow.add_node(\"rewrite\", rewrite)\n",
        "workflow.add_node(\n",
        "    # Response generation node after checking relevant documents\n",
        "    \"generate\",\n",
        "    generate,\n",
        ")\n",
        "\n",
        "# Connect edges\n",
        "workflow.add_edge(START, \"agent\")\n",
        "\n",
        "# Add conditional edges for determining whether to perform retrieval\n",
        "workflow.add_conditional_edges(\n",
        "    \"agent\",\n",
        "    # Evaluate agent decision\n",
        "    tools_condition,\n",
        "    {\n",
        "        # Map condition outputs to graph nodes\n",
        "        \"tools\": \"retrieve\",\n",
        "        END: END,\n",
        "    },\n",
        ")\n",
        "\n",
        "# Define edges for processing after action nodes are executed\n",
        "workflow.add_conditional_edges(\n",
        "    \"retrieve\",\n",
        "    # Evaluate document quality\n",
        "    grade_documents,\n",
        ")\n",
        "workflow.add_edge(\"generate\", END)\n",
        "workflow.add_edge(\"rewrite\", \"agent\")\n",
        "\n",
        "# Compile the graph\n",
        "graph = workflow.compile(checkpointer=MemorySaver())"
      ]
    },
    {
      "cell_type": "markdown",
      "id": "aea3b646",
      "metadata": {},
      "source": [
        "Visualize the compiled graph."
      ]
    },
    {
      "cell_type": "code",
      "execution_count": 11,
      "id": "bac2d1d6",
      "metadata": {},
      "outputs": [
        {
          "data": {
            "image/png": "[encoded data removed]",
            "text/plain": [
              "<IPython.core.display.Image object>"
            ]
          },
          "metadata": {},
          "output_type": "display_data"
        }
      ],
      "source": [
        "from langchain_opentutorial.graphs import visualize_graph\n",
        "\n",
        "visualize_graph(graph)"
      ]
    },
    {
      "cell_type": "markdown",
      "id": "9221791a",
      "metadata": {},
      "source": [
        "## Execute the Graph\n",
        "\n",
        "Now, let's run the graph."
      ]
    },
    {
      "cell_type": "code",
      "execution_count": null,
      "id": "3388e191",
      "metadata": {},
      "outputs": [
        {
          "name": "stdout",
          "output_type": "stream",
          "text": [
            "\n",
            "==================================================\n",
            "🔄 Node: \u001b[1;36magent\u001b[0m 🔄\n",
            "- - - - - - - - - - - - - - - - - - - - - - - - - \n",
            "==================================\u001b[1m Ai Message \u001b[0m==================================\n",
            "Tool Calls:\n",
            "  pdf_retriever (call_ntQvPrGfieUgf2wxlW6nwRUr)\n",
            " Call ID: call_ntQvPrGfieUgf2wxlW6nwRUr\n",
            "  Args:\n",
            "    query: application of AI in healthcare\n",
            "==================================================\n",
            "==== [DECISION: DOCS RELEVANT] ====\n",
            "\n",
            "==================================================\n",
            "🔄 Node: \u001b[1;36mretrieve\u001b[0m 🔄\n",
            "- - - - - - - - - - - - - - - - - - - - - - - - - \n",
            "=================================\u001b[1m Tool Message \u001b[0m=================================\n",
            "Name: pdf_retriever\n",
            "\n",
            "<document><context>activities. So far, however, AI applications in healthcare have been potential. Specific healthcare training should be provided to data\n",
            "confined to administrative tasks (i.e., Natural Language Processing scientists working in hospitals so that they can better understand</context><metadata><source>data/A European Approach to Artificial Intelligence - A Policy Perspective.pdf</source><page>14</page></metadata></document>\n",
            "\n",
            "<document><context>are great, as more use of AI in research and development could\n",
            "Healthcare is arguably the sector where AI could make the lead to a more personalised healthcare based on patients’ data.</context><metadata><source>data/A European Approach to Artificial Intelligence - A Policy Perspective.pdf</source><page>14</page></metadata></document>\n",
            "\n",
            "<document><context>intermediate / professional users (i.e., healthcare professionals). the safety of employees. The key application of AI is certainly in\n",
            "This is a matter of privacy and personal data protection, of building predictive maintenance. Yet, the more radical transformation of</context><metadata><source>data/A European Approach to Artificial Intelligence - A Policy Perspective.pdf</source><page>10</page></metadata></document>\n",
            "\n",
            "<document><context>same. The Covid-19 crisis has shown how strained our National\n",
            "Healthcare Systems are, and AI solutions could help meet the cur- AI in the healthcare faces organisational and skill challenges. One</context><metadata><source>data/A European Approach to Artificial Intelligence - A Policy Perspective.pdf</source><page>14</page></metadata></document>\n",
            "\n",
            "<document><context>very sensitive. An extensive use to feed AI tools can the use of patient’s data in the hospitals that deploy\n",
            "Health data raise many concerns. Data ownership is also an issue AI-powered applications. The patients should be aware</context><metadata><source>data/A European Approach to Artificial Intelligence - A Policy Perspective.pdf</source><page>15</page></metadata></document>\n",
            "\n",
            "<document><context>Remote sible, as AI solutions can increasingly divert patients ning healthcare professionals, starting from the simple\n",
            "healthcare to appropriate solutions for their specific symptoms tasks and diagnostic appointments.\n",
            "and underlying conditions.\n",
            "16</context><metadata><source>data/A European Approach to Artificial Intelligence - A Policy Perspective.pdf</source><page>15</page></metadata></document>\n",
            "\n",
            "<document><context>to extract information from clinical notes or predictive scheduling healthcare practitioners needs. In addition, at the regulatory le-\n",
            "of the visits) and diagnostic (machine and deep learning applied to vel it is important that new AI regulation is harmonised with other</context><metadata><source>data/A European Approach to Artificial Intelligence - A Policy Perspective.pdf</source><page>14</page></metadata></document>\n",
            "\n",
            "<document><context>EIT Health and McKinsey & Company, (2020), Transforming healthcare with AI. Impact Scherer, M. (2016). Regulating Artificial Intelligence Systems: Risks, Challenges, Compe-</context><metadata><source>data/A European Approach to Artificial Intelligence - A Policy Perspective.pdf</source><page>21</page></metadata></document>\n",
            "\n",
            "<document><context>advanced robots, autonomous cars, drones or Internet of Things place, a recent EIT Health Report envisages more in healthcare in\n",
            "applications)”. Broad AI definitions cover several technologies, in- the near future, such as remote monitoring, AI-powered alerting</context><metadata><source>data/A European Approach to Artificial Intelligence - A Policy Perspective.pdf</source><page>3</page></metadata></document>\n",
            "\n",
            "<document><context>greatest impact in addressing societal challenges. Given rising de- A second challenge is that of finding a common language and un-\n",
            "mands and costs, AI could help doing more and better with the derstanding between data experts and healthcare professionals.</context><metadata><source>data/A European Approach to Artificial Intelligence - A Policy Perspective.pdf</source><page>14</page></metadata></document>\n",
            "==================================================\n"
          ]
        },
        {
          "name": "stderr",
          "output_type": "stream",
          "text": [
            "c:\\Users\\user\\dev\\LangChain-OpenTutorial\\.venv\\Lib\\site-packages\\langsmith\\client.py:256: LangSmithMissingAPIKeyWarning: API key must be provided when using hosted LangSmith API\n",
            "  warnings.warn(\n"
          ]
        },
        {
          "name": "stdout",
          "output_type": "stream",
          "text": [
            "\n",
            "==================================================\n",
            "🔄 Node: \u001b[1;36mgenerate\u001b[0m 🔄\n",
            "- - - - - - - - - - - - - - - - - - - - - - - - - \n",
            "The application of AI in healthcare has so far been confined primarily to administrative tasks, such as Natural Language Processing for extracting information from clinical notes and predictive scheduling. \n",
            "\n",
            "**Source**\n",
            "- data/A European Approach to Artificial Intelligence - A Policy Perspective.pdf (page 14)\n",
            "==================================================\n"
          ]
        }
      ],
      "source": [
        "from langchain_core.runnables import RunnableConfig\n",
        "from langchain_opentutorial.messages import stream_graph, invoke_graph, random_uuid\n",
        "\n",
        "# Configure settings (maximum recursion limit, thread_id)\n",
        "config = RunnableConfig(recursion_limit=10, configurable={\"thread_id\": random_uuid()})\n",
        "\n",
        "# Define the input data structure, including a user query about the type of agent memory\n",
        "inputs = {\n",
        "    \"messages\": [\n",
        "        (\n",
        "            \"user\",\n",
        "            \"Where has the application of AI in healthcare been confined to so far?\",\n",
        "        ),\n",
        "    ]\n",
        "}\n",
        "\n",
        "# Execute the graph\n",
        "invoke_graph(graph, inputs, config)"
      ]
    },
    {
      "cell_type": "code",
      "execution_count": 14,
      "id": "e0549846",
      "metadata": {},
      "outputs": [
        {
          "name": "stdout",
          "output_type": "stream",
          "text": [
            "\n",
            "==================================================\n",
            "🔄 Node: \u001b[1;36magent\u001b[0m 🔄\n",
            "- - - - - - - - - - - - - - - - - - - - - - - - - \n",
            "The application of AI in healthcare has so far been confined primarily to administrative tasks. This includes the use of Natural Language Processing (NLP) for extracting information from clinical notes and predictive scheduling for managing appointments and visits.\n",
            "\n",
            "**Source**\n",
            "- data/A European Approach to Artificial Intelligence - A Policy Perspective.pdf (page 14)"
          ]
        }
      ],
      "source": [
        "# Graph Streaming Output\n",
        "stream_graph(graph, inputs, config, [\"agent\", \"rewrite\", \"generate\"])"
      ]
    },
    {
      "cell_type": "markdown",
      "id": "ed35081c",
      "metadata": {},
      "source": [
        "The following are examples of questions where document retrieval is **unnecessary**."
      ]
    },
    {
      "cell_type": "code",
      "execution_count": 15,
      "id": "6d20ccf2",
      "metadata": {},
      "outputs": [
        {
          "name": "stdout",
          "output_type": "stream",
          "text": [
            "\n",
            "==================================================\n",
            "🔄 Node: \u001b[1;36magent\u001b[0m 🔄\n",
            "- - - - - - - - - - - - - - - - - - - - - - - - - \n",
            "The capital of South Korea is Seoul."
          ]
        }
      ],
      "source": [
        "# Examples of Questions Where Document Retrieval Is Unnecessary\n",
        "inputs = {\n",
        "    \"messages\": [\n",
        "        (\"user\", \"What is the capital of South Korea?\"),\n",
        "    ]\n",
        "}\n",
        "\n",
        "stream_graph(graph, inputs, config, [\"agent\", \"rewrite\", \"generate\"])"
      ]
    },
    {
      "cell_type": "markdown",
      "id": "78fb622a",
      "metadata": {},
      "source": [
        "Below are some examples of questions where document retrieval is not possible.\n",
        "\n",
        "As a result, a `GraphRecursionError` occurred during the continuous document retrieval process."
      ]
    },
    {
      "cell_type": "code",
      "execution_count": 21,
      "id": "95e25af9",
      "metadata": {},
      "outputs": [
        {
          "name": "stdout",
          "output_type": "stream",
          "text": [
            "\n",
            "==================================================\n",
            "🔄 Node: \u001b[1;36magent\u001b[0m 🔄\n",
            "- - - - - - - - - - - - - - - - - - - - - - - - - \n",
            "==== [DECISION: DOCS NOT RELEVANT] ====\n",
            "no\n",
            "==== [QUERY REWRITE] ====\n",
            "\n",
            "==================================================\n",
            "🔄 Node: \u001b[1;36mrewrite\u001b[0m 🔄\n",
            "- - - - - - - - - - - - - - - - - - - - - - - - - \n",
            "What are the key concepts and features covered in TeddyNote's LangChain tutorial, and how can they be applied in practical scenarios?\n",
            "==================================================\n",
            "🔄 Node: \u001b[1;36magent\u001b[0m 🔄\n",
            "- - - - - - - - - - - - - - - - - - - - - - - - - \n",
            "==== [DECISION: DOCS NOT RELEVANT] ====\n",
            "no\n",
            "==== [QUERY REWRITE] ====\n",
            "\n",
            "==================================================\n",
            "🔄 Node: \u001b[1;36mrewrite\u001b[0m 🔄\n",
            "- - - - - - - - - - - - - - - - - - - - - - - - - \n",
            "What are the key concepts and features covered in TeddyNote's LangChain tutorial, and how can they be applied in practical scenarios?\n",
            "==================================================\n",
            "🔄 Node: \u001b[1;36magent\u001b[0m 🔄\n",
            "- - - - - - - - - - - - - - - - - - - - - - - - - \n",
            "==== [DECISION: DOCS NOT RELEVANT] ====\n",
            "no\n",
            "==== [QUERY REWRITE] ====\n",
            "\n",
            "==================================================\n",
            "🔄 Node: \u001b[1;36mrewrite\u001b[0m 🔄\n",
            "- - - - - - - - - - - - - - - - - - - - - - - - - \n",
            "What are the key concepts and features covered in TeddyNote's LangChain tutorial, and how can they be applied in practical scenarios?\n",
            "==================================================\n",
            "🔄 Node: \u001b[1;36magent\u001b[0m 🔄\n",
            "- - - - - - - - - - - - - - - - - - - - - - - - - \n",
            "GraphRecursionError: Recursion limit of 10 reached without hitting a stop condition. You can increase the limit by setting the `recursion_limit` config key.\n",
            "For troubleshooting, visit: https://python.langchain.com/docs/troubleshooting/errors/GRAPH_RECURSION_LIMIT\n"
          ]
        }
      ],
      "source": [
        "from langgraph.errors import GraphRecursionError\n",
        "\n",
        "# Examples of Questions Where Document Retrieval Is Not Possible\n",
        "inputs = {\n",
        "    \"messages\": [\n",
        "        (\"user\", \"Tell me about TeddyNote's LangChain tutorial.\"),\n",
        "    ]\n",
        "}\n",
        "\n",
        "try:\n",
        "    stream_graph(graph, inputs, config, [\"agent\", \"rewrite\", \"generate\"])\n",
        "except GraphRecursionError as recursion_error:\n",
        "    print(f\"GraphRecursionError: {recursion_error}\")"
      ]
    },
    {
      "cell_type": "markdown",
      "id": "0579be13",
      "metadata": {},
      "source": [
        "The next tutorial will cover how to resolve this issue."
      ]
    }
  ],
  "metadata": {
    "kernelspec": {
      "display_name": ".venv",
      "language": "python",
      "name": "python3"
    },
    "language_info": {
      "codemirror_mode": {
        "name": "ipython",
        "version": 3
      },
      "file_extension": ".py",
      "mimetype": "text/x-python",
      "name": "python",
      "nbconvert_exporter": "python",
      "pygments_lexer": "ipython3",
      "version": "3.11.11"
    }
  },
  "nbformat": 4,
  "nbformat_minor": 5
}
