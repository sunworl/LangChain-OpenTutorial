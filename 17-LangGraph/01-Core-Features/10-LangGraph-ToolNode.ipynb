{
  "cells": [
    {
      "cell_type": "markdown",
      "id": "059756b7",
      "metadata": {},
      "source": [
        "# LangGraph ToolNode\n",
        "\n",
        "- Author: [JoonHo Kim](https://github.com/jhboyo)\n",
        "- Design: []()\n",
        "- Peer Review :\n",
        "- This is a part of [LangChain Open Tutorial](https://github.com/LangChain-OpenTutorial/LangChain-OpenTutorial)\n",
        "\n",
        "[![Open in Colab](https://colab.research.google.com/assets/colab-badge.svg)](https://colab.research.google.com/github/LangChain-OpenTutorial/LangChain-OpenTutorial/blob/main/06-DocumentLoader/04-CSV-Loader.ipynb) [![Open in GitHub](https://img.shields.io/badge/Open%20in%20GitHub-181717?style=flat-square&logo=github&logoColor=white)](https://github.com/LangChain-OpenTutorial/LangChain-OpenTutorial/blob/main/06-DocumentLoader/04-CSV-Loader.ipynb)\n",
        "\n",
        "\n",
        "## Overview\n",
        "In this tutorial, we will cover how to use `LangGraph`'s pre-built `ToolNode` for tool invocation.\n",
        "`ToolNode` is a `LangChain Runnable` that takes a graph state containing a list of messages as input and updates the state with the result of the tool invocation.\n",
        "\n",
        "It is designed to work seamlessly with `LangGraph`'s pre-built agents and can operate with any `StateGraph`, provided the state includes a messages key with an appropriate reducer.\n",
        "\n",
        "\n",
        "Now, let’s explore how to maximize productivity using `LangGraph ToolNode`. 🚀\n",
        "\n",
        "### Table of Contents\n",
        "\n",
        "- [Overview](#overview)\n",
        "- [Environment Setup](#environment-setup)\n",
        "- [Define tools](#define-tools)\n",
        "- [Manually call ToolNode](#manually-call-toolnode)\n",
        "- [Using with LLMs](#using-with-llms)\n",
        "- [Using with Agent](#using-with-agent)\n",
        "\n",
        "### References\n",
        "\n",
        "- [How to call tools using ToolNode](https://langchain-ai.github.io/langgraph/how-tos/tool-calling/)\n",
        "- [ToolNode](https://github.com/langchain-ai/langgraph/blob/main/libs/langgraph/langgraph/prebuilt/tool_node.py)\n",
        "- [Tool Calling](https://python.langchain.com/docs/concepts/tool_calling/)\n",
        "- [AIMessage](https://python.langchain.com/docs/concepts/messages/#aimessage)\n",
        "- [ChatOpenAI](https://python.langchain.com/api_reference/openai/chat_models/langchain_openai.chat_models.base.ChatOpenAI.html)\n",
        "- [ChatModel](https://python.langchain.com/docs/integrations/chat/)\n",
        "- [ReAct Implementation](https://langchain-ai.github.io/langgraph/concepts/agentic_concepts/#react-implementation)\n",
        "- [How to handle tool calling errors](https://langchain-ai.github.io/langgraph/how-tos/tool-calling-errors/)\n",
        "----"
      ]
    },
    {
      "cell_type": "markdown",
      "id": "923a83b4",
      "metadata": {},
      "source": [
        "## Environment Setup\n",
        "\n",
        "Set up the environment. You may refer to [Environment Setup](https://wikidocs.net/257836) for more details.\n",
        "\n",
        "**[Note]**\n",
        "- `langchain-opentutorial` is a package that provides a set of easy-to-use environment setup, useful functions and utilities for tutorials. \n",
        "- You can checkout the [`langchain-opentutorial`](https://github.com/LangChain-OpenTutorial/langchain-opentutorial-pypi) for more details."
      ]
    },
    {
      "cell_type": "code",
      "execution_count": 2,
      "id": "8e8ad1ef",
      "metadata": {},
      "outputs": [],
      "source": [
        "%%capture --no-stderr\n",
        "%pip install -qU langchain-opentutorial"
      ]
    },
    {
      "cell_type": "code",
      "execution_count": 3,
      "id": "446f6eba",
      "metadata": {},
      "outputs": [],
      "source": [
        "from dotenv import load_dotenv\n",
        "from langchain_opentutorial import set_env\n",
        "\n",
        "# Attempt to load environment variables from a .env file; if unsuccessful, set them manually.\n",
        "if not load_dotenv():\n",
        "    set_env(\n",
        "        {\n",
        "            \"OPENAI_API_KEY\": \"\",\n",
        "            \"LANGCHAIN_API_KEY\": \"\",\n",
        "            \"LANGCHAIN_TRACING_V2\": \"false\",\n",
        "            \"LANGCHAIN_ENDPOINT\": \"https://api.smith.langchain.com\",\n",
        "            \"LANGCHAIN_PROJECT\": \"LangGraph-ToolNode\",\n",
        "        }\n",
        "    )"
      ]
    },
    {
      "cell_type": "code",
      "execution_count": 4,
      "id": "70361e4a",
      "metadata": {},
      "outputs": [],
      "source": [
        "# Install required packages\n",
        "from langchain_opentutorial import package\n",
        "\n",
        "package.install(\n",
        "    [\n",
        "        \"langchain\",\n",
        "        \"langchain_community\",\n",
        "        \"langchain_core\",\n",
        "        \"langchain_experimental\",\n",
        "        \"langchain_openai\",\n",
        "        \"feedparser\",\n",
        "        \"IPython\",\n",
        "    ],\n",
        "    verbose=False,\n",
        "    upgrade=False,\n",
        ")"
      ]
    },
    {
      "cell_type": "markdown",
      "id": "f5877653",
      "metadata": {},
      "source": [
        "\n",
        "## Creating tools\n",
        "Before creating tools, we will build some functions to collect and fetch news from `Google News` for keyword that user input.\n",
        "\n",
        "You can refer to `Creating Tools` section in [Tool Calling Agent with More LLM Models](https://langchain-opentutorial.gitbook.io/langchain-opentutorial/15-agent/04-agent-more-llms) for more details."
      ]
    },
    {
      "cell_type": "code",
      "execution_count": 5,
      "id": "6cc115a7",
      "metadata": {},
      "outputs": [],
      "source": [
        "from typing import List, Dict, Optional\n",
        "from urllib.parse import quote\n",
        "import feedparser\n",
        "\n",
        "\n",
        "class GoogleNews:\n",
        "\n",
        "    def _fetch_news(self, url: str, k: int = 3) -> List[Dict[str, str]]:\n",
        "        news_data = feedparser.parse(url)\n",
        "        return [\n",
        "            {\"title\": entry.title, \"link\": entry.link}\n",
        "            for entry in news_data.entries[:k]\n",
        "        ]\n",
        "\n",
        "    def _collect_news(self, news_list: List[Dict[str, str]]) -> List[Dict[str, str]]:\n",
        "        if not news_list:\n",
        "            print(\"There is no news for the keyword.\")\n",
        "            return []\n",
        "\n",
        "        result = []\n",
        "        for news in news_list:\n",
        "            result.append({\"url\": news[\"link\"], \"content\": news[\"title\"]})\n",
        "\n",
        "        return result\n",
        "\n",
        "    def search_by_keyword(\n",
        "        self, keyword: Optional[str] = None, k: int = 3\n",
        "    ) -> List[Dict[str, str]]:\n",
        "\n",
        "        if keyword:\n",
        "            encoded_keyword = quote(keyword)\n",
        "            url = f\"https://news.google.com/rss/search?q={encoded_keyword}&hl=en&gl=US&ceid=US:en\"\n",
        "        else:\n",
        "            url = f\"https://news.google.com/rss?hl=en&gl=US&ceid=US:en\"\n",
        "\n",
        "        news_list = self._fetch_news(url, k)\n",
        "        return self._collect_news(news_list)"
      ]
    },
    {
      "cell_type": "markdown",
      "id": "e081f153",
      "metadata": {},
      "source": [
        "Now Let's create tools that search News for query and execute python code."
      ]
    },
    {
      "cell_type": "code",
      "execution_count": 6,
      "id": "9cc80ca5",
      "metadata": {},
      "outputs": [],
      "source": [
        "from langchain_core.tools import tool\n",
        "from langchain_experimental.tools.python.tool import PythonAstREPLTool\n",
        "from typing import List, Dict\n",
        "\n",
        "@tool\n",
        "def search_news(query: str) -> List[Dict[str, str]]:\n",
        "    \"\"\"Search Google News by input keyword\"\"\"\n",
        "    news_tool = GoogleNews()\n",
        "    return news_tool.search_by_keyword(query, k=5)\n",
        "\n",
        "\n",
        "@tool\n",
        "def python_code_interpreter(code: str):\n",
        "    \"\"\"Call to execute python code.\"\"\"\n",
        "    return PythonAstREPLTool().invoke(code)"
      ]
    },
    {
      "cell_type": "markdown",
      "id": "3e4da837",
      "metadata": {},
      "source": [
        "Next, we will explore how to use `ToolNode` to invoke tools.\n",
        "\n",
        "`ToolNode` is initialized with a list of tools and the following arguments.\n",
        "\n",
        "* `Args:`\n",
        "    * `tools`: A sequence of tools that can be invoked by the `ToolNode`.\n",
        "    * `name`: The name of the `ToolNode` in the graph. Defaults to \"tools\".\n",
        "    * `tags`: Optional tags to associate with the node. Defaults to \"None\".\n",
        "    * `handle_tool_errors`: How to handle tool errors raised by tools inside the node. Defaults to \"True\"."
      ]
    },
    {
      "cell_type": "code",
      "execution_count": 7,
      "id": "ec0b7d34",
      "metadata": {},
      "outputs": [],
      "source": [
        "from langgraph.prebuilt import ToolNode, tools_condition\n",
        "\n",
        "# Generate tool list\n",
        "tools = [search_news, python_code_interpreter]\n",
        "\n",
        "# Initialize ToolNode\n",
        "tool_node = ToolNode(tools, handle_tool_errors=True)"
      ]
    },
    {
      "cell_type": "markdown",
      "id": "a9c4b22a",
      "metadata": {},
      "source": [
        "## Calling ToolNode manually"
      ]
    },
    {
      "cell_type": "markdown",
      "id": "4f3e9011",
      "metadata": {},
      "source": [
        "`ToolNode` operates on graph state with a list of messages.\n",
        "\n",
        "`AIMessage` is used to represent a message with the role assistant. This is the response from the model, which can include text or a request to invoke tools. It could also include other media types like images, audio, or video though this is still uncommon at the moment.\n",
        "* `Args:`\n",
        "    * `content`: The content of the message. Usually a string, but can be a list of content blocks.\n",
        "    * `tool_calls`: A list of tool calls associated with the message.\n",
        "        * `name`: The name of the tool to invoke.\n",
        "        * `args`: The arguments to pass to the tool.\n",
        "        * `id`: An optional unique identifier for the message, ideally provided by the provider/model that created the message.\n",
        "        * `type`: The type of the message.\n",
        "\n",
        "It expects the last message in the list to be an `AIMessage` with `tool_calls` parameter.\n",
        "\n",
        "Let’s see how to manually invoke `ToolNode`."
      ]
    },
    {
      "cell_type": "code",
      "execution_count": 8,
      "id": "265b2b64",
      "metadata": {},
      "outputs": [
        {
          "data": {
            "text/plain": [
              "{'messages': [ToolMessage(content='[{\"url\": \"https://news.google.com/rss/articles/CBMingFBVV95cUxNSjY3UDQyQ0xaSlNUcDBQV0I3VnBJck9wSkRWdTJ4ZU0yUkQwQm9iVGNaYjRva3ZqTmR3ZHFySU9VQTM5OW04NTNCZm8yZU0tekFYSEhLSmFiNGQ0VlNna1VhQk1aS3Y0ZUc5QllXdjA1Z3VCTVBFUW9iUEJhMHBsWWthWGdiTUw4RnZlNENETXNWXzQ0MGFLUXJYMXpfZ9IBowFBVV95cUxNQXVlRG50cGJxUmZNSkFSbnBua1hkaFhZNi14V25PWkxJRDZPZkhxRDVYV3NnQm1xaWZFMEFMeHhESGtwWFBlOUpueGlTa0NKUlNDV2R3N3VfTi1wWmFNdVhGNE85czd5aU9oOGpmc2xkSWM1Q1JZWXgycXZ1X3lPd0ROTHVEOEVOSWxfMzlLTnltaG1ESjdhMWZvZFYyWC10Y1lR?oc=5\", \"content\": \"Tesla starts sales of revamped Model Y in U.S. for about $60,000 - CNBC\"}, {\"url\": \"https://news.google.com/rss/articles/CBMijAFBVV95cUxQUDhkX2tIUmRNT1J2VExLYmpsYzNSMlB0cTFIcmg5aUtiVEE2cnhfb1lWOGRCTVR4bjYyMk1TMk0tUDc4d3Y5Y1BKd2o0TjZaWnlEa3JKbjY0djh3M25DX0U5dlFGM0RUcFVidllYaDdFcUFGNjBuYkdtWGM4VlRGQi05TElZX09nTDB6bg?oc=5\", \"content\": \"Joe Rogan’s new custom Tesla Model S Plaid looks sick - Electrek.co\"}, {\"url\": \"https://news.google.com/rss/articles/CBMilAFBVV95cUxPbFR3LUQyX25rNUJIWjgwQTd1b2hIVmNudUYzMnYwVlFKSmZ1MnBPTjZiSDJTQ29MbTd6TGNDdVc5dm9JMjJXV0FpazN1OXhOa0pxNkxIQ3ZWVFV4cmdiMlo2b3VqeXF1SXhQMnJ3aFlhM1BMdFBEOUplZ0RrNU5kR09uQlF4cGZ4SWdicWd3aEdrazdS?oc=5\", \"content\": \"2025 Tesla Model Y Juniper vs. 2025 Tesla Model 3: New EVs Compared - Car and Driver\"}, {\"url\": \"https://news.google.com/rss/articles/CBMigwFBVV95cUxNZFpPT05uWFdYLXUzSXh3bjRzbk1aMkpKZ0tqMGY2UF9iZWNVdUYzaHIxZzZFTkJVLWpiY2NtZll4UldIdUZaSnRHSWdKUnc3VDNQQmMyX2ZJNFl4cExmdFFrS1hBQ3lKaVIxOFQ3SVZUSEVxRzJSSkEyMDRtb1NnWWZKOA?oc=5\", \"content\": \"New Tesla Model Y First Look: The Model 3\\'s Upgrades Hit the More Popular SUV - MotorTrend\"}, {\"url\": \"https://news.google.com/rss/articles/CBMivwFBVV95cUxPb2xCdF9qRGp6TmdrMUVtZnJ1SUJXWC1lajdPMU5JTF9PcnlSTDktbTU1eUVDVkxjNnhYMDdSeFVZcWVmMVQ0LXVUWTRhNzlHa0ZBMmJfZUpGQm9mcHNzcEZ1Tk1PQVdlVnh6RUpVc1NRQUZTNlN3MnlodEhNSThydm1YU0JrV2h2T0R5dXJWdHF4TkpfLTBTOGNnN1RFLVdBNVhqd0V0TExGRmFOdVR1VFVmTi1CUXlmQW5DbDA3aw?oc=5\", \"content\": \"Tesla launches new Model Y in US, Canada, Europe weeks after China - Reuters\"}]', name='search_news', tool_call_id='tool_call_id')]}"
            ]
          },
          "execution_count": 8,
          "metadata": {},
          "output_type": "execute_result"
        }
      ],
      "source": [
        "from langchain_core.messages import AIMessage\n",
        "\n",
        "# Creating an AI message object with single tool call\n",
        "message_with_single_tool_call = AIMessage(\n",
        "    content=\"\",\n",
        "    tool_calls=[\n",
        "        {\n",
        "            \"name\": \"search_news\",\n",
        "            \"args\": {\"query\": \"Tesla new model\"},\n",
        "            \"id\": \"tool_call_id\",\n",
        "            \"type\": \"tool_call\",\n",
        "        }\n",
        "    ],\n",
        ")\n",
        "\n",
        "# Invoke single tool call with created message\n",
        "tool_node.invoke({\"messages\": [message_with_single_tool_call]})"
      ]
    },
    {
      "cell_type": "markdown",
      "id": "949b65e4",
      "metadata": {},
      "source": [
        "Generally, there is no need to manually create an `AIMessage`, as it is automatically generated by all LangChain chat models that support tool invocation.\n",
        "\n",
        "Additionally, by passing multiple tool invocations to the `tool_calls` parameter of an `AIMessage`, you can perform parallel tool invocations using `ToolNode`."
      ]
    },
    {
      "cell_type": "code",
      "execution_count": 9,
      "id": "9ea774db",
      "metadata": {},
      "outputs": [
        {
          "data": {
            "text/plain": [
              "{'messages': [ToolMessage(content='[{\"url\": \"https://news.google.com/rss/articles/CBMingFBVV95cUxNSjY3UDQyQ0xaSlNUcDBQV0I3VnBJck9wSkRWdTJ4ZU0yUkQwQm9iVGNaYjRva3ZqTmR3ZHFySU9VQTM5OW04NTNCZm8yZU0tekFYSEhLSmFiNGQ0VlNna1VhQk1aS3Y0ZUc5QllXdjA1Z3VCTVBFUW9iUEJhMHBsWWthWGdiTUw4RnZlNENETXNWXzQ0MGFLUXJYMXpfZ9IBowFBVV95cUxNQXVlRG50cGJxUmZNSkFSbnBua1hkaFhZNi14V25PWkxJRDZPZkhxRDVYV3NnQm1xaWZFMEFMeHhESGtwWFBlOUpueGlTa0NKUlNDV2R3N3VfTi1wWmFNdVhGNE85czd5aU9oOGpmc2xkSWM1Q1JZWXgycXZ1X3lPd0ROTHVEOEVOSWxfMzlLTnltaG1ESjdhMWZvZFYyWC10Y1lR?oc=5\", \"content\": \"Tesla starts sales of revamped Model Y in U.S. for about $60,000 - CNBC\"}, {\"url\": \"https://news.google.com/rss/articles/CBMijAFBVV95cUxQUDhkX2tIUmRNT1J2VExLYmpsYzNSMlB0cTFIcmg5aUtiVEE2cnhfb1lWOGRCTVR4bjYyMk1TMk0tUDc4d3Y5Y1BKd2o0TjZaWnlEa3JKbjY0djh3M25DX0U5dlFGM0RUcFVidllYaDdFcUFGNjBuYkdtWGM4VlRGQi05TElZX09nTDB6bg?oc=5\", \"content\": \"Joe Rogan’s new custom Tesla Model S Plaid looks sick - Electrek.co\"}, {\"url\": \"https://news.google.com/rss/articles/CBMilAFBVV95cUxPbFR3LUQyX25rNUJIWjgwQTd1b2hIVmNudUYzMnYwVlFKSmZ1MnBPTjZiSDJTQ29MbTd6TGNDdVc5dm9JMjJXV0FpazN1OXhOa0pxNkxIQ3ZWVFV4cmdiMlo2b3VqeXF1SXhQMnJ3aFlhM1BMdFBEOUplZ0RrNU5kR09uQlF4cGZ4SWdicWd3aEdrazdS?oc=5\", \"content\": \"2025 Tesla Model Y Juniper vs. 2025 Tesla Model 3: New EVs Compared - Car and Driver\"}, {\"url\": \"https://news.google.com/rss/articles/CBMigwFBVV95cUxNZFpPT05uWFdYLXUzSXh3bjRzbk1aMkpKZ0tqMGY2UF9iZWNVdUYzaHIxZzZFTkJVLWpiY2NtZll4UldIdUZaSnRHSWdKUnc3VDNQQmMyX2ZJNFl4cExmdFFrS1hBQ3lKaVIxOFQ3SVZUSEVxRzJSSkEyMDRtb1NnWWZKOA?oc=5\", \"content\": \"New Tesla Model Y First Look: The Model 3\\'s Upgrades Hit the More Popular SUV - MotorTrend\"}, {\"url\": \"https://news.google.com/rss/articles/CBMivwFBVV95cUxPb2xCdF9qRGp6TmdrMUVtZnJ1SUJXWC1lajdPMU5JTF9PcnlSTDktbTU1eUVDVkxjNnhYMDdSeFVZcWVmMVQ0LXVUWTRhNzlHa0ZBMmJfZUpGQm9mcHNzcEZ1Tk1PQVdlVnh6RUpVc1NRQUZTNlN3MnlodEhNSThydm1YU0JrV2h2T0R5dXJWdHF4TkpfLTBTOGNnN1RFLVdBNVhqd0V0TExGRmFOdVR1VFVmTi1CUXlmQW5DbDA3aw?oc=5\", \"content\": \"Tesla launches new Model Y in US, Canada, Europe weeks after China - Reuters\"}]', name='search_news', tool_call_id='tool_call_id_1'),\n",
              "  ToolMessage(content='10\\n', name='python_code_interpreter', tool_call_id='tool_call_id_2')]}"
            ]
          },
          "execution_count": 9,
          "metadata": {},
          "output_type": "execute_result"
        }
      ],
      "source": [
        "# Creating an AI message object with multiple tool calls\n",
        "message_with_multiple_tool_calls = AIMessage(\n",
        "    content=\"\",\n",
        "    tool_calls=[\n",
        "        {\n",
        "            \"name\": \"search_news\",\n",
        "            \"args\": {\"query\": \"Tesla new model\"},\n",
        "            \"id\": \"tool_call_id_1\",\n",
        "            \"type\": \"tool_call\",\n",
        "        },\n",
        "        {\n",
        "            \"name\": \"python_code_interpreter\",\n",
        "            \"args\": {\"code\": \"print(1+2+3+4)\"},\n",
        "            \"id\": \"tool_call_id_2\",\n",
        "            \"type\": \"tool_call\",\n",
        "        },\n",
        "    ],\n",
        ")\n",
        "\n",
        "# Invoke multiple tool calls with created message\n",
        "tool_node.invoke({\"messages\": [message_with_multiple_tool_calls]})"
      ]
    },
    {
      "cell_type": "markdown",
      "id": "d079b5b9",
      "metadata": {},
      "source": [
        "## Using with LLMs\n",
        "\n",
        " To use chat models with tool calling, we need to first ensure that the model is aware of the available tools. \n",
        " LangChain provides various chat models of different providers such as `OpenAI GPT`, `Anthropic Claude`, `Google Gemini` and more.\n",
        " You can visit [LangChain ChatModels](https://python.langchain.com/docs/integrations/chat/) for more details.\n",
        " \n",
        "In this tutorial, We do this by calling `.bind_tools` method on `ChatOpenAI` model.\n",
        "This can be done by calling the `.bind_tools` method on the `ChatOpenAI` model."
      ]
    },
    {
      "cell_type": "code",
      "execution_count": 10,
      "id": "af53996f",
      "metadata": {},
      "outputs": [],
      "source": [
        "from langchain_openai import ChatOpenAI\n",
        "\n",
        "# Initialize LLM model and bind tools\n",
        "model_with_tools = ChatOpenAI(model=\"gpt-4o-mini\", temperature=0).bind_tools(tools)"
      ]
    },
    {
      "cell_type": "code",
      "execution_count": 11,
      "id": "9e4d2811",
      "metadata": {},
      "outputs": [
        {
          "data": {
            "text/plain": [
              "[{'name': 'python_code_interpreter',\n",
              "  'args': {'code': 'def is_prime(n):\\n    if n <= 1:\\n        return False\\n    for i in range(2, int(n**0.5) + 1):\\n        if n % i == 0:\\n            return False\\n    return True\\n\\nprimes = []\\nnum = 2\\nwhile len(primes) < 5:\\n    if is_prime(num):\\n        primes.append(num)\\n    num += 1\\n\\nprint(primes)'},\n",
              "  'id': 'call_izRKAOviyEZpHGYmTPqOaz0z',\n",
              "  'type': 'tool_call'}]"
            ]
          },
          "execution_count": 11,
          "metadata": {},
          "output_type": "execute_result"
        }
      ],
      "source": [
        "model_with_tools.invoke(\n",
        "    \"Write Python code to print the first 5 prime numbers.\"\n",
        ").tool_calls"
      ]
    },
    {
      "cell_type": "markdown",
      "id": "d13a07e4",
      "metadata": {},
      "source": [
        "As you can see, the AI message generated by the chat model already has `tool_calls` populated, so we can just pass it directly to `ToolNode`."
      ]
    },
    {
      "cell_type": "code",
      "execution_count": 12,
      "id": "8c5dc7d5",
      "metadata": {},
      "outputs": [
        {
          "data": {
            "text/plain": [
              "{'messages': [ToolMessage(content='[2, 3, 5, 7, 11]\\n', name='python_code_interpreter', tool_call_id='call_3NCmJT0R6JPKulLwG0qPqp9T')]}"
            ]
          },
          "execution_count": 12,
          "metadata": {},
          "output_type": "execute_result"
        }
      ],
      "source": [
        "# Processing messages through ToolNode and generating tool-based responses from LLM model\n",
        "tool_node.invoke(\n",
        "    {\n",
        "        \"messages\": [\n",
        "            model_with_tools.invoke(\n",
        "                \"Write Python code to print the first 5 prime numbers.\"\n",
        "            )\n",
        "        ]\n",
        "    }\n",
        ")"
      ]
    },
    {
      "cell_type": "markdown",
      "id": "e1fb0371",
      "metadata": {},
      "source": [
        "## Using with Agent\n",
        "\n",
        "Next, let's explore how to use `ToolNode` within a `LangGraph`' graph.\n",
        "\n",
        "We will set up an [`ReAct Agent`](https://langchain-ai.github.io/langgraph/concepts/agentic_concepts/#react-implementation)'s graph implementation. This agent takes a query as input and repeatedly invokes tools until it gathers enough information to resolve the query.\n",
        "\n",
        "Before we start, let's define a function to visualize the graph."
      ]
    },
    {
      "cell_type": "code",
      "execution_count": 13,
      "id": "ccd4e3ba",
      "metadata": {},
      "outputs": [],
      "source": [
        "from IPython.display import Image, display\n",
        "from langgraph.graph.state import CompiledStateGraph\n",
        "\n",
        " # Graph visualization\n",
        "def visualize_graph(graph, xray=False):\n",
        "    \"\"\"\n",
        "    Visualizes and displays a CompiledStateGraph object.\n",
        "    \n",
        "    This function converts and displays the given graph object as a PNG image in Mermaid format if it is an instance of CompiledStateGraph.\n",
        "\n",
        "    Args:\n",
        "        graph: The graph object to visualize. It must be an instance of CompiledStateGraph.\n",
        "\n",
        "    Returns:\n",
        "        None\n",
        "\n",
        "    Raises:\n",
        "        Exception: Outputs an exception if an error occurs during graph visualization.\n",
        "    \"\"\"\n",
        "    try:\n",
        "        if isinstance(graph, CompiledStateGraph):\n",
        "            display(\n",
        "                Image(\n",
        "                    graph.get_graph(xray=xray).draw_mermaid_png(\n",
        "                        background_color=\"white\",\n",
        "                        node_colors=None,\n",
        "                    )\n",
        "                )\n",
        "            )\n",
        "    except Exception as e:\n",
        "        print(f\"[ERROR] Visualize Graph Error: {e}\")"
      ]
    },
    {
      "cell_type": "markdown",
      "id": "4c6d4b13",
      "metadata": {},
      "source": [
        "The `ToolNode` and `OpenAI` model will be used together with the tools we just defined.\n",
        "\n",
        "Let's build a graph with the following steps.\n",
        "1. Use LLM model to process messages and generate responses, return responses with tool calls.\n",
        "2. Initialize workflow graph based on message state.\n",
        "3. Define the two nodes we will cycle between agent and tools.\n",
        "4. Connect the workflow starting point to the agent node.\n",
        "5. Set up conditional branching from the agent node, connecting to a tool node or an endpoint.\n",
        "6. Set up circular edges between the tool node and the agent node.\n",
        "7. Connect the agent node to the end point.\n",
        "8. Compile the defined workflow graph and create an executable application."
      ]
    },
    {
      "cell_type": "code",
      "execution_count": 14,
      "id": "1920a041",
      "metadata": {},
      "outputs": [],
      "source": [
        "# Import types for LangGraph workflow state and message processing\n",
        "from langgraph.graph import StateGraph, MessagesState, START, END\n",
        "\n",
        "\n",
        "# 1. Use LLM model to process messages and generate responses, return responses with tool calls\n",
        "def call_model(state: MessagesState):\n",
        "    messages = state[\"messages\"]\n",
        "    response = model_with_tools.invoke(messages)\n",
        "    return {\"messages\": [response]}\n",
        "\n",
        "\n",
        "# 2. Initialize workflow graph based on message state\n",
        "workflow = StateGraph(MessagesState)\n",
        "\n",
        "# 3. Define the two nodes we will cycle between agent and tools\n",
        "# Add agent and tools nodes to the workflow graph\n",
        "workflow.add_node(\"agent\", call_model)\n",
        "workflow.add_node(\"tools\", tool_node)\n",
        "\n",
        "# 4. Connect the workflow starting point to the agent node\n",
        "workflow.add_edge(START, \"agent\")\n",
        "\n",
        "# 5.Set up conditional branching from the agent node, connecting to a tool node or an endpoint\n",
        "workflow.add_conditional_edges(\"agent\", tools_condition)\n",
        "\n",
        "# 6. Set up circular edges between the tool node and the agent node\n",
        "workflow.add_edge(\"tools\", \"agent\")\n",
        "\n",
        "# 7. Connect the agent node to the end point\n",
        "workflow.add_edge(\"agent\", END)\n",
        "\n",
        "# 8. Compile the defined workflow graph and create an executable application\n",
        "app = workflow.compile()"
      ]
    },
    {
      "cell_type": "code",
      "execution_count": 15,
      "id": "7e7b9e45",
      "metadata": {},
      "outputs": [
        {
          "data": {
            "image/png": "[encoded data removed]",
            "text/plain": [
              "<IPython.core.display.Image object>"
            ]
          },
          "metadata": {},
          "output_type": "display_data"
        }
      ],
      "source": [
        "visualize_graph(app)"
      ]
    },
    {
      "cell_type": "markdown",
      "id": "3e14778c",
      "metadata": {},
      "source": [
        "Let's try to run the graph with different queries."
      ]
    },
    {
      "cell_type": "code",
      "execution_count": 16,
      "id": "1d8e843e",
      "metadata": {},
      "outputs": [
        {
          "name": "stdout",
          "output_type": "stream",
          "text": [
            "================================\u001b[1m Human Message \u001b[0m=================================\n",
            "\n",
            "Write Python code to print the first 5 prime numbers.\n",
            "==================================\u001b[1m Ai Message \u001b[0m==================================\n",
            "Tool Calls:\n",
            "  python_code_interpreter (call_xYrazUEJHCaoBRGPYm3wZvyU)\n",
            " Call ID: call_xYrazUEJHCaoBRGPYm3wZvyU\n",
            "  Args:\n",
            "    code: def is_prime(n):\n",
            "    if n <= 1:\n",
            "        return False\n",
            "    for i in range(2, int(n**0.5) + 1):\n",
            "        if n % i == 0:\n",
            "            return False\n",
            "    return True\n",
            "\n",
            "primes = []\n",
            "num = 2\n",
            "while len(primes) < 5:\n",
            "    if is_prime(num):\n",
            "        primes.append(num)\n",
            "    num += 1\n",
            "\n",
            "print(primes)\n",
            "=================================\u001b[1m Tool Message \u001b[0m=================================\n",
            "Name: python_code_interpreter\n",
            "\n",
            "[2, 3, 5, 7, 11]\n",
            "\n",
            "==================================\u001b[1m Ai Message \u001b[0m==================================\n",
            "\n",
            "The first 5 prime numbers are: [2, 3, 5, 7, 11].\n"
          ]
        }
      ],
      "source": [
        "for chunk in app.stream(\n",
        "    {\"messages\": [(\"human\", \"Write Python code to print the first 5 prime numbers.\")]},\n",
        "    stream_mode=\"values\",\n",
        "):\n",
        "    # Print the last message\n",
        "    chunk[\"messages\"][-1].pretty_print()"
      ]
    },
    {
      "cell_type": "code",
      "execution_count": 17,
      "id": "71ce609d",
      "metadata": {},
      "outputs": [
        {
          "name": "stdout",
          "output_type": "stream",
          "text": [
            "================================\u001b[1m Human Message \u001b[0m=================================\n",
            "\n",
            "What is most played BTS song?\n",
            "==================================\u001b[1m Ai Message \u001b[0m==================================\n",
            "\n",
            "The most played BTS song is \"Dynamite.\" Released in August 2020, it became a global hit and topped charts worldwide, including the Billboard Hot 100. The song's catchy melody and upbeat vibe contributed to its massive popularity, leading to billions of streams on various platforms. Other popular BTS songs include \"Butter,\" \"Boy With Luv,\" and \"Fake Love,\" but \"Dynamite\" remains one of their most iconic tracks.\n"
          ]
        }
      ],
      "source": [
        "# Search query\n",
        "for chunk in app.stream(\n",
        "    {\"messages\": [(\"human\", \"What is most played BTS song?\")]},\n",
        "    stream_mode=\"values\",\n",
        "):\n",
        "    chunk[\"messages\"][-1].pretty_print()"
      ]
    },
    {
      "cell_type": "code",
      "execution_count": 18,
      "id": "96c5c75d",
      "metadata": {},
      "outputs": [
        {
          "name": "stdout",
          "output_type": "stream",
          "text": [
            "================================\u001b[1m Human Message \u001b[0m=================================\n",
            "\n",
            "Hi, How's it going?\n",
            "==================================\u001b[1m Ai Message \u001b[0m==================================\n",
            "\n",
            "I'm just a program, so I don't have feelings, but I'm here and ready to help you! How can I assist you today?\n"
          ]
        }
      ],
      "source": [
        "# Query that does not require tool call\n",
        "for chunk in app.stream(\n",
        "    {\"messages\": [(\"human\", \"Hi, How's it going?\")]},\n",
        "    stream_mode=\"values\",\n",
        "):\n",
        "    chunk[\"messages\"][-1].pretty_print()"
      ]
    },
    {
      "cell_type": "markdown",
      "id": "d39c30b4",
      "metadata": {},
      "source": [
        "`ToolNode` can also handle errors that occur during tool execution.\n",
        "\n",
        "You can enable/disable this feature by setting `handle_tool_errors=True` (enabled by default)."
      ]
    }
  ],
  "metadata": {
    "kernelspec": {
      "display_name": "langchain-opentutorial-nHTobcyW-py3.11",
      "language": "python",
      "name": "python3"
    },
    "language_info": {
      "codemirror_mode": {
        "name": "ipython",
        "version": 3
      },
      "file_extension": ".py",
      "mimetype": "text/x-python",
      "name": "python",
      "nbconvert_exporter": "python",
      "pygments_lexer": "ipython3",
      "version": "3.11.10"
    }
  },
  "nbformat": 4,
  "nbformat_minor": 5
}
