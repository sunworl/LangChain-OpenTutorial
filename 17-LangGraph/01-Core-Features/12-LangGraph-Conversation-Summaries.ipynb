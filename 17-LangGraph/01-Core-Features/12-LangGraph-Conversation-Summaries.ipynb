{
  "cells": [
    {
      "cell_type": "markdown",
      "metadata": {},
      "source": [
        "# Conversation Summaries with LangGraph\n",
        "\n",
        "- Author: [Junseong Kim](https://www.linkedin.com/in/%EC%A4%80%EC%84%B1-%EA%B9%80-591b351b2/)\n",
        "- Peer Review: \n",
        "- This is a part of [LangChain Open Tutorial](https://github.com/LangChain-OpenTutorial/LangChain-OpenTutorial)\n",
        "\n",
        "[![Open in Colab](https://colab.research.google.com/assets/colab-badge.svg)](https://colab.research.google.com/github/LangChain-OpenTutorial/LangChain-OpenTutorial/blob/main/03-OutputParser/02-CommaSeparatedListOutputParser.ipynb) [![Open in GitHub](https://img.shields.io/badge/Open%20in%20GitHub-181717?style=flat-square&logo=github&logoColor=white)](https://github.com/LangChain-OpenTutorial/LangChain-OpenTutorial/blob/main/03-OutputParser/02-CommaSeparatedListOutputParser.ipynb)\n",
        "\n",
        "## Overview\n",
        "\n",
        "One of the most common use cases of conversation persistence is keeping track of a conversation's history. By summarizing and referencing past messages, we can maintain essential context without overloading the system with the entire conversation. This becomes especially important for long conversations, where a large context window can lead to increased computational costs and potential inaccuracies. \n",
        "\n",
        "In this tutorial, we will explore how to summarize a conversation and integrate that summary into a new conversation state while removing older messages. This approach helps manage the conversation length within a limited context window, preventing inadvertent increases in cost or inference time.\n",
        "\n",
        "**Key Steps:**\n",
        "\n",
        "1. Detect if a conversation is too long (e.g., based on the number of messages).\n",
        "2. If it exceeds a threshold, summarize the conversation so far.\n",
        "3. Remove older messages and store only the summary (plus the most recent messages).\n",
        "\n",
        "This tutorial will guide you through setting up a conversation flow that automatically summarizes older messages and retains only the recent conversation turns and the summary.\n",
        "\n",
        "![](./assets/12-conversation-summaries-with-langgraph_visualize.png)\n",
        "\n",
        "### Table of Contents\n",
        "- [Overview](#overview)  \n",
        "- [Environment Setup](#environment-setup)  \n",
        "- [Checking the Conversation Length](#checking-the-conversation-length)  \n",
        "- [Summarizing and Managing the Conversation](#summarizing-and-managing-the-conversation)  \n",
        "- [Building Graph Workflow](#building-graph-workflow)  \n",
        "- [Running Workflow](#running-workflow)\n",
        "\n",
        "### References\n",
        "\n",
        "- [LangGraph](https://www.langchain.com/langgraph) \n",
        "- [LangChain ChatOpenAI API reference](https://python.langchain.com/docs/integrations/llms/openai/)  \n",
        "- [LangSmith](https://smith.langchain.com)\n",
        "----"
      ]
    },
    {
      "cell_type": "markdown",
      "metadata": {},
      "source": [
        "## Environment Setup\n",
        "\n",
        "Set up the environment. You may refer to [Environment Setup](https://wikidocs.net/257836) for more details.\n",
        "\n",
        "**[Note]**\n",
        "- `langchain-opentutorial` is a package that provides a set of easy-to-use environment setup, useful functions and utilities for tutorials. \n",
        "- You can checkout the [`langchain-opentutorial`](https://github.com/LangChain-OpenTutorial/langchain-opentutorial-pypi) for more details."
      ]
    },
    {
      "cell_type": "code",
      "execution_count": 1,
      "metadata": {},
      "outputs": [],
      "source": [
        "%%capture --no-stderr\n",
        "%pip install langchain-opentutorial"
      ]
    },
    {
      "cell_type": "code",
      "execution_count": 2,
      "metadata": {},
      "outputs": [],
      "source": [
        "# Install required packages\n",
        "from langchain_opentutorial import package\n",
        "\n",
        "package.install(\n",
        "    [\n",
        "        \"langsmith\",\n",
        "        \"langchain\",\n",
        "        \"langgraph\",\n",
        "        \"langchain_core\",\n",
        "        \"langchain_openai\",\n",
        "        \"langchain_community\",\n",
        "        \"IPython\",\n",
        "    ],\n",
        "    verbose=False,\n",
        "    upgrade=False,\n",
        ")"
      ]
    },
    {
      "cell_type": "code",
      "execution_count": 3,
      "metadata": {},
      "outputs": [
        {
          "name": "stdout",
          "output_type": "stream",
          "text": [
            "Environment variables have been set successfully.\n"
          ]
        }
      ],
      "source": [
        "# Set environment variables\n",
        "from langchain_opentutorial import set_env\n",
        "\n",
        "set_env(\n",
        "    {\n",
        "        \"OPENAI_API_KEY\": \"\",\n",
        "        \"LANGCHAIN_API_KEY\": \"\",\n",
        "        \"LANGCHAIN_TRACING_V2\": \"true\",\n",
        "        \"LANGCHAIN_ENDPOINT\": \"https://api.smith.langchain.com\",\n",
        "        \"LANGCHAIN_PROJECT\": \"12-Conversation-Summaries-with-LangGraph\",\n",
        "    }\n",
        ")"
      ]
    },
    {
      "cell_type": "markdown",
      "metadata": {},
      "source": [
        "You can alternatively set `OPENAI_API_KEY` in `.env` file and load it. \n",
        "\n",
        "[Note] This is not necessary if you've already set `OPENAI_API_KEY` in previous steps."
      ]
    },
    {
      "cell_type": "code",
      "execution_count": 4,
      "metadata": {},
      "outputs": [
        {
          "data": {
            "text/plain": [
              "True"
            ]
          },
          "execution_count": 4,
          "metadata": {},
          "output_type": "execute_result"
        }
      ],
      "source": [
        "from dotenv import load_dotenv\n",
        "\n",
        "load_dotenv(override=True)"
      ]
    },
    {
      "cell_type": "markdown",
      "metadata": {},
      "source": [
        "## Checking the Conversation Length\n",
        "\n",
        "Below, we set up our custom `State` to store both messages and summaries. We'll also define a helper function in a **separate cell** to determine if the conversation has exceeded a certain length.\n",
        "\n",
        "- The `State` class extends `MessagesState`, holding `messages` and `summary`.\n",
        "- We initialize a `ChatOpenAI` model with the name `gpt-4o-mini`."
      ]
    },
    {
      "cell_type": "code",
      "execution_count": 5,
      "metadata": {},
      "outputs": [],
      "source": [
        "from typing import Literal, Annotated\n",
        "from langchain_openai import ChatOpenAI\n",
        "from langchain_core.messages import SystemMessage, RemoveMessage, HumanMessage\n",
        "from langgraph.checkpoint.memory import MemorySaver\n",
        "from langgraph.graph import MessagesState, StateGraph, START\n",
        "from langgraph.graph.message import add_messages\n",
        "\n",
        "# Set up an in-memory storage for conversation states\n",
        "memory = MemorySaver()\n",
        "\n",
        "\n",
        "# We'll store both the conversation messages and the summary in the state\n",
        "class State(MessagesState):\n",
        "    messages: Annotated[list, add_messages]\n",
        "    summary: str\n",
        "\n",
        "\n",
        "# Initialize the LLM model for conversation\n",
        "model = ChatOpenAI(model_name=\"gpt-4o-mini\", temperature=1)"
      ]
    },
    {
      "cell_type": "markdown",
      "metadata": {},
      "source": [
        "Here is a separate code cell for the `should_continue` function, which checks if the conversation has more than 6 messages."
      ]
    },
    {
      "cell_type": "code",
      "execution_count": 6,
      "metadata": {},
      "outputs": [],
      "source": [
        "from langgraph.graph import END\n",
        "\n",
        "\n",
        "def should_continue(state: State) -> Literal[\"summarize_conversation\", END]:\n",
        "    \"\"\"\n",
        "    Check if the conversation is too long (over 6 messages).\n",
        "    If it is, move to the 'summarize_conversation' node.\n",
        "    Otherwise, end the conversation.\n",
        "    \"\"\"\n",
        "    messages = state[\"messages\"]\n",
        "    if len(messages) > 6:\n",
        "        return \"summarize_conversation\"\n",
        "    return END"
      ]
    },
    {
      "cell_type": "markdown",
      "metadata": {},
      "source": [
        "## Summarizing and Managing the Conversation\n",
        "\n",
        "When the conversation exceeds the threshold, we summarize it and remove older messages to preserve only a recent segment and the overall summary. We also create a node (`ask_llm`) to handle new messages, optionally including the existing summary.\n",
        "\n",
        "- `ask_llm` checks if a summary exists and prepends it as a `SystemMessage` if so."
      ]
    },
    {
      "cell_type": "code",
      "execution_count": 7,
      "metadata": {},
      "outputs": [],
      "source": [
        "def ask_llm(state: State):\n",
        "    \"\"\"\n",
        "    If a summary of the conversation already exists, we include it as a\n",
        "    system message. Otherwise, we just use the existing messages.\n",
        "    \"\"\"\n",
        "    summary = state.get(\"summary\", \"\")\n",
        "\n",
        "    if summary:\n",
        "        system_message = f\"This is the conversation summary so far: {summary}\"\n",
        "        messages = [SystemMessage(content=system_message)] + state[\"messages\"]\n",
        "    else:\n",
        "        messages = state[\"messages\"]\n",
        "\n",
        "    response = model.invoke(messages)\n",
        "    return {\"messages\": [response]}"
      ]
    },
    {
      "cell_type": "markdown",
      "metadata": {},
      "source": [
        "- `summarize_conversation` either creates or extends a summary and removes older messages."
      ]
    },
    {
      "cell_type": "code",
      "execution_count": 8,
      "metadata": {},
      "outputs": [],
      "source": [
        "def summarize_conversation(state: State):\n",
        "    \"\"\"\n",
        "    Summarize the conversation in English.\n",
        "    If an existing summary exists, extend it with new messages.\n",
        "    Delete older messages to reduce context usage,\n",
        "    keeping only the last two messages.\n",
        "    \"\"\"\n",
        "    summary = state.get(\"summary\", \"\")\n",
        "\n",
        "    if summary:\n",
        "        summary_message = (\n",
        "            f\"This is the conversation summary so far:\\n{summary}\\n\\n\"\n",
        "            \"Please extend the summary by incorporating any new messages.\"\n",
        "        )\n",
        "    else:\n",
        "        summary_message = \"Please create a concise summary of the conversation so far.\"\n",
        "\n",
        "    messages = state[\"messages\"] + [HumanMessage(content=summary_message)]\n",
        "    response = model.invoke(messages)\n",
        "\n",
        "    # Remove older messages, except the last two\n",
        "    delete_messages = [RemoveMessage(id=m.id) for m in state[\"messages\"][:-2]]\n",
        "\n",
        "    return {\"summary\": response.content, \"messages\": delete_messages}"
      ]
    },
    {
      "cell_type": "markdown",
      "metadata": {},
      "source": [
        "## Building Graph Workflow\n",
        "\n",
        "Here, we construct a `StateGraph`, add our nodes, and compile the application. We also use `visualize_graph(app)` to see how the workflow is structured.\n",
        "\n",
        "- Use `StateGraph` to define nodes and edges.\n",
        "- Use `visualize_graph(app)` to see the workflow."
      ]
    },
    {
      "cell_type": "code",
      "execution_count": 9,
      "metadata": {},
      "outputs": [],
      "source": [
        "# Build the workflow graph\n",
        "workflow = StateGraph(State)\n",
        "\n",
        "# Add nodes\n",
        "workflow.add_node(\"conversation\", ask_llm)\n",
        "workflow.add_node(summarize_conversation)\n",
        "\n",
        "# Define edges\n",
        "workflow.add_edge(START, \"conversation\")\n",
        "workflow.add_conditional_edges(\"conversation\", should_continue)\n",
        "workflow.add_edge(\"summarize_conversation\", END)\n",
        "\n",
        "# Compile with memory checkpoint\n",
        "app = workflow.compile(checkpointer=memory)"
      ]
    },
    {
      "cell_type": "markdown",
      "metadata": {},
      "source": [
        "Below is an example code snippet that visualizes the current workflow graph. We define custom node styles for the graph and then use IPython utilities to display the rendered image inline. The `NodeStyles` data class customizes fill colors, stroke styles, and overall appearance of the nodes."
      ]
    },
    {
      "cell_type": "code",
      "execution_count": null,
      "metadata": {},
      "outputs": [
        {
          "data": {
            "image/png": "[encoded data removed]",
            "text/plain": [
              "<IPython.core.display.Image object>"
            ]
          },
          "metadata": {},
          "output_type": "display_data"
        }
      ],
      "source": [
        "# Required imports for graph visualization\n",
        "from IPython.display import Image, display\n",
        "from dataclasses import dataclass\n",
        "\n",
        "\n",
        "@dataclass\n",
        "class NodeStyles:\n",
        "    \"\"\"\n",
        "    A data class defining styles for graph nodes.\n",
        "    \"\"\"\n",
        "\n",
        "    # Style for default nodes\n",
        "    default: str = (\n",
        "        \"fill:#45C4B0, fill-opacity:0.3, color:#23260F, \"\n",
        "        \"stroke:#45C4B0, stroke-width:1px, font-weight:bold, line-height:1.2\"\n",
        "    )\n",
        "    # Style for first node (e.g., start node)\n",
        "    first: str = (\n",
        "        \"fill:#45C4B0, fill-opacity:0.1, color:#23260F, \"\n",
        "        \"stroke:#45C4B0, stroke-width:1px, font-weight:normal, \"\n",
        "        \"font-style:italic, stroke-dasharray:2,2\"\n",
        "    )\n",
        "    # Style for last node (e.g., end node)\n",
        "    last: str = (\n",
        "        \"fill:#45C4B0, fill-opacity:1, color:#000000, \"\n",
        "        \"stroke:#45C4B0, stroke-width:1px, font-weight:normal, \"\n",
        "        \"font-style:italic, stroke-dasharray:2,2\"\n",
        "    )\n",
        "\n",
        "\n",
        "# Display the workflow graph with the defined node styles\n",
        "display(\n",
        "    Image(\n",
        "        app.get_graph().draw_mermaid_png(\n",
        "            background_color=\"white\", node_colors=NodeStyles()\n",
        "        )\n",
        "    )\n",
        ")"
      ]
    },
    {
      "cell_type": "markdown",
      "metadata": {},
      "source": [
        "## Running Workflow\n",
        "\n",
        "You can interact with the application by sending messages. Once the conversation exceeds 6 messages, it automatically summarizes and shortens.\n",
        "\n",
        "- The `app.stream` method handles streaming of messages and triggers the nodes accordingly.\n",
        "- Check the internal state with `app.get_state(config)` to see how messages and summaries are updated."
      ]
    },
    {
      "cell_type": "markdown",
      "metadata": {},
      "source": [
        "Here is a helper function, `print_update`, which prints updates in real time during streaming."
      ]
    },
    {
      "cell_type": "code",
      "execution_count": 11,
      "metadata": {},
      "outputs": [],
      "source": [
        "def print_update(update):\n",
        "    \"\"\"\n",
        "    Helper function to print out updates during streaming.\n",
        "    \"\"\"\n",
        "    for k, v in update.items():\n",
        "        for m in v.get(\"messages\", []):\n",
        "            m.pretty_print()\n",
        "        if \"summary\" in v:\n",
        "            print(v[\"summary\"])"
      ]
    },
    {
      "cell_type": "markdown",
      "metadata": {},
      "source": [
        "Below is a single code cell demonstrating how we handle user messages and process them through streaming mode. We import `HumanMessage`, configure the session with a thread ID, and send three user messages in sequence. After each message, the updates are streamed and printed in real time."
      ]
    },
    {
      "cell_type": "code",
      "execution_count": 12,
      "metadata": {},
      "outputs": [
        {
          "name": "stdout",
          "output_type": "stream",
          "text": [
            "================================\u001b[1m Human Message \u001b[0m=================================\n",
            "\n",
            "Hello! Nice to meet you. My name is Junseong.\n",
            "==================================\u001b[1m Ai Message \u001b[0m==================================\n",
            "\n",
            "Hello, Junseong! Nice to meet you too! How can I assist you today?\n",
            "================================\u001b[1m Human Message \u001b[0m=================================\n",
            "\n",
            "Do you remember my name?\n",
            "==================================\u001b[1m Ai Message \u001b[0m==================================\n",
            "\n",
            "Yes, your name is Junseong! How can I help you today?\n",
            "================================\u001b[1m Human Message \u001b[0m=================================\n",
            "\n",
            "I am working as an AI researcher.\n",
            "==================================\u001b[1m Ai Message \u001b[0m==================================\n",
            "\n",
            "That's great to hear, Junseong! AI research is a fascinating field with so many exciting developments. What specific area of AI are you focusing on?\n"
          ]
        }
      ],
      "source": [
        "# Initialize a configuration object with thread ID\n",
        "config = {\"configurable\": {\"thread_id\": \"1\"}}\n",
        "\n",
        "# 1) First user message\n",
        "input_message = HumanMessage(content=\"Hello! Nice to meet you. My name is Junseong.\")\n",
        "input_message.pretty_print()\n",
        "\n",
        "# Process the first message in streaming mode and print updates\n",
        "for event in app.stream({\"messages\": [input_message]}, config, stream_mode=\"updates\"):\n",
        "    print_update(event)\n",
        "\n",
        "# 2) Second user message\n",
        "input_message = HumanMessage(content=\"Do you remember my name?\")\n",
        "input_message.pretty_print()\n",
        "\n",
        "# Process the second message in streaming mode and print updates\n",
        "for event in app.stream({\"messages\": [input_message]}, config, stream_mode=\"updates\"):\n",
        "    print_update(event)\n",
        "\n",
        "# 3) Third user message\n",
        "input_message = HumanMessage(content=\"I am working as an AI researcher.\")\n",
        "input_message.pretty_print()\n",
        "\n",
        "# Process the third message in streaming mode and print updates\n",
        "for event in app.stream({\"messages\": [input_message]}, config, stream_mode=\"updates\"):\n",
        "    print_update(event)"
      ]
    },
    {
      "cell_type": "markdown",
      "metadata": {},
      "source": [
        "So far, no summary has been generated because there are only six messages. Once the conversation exceeds six messages, summarization will be triggered."
      ]
    },
    {
      "cell_type": "code",
      "execution_count": 13,
      "metadata": {},
      "outputs": [
        {
          "data": {
            "text/plain": [
              "{'messages': [HumanMessage(content='Hello! Nice to meet you. My name is Junseong.', additional_kwargs={}, response_metadata={}, id='82e87de6-b2bb-43f6-8f5a-98c74569d7ca'),\n",
              "  AIMessage(content='Hello, Junseong! Nice to meet you too! How can I assist you today?', additional_kwargs={'refusal': None}, response_metadata={'token_usage': {'completion_tokens': 20, 'prompt_tokens': 21, 'total_tokens': 41, 'completion_tokens_details': {'accepted_prediction_tokens': 0, 'audio_tokens': 0, 'reasoning_tokens': 0, 'rejected_prediction_tokens': 0}, 'prompt_tokens_details': {'audio_tokens': 0, 'cached_tokens': 0}}, 'model_name': 'gpt-4o-mini-2024-07-18', 'system_fingerprint': 'fp_72ed7ab54c', 'finish_reason': 'stop', 'logprobs': None}, id='run-e7977301-95d5-461f-8c51-373646cb7ab6-0', usage_metadata={'input_tokens': 21, 'output_tokens': 20, 'total_tokens': 41, 'input_token_details': {'audio': 0, 'cache_read': 0}, 'output_token_details': {'audio': 0, 'reasoning': 0}}),\n",
              "  HumanMessage(content='Do you remember my name?', additional_kwargs={}, response_metadata={}, id='1f12ef85-6054-48bc-b6db-e61bd7af74b8'),\n",
              "  AIMessage(content='Yes, your name is Junseong! How can I help you today?', additional_kwargs={'refusal': None}, response_metadata={'token_usage': {'completion_tokens': 17, 'prompt_tokens': 54, 'total_tokens': 71, 'completion_tokens_details': {'accepted_prediction_tokens': 0, 'audio_tokens': 0, 'reasoning_tokens': 0, 'rejected_prediction_tokens': 0}, 'prompt_tokens_details': {'audio_tokens': 0, 'cached_tokens': 0}}, 'model_name': 'gpt-4o-mini-2024-07-18', 'system_fingerprint': 'fp_72ed7ab54c', 'finish_reason': 'stop', 'logprobs': None}, id='run-5d1013ff-1fb5-407e-a160-8163b41fb927-0', usage_metadata={'input_tokens': 54, 'output_tokens': 17, 'total_tokens': 71, 'input_token_details': {'audio': 0, 'cache_read': 0}, 'output_token_details': {'audio': 0, 'reasoning': 0}}),\n",
              "  HumanMessage(content='I am working as an AI researcher.', additional_kwargs={}, response_metadata={}, id='cbc9c016-79af-4c3a-8240-62951fd41b30'),\n",
              "  AIMessage(content=\"That's great to hear, Junseong! AI research is a fascinating field with so many exciting developments. What specific area of AI are you focusing on?\", additional_kwargs={'refusal': None}, response_metadata={'token_usage': {'completion_tokens': 32, 'prompt_tokens': 86, 'total_tokens': 118, 'completion_tokens_details': {'accepted_prediction_tokens': 0, 'audio_tokens': 0, 'reasoning_tokens': 0, 'rejected_prediction_tokens': 0}, 'prompt_tokens_details': {'audio_tokens': 0, 'cached_tokens': 0}}, 'model_name': 'gpt-4o-mini-2024-07-18', 'system_fingerprint': 'fp_72ed7ab54c', 'finish_reason': 'stop', 'logprobs': None}, id='run-f5a63532-897a-4400-b6e6-2e41f2a01613-0', usage_metadata={'input_tokens': 86, 'output_tokens': 32, 'total_tokens': 118, 'input_token_details': {'audio': 0, 'cache_read': 0}, 'output_token_details': {'audio': 0, 'reasoning': 0}})]}"
            ]
          },
          "execution_count": 13,
          "metadata": {},
          "output_type": "execute_result"
        }
      ],
      "source": [
        "values = app.get_state(config).values\n",
        "values"
      ]
    },
    {
      "cell_type": "markdown",
      "metadata": {},
      "source": [
        "You can see that there are only six messages in the list, which is why no summary has been created yet. Let's send another message to exceed that threshold."
      ]
    },
    {
      "cell_type": "code",
      "execution_count": null,
      "metadata": {},
      "outputs": [
        {
          "name": "stdout",
          "output_type": "stream",
          "text": [
            "================================\u001b[1m Human Message \u001b[0m=================================\n",
            "\n",
            "I'm recently learning more about LLMs. I'm reading the latest papers on LLM.\n",
            "==================================\u001b[1m Ai Message \u001b[0m==================================\n",
            "\n",
            "That's an exciting area to explore! Large Language Models (LLMs) have made significant advancements and have a wide range of applications. Are there any specific papers or topics within LLMs that you're particularly interested in or have found intriguing?\n",
            "================================\u001b[1m Remove Message \u001b[0m================================\n",
            "\n",
            "\n",
            "================================\u001b[1m Remove Message \u001b[0m================================\n",
            "\n",
            "\n",
            "================================\u001b[1m Remove Message \u001b[0m================================\n",
            "\n",
            "\n",
            "================================\u001b[1m Remove Message \u001b[0m================================\n",
            "\n",
            "\n",
            "================================\u001b[1m Remove Message \u001b[0m================================\n",
            "\n",
            "\n",
            "================================\u001b[1m Remove Message \u001b[0m================================\n",
            "\n",
            "\n",
            "Sure! So far, you've introduced yourself as Junseong, an AI researcher who is currently learning about Large Language Models (LLMs) and reading the latest papers on the topic. If there's anything specific you would like to discuss or inquire about regarding LLMs or AI research, feel free to let me know!\n"
          ]
        }
      ],
      "source": [
        "# Create a new user message\n",
        "input_message = HumanMessage(\n",
        "    content=\"I'm recently learning more about LLMs. I'm reading the latest papers on LLM.\"\n",
        ")\n",
        "\n",
        "# Display the message content\n",
        "input_message.pretty_print()\n",
        "\n",
        "# Process and print updates in streaming mode\n",
        "for event in app.stream({\"messages\": [input_message]}, config, stream_mode=\"updates\"):\n",
        "    print_update(event)"
      ]
    },
    {
      "cell_type": "markdown",
      "metadata": {},
      "source": [
        "Because the conversation now has more than six messages, summarization will be triggered.\n",
        "\n",
        "During this process, old messages are removed, and only the summary plus the last two messages remain in the conversation state."
      ]
    },
    {
      "cell_type": "code",
      "execution_count": 15,
      "metadata": {},
      "outputs": [
        {
          "data": {
            "text/plain": [
              "{'messages': [HumanMessage(content=\"I'm recently learning more about LLMs. I'm reading the latest papers on LLM.\", additional_kwargs={}, response_metadata={}, id='7ba54cd3-47b7-4da9-8867-69aa41cb8914'),\n",
              "  AIMessage(content=\"That's an exciting area to explore! Large Language Models (LLMs) have made significant advancements and have a wide range of applications. Are there any specific papers or topics within LLMs that you're particularly interested in or have found intriguing?\", additional_kwargs={'refusal': None}, response_metadata={'token_usage': {'completion_tokens': 48, 'prompt_tokens': 143, 'total_tokens': 191, 'completion_tokens_details': {'accepted_prediction_tokens': 0, 'audio_tokens': 0, 'reasoning_tokens': 0, 'rejected_prediction_tokens': 0}, 'prompt_tokens_details': {'audio_tokens': 0, 'cached_tokens': 0}}, 'model_name': 'gpt-4o-mini-2024-07-18', 'system_fingerprint': 'fp_72ed7ab54c', 'finish_reason': 'stop', 'logprobs': None}, id='run-349e654d-3a5c-4b0b-acef-c2c604d6ef40-0', usage_metadata={'input_tokens': 143, 'output_tokens': 48, 'total_tokens': 191, 'input_token_details': {'audio': 0, 'cache_read': 0}, 'output_token_details': {'audio': 0, 'reasoning': 0}})],\n",
              " 'summary': \"Sure! So far, you've introduced yourself as Junseong, an AI researcher who is currently learning about Large Language Models (LLMs) and reading the latest papers on the topic. If there's anything specific you would like to discuss or inquire about regarding LLMs or AI research, feel free to let me know!\"}"
            ]
          },
          "execution_count": 15,
          "metadata": {},
          "output_type": "execute_result"
        }
      ],
      "source": [
        "# Check the conversation state again to see the new summary\n",
        "values = app.get_state(config).values\n",
        "values"
      ]
    },
    {
      "cell_type": "markdown",
      "metadata": {},
      "source": [
        "As you can see, the summary has been added, and the older messages have been replaced by `RemoveMessage` actions. Only the most recent messages and the newly created summary remain.\n",
        "\n",
        "You can now continue the conversation, and despite only having the last two messages visible, the system still retains the overall context through the summary."
      ]
    },
    {
      "cell_type": "code",
      "execution_count": 16,
      "metadata": {},
      "outputs": [
        {
          "name": "stdout",
          "output_type": "stream",
          "text": [
            "================================\u001b[1m Human Message \u001b[0m=================================\n",
            "\n",
            "Do you remember my name?\n",
            "==================================\u001b[1m Ai Message \u001b[0m==================================\n",
            "\n",
            "Yes, your name is Junseong. How can I assist you further today?\n"
          ]
        }
      ],
      "source": [
        "# Create a user message asking if the assistant remembers the user's name\n",
        "input_message = HumanMessage(content=\"Do you remember my name?\")\n",
        "input_message.pretty_print()\n",
        "\n",
        "# Process in streaming mode\n",
        "for event in app.stream({\"messages\": [input_message]}, config, stream_mode=\"updates\"):\n",
        "    print_update(event)"
      ]
    },
    {
      "cell_type": "markdown",
      "metadata": {},
      "source": [
        "Even though the older messages were removed from the conversation history, the summary contains the essential context. The model can respond accurately based on the stored summary."
      ]
    },
    {
      "cell_type": "code",
      "execution_count": 17,
      "metadata": {},
      "outputs": [
        {
          "name": "stdout",
          "output_type": "stream",
          "text": [
            "================================\u001b[1m Human Message \u001b[0m=================================\n",
            "\n",
            "Do you also recall my occupation?\n",
            "==================================\u001b[1m Ai Message \u001b[0m==================================\n",
            "\n",
            "Yes, you mentioned that you are an AI researcher currently learning about Large Language Models (LLMs). If you have any questions or topics you want to discuss, feel free to share!\n"
          ]
        }
      ],
      "source": [
        "# Create another user message asking about the user's occupation\n",
        "input_message = HumanMessage(content=\"Do you also recall my occupation?\")\n",
        "input_message.pretty_print()\n",
        "\n",
        "# Process in streaming mode\n",
        "for event in app.stream({\"messages\": [input_message]}, config, stream_mode=\"updates\"):\n",
        "    print_update(event)"
      ]
    }
  ],
  "metadata": {
    "kernelspec": {
      "display_name": "langchain-opentutorial-QDzDRI-1-py3.11",
      "language": "python",
      "name": "python3"
    },
    "language_info": {
      "codemirror_mode": {
        "name": "ipython",
        "version": 3
      },
      "file_extension": ".py",
      "mimetype": "text/x-python",
      "name": "python",
      "nbconvert_exporter": "python",
      "pygments_lexer": "ipython3",
      "version": "3.11.0"
    }
  },
  "nbformat": 4,
  "nbformat_minor": 2
}
