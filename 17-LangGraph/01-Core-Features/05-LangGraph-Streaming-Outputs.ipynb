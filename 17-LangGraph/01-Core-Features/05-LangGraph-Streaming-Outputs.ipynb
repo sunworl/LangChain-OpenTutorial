{
 "cells": [
  {
   "cell_type": "markdown",
   "id": "5e3856e6",
   "metadata": {},
   "source": [
    "# LangGraph Streaming Outputs\n",
    "\n",
    "- Author: [hong-seongmin](https://github.com/hong-seongmin)\n",
    "- Design: \n",
    "- Peer Review: \n",
    "- This is a part of [LangChain OpenTutorial](https://github.com/LangChain-OpenTutorial/LangChain-OpenTutorial)\n",
    "\n",
    "[![Open in Colab](https://colab.research.google.com/assets/colab-badge.svg)](https://colab.research.google.com/github/LangChain-OpenTutorial/LangChain-OpenTutorial/blob/main/10-Retriever/06-MultiQueryRetriever.ipynb) [![Open in GitHub](https://img.shields.io/badge/Open%20in%20GitHub-181717?style=flat-square&logo=github&logoColor=white)](https://github.com/LangChain-OpenTutorial/LangChain-OpenTutorial/blob/main/10-Retriever/06-MultiQueryRetriever.ipynb)\n",
    "\n",
    "\n",
    "## Overview\n",
    "\n",
    "**LangGraph Streaming Outputs** explores the step-by-step streaming capabilities within LangGraph. \n",
    "\n",
    "This approach allows developers to observe and interact with each graph processing stage in real-time, offering insights into the internal workings and progress of graph computations.\n",
    "\n",
    "- **Step-by-Step Streaming**  \n",
    "  The streaming functionality breaks down the graph execution into individual steps, providing detailed outputs at each stage. This makes it easier to debug and understand how data flows through the graph, as well as how decisions are made along the way.\n",
    "\n",
    "- **Real-Time Feedback**  \n",
    "  By leveraging streaming outputs, users receive immediate feedback from the system. This real-time interaction can greatly enhance the debugging process and the ability to fine-tune graph configurations on the fly.\n",
    "\n",
    "- **Enhanced Transparency and Control**  \n",
    "  Streaming outputs offer greater transparency into the execution of LangGraph pipelines. Users can monitor each transformation or computation, enabling more precise control over the process and facilitating a deeper comprehension of complex graph-based workflows.\n",
    "\n",
    "### Table of Contents\n",
    "\n",
    "- [Overview](#overview)\n",
    "- [Environment Setup](#environment-setup)\n",
    "- [Step-by-step Streaming Output with LangGraph](#Step-by-step-Streaming-Output-with-LangGraph)\n",
    "- [The stream Method of StateGraph](#The-stream-Method-of-StateGraph)\n",
    "- [Advanced Streaming Options](#advanced-streaming-options)\n",
    "\n",
    "### References\n",
    "\n",
    "- [LangChain Documentation: LangGraph](https://langchain-ai.github.io/langgraph/tutorials/introduction/)\n",
    "- [LangChain Documentation: Streaming](https://python.langchain.com/docs/concepts/streaming/)\n",
    "- [LangChain-ai Github: LangGraph Streaming](https://langchain-ai.github.io/langgraph/concepts/streaming/)\n",
    "\n",
    "---"
   ]
  },
  {
   "cell_type": "markdown",
   "id": "d94c995e",
   "metadata": {},
   "source": [
    "## Environment Setup\n",
    "\n",
    "Set up the environment. You may refer to [Environment Setup](https://wikidocs.net/257836) for more details.\n",
    "\n",
    "**[Note]**\n",
    "- `langchain-opentutorial` is a package that provides a set of easy-to-use environment setup, useful functions and utilities for tutorials. \n",
    "- You can checkout the [`langchain-opentutorial`](https://github.com/LangChain-OpenTutorial/langchain-opentutorial-pypi) for more details."
   ]
  },
  {
   "cell_type": "code",
   "execution_count": 16,
   "id": "3c8898f5",
   "metadata": {},
   "outputs": [],
   "source": [
    "%%capture --no-stderr\n",
    "%pip install langchain-opentutorial"
   ]
  },
  {
   "cell_type": "code",
   "execution_count": 17,
   "id": "fd66580f",
   "metadata": {},
   "outputs": [],
   "source": [
    "# Install required packages\n",
    "from langchain_opentutorial import package\n",
    "\n",
    "package.install(\n",
    "    [\n",
    "        \"langchain\",\n",
    "        \"langchain_core\",\n",
    "        \"langchain_openai\",\n",
    "        \"langgraph\",\n",
    "        \"GoogleNews\"\n",
    "    ],\n",
    "    verbose=False,\n",
    "    upgrade=False,\n",
    ")"
   ]
  },
  {
   "cell_type": "code",
   "execution_count": 18,
   "id": "015518d9",
   "metadata": {},
   "outputs": [
    {
     "name": "stdout",
     "output_type": "stream",
     "text": [
      "Environment variables have been set successfully.\n"
     ]
    }
   ],
   "source": [
    "# Set environment variables\n",
    "from langchain_opentutorial import set_env\n",
    "\n",
    "set_env(\n",
    "    {\n",
    "        \"LANGCHAIN_TRACING_V2\": \"true\",\n",
    "        \"LANGCHAIN_ENDPOINT\": \"https://api.smith.langchain.com\",\n",
    "        \"LANGCHAIN_PROJECT\": \"10-LangGraph-Streaming-Outputs\",\n",
    "    }\n",
    ")"
   ]
  },
  {
   "cell_type": "markdown",
   "id": "3863fcd1",
   "metadata": {},
   "source": [
    "Alternatively, environment variables can also be set using a `.env` file.\n",
    "\n",
    "**[Note]**\n",
    "\n",
    "- This is not necessary if you've already set the environment variables in the previous step."
   ]
  },
  {
   "cell_type": "code",
   "execution_count": 19,
   "id": "77848329",
   "metadata": {},
   "outputs": [
    {
     "data": {
      "text/plain": [
       "True"
      ]
     },
     "execution_count": 19,
     "metadata": {},
     "output_type": "execute_result"
    }
   ],
   "source": [
    "# Configuration file to manage API keys as environment variables\n",
    "from dotenv import load_dotenv\n",
    "\n",
    "# Load API key information\n",
    "load_dotenv(override=True)"
   ]
  },
  {
   "cell_type": "markdown",
   "id": "eec680f5",
   "metadata": {},
   "source": [
    "## Step-by-step Streaming Output with LangGraph\n",
    "\n",
    "This time, we'll take a closer look at the `stream()` output function in LangGraph.\n",
    "\n",
    "LangGraph's streaming output function provides the ability to stream each step of the graph.\n",
    "\n"
   ]
  },
  {
   "cell_type": "markdown",
   "id": "1b2184f4",
   "metadata": {},
   "source": [
    "Note: The LangGraph example below is identical to the example from the previous section."
   ]
  },
  {
   "cell_type": "code",
   "execution_count": 20,
   "id": "51549b1d",
   "metadata": {},
   "outputs": [
    {
     "data": {
      "image/png": "[encoded data removed]",
      "text/plain": [
       "<IPython.core.display.Image object>"
      ]
     },
     "metadata": {},
     "output_type": "display_data"
    }
   ],
   "source": [
    "from typing import Annotated, List, Dict\n",
    "from typing_extensions import TypedDict\n",
    "\n",
    "from langchain_core.tools import tool\n",
    "from langchain_openai import ChatOpenAI\n",
    "from langgraph.checkpoint.memory import MemorySaver\n",
    "from langgraph.graph import StateGraph, START, END\n",
    "from langgraph.graph.message import add_messages\n",
    "from langgraph.prebuilt import ToolNode, tools_condition\n",
    "from GoogleNews import GoogleNews  # Using GoogleNews library for news search\n",
    "\n",
    "# Import for Mermaid visualization\n",
    "from IPython.display import Image, display\n",
    "from langchain_core.runnables.graph import MermaidDrawMethod\n",
    "\n",
    "########## 1. State Definition ##########\n",
    "# Define state\n",
    "class State(TypedDict):\n",
    "    # Add comment for the list of messages\n",
    "    messages: Annotated[list, add_messages]\n",
    "    dummy_data: Annotated[str, \"dummy\"]\n",
    "\n",
    "########## 2. Tool Definition and Binding ##########\n",
    "# Tool initialization\n",
    "# Create a tool to search news by keyword using GoogleNews\n",
    "news_tool = GoogleNews()\n",
    "\n",
    "@tool\n",
    "def search_keyword(query: str) -> List[Dict[str, str]]:\n",
    "    \"\"\"Look up news by keyword\"\"\"\n",
    "    news_tool = GoogleNews()\n",
    "    news_tool.search(query)\n",
    "    results = news_tool.results(sort=True)\n",
    "    # Limit to top 5 results\n",
    "    limited_results = results[:5] if results else []\n",
    "    # Extract title and link from each result\n",
    "    return [{\"title\": item[\"title\"], \"link\": item[\"link\"]} for item in limited_results]\n",
    "\n",
    "tools = [search_keyword]\n",
    "\n",
    "# Initialize the LLM\n",
    "llm = ChatOpenAI(model=\"gpt-4o-mini\")\n",
    "\n",
    "# Combine tools with LLM\n",
    "llm_with_tools = llm.bind_tools(tools)\n",
    "\n",
    "########## 3. Add Nodes ##########\n",
    "# Define a chatbot function\n",
    "def chatbot(state: State):\n",
    "    # Invoke and return messages\n",
    "    return {\n",
    "        \"messages\": [llm_with_tools.invoke(state[\"messages\"])],\n",
    "        \"dummy_data\": \"[chatbot] called, dummy data\",  # Add dummy data for testing\n",
    "    }\n",
    "\n",
    "# Create a state graph\n",
    "graph_builder = StateGraph(State)\n",
    "\n",
    "# Add chatbot node\n",
    "graph_builder.add_node(\"chatbot\", chatbot)\n",
    "\n",
    "# Create and add a tool node\n",
    "tool_node = ToolNode(tools=tools)\n",
    "graph_builder.add_node(\"tools\", tool_node)\n",
    "\n",
    "# Conditional edges\n",
    "graph_builder.add_conditional_edges(\n",
    "    \"chatbot\",\n",
    "    tools_condition,\n",
    ")\n",
    "\n",
    "########## 4. Add Edges ##########\n",
    "\n",
    "# tools > chatbot\n",
    "graph_builder.add_edge(\"tools\", \"chatbot\")\n",
    "\n",
    "# START > chatbot\n",
    "graph_builder.add_edge(START, \"chatbot\")\n",
    "\n",
    "# chatbot > END\n",
    "graph_builder.add_edge(\"chatbot\", END)\n",
    "\n",
    "########## 5. Compile the Graph ##########\n",
    "\n",
    "# Compile the graph builder\n",
    "graph = graph_builder.compile()\n",
    "\n",
    "########## 6. Visualize the Graph with Mermaid ##########\n",
    "# Visualize the graph using Mermaid\n",
    "display(\n",
    "    Image(\n",
    "        graph.get_graph().draw_mermaid_png(\n",
    "            draw_method=MermaidDrawMethod.API,\n",
    "        )\n",
    "    )\n",
    ")\n"
   ]
  },
  {
   "cell_type": "markdown",
   "id": "bea7dc51",
   "metadata": {},
   "source": [
    "## The stream Method of StateGraph\n",
    "\n",
    "The `stream` method provides the ability to stream graph steps for a single input.\n",
    "\n",
    "**Parameters**\n",
    "- `input` (`Union[dict[str, Any], Any]` ) : Input to the graph\n",
    "- `config` (`Optional[RunnableConfig]` ) : Execution configuration\n",
    "- `stream_mode` (`Optional[Union[StreamMode, list[StreamMode]]]` ) : Output streaming mode\n",
    "- `output_keys` (`Optional[Union[str, Sequence[str]]]` ) : Keys to stream\n",
    "- `interrupt_before` (`Optional[Union[All, Sequence[str]]]` ) : Nodes to interrupt before execution\n",
    "- `interrupt_after` (`Optional[Union[All, Sequence[str]]]` ) : Nodes to interrupt after execution\n",
    "- `debug` (`Optional[bool]` ) : Whether to output debug information\n",
    "- `subgraphs` (`bool`) : Whether to stream subgraphs\n",
    "\n",
    "**Returns**\n",
    "- `Iterator[Union[dict[str, Any], Any]]` : Outputs from each step of the graph. The output format depends on `stream_mode` .\n",
    "\n",
    "**Key Features**\n",
    "1. Processes graph execution in a streaming manner according to the given configuration\n",
    "2. Supports various streaming modes (`values` , `updates` , `debug`)\n",
    "3. Manages callbacks and error handling\n",
    "4. Handles recursion limits and interruption conditions\n",
    "\n",
    "**Streaming Modes**\n",
    "- `values` : Outputs the current state values at each step\n",
    "- `updates` : Outputs only state updates at each step\n",
    "- `debug` : Outputs debug events at each step"
   ]
  },
  {
   "cell_type": "code",
   "execution_count": 21,
   "id": "3ae917b7",
   "metadata": {},
   "outputs": [],
   "source": [
    "from langchain_core.runnables import RunnableConfig\n",
    "\n",
    "# Question\n",
    "question = \"Please provide the latest news about the 2024 Nobel Prize in Literature.\"\n",
    "\n",
    "# Define the initial input state\n",
    "input = State(dummy_data=\"Test string\", messages=[(\"user\", question)])\n",
    "\n",
    "# Configure config\n",
    "config = RunnableConfig(\n",
    "    recursion_limit=10,  # Visit up to 10 nodes; beyond that, RecursionError will occur\n",
    "    configurable={\"thread_id\": \"1\"},  # Set the thread ID\n",
    "    tags=[\"my-tag\"],  # Tag\n",
    ")"
   ]
  },
  {
   "cell_type": "markdown",
   "id": "e931823b",
   "metadata": {},
   "source": [
    "We set up the `config` and proceed with streaming output."
   ]
  },
  {
   "cell_type": "code",
   "execution_count": 22,
   "id": "ab5c0bad",
   "metadata": {},
   "outputs": [
    {
     "name": "stdout",
     "output_type": "stream",
     "text": [
      "\n",
      "[ chatbot ]\n",
      "\n",
      "==================================\u001b[1m Ai Message \u001b[0m==================================\n",
      "Tool Calls:\n",
      "  search_keyword (call_a9QA6AiVxJjPvTJbd92lPbiw)\n",
      " Call ID: call_a9QA6AiVxJjPvTJbd92lPbiw\n",
      "  Args:\n",
      "    query: 2024 Nobel Prize in Literature\n",
      "\n",
      "[ tools ]\n",
      "\n",
      "=================================\u001b[1m Tool Message \u001b[0m=================================\n",
      "Name: search_keyword\n",
      "\n",
      "[{\"title\": \"We Do Not Part is Han Kang’s most ambitious work yet\", \"link\": \"https://chicagoreader.com/books/book-review/we-do-not-part-han-kang/&ved=2ahUKEwikieP5xImLAxUvsFYBHd8MEEMQxfQBegQICBAC&usg=AOvVaw17aQ9BgzWGdDWg5upvavvj\"}, {\"title\": \"2024 Nobel Prize for Literature #KoreaNetPerson of the Year #Vegetarian #TheBoy Is ComingNovelist H..\", \"link\": \"https://www.mk.co.kr/en/culture/11206720&ved=2ahUKEwikieP5xImLAxUvsFYBHd8MEEMQxfQBegQICRAC&usg=AOvVaw3ZUIOTxml6j8wvurAioOGU\"}, {\"title\": \"S. Korea's Han Kang receives Nobel literature prize amid turmoil at home\", \"link\": \"https://english.kyodonews.net/news/2024/12/45926507c4d5-s-korea-writer-receives-nobel-prize-amid-political-turmoil-at-home.html&ved=2ahUKEwikieP5xImLAxUvsFYBHd8MEEMQxfQBegQIBBAC&usg=AOvVaw3egcTV9I3PqS2-ES3hqtqc\"}, {\"title\": \"Olga Tokarczuk attends 2024 Nobel Prize ceremony as special guest - English Section\", \"link\": \"https://www.polskieradio.pl/395/7791/artykul/3457545,olga-tokarczuk-attends-2024-nobel-prize-ceremony-as-special-guest&ved=2ahUKEwikieP5xImLAxUvsFYBHd8MEEMQxfQBegQIABAC&usg=AOvVaw3-wDuRXlMqzlno72eEe8WL\"}, {\"title\": \"Han Kang asserts literature combats life-destructive acts - CHOSUNBIZ\", \"link\": \"https://biz.chosun.com/en/en-society/2024/12/11/CAGKFC32LFEN3DIXJH4HI72M64/&ved=2ahUKEwikieP5xImLAxUvsFYBHd8MEEMQxfQBegQIARAC&usg=AOvVaw3zOSaUYmkiuOyM8xzYOMz3\"}]\n",
      "\n",
      "[ chatbot ]\n",
      "\n",
      "==================================\u001b[1m Ai Message \u001b[0m==================================\n",
      "\n",
      "Here are the latest news articles related to the 2024 Nobel Prize in Literature:\n",
      "\n",
      "1. **We Do Not Part is Han Kang’s most ambitious work yet**  \n",
      "   [Read more](https://chicagoreader.com/books/book-review/we-do-not-part-han-kang/&ved=2ahUKEwikieP5xImLAxUvsFYBHd8MEEMQxfQBegQICBAC&usg=AOvVaw17aQ9BgzWGdDWg5upvavvj)\n",
      "\n",
      "2. **2024 Nobel Prize for Literature #KoreaNetPerson of the Year #Vegetarian #TheBoy Is Coming Novelist H..**  \n",
      "   [Read more](https://www.mk.co.kr/en/culture/11206720&ved=2ahUKEwikieP5xImLAxUvsFYBHd8MEEMQxfQBegQICRAC&usg=AOvVaw3ZUIOTxml6j8wvurAioOGU)\n",
      "\n",
      "3. **S. Korea's Han Kang receives Nobel literature prize amid turmoil at home**  \n",
      "   [Read more](https://english.kyodonews.net/news/2024/12/45926507c4d5-s-korea-writer-receives-nobel-prize-amid-political-turmoil-at-home.html&ved=2ahUKEwikieP5xImLAxUvsFYBHd8MEEMQxfQBegQIBBAC&usg=AOvVaw3egcTV9I3PqS2-ES3hqtqc)\n",
      "\n",
      "4. **Olga Tokarczuk attends 2024 Nobel Prize ceremony as special guest**  \n",
      "   [Read more](https://www.polskieradio.pl/395/7791/artykul/3457545,olga-tokarczuk-attends-2024-nobel-prize-ceremony-as-special-guest&ved=2ahUKEwikieP5xImLAxUvsFYBHd8MEEMQxfQBegQIABAC&usg=AOvVaw3-wDuRXlMqzlno72eEe8WL)\n",
      "\n",
      "5. **Han Kang asserts literature combats life-destructive acts**  \n",
      "   [Read more](https://biz.chosun.com/en/en-society/2024/12/11/CAGKFC32LFEN3DIXJH4HI72M64/&ved=2ahUKEwikieP5xImLAxUvsFYBHd8MEEMQxfQBegQIARAC&usg=AOvVaw3zOSaUYmkiuOyM8xzYOMz3)\n",
      "\n",
      "These articles cover various aspects of the event and the laureate, Han Kang.\n"
     ]
    }
   ],
   "source": [
    "for event in graph.stream(input=input, config=config):\n",
    "    for key, value in event.items():\n",
    "        print(f\"\\n[ {key} ]\\n\")\n",
    "        # If messages exist in value\n",
    "        if \"messages\" in value:\n",
    "            messages = value[\"messages\"]\n",
    "            # Print only the most recent message\n",
    "            value[\"messages\"][-1].pretty_print()"
   ]
  },
  {
   "cell_type": "markdown",
   "id": "b0d00b51",
   "metadata": {},
   "source": [
    "## Advanced Streaming Options\n",
    "\n",
    "Advanced streaming options in LangGraph allow for more fine-grained control over how graph execution outputs are handled. By configuring parameters like `output_keys`, `stream_mode`, `interrupt_before`, and `interrupt_after`, users can tailor the streaming behavior to their specific debugging and monitoring needs.\n",
    "\n",
    "\n",
    "### The output_keys Option\n",
    "\n",
    "The `output_keys` option is used to specify which keys to stream.\n",
    "\n",
    "You can specify it in list format, and it must be one of the keys defined in **channels**.\n",
    "\n",
    "**Tip**\n",
    "\n",
    "- If a large number of State keys is output at each step, this is useful when you only want to stream some of them."
   ]
  },
  {
   "cell_type": "code",
   "execution_count": 23,
   "id": "efe63155",
   "metadata": {},
   "outputs": [
    {
     "name": "stdout",
     "output_type": "stream",
     "text": [
      "['messages', 'dummy_data', '__start__', 'chatbot', 'tools', 'branch:__start__:__self__:chatbot', 'branch:__start__:__self__:tools', 'branch:chatbot:__self__:chatbot', 'branch:chatbot:__self__:tools', 'branch:tools:__self__:chatbot', 'branch:tools:__self__:tools', 'start:chatbot', 'branch:chatbot:tools_condition:tools']\n"
     ]
    }
   ],
   "source": [
    "# Print the list of keys defined in channels\n",
    "print(list(graph.channels.keys()))"
   ]
  },
  {
   "cell_type": "code",
   "execution_count": 24,
   "id": "87efc73e",
   "metadata": {},
   "outputs": [
    {
     "name": "stdout",
     "output_type": "stream",
     "text": [
      "\n",
      "[ chatbot ]\n",
      "\n",
      "dict_keys(['dummy_data'])\n",
      "[chatbot] called, dummy data\n",
      "\n",
      "[ tools ]\n",
      "\n",
      "\n",
      "[ chatbot ]\n",
      "\n",
      "dict_keys(['dummy_data'])\n",
      "[chatbot] called, dummy data\n"
     ]
    }
   ],
   "source": [
    "# Question\n",
    "question = \"Please provide the latest news about the 2024 Nobel Prize in Literature.\"\n",
    "\n",
    "# Define the initial input State\n",
    "input = State(dummy_data=\"Test string\", messages=[(\"user\", question)])\n",
    "\n",
    "# Configure config\n",
    "config = RunnableConfig(\n",
    "    recursion_limit=10,  # Visit up to 10 nodes; beyond that, RecursionError will occur\n",
    "    configurable={\"thread_id\": \"1\"},  # Set the thread ID\n",
    "    tags=[\"my-rag\"],  # Tag\n",
    ")\n",
    "\n",
    "for event in graph.stream(\n",
    "    input=input,\n",
    "    config=config,\n",
    "    output_keys=[\"dummy_data\"],  # Try adding messages!\n",
    "):\n",
    "    for key, value in event.items():\n",
    "        # key is the node name\n",
    "        print(f\"\\n[ {key} ]\\n\")\n",
    "\n",
    "        # If dummy_data exists\n",
    "        if value:\n",
    "            # value is the node output\n",
    "            print(value.keys())\n",
    "            if \"dummy_data\" in value:\n",
    "                print(value[\"dummy_data\"])"
   ]
  },
  {
   "cell_type": "code",
   "execution_count": 25,
   "id": "9cecf357",
   "metadata": {},
   "outputs": [
    {
     "name": "stdout",
     "output_type": "stream",
     "text": [
      "\n",
      "[ chatbot ]\n",
      "\n",
      "\n",
      "\n",
      "[ tools ]\n",
      "\n",
      "[{\"title\": \"We Do Not Part is Han Kang’s most ambitious work yet\", \"link\": \"https://chicagoreader.com/books/book-review/we-do-not-part-han-kang/&ved=2ahUKEwj2h9CFxYmLAxV6klYBHcDiKqgQxfQBegQICBAC&usg=AOvVaw3jYW04OKoIxGH_sgMIenuZ\"}, {\"title\": \"2024 Nobel Prize for Literature #KoreaNetPerson of the Year #Vegetarian #TheBoy Is ComingNovelist H..\", \"link\": \"https://www.mk.co.kr/en/culture/11206720&ved=2ahUKEwj2h9CFxYmLAxV6klYBHcDiKqgQxfQBegQICRAC&usg=AOvVaw190Hz6ubn7ksSuhWWP7O_P\"}, {\"title\": \"Author Han Kang receives Nobel Prize in Literature at awards ceremony in Stockholm\", \"link\": \"https://koreajoongangdaily.joins.com/news/2024-12-11/culture/books/Author-Han-Kang-receives-Nobel-Prize-in-Literature-at-awards-ceremony-in-Stockholm/2197328&ved=2ahUKEwj2h9CFxYmLAxV6klYBHcDiKqgQxfQBegQIAxAC&usg=AOvVaw37fTur2s0T9Bc6uTF0-fj7\"}, {\"title\": \"S. Korea's Han Kang receives Nobel literature prize amid turmoil at home\", \"link\": \"https://english.kyodonews.net/news/2024/12/45926507c4d5-s-korea-writer-receives-nobel-prize-amid-political-turmoil-at-home.html&ved=2ahUKEwj2h9CFxYmLAxV6klYBHcDiKqgQxfQBegQIBxAC&usg=AOvVaw3v-DiyzN-XftJHXXJxFSAI\"}, {\"title\": \"Han Kang asserts literature combats life-destructive acts - CHOSUNBIZ\", \"link\": \"https://biz.chosun.com/en/en-society/2024/12/11/CAGKFC32LFEN3DIXJH4HI72M64/&ved=2ahUKEwj2h9CFxYmLAxV6klYBHcDiKqgQxfQBegQIBBAC&usg=AOvVaw1QBF6iIuC3Z60lOhFgm5TR\"}]\n",
      "\n",
      "[ chatbot ]\n",
      "\n",
      "Here are the latest news articles regarding the 2024 Nobel Prize in Literature:\n",
      "\n",
      "1. **We Do Not Part is Han Kang’s most ambitious work yet**  \n",
      "   [Read more](https://chicagoreader.com/books/book-review/we-do-not-part-han-kang/&ved=2ahUKEwj2h9CFxYmLAxV6klYBHcDiKqgQxfQBegQICBAC&usg=AOvVaw3jYW04OKoIxGH_sgMIenuZ)\n",
      "\n",
      "2. **2024 Nobel Prize for Literature: #KoreaNetPerson of the Year #Vegetarian #TheBoy Is Coming Novelist Han Kang**  \n",
      "   [Read more](https://www.mk.co.kr/en/culture/11206720&ved=2ahUKEwj2h9CFxYmLAxV6klYBHcDiKqgQxfQBegQICRAC&usg=AOvVaw190Hz6ubn7ksSuhWWP7O_P)\n",
      "\n",
      "3. **Author Han Kang receives Nobel Prize in Literature at awards ceremony in Stockholm**  \n",
      "   [Read more](https://koreajoongangdaily.joins.com/news/2024-12-11/culture/books/Author-Han-Kang-receives-Nobel-Prize-in-Literature-at-awards-ceremony-in-Stockholm/2197328&ved=2ahUKEwj2h9CFxYmLAxV6klYBHcDiKqgQxfQBegQIAxAC&usg=AOvVaw37fTur2s0T9Bc6uTF0-fj7)\n",
      "\n",
      "4. **S. Korea's Han Kang receives Nobel literature prize amid turmoil at home**  \n",
      "   [Read more](https://english.kyodonews.net/news/2024/12/45926507c4d5-s-korea-writer-receives-nobel-prize-amid-political-turmoil-at-home.html&ved=2ahUKEwj2h9CFxYmLAxV6klYBHcDiKqgQxfQBegQIBxAC&usg=AOvVaw3v-DiyzN-XftJHXXJxFSAI)\n",
      "\n",
      "5. **Han Kang asserts literature combats life-destructive acts**  \n",
      "   [Read more](https://biz.chosun.com/en/en-society/2024/12/11/CAGKFC32LFEN3DIXJH4HI72M64/&ved=2ahUKEwj2h9CFxYmLAxV6klYBHcDiKqgQxfQBegQIBBAC&usg=AOvVaw1QBF6iIuC3Z60lOhFgm5TR)\n",
      "\n",
      "These articles discuss Han Kang's work and her recent receipt of the Nobel Prize amid various contexts and challenges.\n"
     ]
    }
   ],
   "source": [
    "# Question\n",
    "question = \"Please provide the latest news about the 2024 Nobel Prize in Literature.\"\n",
    "\n",
    "# Define the initial input State\n",
    "input = State(dummy_data=\"Test string\", messages=[(\"user\", question)])\n",
    "\n",
    "# Configure config\n",
    "config = RunnableConfig(\n",
    "    recursion_limit=10,  # Visit up to 10 nodes; beyond that, RecursionError will occur\n",
    "    configurable={\"thread_id\": \"1\"},  # Set the thread ID\n",
    "    tags=[\"my-rag\"],  # Tag\n",
    ")\n",
    "\n",
    "for event in graph.stream(\n",
    "    input=input,\n",
    "    config=config,\n",
    "    output_keys=[\"messages\"],  # Only output messages\n",
    "):\n",
    "    for key, value in event.items():\n",
    "        # If messages exist\n",
    "        if value and \"messages\" in value:\n",
    "            # key is the node name\n",
    "            print(f\"\\n[ {key} ]\\n\")\n",
    "            # Print the content of the last message\n",
    "            print(value[\"messages\"][-1].content)"
   ]
  },
  {
   "cell_type": "markdown",
   "id": "6f6be39d",
   "metadata": {},
   "source": [
    "### The stream_mode Option\n",
    "\n",
    "The `stream_mode` option is used to specify the streaming output mode.\n",
    "\n",
    "- `values`: Outputs the current state values at each step\n",
    "- `updates`: Outputs only state updates at each step (default)"
   ]
  },
  {
   "cell_type": "markdown",
   "id": "86f700fc",
   "metadata": {},
   "source": [
    "### stream_mode = \"values\"\n",
    "\n",
    "In `values` mode, the current state values of each step are output.\n",
    "\n",
    "**Note**\n",
    "\n",
    "`event.items()`\n",
    "\n",
    "- `key`: Key of the State\n",
    "- `value`: The value corresponding to the key of the State"
   ]
  },
  {
   "cell_type": "code",
   "execution_count": 26,
   "id": "89eff21c",
   "metadata": {},
   "outputs": [
    {
     "name": "stdout",
     "output_type": "stream",
     "text": [
      "\n",
      "[ messages ]\n",
      "\n",
      "Number of messages: 1\n",
      "\n",
      "[ dummy_data ]\n",
      "\n",
      "==============================  Step  ==============================\n",
      "\n",
      "[ messages ]\n",
      "\n",
      "Number of messages: 2\n",
      "\n",
      "[ dummy_data ]\n",
      "\n",
      "==============================  Step  ==============================\n",
      "\n",
      "[ messages ]\n",
      "\n",
      "Number of messages: 3\n",
      "\n",
      "[ dummy_data ]\n",
      "\n",
      "==============================  Step  ==============================\n",
      "\n",
      "[ messages ]\n",
      "\n",
      "Number of messages: 4\n",
      "\n",
      "[ dummy_data ]\n",
      "\n",
      "==============================  Step  ==============================\n"
     ]
    }
   ],
   "source": [
    "# Question\n",
    "question = \"Please provide the latest news about the 2024 Nobel Prize in Literature.\"\n",
    "\n",
    "# Define the initial input State\n",
    "input = State(dummy_data=\"Test string\", messages=[(\"user\", question)])\n",
    "\n",
    "# Configure config\n",
    "config = RunnableConfig(\n",
    "    recursion_limit=10,  # Visit up to 10 nodes; beyond that, RecursionError will occur\n",
    "    configurable={\"thread_id\": \"1\"},  # Set the thread ID\n",
    "    tags=[\"my-rag\"],  # Tag\n",
    ")\n",
    "\n",
    "# Stream output in values mode\n",
    "for event in graph.stream(\n",
    "    input=input,\n",
    "    stream_mode=\"values\",  # Default\n",
    "):\n",
    "    for key, value in event.items():\n",
    "        # key is the State key\n",
    "        print(f\"\\n[ {key} ]\\n\")\n",
    "        if key == \"messages\":\n",
    "            print(f\"Number of messages: {len(value)}\")\n",
    "    print(\"===\" * 10, \" Step \", \"===\" * 10)"
   ]
  },
  {
   "cell_type": "markdown",
   "id": "ef295683",
   "metadata": {},
   "source": [
    "### stream_mode = \"updates\"\n",
    "\n",
    "In `updates` mode, only the updated State for each step is output.\n",
    "\n",
    "- The output is a dictionary whose key is the node name, and values are the updated outputs.\n",
    "\n",
    "**Note**\n",
    "\n",
    "`event.items()`\n",
    "\n",
    "- `key`: The node name\n",
    "- `value`: The output of that node in dictionary form (it can have multiple key-value pairs)."
   ]
  },
  {
   "cell_type": "code",
   "execution_count": 27,
   "id": "2124b916",
   "metadata": {},
   "outputs": [
    {
     "name": "stdout",
     "output_type": "stream",
     "text": [
      "\n",
      "[ chatbot ]\n",
      "\n",
      "dict_keys(['messages', 'dummy_data'])\n",
      "Number of messages: 1\n",
      "==============================  Step  ==============================\n",
      "\n",
      "[ tools ]\n",
      "\n",
      "dict_keys(['messages'])\n",
      "Number of messages: 1\n",
      "==============================  Step  ==============================\n",
      "\n",
      "[ chatbot ]\n",
      "\n",
      "dict_keys(['messages', 'dummy_data'])\n",
      "Number of messages: 1\n",
      "==============================  Step  ==============================\n"
     ]
    }
   ],
   "source": [
    "# Question\n",
    "question = \"Please provide the latest news about the 2024 Nobel Prize in Literature.\"\n",
    "\n",
    "# Define the initial input State\n",
    "input = State(dummy_data=\"Test string\", messages=[(\"user\", question)])\n",
    "\n",
    "# Configure config\n",
    "config = RunnableConfig(\n",
    "    recursion_limit=10,  # Visit up to 10 nodes; beyond that, RecursionError will occur\n",
    "    configurable={\"thread_id\": \"1\"},  # Set the thread ID\n",
    "    tags=[\"my-rag\"],  # Tag\n",
    ")\n",
    "\n",
    "# Stream output in updates mode\n",
    "for event in graph.stream(\n",
    "    input=input,\n",
    "    stream_mode=\"updates\",  # Default\n",
    "):\n",
    "    for key, value in event.items():\n",
    "        # key is the node name\n",
    "        print(f\"\\n[ {key} ]\\n\")\n",
    "\n",
    "        # value is the output of the node\n",
    "        print(value.keys())\n",
    "\n",
    "        # The state is stored in dict form under the keys of 'values'\n",
    "        if \"messages\" in value:\n",
    "            print(f\"Number of messages: {len(value['messages'])}\")\n",
    "    print(\"===\" * 10, \" Step \", \"===\" * 10)"
   ]
  },
  {
   "cell_type": "markdown",
   "id": "d98b21a8",
   "metadata": {},
   "source": [
    "### The interrupt_before and interrupt_after Options\n",
    "\n",
    "The `interrupt_before` and `interrupt_after` options are used to specify when to interrupt streaming.\n",
    "\n",
    "- `interrupt_before`: Interrupt streaming before the specified node\n",
    "- `interrupt_after`: Interrupt streaming after the specified node\n"
   ]
  },
  {
   "cell_type": "code",
   "execution_count": 28,
   "id": "6f583a38",
   "metadata": {},
   "outputs": [
    {
     "name": "stdout",
     "output_type": "stream",
     "text": [
      "\n",
      "[chatbot]\n",
      "\n",
      "dict_keys(['messages', 'dummy_data'])\n",
      "[AIMessage(content='', additional_kwargs={'tool_calls': [{'id': 'call_LL5xawSetOyJGml15BVMzGha', 'function': {'arguments': '{\"query\":\"2024 Nobel Prize in Literature\"}', 'name': 'search_keyword'}, 'type': 'function'}], 'refusal': None}, response_metadata={'token_usage': {'completion_tokens': 20, 'prompt_tokens': 58, 'total_tokens': 78, 'completion_tokens_details': {'accepted_prediction_tokens': 0, 'audio_tokens': 0, 'reasoning_tokens': 0, 'rejected_prediction_tokens': 0}, 'prompt_tokens_details': {'audio_tokens': 0, 'cached_tokens': 0}}, 'model_name': 'gpt-4o-mini-2024-07-18', 'system_fingerprint': 'fp_bd83329f63', 'finish_reason': 'tool_calls', 'logprobs': None}, id='run-022ff197-23e6-42de-82e4-d5d57f15d7e7-0', tool_calls=[{'name': 'search_keyword', 'args': {'query': '2024 Nobel Prize in Literature'}, 'id': 'call_LL5xawSetOyJGml15BVMzGha', 'type': 'tool_call'}], usage_metadata={'input_tokens': 58, 'output_tokens': 20, 'total_tokens': 78, 'input_token_details': {'audio': 0, 'cache_read': 0}, 'output_token_details': {'audio': 0, 'reasoning': 0}})]\n",
      "Number of messages: 1\n",
      "==============================  Step  ==============================\n",
      "\n",
      "[__interrupt__]\n",
      "\n",
      "==============================  Step  ==============================\n"
     ]
    }
   ],
   "source": [
    "# Question\n",
    "question = \"Please provide the latest news about the 2024 Nobel Prize in Literature.\"\n",
    "\n",
    "# Define the initial input State\n",
    "input = State(dummy_data=\"Test string\", messages=[(\"user\", question)])\n",
    "\n",
    "# Configure config\n",
    "config = RunnableConfig(\n",
    "    recursion_limit=10,  # Visit up to 10 nodes; beyond that, RecursionError will occur\n",
    "    configurable={\"thread_id\": \"1\"},  # Set the thread ID\n",
    "    tags=[\"my-rag\"],  # Tag\n",
    ")\n",
    "\n",
    "for event in graph.stream(\n",
    "    input=input,\n",
    "    config=config,\n",
    "    stream_mode=\"updates\",  # Default\n",
    "    interrupt_before=[\"tools\"],  # Interrupt before the 'tools' node\n",
    "):\n",
    "    for key, value in event.items():\n",
    "        # key is the node name\n",
    "        print(f\"\\n[{key}]\\n\")\n",
    "\n",
    "        # value is the node's output\n",
    "        if isinstance(value, dict):\n",
    "            print(value.keys())\n",
    "            if \"messages\" in value:\n",
    "                print(value[\"messages\"])\n",
    "\n",
    "        # The state is stored as a dict (keys of 'values')\n",
    "        if \"messages\" in value:\n",
    "            print(f\"Number of messages: {len(value['messages'])}\")\n",
    "    print(\"===\" * 10, \" Step \", \"===\" * 10)"
   ]
  },
  {
   "cell_type": "code",
   "execution_count": 29,
   "id": "33dc67a2",
   "metadata": {},
   "outputs": [
    {
     "name": "stdout",
     "output_type": "stream",
     "text": [
      "\n",
      "[__interrupt__]\n",
      "\n",
      "dict_keys(['messages', 'dummy_data'])\n",
      "[AIMessage(content='', additional_kwargs={'tool_calls': [{'id': 'call_isKC85TbbCIdWDhhQiWbUsNv', 'function': {'arguments': '{\"query\":\"2024 Nobel Prize in Literature\"}', 'name': 'search_keyword'}, 'type': 'function'}], 'refusal': None}, response_metadata={'token_usage': {'completion_tokens': 20, 'prompt_tokens': 58, 'total_tokens': 78, 'completion_tokens_details': {'accepted_prediction_tokens': 0, 'audio_tokens': 0, 'reasoning_tokens': 0, 'rejected_prediction_tokens': 0}, 'prompt_tokens_details': {'audio_tokens': 0, 'cached_tokens': 0}}, 'model_name': 'gpt-4o-mini-2024-07-18', 'system_fingerprint': 'fp_72ed7ab54c', 'finish_reason': 'tool_calls', 'logprobs': None}, id='run-e06fd180-ec4e-4773-899c-9414072be3ca-0', tool_calls=[{'name': 'search_keyword', 'args': {'query': '2024 Nobel Prize in Literature'}, 'id': 'call_isKC85TbbCIdWDhhQiWbUsNv', 'type': 'tool_call'}], usage_metadata={'input_tokens': 58, 'output_tokens': 20, 'total_tokens': 78, 'input_token_details': {'audio': 0, 'cache_read': 0}, 'output_token_details': {'audio': 0, 'reasoning': 0}})]\n",
      "Number of messages: 1\n",
      "\n",
      "[__interrupt__]\n",
      "\n",
      "dict_keys(['messages'])\n",
      "[ToolMessage(content='[{\"title\": \"We Do Not Part is Han Kang’s most ambitious work yet\", \"link\": \"https://chicagoreader.com/books/book-review/we-do-not-part-han-kang/&ved=2ahUKEwjlgY6XxYmLAxWIglYBHfzBAeIQxfQBegQIABAC&usg=AOvVaw3OvrSf4pMr7lptlLN_vUn9\"}, {\"title\": \"2024 Nobel Prize for Literature #KoreaNetPerson of the Year #Vegetarian #TheBoy Is ComingNovelist H..\", \"link\": \"https://www.mk.co.kr/en/culture/11206720&ved=2ahUKEwjlgY6XxYmLAxWIglYBHfzBAeIQxfQBegQICRAC&usg=AOvVaw2hwLfAERiJ1CNc1PSxSYb3\"}, {\"title\": \"S. Korea\\'s Han Kang receives Nobel literature prize amid turmoil at home\", \"link\": \"https://english.kyodonews.net/news/2024/12/45926507c4d5-s-korea-writer-receives-nobel-prize-amid-political-turmoil-at-home.html&ved=2ahUKEwjlgY6XxYmLAxWIglYBHfzBAeIQxfQBegQIBxAC&usg=AOvVaw0B_087AxDtCmUrSHxGId_P\"}, {\"title\": \"Olga Tokarczuk attends 2024 Nobel Prize ceremony as special guest - English Section\", \"link\": \"https://www.polskieradio.pl/395/7791/artykul/3457545,olga-tokarczuk-attends-2024-nobel-prize-ceremony-as-special-guest&ved=2ahUKEwjlgY6XxYmLAxWIglYBHfzBAeIQxfQBegQIAhAC&usg=AOvVaw2mVeaIHVC89aBgMoIHWAc8\"}, {\"title\": \"Han Kang asserts literature combats life-destructive acts - CHOSUNBIZ\", \"link\": \"https://biz.chosun.com/en/en-society/2024/12/11/CAGKFC32LFEN3DIXJH4HI72M64/&ved=2ahUKEwjlgY6XxYmLAxWIglYBHfzBAeIQxfQBegQIBRAC&usg=AOvVaw367b4QKTF5jqlbLcVgGYqV\"}]', name='search_keyword', id='9055fb49-3a96-43e2-b005-e99baaf4ce72', tool_call_id='call_isKC85TbbCIdWDhhQiWbUsNv')]\n",
      "Number of messages: 1\n",
      "\n",
      "[__interrupt__]\n",
      "\n"
     ]
    }
   ],
   "source": [
    "# Question\n",
    "question = \"Please provide the latest news about the 2024 Nobel Prize in Literature.\"\n",
    "\n",
    "# Define the initial input State\n",
    "input = State(dummy_data=\"Test string\", messages=[(\"user\", question)])\n",
    "\n",
    "# Configure config\n",
    "config = RunnableConfig(\n",
    "    recursion_limit=10,  # Visit up to 10 nodes; beyond that, RecursionError will occur\n",
    "    configurable={\"thread_id\": \"1\"},  # Set the thread ID\n",
    "    tags=[\"my-rag\"],  # Tag\n",
    ")\n",
    "\n",
    "for event in graph.stream(\n",
    "    input=input,\n",
    "    config=config,\n",
    "    stream_mode=\"updates\",\n",
    "    interrupt_after=[\"tools\"],  # Interrupt after executing 'tools'\n",
    "):\n",
    "    for value in event.values():\n",
    "        # key is the node name\n",
    "        print(f\"\\n[{key}]\\n\")\n",
    "\n",
    "        if isinstance(value, dict):\n",
    "            # value is the node's output\n",
    "            print(value.keys())\n",
    "            if \"messages\" in value:\n",
    "                print(value[\"messages\"])\n",
    "\n",
    "        # The state is stored as a dict (keys of 'values')\n",
    "        if \"messages\" in value:\n",
    "            print(f\"Number of messages: {len(value['messages'])}\")"
   ]
  }
 ],
 "metadata": {
  "kernelspec": {
   "display_name": "langchain-opentutorial-bMU5IxA3-py3.11",
   "language": "python",
   "name": "python3"
  },
  "language_info": {
   "codemirror_mode": {
    "name": "ipython",
    "version": 3
   },
   "file_extension": ".py",
   "mimetype": "text/x-python",
   "name": "python",
   "nbconvert_exporter": "python",
   "pygments_lexer": "ipython3",
   "version": "3.11.11"
  }
 },
 "nbformat": 4,
 "nbformat_minor": 5
}
