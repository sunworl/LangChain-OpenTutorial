{
  "cells": [
    {
      "cell_type": "markdown",
      "id": "635d8ebb",
      "metadata": {},
      "source": [
        "# Understanding Common Python Syntax Used in LangGraph\n",
        "\n",
        "- Author: [JeongHo Shin](https://github.com/ThePurpleCollar)\n",
        "- Design: \n",
        "- Peer Review: \n",
        "- This is a part of [LangChain Open Tutorial](https://github.com/LangChain-OpenTutorial/LangChain-OpenTutorial)\n",
        "\n",
        "[![Open in Colab](https://colab.research.google.com/assets/colab-badge.svg)](https://colab.research.google.com/github/LangChain-OpenTutorial/LangChain-OpenTutorial/blob/main/99-TEMPLATE/00-BASE-TEMPLATE-EXAMPLE.ipynb) [![Open in GitHub](https://img.shields.io/badge/Open%20in%20GitHub-181717?style=flat-square&logo=github&logoColor=white)](https://github.com/LangChain-OpenTutorial/LangChain-OpenTutorial/blob/main/99-TEMPLATE/00-BASE-TEMPLATE-EXAMPLE.ipynb)\n",
        "\n",
        "## Overview\n",
        "\n",
        "LangGraph is a powerful framework that allows you to design complex workflows for language models using a graph-based structure. It enhances the modularity, scalability, and efficiency in building AI-driven applications.\n",
        "\n",
        "This tutorial explains key Python concepts frequently used in LangGraph, including `TypedDict` , `Annotated` , and the `add_messages` function. We will also compare these concepts with standard Python features to highlight their advantages and typical use cases.\n",
        "\n",
        "### Table of Contents\n",
        "\n",
        "- [Overview](#overview)\n",
        "- [Environment Setup](#environment-setup)\n",
        "- [Typedict](#typeddict)\n",
        "- [Annotated](#annotated)\n",
        "- [add_messages](#add_messages)\n",
        "\n",
        "### References\n",
        "\n",
        "- [LangGraph](https://langchain-ai.github.io/langgraph/tutorials/introduction/)\n",
        "----"
      ]
    },
    {
      "cell_type": "markdown",
      "id": "c6c7aba4",
      "metadata": {},
      "source": [
        "## Environment Setup\n",
        "\n",
        "Setting up your environment is the first step. See the [Environment Setup](https://wikidocs.net/257836) guide for more details.\n",
        "\n",
        "\n",
        "**[Note]**\n",
        "\n",
        "The langchain-opentutorial is a package of easy-to-use environment setup guidance, useful functions and utilities for tutorials.\n",
        "Check out the  [`langchain-opentutorial`](https://github.com/LangChain-OpenTutorial/langchain-opentutorial-pypi) for more details."
      ]
    },
    {
      "cell_type": "code",
      "execution_count": 1,
      "id": "21943adb",
      "metadata": {},
      "outputs": [],
      "source": [
        "%%capture --no-stderr\n",
        "%pip install langchain-opentutorial"
      ]
    },
    {
      "cell_type": "code",
      "execution_count": 2,
      "id": "f25ec196",
      "metadata": {},
      "outputs": [],
      "source": [
        "# Install required packages\n",
        "from langchain_opentutorial import package\n",
        "\n",
        "package.install(\n",
        "    [\n",
        "        \"langsmith\",\n",
        "        \"langchain\",\n",
        "        \"langchain_core\",\n",
        "        \"langchain-anthropic\",\n",
        "        \"langchain_community\",\n",
        "        \"langchain_text_splitters\",\n",
        "        \"langchain_openai\",\n",
        "    ],\n",
        "    verbose=False,\n",
        "    upgrade=False,\n",
        ")"
      ]
    },
    {
      "cell_type": "markdown",
      "id": "690a9ae0",
      "metadata": {},
      "source": [
        "You can set API keys in a `.env` file or set them manually.\n",
        "\n",
        "[Note] If you’re not using the `.env` file, no worries! Just enter the keys directly in the cell below, and you’re good to go."
      ]
    },
    {
      "cell_type": "code",
      "execution_count": 3,
      "id": "327c2c7c",
      "metadata": {},
      "outputs": [
        {
          "name": "stdout",
          "output_type": "stream",
          "text": [
            "Environment variables have been set successfully.\n"
          ]
        }
      ],
      "source": [
        "from dotenv import load_dotenv\n",
        "from langchain_opentutorial import set_env\n",
        "\n",
        "# Attempt to load environment variables from a .env file; if unsuccessful, set them manually.\n",
        "if not load_dotenv():\n",
        "    set_env(\n",
        "        {\n",
        "            \"OPENAI_API_KEY\": \"\",\n",
        "            \"LANGCHAIN_API_KEY\": \"\",\n",
        "            \"LANGCHAIN_TRACING_V2\": \"true\",\n",
        "            \"LANGCHAIN_ENDPOINT\": \"https://api.smith.langchain.com\",\n",
        "            \"LANGCHAIN_PROJECT\": \"\",  # set the project name same as the title\n",
        "        }\n",
        "    )"
      ]
    },
    {
      "cell_type": "markdown",
      "id": "aa00c3f4",
      "metadata": {},
      "source": [
        "## TypedDict\n",
        "\n",
        "`TypedDict`, a feature within Python's `typing` module, empowers developers to define dictionaries possessing a fixed structure and explicit key-value types. This enforces type safety and improves code readability.\n",
        "\n",
        "### Key Differences between `dict` and `TypedDict`\n",
        "\n",
        "1. **Type Checking**\n",
        "- `dict` : Does not provide type checking during runtime and development.\n",
        "- `TypedDict`: Supports static type checking using tools like `mypy` or IDEs with type checking functionality enabled.\n",
        "\n",
        "1. **Key and Value Specification**\n",
        "- `dict` : Specifies generic key-value types (e.g., `Dict[str, str]` ).\n",
        "- `TypedDict` : Explicitly defines the exact keys and their respective types.\n",
        "\n",
        "1. **Flexibility**\n",
        "- `dict` : Allows runtime addition or removal of keys without restriction.\n",
        "- `TypedDict` : Enforces a predefined structure, prohibiting extra keys unless specifically designated.\n",
        "\n",
        "### Benefits of using `TypedDict`\n",
        "- **Type Safety** : Raises errors during development.\n",
        "- **Readability** : Provides a clear schema for dictionaries.\n",
        "- **IDE Support** : Enhances autocompletion and documentation.\n",
        "- **Documentation** : Serves as self-documenting code."
      ]
    },
    {
      "cell_type": "markdown",
      "id": "eba24774",
      "metadata": {},
      "source": [
        "### Example\n",
        "`TypedDict` ensures type safety by enforcing fixed keys and types, unlike standard dictionaries that allow flexible key-value modifications."
      ]
    },
    {
      "cell_type": "code",
      "execution_count": 4,
      "id": "69cb77da",
      "metadata": {},
      "outputs": [],
      "source": [
        "from typing import Dict, TypedDict\n",
        "\n",
        "# Standard Python dictionary usage\n",
        "sample_dict: Dict[str, str] = {\n",
        "    \"name\": \"Teddy\",\n",
        "    \"age\": \"30\",  # Stored as a string (allowed in dict)\n",
        "    \"job\": \"Developer\",\n",
        "}\n",
        "\n",
        "# Using TypedDict\n",
        "class Person(TypedDict):\n",
        "    name: str\n",
        "    age: int  # Defined as an integer\n",
        "    job: str\n",
        "\n",
        "typed_dict: Person = {\"name\": \"Shirley\", \"age\": 25, \"job\": \"Designer\"}\n",
        "\n",
        "# Behavior with a standard dictionary\n",
        "sample_dict[\"age\"] = 35  # Type inconsistency is allowed\n",
        "sample_dict[\"new_field\"] = \"Additional Info\"  # Adding new keys is allowed\n",
        "\n",
        "# Behavior with TypedDict\n",
        "typed_dict[\"age\"] = 35  # Correct usage\n",
        "typed_dict[\"age\"] = \"35\"  # Error: Type mismatch detected by type checker\n",
        "typed_dict[\"new_field\"] = \"Additional Info\"  # Error: Key not defined in TypedDict"
      ]
    },
    {
      "cell_type": "markdown",
      "id": "d869e159",
      "metadata": {},
      "source": [
        "The advantages of `TypedDict` are highlights when utilized in pair with static type checkers like `mypy`, and become apparent on IDEs such as PyCharm or VS Code, of which type-checking is enabled. These tools detect type inconsistencies and undefined keys during development, providing invaluable feedback to prevent runtime errors."
      ]
    },
    {
      "cell_type": "markdown",
      "id": "28a4cb6d",
      "metadata": {},
      "source": [
        "## Annotated\n",
        "\n",
        "`Annotated`, also residing in Python's `typing` module, allows the addition of metadata to type hints. This feature supports functionality with additional context, improving code clarity and usability for both developers and development tools alike. For example, metadata can serve as supplementary documentation for readers or convey actionable information to tools.\n",
        "\n",
        "### Benefits of using `Annotated`\n",
        "\n",
        "- **Additional Context** : Adds metadata to enrich type hints, improving clarity for both developers and tools.\n",
        "\n",
        "- **Enhanced Documentation** : Serves as self-contained documentation that can clarify the purpose and constraints of variables.\n",
        "\n",
        "- **Validation** : Integrates with libraries like Pydantic to enforce data validation based on annotated metadata.\n",
        "\n",
        "- **Framework-Specific Behavior** : Enables advanced features in frameworks like LangGraph by defining specialized operations.\n",
        "\n",
        "### Syntax\n",
        "\n",
        "- Type: Defines the variable's data type (e.g., `int`, `str`, `List[str]`, etc.).\n",
        "- Metadata: Adds descriptive information about the variable (e.g., `\"unit: cm\"`, `\"range: 0-100\"`)."
      ]
    },
    {
      "cell_type": "markdown",
      "id": "bf8d4e50",
      "metadata": {},
      "source": [
        "### Usage Example\n",
        "`Annotated` enriches type hints with metadata, improving code clarity and intent."
      ]
    },
    {
      "cell_type": "code",
      "execution_count": 5,
      "id": "1c3878fa",
      "metadata": {},
      "outputs": [],
      "source": [
        "from typing import Annotated\n",
        "\n",
        "# Basic usage of Annotated with metadata for descriptive purposes\n",
        "name: Annotated[str, \"User's name\"]\n",
        "age: Annotated[int, \"User's age (0-150)\"]"
      ]
    },
    {
      "cell_type": "markdown",
      "id": "2180b247",
      "metadata": {},
      "source": [
        "### Example with `Pydantic`\n",
        "When used with `Pydantic`, `Annotated` ensures strict validation by enforcing constraints like type, range, and length. Invalid inputs trigger detailed error messages identifying the issue."
      ]
    },
    {
      "cell_type": "code",
      "execution_count": 6,
      "id": "c84e9491",
      "metadata": {},
      "outputs": [
        {
          "name": "stdout",
          "output_type": "stream",
          "text": [
            "Valid employee data: id=1 name='Teddynote' age=30 salary=1000.0 skills=['Python', 'LangChain']\n",
            "Validation errors:\n",
            "- age: Input should be greater than 18\n",
            "- salary: Input should be less than 10000\n",
            "- skills: Input should be a valid list\n"
          ]
        }
      ],
      "source": [
        "from typing import Annotated, List\n",
        "from pydantic import Field, BaseModel, ValidationError\n",
        "\n",
        "class Employee(BaseModel):\n",
        "    id: Annotated[int, Field(..., description=\"Employee ID\")]\n",
        "    name: Annotated[str, Field(..., min_length=3, max_length=50, description=\"Name\")]\n",
        "    age: Annotated[int, Field(gt=18, lt=65, description=\"Age (19-64)\")]\n",
        "    salary: Annotated[float, Field(gt=0, lt=10000, description=\"Salary (in units of 10,000, up to 10 billion)\")]\n",
        "    skills: Annotated[List[str], Field(min_items=1, max_items=10, description=\"Skills (1-10 items)\")]\n",
        "\n",
        "# Example of valid data\n",
        "try:\n",
        "    valid_employee = Employee(\n",
        "        id=1, name=\"Teddynote\", age=30, salary=1000, skills=[\"Python\", \"LangChain\"]\n",
        "    )\n",
        "    print(\"Valid employee data:\", valid_employee)\n",
        "except ValidationError as e:\n",
        "    print(\"Validation error:\", e)\n",
        "\n",
        "# Example of invalid data\n",
        "try:\n",
        "    invalid_employee = Employee(\n",
        "        id=1,\n",
        "        name=\"Ted\",  # Name is too short\n",
        "        age=17,  # Age is out of range\n",
        "        salary=20000,  # Salary exceeds the maximum\n",
        "        skills=\"Python\",  # Skills is not a list\n",
        "    )\n",
        "except ValidationError as e:\n",
        "    print(\"Validation errors:\")\n",
        "    for error in e.errors():\n",
        "        print(f\"- {error['loc'][0]}: {error['msg']}\")"
      ]
    },
    {
      "cell_type": "markdown",
      "id": "9bd3e61e",
      "metadata": {},
      "source": [
        "## add_messages\n",
        "\n",
        "The `add_messages` reducer function, referenced by the `messages` key, directs LangGraph to append new messages to an existing list.\n",
        "\n",
        "In scenarios where state keys lack annotations, each update overwrites the previous value, retaining only the most recent data.\n",
        "\n",
        "The `add_messages` function merges two inputs (`left` and `right` ) into a consolidated message list.\n",
        "\n",
        "### Key Features\n",
        "\n",
        "- **Message Lists Merging** : Combines two separate message lists into a signle unified list.\n",
        "- **Append-Only State Maintenance** : Ensures new messages are added while preserving existing messages.\n",
        "- **Messages with Matching IDs** : If an incoming message in `right` shares an ID with an existing message in `left`, it replaces the existing message. All remaining messages from `right` are appended to `left`.\n",
        "\n",
        "### Parameters:\n",
        "- `left` (Messages): The initial message list.\n",
        "- `right` (Messages): A list of new messages to merge or a single message to add.\n",
        "\n",
        "### Outputs:\n",
        "- `Messages` : Returns a new message list with replacements as described above, merging `right` into `left`."
      ]
    },
    {
      "cell_type": "markdown",
      "id": "d92fc762",
      "metadata": {},
      "source": [
        "### Example\n",
        "`add_messages` merges message lists by appending new messages when IDs differ and replacing existing ones if IDs match."
      ]
    },
    {
      "cell_type": "code",
      "execution_count": null,
      "id": "1cb7ed02",
      "metadata": {},
      "outputs": [
        {
          "name": "stdout",
          "output_type": "stream",
          "text": [
            "[HumanMessage(content='Hello?', additional_kwargs={}, response_metadata={}, id='1'), AIMessage(content='Nice to meet you!', additional_kwargs={}, response_metadata={}, id='2')]\n",
            "[HumanMessage(content='Nice to meet you!', additional_kwargs={}, response_metadata={}, id='1')]\n"
          ]
        }
      ],
      "source": [
        "from langchain_core.messages import AIMessage, HumanMessage\n",
        "from langgraph.graph.message import add_messages\n",
        "\n",
        "\n",
        "# Example 1: Merging two message lists\n",
        "# `msgs1` and `msgs2` are combined into a single list without overlapping IDs.\n",
        "msgs1 = [HumanMessage(content=\"Hello?\", id=\"1\")]\n",
        "msgs2 = [AIMessage(content=\"Nice to meet you!\", id=\"2\")]\n",
        "\n",
        "result1 = add_messages(msgs1, msgs2)\n",
        "print(result1)\n",
        "\n",
        "# Example 2: Replacing messages with the same ID\n",
        "# If `msgs2` contains a message with the same ID as one in `msgs1`,\n",
        "# the message in `msgs2` replaces the corresponding message in `msgs1`.\n",
        "msgs1 = [HumanMessage(content=\"Hello?\", id=\"1\")]\n",
        "msgs2 = [HumanMessage(content=\"Nice to meet you!\", id=\"1\")]\n",
        "\n",
        "result2 = add_messages(msgs1, msgs2)\n",
        "print(result2)"
      ]
    }
  ],
  "metadata": {
    "kernelspec": {
      "display_name": "langchain-opentutorial-W8hXPYms-py3.11",
      "language": "python",
      "name": "python3"
    },
    "language_info": {
      "codemirror_mode": {
        "name": "ipython",
        "version": 3
      },
      "file_extension": ".py",
      "mimetype": "text/x-python",
      "name": "python",
      "nbconvert_exporter": "python",
      "pygments_lexer": "ipython3",
      "version": "3.11.9"
    }
  },
  "nbformat": 4,
  "nbformat_minor": 5
}
