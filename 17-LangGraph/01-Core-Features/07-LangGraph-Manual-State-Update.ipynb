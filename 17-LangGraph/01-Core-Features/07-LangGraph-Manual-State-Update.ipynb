{
 "cells": [
  {
   "cell_type": "markdown",
   "id": "6bc6fba4",
   "metadata": {},
   "source": [
    "# LangGraph Manual State Update\n",
    "\n",
    "- Author: [YooKyung Jeon](https://github.com/sirena1)\n",
    "- Peer Review:\n",
    "- This is a part of [LangChain Open Tutorial](https://github.com/LangChain-OpenTutorial/LangChain-OpenTutorial)\n",
    "\n",
    "[![Open in Colab](https://colab.research.google.com/assets/colab-badge.svg)](https://colab.research.google.com/github/LangChain-OpenTutorial/LangChain-OpenTutorial/blob/main/17-LangGraph/01-Core-Features/07-LangGraph-Manual-State-Update.ipynb) [![Open in GitHub](https://img.shields.io/badge/Open%20in%20GitHub-181717?style=flat-square&logo=github&logoColor=white)](https://github.com/LangChain-OpenTutorial/LangChain-OpenTutorial/blob/main/17-LangGraph/01-Core-Features/07-LangGraph-Manual-State-Update.ipynb)\n",
    "\n",
    "## Overview\n",
    "\n",
    "LangGraph provides a way to **manually update the intermediate state**.\n",
    "\n",
    "By updating the state, you can **control the path by modifying the agent's behavior**, and even revise the past.\n",
    "\n",
    "This feature is especially useful for **correcting the agent's mistakes**, **exploring alternative routes**, or **modifying the agent's behavior** according to a specific goal.\n",
    "\n",
    "- Note: The agent used in this tutorial defines the same graph as the previous tutorial.\n",
    "\n",
    "### Table of Contents\n",
    "\n",
    "- [Overview](#overview)\n",
    "- [Environment Setup](#environment-setup)\n",
    "- [Human in the loop](#human-in-the-loop)\n",
    "- [Update the message state after an interrupt](#update-the-message-state-after-an-interrupt--continue-the-process)\n",
    "- [Modify the result of the past snapshot and replay](#modify-the-result-of-the-past-snapshot-and-replay)\n",
    "\n",
    "### References\n",
    "\n",
    "- [LangGraph Tutorial](https://langchain-ai.github.io/langgraph/tutorials)\n",
    "- [How to visualize your graph](https://langchain-ai.github.io/langgraph/how-tos/visualization/)\n",
    "----"
   ]
  },
  {
   "cell_type": "markdown",
   "id": "eb2c87fb",
   "metadata": {},
   "source": [
    "## Environment Setup\n",
    "\n",
    "Set up the environment. You may refer to [Environment Setup](https://wikidocs.net/257836) for more details.\n",
    "\n",
    "**[Note]**\n",
    "- `langchain-opentutorial` is a package that provides a set of easy-to-use environment setup, useful functions and utilities for tutorials. \n",
    "- You can checkout the [`langchain-opentutorial`](https://github.com/LangChain-OpenTutorial/langchain-opentutorial-pypi) for more details."
   ]
  },
  {
   "cell_type": "code",
   "execution_count": 1,
   "id": "b3f8726c",
   "metadata": {},
   "outputs": [],
   "source": [
    "%%capture --no-stderr\n",
    "%pip install langchain-opentutorial"
   ]
  },
  {
   "cell_type": "code",
   "execution_count": 2,
   "id": "69d141d6",
   "metadata": {},
   "outputs": [],
   "source": [
    "# Install required packages\n",
    "from langchain_opentutorial import package\n",
    "\n",
    "package.install(\n",
    "    [\n",
    "        \"langchain\",\n",
    "        \"langchain_openai\",\n",
    "        \"langchain_core\",\n",
    "        \"langchain_community\"\n",
    "    ],\n",
    "    verbose=False,\n",
    "    upgrade=False,\n",
    ")"
   ]
  },
  {
   "cell_type": "code",
   "execution_count": 3,
   "id": "60cfadc2",
   "metadata": {},
   "outputs": [
    {
     "name": "stdout",
     "output_type": "stream",
     "text": [
      "Environment variables have been set successfully.\n"
     ]
    }
   ],
   "source": [
    "# Set environment variables\n",
    "from langchain_opentutorial import set_env\n",
    "\n",
    "set_env(\n",
    "    {\n",
    "        \"OPENAI_API_KEY\": \"\",\n",
    "        \"LANGCHAIN_API_KEY\": \"\",\n",
    "        \"TAVILY_API_KEY\": \"\",\n",
    "        \"LANGCHAIN_TRACING_V2\": \"true\",\n",
    "        \"LANGCHAIN_ENDPOINT\": \"https://api.smith.langchain.com\",\n",
    "        \"LANGCHAIN_PROJECT\": \"07-LangGraph-Manual-State-Update\",\n",
    "    }\n",
    ")"
   ]
  },
  {
   "cell_type": "code",
   "execution_count": 4,
   "id": "de9d9d8d",
   "metadata": {},
   "outputs": [
    {
     "data": {
      "text/plain": [
       "True"
      ]
     },
     "execution_count": 4,
     "metadata": {},
     "output_type": "execute_result"
    }
   ],
   "source": [
    "from dotenv import load_dotenv\n",
    "\n",
    "load_dotenv(override=True)"
   ]
  },
  {
   "cell_type": "code",
   "execution_count": 5,
   "id": "e5d857b9",
   "metadata": {},
   "outputs": [
    {
     "data": {
      "image/png": "[encoded data removed]",
      "text/plain": [
       "<IPython.core.display.Image object>"
      ]
     },
     "metadata": {},
     "output_type": "display_data"
    }
   ],
   "source": [
    "from typing import Annotated\n",
    "from typing_extensions import TypedDict\n",
    "\n",
    "from langchain_community.tools.tavily_search import TavilySearchResults\n",
    "from langchain_openai import ChatOpenAI\n",
    "from langgraph.checkpoint.memory import MemorySaver\n",
    "from langgraph.graph import StateGraph, START, END\n",
    "from langgraph.graph.message import add_messages\n",
    "from langgraph.prebuilt import ToolNode, tools_condition\n",
    "from langchain_opentutorial.graphs import visualize_graph\n",
    "\n",
    "########## 1. Define State ##########\n",
    "# Define State\n",
    "class State(TypedDict):\n",
    "    # Add comments to the message list\n",
    "    messages: Annotated[list, add_messages]\n",
    "\n",
    "\n",
    "########## 2. Tool Definition and Binding ##########\n",
    "# Tool initialization\n",
    "tool = TavilySearchResults(max_results=3)\n",
    "\n",
    "# Define the list of tools\n",
    "tools = [tool]\n",
    "\n",
    "# LLM initialization\n",
    "llm = ChatOpenAI(model=\"gpt-4o-mini\")\n",
    "\n",
    "# Combine tools with LLM\n",
    "llm_with_tools = llm.bind_tools(tools)\n",
    "\n",
    "\n",
    "########## 3. Add Nodes ##########\n",
    "# Define chatbot function\n",
    "def chatbot(state: State):\n",
    "    # Call and return messages\n",
    "    return {\"messages\": [llm_with_tools.invoke(state[\"messages\"])]}\n",
    "\n",
    "\n",
    "# Create state graph\n",
    "graph_builder = StateGraph(State)\n",
    "\n",
    "# Add chatbot node\n",
    "graph_builder.add_node(\"chatbot\", chatbot)\n",
    "\n",
    "\n",
    "# Create and add tool node\n",
    "tool_node = ToolNode(tools=tools)\n",
    "\n",
    "# Add tool node\n",
    "graph_builder.add_node(\"tools\", tool_node)\n",
    "\n",
    "# Conditional edges\n",
    "graph_builder.add_conditional_edges(\n",
    "    \"chatbot\",\n",
    "    tools_condition,\n",
    ")\n",
    "\n",
    "########## 4. Add Edges ##########\n",
    "\n",
    "# tools > chatbot\n",
    "graph_builder.add_edge(\"tools\", \"chatbot\")\n",
    "\n",
    "# START > chatbot\n",
    "graph_builder.add_edge(START, \"chatbot\")\n",
    "\n",
    "# chatbot > END\n",
    "graph_builder.add_edge(\"chatbot\", END)\n",
    "\n",
    "########## 5. Graph Compile ##########\n",
    "# Initialize memory store\n",
    "memory = MemorySaver()\n",
    "\n",
    "# Compile graph builder\n",
    "graph = graph_builder.compile(checkpointer=memory)\n",
    "\n",
    "########## 6. Graph Visualization ##########\n",
    "# Graph Visualization\n",
    "visualize_graph(graph)"
   ]
  },
  {
   "cell_type": "code",
   "execution_count": 6,
   "id": "d0b61953",
   "metadata": {},
   "outputs": [],
   "source": [
    "from langchain_core.runnables import RunnableConfig\n",
    "\n",
    "# question\n",
    "question = \"Please research and tell me what LangGraph is!\"\n",
    "\n",
    "# Define initial state\n",
    "input = State(messages=[(\"user\", question)])\n",
    "\n",
    "# Define config\n",
    "config = RunnableConfig(\n",
    "    configurable={\"thread_id\": \"1\"},  # Set thread ID\n",
    ")"
   ]
  },
  {
   "cell_type": "markdown",
   "id": "6ab2ab8a",
   "metadata": {},
   "source": [
    "First, display the list of channels to show the options where **interrupt_before** and **interrupt_after** can be applied."
   ]
  },
  {
   "cell_type": "code",
   "execution_count": 7,
   "id": "005ec550",
   "metadata": {},
   "outputs": [
    {
     "data": {
      "text/plain": [
       "['messages',\n",
       " '__start__',\n",
       " 'chatbot',\n",
       " 'tools',\n",
       " 'branch:__start__:__self__:chatbot',\n",
       " 'branch:__start__:__self__:tools',\n",
       " 'branch:chatbot:__self__:chatbot',\n",
       " 'branch:chatbot:__self__:tools',\n",
       " 'branch:tools:__self__:chatbot',\n",
       " 'branch:tools:__self__:tools',\n",
       " 'start:chatbot',\n",
       " 'branch:chatbot:tools_condition:tools']"
      ]
     },
     "execution_count": 7,
     "metadata": {},
     "output_type": "execute_result"
    }
   ],
   "source": [
    "# Display the list of graph channels\n",
    "list(graph.channels)"
   ]
  },
  {
   "cell_type": "code",
   "execution_count": 8,
   "id": "cf1b5314",
   "metadata": {},
   "outputs": [
    {
     "name": "stdout",
     "output_type": "stream",
     "text": [
      "================================\u001b[1m Human Message \u001b[0m=================================\n",
      "\n",
      "Please research and tell me what LangGraph is!\n",
      "==================================\u001b[1m Ai Message \u001b[0m==================================\n",
      "Tool Calls:\n",
      "  tavily_search_results_json (call_9zjnTeRzGGyCGP0MjoNUfzy5)\n",
      " Call ID: call_9zjnTeRzGGyCGP0MjoNUfzy5\n",
      "  Args:\n",
      "    query: LangGraph\n"
     ]
    }
   ],
   "source": [
    "# Call graph stream\n",
    "events = graph.stream(\n",
    "    input=input, config=config, interrupt_before=[\"tools\"], stream_mode=\"values\"\n",
    ")\n",
    "\n",
    "# Iterate over events\n",
    "for event in events:\n",
    "    # If the message is included in the event\n",
    "    if \"messages\" in event:\n",
    "        # Pretty print the last message\n",
    "        event[\"messages\"][-1].pretty_print()"
   ]
  },
  {
   "cell_type": "markdown",
   "id": "8ee8250e",
   "metadata": {},
   "source": [
    "The current step is interrupted by `ToolNode`.\n",
    "\n",
    "Check the most recent message to see that `ToolNode` contains the `query` before performing the search.\n",
    "\n",
    "Here, the `query` contains only the word `LangGraph`. (The original question was `\"Please research and tell me what LangGraph is!\"`)\n",
    "\n",
    "Of course, the web search result may not be what we want."
   ]
  },
  {
   "cell_type": "code",
   "execution_count": 9,
   "id": "731587a0",
   "metadata": {},
   "outputs": [
    {
     "name": "stdout",
     "output_type": "stream",
     "text": [
      "==================================\u001b[1m Ai Message \u001b[0m==================================\n",
      "Tool Calls:\n",
      "  tavily_search_results_json (call_9zjnTeRzGGyCGP0MjoNUfzy5)\n",
      " Call ID: call_9zjnTeRzGGyCGP0MjoNUfzy5\n",
      "  Args:\n",
      "    query: LangGraph\n"
     ]
    }
   ],
   "source": [
    "# Create graph state snapshot\n",
    "snapshot = graph.get_state(config)\n",
    "\n",
    "# Extract the most recent message\n",
    "last_message = snapshot.values[\"messages\"][-1]\n",
    "\n",
    "# Print the message\n",
    "last_message.pretty_print()"
   ]
  },
  {
   "cell_type": "markdown",
   "id": "3dad6839",
   "metadata": {},
   "source": [
    "## Human in the loop\n",
    "\n",
    "- Modify the **search result** from `TavilySearch` tool\n",
    "\n",
    "We often find that the result of `ToolMessage` is not satisfactory.\n",
    "\n",
    "In particular, the answer obtained from web search may contain incorrect information, which can also affect the chatbot's answer.\n",
    "\n",
    "If you want to modify the `ToolMessage` from the `Tavily Tool` and pass it to the LLM, how can you do it?"
   ]
  },
  {
   "cell_type": "markdown",
   "id": "9e301863",
   "metadata": {},
   "source": [
    "![](./assets/07-langgraph-manual-state-update.png)"
   ]
  },
  {
   "cell_type": "markdown",
   "id": "f3a0d4cc",
   "metadata": {},
   "source": [
    "Below is a modified virtual web search result that is slightly different from the original web search result."
   ]
  },
  {
   "cell_type": "code",
   "execution_count": 10,
   "id": "0d8efa7d",
   "metadata": {},
   "outputs": [
    {
     "name": "stdout",
     "output_type": "stream",
     "text": [
      "[Modified web search result] \n",
      "LangGraph supports building state-based multi-actor applications using LLMs.\n",
      "LangGraph is an open-source library that provides features such as cyclic flow, controllability, persistence, and cloud deployment capabilities.\n",
      "\n",
      "For detailed tutorials, refer to [LangGraph Tutorial](https://langchain-ai.github.io/langgraph/tutorials/).\n"
     ]
    }
   ],
   "source": [
    "modified_search_result = \"\"\"[Modified web search result] \n",
    "LangGraph supports building state-based multi-actor applications using LLMs.\n",
    "LangGraph is an open-source library that provides features such as cyclic flow, controllability, persistence, and cloud deployment capabilities.\n",
    "\n",
    "For detailed tutorials, refer to [LangGraph Tutorial](https://langchain-ai.github.io/langgraph/tutorials/).\"\"\"\n",
    "\n",
    "print(modified_search_result)"
   ]
  },
  {
   "cell_type": "markdown",
   "id": "a18cff2a",
   "metadata": {},
   "source": [
    "Next, inject the modified search result into the `ToolMessage`. \n",
    "\n",
    "**Important**\n",
    "\n",
    "- To modify the message, you need to specify the `tool_call_id` that matches the message you want to modify."
   ]
  },
  {
   "cell_type": "code",
   "execution_count": 11,
   "id": "52368d6e",
   "metadata": {},
   "outputs": [
    {
     "name": "stdout",
     "output_type": "stream",
     "text": [
      "call_9zjnTeRzGGyCGP0MjoNUfzy5\n"
     ]
    }
   ],
   "source": [
    "# Extract the `tool_call_id` of the `ToolMessage` you want to modify\n",
    "tool_call_id = last_message.tool_calls[0][\"id\"]\n",
    "print(tool_call_id)"
   ]
  },
  {
   "cell_type": "code",
   "execution_count": 12,
   "id": "1acabaac",
   "metadata": {},
   "outputs": [
    {
     "name": "stdout",
     "output_type": "stream",
     "text": [
      "=================================\u001b[1m Tool Message \u001b[0m=================================\n",
      "\n",
      "[Modified web search result] \n",
      "LangGraph supports building state-based multi-actor applications using LLMs.\n",
      "LangGraph is an open-source library that provides features such as cyclic flow, controllability, persistence, and cloud deployment capabilities.\n",
      "\n",
      "For detailed tutorials, refer to [LangGraph Tutorial](https://langchain-ai.github.io/langgraph/tutorials/).\n"
     ]
    }
   ],
   "source": [
    "from langchain_core.messages import AIMessage, ToolMessage\n",
    "\n",
    "new_messages = [\n",
    "    # A `ToolMessage` that matches the tool call of the LLM API is required\n",
    "    ToolMessage(\n",
    "        content=modified_search_result,\n",
    "        tool_call_id=tool_call_id,\n",
    "    ),\n",
    "    # Add content directly to the LLM's response\n",
    "    # AIMessage(content=modified_search_result),\n",
    "]\n",
    "\n",
    "new_messages[-1].pretty_print()"
   ]
  },
  {
   "cell_type": "markdown",
   "id": "b970602d",
   "metadata": {},
   "source": [
    "### StateGraph's `update_state` Method\n",
    "\n",
    "The `update_state` method updates the state of the graph with the given values. This method operates as if the values originated from `as_node`.\n",
    "\n",
    "**Parameters** \n",
    "\n",
    "- `config` (RunnableConfig): Execution configuration\n",
    "- `values` (Optional[Union[dict[str, Any], Any]]): Values to update\n",
    "- `as_node` (Optional[str]): The node name to consider as the source of the values. The default value is None\n",
    "\n",
    "**Return** \n",
    "\n",
    "- RunnableConfig\n",
    "\n",
    "**Main Features**\n",
    "\n",
    "1. Load the previous state through the checkpoint and save the new state.\n",
    "2. Process the state update for the subgraph.\n",
    "3. If `as_node` is not specified, find the node that last updated the state.\n",
    "4. Update the state using the writers of the specified node.\n",
    "5. Save the updated state to the checkpoint.\n",
    "\n",
    "**Main Logic**\n",
    "\n",
    "1. Check the checkpoint and raise a ValueError if it is not found.\n",
    "2. If the update is for the subgraph, call the `update_state` method of the subgraph. \n",
    "3. Load the previous checkpoint and determine `as_node` if necessary.\n",
    "4. Update the state using the writers of the specified node. \n",
    "5. Save the updated state to the new checkpoint.\n",
    "\n",
    "**Note**\n",
    "\n",
    "- This method is used when manually updating the state of the graph. \n",
    "- Use the checkpoint to ensure version management and persistence of the state.\n",
    "- `as_node` is automatically determined, but if it is ambiguous, an error may occur.\n",
    "- Writing to SharedValues is not allowed during state update."
   ]
  },
  {
   "cell_type": "code",
   "execution_count": 13,
   "id": "15691b8c",
   "metadata": {},
   "outputs": [
    {
     "name": "stdout",
     "output_type": "stream",
     "text": [
      "(Display the most recent message)\n",
      "\n",
      "content='[Modified web search result] \\nLangGraph supports building state-based multi-actor applications using LLMs.\\nLangGraph is an open-source library that provides features such as cyclic flow, controllability, persistence, and cloud deployment capabilities.\\n\\nFor detailed tutorials, refer to [LangGraph Tutorial](https://langchain-ai.github.io/langgraph/tutorials/).' id='adf44246-b5ab-45b1-a988-fcce753a846f' tool_call_id='call_9zjnTeRzGGyCGP0MjoNUfzy5'\n"
     ]
    }
   ],
   "source": [
    "graph.update_state(\n",
    "    # Specify the state to update\n",
    "    config,\n",
    "    # Provide the updated values. `State`'s messages are \"add-only\" and added to the existing state.\n",
    "    {\"messages\": new_messages},\n",
    "    as_node=\"tools\",\n",
    ")\n",
    "\n",
    "print(\"(Display the most recent message)\\n\")\n",
    "print(graph.get_state(config).values[\"messages\"][-1])"
   ]
  },
  {
   "cell_type": "markdown",
   "id": "d0b868cb",
   "metadata": {},
   "source": [
    "Now, the graph is complete. \n",
    "\n",
    "Since the final response message was provided! \n",
    "\n",
    "State update simulates the graph step, so it also creates the corresponding `traces`.\n",
    "\n",
    "`messages` were processed with the predefined `add_messages` function. (This ensures that the existing list is not overwritten directly in the graph and always adds values.)\n",
    "\n",
    "The same logic is applied here, so the message passed to `update_state` is added in the same way. \n",
    "\n",
    "The `update_state` function operates as if it were one of the nodes in the graph! By default, the update process uses the last executed node, but it can be manually specified as shown below. Let's add an update and instruct the graph to treat it as coming from \"chatbot.\"\n",
    "\n"
   ]
  },
  {
   "cell_type": "code",
   "execution_count": 14,
   "id": "3a4c1fbb",
   "metadata": {},
   "outputs": [
    {
     "data": {
      "text/plain": [
       "('chatbot',)"
      ]
     },
     "execution_count": 14,
     "metadata": {},
     "output_type": "execute_result"
    }
   ],
   "source": [
    "snapshot = graph.get_state(config)\n",
    "snapshot.next"
   ]
  },
  {
   "cell_type": "code",
   "execution_count": 15,
   "id": "36223336",
   "metadata": {},
   "outputs": [
    {
     "name": "stdout",
     "output_type": "stream",
     "text": [
      "=================================\u001b[1m Tool Message \u001b[0m=================================\n",
      "\n",
      "[Modified web search result] \n",
      "LangGraph supports building state-based multi-actor applications using LLMs.\n",
      "LangGraph is an open-source library that provides features such as cyclic flow, controllability, persistence, and cloud deployment capabilities.\n",
      "\n",
      "For detailed tutorials, refer to [LangGraph Tutorial](https://langchain-ai.github.io/langgraph/tutorials/).\n",
      "==================================\u001b[1m Ai Message \u001b[0m==================================\n",
      "\n",
      "LangGraph is an open-source library designed for building state-based multi-actor applications using large language models (LLMs). It offers features such as cyclic flow, controllability, persistence, and cloud deployment capabilities, making it a versatile tool for developers working with LLMs.\n",
      "\n",
      "For more detailed information, you can refer to the [LangGraph Tutorial](https://langchain-ai.github.io/langgraph/tutorials/).\n"
     ]
    }
   ],
   "source": [
    "# `None` is not added to the current state\n",
    "events = graph.stream(None, config, stream_mode=\"values\")\n",
    "\n",
    "# Iterate over events\n",
    "for event in events:\n",
    "    # If the message is included in the event\n",
    "    if \"messages\" in event:\n",
    "        # Pretty print the last message\n",
    "        event[\"messages\"][-1].pretty_print()"
   ]
  },
  {
   "cell_type": "markdown",
   "id": "ad62e348",
   "metadata": {},
   "source": [
    "The following code can be used if you want to modify the state of the final answer."
   ]
  },
  {
   "cell_type": "code",
   "execution_count": 16,
   "id": "0889cbf7",
   "metadata": {},
   "outputs": [],
   "source": [
    "# Specify the node where this function operates. This node is automatically processed as if it was just executed.\n",
    "# graph.update_state(\n",
    "#     config,\n",
    "#     {\n",
    "#         \"messages\": [\n",
    "#             AIMessage(content=\"Finally, add the final message to complete the process.\")\n",
    "#         ]\n",
    "#     },\n",
    "#     as_node=\"chatbot\",\n",
    "# )"
   ]
  },
  {
   "cell_type": "markdown",
   "id": "697183db",
   "metadata": {},
   "source": [
    "Let's visualize the graph and check the entire output."
   ]
  },
  {
   "cell_type": "code",
   "execution_count": 17,
   "id": "458ada94",
   "metadata": {},
   "outputs": [
    {
     "data": {
      "image/png": "[encoded data removed]",
      "text/plain": [
       "<IPython.core.display.Image object>"
      ]
     },
     "metadata": {},
     "output_type": "display_data"
    }
   ],
   "source": [
    "from langchain_opentutorial.graphs import visualize_graph\n",
    "\n",
    "visualize_graph(graph)"
   ]
  },
  {
   "cell_type": "markdown",
   "id": "2a63f4cf",
   "metadata": {},
   "source": [
    "Check the current state as before to confirm that the checkpoint reflects the manual update."
   ]
  },
  {
   "cell_type": "code",
   "execution_count": 18,
   "id": "b2d31c27",
   "metadata": {},
   "outputs": [
    {
     "name": "stdout",
     "output_type": "stream",
     "text": [
      "================================\u001b[1m Human Message \u001b[0m=================================\n",
      "\n",
      "Please research and tell me what LangGraph is!\n",
      "==================================\u001b[1m Ai Message \u001b[0m==================================\n",
      "Tool Calls:\n",
      "  tavily_search_results_json (call_9zjnTeRzGGyCGP0MjoNUfzy5)\n",
      " Call ID: call_9zjnTeRzGGyCGP0MjoNUfzy5\n",
      "  Args:\n",
      "    query: LangGraph\n",
      "=================================\u001b[1m Tool Message \u001b[0m=================================\n",
      "\n",
      "[Modified web search result] \n",
      "LangGraph supports building state-based multi-actor applications using LLMs.\n",
      "LangGraph is an open-source library that provides features such as cyclic flow, controllability, persistence, and cloud deployment capabilities.\n",
      "\n",
      "For detailed tutorials, refer to [LangGraph Tutorial](https://langchain-ai.github.io/langgraph/tutorials/).\n",
      "==================================\u001b[1m Ai Message \u001b[0m==================================\n",
      "\n",
      "LangGraph is an open-source library designed for building state-based multi-actor applications using large language models (LLMs). It offers features such as cyclic flow, controllability, persistence, and cloud deployment capabilities, making it a versatile tool for developers working with LLMs.\n",
      "\n",
      "For more detailed information, you can refer to the [LangGraph Tutorial](https://langchain-ai.github.io/langgraph/tutorials/).\n"
     ]
    }
   ],
   "source": [
    "# Create a graph state snapshot\n",
    "snapshot = graph.get_state(config)\n",
    "\n",
    "# Print the last three messages\n",
    "for message in snapshot.values[\"messages\"]:\n",
    "    message.pretty_print()"
   ]
  },
  {
   "cell_type": "markdown",
   "id": "457828d2",
   "metadata": {},
   "source": [
    "Check if there is a next node to proceed. `()` is empty, indicating that the entire process has been completed normally."
   ]
  },
  {
   "cell_type": "code",
   "execution_count": 19,
   "id": "c6ea87c0",
   "metadata": {},
   "outputs": [
    {
     "name": "stdout",
     "output_type": "stream",
     "text": [
      "()\n"
     ]
    }
   ],
   "source": [
    "# Print the next state\n",
    "print(snapshot.next)"
   ]
  },
  {
   "cell_type": "markdown",
   "id": "98fcbffe",
   "metadata": {},
   "source": [
    "## Update the message state after an interrupt – continue the process.\n",
    "\n",
    "- Modify the **search query** in the `TavilySearch` tool\n",
    "\n",
    "This time, interrupt before proceeding to the next node and update the state, then continue the process.\n",
    "\n",
    "First, create a new `thread_id`.\n",
    "\n",
    "Here, we use the `generate_random_hash` function to generate a random hash value."
   ]
  },
  {
   "cell_type": "code",
   "execution_count": 20,
   "id": "5c7fe37d",
   "metadata": {},
   "outputs": [
    {
     "name": "stdout",
     "output_type": "stream",
     "text": [
      "thread_id: f08cd5\n",
      "================================\u001b[1m Human Message \u001b[0m=================================\n",
      "\n",
      "I want to learn about LangGraph. Can you recommend useful materials?\n",
      "==================================\u001b[1m Ai Message \u001b[0m==================================\n",
      "Tool Calls:\n",
      "  tavily_search_results_json (call_6GdSSJua0PzlGTQ5jCXve1LD)\n",
      " Call ID: call_6GdSSJua0PzlGTQ5jCXve1LD\n",
      "  Args:\n",
      "    query: LangGraph learning materials\n"
     ]
    }
   ],
   "source": [
    "from langchain_opentutorial.graphs import generate_random_hash\n",
    "\n",
    "thread_id = generate_random_hash()\n",
    "print(f\"thread_id: {thread_id}\")\n",
    "\n",
    "question = \"I want to learn about LangGraph. Can you recommend useful materials?\"\n",
    "\n",
    "# Define the initial input state\n",
    "input = State(messages=[(\"user\", question)])\n",
    "\n",
    "# Create a new config\n",
    "config = {\"configurable\": {\"thread_id\": thread_id}}\n",
    "\n",
    "events = graph.stream(\n",
    "    input=input,\n",
    "    config=config,\n",
    "    interrupt_before=[\"tools\"],\n",
    "    stream_mode=\"values\",\n",
    ")\n",
    "for event in events:\n",
    "    if \"messages\" in event:\n",
    "        event[\"messages\"][-1].pretty_print()"
   ]
  },
  {
   "cell_type": "markdown",
   "id": "2c49b0e0",
   "metadata": {},
   "source": [
    "Next, let's update the tool call for the agent. "
   ]
  },
  {
   "cell_type": "markdown",
   "id": "f88483e9",
   "metadata": {},
   "source": [
    "First, get the `Message ID`. "
   ]
  },
  {
   "cell_type": "code",
   "execution_count": 21,
   "id": "72d210f5",
   "metadata": {},
   "outputs": [],
   "source": [
    "# Copy config\n",
    "config_copy = config.copy()"
   ]
  },
  {
   "cell_type": "code",
   "execution_count": 22,
   "id": "2bac7050",
   "metadata": {},
   "outputs": [
    {
     "name": "stdout",
     "output_type": "stream",
     "text": [
      "Message ID run-21c9fdd0-14ca-4d90-9c3b-273822d7db84-0\n"
     ]
    }
   ],
   "source": [
    "from langchain_core.messages import AIMessage\n",
    "\n",
    "# Get the snapshot state\n",
    "snapshot = graph.get_state(config)\n",
    "\n",
    "# Get the last message of messages\n",
    "existing_message = snapshot.values[\"messages\"][-1]\n",
    "\n",
    "# Print the message ID\n",
    "print(\"Message ID\", existing_message.id)"
   ]
  },
  {
   "cell_type": "markdown",
   "id": "2ed080b7",
   "metadata": {},
   "source": [
    "The last message is a message related to the `tavily_web_search` tool call.\n",
    "\n",
    "The main properties are as follows.\n",
    "\n",
    "- `name`: The name of the tool\n",
    "- `args`: The search query\n",
    "- `id`: The tool call ID\n",
    "- `type`: The tool call type (tool_call)"
   ]
  },
  {
   "cell_type": "code",
   "execution_count": 23,
   "id": "64c27714",
   "metadata": {},
   "outputs": [
    {
     "name": "stdout",
     "output_type": "stream",
     "text": [
      "{'name': 'tavily_search_results_json', 'args': {'query': 'LangGraph learning materials'}, 'id': 'call_6GdSSJua0PzlGTQ5jCXve1LD', 'type': 'tool_call'}\n"
     ]
    }
   ],
   "source": [
    "# Print the first tool call\n",
    "print(existing_message.tool_calls[0])"
   ]
  },
  {
   "cell_type": "markdown",
   "id": "b2f3e04e",
   "metadata": {},
   "source": [
    "Let's update the `query` in `args`. \n",
    "\n",
    "Copy the `existing_message` and create a new tool call `new_tool_call`.\n",
    "\n",
    "Since we used the `copy()` method, all property values are copied.\n",
    "\n",
    "Then, input the desired **search query** to the `query` parameter.\n",
    "\n",
    "**Important**\n",
    "\n",
    "- The `id` uses the same `id` as the existing message. (If the `id` changes, the message reducer will not update the message but instead add it.)\n"
   ]
  },
  {
   "cell_type": "code",
   "execution_count": 24,
   "id": "97b66610",
   "metadata": {},
   "outputs": [
    {
     "data": {
      "text/plain": [
       "{'name': 'tavily_search_results_json',\n",
       " 'args': {'query': 'LangGraph site:langchain-opentutorial.gitbook.io/langchain-opentutorial'},\n",
       " 'id': 'call_6GdSSJua0PzlGTQ5jCXve1LD',\n",
       " 'type': 'tool_call'}"
      ]
     },
     "execution_count": 24,
     "metadata": {},
     "output_type": "execute_result"
    }
   ],
   "source": [
    "# Copy tool_calls to create a new tool call\n",
    "new_tool_call = existing_message.tool_calls[0].copy()\n",
    "\n",
    "# Update the query parameter\n",
    "new_tool_call[\"args\"] = {\"query\": \"LangGraph site:langchain-opentutorial.gitbook.io/langchain-opentutorial\"}\n",
    "new_tool_call"
   ]
  },
  {
   "cell_type": "code",
   "execution_count": 25,
   "id": "8891040b",
   "metadata": {},
   "outputs": [
    {
     "name": "stdout",
     "output_type": "stream",
     "text": [
      "run-21c9fdd0-14ca-4d90-9c3b-273822d7db84-0\n",
      "==================================\u001b[1m Ai Message \u001b[0m==================================\n",
      "Tool Calls:\n",
      "  tavily_search_results_json (call_6GdSSJua0PzlGTQ5jCXve1LD)\n",
      " Call ID: call_6GdSSJua0PzlGTQ5jCXve1LD\n",
      "  Args:\n",
      "    query: LangGraph site:langchain-opentutorial.gitbook.io/langchain-opentutorial\n"
     ]
    }
   ],
   "source": [
    "# Create a new AIMessage\n",
    "new_message = AIMessage(\n",
    "    content=existing_message.content,\n",
    "    tool_calls=[new_tool_call],\n",
    "    # Important! ID is a method to replace the message instead of adding it to the state.\n",
    "    id=existing_message.id,\n",
    ")\n",
    "\n",
    "print(new_message.id)\n",
    "\n",
    "# Print the modified message\n",
    "new_message.pretty_print()"
   ]
  },
  {
   "cell_type": "markdown",
   "id": "3e18fa63",
   "metadata": {},
   "source": [
    "We can see that the search query has been updated."
   ]
  },
  {
   "cell_type": "code",
   "execution_count": 26,
   "id": "7dbb6442",
   "metadata": {},
   "outputs": [
    {
     "name": "stdout",
     "output_type": "stream",
     "text": [
      "{'name': 'tavily_search_results_json', 'args': {'query': 'LangGraph site:langchain-opentutorial.gitbook.io/langchain-opentutorial'}, 'id': 'call_6GdSSJua0PzlGTQ5jCXve1LD', 'type': 'tool_call'}\n",
      "\n",
      "Message ID run-21c9fdd0-14ca-4d90-9c3b-273822d7db84-0\n"
     ]
    },
    {
     "data": {
      "text/plain": [
       "{'configurable': {'thread_id': 'f08cd5',\n",
       "  'checkpoint_ns': '',\n",
       "  'checkpoint_id': '1efd8c9f-1ff2-621f-8002-80b07f16150f'}}"
      ]
     },
     "execution_count": 26,
     "metadata": {},
     "output_type": "execute_result"
    }
   ],
   "source": [
    "# Print the updated tool call\n",
    "print(new_message.tool_calls[0])\n",
    "\n",
    "# Print the message ID\n",
    "print(\"\\nMessage ID\", new_message.id)\n",
    "\n",
    "# Update the state\n",
    "graph.update_state(config, {\"messages\": [new_message]})"
   ]
  },
  {
   "cell_type": "markdown",
   "id": "2f791a61",
   "metadata": {},
   "source": [
    "Check the `tool_calls` of the updated last message.\n",
    "\n",
    "- The `query` in `args` has been updated."
   ]
  },
  {
   "cell_type": "code",
   "execution_count": 27,
   "id": "f9dbecb3",
   "metadata": {},
   "outputs": [
    {
     "data": {
      "text/plain": [
       "[{'name': 'tavily_search_results_json',\n",
       "  'args': {'query': 'LangGraph site:langchain-opentutorial.gitbook.io/langchain-opentutorial'},\n",
       "  'id': 'call_6GdSSJua0PzlGTQ5jCXve1LD',\n",
       "  'type': 'tool_call'}]"
      ]
     },
     "execution_count": 27,
     "metadata": {},
     "output_type": "execute_result"
    }
   ],
   "source": [
    "# Get the tool call of the last message\n",
    "graph.get_state(config).values[\"messages\"][-1].tool_calls"
   ]
  },
  {
   "cell_type": "markdown",
   "id": "e0ae770e",
   "metadata": {},
   "source": [
    "You can see that the search query has been changed from the original **\"LangGraph\"** to the updated query **\"LangGraph site:github.com/LangChain-OpenTutorial/LangChain-GitBook\"**.\n",
    "\n",
    "Continue streaming the graph using the previous settings and a `None` input.\n"
   ]
  },
  {
   "cell_type": "code",
   "execution_count": 28,
   "id": "80be43c4",
   "metadata": {},
   "outputs": [
    {
     "name": "stdout",
     "output_type": "stream",
     "text": [
      "==================================\u001b[1m Ai Message \u001b[0m==================================\n",
      "Tool Calls:\n",
      "  tavily_search_results_json (call_6GdSSJua0PzlGTQ5jCXve1LD)\n",
      " Call ID: call_6GdSSJua0PzlGTQ5jCXve1LD\n",
      "  Args:\n",
      "    query: LangGraph site:langchain-opentutorial.gitbook.io/langchain-opentutorial\n",
      "=================================\u001b[1m Tool Message \u001b[0m=================================\n",
      "Name: tavily_search_results_json\n",
      "\n",
      "[{\"url\": \"https://langchain-opentutorial.gitbook.io/langchain-opentutorial/13-langchain-expression-language/02-inspectrunnables\", \"content\": \"In this tutorial, we introduce how to inspect and visualize various components (including the graph structure) of a Runnable chain. Understanding the underlying graph structure can help diagnose and optimize complex chain flows.\"}, {\"url\": \"https://langchain-opentutorial.gitbook.io/langchain-opentutorial/09-vectorstore/01-vector-stores\", \"content\": \"This tutorial provides a comprehensive guide to vector stores, which are specialized databases for indexing and retrieving information using vector representations (embeddings).\"}, {\"url\": \"https://langchain-opentutorial.gitbook.io/langchain-opentutorial/15-agent/11-react-agent\", \"content\": \"The code below uses create_react_agent from langgraph to easily build a ReAct Agent and visualize its structure as a graph. Copy from langchain_openai import ChatOpenAI from langgraph. checkpoint. memory import MemorySaver from langgraph. prebuilt import create_react_agent # Memory and model configuration memory = MemorySaver ()\"}]\n",
      "==================================\u001b[1m Ai Message \u001b[0m==================================\n",
      "\n",
      "Here are some useful materials to learn about LangGraph:\n",
      "\n",
      "1. **Inspecting and Visualizing Runnable Chains**:\n",
      "   - This tutorial introduces how to inspect and visualize various components, including the graph structure of a Runnable chain. It helps in understanding the underlying graph structure, which is crucial for diagnosing and optimizing complex chain flows. \n",
      "   - [Read more here](https://langchain-opentutorial.gitbook.io/langchain-opentutorial/13-langchain-expression-language/02-inspectrunnables).\n",
      "\n",
      "2. **Guide to Vector Stores**:\n",
      "   - This tutorial provides a comprehensive guide to vector stores, which are specialized databases for indexing and retrieving information using vector representations (embeddings). This is relevant for understanding how data is managed and utilized within LangGraph.\n",
      "   - [Explore the guide here](https://langchain-opentutorial.gitbook.io/langchain-opentutorial/09-vectorstore/01-vector-stores).\n",
      "\n",
      "3. **Building a ReAct Agent with LangGraph**:\n",
      "   - This tutorial illustrates how to use `create_react_agent` from LangGraph to easily build a ReAct Agent and visualize its structure as a graph. It includes code examples and explanations for memory and model configuration.\n",
      "   - [Learn how to build it here](https://langchain-opentutorial.gitbook.io/langchain-opentutorial/15-agent/11-react-agent).\n",
      "\n",
      "These resources should provide a solid foundation for understanding LangGraph and its applications.\n"
     ]
    }
   ],
   "source": [
    "# Receive events from the graph stream\n",
    "events = graph.stream(None, config, stream_mode=\"values\")\n",
    "\n",
    "# Process each event\n",
    "for event in events:\n",
    "    # If the message is included in the event\n",
    "    if \"messages\" in event:\n",
    "        event[\"messages\"][-1].pretty_print()"
   ]
  },
  {
   "cell_type": "code",
   "execution_count": 29,
   "id": "df57c7da",
   "metadata": {},
   "outputs": [
    {
     "name": "stdout",
     "output_type": "stream",
     "text": [
      "================================\u001b[1m Human Message \u001b[0m=================================\n",
      "\n",
      "Please provide a kind and detailed answer in English about what I have learned so far! Be sure to include the sources!\n",
      "==================================\u001b[1m Ai Message \u001b[0m==================================\n",
      "\n",
      "Certainly! Here's a detailed summary of what you've learned about LangGraph based on the materials provided:\n",
      "\n",
      "---\n",
      "\n",
      "### Overview of LangGraph\n",
      "\n",
      "LangGraph is a framework that facilitates the building and visualization of complex data flows within machine learning and artificial intelligence applications. It enables users to create and manage various components, known as \"Runnable chains,\" which can be inspected and optimized for better performance.\n",
      "\n",
      "### Key Materials Learned\n",
      "\n",
      "1. **Inspecting and Visualizing Runnable Chains**:\n",
      "   - In this tutorial, you learned how to **inspect and visualize** different components of a Runnable chain. Understanding the graph structure of these chains is crucial for diagnosing issues and optimizing complex workflows. By visualizing the interactions and dependencies between components, developers can gain insights into the performance and efficiency of their data processing tasks.\n",
      "   - **Source**: [Inspecting Runnable Chains](https://langchain-opentutorial.gitbook.io/langchain-opentutorial/13-langchain-expression-language/02-inspectrunnables).\n",
      "\n",
      "2. **Understanding Vector Stores**:\n",
      "   - You explored a comprehensive guide on **vector stores**, which are specialized databases designed for indexing and retrieving information based on vector representations (also known as embeddings). This concept is essential for managing data efficiently, especially in applications that require quick access to large datasets. Vector stores play a significant role in enhancing the performance of machine learning models by enabling faster retrieval of relevant information.\n",
      "   - **Source**: [Guide to Vector Stores](https://langchain-opentutorial.gitbook.io/langchain-opentutorial/09-vectorstore/01-vector-stores).\n",
      "\n",
      "3. **Building a ReAct Agent with LangGraph**:\n",
      "   - In this section, you learned about using the `create_react_agent` function from LangGraph to build a ReAct Agent. This tutorial provides practical code examples and explains how to visualize the agent's structure as a graph. It covers crucial aspects such as memory and model configuration, which are vital for creating effective agents that can interact with users or other systems.\n",
      "   - **Source**: [Building a ReAct Agent](https://langchain-opentutorial.gitbook.io/langchain-opentutorial/15-agent/11-react-agent).\n",
      "\n",
      "### Conclusion\n",
      "\n",
      "By exploring these materials, you have gained valuable insights into the functionalities and capabilities of LangGraph. You now understand how to visualize and optimize data flows, manage vector representations, and build interactive agents, all of which are integral to developing robust AI applications. For further exploration, consider diving deeper into each topic through the provided links.\n",
      "\n",
      "--- \n",
      "\n",
      "This summary encapsulates the core concepts you've learned about LangGraph and its functionalities. If you have any more questions or need further information, feel free to ask!\n"
     ]
    }
   ],
   "source": [
    "# Create an event stream\n",
    "events = graph.stream(\n",
    "    {\n",
    "        \"messages\": (\n",
    "            \"user\",\n",
    "            \"Please provide a kind and detailed answer in English about what I have learned so far! Be sure to include the sources!\",\n",
    "        )\n",
    "    },\n",
    "    config,\n",
    "    stream_mode=\"values\",\n",
    ")\n",
    "\n",
    "# Process message events\n",
    "for event in events:\n",
    "    if \"messages\" in event:\n",
    "        # Print the last message\n",
    "        event[\"messages\"][-1].pretty_print()"
   ]
  },
  {
   "cell_type": "markdown",
   "id": "40da8a3c",
   "metadata": {},
   "source": [
    "Check the last message in `messages` of the final state. (This is the final response message.)"
   ]
  },
  {
   "cell_type": "code",
   "execution_count": 30,
   "id": "f0e4a062",
   "metadata": {},
   "outputs": [
    {
     "name": "stdout",
     "output_type": "stream",
     "text": [
      "==================================\u001b[1m Ai Message \u001b[0m==================================\n",
      "\n",
      "Certainly! Here's a detailed summary of what you've learned about LangGraph based on the materials provided:\n",
      "\n",
      "---\n",
      "\n",
      "### Overview of LangGraph\n",
      "\n",
      "LangGraph is a framework that facilitates the building and visualization of complex data flows within machine learning and artificial intelligence applications. It enables users to create and manage various components, known as \"Runnable chains,\" which can be inspected and optimized for better performance.\n",
      "\n",
      "### Key Materials Learned\n",
      "\n",
      "1. **Inspecting and Visualizing Runnable Chains**:\n",
      "   - In this tutorial, you learned how to **inspect and visualize** different components of a Runnable chain. Understanding the graph structure of these chains is crucial for diagnosing issues and optimizing complex workflows. By visualizing the interactions and dependencies between components, developers can gain insights into the performance and efficiency of their data processing tasks.\n",
      "   - **Source**: [Inspecting Runnable Chains](https://langchain-opentutorial.gitbook.io/langchain-opentutorial/13-langchain-expression-language/02-inspectrunnables).\n",
      "\n",
      "2. **Understanding Vector Stores**:\n",
      "   - You explored a comprehensive guide on **vector stores**, which are specialized databases designed for indexing and retrieving information based on vector representations (also known as embeddings). This concept is essential for managing data efficiently, especially in applications that require quick access to large datasets. Vector stores play a significant role in enhancing the performance of machine learning models by enabling faster retrieval of relevant information.\n",
      "   - **Source**: [Guide to Vector Stores](https://langchain-opentutorial.gitbook.io/langchain-opentutorial/09-vectorstore/01-vector-stores).\n",
      "\n",
      "3. **Building a ReAct Agent with LangGraph**:\n",
      "   - In this section, you learned about using the `create_react_agent` function from LangGraph to build a ReAct Agent. This tutorial provides practical code examples and explains how to visualize the agent's structure as a graph. It covers crucial aspects such as memory and model configuration, which are vital for creating effective agents that can interact with users or other systems.\n",
      "   - **Source**: [Building a ReAct Agent](https://langchain-opentutorial.gitbook.io/langchain-opentutorial/15-agent/11-react-agent).\n",
      "\n",
      "### Conclusion\n",
      "\n",
      "By exploring these materials, you have gained valuable insights into the functionalities and capabilities of LangGraph. You now understand how to visualize and optimize data flows, manage vector representations, and build interactive agents, all of which are integral to developing robust AI applications. For further exploration, consider diving deeper into each topic through the provided links.\n",
      "\n",
      "--- \n",
      "\n",
      "This summary encapsulates the core concepts you've learned about LangGraph and its functionalities. If you have any more questions or need further information, feel free to ask!\n"
     ]
    }
   ],
   "source": [
    "graph.get_state(config).values[\"messages\"][-1].pretty_print()"
   ]
  },
  {
   "cell_type": "markdown",
   "id": "21173667",
   "metadata": {},
   "source": [
    "## Modify the result of the past snapshot and replay\n",
    "\n",
    "This time, we will look at how to modify the result of the past snapshot and replay.\n",
    "\n",
    "Check the past snapshot and return to a specific node, then **modify the state and continue from that node**.\n",
    "\n",
    "This is called Replay.\n",
    "\n",
    "First, get the state of the past snapshot."
   ]
  },
  {
   "cell_type": "code",
   "execution_count": 31,
   "id": "3eba0794",
   "metadata": {},
   "outputs": [
    {
     "name": "stdout",
     "output_type": "stream",
     "text": [
      "run-75bb7014-47e8-40b1-b4d0-580391949bd8-0\n",
      "the number of chat messages:  6 next node:  ()\n",
      "--------------------------------------------------------------------------------\n",
      "d35ee58d-acbe-4687-a7a2-ee12e865a937\n",
      "the number of chat messages:  5 next node:  ('chatbot',)\n",
      "--------------------------------------------------------------------------------\n",
      "run-283f6d35-635a-4259-b58f-b2c3634664b9-0\n",
      "the number of chat messages:  4 next node:  ('__start__',)\n",
      "--------------------------------------------------------------------------------\n",
      "run-283f6d35-635a-4259-b58f-b2c3634664b9-0\n",
      "the number of chat messages:  4 next node:  ()\n",
      "--------------------------------------------------------------------------------\n",
      "da87b138-70bd-4510-8b12-18ce8822ef87\n",
      "the number of chat messages:  3 next node:  ('chatbot',)\n",
      "--------------------------------------------------------------------------------\n",
      "run-21c9fdd0-14ca-4d90-9c3b-273822d7db84-0\n",
      "the number of chat messages:  2 next node:  ('tools',)\n",
      "--------------------------------------------------------------------------------\n",
      "run-21c9fdd0-14ca-4d90-9c3b-273822d7db84-0\n",
      "the number of chat messages:  2 next node:  ('tools',)\n",
      "--------------------------------------------------------------------------------\n",
      "2222f619-4e73-4703-b61b-222cf328c78d\n",
      "the number of chat messages:  1 next node:  ('chatbot',)\n",
      "--------------------------------------------------------------------------------\n"
     ]
    }
   ],
   "source": [
    "to_replay_state = None\n",
    "\n",
    "# Get the state history\n",
    "for state in graph.get_state_history(config):\n",
    "\n",
    "    messages = state.values[\"messages\"]\n",
    "\n",
    "    if len(messages) > 0:\n",
    "        print(state.values[\"messages\"][-1].id)\n",
    "        # Print the number of messages and the next state\n",
    "        print(\"the number of chat messages: \", len(state.values[\"messages\"]), \"next node: \", state.next)\n",
    "        print(\"-\" * 80)\n",
    "        # Select the specific state based on the number of chat messages\n",
    "        if len(state.values[\"messages\"]) == 2:\n",
    "            # Select the specific message ID\n",
    "            to_replay_state = state"
   ]
  },
  {
   "cell_type": "markdown",
   "id": "23cadcca",
   "metadata": {},
   "source": [
    "Check the content of the selected message."
   ]
  },
  {
   "cell_type": "code",
   "execution_count": 32,
   "id": "a668d454",
   "metadata": {},
   "outputs": [
    {
     "name": "stdout",
     "output_type": "stream",
     "text": [
      "    \u001b[93mcontent\u001b[0m: \"\"\n",
      "    \u001b[93madditional_kwargs\u001b[0m:\n",
      "        \u001b[94mtool_calls\u001b[0m:\n",
      "            \u001b[94mindex [0]\u001b[0m\n",
      "                \u001b[92mid\u001b[0m: \"call_6GdSSJua0PzlGTQ5jCXve1LD\"\n",
      "                \u001b[92mfunction\u001b[0m: {\"arguments\": \"{\"query\":\"LangGraph learning materials\"}\", \"name\": \"tavily_search_results_json\"}\n",
      "                \u001b[92mtype\u001b[0m: \"function\"\n",
      "        \u001b[94mrefusal\u001b[0m: None\n",
      "    \u001b[93mresponse_metadata\u001b[0m:\n",
      "        \u001b[94mtoken_usage\u001b[0m:\n",
      "            \u001b[95mcompletion_tokens\u001b[0m: 22\n",
      "            \u001b[95mprompt_tokens\u001b[0m: 93\n",
      "            \u001b[95mtotal_tokens\u001b[0m: 115\n",
      "            \u001b[95mcompletion_tokens_details\u001b[0m: {\"accepted_prediction_tokens\": 0, \"audio_tokens\": 0, \"reasoning_tokens\": 0, \"rejected_prediction_tokens\": 0}\n",
      "            \u001b[95mprompt_tokens_details\u001b[0m: {\"audio_tokens\": 0, \"cached_tokens\": 0}\n",
      "        \u001b[94mmodel_name\u001b[0m: \"gpt-4o-mini-2024-07-18\"\n",
      "        \u001b[94msystem_fingerprint\u001b[0m: \"fp_72ed7ab54c\"\n",
      "        \u001b[94mfinish_reason\u001b[0m: \"tool_calls\"\n",
      "        \u001b[94mlogprobs\u001b[0m: None\n",
      "    \u001b[93mtype\u001b[0m: \"ai\"\n",
      "    \u001b[93mname\u001b[0m: None\n",
      "    \u001b[93mid\u001b[0m: \"run-21c9fdd0-14ca-4d90-9c3b-273822d7db84-0\"\n",
      "    \u001b[93mexample\u001b[0m: False\n",
      "    \u001b[93mtool_calls\u001b[0m:\n",
      "        \u001b[93mindex [0]\u001b[0m\n",
      "            \u001b[95mname\u001b[0m: \"tavily_search_results_json\"\n",
      "            \u001b[95margs\u001b[0m: {\"query\": \"LangGraph learning materials\"}\n",
      "            \u001b[95mid\u001b[0m: \"call_6GdSSJua0PzlGTQ5jCXve1LD\"\n",
      "            \u001b[95mtype\u001b[0m: \"tool_call\"\n",
      "    \u001b[93minvalid_tool_calls\u001b[0m:\n",
      "    \u001b[93musage_metadata\u001b[0m:\n",
      "        \u001b[94minput_tokens\u001b[0m: 93\n",
      "        \u001b[94moutput_tokens\u001b[0m: 22\n",
      "        \u001b[94mtotal_tokens\u001b[0m: 115\n",
      "        \u001b[94minput_token_details\u001b[0m: {\"audio\": 0, \"cache_read\": 0}\n",
      "        \u001b[94moutput_token_details\u001b[0m: {\"audio\": 0, \"reasoning\": 0}\n"
     ]
    }
   ],
   "source": [
    "from langchain_opentutorial.messages import display_message_tree\n",
    "\n",
    "# Get the selected message\n",
    "existing_message = to_replay_state.values[\"messages\"][-1]\n",
    "\n",
    "# Print the message tree\n",
    "display_message_tree(existing_message)"
   ]
  },
  {
   "cell_type": "markdown",
   "id": "770063e4",
   "metadata": {},
   "source": [
    "Check if the search query has been updated."
   ]
  },
  {
   "cell_type": "code",
   "execution_count": 33,
   "id": "7dbc1f15",
   "metadata": {},
   "outputs": [
    {
     "data": {
      "text/plain": [
       "{'name': 'tavily_search_results_json',\n",
       " 'args': {'query': 'LangGraph human-in-the-loop workflow site:reddit.com'},\n",
       " 'id': 'call_6GdSSJua0PzlGTQ5jCXve1LD',\n",
       " 'type': 'tool_call'}"
      ]
     },
     "execution_count": 33,
     "metadata": {},
     "output_type": "execute_result"
    }
   ],
   "source": [
    "tool_call = existing_message.tool_calls[0].copy()\n",
    "tool_call[\"args\"] = {\"query\": \"LangGraph human-in-the-loop workflow site:reddit.com\"}\n",
    "tool_call"
   ]
  },
  {
   "cell_type": "markdown",
   "id": "20a66f6d",
   "metadata": {},
   "source": [
    "Create an updated AIMessage."
   ]
  },
  {
   "cell_type": "code",
   "execution_count": 34,
   "id": "2656f8db",
   "metadata": {},
   "outputs": [
    {
     "data": {
      "text/plain": [
       "{'query': 'LangGraph human-in-the-loop workflow site:reddit.com'}"
      ]
     },
     "execution_count": 34,
     "metadata": {},
     "output_type": "execute_result"
    }
   ],
   "source": [
    "# Create an updated AIMessage\n",
    "new_message = AIMessage(\n",
    "    content=existing_message.content,\n",
    "    tool_calls=[tool_call],\n",
    "    # Important! ID is a method to replace the message instead of adding it to the state.\n",
    "    id=existing_message.id,\n",
    ")\n",
    "\n",
    "# Print the updated message\n",
    "new_message.tool_calls[0][\"args\"]"
   ]
  },
  {
   "cell_type": "markdown",
   "id": "13751a91",
   "metadata": {},
   "source": [
    "Below is the message before the update."
   ]
  },
  {
   "cell_type": "code",
   "execution_count": 35,
   "id": "27eb7447",
   "metadata": {},
   "outputs": [
    {
     "data": {
      "text/plain": [
       "[{'name': 'tavily_search_results_json',\n",
       "  'args': {'query': 'LangGraph learning materials'},\n",
       "  'id': 'call_6GdSSJua0PzlGTQ5jCXve1LD',\n",
       "  'type': 'tool_call'}]"
      ]
     },
     "execution_count": 35,
     "metadata": {},
     "output_type": "execute_result"
    }
   ],
   "source": [
    "# Check the message before the update\n",
    "graph.get_state(to_replay_state.config).values[\"messages\"][-1].tool_calls"
   ]
  },
  {
   "cell_type": "markdown",
   "id": "cabf5572",
   "metadata": {},
   "source": [
    "Use the `update_state` method in `graph` to update the state. \n",
    "\n",
    "Save the updated state to `updated_state`."
   ]
  },
  {
   "cell_type": "code",
   "execution_count": 36,
   "id": "41a6e114",
   "metadata": {},
   "outputs": [
    {
     "data": {
      "text/plain": [
       "{'configurable': {'thread_id': 'f08cd5',\n",
       "  'checkpoint_ns': '',\n",
       "  'checkpoint_id': '1efd8c9f-c4e8-6a70-8002-83185f6b4785'}}"
      ]
     },
     "execution_count": 36,
     "metadata": {},
     "output_type": "execute_result"
    }
   ],
   "source": [
    "# Update the state\n",
    "updated_state = graph.update_state(\n",
    "    to_replay_state.config,\n",
    "    {\"messages\": [new_message]},\n",
    ")\n",
    "updated_state"
   ]
  },
  {
   "cell_type": "markdown",
   "id": "9036c5e4",
   "metadata": {},
   "source": [
    "Now, stream the updated state. Here, the input is `None` to replay."
   ]
  },
  {
   "cell_type": "code",
   "execution_count": 37,
   "id": "fe04786b",
   "metadata": {},
   "outputs": [
    {
     "name": "stdout",
     "output_type": "stream",
     "text": [
      "==================================\u001b[1m Ai Message \u001b[0m==================================\n",
      "Tool Calls:\n",
      "  tavily_search_results_json (call_6GdSSJua0PzlGTQ5jCXve1LD)\n",
      " Call ID: call_6GdSSJua0PzlGTQ5jCXve1LD\n",
      "  Args:\n",
      "    query: LangGraph human-in-the-loop workflow site:reddit.com\n",
      "=================================\u001b[1m Tool Message \u001b[0m=================================\n",
      "Name: tavily_search_results_json\n",
      "\n",
      "[{\"url\": \"https://www.reddit.com/r/LangChain/comments/1bjnmu4/human_intervention_in_agent_workflows/\", \"content\": \"When building LLM workflows with LangChain/LangGraph what's the best way to build a node in the workflow where a human can validate/approve/reject a flow? I know there is a Human-in-the-loop component in LangGraph that will prompt the user for input. But what if I'm not creating a user-initiated chat conversation, but a flow that reacts to e.g\"}, {\"url\": \"https://www.reddit.com/r/LangChain/comments/1bsblmu/langgraph_workflow_for_quality_assurance/\", \"content\": \"Get app Get the Reddit app Log In Log in to Reddit Get the Reddit app I've been working on a concept to automate the Quality Assurance (QA) process for complex legal documents using LangGraph, aiming to streamline the workflow, reduce manual effort, and improve compliance efficiency. Handling specific parts of the QA process using AI rather human reviews, from initial document submission to final approval. Policy Compliance Checker Node (PCCN): Checks documents against policy rules. Quality Assurance Node (QAN): Final review to ensure document quality. Has anyone automated a Quality Assurance process with langchain/graph? Communities Best of Reddit Topics Reddit, Inc. Password New to Reddit? Enter the 6-digit code from your authenticator app Use a code from an authenticator app Password Password Choose a Reddit account to continue\"}, {\"url\": \"https://www.reddit.com/r/LangChain/comments/1cvavh7/example_of_a_chatless_agentic_workflow_that_keeps/\", \"content\": \"Reddit - Dive into anything r/LangChain A chip A close button Get app Get the Reddit app Log In Log in to Reddit Log In / Sign Up Advertise on Reddit Shop Collectible Avatars Get the Reddit app Go to LangChain r/LangChain r/LangChain Communities Best of Reddit Topics Reddit, Inc. Password New to Reddit? Enter the 6-digit code from your authenticator app Check code Use a code from an authenticator app Check code Reddit is anonymous, so your username is what you’ll go by here. Password Reddit is anonymous, so your username is what you’ll go by here. Password Enter your email address or username and we’ll send you a link to reset your password Choose a Reddit account to continue\"}]\n",
      "==================================\u001b[1m Ai Message \u001b[0m==================================\n",
      "Tool Calls:\n",
      "  tavily_search_results_json (call_QiaBP9WE64FTVBKRjCnEtMPx)\n",
      " Call ID: call_QiaBP9WE64FTVBKRjCnEtMPx\n",
      "  Args:\n",
      "    query: LangGraph tutorials and documentation\n",
      "=================================\u001b[1m Tool Message \u001b[0m=================================\n",
      "Name: tavily_search_results_json\n",
      "\n",
      "[{\"url\": \"https://langchain-ai.github.io/langgraph/\", \"content\": \"Documentation¶ Tutorials: Learn to build with LangGraph through guided examples. How-to Guides: Accomplish specific things within LangGraph, from streaming, to adding memory & persistence, to common design patterns (branching, subgraphs, etc.), these are the place to go if you want to copy and run a specific code snippet.\"}, {\"url\": \"https://langchain-ai.github.io/langgraph/tutorials/\", \"content\": \"Tutorials¶. New to LangGraph or LLM app development? Read this material to get up and running building your first applications. Get Started 🚀¶. LangGraph Quickstart: Build a chatbot that can use tools and keep track of conversation history.Add human-in-the-loop capabilities and explore how time-travel works.\"}, {\"url\": \"https://github.com/langchain-ai/langgraph/blob/main/docs/docs/tutorials/index.md\", \"content\": \"langgraph/docs/docs/tutorials/index.md at main · langchain-ai/langgraph · GitHub GitHub Copilot Write better code with AI GitHub Copilot Enterprise-grade AI features Search code, repositories, users, issues, pull requests... These notebooks introduce LangGraph through building various language agents and applications. Learn the basics of LangGraph through a comprehensive quick start in which you will build an agent from scratch. Agentic RAG Language Agent Tree Search: Use reflection and rewards to drive a tree search over agents Agent-based: Evaluate chatbots via simulated user interactions Web Navigation: Build an agent that can navigate and interact with websites Competitive Programming: Build an agent with few-shot \\\"episodic memory\\\" and human-in-the-loop collaboration to solve problems from the USA Computing Olympiad; adapted from the \\\"Can Language Models Solve Olympiad Programming?\\\" paper by Shi, Tang, Narasimhan, and Yao. Complex data extraction: Build an agent that can use function calling to do complex extraction tasks\"}]\n",
      "==================================\u001b[1m Ai Message \u001b[0m==================================\n",
      "\n",
      "Here are some useful materials to help you learn about LangGraph:\n",
      "\n",
      "### Documentation and Tutorials:\n",
      "1. **[LangGraph Documentation](https://langchain-ai.github.io/langgraph/)**: This is the official documentation where you can find tutorials, how-to guides, and specific information about using LangGraph. It covers various topics including streaming, adding memory, persistence, and design patterns.\n",
      "  \n",
      "2. **[LangGraph Quickstart](https://langchain-ai.github.io/langgraph/tutorials/)**: This tutorial is aimed at beginners and will guide you through building your first applications with LangGraph, including a chatbot that utilizes tools and maintains conversation history.\n",
      "\n",
      "3. **[GitHub Tutorials](https://github.com/langchain-ai/langgraph/blob/main/docs/docs/tutorials/index.md)**: This GitHub page provides notebooks that introduce LangGraph through building various language agents and applications. It includes projects like agent-based evaluations and complex data extraction.\n",
      "\n",
      "### Community Discussions:\n",
      "1. **[Human Intervention in Agent Workflows](https://www.reddit.com/r/LangChain/comments/1bjnmu4/human_intervention_in_agent_workflows/)**: This Reddit discussion focuses on incorporating human-in-the-loop components in workflows using LangGraph, which could provide insights into practical applications.\n",
      "\n",
      "2. **[Quality Assurance Automation](https://www.reddit.com/r/LangChain/comments/1bsblmu/langgraph_workflow_for_quality_assurance/)**: A discussion about automating the Quality Assurance process for legal documents using LangGraph. This could give you ideas on using LangGraph in specific application scenarios.\n",
      "\n",
      "These resources should provide you with a comprehensive understanding and practical insights into LangGraph. Happy learning!\n"
     ]
    }
   ],
   "source": [
    "# Pass the `updated_state` to the config. This involves passing an arbitrarily updated state.\n",
    "for event in graph.stream(None, updated_state, stream_mode=\"values\"):\n",
    "    # If the message is included in the event\n",
    "    if \"messages\" in event:\n",
    "        # display the last message\n",
    "        event[\"messages\"][-1].pretty_print()"
   ]
  },
  {
   "cell_type": "markdown",
   "id": "c8dedf06",
   "metadata": {},
   "source": [
    "Output the final result.\n",
    "\n",
    "The `config` used here is not to retrieve the final state but serves as the initial `config` to obtain the final state."
   ]
  },
  {
   "cell_type": "code",
   "execution_count": 38,
   "id": "24d3e865",
   "metadata": {},
   "outputs": [
    {
     "name": "stdout",
     "output_type": "stream",
     "text": [
      "================================\u001b[1m Human Message \u001b[0m=================================\n",
      "\n",
      "I want to learn about LangGraph. Can you recommend useful materials?\n",
      "==================================\u001b[1m Ai Message \u001b[0m==================================\n",
      "Tool Calls:\n",
      "  tavily_search_results_json (call_6GdSSJua0PzlGTQ5jCXve1LD)\n",
      " Call ID: call_6GdSSJua0PzlGTQ5jCXve1LD\n",
      "  Args:\n",
      "    query: LangGraph human-in-the-loop workflow site:reddit.com\n",
      "=================================\u001b[1m Tool Message \u001b[0m=================================\n",
      "Name: tavily_search_results_json\n",
      "\n",
      "[{\"url\": \"https://www.reddit.com/r/LangChain/comments/1bjnmu4/human_intervention_in_agent_workflows/\", \"content\": \"When building LLM workflows with LangChain/LangGraph what's the best way to build a node in the workflow where a human can validate/approve/reject a flow? I know there is a Human-in-the-loop component in LangGraph that will prompt the user for input. But what if I'm not creating a user-initiated chat conversation, but a flow that reacts to e.g\"}, {\"url\": \"https://www.reddit.com/r/LangChain/comments/1bsblmu/langgraph_workflow_for_quality_assurance/\", \"content\": \"Get app Get the Reddit app Log In Log in to Reddit Get the Reddit app I've been working on a concept to automate the Quality Assurance (QA) process for complex legal documents using LangGraph, aiming to streamline the workflow, reduce manual effort, and improve compliance efficiency. Handling specific parts of the QA process using AI rather human reviews, from initial document submission to final approval. Policy Compliance Checker Node (PCCN): Checks documents against policy rules. Quality Assurance Node (QAN): Final review to ensure document quality. Has anyone automated a Quality Assurance process with langchain/graph? Communities Best of Reddit Topics Reddit, Inc. Password New to Reddit? Enter the 6-digit code from your authenticator app Use a code from an authenticator app Password Password Choose a Reddit account to continue\"}, {\"url\": \"https://www.reddit.com/r/LangChain/comments/1cvavh7/example_of_a_chatless_agentic_workflow_that_keeps/\", \"content\": \"Reddit - Dive into anything r/LangChain A chip A close button Get app Get the Reddit app Log In Log in to Reddit Log In / Sign Up Advertise on Reddit Shop Collectible Avatars Get the Reddit app Go to LangChain r/LangChain r/LangChain Communities Best of Reddit Topics Reddit, Inc. Password New to Reddit? Enter the 6-digit code from your authenticator app Check code Use a code from an authenticator app Check code Reddit is anonymous, so your username is what you’ll go by here. Password Reddit is anonymous, so your username is what you’ll go by here. Password Enter your email address or username and we’ll send you a link to reset your password Choose a Reddit account to continue\"}]\n",
      "==================================\u001b[1m Ai Message \u001b[0m==================================\n",
      "Tool Calls:\n",
      "  tavily_search_results_json (call_QiaBP9WE64FTVBKRjCnEtMPx)\n",
      " Call ID: call_QiaBP9WE64FTVBKRjCnEtMPx\n",
      "  Args:\n",
      "    query: LangGraph tutorials and documentation\n",
      "=================================\u001b[1m Tool Message \u001b[0m=================================\n",
      "Name: tavily_search_results_json\n",
      "\n",
      "[{\"url\": \"https://langchain-ai.github.io/langgraph/\", \"content\": \"Documentation¶ Tutorials: Learn to build with LangGraph through guided examples. How-to Guides: Accomplish specific things within LangGraph, from streaming, to adding memory & persistence, to common design patterns (branching, subgraphs, etc.), these are the place to go if you want to copy and run a specific code snippet.\"}, {\"url\": \"https://langchain-ai.github.io/langgraph/tutorials/\", \"content\": \"Tutorials¶. New to LangGraph or LLM app development? Read this material to get up and running building your first applications. Get Started 🚀¶. LangGraph Quickstart: Build a chatbot that can use tools and keep track of conversation history.Add human-in-the-loop capabilities and explore how time-travel works.\"}, {\"url\": \"https://github.com/langchain-ai/langgraph/blob/main/docs/docs/tutorials/index.md\", \"content\": \"langgraph/docs/docs/tutorials/index.md at main · langchain-ai/langgraph · GitHub GitHub Copilot Write better code with AI GitHub Copilot Enterprise-grade AI features Search code, repositories, users, issues, pull requests... These notebooks introduce LangGraph through building various language agents and applications. Learn the basics of LangGraph through a comprehensive quick start in which you will build an agent from scratch. Agentic RAG Language Agent Tree Search: Use reflection and rewards to drive a tree search over agents Agent-based: Evaluate chatbots via simulated user interactions Web Navigation: Build an agent that can navigate and interact with websites Competitive Programming: Build an agent with few-shot \\\"episodic memory\\\" and human-in-the-loop collaboration to solve problems from the USA Computing Olympiad; adapted from the \\\"Can Language Models Solve Olympiad Programming?\\\" paper by Shi, Tang, Narasimhan, and Yao. Complex data extraction: Build an agent that can use function calling to do complex extraction tasks\"}]\n",
      "==================================\u001b[1m Ai Message \u001b[0m==================================\n",
      "\n",
      "Here are some useful materials to help you learn about LangGraph:\n",
      "\n",
      "### Documentation and Tutorials:\n",
      "1. **[LangGraph Documentation](https://langchain-ai.github.io/langgraph/)**: This is the official documentation where you can find tutorials, how-to guides, and specific information about using LangGraph. It covers various topics including streaming, adding memory, persistence, and design patterns.\n",
      "  \n",
      "2. **[LangGraph Quickstart](https://langchain-ai.github.io/langgraph/tutorials/)**: This tutorial is aimed at beginners and will guide you through building your first applications with LangGraph, including a chatbot that utilizes tools and maintains conversation history.\n",
      "\n",
      "3. **[GitHub Tutorials](https://github.com/langchain-ai/langgraph/blob/main/docs/docs/tutorials/index.md)**: This GitHub page provides notebooks that introduce LangGraph through building various language agents and applications. It includes projects like agent-based evaluations and complex data extraction.\n",
      "\n",
      "### Community Discussions:\n",
      "1. **[Human Intervention in Agent Workflows](https://www.reddit.com/r/LangChain/comments/1bjnmu4/human_intervention_in_agent_workflows/)**: This Reddit discussion focuses on incorporating human-in-the-loop components in workflows using LangGraph, which could provide insights into practical applications.\n",
      "\n",
      "2. **[Quality Assurance Automation](https://www.reddit.com/r/LangChain/comments/1bsblmu/langgraph_workflow_for_quality_assurance/)**: A discussion about automating the Quality Assurance process for legal documents using LangGraph. This could give you ideas on using LangGraph in specific application scenarios.\n",
      "\n",
      "These resources should provide you with a comprehensive understanding and practical insights into LangGraph. Happy learning!\n"
     ]
    }
   ],
   "source": [
    "# Output the final result\n",
    "for msg in graph.get_state(config).values[\"messages\"]:\n",
    "    msg.pretty_print()"
   ]
  }
 ],
 "metadata": {
  "kernelspec": {
   "display_name": "langchain-kr-lwwSZlnu-py3.11",
   "language": "python",
   "name": "python3"
  },
  "language_info": {
   "codemirror_mode": {
    "name": "ipython",
    "version": 3
   },
   "file_extension": ".py",
   "mimetype": "text/x-python",
   "name": "python",
   "nbconvert_exporter": "python",
   "pygments_lexer": "ipython3",
   "version": "3.10.9"
  }
 },
 "nbformat": 4,
 "nbformat_minor": 5
}
