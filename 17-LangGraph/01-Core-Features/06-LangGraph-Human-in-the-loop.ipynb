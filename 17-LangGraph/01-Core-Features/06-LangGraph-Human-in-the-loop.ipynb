{
  "cells": [
    {
      "cell_type": "markdown",
      "id": "635d8ebb",
      "metadata": {},
      "source": [
        "# Human-in-the-loop\n",
        "\n",
        "- Author: [Jaemin Hong](https://github.com/geminii01)\n",
        "- Peer Review: [Hye-yoon Jeong](https://github.com/Hye-yoonJeong), [JeongHo Shin](https://github.com/ThePurpleCollar), [Chaeyoon Kim](https://github.com/chaeyoonyunakim)\n",
        "- This is a part of [LangChain Open Tutorial](https://github.com/LangChain-OpenTutorial/LangChain-OpenTutorial)\n",
        "\n",
        "[![Open in Colab](https://colab.research.google.com/assets/colab-badge.svg)](https://colab.research.google.com/github/LangChain-OpenTutorial/LangChain-OpenTutorial/blob/main/17-LangGraph/01-Core-Features/06-LangGraph-Human-in-the-loop.ipynb) [![Open in GitHub](https://img.shields.io/badge/Open%20in%20GitHub-181717?style=flat-square&logo=github&logoColor=white)](https://github.com/LangChain-OpenTutorial/LangChain-OpenTutorial/blob/main/17-LangGraph/01-Core-Features/06-LangGraph-Human-in-the-loop.ipynb)\n",
        "\n",
        "## Overview\n",
        "\n",
        "This tutorial covers **Human in the loop** .\n",
        "\n",
        "Agents are not always reliable, and human intervention may be required to ensure tasks are executed successfully. \n",
        "\n",
        "In some cases, you might want human approval before proceeding to confirm that everything is functioning as intended. LangGraph supports these **Human-in-the-loop** workflows. \n",
        "\n",
        "In this tutorial, you'll learn how to use LangGraph's `interrupt_before` feature to pause execution, enabling human oversight and control.\n",
        "\n",
        "### Table of Contents\n",
        "\n",
        "- [Overview](#overview)\n",
        "- [Environment Setup](#environment-setup)\n",
        "- [Function Setup](#function-setup)\n",
        "- [Graph Setup](#graph-setup)\n",
        "- [Adding Human Feedback](#adding-human-feedback)\n",
        "\n",
        "### References\n",
        "\n",
        "- [Tutorials > Quick Start > Human-in-the-loop](https://langchain-ai.github.io/langgraph/tutorials/introduction/#part-4-human-in-the-loop)\n",
        "- [Concepts > LangGraph > Human-in-the-loop](https://langchain-ai.github.io/langgraph/concepts/human_in_the_loop/)\n",
        "----"
      ]
    },
    {
      "cell_type": "markdown",
      "id": "c6c7aba4",
      "metadata": {},
      "source": [
        "## Environment Setup\n",
        "\n",
        "Set up the environment. You may refer to [Environment Setup](https://wikidocs.net/257836) for more details.\n",
        "\n",
        "**[Note]**\n",
        "- `langchain-opentutorial` is a package that provides a set of easy-to-use environment setup, useful functions and utilities for tutorials. \n",
        "- You can checkout the [`langchain-opentutorial`](https://github.com/LangChain-OpenTutorial/langchain-opentutorial-pypi) for more details."
      ]
    },
    {
      "cell_type": "code",
      "execution_count": 1,
      "id": "21943adb",
      "metadata": {},
      "outputs": [],
      "source": [
        "%%capture --no-stderr\n",
        "%pip install langchain-opentutorial"
      ]
    },
    {
      "cell_type": "code",
      "execution_count": 2,
      "id": "f25ec196",
      "metadata": {},
      "outputs": [],
      "source": [
        "# Install required packages\n",
        "from langchain_opentutorial import package\n",
        "\n",
        "package.install(\n",
        "    [\n",
        "        \"langsmith\",\n",
        "        \"langgraph\",\n",
        "        \"langchain_core\",\n",
        "        \"langchain_openai\",\n",
        "    ],\n",
        "    verbose=False,\n",
        "    upgrade=False,\n",
        ")"
      ]
    },
    {
      "cell_type": "code",
      "execution_count": 3,
      "id": "7f9065ea",
      "metadata": {},
      "outputs": [
        {
          "name": "stdout",
          "output_type": "stream",
          "text": [
            "Environment variables have been set successfully.\n"
          ]
        }
      ],
      "source": [
        "# Set environment variables\n",
        "from langchain_opentutorial import set_env\n",
        "\n",
        "set_env(\n",
        "    {\n",
        "        \"OPENAI_API_KEY\": \"\",\n",
        "        \"LANGCHAIN_API_KEY\": \"\",\n",
        "        \"LANGCHAIN_TRACING_V2\": \"true\",\n",
        "        \"LANGCHAIN_ENDPOINT\": \"https://api.smith.langchain.com\",\n",
        "        \"LANGCHAIN_PROJECT\": \"06-LangGraph-Human-in-the-loop\",\n",
        "    }\n",
        ")"
      ]
    },
    {
      "cell_type": "markdown",
      "id": "690a9ae0",
      "metadata": {},
      "source": [
        "You can alternatively set API keys such as `OPENAI_API_KEY` in a `.env` file and load them.\n",
        "\n",
        "[Note] This is not necessary if you've already set the required API keys in previous steps."
      ]
    },
    {
      "cell_type": "code",
      "execution_count": 4,
      "id": "4f99b5b6",
      "metadata": {},
      "outputs": [
        {
          "data": {
            "text/plain": [
              "True"
            ]
          },
          "execution_count": 4,
          "metadata": {},
          "output_type": "execute_result"
        }
      ],
      "source": [
        "# Load API keys from .env file\n",
        "from dotenv import load_dotenv\n",
        "\n",
        "load_dotenv(override=True)"
      ]
    },
    {
      "cell_type": "markdown",
      "id": "c61acea8",
      "metadata": {},
      "source": [
        "## Function Setup\n",
        "\n",
        "Convenient functions for smooth execution."
      ]
    },
    {
      "cell_type": "code",
      "execution_count": 5,
      "id": "323d6d97",
      "metadata": {},
      "outputs": [],
      "source": [
        "import feedparser\n",
        "from urllib.parse import quote\n",
        "from typing import List, Dict, Optional\n",
        "\n",
        "\n",
        "class GoogleNews:\n",
        "    \"\"\"\n",
        "    A class to search Google News.\n",
        "    \"\"\"\n",
        "\n",
        "    def __init__(self):\n",
        "        \"\"\"\n",
        "        Initializes the base URL.\n",
        "        \"\"\"\n",
        "        self.base_url = \"https://news.google.com/rss\"\n",
        "\n",
        "    def _fetch_news(self, url: str, k: int = 3) -> List[Dict[str, str]]:\n",
        "        \"\"\"\n",
        "        Fetches news from the given URL.\n",
        "        \"\"\"\n",
        "        news_data = feedparser.parse(url)\n",
        "        return [\n",
        "            {\"title\": entry.title, \"link\": entry.link}\n",
        "            for entry in news_data.entries[:k]\n",
        "        ]\n",
        "\n",
        "    def _collect_news(self, news_list: List[Dict[str, str]]) -> List[Dict[str, str]]:\n",
        "        \"\"\"\n",
        "        Organizes and returns the news list.\n",
        "        \"\"\"\n",
        "        if not news_list:\n",
        "            print(\"No news found for the given keyword.\")\n",
        "            return []\n",
        "\n",
        "        result = []\n",
        "        for news in news_list:\n",
        "            result.append({\"url\": news[\"link\"], \"content\": news[\"title\"]})\n",
        "\n",
        "        return result\n",
        "\n",
        "    def search_latest(self, k: int = 3) -> List[Dict[str, str]]:\n",
        "        \"\"\"\n",
        "        Searches for the latest news.\n",
        "        \"\"\"\n",
        "        url = f\"{self.base_url}?hl=en&gl=US&ceid=US:en\"\n",
        "        news_list = self._fetch_news(url, k)\n",
        "        return self._collect_news(news_list)\n",
        "\n",
        "    def search_by_keyword(\n",
        "        self, keyword: Optional[str] = None, k: int = 3\n",
        "    ) -> List[Dict[str, str]]:\n",
        "        \"\"\"\n",
        "        Searches for news by keyword.\n",
        "        \"\"\"\n",
        "        if keyword:\n",
        "            encoded_keyword = quote(keyword)\n",
        "            url = f\"{self.base_url}/search?q={encoded_keyword}&hl=en&gl=US&ceid=US:en\"\n",
        "        else:\n",
        "            url = f\"{self.base_url}?hl=en&gl=US&ceid=US:en\"\n",
        "        news_list = self._fetch_news(url, k)\n",
        "        return self._collect_news(news_list)"
      ]
    },
    {
      "cell_type": "code",
      "execution_count": 6,
      "id": "5ee82bae",
      "metadata": {},
      "outputs": [],
      "source": [
        "from langchain_core.messages import BaseMessage\n",
        "\n",
        "\n",
        "def pretty_print_messages(messages: list[BaseMessage]):\n",
        "    for message in messages:\n",
        "        message.pretty_print()"
      ]
    },
    {
      "cell_type": "markdown",
      "id": "07f6664a",
      "metadata": {},
      "source": [
        "## Graph Setup\n",
        "\n",
        "This setup initializes a graph-based workflow for a chatbot, defining the state, tools, and nodes while establishing edges and a memory saver for persistent interactions."
      ]
    },
    {
      "cell_type": "code",
      "execution_count": 8,
      "id": "c52807f7",
      "metadata": {},
      "outputs": [],
      "source": [
        "from typing import Annotated\n",
        "from typing_extensions import TypedDict\n",
        "\n",
        "from langchain_openai import ChatOpenAI\n",
        "from langchain_core.tools import tool\n",
        "\n",
        "from langgraph.checkpoint.memory import MemorySaver\n",
        "from langgraph.graph import StateGraph, START, END\n",
        "from langgraph.graph.message import add_messages\n",
        "from langgraph.prebuilt import ToolNode, tools_condition\n",
        "\n",
        "\n",
        "###### Define the State ######\n",
        "class State(TypedDict):\n",
        "    messages: Annotated[list, add_messages]\n",
        "\n",
        "\n",
        "graph_builder = StateGraph(State)\n",
        "\n",
        "\n",
        "###### Define the tool and binding ######\n",
        "@tool\n",
        "def search_keyword(query: str) -> List[Dict[str, str]]:\n",
        "    \"\"\"\n",
        "    Look up news by keyword.\n",
        "    \"\"\"\n",
        "    news_tool = GoogleNews()\n",
        "    return news_tool.search_by_keyword(query, k=5)\n",
        "\n",
        "\n",
        "tools = [search_keyword]\n",
        "llm = ChatOpenAI(model=\"gpt-4o-mini\")\n",
        "llm_with_tools = llm.bind_tools(tools)\n",
        "\n",
        "\n",
        "###### Add Nodes ######\n",
        "def chatbot(state: State):\n",
        "    \"\"\"\n",
        "    Invoke the message and return the result.\n",
        "    \"\"\"\n",
        "    return {\"messages\": [llm_with_tools.invoke(state[\"messages\"])]}\n",
        "\n",
        "\n",
        "# chatbot node\n",
        "graph_builder.add_node(\"chatbot\", chatbot)\n",
        "\n",
        "# tool node\n",
        "tool_node = ToolNode(tools=tools)\n",
        "graph_builder.add_node(\"tools\", tool_node)\n",
        "\n",
        "# conditional edge\n",
        "graph_builder.add_conditional_edges(\"chatbot\", tools_condition)\n",
        "\n",
        "\n",
        "###### Add Edges ######\n",
        "# tools -> chatbot\n",
        "graph_builder.add_edge(\"tools\", \"chatbot\")\n",
        "\n",
        "# START -> chatbot\n",
        "graph_builder.add_edge(START, \"chatbot\")\n",
        "\n",
        "# chatbot -> END\n",
        "graph_builder.add_edge(\"chatbot\", END)\n",
        "\n",
        "\n",
        "###### Add the MemorySaver ######\n",
        "memory = MemorySaver()"
      ]
    },
    {
      "cell_type": "markdown",
      "id": "8ce03ae7",
      "metadata": {},
      "source": [
        "We compile the graph with a checkpointer."
      ]
    },
    {
      "cell_type": "code",
      "execution_count": 9,
      "id": "fdf7759b",
      "metadata": {},
      "outputs": [],
      "source": [
        "###### Add the interrupt_before ######\n",
        "graph = graph_builder.compile(checkpointer=memory)"
      ]
    },
    {
      "cell_type": "markdown",
      "id": "41c54ff9",
      "metadata": {},
      "source": [
        "Let's visualize the graph!"
      ]
    },
    {
      "cell_type": "code",
      "execution_count": 10,
      "id": "5ae46bba",
      "metadata": {},
      "outputs": [
        {
          "data": {
            "image/png": "[encoded data removed]",
            "text/plain": [
              "<IPython.core.display.Image object>"
            ]
          },
          "metadata": {},
          "output_type": "display_data"
        }
      ],
      "source": [
        "###### Graph Visualization ######\n",
        "from IPython.display import Image, display\n",
        "\n",
        "try:\n",
        "    display(Image(graph.get_graph().draw_mermaid_png()))\n",
        "except Exception:\n",
        "    pass"
      ]
    },
    {
      "cell_type": "markdown",
      "id": "9dc0a002",
      "metadata": {},
      "source": [
        "## Adding Human Feedback\n",
        "\n",
        "Let's now perform **Human-in-the-loop** !"
      ]
    },
    {
      "cell_type": "code",
      "execution_count": 11,
      "id": "3f89a4e8",
      "metadata": {},
      "outputs": [
        {
          "name": "stdout",
          "output_type": "stream",
          "text": [
            "================================\u001b[1m Human Message \u001b[0m=================================\n",
            "\n",
            "Please provide the latest news related to AI.\n",
            "================================\u001b[1m Human Message \u001b[0m=================================\n",
            "\n",
            "Please provide the latest news related to AI.\n",
            "==================================\u001b[1m Ai Message \u001b[0m==================================\n",
            "Tool Calls:\n",
            "  search_keyword (call_JFu8CvoZ7QlIzVnKky1rMgCn)\n",
            " Call ID: call_JFu8CvoZ7QlIzVnKky1rMgCn\n",
            "  Args:\n",
            "    query: AI\n"
          ]
        }
      ],
      "source": [
        "from langchain_core.runnables import RunnableConfig\n",
        "\n",
        "# User input\n",
        "question = \"Please provide the latest news related to AI.\"\n",
        "\n",
        "# Define the initial input State\n",
        "input = State(messages=[(\"user\", question)])\n",
        "\n",
        "# Config settings\n",
        "config = RunnableConfig(\n",
        "    # Visit up to 10 nodes; beyond this, a RecursionError will occur\n",
        "    recursion_limit=10,\n",
        "    # Set thread id\n",
        "    configurable={\"thread_id\": \"1\"},\n",
        "    # Set tags\n",
        "    tags=[\"06-LangGraph-Human-in-the-loop\"],\n",
        ")\n",
        "\n",
        "# Process events in a loop\n",
        "for event in graph.stream(\n",
        "    input=input,\n",
        "    config=config,\n",
        "    stream_mode=\"values\",\n",
        "    # Interrupt before executing the tools (stop before the tools node execution)\n",
        "    interrupt_before=[\"tools\"],\n",
        "):\n",
        "    for key, val in event.items():\n",
        "        # key is the node's name\n",
        "        # print(f\"\\n[{key}]\\n\")\n",
        "\n",
        "        # val(value) is the node's output\n",
        "        pretty_print_messages(val)\n",
        "\n",
        "        # State is stored in dict format within val(value)\n",
        "        if \"messages\" in val:\n",
        "            print(f\"Number of messages: {len(val['messages'])}\")"
      ]
    },
    {
      "cell_type": "markdown",
      "id": "79194529",
      "metadata": {},
      "source": [
        "The chatbot invoked the tool, but its execution was interrupted.\n",
        "\n",
        "Let's check the graph state!"
      ]
    },
    {
      "cell_type": "code",
      "execution_count": 12,
      "id": "86f4bd4d",
      "metadata": {},
      "outputs": [
        {
          "data": {
            "text/plain": [
              "('tools',)"
            ]
          },
          "execution_count": 12,
          "metadata": {},
          "output_type": "execute_result"
        }
      ],
      "source": [
        "# snapshot of the graph state\n",
        "snapshot = graph.get_state(config)\n",
        "snapshot.next"
      ]
    },
    {
      "cell_type": "markdown",
      "id": "486398fd",
      "metadata": {},
      "source": [
        "The reason for the interruption is that we set `tools` in `interrupt_before` while streaming the graph, causing the process to stop before executing the `tools` node. As a result, the next node ( `.next` ) becomes `tools` .\n",
        "\n",
        "Additionally, *in the previous tutorial* , `.next` was empty because the process had reached the final `END` node. However, with the interrupt set, `.next` is now set to `tools` ."
      ]
    },
    {
      "cell_type": "markdown",
      "id": "2d9352b3",
      "metadata": {},
      "source": [
        "Now, let's check the last message in the snapshot!"
      ]
    },
    {
      "cell_type": "code",
      "execution_count": 13,
      "id": "59aa479f",
      "metadata": {},
      "outputs": [
        {
          "data": {
            "text/plain": [
              "[{'name': 'search_keyword',\n",
              "  'args': {'query': 'AI'},\n",
              "  'id': 'call_JFu8CvoZ7QlIzVnKky1rMgCn',\n",
              "  'type': 'tool_call'}]"
            ]
          },
          "execution_count": 13,
          "metadata": {},
          "output_type": "execute_result"
        }
      ],
      "source": [
        "existing_message = snapshot.values[\"messages\"][-1]\n",
        "existing_message.tool_calls"
      ]
    },
    {
      "cell_type": "markdown",
      "id": "a36482dd",
      "metadata": {},
      "source": [
        "Next, let's resume the graph from the point where it was interrupted.\n",
        "\n",
        "**LangGraph** makes it easy to resume graph execution.\n",
        "\n",
        "Simply pass `None` as the `input` ."
      ]
    },
    {
      "cell_type": "code",
      "execution_count": 14,
      "id": "f88e20b3",
      "metadata": {},
      "outputs": [
        {
          "name": "stdout",
          "output_type": "stream",
          "text": [
            "==================================\u001b[1m Ai Message \u001b[0m==================================\n",
            "Tool Calls:\n",
            "  search_keyword (call_JFu8CvoZ7QlIzVnKky1rMgCn)\n",
            " Call ID: call_JFu8CvoZ7QlIzVnKky1rMgCn\n",
            "  Args:\n",
            "    query: AI\n",
            "=================================\u001b[1m Tool Message \u001b[0m=================================\n",
            "Name: search_keyword\n",
            "\n",
            "[{\"url\": \"https://news.google.com/rss/articles/CBMikwFBVV95cUxNcllEYjZmTkNzUGpjenpxZ3N6ZlFOcFAxS2szNm80MWM4dVRSU3YzcGlzU0xrZkI3MEpBR3N2U19lSmdmVnR5R0dhT0U4S1RHR1JWZDlvTXd1MnU1TlNyZlRuYXVpS0cxY1pjckNaQU1URE9IV2kzZm96d2dYRWVUczBrYV9HUklmVDJNOElaTEVNMUHSAYoBQVVfeXFMTkttd0EzSUNJUnR5ak5UYWNfZWhpVHlrZFMxQ095TTVOb2JTX2RLSTZQV2dDNktvbTktR1B4bDBtRlpxUlJhck9mTGgzVDBzMXpTaXR6aEZ2VndnRElvaFNNcGE4VmtwTjdVcXVjYkU2SnlaUGZDSXRRUjZxb3RJSHFFcTZCVWpiaWJB?oc=5\", \"content\": \"Trump announces a $500 billion AI infrastructure investment in the US - CNN\"}, {\"url\": \"https://news.google.com/rss/articles/CBMinAFBVV95cUxOUFlLYjE5VkkyR0F4Vl9JYVVtSDl0Vk5hcHVLZ2h2bUgweE00NFplTFhDLWFBNDNpRlN0OXJiQ1JjSFNadmU2Z1BDaVpPMlYtTnBpS2VnQmR5dE9GZFB1c3hQR0NoNUo3ekpFTmFIWjI4TjdjV1ZrbDJ5LURaZ2s1UDhZSkd4cndaQ2pRRENscjNJc2JXZGZyazRmdDU?oc=5\", \"content\": \"Trump Announces $100 Billion A.I. Initiative - The New York Times\"}, {\"url\": \"https://news.google.com/rss/articles/CBMi1gFBVV95cUxNMXRqZnRNMTk2aGZUdlAydjY3aHktaHhDNkxqZi03MmtqUkp1OXg5YVY5WjdZZ2J0Zk5oY2ZWVW9ZR2tmdElleUhIdnppOHNDdXhYYnJ0RHFHaGJZbnNYTWJOaDJ6c3N0eWpyUTZCUV96NVFEYWlKQVdyZmpfdHFRWGpzNDVuME1XZDE3UnNrX3U1eEVaT0g4YnJFVHNsbFdQSVhpMmFWQmtCT1hib3c4ZHZsa0pxNGNGUTJJZVRSb2tXU3NwdzlCcl93ZnVuUXo3SGhTZ1ZB0gHbAUFVX3lxTFBXUDRJSEh3ZlhVV0xzSzExUFFvTkRlMG1XTmpUeUhHV1lJUUE4ME5tNFR0YXNKd05pc2pSSVZOTm1VbDhMMUxQbnBHbm5QRkRnb0lzWnM2Znk4cFVBendfcVlOdThtNnMyRHpHaXJYUXdxOVBSQXE0OV9QNjN1M2E4QVRaWS1JX2pVcV9qSndMQzFiYXpWVEE1d2s2RFJGZXF4RzFZd192Z2NpQWpfYTlPbENTenBRZm9ZWDV0NUZyYjJQS1d3SFNQQzlNTU1DdjJIUG5ac2RHazgxUQ?oc=5\", \"content\": \"Davos 2025: Trade, tariffs, AI and UN chief Guterres dominate World Economic Forum agenda - The Hill\"}, {\"url\": \"https://news.google.com/rss/articles/CBMilwFBVV95cUxPdXhCRVNEVzZYRGMxdVlwQkc4SXBmUmVUY0drTHQ5ZDk5dUdtdHhkSUJtRWowMG9kZkkzWVBFN2ZoWUFLeEdCUW00aDFmQkNWU0dYR0p4N0RoekxqQ0w3M1pQVU4wNC0yU1JRV3dGeW1hdW5oUEJiVTNKZ2Z5Y3ZSenFldjNpQmVTYjNSSW9tYi14LWx6enZV?oc=5\", \"content\": \"Google rushed to sell AI tools to Israel’s military after Hamas attack - The Washington Post\"}, {\"url\": \"https://news.google.com/rss/articles/CBMiswFBVV95cUxQdG9FV2tjQjZGeVdlQzFkOGZNdkd4bDYzVm1BZnVDT1B1bEc0UUpSWlVYbjdHcnl0bnpJOThhc3NlbGZBZ2tSSGh4RzJtdVVFNmVuLVYtOElxQjRLdnd3R0hoTjdmQmcyd1U4VHFsNWhGY0tTVmJhUkExaWJTQ2ZpVVpXQzd6VGw1TV9MVWxxalMxLWRkWnAwdjV4WG4xMVFTNmR5Nng4WFVxMGZiYkxiU3VVaw?oc=5\", \"content\": \"Trump Pushes to Make US an AI Superpower, With Fewer Guardrails - Bloomberg\"}]\n",
            "==================================\u001b[1m Ai Message \u001b[0m==================================\n",
            "\n",
            "Here are the latest news articles related to AI:\n",
            "\n",
            "1. **Trump announces a $500 billion AI infrastructure investment in the US** - [CNN](https://news.google.com/rss/articles/CBMikwFBVV95cUxNcllEYjZmTkNzUGpjenpxZ3N6ZlFOcFAxS2szNm80MWM4dVRSU3YzcGlzU0xrZkI3MEpBR3N2U19lSmdmVnR5R0dhT0U4S1RHR1JWZDlvTXd1MnU1TlNyZlRuYXVpS0cxY1pjckNaQU1URE9IV2kzZm96d2dYRWVUczBrYV9HUklmVDJNOElaTEVNMUHSAYoBQVVfeXFMTkttd0EzSUNJUnR5ak5UYWNfZWhpVHlrZFMxQ095TTVOb2JTX2RLSTZQV2dDNktvbTktR1B4bDBtRlpxUlJhck9mTGgzVDBzMXpTaXR6aEZ2VndnRElvaFNNcGE4VmtwTjdVcXVjYkU2SnlaUGZDSXRRUjZxb3RJSHFFcTZCVWpiaWJB?oc=5)\n",
            "\n",
            "2. **Trump Announces $100 Billion A.I. Initiative** - [The New York Times](https://news.google.com/rss/articles/CBMinAFBVV95cUxOUFlLYjE5VkkyR0F4Vl9JYVVtSDl0Vk5hcHVLZ2h2bUgweE00NFplTFhDLWFBNDNpRlN0OXJiQ1JjSFNadmU2Z1BDaVpPMlYtTnBpS2VnQmR5dE9GZFB1c3hQR0NoNUo3ekpFTmFIWjI4TjdjV1ZrbDJ5LURaZ2s1UDhZSkd4cwdaQ2pRRENscjNJc2JXZGZyazRmdDU?oc=5)\n",
            "\n",
            "3. **Davos 2025: Trade, tariffs, AI and UN chief Guterres dominate World Economic Forum agenda** - [The Hill](https://news.google.com/rss/articles/CBMi1gFBVV95cUxNMXRqZnRNMTk2aGZUdlAydjY3aHktaHhDNkxqZi03MmtqUkp1OXg5YVY5WjdZZ2J0Zk5oY2ZWVW9ZR2tmdElleUhIdnppOHNDdXhYYnJ0RHFHaGJZbnNYTWJOaDJ6c3N0eWpyUTZCUV96NVFEYWlKQVdyZmpfdHFRWGpzNDVuME1XZDE3UnNrX3U1eEVaT0g4YnJFVHNsbFdQSVhpMmFWQmtCT1hib3c4ZHZsa0pxNGNGUTJJZVRSb2tXU3NwdzlCcl93ZnVuUXo3SGhTZ1ZB0gHbAUFVX3lxTFBXUDRJSEh3ZlhVV0xzSzExUFFvTkRlMG1XTmpUeUhHV1lJUUE4ME5tNFR0YXNKd05pc2pSSVZOTm1VbDhMMUxQbnBHbm5QRkRnb0lzWnM2Znk4cFVBendfcVlOdThtNnMyRHpHaXJYUXdxOVBSQXE0OV9QNjN1M2E4QVRaWS1JX2pVcV9qSndMQzFiYXpWVEE1d2s2RFJGZXF4RzFZd192Z2NpQWpfYTlPbENTenBRZm9ZWDV0NUZyYjJQS1d3SFNQQzlNTU1DdjJIUG5ac2RHazgxUQ?oc=5)\n",
            "\n",
            "4. **Google rushed to sell AI tools to Israel’s military after Hamas attack** - [The Washington Post](https://news.google.com/rss/articles/CBMilwFBVV95cUxPdXhCRVNEVzZYRGMxdVlwQkc4SXBmUmVUY0drTHQ5ZDk5dUdtdHhkSUJtRWowMG9kZkkzWVBFN2ZoWUFLeEdCUW00aDFmQkNWU0dYR0p4N0RoekxqQ0w3M1pQVU4wNC0yU1JRV3dGeW1hdW5oUEJiVTNKZ2Z5Y3ZSenFldjNpQmVTYjNSSW9tYi14LWx6enZV?oc=5)\n",
            "\n",
            "5. **Trump Pushes to Make US an AI Superpower, With Fewer Guardrails** - [Bloomberg](https://news.google.com/rss/articles/CBMiswFBVV95cUxQdG9FV2tjQjZGeVdlQzFkOGZNdkd4bDYzVm1BZnVDT1B1bEc0UUpSWlVYbjdHcnl0bnpJOThhc3NlbGZBZ2tSSGh4RzJtdVVFNmVuLVYtOElxQjRLdnd3R0hoTjdmQmcyd1U4VHFsNWhGY0tTVmJhUkExaWJTQ2ZpVVpXQzd6VGw1TV9MVWxxalMxLWRkWnAwdjV4WG4xMVFTNmR5Nng4WFVxMGZiYkxiU3VVaw?oc=5)\n",
            "\n",
            "Feel free to check the articles for more detailed information!\n"
          ]
        }
      ],
      "source": [
        "events = graph.stream(\n",
        "    input=None,  # Do not add anything to the current State\n",
        "    config=config,\n",
        "    stream_mode=\"values\",\n",
        ")\n",
        "\n",
        "# Process events in a loop\n",
        "for event in events:\n",
        "    if \"messages\" in event:\n",
        "        # Print the last message\n",
        "        event[\"messages\"][-1].pretty_print()"
      ]
    },
    {
      "cell_type": "markdown",
      "id": "56c4b22e",
      "metadata": {},
      "source": [
        "We used **interrupt** to enable **human intervention** in the chatbot's execution."
      ]
    },
    {
      "cell_type": "markdown",
      "id": "909696f2",
      "metadata": {},
      "source": [
        "Additionally, with the inclusion of a `checkpointer` , the graph can resume execution even after being indefinitely paused.\n",
        "\n",
        "Below is how you can use `get_state_history` to retrieve the state history.\n",
        "\n",
        "By specifying the desired state from the history, you can restart execution from that point."
      ]
    },
    {
      "cell_type": "code",
      "execution_count": 15,
      "id": "3a029ca0",
      "metadata": {},
      "outputs": [
        {
          "name": "stdout",
          "output_type": "stream",
          "text": [
            "Number of messages: 4 \n",
            "Next node: ()\n",
            "--------------------------------------------------------------------------------\n",
            "Number of messages: 3 \n",
            "Next node: ('chatbot',)\n",
            "--------------------------------------------------------------------------------\n",
            "Number of messages: 2 \n",
            "Next node: ('tools',)\n",
            "--------------------------------------------------------------------------------\n",
            "Number of messages: 1 \n",
            "Next node: ('chatbot',)\n",
            "--------------------------------------------------------------------------------\n",
            "Number of messages: 0 \n",
            "Next node: ('__start__',)\n",
            "--------------------------------------------------------------------------------\n"
          ]
        }
      ],
      "source": [
        "to_replay = None\n",
        "\n",
        "# Retrieve state history\n",
        "for state in graph.get_state_history(config):\n",
        "    print(\n",
        "        \"Number of messages:\", len(state.values[\"messages\"]), \"\\nNext node:\", state.next\n",
        "    )\n",
        "    print(\"-\" * 80)\n",
        "    if len(state.values[\"messages\"]) == 3:\n",
        "        to_replay = state"
      ]
    },
    {
      "cell_type": "markdown",
      "id": "ca13bf6d",
      "metadata": {},
      "source": [
        "It is important to note that the `checkpointer` saves data at every step of the graph!\n",
        "\n",
        "The desired point is stored in `to_replay` . This allows you to specify the starting point for resuming execution.\n",
        "\n",
        "The `checkpoint_id` is stored in `to_replay.config` ."
      ]
    },
    {
      "cell_type": "code",
      "execution_count": 16,
      "id": "78d87058",
      "metadata": {},
      "outputs": [
        {
          "data": {
            "text/plain": [
              "('chatbot',)"
            ]
          },
          "metadata": {},
          "output_type": "display_data"
        },
        {
          "data": {
            "text/plain": [
              "{'configurable': {'thread_id': '1',\n",
              "  'checkpoint_ns': '',\n",
              "  'checkpoint_id': '1efd8a06-ace9-6516-8002-8731d8cb463e'}}"
            ]
          },
          "metadata": {},
          "output_type": "display_data"
        }
      ],
      "source": [
        "display(to_replay.next)\n",
        "display(to_replay.config)"
      ]
    },
    {
      "cell_type": "markdown",
      "id": "e580548d",
      "metadata": {},
      "source": [
        "Using this `checkpoint_id` , LangGraph's checkpointer can load the state at that specific point. \n",
        "\n",
        "Note that the `input` must be set to `None` in this case."
      ]
    },
    {
      "cell_type": "code",
      "execution_count": 17,
      "id": "a5fb3c26",
      "metadata": {},
      "outputs": [
        {
          "name": "stdout",
          "output_type": "stream",
          "text": [
            "=================================\u001b[1m Tool Message \u001b[0m=================================\n",
            "Name: search_keyword\n",
            "\n",
            "[{\"url\": \"https://news.google.com/rss/articles/CBMikwFBVV95cUxNcllEYjZmTkNzUGpjenpxZ3N6ZlFOcFAxS2szNm80MWM4dVRSU3YzcGlzU0xrZkI3MEpBR3N2U19lSmdmVnR5R0dhT0U4S1RHR1JWZDlvTXd1MnU1TlNyZlRuYXVpS0cxY1pjckNaQU1URE9IV2kzZm96d2dYRWVUczBrYV9HUklmVDJNOElaTEVNMUHSAYoBQVVfeXFMTkttd0EzSUNJUnR5ak5UYWNfZWhpVHlrZFMxQ095TTVOb2JTX2RLSTZQV2dDNktvbTktR1B4bDBtRlpxUlJhck9mTGgzVDBzMXpTaXR6aEZ2VndnRElvaFNNcGE4VmtwTjdVcXVjYkU2SnlaUGZDSXRRUjZxb3RJSHFFcTZCVWpiaWJB?oc=5\", \"content\": \"Trump announces a $500 billion AI infrastructure investment in the US - CNN\"}, {\"url\": \"https://news.google.com/rss/articles/CBMinAFBVV95cUxOUFlLYjE5VkkyR0F4Vl9JYVVtSDl0Vk5hcHVLZ2h2bUgweE00NFplTFhDLWFBNDNpRlN0OXJiQ1JjSFNadmU2Z1BDaVpPMlYtTnBpS2VnQmR5dE9GZFB1c3hQR0NoNUo3ekpFTmFIWjI4TjdjV1ZrbDJ5LURaZ2s1UDhZSkd4cndaQ2pRRENscjNJc2JXZGZyazRmdDU?oc=5\", \"content\": \"Trump Announces $100 Billion A.I. Initiative - The New York Times\"}, {\"url\": \"https://news.google.com/rss/articles/CBMi1gFBVV95cUxNMXRqZnRNMTk2aGZUdlAydjY3aHktaHhDNkxqZi03MmtqUkp1OXg5YVY5WjdZZ2J0Zk5oY2ZWVW9ZR2tmdElleUhIdnppOHNDdXhYYnJ0RHFHaGJZbnNYTWJOaDJ6c3N0eWpyUTZCUV96NVFEYWlKQVdyZmpfdHFRWGpzNDVuME1XZDE3UnNrX3U1eEVaT0g4YnJFVHNsbFdQSVhpMmFWQmtCT1hib3c4ZHZsa0pxNGNGUTJJZVRSb2tXU3NwdzlCcl93ZnVuUXo3SGhTZ1ZB0gHbAUFVX3lxTFBXUDRJSEh3ZlhVV0xzSzExUFFvTkRlMG1XTmpUeUhHV1lJUUE4ME5tNFR0YXNKd05pc2pSSVZOTm1VbDhMMUxQbnBHbm5QRkRnb0lzWnM2Znk4cFVBendfcVlOdThtNnMyRHpHaXJYUXdxOVBSQXE0OV9QNjN1M2E4QVRaWS1JX2pVcV9qSndMQzFiYXpWVEE1d2s2RFJGZXF4RzFZd192Z2NpQWpfYTlPbENTenBRZm9ZWDV0NUZyYjJQS1d3SFNQQzlNTU1DdjJIUG5ac2RHazgxUQ?oc=5\", \"content\": \"Davos 2025: Trade, tariffs, AI and UN chief Guterres dominate World Economic Forum agenda - The Hill\"}, {\"url\": \"https://news.google.com/rss/articles/CBMilwFBVV95cUxPdXhCRVNEVzZYRGMxdVlwQkc4SXBmUmVUY0drTHQ5ZDk5dUdtdHhkSUJtRWowMG9kZkkzWVBFN2ZoWUFLeEdCUW00aDFmQkNWU0dYR0p4N0RoekxqQ0w3M1pQVU4wNC0yU1JRV3dGeW1hdW5oUEJiVTNKZ2Z5Y3ZSenFldjNpQmVTYjNSSW9tYi14LWx6enZV?oc=5\", \"content\": \"Google rushed to sell AI tools to Israel’s military after Hamas attack - The Washington Post\"}, {\"url\": \"https://news.google.com/rss/articles/CBMiswFBVV95cUxQdG9FV2tjQjZGeVdlQzFkOGZNdkd4bDYzVm1BZnVDT1B1bEc0UUpSWlVYbjdHcnl0bnpJOThhc3NlbGZBZ2tSSGh4RzJtdVVFNmVuLVYtOElxQjRLdnd3R0hoTjdmQmcyd1U4VHFsNWhGY0tTVmJhUkExaWJTQ2ZpVVpXQzd6VGw1TV9MVWxxalMxLWRkWnAwdjV4WG4xMVFTNmR5Nng4WFVxMGZiYkxiU3VVaw?oc=5\", \"content\": \"Trump Pushes to Make US an AI Superpower, With Fewer Guardrails - Bloomberg\"}]\n",
            "==================================\u001b[1m Ai Message \u001b[0m==================================\n",
            "\n",
            "Here are the latest news articles related to AI:\n",
            "\n",
            "1. **Trump announces a $500 billion AI infrastructure investment in the US** - [CNN](https://news.google.com/rss/articles/CBMikwFBVV95cUxNcllEYjZmTkNzUGpjenpxZ3N6ZlFOcFAxS2szNm80MWM4dVRSU3YzcGlzU0xrZkI3MEpBR3N2U19lSmdmVnR5R0dhT0U4S1RHR1JWZDlvTXd1MnU1TlNyZlRuYXVpS0cxY1pjckNaQU1URE9IV2kzZm96d2dYRWVUczBrYV9HUklmVDJNOElaTEVNMUHSAYoBQVVfeXFMTkttd0EzSUNJUnR5ak5UYWNfZWhpVHlrZFMxQ095TTVOb2JTX2RLSTZQV2dDNktvbTktR1B4bDBtRlpxUlJhck9mTGgzVDBzMXpTaXR6aEZ2VndnRElvaFNNcGE4VmtwTjdVcXVjYkU2SnlaUGZDSXRRUjZxb3RJSHFFcTZCVWpiaWJB?oc=5)\n",
            "\n",
            "2. **Trump Announces $100 Billion A.I. Initiative** - [The New York Times](https://news.google.com/rss/articles/CBMinAFBVV95cUxOUFlLYjE5VkkyR0F4Vl9JYVVtSDl0Vk5hcHVLZ2h2bUgweE00NFplTFhDLWFBNDNpRlN0OXJiQ1JjSFNadmU2Z1BDaVpPMlYtTnBpS2VnQmR5dE9GZFB1c3hQR0NoNUo3ekpFTmFIWjI4TjdjV1ZrbDJ5LURaZ2s1UDhZSkd4cndaQ2pRRENscjNJc2JXZGZyazRmdDU?oc=5)\n",
            "\n",
            "3. **Davos 2025: Trade, tariffs, AI and UN chief Guterres dominate World Economic Forum agenda** - [The Hill](https://news.google.com/rss/articles/CBMi1gFBVV95cUxNMXRqZnRNMTk2aGZUdlAydjY3aHktaHhDNkxqZi03MmtqUkp1OXg5YVY5WjdZZ2J0Zk5oY2ZWVW9ZR2tmdElleUhIdnppOHNDdXhYYnJ0RHFHaGJZbnNYTWJOaDJ6c3N0eWpyUTZCUV96NVFEYWlKQVdyZmpfdHFRWGpzNDVuME1XZDE3UnNrX3U1eEVaT0g4YnJFVHNsbFdQSVhpMmFWQmtCT1hib3c4ZHZsa0pxNGNGUTJJZVRSb2tXU3NwdzlCcl93ZnVuUXo3SGhTZ1ZB0gHbAUFVX3lxTFBXUDRJSEh3ZlhVV0xzSzExUFFvTkRlMG1XTmpUeUhHV1lJUUE4ME5tNFR0YXNKd05pc2pSSVZOTm1VbDhMMUxQbnBHbm5QRkRnb0lzWnM2Znk4cFVBendfcVlOdThtNnMyRHpHaXJYUXdxOVBSQXE0OV9QNjN1M2E4QVRaWS1JX2pVcV9qSndMQzFiYXpWVEE1d2s2RFJGZXF4RzFZd192Z2NpQWpfYTlPbENTenBRZm9ZWDV0NUZyYjJQS1d3SFNQQzlNTU1DdjJIUG5ac2RHazgxUQ?oc=5)\n",
            "\n",
            "4. **Google rushed to sell AI tools to Israel’s military after Hamas attack** - [The Washington Post](https://news.google.com/rss/articles/CBMilwFBVV95cUxPdXhCRVNEVzZYRGMxdVlwQkc4SXBmUmVUY0drTHQ5ZDk5dUdtdHhkSUJtRWowMG9kZkkzWVBFN2ZoWUFLeEdCUW00aDFmQkNWU0dYR0p4N0RoekxqQ0w3M1pQVU4wNC0yU1JRV3dGeW1hdW5oUEJiVTNKZ2Z5Y3ZSenFldjNpQmVTYjNSSW9tYi14LWx6enZV?oc=5)\n",
            "\n",
            "5. **Trump Pushes to Make US an AI Superpower, With Fewer Guardrails** - [Bloomberg](https://news.google.com/rss/articles/CBMiswFBVV95cUxQdG9FV2tjQjZGeVdlQzFkOGZNdkd4bDYzVm1BZnVDT1B1bEc0UUpSWlVYbjdHcnl0bnpJOThhc3NlbGZBZ2tSSGh4RzJtdVVFNmVuLVYtOElxQjRLdnd3R0hoTjdmQmcyd1U4VHFsNWhGY0tTVmJhUkExaWJTQ2ZpVVpXQzd6VGw1TV9MVWxxalMxLWRkWnAwdjV4WG4xMVFTNmR5Nng4WFVxMGZiYkxiU3VVaw?oc=5)\n",
            "\n",
            "Feel free to check the articles for more detailed information!\n"
          ]
        }
      ],
      "source": [
        "for event in graph.stream(input=None, config=to_replay.config, stream_mode=\"values\"):\n",
        "    if \"messages\" in event:\n",
        "        # Print the last message\n",
        "        event[\"messages\"][-1].pretty_print()"
      ]
    }
  ],
  "metadata": {
    "kernelspec": {
      "display_name": "langchain-kr-lwwSZlnu-py3.11",
      "language": "python",
      "name": "python3"
    },
    "language_info": {
      "codemirror_mode": {
        "name": "ipython",
        "version": 3
      },
      "file_extension": ".py",
      "mimetype": "text/x-python",
      "name": "python",
      "nbconvert_exporter": "python",
      "pygments_lexer": "ipython3",
      "version": "3.11.9"
    }
  },
  "nbformat": 4,
  "nbformat_minor": 5
}
