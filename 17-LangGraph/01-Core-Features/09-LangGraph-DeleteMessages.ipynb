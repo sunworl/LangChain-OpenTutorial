{
  "cells": [
    {
      "cell_type": "markdown",
      "id": "635d8ebb",
      "metadata": {},
      "source": [
        "# DeleteMessages\n",
        "\n",
        "- Author: [Suhyun Lee](https://github.com/suhyun0115)\n",
        "- Design: \n",
        "- Peer Review: \n",
        "- This is a part of [LangChain Open Tutorial](https://github.com/LangChain-OpenTutorial/LangChain-OpenTutorial)\n",
        "\n",
        "[![Open in Colab](https://colab.research.google.com/assets/colab-badge.svg)](https://colab.research.google.com/github/LangChain-OpenTutorial/LangChain-OpenTutorial/blob/main/99-TEMPLATE/00-BASE-TEMPLATE-EXAMPLE.ipynb) [![Open in GitHub](https://img.shields.io/badge/Open%20in%20GitHub-181717?style=flat-square&logo=github&logoColor=white)](https://github.com/LangChain-OpenTutorial/LangChain-OpenTutorial/blob/main/99-TEMPLATE/00-BASE-TEMPLATE-EXAMPLE.ipynb)\n",
        "\n",
        "## Overview\n",
        "\n",
        "In LangChain, you can not only add messages but also delete them when necessary. The `RemoveMessage` tool is used for this purpose.\n",
        "\n",
        "This tool sends a deletion request for a specific message. The deletion is then processed according to the `reducer` rules defined in `MessagesState`.\n",
        "\n",
        "In essence, `RemoveMessage` initiates the deletion, the `reducer` determines how those requests are processed, and `MessagesState` serves as the storage and the management system for messages.\n",
        "\n",
        "### Table of Contents\n",
        "\n",
        "- [Overview](#overview)\n",
        "- [Environment Setup](#environment-setup)\n",
        "- [Building a Basic LangGraph](#building-a-basic-langgraph)\n",
        "- [Manual Deletion of Messages](#manual-deletion-of-messages)\n",
        "- [Dynamic Deletion of Messages](#dynamic-deletion-of-messages)\n",
        "\n",
        "### References\n",
        "\n",
        "- [LangChain](https://blog.langchain.dev/)\n",
        "- [How to delete messages](https://langchain-ai.github.io/langgraph/how-tos/memory/delete-messages/)\n",
        "----"
      ]
    },
    {
      "cell_type": "markdown",
      "id": "c6c7aba4",
      "metadata": {},
      "source": [
        "## Environment Setup\n",
        "\n",
        "Setting up your environment is the first step. See the [Environment Setup](https://wikidocs.net/257836) guide for more details.\n",
        "\n",
        "\n",
        "**[Note]**\n",
        "\n",
        "The langchain-opentutorial is a package of easy-to-use environment setup guidance, useful functions and utilities for tutorials.\n",
        "Check out the  [`langchain-opentutorial`](https://github.com/LangChain-OpenTutorial/langchain-opentutorial-pypi) for more details."
      ]
    },
    {
      "cell_type": "code",
      "execution_count": 1,
      "id": "21943adb",
      "metadata": {},
      "outputs": [],
      "source": [
        "%%capture --no-stderr\n",
        "%pip install langchain-opentutorial"
      ]
    },
    {
      "cell_type": "code",
      "execution_count": 2,
      "id": "f25ec196",
      "metadata": {},
      "outputs": [],
      "source": [
        "# Install required packages\n",
        "from langchain_opentutorial import package\n",
        "\n",
        "package.install(\n",
        "    [\n",
        "        \"langsmith\",\n",
        "        \"langchain\",\n",
        "        \"langchain_core\",\n",
        "        \"langchain_openai\",\n",
        "        \"langchain_anthropic\",\n",
        "        \"langgraph\",\n",
        "    ],\n",
        "    verbose=False,\n",
        "    upgrade=False,\n",
        ")"
      ]
    },
    {
      "cell_type": "markdown",
      "id": "690a9ae0",
      "metadata": {},
      "source": [
        "You can set API keys in a `.env` file or set them manually.\n",
        "\n",
        "[Note] If you’re not using the `.env` file, no worries! Just enter the keys directly in the cell below, and you’re good to go."
      ]
    },
    {
      "cell_type": "code",
      "execution_count": 3,
      "id": "327c2c7c",
      "metadata": {},
      "outputs": [],
      "source": [
        "from dotenv import load_dotenv\n",
        "from langchain_opentutorial import set_env\n",
        "\n",
        "# Attempt to load environment variables from a .env file; if unsuccessful, set them manually.\n",
        "if not load_dotenv():\n",
        "    set_env(\n",
        "        {\n",
        "            \"OPENAI_API_KEY\": \"\",\n",
        "            \"LANGCHAIN_API_KEY\": \"\",\n",
        "            \"LANGCHAIN_TRACING_V2\": \"true\",\n",
        "            \"LANGCHAIN_ENDPOINT\": \"https://api.smith.langchain.com\",\n",
        "            \"LANGCHAIN_PROJECT\": \"DeleteMessages\",  # set the project name same as the title\n",
        "        }\n",
        "    )"
      ]
    },
    {
      "cell_type": "markdown",
      "id": "aa00c3f4",
      "metadata": {},
      "source": [
        "## Building a Basic LangGraph\n",
        "\n",
        "LangGraph offers a powerful way to design workflows that integrate message state management and tool invocation. This section demonstrates the basic process of constructing a LangGraph.\n",
        "\n",
        "**Key Components**\n",
        "1. `MemorySaver`: A memory object for saving checkpoints, allowing you to save and restore conversation states.\n",
        "2. `ToolNode`: A node for executing custom tools. In this tutorial, it includes a `search` tool that simulates a web search.\n",
        "3. `MessagesState`: Stores and updates message states, serving as the central hub for state-based workflows.\n",
        "4. `StateGraph`: A graph object that defines the state-based workflow, controlling the flow of execution between nodes and edges.\n",
        "5. `should_continue`: A conditional function that determines the next node to execute based on the current statue of the agent.\n",
        "\n",
        "**Key Workflow Details**\n",
        "\n",
        "**Defining and Registering Tools:**\n",
        "- The `search` function simulates a web search and returns results for a given query.\n",
        "- This tool is then wrapped in a `ToolNode` and integrated into the LangGraph.\n",
        "\n",
        "**Model Initialization and Binding:**\n",
        "- Initialize an LLM model, such as `ChatOpenAI` , and bind it with tools to ensure they can be executed during runtime.\n",
        "\n",
        "**Defining the Workflow:**\n",
        "- The `StateGraph` is used to define the workflow by adding nodes and connecting them with edges.\n",
        "- The workflow begins at the `START` node. The `agent` is executed first, calling tools as needed, and then control returns to the agent.\n",
        "\n",
        "**Conditional Flow Control:**\n",
        "- The `should_continue` function checks the state of the last message to determine whether a tool should be executed or the workflow should terminate."
      ]
    },
    {
      "cell_type": "code",
      "execution_count": 4,
      "id": "69cb77da",
      "metadata": {},
      "outputs": [],
      "source": [
        "from typing import Literal\n",
        "\n",
        "from langchain_core.tools import tool\n",
        "from langchain_openai import ChatOpenAI\n",
        "from langchain_anthropic import ChatAnthropic\n",
        "from langgraph.checkpoint.memory import MemorySaver\n",
        "from langgraph.graph import MessagesState, StateGraph, START, END\n",
        "from langgraph.prebuilt import ToolNode, tools_condition\n",
        "\n",
        "# Initialize a memory object for checkpoint saving\n",
        "memory = MemorySaver()\n",
        "\n",
        "\n",
        "# Define a tool function mimicking a web search feature\n",
        "@tool\n",
        "def search(query: str):\n",
        "    \"\"\"Call to surf on the web.\"\"\"\n",
        "    return \"Web search result: You can find the LangGraph tutorial at https://langchain-ai.github.io/langgraph/.\"\n",
        "\n",
        "\n",
        "# Create a list of tools and initialize a tool node\n",
        "tools = [search]\n",
        "tool_node = ToolNode(tools)\n",
        "\n",
        "# Initialize a model and bind tools. You can select models like GPT or Claude\n",
        "model = ChatOpenAI(model_name=\"gpt-4o-mini\")\n",
        "# model = ChatAnthropic(model=\"claude-3-5-sonnet-20240620\") # if you use Claude\n",
        "bound_model = model.bind_tools(tools)\n",
        "\n",
        "\n",
        "# Determine the next execution node based on the conversation state\n",
        "def should_continue(state: MessagesState):\n",
        "    last_message = state[\"messages\"][-1]\n",
        "    if not last_message.tool_calls:\n",
        "        return END\n",
        "    return \"tool\"\n",
        "\n",
        "\n",
        "# Function to call the LLM model and handle its response\n",
        "def call_model(state: MessagesState):\n",
        "    response = model.invoke(state[\"messages\"])\n",
        "    return {\"messages\": response}\n",
        "\n",
        "\n",
        "# Initialize a workflow graph based on the state\n",
        "workflow = StateGraph(MessagesState)\n",
        "\n",
        "# Add agent and action nodes\n",
        "workflow.add_node(\"agent\", call_model)\n",
        "workflow.add_node(\"tool\", tool_node)\n",
        "\n",
        "# Set the starting point as the agent node\n",
        "workflow.add_edge(START, \"agent\")\n",
        "\n",
        "# Set conditional edges: define the execution flow after the agent node\n",
        "workflow.add_conditional_edges(\"agent\", should_continue, {\"tool\": \"tool\", END: END})\n",
        "\n",
        "# Add an edge to return from the tool to the agent\n",
        "workflow.add_edge(\"tool\", \"agent\")\n",
        "\n",
        "# Compile the final executable workflow including the checkpointer\n",
        "app = workflow.compile(checkpointer=memory)"
      ]
    },
    {
      "cell_type": "code",
      "execution_count": 5,
      "id": "c0683e8b",
      "metadata": {},
      "outputs": [
        {
          "data": {
            "image/png": "[encoded data removed]",
            "text/plain": [
              "<IPython.core.display.Image object>"
            ]
          },
          "metadata": {},
          "output_type": "display_data"
        }
      ],
      "source": [
        "# Visualize the graph\n",
        "from IPython.display import display, Image\n",
        "\n",
        "display(Image(app.get_graph().draw_mermaid_png()))"
      ]
    },
    {
      "cell_type": "code",
      "execution_count": 6,
      "id": "71a8e77d",
      "metadata": {},
      "outputs": [
        {
          "name": "stdout",
          "output_type": "stream",
          "text": [
            "================================\u001b[1m Human Message \u001b[0m=================================\n",
            "\n",
            "I like chocolate more than candy.\n",
            "==================================\u001b[1m Ai Message \u001b[0m==================================\n",
            "\n",
            "That's a common preference! Many people enjoy the rich, creamy taste of chocolate more than the often sweeter and more varied flavors of candy. Do you have a favorite type of chocolate, like dark, milk, or white?\n"
          ]
        }
      ],
      "source": [
        "from langchain_core.messages import HumanMessage\n",
        "\n",
        "# Initialize configuration object with thread ID 1\n",
        "config = {\"configurable\": {\"thread_id\": \"1\"}}\n",
        "\n",
        "# First question execution\n",
        "input_message = HumanMessage(content=\"I like chocolate more than candy.\")\n",
        "\n",
        "# Process the message in stream mode and print the response details of the last message\n",
        "for event in app.stream({\"messages\": [input_message]}, config, stream_mode=\"values\"):\n",
        "    event[\"messages\"][-1].pretty_print()"
      ]
    },
    {
      "cell_type": "markdown",
      "id": "01ec6364",
      "metadata": {},
      "source": [
        "The following code snippet, `for event in app.stream({\"messages\": [input_message]}, config, stream_mode=\"values\")`, operates as follows: \n",
        "\n",
        "1. **Calling `app.stream()`:**\n",
        "- This initiates the workflow and streams each event.\n",
        "- Parameters:\n",
        "   - `{\"messages\": [input_message]}`: Sets the initial message for the workflow.\n",
        "   - `config`: Contains configuration values, including `thread_id` set to `\"1\"` .\n",
        "   - `stream_mode=\"values\"`: Specifies the streaming mode as value-based.\n",
        "\n",
        "2. **Loop Behavior:**\n",
        "- The loop iterates through each event generated by the workflow.\n",
        "- Event details:\n",
        "   - `event[\"messages\"][-1]`: Retrieves the most recent message.\n",
        "   - `pretty_print()`: Prints the retrieved message.\n",
        "\n",
        "Key Streaming Modes of `app.stream()`:\n",
        "\n",
        "1. **`values` Mode**\n",
        "- This mode receives the entire state of the graph after each node execution.\n",
        "- Suitable for basic state monitoring.\n",
        "- **Example:** Receiving the complete response from an LLM after it finishes its response.\n",
        "\n",
        "2. **`updates` Mode**\n",
        "- This mode receives only the changes made to the state after each node execution.\n",
        "- Useful for efficient state management.\n",
        "- **Example:** Receiving only the newly added content compared to the previous state.\n",
        "\n",
        "3. **`messages` Mode**\n",
        "- This mode provides the most detailed, real-time information.\n",
        "- Ideal for real-time applications, such as chatbots.\n",
        "- **Example:** Observing the step-by-step \"thought process\" of an LLM in real-time. For instance, \"Thinking...\" → \"Chocolate is...\" → \"a delicious snack.\""
      ]
    },
    {
      "cell_type": "code",
      "execution_count": 7,
      "id": "5f0c0ff7",
      "metadata": {},
      "outputs": [
        {
          "name": "stdout",
          "output_type": "stream",
          "text": [
            "================================\u001b[1m Human Message \u001b[0m=================================\n",
            "\n",
            "What is my favorite snack?\n",
            "==================================\u001b[1m Ai Message \u001b[0m==================================\n",
            "\n",
            "Based on your previous message, it seems like chocolate might be your favorite snack! However, if you have other snacks you enjoy, I'd love to hear about them!\n"
          ]
        }
      ],
      "source": [
        "# Follow-up question execution\n",
        "input_message = HumanMessage(content=\"What is my favorite snack?\")\n",
        "\n",
        "# Process the second message in stream mode and print the response\n",
        "for event in app.stream({\"messages\": [input_message]}, config, stream_mode=\"values\"):\n",
        "    event[\"messages\"][-1].pretty_print()"
      ]
    },
    {
      "cell_type": "code",
      "execution_count": 8,
      "id": "718e9eca",
      "metadata": {},
      "outputs": [
        {
          "name": "stdout",
          "output_type": "stream",
          "text": [
            "================================\u001b[1m Human Message \u001b[0m=================================\n",
            "\n",
            "I like chocolate more than candy.\n",
            "==================================\u001b[1m Ai Message \u001b[0m==================================\n",
            "\n",
            "That's a common preference! Many people enjoy the rich, creamy taste of chocolate more than the often sweeter and more varied flavors of candy. Do you have a favorite type of chocolate, like dark, milk, or white?\n",
            "================================\u001b[1m Human Message \u001b[0m=================================\n",
            "\n",
            "What is my favorite snack?\n",
            "==================================\u001b[1m Ai Message \u001b[0m==================================\n",
            "\n",
            "Based on your previous message, it seems like chocolate might be your favorite snack! However, if you have other snacks you enjoy, I'd love to hear about them!\n"
          ]
        }
      ],
      "source": [
        "# Step-by-Step Status Check\n",
        "messages = app.get_state(config).values[\"messages\"]\n",
        "for message in messages:\n",
        "    message.pretty_print()"
      ]
    },
    {
      "cell_type": "markdown",
      "id": "f9da58df",
      "metadata": {},
      "source": [
        "### Deleting Messages\n",
        "\n",
        "There are two primary methods for deleting messages within a LangGraph workflow: **Manual Deletion** and **Dynamic Deletion** . Let's take a closer look at each method."
      ]
    },
    {
      "cell_type": "markdown",
      "id": "a2c47ef7",
      "metadata": {},
      "source": [
        "## Manual Deletion of Messages\n",
        "\n",
        "This section demonstrates how to manually retrieve message logs from the LangGraph workflow, delete specific messages, and then update the graph's state. This process enables effective message management and conversation record manipulation.\n",
        "\n",
        "**Key Steps for Manual Deletion**\n",
        "1. **Message Retrieval:**\n",
        "- Use the `app.get_state(config)` method to extract the list of messages from the current state.\n",
        "- Use `pretty_print()` method to display each message in a user-friendly format.\n",
        "\n",
        "2. **Message Deletion:**\n",
        "- Utilize a `RemoveMessage` object, specifying the ID of the message to delete.\n",
        "- The code example demonstrates removing the first message in the array.\n",
        "\n",
        "3. **State Update:**\n",
        "- Use the `app.update_state(config, ...)` method to apply the deletion and update the graph's state.\n",
        "- After the update, retrieve and display the message list again to verify the deletion.\n",
        "\n",
        "**Code Flow**\n",
        "1. **Output Stored Messages:**\n",
        "- Retrieve the messages from the current state using `messages = app.get_state(config).values[\"messages\"]`.\n",
        "- Iterate through the `messsages` list and print each message to review the current conversation history.\n",
        "\n",
        "2. **Delete a Specific Message:**\n",
        "- Use `RemoveMessage(id=messages[0].id)` to create a delete request for the first message.\n",
        "- Update the graph's state using `app.update_state(config, ...)` to reflect the deletion.\n",
        "\n",
        "3. **Output Updated Messages:**\n",
        "- After updating the state, retrieve the updated message list and print it to confirm the deletion."
      ]
    },
    {
      "cell_type": "code",
      "execution_count": 9,
      "id": "1c61057d",
      "metadata": {},
      "outputs": [
        {
          "name": "stdout",
          "output_type": "stream",
          "text": [
            "================================\u001b[1m Human Message \u001b[0m=================================\n",
            "\n",
            "I like chocolate more than candy.\n",
            "==================================\u001b[1m Ai Message \u001b[0m==================================\n",
            "\n",
            "That's a common preference! Many people enjoy the rich, creamy taste of chocolate more than the often sweeter and more varied flavors of candy. Do you have a favorite type of chocolate, like dark, milk, or white?\n",
            "================================\u001b[1m Human Message \u001b[0m=================================\n",
            "\n",
            "What is my favorite snack?\n",
            "==================================\u001b[1m Ai Message \u001b[0m==================================\n",
            "\n",
            "Based on your previous message, it seems like chocolate might be your favorite snack! However, if you have other snacks you enjoy, I'd love to hear about them!\n"
          ]
        }
      ],
      "source": [
        "# Extracting Message List in App State and Viewing Saved Conversation History\n",
        "messages = app.get_state(config).values[\"messages\"]\n",
        "\n",
        "for message in messages:\n",
        "    message.pretty_print()"
      ]
    },
    {
      "cell_type": "code",
      "execution_count": 10,
      "id": "258aed49",
      "metadata": {},
      "outputs": [
        {
          "name": "stdout",
          "output_type": "stream",
          "text": [
            "==================================\u001b[1m Ai Message \u001b[0m==================================\n",
            "\n",
            "That's a common preference! Many people enjoy the rich, creamy taste of chocolate more than the often sweeter and more varied flavors of candy. Do you have a favorite type of chocolate, like dark, milk, or white?\n",
            "================================\u001b[1m Human Message \u001b[0m=================================\n",
            "\n",
            "What is my favorite snack?\n",
            "==================================\u001b[1m Ai Message \u001b[0m==================================\n",
            "\n",
            "Based on your previous message, it seems like chocolate might be your favorite snack! However, if you have other snacks you enjoy, I'd love to hear about them!\n"
          ]
        }
      ],
      "source": [
        "from langchain_core.messages import RemoveMessage\n",
        "\n",
        "# Remove the First Message from the Message Array by ID and Update the App State\n",
        "app.update_state(config, {\"messages\": RemoveMessage(id=messages[0].id)})\n",
        "\n",
        "# Extracting Message List from App State and Retrieving Saved Conversation History\n",
        "messages = app.get_state(config).values[\"messages\"]\n",
        "for message in messages:\n",
        "    message.pretty_print()"
      ]
    },
    {
      "cell_type": "markdown",
      "id": "0e83461b",
      "metadata": {},
      "source": [
        "## Dynamic Deletion of Messages\n",
        "\n",
        "Dynamic deletion automates the process of deleting older messages during workflow execution, ensuring that only the most recent messages are retained.\n",
        "\n",
        "**Key Components for Dynamic Deletion**\n",
        "\n",
        "1. `delete_messages(state: dict) -> dict`:\n",
        "- This function implements the logic for deleting old messages when it checks if the number of messages exceeds a specific limit (e.g., 3). It retains only the latest ones.\n",
        "\n",
        "2. `should_continue(state: dict) -> str`:\n",
        "- This conditional function determins the next node to execute based on the current state.\n",
        "- If there is no function call in the current messages, the workflow proceeds to the `delete_messages` node. If a function call exists, the workflow proceeds to the `action` node.\n",
        "\n",
        "3. `StateGraph`: Defines the state-based workflow, connecting the `agent`, `action`, and `delete_messages` nodes with appropriate edges.\n",
        "\n",
        "**Key Details**\n",
        "\n",
        "**Message Management:**\n",
        "- The `delete_messages` function manages the message state by removing older messages during prolonged conversations, thus maintaining memory efficiency.\n",
        "\n",
        "**Conditional Flow Control:**\n",
        "- The `should_continue` function inspects the state of the last message to determine if a tool call is required. This determines the next node in the execution flow.\n",
        "\n",
        "**Workflow Definition:**\n",
        "- The `StateGraph` defines the workflow by adding nodes for `agent`, `action`, and `delete_messages` nodes.\n",
        "- Each node is configured to follow the appropriate flow based on state and conditions.\n",
        "\n",
        "**Memory Checkpoint Integration:**\n",
        "- The `MemorySaver` object allows for saving and restoring checkpoints, enabling seamless compilation and resumption of the workflow."
      ]
    },
    {
      "cell_type": "code",
      "execution_count": 11,
      "id": "902ce866",
      "metadata": {},
      "outputs": [],
      "source": [
        "from langchain_core.messages import RemoveMessage\n",
        "from langgraph.graph import END\n",
        "\n",
        "\n",
        "# If the number of messages exceeds 3, delete older messages and retain only the latest ones\n",
        "def delete_messages(state):\n",
        "    messages = state[\"messages\"]\n",
        "    if len(messages) > 3:\n",
        "        return {\"messages\": [RemoveMessage(id=m.id) for m in messages[:-3]]}\n",
        "\n",
        "\n",
        "# Logic to determine the next execution node based on the message state\n",
        "def should_continue(state: MessagesState) -> Literal[\"action\", \"delete_messages\"]:\n",
        "    \"\"\"Return the next node to execute.\"\"\"\n",
        "    last_message = state[\"messages\"][-1]\n",
        "    # Execute the message deletion function if no tool calls are present\n",
        "    if not last_message.tool_calls:\n",
        "        return \"delete_messages\"\n",
        "    # Execute an action if tool calls are present\n",
        "    return \"action\"\n",
        "\n",
        "\n",
        "# Define the workflow graph based on the message state\n",
        "workflow = StateGraph(MessagesState)\n",
        "\n",
        "# Add agent and action nodes\n",
        "workflow.add_node(\"agent\", call_model)\n",
        "workflow.add_node(\"action\", tool_node)\n",
        "\n",
        "# Add the message deletion node\n",
        "workflow.add_node(delete_messages)\n",
        "\n",
        "# Connect the start node to the agent node\n",
        "workflow.add_edge(START, \"agent\")\n",
        "\n",
        "# Control flow between nodes by adding conditional edges\n",
        "workflow.add_conditional_edges(\n",
        "    \"agent\",\n",
        "    should_continue,\n",
        ")\n",
        "\n",
        "# Connect the action node back to the agent node\n",
        "workflow.add_edge(\"action\", \"agent\")\n",
        "\n",
        "# Connect the message deletion node to the end node\n",
        "workflow.add_edge(\"delete_messages\", END)\n",
        "\n",
        "# Compile the workflow using a memory checkpoint\n",
        "app = workflow.compile(checkpointer=memory)"
      ]
    },
    {
      "cell_type": "markdown",
      "id": "75f30f02",
      "metadata": {},
      "source": [
        "**Process Flow**\n",
        "\n",
        "1. The workflow starts at the `START` node and executes the `agent` node.\n",
        "2. The `should_continue` function then determines the next node based on the current state:\n",
        "- If no function call is present in the messages, the workflow proceeds to the `delete_messages` node. \n",
        "- If a function call is present, the workflow proceeds to the `action` node.\n",
        "3. Each node transitions to the next execution path based on the defined conditions.\n",
        "4. The `delete_message` node then connects to the `END` node, terminating that branch of the workflow."
      ]
    },
    {
      "cell_type": "code",
      "execution_count": 12,
      "id": "46668363",
      "metadata": {},
      "outputs": [
        {
          "data": {
            "image/png": "[encoded data removed]",
            "text/plain": [
              "<IPython.core.display.Image object>"
            ]
          },
          "metadata": {},
          "output_type": "display_data"
        }
      ],
      "source": [
        "# Dynamic Deletion Visualization\n",
        "from IPython.display import display, Image\n",
        "\n",
        "display(Image(app.get_graph().draw_mermaid_png()))"
      ]
    },
    {
      "cell_type": "code",
      "execution_count": null,
      "id": "e7631347",
      "metadata": {},
      "outputs": [
        {
          "name": "stdout",
          "output_type": "stream",
          "text": [
            "[('human', 'I like chocolate more than candy.')]\n",
            "[('human', 'I like chocolate more than candy.'), ('ai', \"That's a popular preference! Chocolate has a rich, creamy texture and comes in various forms, from dark to milk to white, along with countless flavor combinations. Do you have a favorite type of chocolate or a specific treat that you enjoy?\")]\n"
          ]
        }
      ],
      "source": [
        "# Import the HumanMessage class for LangChain message processing\n",
        "from langchain_core.messages import HumanMessage\n",
        "\n",
        "# Initialize a configuration object with a thread ID\n",
        "config = {\"configurable\": {\"thread_id\": \"2\"}}\n",
        "\n",
        "# Perform the first query\n",
        "input_message = HumanMessage(content=\"I like chocolate more than candy.\")\n",
        "for event in app.stream({\"messages\": [input_message]}, config, stream_mode=\"values\"):\n",
        "    print([(message.type, message.content) for message in event[\"messages\"]])"
      ]
    },
    {
      "cell_type": "code",
      "execution_count": null,
      "id": "2a247692",
      "metadata": {},
      "outputs": [
        {
          "name": "stdout",
          "output_type": "stream",
          "text": [
            "[('human', 'I like chocolate more than candy.'), ('ai', \"That's a popular preference! Chocolate has a rich, creamy texture and comes in various forms, from dark to milk to white, along with countless flavor combinations. Do you have a favorite type of chocolate or a specific treat that you enjoy?\"), ('human', 'What is my favorite snack?')]\n",
            "[('human', 'I like chocolate more than candy.'), ('ai', \"That's a popular preference! Chocolate has a rich, creamy texture and comes in various forms, from dark to milk to white, along with countless flavor combinations. Do you have a favorite type of chocolate or a specific treat that you enjoy?\"), ('human', 'What is my favorite snack?'), ('ai', 'Based on your previous statement, it seems that your favorite snack might be chocolate! If you have other snacks you enjoy, feel free to share!')]\n",
            "[('ai', \"That's a popular preference! Chocolate has a rich, creamy texture and comes in various forms, from dark to milk to white, along with countless flavor combinations. Do you have a favorite type of chocolate or a specific treat that you enjoy?\"), ('human', 'What is my favorite snack?'), ('ai', 'Based on your previous statement, it seems that your favorite snack might be chocolate! If you have other snacks you enjoy, feel free to share!')]\n"
          ]
        }
      ],
      "source": [
        "# Perform the second query\n",
        "input_message = HumanMessage(content=\"What is my favorite snack?\")\n",
        "\n",
        "for event in app.stream({\"messages\": [input_message]}, config, stream_mode=\"values\"):\n",
        "    print([(message.type, message.content) for message in event[\"messages\"]])"
      ]
    },
    {
      "cell_type": "markdown",
      "id": "70f0a21d",
      "metadata": {},
      "source": [
        "**Final State:** Because messages are automatically deleted when the count exceeds 3, only the 3 most recent messages are retained in the final state."
      ]
    },
    {
      "cell_type": "code",
      "execution_count": 15,
      "id": "71659b46",
      "metadata": {},
      "outputs": [
        {
          "name": "stdout",
          "output_type": "stream",
          "text": [
            "==================================\u001b[1m Ai Message \u001b[0m==================================\n",
            "\n",
            "That's a popular preference! Chocolate has a rich, creamy texture and comes in various forms, from dark to milk to white, along with countless flavor combinations. Do you have a favorite type of chocolate or a specific treat that you enjoy?\n",
            "================================\u001b[1m Human Message \u001b[0m=================================\n",
            "\n",
            "What is my favorite snack?\n",
            "==================================\u001b[1m Ai Message \u001b[0m==================================\n",
            "\n",
            "Based on your previous statement, it seems that your favorite snack might be chocolate! If you have other snacks you enjoy, feel free to share!\n"
          ]
        }
      ],
      "source": [
        "# Extract and save the message list from the app state\n",
        "messages = app.get_state(config).values[\"messages\"]\n",
        "\n",
        "# Return the message list\n",
        "for message in messages:\n",
        "    message.pretty_print()"
      ]
    }
  ],
  "metadata": {
    "kernelspec": {
      "display_name": "langchain-opentutorial-KA-VgDpL-py3.11",
      "language": "python",
      "name": "python3"
    },
    "language_info": {
      "codemirror_mode": {
        "name": "ipython",
        "version": 3
      },
      "file_extension": ".py",
      "mimetype": "text/x-python",
      "name": "python",
      "nbconvert_exporter": "python",
      "pygments_lexer": "ipython3",
      "version": "3.11.9"
    }
  },
  "nbformat": 4,
  "nbformat_minor": 5
}
