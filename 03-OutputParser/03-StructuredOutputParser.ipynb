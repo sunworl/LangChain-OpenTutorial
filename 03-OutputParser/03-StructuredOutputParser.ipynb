{
  "cells": [
    {
      "cell_type": "markdown",
      "metadata": {},
      "source": [
        "# Structured Output Parser\n",
        "\n",
        "- Author: [Yoolim Han](https://github.com/hohosznta)\n",
        "- Design: []()\n",
        "- Peer Review: [ranian963](https://github.com/ranian963), [asummerz](https://github.com/asummerz)\n",
        "- This is a part of [LangChain Open Tutorial](https://github.com/LangChain-OpenTutorial/LangChain-OpenTutorial)\n",
        "\n",
        "[![Open in Colab](https://colab.research.google.com/assets/colab-badge.svg)](https://colab.research.google.com/github/LangChain-OpenTutorial/LangChain-OpenTutorial/blob/main/03-OutputParser/03-StructuredOutputParser.ipynb) [![Open in GitHub](https://img.shields.io/badge/Open%20in%20GitHub-181717?style=flat-square&logo=github&logoColor=white)](https://github.com/LangChain-OpenTutorial/LangChain-OpenTutorial/blob/main/03-OutputParser/03-StructuredOutputParser.ipynb)\n",
        "\n",
        "## Overview\n",
        "\n",
        "The `StructuredOutputParser` is a valuable tool for formatting Large Language Model (LLM) responses into dictionary structures, enabling the return of multiple fields as key/value pairs. \n",
        "While Pydantic and JSON parsers offer robust capabilities, the `StructuredOutputParser` is particularly effective for less powerful models, such as local models with fewer parameters. It is especially beneficial for models with lower intelligence compared to advanced models like GPT or Claude. \n",
        "By utilizing the `StructuredOutputParser`, developers can maintain data integrity and consistency across various LLM applications, even when operating with models that have reduced parameter counts.\n",
        "\n",
        "### Table of Contents\n",
        "\n",
        "- [Overview](#overview)\n",
        "- [Environment Setup](#environment-setup)\n",
        "- [Implementing Structured Output Parser](#implementing-structured-output-parser)\n",
        "\n",
        "### References\n",
        "\n",
        "- [LangChain ChatOpenAI API reference](https://python.langchain.com/docs/integrations/chat/openai/)\n",
        "- [LangChain Structured output parser](https://python.langchain.com/api_reference/langchain/output_parsers/langchain.output_parsers.structured.StructuredOutputParser.html#langchain.output_parsers.structured.StructuredOutputParser)\n",
        "---"
      ]
    },
    {
      "cell_type": "markdown",
      "metadata": {},
      "source": [
        "## Environment Setup\n",
        "\n",
        "Set up the environment. You may refer to [Environment Setup](https://wikidocs.net/257836) for more details.\n",
        "\n",
        "**[Note]**\n",
        "- `langchain-opentutorial` is a package that provides a set of easy-to-use environment setup along with useful functions and utilities for tutorials. \n",
        "- You can checkout the [`langchain-opentutorial`](https://github.com/LangChain-OpenTutorial/langchain-opentutorial-pypi) for more details."
      ]
    },
    {
      "cell_type": "code",
      "execution_count": 9,
      "metadata": {},
      "outputs": [],
      "source": [
        "%%capture --no-stderr\n",
        "%pip install langchain-opentutorial"
      ]
    },
    {
      "cell_type": "code",
      "execution_count": 10,
      "metadata": {},
      "outputs": [],
      "source": [
        "# Install required packages\n",
        "from langchain_opentutorial import package\n",
        "\n",
        "package.install(\n",
        "    [\n",
        "        \"langsmith\",\n",
        "        \"langchain\",\n",
        "        \"langchain_openai\",\n",
        "        \"langchain_community\",\n",
        "    ],\n",
        "    verbose=False,\n",
        "    upgrade=False,\n",
        ")\n"
      ]
    },
    {
      "cell_type": "code",
      "execution_count": 11,
      "metadata": {},
      "outputs": [
        {
          "name": "stdout",
          "output_type": "stream",
          "text": [
            "Environment variables have been set successfully.\n"
          ]
        }
      ],
      "source": [
        "# Set environment variables\n",
        "from langchain_opentutorial import set_env\n",
        "\n",
        "set_env(\n",
        "    {\n",
        "        \"OPENAI_API_KEY\": \"\",\n",
        "        \"LANGCHAIN_API_KEY\": \"\",\n",
        "        \"LANGCHAIN_TRACING_V2\": \"true\",\n",
        "        \"LANGCHAIN_ENDPOINT\": \"https://api.smith.langchain.com\",\n",
        "        \"LANGCHAIN_PROJECT\": \"03-StructuredOutputParser\",\n",
        "    }\n",
        ")\n"
      ]
    },
    {
      "cell_type": "markdown",
      "metadata": {},
      "source": [
        "You can alternatively set `OPENAI_API_KEY` in `.env` file and load it. \n",
        "\n",
        "[Note] This is not necessary if you've already set `OPENAI_API_KEY` in previous steps."
      ]
    },
    {
      "cell_type": "code",
      "execution_count": 12,
      "metadata": {},
      "outputs": [
        {
          "data": {
            "text/plain": [
              "False"
            ]
          },
          "execution_count": 12,
          "metadata": {},
          "output_type": "execute_result"
        }
      ],
      "source": [
        "from dotenv import load_dotenv\n",
        "\n",
        "load_dotenv(override=True)\n"
      ]
    },
    {
      "cell_type": "markdown",
      "metadata": {},
      "source": [
        "## Implementing Structured Output Parser"
      ]
    },
    {
      "cell_type": "markdown",
      "metadata": {
        "id": "9jJN9mDnR2Mp"
      },
      "source": [
        "### Using ResponseSchema with StructuredOutputParser\n",
        "*   Define a response schema using the `ResponseSchema` class to include the answer to the user's question and a `description` of the source (website) used.\n",
        "\n",
        "*   Initialize `StructuredOutputParser` with `response_schemas` to structure the output according to the defined response schema.\n",
        "\n",
        "**[Note]**\n",
        "When using local models, Pydantic parsers may frequently fail to work properly. In such cases, using `StructuredOutputParser` can be a good alternative solution."
      ]
    },
    {
      "cell_type": "code",
      "execution_count": 13,
      "metadata": {
        "id": "udCLc1sDR01b"
      },
      "outputs": [],
      "source": [
        "from langchain.output_parsers import ResponseSchema, StructuredOutputParser\n",
        "\n",
        "# Response to the user's question\n",
        "response_schemas = [\n",
        "    ResponseSchema(name=\"answer\", description=\"Answer to the user's question\"),\n",
        "    ResponseSchema(\n",
        "        name=\"source\",\n",
        "        description=\"The `source` used to answer the user's question, which should be a `website URL`.\",\n",
        "    ),\n",
        "]\n",
        "# Initialize the structured output parser based on the response schemas\n",
        "output_parser = StructuredOutputParser.from_response_schemas(response_schemas)\n"
      ]
    },
    {
      "cell_type": "markdown",
      "metadata": {
        "id": "WMgOch7KTcNh"
      },
      "source": [
        "### Embedding Response Schemas into Prompts \n",
        "\n",
        "Create a `PromptTemplate` to format user questions and embed parsing instructions for structured outputs."
      ]
    },
    {
      "cell_type": "code",
      "execution_count": 14,
      "metadata": {
        "id": "GeamtrixZMUJ"
      },
      "outputs": [],
      "source": [
        "from langchain_core.prompts import PromptTemplate\n",
        "# Parse the format instructions.\n",
        "format_instructions = output_parser.get_format_instructions()\n",
        "prompt = PromptTemplate(\n",
        "    # Set up the template to answer the user's question as best as possible.\n",
        "    template=\"answer the user's question as best as possible.\\n{format_instructions}\\n{question}\",\n",
        "    # Use 'question' as the input variable.\n",
        "    input_variables=[\"question\"],\n",
        "    # Use 'format_instructions' as a partial variable.\n",
        "    partial_variables={\"format_instructions\": format_instructions},\n",
        ")"
      ]
    },
    {
      "cell_type": "markdown",
      "metadata": {},
      "source": [
        "### Integrating with ChatOpenAI and Running the Chain\n",
        "\n",
        "Combine the `PromptTemplate` , `ChatOpenAI` model , and `StructuredOutputParser` into a `chain` . Finally, run the chain with a specific `question` to produce results."
      ]
    },
    {
      "cell_type": "code",
      "execution_count": 15,
      "metadata": {
        "id": "cSWnxIdOZRWy"
      },
      "outputs": [
        {
          "data": {
            "text/plain": [
              "{'answer': 'The largest desert in the world is the Antarctic Desert.',\n",
              " 'source': 'https://www.worldatlas.com/articles/what-is-the-largest-desert-in-the-world.html'}"
            ]
          },
          "execution_count": 15,
          "metadata": {},
          "output_type": "execute_result"
        }
      ],
      "source": [
        "from langchain_openai import ChatOpenAI\n",
        "\n",
        "model = ChatOpenAI(temperature=0)  # Initialize the ChatOpenAI model\n",
        "\n",
        "chain = prompt | model | output_parser  # Connect the prompt, model, and output parser\n",
        "\n",
        "# Ask the question, \"What is the largest desert in the world?\"\n",
        "chain.invoke({\"question\": \"What is the largest desert in the world?\"})"
      ]
    },
    {
      "cell_type": "markdown",
      "metadata": {
        "id": "IODAUdNHZZQ-"
      },
      "source": [
        "### Using Streamed Outputs\n",
        "\n",
        "Use the `chain.stream` method to receive a streaming response to the `question` , \"How many players are on a soccer team?\""
      ]
    },
    {
      "cell_type": "code",
      "execution_count": 16,
      "metadata": {
        "id": "gzGhr-8DZaZu"
      },
      "outputs": [
        {
          "name": "stdout",
          "output_type": "stream",
          "text": [
            "{'answer': 'A standard soccer team consists of 11 players on the field at a time.', 'source': 'https://www.fifa.com/who-we-are/news/what-are-the-rules-of-football-2040008'}\n"
          ]
        }
      ],
      "source": [
        "for s in chain.stream({\"question\": \"How many players are on a soccer team?\"}):\n",
        "    # Stream the output\n",
        "    print(s)"
      ]
    }
  ],
  "metadata": {
    "colab": {
      "provenance": []
    },
    "kernelspec": {
      "display_name": "python310",
      "language": "python",
      "name": "python3"
    },
    "language_info": {
      "codemirror_mode": {
        "name": "ipython",
        "version": 3
      },
      "file_extension": ".py",
      "mimetype": "text/x-python",
      "name": "python",
      "nbconvert_exporter": "python",
      "pygments_lexer": "ipython3",
      "version": "3.10.13"
    }
  },
  "nbformat": 4,
  "nbformat_minor": 0
}
