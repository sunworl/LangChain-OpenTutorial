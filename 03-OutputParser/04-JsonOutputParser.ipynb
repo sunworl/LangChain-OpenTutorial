{
  "cells": [
    {
      "cell_type": "markdown",
      "id": "635d8ebb",
      "metadata": {},
      "source": [
        "# JsonOutputParser\n",
        "\n",
        "- Author: [Ash-hun](https://github.com/ash-hun)\n",
        "- Design: \n",
        "- Peer Review : [Jeongeun Lim](https://www.linkedin.com/in/jeongeun-lim-808978188/), [brian604](https://github.com/brian604)\n",
        "- This is a part of [LangChain Open Tutorial](https://github.com/LangChain-OpenTutorial/LangChain-OpenTutorial)\n",
        "\n",
        "[![Open in Colab](https://colab.research.google.com/assets/colab-badge.svg)](https://colab.research.google.com/github/LangChain-OpenTutorial/LangChain-OpenTutorial/blob/main/03-OutputParser/04-JsonOutputParser.ipynb) [![Open in GitHub](https://img.shields.io/badge/Open%20in%20GitHub-181717?style=flat-square&logo=github&logoColor=white)](https://github.com/LangChain-OpenTutorial/LangChain-OpenTutorial/blob/main/03-OutputParser/04-JsonOutputParser.ipynb)\n",
        "\n",
        "## Overview\n",
        "\n",
        "This tutorial covers the implementation of the ```JsonOutputParser```.\n",
        "```JsonOutputParser``` is a tool that allows users to specify the desired JSON schema. It is designed to enable an LLM(Large Language Model) to query data and return results in JSON format that adheres to the specified schema.\n",
        "To ensure that the LLM processes data accurately and efficiently, generating JSON in the desired format, the model must have sufficient capacity (e.g., intelligence). For instance, the llama-70B model has a larger capacity compared to the llama-8B model, making it more suitable for handling complex data.\n",
        "\n",
        "**[Note]**\n",
        "\n",
        "**JSON (JavaScript Object Notation)** is a lightweight data interchange format used for storing and structuring data. It plays a crucial role in web development and is widely used for communication between servers and clients. JSON is based on text that is easy to read and simple for machines to parse and generate.\n",
        "\n",
        "JSON data consists of key-value pairs. Here, the \"key\" is a string, and the \"value\" can be various data types. JSON has two primary structures:\n",
        "\n",
        "- Object: A collection of key-value pairs enclosed in curly braces { }. Each key is associated with its value using a colon ( : ), and multiple key-value pairs are separated by commas ( , ).  \n",
        "- Array: An ordered list of values enclosed in square brackets [ ]. Values within an array are separated by commas ( , ).\n",
        "\n",
        "```json\n",
        "{\n",
        "  \"name\": \"John Doe\",\n",
        "  \"age\": 30,\n",
        "  \"is_student\": false,\n",
        "  \"skills\": [\"Java\", \"Python\", \"JavaScript\"],\n",
        "  \"address\": {\n",
        "    \"street\": \"123 Main St\",\n",
        "    \"city\": \"Anytown\"\n",
        "  }\n",
        "}\n",
        "```\n",
        "\n",
        "### Table of Contents\n",
        "\n",
        "- [Overview](#overview)\n",
        "- [Environment Setup](#environment-setup)\n",
        "- [Using JsonOutputParser with Pydantic](#using-jsonoutputparser-with-pydantic)\n",
        "- [Using JsonOutputParser without Pydantic](#using-jsonoutputparser-without-pydantic)\n",
        "\n",
        "### References\n",
        "\n",
        "- [JsonOutputParser](https://python.langchain.com/api_reference/core/output_parsers/langchain_core.output_parsers.json.JsonOutputParser.html)\n",
        "----"
      ]
    },
    {
      "cell_type": "markdown",
      "id": "c6c7aba4",
      "metadata": {},
      "source": [
        "## Environment Setup\n",
        "\n",
        "Set up the environment. You may refer to [Environment Setup](https://wikidocs.net/257836) for more details.\n",
        "\n",
        "**[Note]**\n",
        "- ```langchain-opentutorial``` is a package that provides a set of easy-to-use environment setup, useful functions and utilities for tutorials. \n",
        "- You can checkout the [```langchain-opentutorial```](https://github.com/LangChain-OpenTutorial/langchain-opentutorial-pypi) for more details."
      ]
    },
    {
      "cell_type": "code",
      "execution_count": 1,
      "id": "21943adb",
      "metadata": {},
      "outputs": [],
      "source": [
        "%%capture --no-stderr\n",
        "%pip install langchain-opentutorial"
      ]
    },
    {
      "cell_type": "code",
      "execution_count": 2,
      "id": "f25ec196",
      "metadata": {},
      "outputs": [],
      "source": [
        "# Install required packages\n",
        "from langchain_opentutorial import package\n",
        "\n",
        "package.install(\n",
        "    [\n",
        "        \"langsmith\",\n",
        "        \"langchain\",\n",
        "        \"langchain_core\",\n",
        "        \"langchain_openai\",\n",
        "    ],\n",
        "    verbose=False,\n",
        "    upgrade=False,\n",
        ")"
      ]
    },
    {
      "cell_type": "code",
      "execution_count": 3,
      "id": "7f9065ea",
      "metadata": {},
      "outputs": [
        {
          "name": "stdout",
          "output_type": "stream",
          "text": [
            "Environment variables have been set successfully.\n"
          ]
        }
      ],
      "source": [
        "# Set environment variables\n",
        "from langchain_opentutorial import set_env\n",
        "\n",
        "set_env(\n",
        "    {\n",
        "        \"OPENAI_API_KEY\": \"\",\n",
        "        \"LANGCHAIN_API_KEY\": \"\",\n",
        "        \"LANGCHAIN_TRACING_V2\": \"true\",\n",
        "        \"LANGCHAIN_ENDPOINT\": \"https://api.smith.langchain.com\",\n",
        "        \"LANGCHAIN_PROJECT\": \"04-JsonOutputParser\",\n",
        "    }\n",
        ")"
      ]
    },
    {
      "cell_type": "markdown",
      "id": "690a9ae0",
      "metadata": {},
      "source": [
        "You can alternatively set ```OPENAI_API_KEY``` in ```.env``` file and load it.  \n",
        "**[Note]** This is not necessary if your've already set ```OPENAI_API_KEY``` in previous steps."
      ]
    },
    {
      "cell_type": "code",
      "execution_count": null,
      "id": "4f99b5b6",
      "metadata": {},
      "outputs": [
        {
          "data": {
            "text/plain": [
              "True"
            ]
          },
          "execution_count": 4,
          "metadata": {},
          "output_type": "execute_result"
        }
      ],
      "source": [
        "from dotenv import load_dotenv\n",
        "\n",
        "load_dotenv(override=True)"
      ]
    },
    {
      "cell_type": "markdown",
      "id": "aa00c3f4",
      "metadata": {},
      "source": [
        "## Using ```JsonOutputParser``` with ```Pydantic```\n",
        "\n",
        "If you need to generate output in JSON format, you can easily implement it using LangChain's ```JsonOutputParser```. There are 2 ways to generate output in JSON format: \n",
        "\n",
        "- Using ```Pydantic```\n",
        "- Not using ```Pydantic```\n",
        "\n",
        "Follow the steps below to implement it:"
      ]
    },
    {
      "cell_type": "markdown",
      "id": "5a3ae580",
      "metadata": {},
      "source": [
        "Start by importing the necessary modules."
      ]
    },
    {
      "cell_type": "code",
      "execution_count": 5,
      "id": "69cb77da",
      "metadata": {},
      "outputs": [],
      "source": [
        "from langchain_core.prompts import ChatPromptTemplate\n",
        "from langchain_core.output_parsers import JsonOutputParser\n",
        "from langchain_openai import ChatOpenAI\n",
        "from pydantic import BaseModel, Field"
      ]
    },
    {
      "cell_type": "code",
      "execution_count": 6,
      "id": "050c4e7f",
      "metadata": {},
      "outputs": [],
      "source": [
        "# Create an OpenAI object\n",
        "model = ChatOpenAI(temperature=0, model_name=\"gpt-4o\")"
      ]
    },
    {
      "cell_type": "markdown",
      "id": "445b2227",
      "metadata": {},
      "source": [
        "Define the output data schema format."
      ]
    },
    {
      "cell_type": "code",
      "execution_count": 7,
      "id": "8930fea7",
      "metadata": {},
      "outputs": [],
      "source": [
        "# Use Pydantic to define the data schema for the output format.\n",
        "class Topic(BaseModel):\n",
        "    description: str = Field(description=\"A concise description of the topic\")\n",
        "    hashtags: str = Field(description=\"Keywords in hashtag format (at least 2)\")"
      ]
    },
    {
      "cell_type": "markdown",
      "id": "7b85feeb",
      "metadata": {},
      "source": [
        "Set up the parser using ```JsonOutputParser``` and inject instructions into the prompt template."
      ]
    },
    {
      "cell_type": "code",
      "execution_count": 8,
      "id": "18af8ca9",
      "metadata": {},
      "outputs": [
        {
          "name": "stdout",
          "output_type": "stream",
          "text": [
            "The output should be formatted as a JSON instance that conforms to the JSON schema below.\n",
            "\n",
            "As an example, for the schema {\"properties\": {\"foo\": {\"title\": \"Foo\", \"description\": \"a list of strings\", \"type\": \"array\", \"items\": {\"type\": \"string\"}}}, \"required\": [\"foo\"]}\n",
            "the object {\"foo\": [\"bar\", \"baz\"]} is a well-formatted instance of the schema. The object {\"properties\": {\"foo\": [\"bar\", \"baz\"]}} is not well-formatted.\n",
            "\n",
            "Here is the output schema:\n",
            "```\n",
            "{\"properties\": {\"description\": {\"description\": \"A concise description of the topic\", \"title\": \"Description\", \"type\": \"string\"}, \"hashtags\": {\"description\": \"Keywords in hashtag format (at least 2)\", \"title\": \"Hashtags\", \"type\": \"string\"}}, \"required\": [\"description\", \"hashtags\"]}\n",
            "```\n"
          ]
        }
      ],
      "source": [
        "# Write your question\n",
        "question = \"Please explain the severity of global warming.\"\n",
        "\n",
        "# Set up the parser and inject the instructions into the prompt template.\n",
        "parser = JsonOutputParser(pydantic_object=Topic)\n",
        "print(parser.get_format_instructions())"
      ]
    },
    {
      "cell_type": "code",
      "execution_count": 9,
      "id": "e31692c3",
      "metadata": {},
      "outputs": [],
      "source": [
        "# Set up the prompt template\n",
        "prompt = ChatPromptTemplate.from_messages(\n",
        "    [\n",
        "        (\"system\", \"You are a friendly AI assistant. Answer questions concisely.\"),\n",
        "        (\"user\", \"#Format: {format_instructions}\\n\\n#Question: {question}\"),\n",
        "    ]\n",
        ")\n",
        "\n",
        "prompt = prompt.partial(format_instructions=parser.get_format_instructions())\n",
        "\n",
        "# Combine the prompt, model, and JsonOutputParser into a chain\n",
        "chain = prompt | model | parser\n",
        "\n",
        "# Run the chain with your question\n",
        "answer = chain.invoke({\"question\": question})"
      ]
    },
    {
      "cell_type": "code",
      "execution_count": 10,
      "id": "c9209db8",
      "metadata": {},
      "outputs": [
        {
          "data": {
            "text/plain": [
              "dict"
            ]
          },
          "execution_count": 10,
          "metadata": {},
          "output_type": "execute_result"
        }
      ],
      "source": [
        "# Check the type.\n",
        "type(answer)"
      ]
    },
    {
      "cell_type": "code",
      "execution_count": 11,
      "id": "8bd13f8f",
      "metadata": {},
      "outputs": [
        {
          "data": {
            "text/plain": [
              "{'description': \"Global warming is a critical environmental issue characterized by the increase in Earth's average surface temperature due to rising levels of greenhouse gases. It leads to severe weather changes, rising sea levels, and impacts on biodiversity and human life.\",\n",
              " 'hashtags': '#GlobalWarming #ClimateChange #EnvironmentalImpact'}"
            ]
          },
          "execution_count": 11,
          "metadata": {},
          "output_type": "execute_result"
        }
      ],
      "source": [
        "# Output the answer object.\n",
        "answer"
      ]
    },
    {
      "cell_type": "markdown",
      "id": "2b2fc536",
      "metadata": {},
      "source": [
        "## Using ```JsonOutputParser``` without ```Pydantic```\n",
        "\n",
        "You can generate output in JSON format without ```Pydantic```. \n",
        "\n",
        "Follow the steps below to implement it:"
      ]
    },
    {
      "cell_type": "code",
      "execution_count": 12,
      "id": "1b78d33f",
      "metadata": {},
      "outputs": [
        {
          "name": "stdout",
          "output_type": "stream",
          "text": [
            "{'description': \"Global warming refers to the long-term increase in Earth's average surface temperature due to human activities, primarily the emission of greenhouse gases like carbon dioxide, methane, and nitrous oxide. These emissions result from burning fossil fuels, deforestation, and industrial processes, leading to the greenhouse effect, where heat is trapped in the atmosphere. This warming has significant impacts on weather patterns, sea levels, and ecosystems, contributing to climate change and posing risks to biodiversity and human societies.\", 'hashtags': ['#GlobalWarming', '#ClimateChange', '#GreenhouseGases', '#CarbonEmissions', '#FossilFuels', '#Deforestation', '#Sustainability', '#EnvironmentalImpact']}\n"
          ]
        }
      ],
      "source": [
        "# Write your question\n",
        "question = \"Please provide information about global warming. Include the explanation in description and the related keywords in `hashtags`.\"\n",
        "\n",
        "# Initialize JsonOutputParser\n",
        "parser = JsonOutputParser()\n",
        "\n",
        "# Set up the prompt template\n",
        "prompt = ChatPromptTemplate.from_messages(\n",
        "    [\n",
        "        (\"system\", \"You are a friendly AI assistant. Answer questions concisely.\"),\n",
        "        (\"user\", \"#Format: {format_instructions}\\n\\n#Question: {question}\"),\n",
        "    ]\n",
        ")\n",
        "\n",
        "# Inject instruction to prompt\n",
        "prompt = prompt.partial(format_instructions=parser.get_format_instructions())\n",
        "\n",
        "# Combine the prompt, model, and JsonOutputParser into a chain\n",
        "chain = prompt | model | parser\n",
        "\n",
        "# Run the chain with your question\n",
        "response = chain.invoke({\"question\": question})\n",
        "print(response)"
      ]
    }
  ],
  "metadata": {
    "kernelspec": {
      "display_name": "langchain-opentutorial-qKdKAbLU-py3.11",
      "language": "python",
      "name": "python3"
    },
    "language_info": {
      "codemirror_mode": {
        "name": "ipython",
        "version": 3
      },
      "file_extension": ".py",
      "mimetype": "text/x-python",
      "name": "python",
      "nbconvert_exporter": "python",
      "pygments_lexer": "ipython3",
      "version": "3.11.9"
    }
  },
  "nbformat": 4,
  "nbformat_minor": 5
}
