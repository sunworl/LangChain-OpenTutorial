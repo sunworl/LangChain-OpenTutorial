{
  "cells": [
    {
      "cell_type": "markdown",
      "id": "635d8ebb",
      "metadata": {},
      "source": [
        "# Document & Document Loader\n",
        "\n",
        "- Author: [Jaemin Hong](https://github.com/geminii01)\n",
        "- Peer Review : [Taylor(Jihyun Kim)](https://github.com/Taylor0819), [Yejin Park](https://github.com/ppakyeah)\n",
        "- This is a part of [LangChain Open Tutorial](https://github.com/LangChain-OpenTutorial/LangChain-OpenTutorial)\n",
        "\n",
        "[![Open in Colab](https://colab.research.google.com/assets/colab-badge.svg)](https://colab.research.google.com/github/LangChain-OpenTutorial/LangChain-OpenTutorial/blob/main/06-DocumentLoader/01-DocumentLoader.ipynb) [![Open in GitHub](https://img.shields.io/badge/Open%20in%20GitHub-181717?style=flat-square&logo=github&logoColor=white)](https://github.com/LangChain-OpenTutorial/LangChain-OpenTutorial/blob/main/06-DocumentLoader/01-DocumentLoader.ipynb)\n",
        "\n",
        "## Overview\n",
        "\n",
        "This tutorial covers the fundamental methods for loading Documents.\n",
        "\n",
        "By completing this tutorial, you will learn how to load Documents and check their content and associated metadata.\n",
        "\n",
        "### Table of Contents\n",
        "\n",
        "- [Overview](#overview)\n",
        "- [Environment Setup](#environment-setup)\n",
        "- [Document](#document)\n",
        "- [Document Loader](#document-loader)\n",
        "\n",
        "### References\n",
        "\n",
        "- [Document](https://python.langchain.com/api_reference/core/documents/langchain_core.documents.base.Document.html)\n",
        "- [Load Documents](https://python.langchain.com/api_reference/core/document_loaders/langchain_core.document_loaders.base.BaseLoader.html#langchain_core.document_loaders.base.BaseLoader)\n",
        "----"
      ]
    },
    {
      "cell_type": "markdown",
      "id": "c6c7aba4",
      "metadata": {},
      "source": [
        "## Environment Setup\n",
        "\n",
        "Set up the environment. You may refer to [Environment Setup](https://wikidocs.net/257836) for more details.\n",
        "\n",
        "**[Note]**\n",
        "- `langchain-opentutorial` is a package that provides a set of easy-to-use environment setup, useful functions and utilities for tutorials. \n",
        "- You can check out the [`langchain-opentutorial`](https://github.com/LangChain-OpenTutorial/langchain-opentutorial-pypi) for more details."
      ]
    },
    {
      "cell_type": "code",
      "execution_count": 1,
      "id": "21943adb",
      "metadata": {},
      "outputs": [],
      "source": [
        "%%capture --no-stderr\n",
        "%pip install langchain-opentutorial"
      ]
    },
    {
      "cell_type": "code",
      "execution_count": 2,
      "id": "f25ec196",
      "metadata": {},
      "outputs": [],
      "source": [
        "# Install required packages\n",
        "from langchain_opentutorial import package\n",
        "\n",
        "package.install(\n",
        "    [\n",
        "        \"langsmith\",\n",
        "        \"langchain_core\",\n",
        "        \"langchain_community\",\n",
        "        \"langchain_text_splitters\",\n",
        "        \"pypdf\",\n",
        "    ],\n",
        "    verbose=False,\n",
        "    upgrade=False,\n",
        ")"
      ]
    },
    {
      "cell_type": "code",
      "execution_count": 3,
      "id": "7f9065ea",
      "metadata": {},
      "outputs": [
        {
          "name": "stdout",
          "output_type": "stream",
          "text": [
            "Environment variables have been set successfully.\n"
          ]
        }
      ],
      "source": [
        "# Set environment variables\n",
        "from langchain_opentutorial import set_env\n",
        "\n",
        "set_env(\n",
        "    {\n",
        "        \"OPENAI_API_KEY\": \"\",\n",
        "        \"LANGCHAIN_API_KEY\": \"\",\n",
        "        \"LANGCHAIN_TRACING_V2\": \"true\",\n",
        "        \"LANGCHAIN_ENDPOINT\": \"https://api.smith.langchain.com\",\n",
        "        \"LANGCHAIN_PROJECT\": \"01-DocumentLoader\",\n",
        "    }\n",
        ")"
      ]
    },
    {
      "cell_type": "markdown",
      "id": "83a1df6b",
      "metadata": {},
      "source": [
        "You can alternatively set API keys such as `OPENAI_API_KEY` in a `.env` file and load them.\n",
        "\n",
        "[Note] This is not necessary if you've already set the required API keys in previous steps."
      ]
    },
    {
      "cell_type": "code",
      "execution_count": 4,
      "id": "4f99b5b6",
      "metadata": {},
      "outputs": [
        {
          "data": {
            "text/plain": [
              "True"
            ]
          },
          "execution_count": 4,
          "metadata": {},
          "output_type": "execute_result"
        }
      ],
      "source": [
        "# Load API keys from .env file\n",
        "from dotenv import load_dotenv\n",
        "\n",
        "load_dotenv(override=True)"
      ]
    },
    {
      "cell_type": "markdown",
      "id": "aa00c3f4",
      "metadata": {},
      "source": [
        "## Document\n",
        "\n",
        "Class for storing a piece of text and its associated metadata.\n",
        "\n",
        "- `page_content` (Required): Stores a piece of text as a string.\n",
        "- `metadata` (Optional): Stores metadata related to `page_content` as a dictionary."
      ]
    },
    {
      "cell_type": "code",
      "execution_count": 5,
      "id": "69cb77da",
      "metadata": {},
      "outputs": [
        {
          "data": {
            "text/plain": [
              "{'id': None,\n",
              " 'metadata': {},\n",
              " 'page_content': 'Hello, welcome to LangChain Open Tutorial!',\n",
              " 'type': 'Document'}"
            ]
          },
          "execution_count": 5,
          "metadata": {},
          "output_type": "execute_result"
        }
      ],
      "source": [
        "from langchain_core.documents import Document\n",
        "\n",
        "document = Document(page_content=\"Hello, welcome to LangChain Open Tutorial!\")\n",
        "\n",
        "# Check the attributes using __dict__\n",
        "document.__dict__"
      ]
    },
    {
      "cell_type": "markdown",
      "id": "95bbfbd9",
      "metadata": {},
      "source": [
        "The metadata is empty. Let's add some values."
      ]
    },
    {
      "cell_type": "code",
      "execution_count": 6,
      "id": "838f297b",
      "metadata": {},
      "outputs": [
        {
          "data": {
            "text/plain": [
              "{'source': './example-file.pdf', 'page': 0}"
            ]
          },
          "execution_count": 6,
          "metadata": {},
          "output_type": "execute_result"
        }
      ],
      "source": [
        "# Add metadata\n",
        "document.metadata[\"source\"] = \"./example-file.pdf\"\n",
        "document.metadata[\"page\"] = 0\n",
        "\n",
        "# Check metadata\n",
        "document.metadata"
      ]
    },
    {
      "cell_type": "markdown",
      "id": "81057073",
      "metadata": {},
      "source": [
        "## Document Loader\n",
        "\n",
        "Document Loader is a class that loads Documents from various sources.\n",
        "\n",
        "Listed below are some examples of Document Loaders.\n",
        "\n",
        "- `PyPDFLoader`: Loads PDF files\n",
        "- `CSVLoader`: Loads CSV files\n",
        "- `UnstructuredHTMLLoader`: Loads HTML files\n",
        "- `JSONLoader`: Loads JSON files\n",
        "- `TextLoader`: Loads text files\n",
        "- `DirectoryLoader`: Loads documents from a directory"
      ]
    },
    {
      "cell_type": "markdown",
      "id": "9a8531ee",
      "metadata": {},
      "source": [
        "Now, let's learn how to load Documents ."
      ]
    },
    {
      "cell_type": "code",
      "execution_count": 7,
      "id": "4ddeb585",
      "metadata": {},
      "outputs": [],
      "source": [
        "# Example file path\n",
        "FILE_PATH = \"./data/01-document-loader-sample.pdf\""
      ]
    },
    {
      "cell_type": "code",
      "execution_count": 8,
      "id": "d2de758b",
      "metadata": {},
      "outputs": [],
      "source": [
        "from langchain_community.document_loaders import PyPDFLoader\n",
        "\n",
        "# Set up the loader\n",
        "loader = PyPDFLoader(FILE_PATH)"
      ]
    },
    {
      "cell_type": "markdown",
      "id": "62fe6355",
      "metadata": {},
      "source": [
        "### `load()`\n",
        "\n",
        "- Loads Documents and returns them as a `list[Document]`."
      ]
    },
    {
      "cell_type": "code",
      "execution_count": 9,
      "id": "c9fd2af3",
      "metadata": {},
      "outputs": [],
      "source": [
        "# Load Documents\n",
        "docs = loader.load()"
      ]
    },
    {
      "cell_type": "code",
      "execution_count": 10,
      "id": "5f88fc7d",
      "metadata": {},
      "outputs": [
        {
          "data": {
            "text/plain": [
              "48"
            ]
          },
          "execution_count": 10,
          "metadata": {},
          "output_type": "execute_result"
        }
      ],
      "source": [
        "# Check the number of loaded Documents\n",
        "len(docs)"
      ]
    },
    {
      "cell_type": "code",
      "execution_count": 11,
      "id": "e3dcbd75",
      "metadata": {},
      "outputs": [
        {
          "data": {
            "text/plain": [
              "[Document(metadata={'source': './data/01-document-loader-sample.pdf', 'page': 0}, page_content=' \\n \\n \\nOctober  2016 \\n \\n \\n \\n \\n \\n \\n \\n \\n \\nTHE NATIONAL  \\nARTIFICIAL INTELLIGENCE \\nRESEARCH AND DEVELOPMENT \\nSTRATEGIC PLAN  \\nNational Science and Technology Council  \\n \\nNetworking and Information Technology \\nResearch and Development Subcommittee  \\n '),\n",
              " Document(metadata={'source': './data/01-document-loader-sample.pdf', 'page': 1}, page_content=' ii  \\n '),\n",
              " Document(metadata={'source': './data/01-document-loader-sample.pdf', 'page': 2}, page_content=' \\n  \\n iii About the National Science and Technology Council  \\nThe National Science and Technology Council (NSTC) is the principal means by which the Executive \\nBranch coordinates science and technology policy across the diverse entities that make up the Federal \\nresearch and development (R&D) enterprise . One of the NSTC’s primary objectives is establishing clear \\nnational goal s for Federal science and technology investments . The NSTC prepares R&D packages aimed \\nat accomplishing multiple national goals . The NSTC’s work is organized under five committees: \\nEnvironment, Natural Resources, and Sustainability; Homeland and National S ecurity; Science, \\nTechnology, Engineering, and Mathematics (STEM) Education; Science; and Technology . Each of these \\ncommittees oversees subcommittees and working groups that are focused on different aspects of \\nscience and technology . More information is available at  www.whitehouse.gov/ostp/nstc . \\nAbout the Office of Science and Technology Policy  \\nThe Office of Science and Technology Policy (OSTP) was established by the National Science and \\nTechnology Policy, Organization, and Priorities Act of 1976 . The mission of OSTP is threefold; first, to \\nprovide the President and his senior staff with accurate, relevant, and timely scientific and technical advice \\non all matters of consequence; second, to ensure th at the policies of the Executive Branch are informed by \\nsound science; and third, to ensure that the scientific and technical work of the Executive Branch is \\nproperly coordinated so as to provide the greatest benefit to society.  The Director of OSTP also s erves as \\nAssistant to the President for Science and Technology and manages the NSTC . More information is \\navailable at www.whitehouse.gov/ostp . \\nAbout the Subcommittee on Networking and Information Technology  Research and \\nDevelopment  \\nThe Subcommittee on Networking and Information Technology Research and Development (NITRD) is a \\nbody under the Committee on Technology (CoT ) of the National Science and Technology Council (NSTC). \\nThe NITRD Subcommittee coordinates multiagency research and development programs to help assure \\ncontinued U.S. leadership in networking and information technology, satisfy the needs of the Federal \\nGovernment for advanced networking and information technology, and accelerate development and \\ndeployment of advanced networking and information technology. It also implements relevant provisions \\nof the High -Performance Computing Act of 1991 (P.L. 102 -194), a s amended by the Next Generation \\nInternet Research Act of 1998 (P. L. 105 -305), and the America Creating Opportunities to Meaningfully \\nPromote Excellence in Technology, Education and Science (COMPETES) Act of 2007 (P.L. 110 -69). For \\nmore information, see www.nitrd.gov . \\nAcknowledgments  \\nThis document was developed through the contributions of the members and staff of the NITRD Task \\nForce on Artificial Intelligence. A special thanks and appreciation to additional contribut ors who helped \\nwrite, edit, and review the document: Chaitan Baru (NSF), Eric Daimler (Presidential Innovation Fellow), \\nRonald Ferguson (DoD), Nancy Forbes (NITRD), Eric Harder (DHS), Erin Kenneally (DHS), Dai Kim (DoD), \\nTatiana Korelsky (NSF), David Kuehn  (DOT), Terence Langendoen (NSF), Peter Lyster (NITRD), KC Morris \\n(NIST), Hector Munoz -Avila (NSF), Thomas Rindflesch (NIH), Craig Schlenoff (NIST), Donald Sofge (NRL) , \\nand Sylvia Spengler (NSF).  \\n  '),\n",
              " Document(metadata={'source': './data/01-document-loader-sample.pdf', 'page': 3}, page_content=' \\n  \\n iv Copyright Information  \\nThis is a work of the U.S. Government and is in the public domain. It may be freely distributed, copied, \\nand translated; acknowledgment of publication by the Office of Science and Technology Policy  is \\nappreciated. Any translation should include a disclaime r that the accuracy of the translation is the \\nresponsibility of the translator and not OSTP . It is requested that a copy of any translation be sent to \\nOSTP . This work is available for worldwide use and reuse and under the Creative Commons CC0 1.0 \\nUniversal  license.  \\n  '),\n",
              " Document(metadata={'source': './data/01-document-loader-sample.pdf', 'page': 4}, page_content=''),\n",
              " Document(metadata={'source': './data/01-document-loader-sample.pdf', 'page': 5}, page_content=' \\n  \\n vi  \\n  '),\n",
              " Document(metadata={'source': './data/01-document-loader-sample.pdf', 'page': 6}, page_content=' \\n  \\n vii National Science and Technology Council  \\nChair  \\nJohn P. Holdren  \\nAssistant to the President for Science and \\nTechnology and Director, Office of Science and \\nTechnology PolicyStaff  \\nAfua Bruce  \\nExecutive  Director  \\nOffice of Science and Technology  Policy  \\nSubcommittee on  \\nMachine Learning and Artificial Intelligence  \\nCo-Chair  \\nEd Felten  \\nDeputy U.S. Chief Technology Officer  \\nOffice of Science and Technology Policy  \\n Co-Chair  \\nMichael Garris  \\nSenior Scientist  \\nNational Institute of Standards and Technology  \\nU.S. Department of Commerce  \\nSubcommittee on  \\nNetworking and Information Technology Research and Development  \\nCo-Chair  \\nBryan Biegel  \\nDirector, National C oordination Office for  \\nNetworking and Information Technology  \\nResearch and Development  Co-Chair  \\nJames Kurose  \\nAssistant Director, Computer and Information \\nScience and Engineering  \\nNational Science Foundation  \\nNetworking and Information Technology Research and Development  \\nTask Force on Artificial Intelligence  \\n \\nCo-Chair  \\nLynne Parker  \\nDivision Director  \\nInformation and Intelligent System s \\nNational Science Foundation  Co-Chair  \\nJason Matheny  \\nDirector  \\nIntelligence Advanced Research Projects Activity   \\n \\nMembers   \\nMilton Corn  \\nNational Institutes of Health   \\nNikunj Oza  \\nNational Aeronautics and Space Administration  \\nWilliam Ford  \\nNational Institute of Justice  Robinson Pino  \\nDepartment of Energy  \\nMichael Garris  \\nNational Institute of Standards  and Technology  Gregory Shannon  \\nOffice of Science and Technology Policy  \\nSteven Knox  \\nNational Security Agency  Scott Tousley  \\nDepartment of Homeland Security  '),\n",
              " Document(metadata={'source': './data/01-document-loader-sample.pdf', 'page': 7}, page_content=' \\nviii \\n John Launchbury  \\nDefense Advanced Research Projects Agency  Faisal D’Souza  \\nTechnical Coordinator  \\nNational Coordination Office for Networking and \\nInformation Technology Research and Development  Richard Linderman  \\nOffice of the Secretary of Defense  \\n '),\n",
              " Document(metadata={'source': './data/01-document-loader-sample.pdf', 'page': 8}, page_content='NATIONAL ARTIFICIAL INTELLIGENCE RESEARCH AND DEVELOPMENT STRATEGIC PLAN  \\n \\n 1 Contents  \\nAbout the National Science and Technology Council  ................................ ................................ ..........................  iii \\nAbout the Office of Science and Technology Policy  ................................ ................................ ............................  iii \\nAbout the Subcommittee on Networking and Information Technology Research and Development  ................  iii \\nAcknowledgments  ................................ ................................ ................................ ................................ ...............  iii \\nCopyright Information  ................................ ................................ ................................ ................................ .......... iv \\nNational Science and Technology Council  ................................ ................................ ................................ ...........  vii \\nSubcommittee on Machine Learning and Artificial Intelligence  ................................ ................................ ..........  vii \\nSubcommittee on Networking and Information Technology Research and Development  ................................ . vii \\nTask Force on  Artificial Intelligence  ................................ ................................ ................................ .....................  vii \\nExecutive Summary  ................................ ................................ ................................ ................................ ...................  3 \\nIntroduction  ................................ ................................ ................................ ................................ ...............................  5 \\nPurpose of the National AI R&D Strategic Plan  ................................ ................................ ................................  5 \\nDesired Outcome  ................................ ................................ ................................ ................................ .............  7 \\nA Vision for Advancing our National Priorities with AI  ................................ ................................ ....................  8 \\nCurrent State of AI ................................ ................................ ................................ ................................ ..........  12 \\nR&D Strategy  ................................ ................................ ................................ ................................ ...........................  15 \\nStrategy 1: Make  Long-Term Investments in AI Research  ................................ ................................ .............  16 \\nStrategy 2: Develop Effective Methods for Human -AI Collaboration   ................................ ...........................  22 \\nStrategy 3 : Understand and Address the Ethical, Le gal, and Societal Implications of AI  ...............................  26 \\nStrategy 4 : Ensure the Safety and Security of AI Systems  ................................ ................................ ..............  27 \\nStrategy 5: Develop Shared Public Datasets and Environments for AI Training and Testing  .........................  30 \\nStrategy 6: Measure and Evaluate AI Technologies through Standards and Benchmarks .............................  32 \\nStrategy 7 : Better Understand the National AI R&D Workforce Needs  ................................ .........................  35 \\nRecommendations  ................................ ................................ ................................ ................................ ...................  37 \\nAcronyms  ................................ ................................ ................................ ................................ ................................ . 39 '),\n",
              " Document(metadata={'source': './data/01-document-loader-sample.pdf', 'page': 9}, page_content='NATIONAL ARTIFICIAL INTELLIGENCE RESEARCH AND DEVELOPMENT STRATEGIC PLAN  \\n \\n 2   ')]"
            ]
          },
          "execution_count": 11,
          "metadata": {},
          "output_type": "execute_result"
        }
      ],
      "source": [
        "# Check Documents\n",
        "docs[0:10]"
      ]
    },
    {
      "cell_type": "markdown",
      "id": "d4a23e2c",
      "metadata": {},
      "source": [
        "### `aload()`\n",
        "\n",
        "- Asynchronously loads Documents and returns them as a `list[Document]`."
      ]
    },
    {
      "cell_type": "code",
      "execution_count": 12,
      "id": "7541b1c3",
      "metadata": {},
      "outputs": [],
      "source": [
        "# Load Documents asynchronously\n",
        "docs = await loader.aload()"
      ]
    },
    {
      "cell_type": "markdown",
      "id": "f7aa2885",
      "metadata": {},
      "source": [
        "### `load_and_split()`\n",
        "\n",
        "- Loads Documents and automatically splits them into chunks using TextSplitter , and returns them as a `list[Document]`."
      ]
    },
    {
      "cell_type": "code",
      "execution_count": 13,
      "id": "1773f6f4",
      "metadata": {},
      "outputs": [],
      "source": [
        "from langchain_text_splitters import RecursiveCharacterTextSplitter\n",
        "\n",
        "# Set up the TextSplitter\n",
        "text_splitter = RecursiveCharacterTextSplitter(chunk_size=128, chunk_overlap=0)\n",
        "\n",
        "# Split Documents into chunks\n",
        "docs = loader.load_and_split(text_splitter=text_splitter)"
      ]
    },
    {
      "cell_type": "code",
      "execution_count": 14,
      "id": "7c565b98",
      "metadata": {},
      "outputs": [
        {
          "data": {
            "text/plain": [
              "1441"
            ]
          },
          "execution_count": 14,
          "metadata": {},
          "output_type": "execute_result"
        }
      ],
      "source": [
        "# Check the number of loaded Documents\n",
        "len(docs)"
      ]
    },
    {
      "cell_type": "code",
      "execution_count": 15,
      "id": "daad3b83",
      "metadata": {},
      "outputs": [
        {
          "data": {
            "text/plain": [
              "[Document(metadata={'source': './data/01-document-loader-sample.pdf', 'page': 0}, page_content='October  2016 \\n \\n \\n \\n \\n \\n \\n \\n \\n \\nTHE NATIONAL  \\nARTIFICIAL INTELLIGENCE \\nRESEARCH AND DEVELOPMENT \\nSTRATEGIC PLAN'),\n",
              " Document(metadata={'source': './data/01-document-loader-sample.pdf', 'page': 0}, page_content='National Science and Technology Council  \\n \\nNetworking and Information Technology \\nResearch and Development Subcommittee'),\n",
              " Document(metadata={'source': './data/01-document-loader-sample.pdf', 'page': 1}, page_content='ii'),\n",
              " Document(metadata={'source': './data/01-document-loader-sample.pdf', 'page': 2}, page_content='iii About the National Science and Technology Council'),\n",
              " Document(metadata={'source': './data/01-document-loader-sample.pdf', 'page': 2}, page_content='The National Science and Technology Council (NSTC) is the principal means by which the Executive'),\n",
              " Document(metadata={'source': './data/01-document-loader-sample.pdf', 'page': 2}, page_content='Branch coordinates science and technology policy across the diverse entities that make up the Federal'),\n",
              " Document(metadata={'source': './data/01-document-loader-sample.pdf', 'page': 2}, page_content='research and development (R&D) enterprise . One of the NSTC’s primary objectives is establishing clear'),\n",
              " Document(metadata={'source': './data/01-document-loader-sample.pdf', 'page': 2}, page_content='national goal s for Federal science and technology investments . The NSTC prepares R&D packages aimed'),\n",
              " Document(metadata={'source': './data/01-document-loader-sample.pdf', 'page': 2}, page_content='at accomplishing multiple national goals . The NSTC’s work is organized under five committees:'),\n",
              " Document(metadata={'source': './data/01-document-loader-sample.pdf', 'page': 2}, page_content='Environment, Natural Resources, and Sustainability; Homeland and National S ecurity; Science,')]"
            ]
          },
          "execution_count": 15,
          "metadata": {},
          "output_type": "execute_result"
        }
      ],
      "source": [
        "# Check Documents\n",
        "docs[0:10]"
      ]
    },
    {
      "cell_type": "markdown",
      "id": "0380ecf7",
      "metadata": {},
      "source": [
        "### `lazy_load()`\n",
        "\n",
        "- Loads Documents sequentially and returns them as an `Iterator[Document]`."
      ]
    },
    {
      "cell_type": "code",
      "execution_count": 16,
      "id": "19f15834",
      "metadata": {},
      "outputs": [
        {
          "data": {
            "text/plain": [
              "<generator object PyPDFLoader.lazy_load at 0x000001902A0117B0>"
            ]
          },
          "execution_count": 16,
          "metadata": {},
          "output_type": "execute_result"
        }
      ],
      "source": [
        "loader.lazy_load()"
      ]
    },
    {
      "cell_type": "markdown",
      "id": "bcfbab23",
      "metadata": {},
      "source": [
        "It can be observed that this method operates as a `generator`. This is a special type of iterator that produces values on-the-fly, without storing them all in memory at once."
      ]
    },
    {
      "cell_type": "code",
      "execution_count": 17,
      "id": "c825d1e1",
      "metadata": {},
      "outputs": [
        {
          "name": "stdout",
          "output_type": "stream",
          "text": [
            "{'source': './data/01-document-loader-sample.pdf', 'page': 0}\n"
          ]
        }
      ],
      "source": [
        "# Load Documents sequentially\n",
        "docs = loader.lazy_load()\n",
        "for doc in docs:\n",
        "    print(doc.metadata)\n",
        "    break  # Used to limit the output length"
      ]
    },
    {
      "cell_type": "markdown",
      "id": "bf69e6c3",
      "metadata": {},
      "source": [
        "### `alazy_load()`\n",
        "\n",
        "- Asynchronously loads Documents sequentially and returns them as an `AsyncIterator[Document]`."
      ]
    },
    {
      "cell_type": "code",
      "execution_count": 18,
      "id": "5ec31495",
      "metadata": {},
      "outputs": [
        {
          "data": {
            "text/plain": [
              "<async_generator object BaseLoader.alazy_load at 0x000001902A00B140>"
            ]
          },
          "execution_count": 18,
          "metadata": {},
          "output_type": "execute_result"
        }
      ],
      "source": [
        "loader.alazy_load()"
      ]
    },
    {
      "cell_type": "markdown",
      "id": "9039f4b9",
      "metadata": {},
      "source": [
        "It can be observed that this method operates as an `async_generator`. This is a special type of asynchronous iterator that produces values on-the-fly, without storing them all in memory at once."
      ]
    },
    {
      "cell_type": "code",
      "execution_count": 19,
      "id": "f8f1db31",
      "metadata": {},
      "outputs": [
        {
          "name": "stdout",
          "output_type": "stream",
          "text": [
            "{'source': './data/01-document-loader-sample.pdf', 'page': 0}\n"
          ]
        }
      ],
      "source": [
        "# Load Documents asynchronously and sequentially\n",
        "docs = loader.alazy_load()\n",
        "async for doc in docs:\n",
        "    print(doc.metadata)\n",
        "    break  # Used to limit the output length"
      ]
    }
  ],
  "metadata": {
    "kernelspec": {
      "display_name": "langchain-opentutorial-BzKcc7D4-py3.11",
      "language": "python",
      "name": "python3"
    },
    "language_info": {
      "codemirror_mode": {
        "name": "ipython",
        "version": 3
      },
      "file_extension": ".py",
      "mimetype": "text/x-python",
      "name": "python",
      "nbconvert_exporter": "python",
      "pygments_lexer": "ipython3",
      "version": "3.11.9"
    }
  },
  "nbformat": 4,
  "nbformat_minor": 5
}
